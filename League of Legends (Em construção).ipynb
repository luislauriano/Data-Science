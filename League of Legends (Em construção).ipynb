{
  "nbformat": 4,
  "nbformat_minor": 0,
  "metadata": {
    "colab": {
      "name": "Welcome To Colaboratory",
      "provenance": [],
      "collapsed_sections": [],
      "include_colab_link": true
    },
    "kernelspec": {
      "display_name": "Python 3",
      "name": "python3"
    }
  },
  "cells": [
    {
      "cell_type": "markdown",
      "metadata": {
        "id": "view-in-github",
        "colab_type": "text"
      },
      "source": [
        "<a href=\"https://colab.research.google.com/github/luislauriano/Data_Science/blob/master/League%20of%20Legends%20(Em%20constru%C3%A7%C3%A3o).ipynb\" target=\"_parent\"><img src=\"https://colab.research.google.com/assets/colab-badge.svg\" alt=\"Open In Colab\"/></a>"
      ]
    },
    {
      "cell_type": "markdown",
      "metadata": {
        "id": "9ICbNkHaCkLb",
        "colab_type": "text"
      },
      "source": [
        "# **Dicas do Meigarom (YTB)** "
      ]
    },
    {
      "cell_type": "markdown",
      "metadata": {
        "id": "c-zRU2VQCs_0",
        "colab_type": "text"
      },
      "source": [
        "Luis, vamos lá então.\n",
        "\n",
        "* O projeto que eu mais gostei foi o de Detecção de Cancer de Mama.\n",
        "* Para resolve qualquer projeto de ML você precisa de 10 passos e você fez 5 deles. Conferir os passos de um projeto de ML novamente\n",
        "* Gostei das suas explicações depois de cada código.\n",
        "* Você poderia ter feito uma análise estatística descritiva dos dados, para dar um visão geral dos dados, em termos de métricas estatísticas ( média, mediana, std, moda, … )\n",
        "* Você poderia ter feito mais análise exploratória de dados. Quais as features mais importantes para o modelo? Qual o impacto de cada feature na variável resposta?\n",
        "* Você poderia explicar porque usou StandardScaler nas Features. Porque padronizar os dados? O que isso ajuda no modelo?\n",
        "* Porque você usou LabelEncoder na variável resposta? O que isso traz de benefício?\n",
        "* Poderia explicar, porque voce usou Random Forest. Qual o motivo da sua escolha?\n",
        "* Explicar mais sobre as métricas, o que significa cada métrica? Qual das métricas eu deveria olhar? Todas? Apenas Uma?\n",
        "13h52\n",
        "* Vai se aprofundando nos projetos e procurando responder porque você está colocando cada coisa. Porque Random forest? Porque Analise Exploratoria? Porque StandarScaler? Para que serve a matrix de correlação?\n",
        "* Vai fazendo testes e tentando entender o real motivo de cada linha código que você coloca, e porque essa linha é importante e no que ela ajuda?"
      ]
    },
    {
      "cell_type": "markdown",
      "metadata": {
        "id": "brqjMHFoDLI7",
        "colab_type": "text"
      },
      "source": [
        "# **Etapas de um projeto para se seguir (Meigarom):**"
      ]
    },
    {
      "cell_type": "markdown",
      "metadata": {
        "id": "Phdknay7D_h6",
        "colab_type": "text"
      },
      "source": [
        "https://youtu.be/LJrK4B7bNWA?list=PLCJ0L1TIkO8Z6yDqh2QOS8nVHsxZEnFA-"
      ]
    },
    {
      "cell_type": "markdown",
      "metadata": {
        "id": "DlAT6v7DDPl1",
        "colab_type": "text"
      },
      "source": [
        "# **Projetos como base:**\n",
        "\n",
        "### Projeto do Rafael\n",
        "https://github.com/barbosarafael/Projetos/blob/master/iNeuron_Back_order_prediction_Notebook/hackaton_ineuron_back_order_prediction.ipynb\n",
        "\n",
        "### Projeto do Carlos Melo\n",
        "https://github.com/carlosfab/data_science/blob/master/Setembro_Amarelo.ipynb\n",
        "\n",
        "### Projeto do Cancer de Mama \n",
        "https://github.com/luislauriano/Data_Science/blob/master/Machine_Learning_para_Detec%C3%A7%C3%A3o_do_C%C3%A2ncer_de_Mama.ipynb"
      ]
    },
    {
      "cell_type": "markdown",
      "metadata": {
        "id": "h2L7rzDKEybm",
        "colab_type": "text"
      },
      "source": [
        "#**Referencias:**\n",
        "\n",
        "Limpeza e preparação dos dados: https://medium.com/@lucasoliveiras/limpeza-e-prepara%C3%A7%C3%A3o-dos-dados-com-pandas-856e844abfbb"
      ]
    },
    {
      "cell_type": "markdown",
      "metadata": {
        "id": "AOvL2aX9dtuy",
        "colab_type": "text"
      },
      "source": [
        "Escrever e detalhar o maximo e tudo possivel com calma. (Isso também vai ser importante para aprender)"
      ]
    },
    {
      "cell_type": "markdown",
      "metadata": {
        "id": "UPp3yh51EUiR",
        "colab_type": "text"
      },
      "source": [
        "___________________________________________________________________________________________________\n"
      ]
    },
    {
      "cell_type": "markdown",
      "metadata": {
        "id": "iBvJmFBlSJyY",
        "colab_type": "text"
      },
      "source": [
        "# **Como esse projeto em Data Science vai fazer você alcançar o diamante no League Of Legends**"
      ]
    },
    {
      "cell_type": "markdown",
      "metadata": {
        "id": "2NXfNBwvai9V",
        "colab_type": "text"
      },
      "source": [
        "contexto sobre o lol "
      ]
    },
    {
      "cell_type": "markdown",
      "metadata": {
        "id": "tYrmm_k1c6Qn",
        "colab_type": "text"
      },
      "source": [
        "# **Etapas do projeto**"
      ]
    },
    {
      "cell_type": "markdown",
      "metadata": {
        "id": "PgMwFTF8c9Xz",
        "colab_type": "text"
      },
      "source": [
        "* Coleta do dados \n",
        "1. Leitura do Arquivo\n",
        "2. Importar os pacotes e dataset necessários\n",
        "3. Dicionario dos dados\n",
        "* Limpeza e preparação dos dados\n",
        "1. Colocar as etapas da limpeza de acordo com o curso de manipulação dos dados e outros materiais\n",
        "* Exploração dos dados \n",
        "* Etapas do Machine Learning workflow"
      ]
    },
    {
      "cell_type": "markdown",
      "metadata": {
        "id": "9LFe4_zLc6Ow",
        "colab_type": "text"
      },
      "source": [
        "# **Coleta dos dados**\n",
        "\n"
      ]
    },
    {
      "cell_type": "markdown",
      "metadata": {
        "id": "GxWUAPc1erDS",
        "colab_type": "text"
      },
      "source": [
        "contexto"
      ]
    },
    {
      "cell_type": "markdown",
      "metadata": {
        "id": "2ltUNIuQf5_s",
        "colab_type": "text"
      },
      "source": [
        "Este conjunto de dados contém os primeiros 10 minutos. estatísticas de aprox. 10k jogos classificados (SOLO QUEUE) de um ELO alto (DIAMANTE I a MASTER). Os jogadores têm aproximadamente o mesmo nível.\n",
        "\n",
        "Cada jogo é único. O gameId pode ajudá-lo a buscar mais atributos da API do Riot.\n",
        "\n",
        "Existem 19 recursos por equipe (38 no total) coletados após 10 minutos no jogo. Isso inclui mortes, mortes, ouro, experiência, nível ... Depende de você fazer alguma engenharia de recursos para obter mais informações."
      ]
    },
    {
      "cell_type": "markdown",
      "metadata": {
        "colab_type": "text",
        "id": "s2j7anWpdj00"
      },
      "source": [
        "Conjunto de dados: https://www.kaggle.com/bobbyscience/league-of-legends-diamond-ranked-games-10-min"
      ]
    },
    {
      "cell_type": "markdown",
      "metadata": {
        "id": "WRLbh4Pceu_R",
        "colab_type": "text"
      },
      "source": [
        "## **Leitura do arquivo**"
      ]
    },
    {
      "cell_type": "markdown",
      "metadata": {
        "id": "sqKt9g1Pe5or",
        "colab_type": "text"
      },
      "source": [
        "contexto"
      ]
    },
    {
      "cell_type": "markdown",
      "metadata": {
        "id": "MPiYzdcTe76V",
        "colab_type": "text"
      },
      "source": [
        "## **Importar os pacotes e datasets necessário**"
      ]
    },
    {
      "cell_type": "markdown",
      "metadata": {
        "id": "EkIuPsuTe6cQ",
        "colab_type": "text"
      },
      "source": [
        "contexto"
      ]
    },
    {
      "cell_type": "code",
      "metadata": {
        "id": "wWAnGIM2fLh7",
        "colab_type": "code",
        "colab": {}
      },
      "source": [
        ""
      ],
      "execution_count": 0,
      "outputs": []
    },
    {
      "cell_type": "markdown",
      "metadata": {
        "id": "yvcNWmq-fOEe",
        "colab_type": "text"
      },
      "source": [
        ""
      ]
    },
    {
      "cell_type": "code",
      "metadata": {
        "id": "aJWPOeMifZyo",
        "colab_type": "code",
        "colab": {}
      },
      "source": [
        ""
      ],
      "execution_count": 0,
      "outputs": []
    },
    {
      "cell_type": "markdown",
      "metadata": {
        "id": "JaYklvPPfapV",
        "colab_type": "text"
      },
      "source": [
        "## **Dicionario dos dados**"
      ]
    },
    {
      "cell_type": "markdown",
      "metadata": {
        "id": "1Llikv6Sf-uU",
        "colab_type": "text"
      },
      "source": [
        "contexto"
      ]
    },
    {
      "cell_type": "markdown",
      "metadata": {
        "id": "onQRRsp_Lc1J",
        "colab_type": "text"
      },
      "source": [
        "A coluna blueWins é o valor de destino (o valor que estamos tentando prever). Um valor de 1 significa que a equipe azul venceu. 0 caso contrário.\n",
        "\n",
        "\n",
        "**Informações sobre os atributos**\n",
        "\n",
        "* Totem de proteção: Um item que um jogador pode colocar no mapa para revelar a área próxima. Muito útil para controle de mapa / objetivos.\n",
        "\n",
        "* Minions: NPC que pertence a ambas as equipes. Eles dão ouro quando mortos por jogadores.\n",
        "\n",
        "* Minions da selva: NPC que não pertence a nenhuma equipe. Eles dão ouro e buffs quando mortos pelos jogadores.\n",
        "\n",
        "* Monstros de elite: Monstros com alto hp / dano que dão um bônus enorme (ouro / XP / estatísticas) quando mortos por um time.\n",
        "\n",
        "* Dragões: monstro de elite que dá bônus ao time quando morto. O quarto dragão morto por uma equipe oferece um bônus de estatísticas massivo. O quinto dragão (Elder Dragon) oferece uma enorme vantagem para a equipe.\n",
        "\n",
        "* Arauto: Monstro de elite que dá bônus de estatísticas quando morto pelo jogador. Ajuda a empurrar uma pista e destrói estruturas.\n",
        "\n",
        "* Torres: Estruturas que você precisa destruir para alcançar o Nexus inimigo. Eles dão ouro.\n",
        "\n",
        "* Nível: Campeão. Comece em 1. Max é 18."
      ]
    },
    {
      "cell_type": "markdown",
      "metadata": {
        "id": "ydNaZxF9gU57",
        "colab_type": "text"
      },
      "source": [
        "# **Limpeza e preparação dos dados**"
      ]
    },
    {
      "cell_type": "code",
      "metadata": {
        "id": "PfiH42adgYnw",
        "colab_type": "code",
        "colab": {}
      },
      "source": [
        ""
      ],
      "execution_count": 0,
      "outputs": []
    }
  ]
}