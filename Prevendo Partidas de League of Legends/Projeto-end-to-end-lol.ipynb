{
  "nbformat": 4,
  "nbformat_minor": 0,
  "metadata": {
    "colab": {
      "name": "Untitled4.ipynb",
      "provenance": [],
      "authorship_tag": "ABX9TyMwBbbQ3USItJJoZlz8Zf07",
      "include_colab_link": true
    },
    "kernelspec": {
      "name": "python3",
      "display_name": "Python 3"
    },
    "language_info": {
      "name": "python"
    }
  },
  "cells": [
    {
      "cell_type": "markdown",
      "metadata": {
        "id": "view-in-github",
        "colab_type": "text"
      },
      "source": [
        "<a href=\"https://colab.research.google.com/github/luislauriano/Materiais-de-estudo/blob/master/Projeto-end-to-end-lol.ipynb\" target=\"_parent\"><img src=\"https://colab.research.google.com/assets/colab-badge.svg\" alt=\"Open In Colab\"/></a>"
      ]
    },
    {
      "cell_type": "markdown",
      "metadata": {
        "id": "Wf0riz2RSMjq"
      },
      "source": [
        "#**Projeto end-to-end League of Legends - Prevendo o resultado de partidas de League of Legends**\n",
        "\n"
      ]
    },
    {
      "cell_type": "markdown",
      "metadata": {
        "id": "Hcz0D5QiSXhD"
      },
      "source": [
        "1. Ideia: Prever a chance de voce vencer uma partida na seleção de campeão\n",
        "\n",
        "2. Dados: \n",
        "   - Kaggle\n",
        "   - Scraping\n",
        "\n",
        "3. Modelagem (Assistir aulas do minerando dados)\n",
        "\n",
        "4. Deploy (Assistir aulas do minerando dados)\n",
        "\n",
        "\n",
        "\n"
      ]
    },
    {
      "cell_type": "markdown",
      "metadata": {
        "id": "IAH_R237SZ7F"
      },
      "source": [
        "##**Ideia**\n",
        "https://youtu.be/5B2xIyKOnzc\n",
        "Prever partidas de lol e avisar ao jogador, antes dele entrar na partida.\n",
        "\n",
        "\n",
        "\n",
        "\n",
        "\n",
        "Aprender a raspar dados com Scrapy, mas também usar dados do kaggle se possivel."
      ]
    },
    {
      "cell_type": "markdown",
      "metadata": {
        "id": "kKipKJYnSe3Q"
      },
      "source": [
        "##**Dados**\n",
        "\n",
        "Banco de dados: Scrapy de sites estatisticos de lol (Op.gg), depois salvar no MongoDB.\n",
        "\n",
        "Ou utilizar dados baixados no computador.\n",
        "\n",
        "Ou salvo do kaggle (https://dev.to/allands/how-machine-learning-made-me-win-more-on-league-of-legends-3on5)"
      ]
    },
    {
      "cell_type": "markdown",
      "metadata": {
        "id": "kK8SX1tzSg7r"
      },
      "source": [
        "##**Modelagem**"
      ]
    },
    {
      "cell_type": "markdown",
      "metadata": {
        "id": "p-H9QugdSjR2"
      },
      "source": [
        "##**Deploy**"
      ]
    },
    {
      "cell_type": "markdown",
      "metadata": {
        "id": "TGwMjo6plEaq"
      },
      "source": [
        "##**Criar deep learning do lol com base no artigo e projeto**"
      ]
    },
    {
      "cell_type": "markdown",
      "metadata": {
        "id": "7vvMWUEIlJtx"
      },
      "source": [
        "https://ojs.aaai.org/index.php/AIIDE/article/view/7449/7348\n",
        "https://github.com/csci-599-applied-ml-for-games/league-of-legends-bot"
      ]
    },
    {
      "cell_type": "code",
      "metadata": {
        "id": "_1on67pMlJHF"
      },
      "source": [
        ""
      ],
      "execution_count": null,
      "outputs": []
    }
  ]
}