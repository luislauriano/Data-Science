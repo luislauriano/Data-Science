{
  "nbformat": 4,
  "nbformat_minor": 0,
  "metadata": {
    "colab": {
      "name": "Welcome To Colaboratory",
      "provenance": [],
      "collapsed_sections": [],
      "include_colab_link": true
    },
    "kernelspec": {
      "display_name": "Python 3",
      "name": "python3"
    }
  },
  "cells": [
    {
      "cell_type": "markdown",
      "metadata": {
        "id": "view-in-github",
        "colab_type": "text"
      },
      "source": [
        "<a href=\"https://colab.research.google.com/github/luislauriano/Data_Science/blob/master/Analise_de_dados_dos_Albuns_NexoAnexo.ipynb\" target=\"_parent\"><img src=\"https://colab.research.google.com/assets/colab-badge.svg\" alt=\"Open In Colab\"/></a>"
      ]
    },
    {
      "cell_type": "markdown",
      "metadata": {
        "id": "9X9knpxb626V"
      },
      "source": [
        "# **Spotify & Python & Data Science - Análise de Dados dos Álbuns do artista NexoAnexo**"
      ]
    },
    {
      "cell_type": "markdown",
      "metadata": {
        "id": "puLfSxcC2Ph4"
      },
      "source": [
        "## **Objetivo do projeto:**"
      ]
    },
    {
      "cell_type": "markdown",
      "metadata": {
        "id": "5sNePf9A2Xw5"
      },
      "source": [
        "O objetivo desse projeto é que seja feita uma análise de dados dos álbuns do spotify do artista NexoAnexo, passando pelas principais etapas de uma análise de dados. Coleta dos dados, pre-processamento, exploração e visualização dos dados. Por fim, construindo uma aplicação/dashboard com Python e após isso a aplicação será colocada em produção com o heroku. "
      ]
    },
    {
      "cell_type": "markdown",
      "metadata": {
        "id": "cglPkECqlpkK"
      },
      "source": [
        "Um outro objetivo é que a partir das conclusões feitas da análise dos dados das músicas dos álbuns, seja identificado fatores que ajudam ou contribuem um álbum ou música a ter sucesso e como isso pode ser usado para futuros lançamentos."
      ]
    },
    {
      "cell_type": "markdown",
      "metadata": {
        "id": "tYrmm_k1c6Qn"
      },
      "source": [
        "## **Etapas do projeto**"
      ]
    },
    {
      "cell_type": "markdown",
      "metadata": {
        "id": "PgMwFTF8c9Xz"
      },
      "source": [
        "* Coleta do dados \n",
        "   1. Api do spotify\n",
        "   2. Dicionario dos dados\n",
        "   3. Importar os pacotes e dataset necessários\n",
        "   4. Leitura do arquivo\n",
        "\n",
        "* Limpeza e preparação dos dados\n",
        "    1. Deletar colunas\n",
        "    2. Renomear colunas \n",
        "    3. Verificar os tipos das colunas\n",
        "    4. Alterar os tipos de colunas \n",
        "    5. Verificar dados ausentes\n",
        "    6. Preencher dados ausentes\n",
        "    7. Corrigindo dados duplicados\n",
        "    8. Outliers\n",
        "  \n",
        "* Exploração e visualização dos dados \n",
        "* Aplicação/Dashboard com Python + Deploy com Heroku"
      ]
    },
    {
      "cell_type": "markdown",
      "metadata": {
        "id": "9LFe4_zLc6Ow"
      },
      "source": [
        "## **Coleta dos dados**\n",
        "\n"
      ]
    },
    {
      "cell_type": "markdown",
      "metadata": {
        "id": "9yODKiJhZKgG"
      },
      "source": [
        "A coleta de dados é a primeira etapa de todo projeto de Data Science, caso seja optado por não coletar um conjunto de dados já pronto, devemos procurar fontes de dados que possam ser uteis para construir nossa base de dados e das fontes extrair os dados."
      ]
    },
    {
      "cell_type": "markdown",
      "metadata": {
        "id": "GxWUAPc1erDS"
      },
      "source": [
        "Uma das formas mais famosas de coletar dados já prontos para realizar projetos é buscando em fontes confiaveis como kaggle ou portais governamentais, entretanto, o que queremos são dados que dificilmente encontrariamos na internet, além de se tratar de dados de um artista especifico, ainda assim é um artista que não possui grande popularidade."
      ]
    },
    {
      "cell_type": "markdown",
      "metadata": {
        "id": "0WFpfYtV3WwC"
      },
      "source": [
        "A primeira alternativa de coletarmos os dados seria fazendo o uso de web scraping, web scraping como o proprio nome já diz, é a coleta de dados web, ou raspagem web, sendo uma forma de mineração que permite a extração de dados de sites da web, convertendo-os em informação estruturada para posterior análise. Porém, com meu pouco conhecimento em web scraping, não sei se seria possivel coletar os dados do site do spotify.  \n",
        "Por outro lado, temos uma seguda e mais viavel alternativa, apesar de não ser tão conhecida, o spotify possui uma API onde podemos encontrar e usar os dados de todos os artistas cadastrados no spotify, até mesmo dentro da API é possivel criar dashboards e fazer análises. Mas não é isso que queremos, o que de fato queremos é trabalhar e manipular os dados externamente, para podermos fazer nossas análises com as bibliotecas do python. Como queremos analisar os dados com Python, nada melhor que coletar os dados da API do spotify com o próprio Python, através da biblioteca SpotiPy. "
      ]
    },
    {
      "cell_type": "markdown",
      "metadata": {
        "id": "vEOrnBWY1WmV"
      },
      "source": [
        "A biblioteca SpotiPy tem o objetivo de que o usuário tenha acesso total a todos os dados musicais fornecidos pela plataforma Spotify. Com a biblioteca SpotiPy é possivel coletar as mais diversas informações de um artista do Spotify, seja informações das músicas do artista, dos álbuns ou até mesmo informações de catálogo do Spotify sobre artistas semelhantes ao artista identificado. Atráves\n",
        "da documentação da biblioteca você pode encontrar outras informações que podem ser possiveis de coletar do spotify e começar a aplicar na prática (https://spotipy.readthedocs.io/en/2.12.0/)."
      ]
    },
    {
      "cell_type": "markdown",
      "metadata": {
        "id": "VZXPZ7YvYYjw"
      },
      "source": [
        "### **Coletar os dados da API do Spotify com a biblioteca SpotiPy**"
      ]
    },
    {
      "cell_type": "markdown",
      "metadata": {
        "id": "Fw0bfe1G752-"
      },
      "source": [
        "1. Coletar as informações de um artista, dado um nome;\n",
        "2. Coletar os ids e nomes de todos os álbuns de um artista;\n",
        "3. Coletar informações de todas as músicas de um álbum;\n",
        "4. Coletar informações de todas as músicas de todos os álbuns de um artista;\n",
        "5. Converter tudo para um csv.\n"
      ]
    },
    {
      "cell_type": "code",
      "metadata": {
        "id": "56XPPzuXM_pk",
        "outputId": "6dcdbec0-362c-4843-8614-cb051cb84a1e",
        "colab": {
          "base_uri": "https://localhost:8080/",
          "height": 183
        }
      },
      "source": [
        "!pip install spotipy\n",
        "from spotipy.oauth2 import SpotifyClientCredentials\n",
        "import spotipy\n",
        "import sys\n",
        "import csv\n",
        " \n",
        "sp = spotipy.Spotify(client_credentials_manager = SpotifyClientCredentials(client_id=\"dcffc14978ed497aa58834a7864a99b7\", client_secret=\"e8c5cc78c8e74ccd92323d146c635b47\"))"
      ],
      "execution_count": null,
      "outputs": [
        {
          "output_type": "stream",
          "text": [
            "Collecting spotipy\n",
            "  Downloading https://files.pythonhosted.org/packages/9f/21/9dcb15600495e8474befd275510e4d7aadfa796554d2f414b57f73731323/spotipy-2.16.0-py3-none-any.whl\n",
            "Requirement already satisfied: requests>=2.20.0 in /usr/local/lib/python3.6/dist-packages (from spotipy) (2.23.0)\n",
            "Requirement already satisfied: six>=1.10.0 in /usr/local/lib/python3.6/dist-packages (from spotipy) (1.15.0)\n",
            "Requirement already satisfied: urllib3!=1.25.0,!=1.25.1,<1.26,>=1.21.1 in /usr/local/lib/python3.6/dist-packages (from requests>=2.20.0->spotipy) (1.24.3)\n",
            "Requirement already satisfied: chardet<4,>=3.0.2 in /usr/local/lib/python3.6/dist-packages (from requests>=2.20.0->spotipy) (3.0.4)\n",
            "Requirement already satisfied: idna<3,>=2.5 in /usr/local/lib/python3.6/dist-packages (from requests>=2.20.0->spotipy) (2.10)\n",
            "Requirement already satisfied: certifi>=2017.4.17 in /usr/local/lib/python3.6/dist-packages (from requests>=2.20.0->spotipy) (2020.6.20)\n",
            "Installing collected packages: spotipy\n",
            "Successfully installed spotipy-2.16.0\n"
          ],
          "name": "stdout"
        }
      ]
    },
    {
      "cell_type": "code",
      "metadata": {
        "id": "KtKv24PfNgzu"
      },
      "source": [
        "def get_artist(name):\n",
        "    results = sp.search(name)\n",
        "    items = results['tracks']['items']\n",
        "    if len(items) > 0:\n",
        "        return items[0]['artists'][0]\n",
        "    else:\n",
        "        return None"
      ],
      "execution_count": null,
      "outputs": []
    },
    {
      "cell_type": "code",
      "metadata": {
        "id": "UmYSgdflNjLm"
      },
      "source": [
        "def get_artist_id(artist):\n",
        "    return artist['id']"
      ],
      "execution_count": null,
      "outputs": []
    },
    {
      "cell_type": "code",
      "metadata": {
        "id": "SXSToCCLN9MD"
      },
      "source": [
        "def get_artist_albums_id_names(id):\n",
        "  albums = sp.artist_albums(id, country = 'BR', limit=3)\n",
        "  albums_id_name = {}\n",
        "  for i in range(len(albums['items'])):\n",
        "    id = albums['items'][i]['id']\n",
        "    name = albums['items'][i]['name']\n",
        "    albums_id_name[id] = name\n",
        " \n",
        "  return albums_id_name"
      ],
      "execution_count": null,
      "outputs": []
    },
    {
      "cell_type": "markdown",
      "metadata": {
        "id": "8T15HLq7JbHI"
      },
      "source": [
        "Determinei o limit igual a três, tendo em vista que o artista NexoAnexo possui três álbuns. Se quisessemos visualizar as outras músicas poderiamos aumentar esse limit para cinquenta ou mais, de acordo com o total de musicas do artista no spotify."
      ]
    },
    {
      "cell_type": "code",
      "metadata": {
        "id": "2zvAflToOkUh"
      },
      "source": [
        "def get_album_songs(album_id, album_name):\n",
        "  spotify_album = {}\n",
        " \n",
        "  tracks = sp.album_tracks(album_id)\n",
        "  \n",
        "  for n in range(len(tracks['items'])):\n",
        "    id_track = tracks['items'][n]['id']\n",
        "    track = sp.track(id_track)\n",
        "    spotify_album[id_track] = {}\n",
        "    \n",
        "    spotify_album[id_track]['album'] = album_name\n",
        "    spotify_album[id_track]['album_type'] = track['album']['album_type']\n",
        "    spotify_album[id_track]['track_number'] = track['track_number']\n",
        "    spotify_album[id_track]['id_track'] = track['id']\n",
        "    spotify_album[id_track]['name'] = track['name']\n",
        "    spotify_album[id_track]['popularity'] = track['popularity']\n",
        "    spotify_album[id_track]['explicit'] = track['explicit']\n",
        "    spotify_album[id_track]['duration_ms'] = track['duration_ms']\n",
        "    spotify_album[id_track]['release_date'] = track['album']['release_date']\n",
        " \n",
        "    artists_track = track['artists']\n",
        "    spotify_album[id_track]['artists'] = []\n",
        "    for artist in artists_track:\n",
        "      spotify_album[id_track]['artists'].append(artist['name'])\n",
        "  return spotify_album\n"
      ],
      "execution_count": null,
      "outputs": []
    },
    {
      "cell_type": "code",
      "metadata": {
        "id": "IZYiHJ19O7Kv"
      },
      "source": [
        "def get_all_albums_songs(albums_ids_names):\n",
        "  spotify_albums = []\n",
        "  albums_names = []\n",
        "  for id, name in albums_ids_names.items():\n",
        "    if name not in albums_names:\n",
        "      albums_names.append(name)\n",
        "      album_songs = get_album_songs(id,name) \n",
        "    for item in album_songs.items():\n",
        "      spotify_albums.append(item[1]) \n",
        "  return spotify_albums"
      ],
      "execution_count": null,
      "outputs": []
    },
    {
      "cell_type": "code",
      "metadata": {
        "id": "c0eud_atAcC6"
      },
      "source": [
        "def convert_to_csv(filepath, name):\n",
        "  keys = filepath[0].keys()\n",
        "  print(keys)\n",
        "  csv_name = ''+ name + '.csv'\n",
        "  with open(csv_name, 'w') as output_file:\n",
        "    dict_writer = csv.DictWriter(output_file, keys)\n",
        "    dict_writer.writeheader()\n",
        "    dict_writer.writerows(filepath)\n",
        "  return"
      ],
      "execution_count": null,
      "outputs": []
    },
    {
      "cell_type": "code",
      "metadata": {
        "id": "Y6u6VYNNO__U",
        "outputId": "1608bbb7-a473-4463-def4-038032064801",
        "colab": {
          "base_uri": "https://localhost:8080/",
          "height": 33
        }
      },
      "source": [
        "name = \"NexoAnexo\"\n",
        "artist = get_artist(name)    \n",
        "if artist:\n",
        "  artist_id = get_artist_id(artist)\n",
        "  albums_id_names = get_artist_albums_id_names(artist_id)\n",
        "  all_albums = get_all_albums_songs(albums_id_names)\n",
        "  convert_to_csv(all_albums, 'NexoAnexo')   \n",
        "else:\n",
        "  logger.error(\"Can't find artist: %s\", artist)"
      ],
      "execution_count": null,
      "outputs": [
        {
          "output_type": "stream",
          "text": [
            "dict_keys(['album', 'album_type', 'track_number', 'id_track', 'name', 'popularity', 'explicit', 'duration_ms', 'release_date', 'artists'])\n"
          ],
          "name": "stdout"
        }
      ]
    },
    {
      "cell_type": "markdown",
      "metadata": {
        "id": "9KiuEKvzU_ZI"
      },
      "source": [
        "Como a popularidade das músicas podem alterar diariamente, para não interferir na análise, era preciso utilizar um conjunto de dados de um dia especifico, por isso motivo foi utilizado o conjunto de dados do dia 26-06-2020."
      ]
    },
    {
      "cell_type": "markdown",
      "metadata": {
        "id": "6LsI7GPTsCz1"
      },
      "source": [
        "### **O artista NexoAnexo**"
      ]
    },
    {
      "cell_type": "markdown",
      "metadata": {
        "id": "nncJ1cS7N3aG"
      },
      "source": [
        "![NexoAnexo](https://pbs.twimg.com/media/D-gIKsxWkAMBscr.jpg)"
      ]
    },
    {
      "cell_type": "markdown",
      "metadata": {
        "id": "dCZ5duXtNzMs"
      },
      "source": [
        "Nascido em 29 de janeiro de 1997, NexoAnexo, é um artista e produtor pernambucano, difusor da trap Music no Brasil. Nascido e criado na Zona Oeste do Recife e tido como uma das promessas nordestinas do trap nacional pela revista @RND, atualmente membro da banca e produtora HoodCave."
      ]
    },
    {
      "cell_type": "markdown",
      "metadata": {
        "id": "kLsdV6uQQ0uz"
      },
      "source": [
        "### **Dicionario dos dados**"
      ]
    },
    {
      "cell_type": "markdown",
      "metadata": {
        "id": "tP4V7h-eZADl"
      },
      "source": [
        "Algumas coisas precisam ser definidas para que a análise fique clara e todos possam entender, então:"
      ]
    },
    {
      "cell_type": "markdown",
      "metadata": {
        "id": "gPmir6JPOBUF"
      },
      "source": [
        "O Spotify disponibiliza a popularidade de uma faixa, então obviamente usaremos a popularidade da faixa como uma de nossas variaveis para análise, mas como é feito o cálculo da populariade?. O cálculo da popularidade é feito pelo número de ouvintes daquela música e que na API é definida assim:\n",
        "\n",
        "*Popularidade da faixa: O valor estará entre 0 e 100, sendo 100 o mais popular. A popularidade é calculada e baseia-se na maior parte no número total de reproduções que a faixa teve e quão recentes foram estas reproduções. Logo, as músicas que estão sendo tocadas com uma maior frequência atualmente terão uma popularidade maior do que as músicas que foram muito tocadas no passado.*\n",
        "\n",
        "Lembre-se disso, vai ser muito importante pra nossa análise."
      ]
    },
    {
      "cell_type": "markdown",
      "metadata": {
        "id": "ephkEsEwJD97"
      },
      "source": [
        "O albúm Trap From Future é o único que de fato se trata de um albúm do artista NexoAnexo, sendo o seu primeiro e que foi lançado nesse ano de 2020. Real Plug Mixtape e Trap de Cria Mixtape são como o próprio nome diz \"mixtapes\", porém, no spotify as duas mixtapes são consideras como albúm, logo, iremos levar suas músicas como consideração para a análise."
      ]
    },
    {
      "cell_type": "markdown",
      "metadata": {
        "id": "lbhCoC9tQ2hc"
      },
      "source": [
        "\n",
        "\n",
        "**Informações sobre as variáveis**\n"
      ]
    },
    {
      "cell_type": "markdown",
      "metadata": {
        "id": "zVYytj0yWVZf"
      },
      "source": [
        "É importante saber o que cada variável (coluna) significa e a importância delas para o conjunto de dados, para ter um entendimento inicial dos dados. Se o conjunto de dados for da web, normalmente deve ter allguma descrição no site, caso seja um conjunto de dados da empresa, é importante conversar com o pessoal da área de negocios, que normalmente são os que tem um maior entendimento do conjunto de dados. Também não pode ficar de fora uma conversa com alguém especialista no assunto que envolve o conjunto de dados, tendo em vista que é preciso além de entender os dados, entender o meio em que os dados estão envolvidos, para se construir hipoteses e tirar conclusões. \n",
        "\n",
        "Como eu mesmo fui o responsável por coletar esse conjunto de dados, não encontrei nenhuma informação disponivel sobre as variaveis, porém, o meu entendimento como usuario do spotify foi util o bastante para entender e criar hipoteses sobre o conjunto de dados, além de conhecer, entender e acompanhar as músicas do artista NexoAnexo.\n",
        "\n",
        "* album = Nome do albúm\n",
        "* album_type = Música ou Albúm (Como os dados coletados foram apenas dos álbuns, o tipo sempre será albúm)\n",
        "* track_number = Posição da música no albúm\n",
        "* id_track = ID da música no Spotify\n",
        "* name = Nome da música\n",
        "* popularity = Popularidade da música\n",
        "* explicit = A música é explicita ou não\n",
        "* duration_ms  = Duração da música\n",
        "* release_date = Data de Lançamento da música\n",
        "* artists = Nome do artista responsavel pela música\n"
      ]
    },
    {
      "cell_type": "markdown",
      "metadata": {
        "id": "MPiYzdcTe76V"
      },
      "source": [
        "### **Importar os pacotes e datasets necessário**\n",
        "\n"
      ]
    },
    {
      "cell_type": "markdown",
      "metadata": {
        "id": "EkIuPsuTe6cQ"
      },
      "source": [
        "As bibliotecas que foram utilizadas são as bibliotecas consideradas essenciais para uma análise de dados, sendo Pandas a principal delas, tendo em vista a necessidade de manipular e analisar os dados."
      ]
    },
    {
      "cell_type": "code",
      "metadata": {
        "id": "wWAnGIM2fLh7"
      },
      "source": [
        "#importar os pacotes necessarios\n",
        "import pandas as pd \n",
        "import matplotlib.pyplot as plt \n",
        "import seaborn as sns \n",
        "from xgboost import XGBClassifier\n",
        "from sklearn.model_selection import train_test_split\n",
        "from sklearn.metrics import accuracy_score\n",
        "from sklearn.metrics import mean_squared_error\n",
        "from sklearn.impute import SimpleImputer\n",
        "\n",
        "#Configurar o notebook\n",
        "sns.set_style('whitegrid');\n",
        "\n",
        "#Alterando estilo do matplolib\n",
        "plt.style.use('ggplot')"
      ],
      "execution_count": null,
      "outputs": []
    },
    {
      "cell_type": "markdown",
      "metadata": {
        "id": "n0wGbE_8Qeqj"
      },
      "source": [
        "### **Leitura do arquivo**"
      ]
    },
    {
      "cell_type": "markdown",
      "metadata": {
        "id": "xvYxtUo6Qip4"
      },
      "source": [
        "Antes de tudo, deve ser feita uma leitura do arquivo que será utilizado, retirando algumas informações básicas, como: \"Como os dados estão separados?\", \"Qual o tamanho do arquivo\", \"Quantos registros possuem?\", \"Vai demorar para o Google colab ler o arquivo?\". Essas perguntas são importantes para quando necessario importar o conjunto de dados com o Pandas."
      ]
    },
    {
      "cell_type": "markdown",
      "metadata": {
        "id": "9jDRntFFlJR9"
      },
      "source": [
        "Abrindo o arquivo NexoAnexo.csv, obviamente, foi possivel identificar que se trata de um arquivo no formato CSV, os dados estão separados por \",\" e o conjunto possue 34 linhas, ou seja, se trata de um conjunto de dados pequeno e o Google colab não terá muitos problemas para ler o arquivo."
      ]
    },
    {
      "cell_type": "code",
      "metadata": {
        "id": "0JCvsNNRQgyB"
      },
      "source": [
        "#Importando o conjunto de dados NexoAnexo\n",
        "df = pd.read_csv('https://raw.githubusercontent.com/luislauriano/Data_Science/master/Datasets/NexoAnexo%20(1).csv', sep=',')"
      ],
      "execution_count": null,
      "outputs": []
    },
    {
      "cell_type": "markdown",
      "metadata": {
        "id": "47JXslAYOP5I"
      },
      "source": [
        "Em alguns casos reais, onde é trabalhado com conjuntos de dados maiores e conseguentemente mais pesados, essa etapa de importar os dados pode ser mais trabalhosa, por exigir outros parametros, como header, skiprows, skipfooter, delimiter e entre outros, para que a importação do conjunto de dados ocorra."
      ]
    },
    {
      "cell_type": "markdown",
      "metadata": {
        "id": "hP26RkCiGMJS"
      },
      "source": [
        "Como antes mesmo de importar o conjunto de dados, foi feita uma leitura, eu sei que o conjunto de dados possue 33 linhas, porém, será que a leitura dos dados foi corretamente? Então o primeiro entendimento dos dados será quantas linhas e colunas o conjunto de dados possue."
      ]
    },
    {
      "cell_type": "code",
      "metadata": {
        "id": "reZ7UBugg9PW",
        "outputId": "ac7e3828-04d4-4199-b0b2-a26acb1cb312",
        "colab": {
          "base_uri": "https://localhost:8080/",
          "height": 50
        }
      },
      "source": [
        "#Numero de linhas e colunas\n",
        "print(f'Número de linhas ou variaveis {df.shape[0]}')\n",
        "print(f'Número de entradas ou colunas {df.shape[1]}')"
      ],
      "execution_count": null,
      "outputs": [
        {
          "output_type": "stream",
          "text": [
            "Número de linhas ou variaveis 33\n",
            "Número de entradas ou colunas 10\n"
          ],
          "name": "stdout"
        }
      ]
    },
    {
      "cell_type": "markdown",
      "metadata": {
        "id": "eBrGm408haVg"
      },
      "source": [
        "Se observado, a leitura dos dados foi feita de maneira correta e agora sabemos que o conjunto de dados possue 33 linhas ou variaveis e 10 entradas ou colunas. Por mais que pareça algo simples e insignificante, essas informações dão uma noção e entendimento importante para as proximas etapas, como a etapa de deletar colunas ou dados que não serão usados na análise."
      ]
    },
    {
      "cell_type": "markdown",
      "metadata": {
        "id": "ydNaZxF9gU57"
      },
      "source": [
        "## **Limpeza e preparação dos dados**"
      ]
    },
    {
      "cell_type": "markdown",
      "metadata": {
        "id": "n2maxVPOmDkd"
      },
      "source": [
        "A etapa de pre-processamento dos dados ou limpeza e preparação dos dados é uma das mais importantes de todo projeto de Data Science ou Machine Learning. Nessa etapa, os dados precisam ser manipulados e tratados, sendo a biblioteca Pandas a principal por desempenhar esse papel. A etapa se dá de forma continua, podendo acontecer durante todo o projeto e não apenas em sua fase especifica, também é a etapa que mais demanda tempo do cientista ou analista de dados, \"será que a demanda maior de tempo seja por se tratar da mais importante?\". O pre-processamento de dados envolve muito tratamento dos dados e nem tudo será visto nesse projeto. \n"
      ]
    },
    {
      "cell_type": "markdown",
      "metadata": {
        "id": "QJEKaoLlC5zd"
      },
      "source": [
        "A limpeza e manipulação dos dados nesse projeto pode parecer algo muito simples e que inicialmente não tem significado, porém, nos casos reais os dados dificilmente virão tratados, limpos e organizados. Por isso, tanto se fala que essa etapa é a etapa que mais se demanda tempo. Sendo a responsável por fazer uma amostra limpa dos dados, para que assim os dados possam ser utilizados em etapas futuras, como na analise exploratoria dos dados, onde os dados precisam estar limpos e organizados para ganharem significados."
      ]
    },
    {
      "cell_type": "markdown",
      "metadata": {
        "id": "aYOTeGNqkBK9"
      },
      "source": [
        "A biblioteca Pandas além de ser a principal biblioteca do Python para se manipular e tratar os dados, como será visto na etapa de pré-processamento dos dados. Também é a melhor biblioteca do Python para analisar os dados e por isso grande parte do projeto foi realizado com o uso do Pandas, tendo em vista que o objetivo do projeto é justamente analisar os dados do spotify do artista NexoAnexo. Algumas das atividades que fazem da biblioteca Pandas tão util para manipulação e analise de dados, são: \n",
        "\n",
        "* Objeto DataFrame para manipulação de dados com indexação integrada.\n",
        "* Ferramentas para ler e gravar dados entre estruturas de dados na memória e diferentes formatos de arquivo.\n",
        "* Alinhamento de dados e tratamento integrado de dados ausentes.\n",
        "* Remodelagem e dinamização de conjuntos de dados.\n",
        "* Inserção e exclusão de colunas de estrutura de dados.\n",
        "* Grupo por mecanismo, permitindo operações dividir-aplicar-combinar em conjuntos de dados.\n",
        "* Combinação e junção de conjuntos de dados.\n"
      ]
    },
    {
      "cell_type": "markdown",
      "metadata": {
        "id": "7MMfY8HQmGA_"
      },
      "source": [
        "### **Deletando colunas**"
      ]
    },
    {
      "cell_type": "markdown",
      "metadata": {
        "id": "q1wqNFGDEhVA"
      },
      "source": [
        "A primeira etapa que sempre costumo realizar no pré-processamento de dados é a de deletar os dados, ou melhor, deletar as colunas. Dependendo do seu tamanho, um conjunto de dados em muito dos casos possuem colunas que não são uteis para o objetivo do projeto, até mesmo mais de dez colunas que estão ali apenas ocupando um espaço. Consequentemente, os dados dessas colunas só estão ocupando espaço de memoria e dificultando a análise dos dados."
      ]
    },
    {
      "cell_type": "code",
      "metadata": {
        "id": "E-5i2AIKRsMc",
        "outputId": "d4560eb1-bdfc-4263-a5b2-0b8356c97569",
        "colab": {
          "base_uri": "https://localhost:8080/",
          "height": 66
        }
      },
      "source": [
        "#As colunas que pertencem ao conjunto de dados\n",
        "df.columns"
      ],
      "execution_count": null,
      "outputs": [
        {
          "output_type": "execute_result",
          "data": {
            "text/plain": [
              "Index(['album', 'album_type', 'track_number', 'id_track', 'name', 'popularity',\n",
              "       'explicit', 'duration_ms', 'release_date', 'artists'],\n",
              "      dtype='object')"
            ]
          },
          "metadata": {
            "tags": []
          },
          "execution_count": 12
        }
      ]
    },
    {
      "cell_type": "markdown",
      "metadata": {
        "id": "zqH6vhn7md6l"
      },
      "source": [
        "O conjunto de dados dos albums retirado do spotify do artista contém colunas que não são uteis para o objetivo do projeto. Colunas como duração da música e se a música é explicita ou não, que não são uteis o projeto, porém seriam interessantes se o objetivo do projeto fosse criar um modelo de Machine Learning. Outras colunas como id da música, data de lançamento e artistas que comporão, também serão deletadas."
      ]
    },
    {
      "cell_type": "markdown",
      "metadata": {
        "id": "k9X--LqvJnEw"
      },
      "source": [
        "Antes de deletar as colunas, mesmo que tenha sido feita uma leitura do arquivo antes do mesmo ser importado para a análise, é importante que novamente se avalie como os dados estão se comportando, quais são as primeiras e ultimas linhas do conjunto de dados e como cada coluna está representada. Perguntas como essas são importante por começarem a dar um entendimento e informação sobre o conjunto de dados e se chegar na análise exploratoria já com boas ideias de hipoteses.  "
      ]
    },
    {
      "cell_type": "code",
      "metadata": {
        "id": "IODXmrT6lkw4",
        "outputId": "c3ec2ae1-2106-43e9-aa9d-1cffe1876677",
        "colab": {
          "base_uri": "https://localhost:8080/",
          "height": 197
        }
      },
      "source": [
        "#As 5 primeiras linhas do conjunto de dados\n",
        "df.head()"
      ],
      "execution_count": null,
      "outputs": [
        {
          "output_type": "execute_result",
          "data": {
            "text/html": [
              "<div>\n",
              "<style scoped>\n",
              "    .dataframe tbody tr th:only-of-type {\n",
              "        vertical-align: middle;\n",
              "    }\n",
              "\n",
              "    .dataframe tbody tr th {\n",
              "        vertical-align: top;\n",
              "    }\n",
              "\n",
              "    .dataframe thead th {\n",
              "        text-align: right;\n",
              "    }\n",
              "</style>\n",
              "<table border=\"1\" class=\"dataframe\">\n",
              "  <thead>\n",
              "    <tr style=\"text-align: right;\">\n",
              "      <th></th>\n",
              "      <th>album</th>\n",
              "      <th>album_type</th>\n",
              "      <th>track_number</th>\n",
              "      <th>id_track</th>\n",
              "      <th>name</th>\n",
              "      <th>popularity</th>\n",
              "      <th>explicit</th>\n",
              "      <th>duration_ms</th>\n",
              "      <th>release_date</th>\n",
              "      <th>artists</th>\n",
              "    </tr>\n",
              "  </thead>\n",
              "  <tbody>\n",
              "    <tr>\n",
              "      <th>0</th>\n",
              "      <td>Trap from Future</td>\n",
              "      <td>album</td>\n",
              "      <td>1</td>\n",
              "      <td>6Mx214YlNnbj7un9PrvmGi</td>\n",
              "      <td>Vem No Tum Tum</td>\n",
              "      <td>17</td>\n",
              "      <td>True</td>\n",
              "      <td>216917</td>\n",
              "      <td>2020-03-13</td>\n",
              "      <td>['NexoAnexo']</td>\n",
              "    </tr>\n",
              "    <tr>\n",
              "      <th>1</th>\n",
              "      <td>Trap from Future</td>\n",
              "      <td>album</td>\n",
              "      <td>2</td>\n",
              "      <td>1xOs8YJkkKm5HhRiP1ha4g</td>\n",
              "      <td>Drip Know Me</td>\n",
              "      <td>3</td>\n",
              "      <td>True</td>\n",
              "      <td>154646</td>\n",
              "      <td>2020-03-13</td>\n",
              "      <td>['NexoAnexo', 'Drippy Kid Jay']</td>\n",
              "    </tr>\n",
              "    <tr>\n",
              "      <th>2</th>\n",
              "      <td>Trap from Future</td>\n",
              "      <td>album</td>\n",
              "      <td>3</td>\n",
              "      <td>4s4G0Z6mSkrauIvBXRlVHk</td>\n",
              "      <td>Match</td>\n",
              "      <td>4</td>\n",
              "      <td>True</td>\n",
              "      <td>180716</td>\n",
              "      <td>2020-03-13</td>\n",
              "      <td>['NexoAnexo']</td>\n",
              "    </tr>\n",
              "    <tr>\n",
              "      <th>3</th>\n",
              "      <td>Trap from Future</td>\n",
              "      <td>album</td>\n",
              "      <td>4</td>\n",
              "      <td>5C1iQCV3xuc0oHQpe7fhhQ</td>\n",
              "      <td>Trap &amp; Brega</td>\n",
              "      <td>6</td>\n",
              "      <td>True</td>\n",
              "      <td>164468</td>\n",
              "      <td>2020-03-13</td>\n",
              "      <td>['NexoAnexo']</td>\n",
              "    </tr>\n",
              "    <tr>\n",
              "      <th>4</th>\n",
              "      <td>Trap from Future</td>\n",
              "      <td>album</td>\n",
              "      <td>5</td>\n",
              "      <td>3H2TfCpxaSfEh5nVbcDzrp</td>\n",
              "      <td>Marca Sem Roupa</td>\n",
              "      <td>6</td>\n",
              "      <td>True</td>\n",
              "      <td>148364</td>\n",
              "      <td>2020-03-13</td>\n",
              "      <td>['NexoAnexo', 'Victor KR']</td>\n",
              "    </tr>\n",
              "  </tbody>\n",
              "</table>\n",
              "</div>"
            ],
            "text/plain": [
              "              album album_type  ...  release_date                          artists\n",
              "0  Trap from Future      album  ...    2020-03-13                    ['NexoAnexo']\n",
              "1  Trap from Future      album  ...    2020-03-13  ['NexoAnexo', 'Drippy Kid Jay']\n",
              "2  Trap from Future      album  ...    2020-03-13                    ['NexoAnexo']\n",
              "3  Trap from Future      album  ...    2020-03-13                    ['NexoAnexo']\n",
              "4  Trap from Future      album  ...    2020-03-13       ['NexoAnexo', 'Victor KR']\n",
              "\n",
              "[5 rows x 10 columns]"
            ]
          },
          "metadata": {
            "tags": []
          },
          "execution_count": 13
        }
      ]
    },
    {
      "cell_type": "code",
      "metadata": {
        "id": "roPaNbkqL3Fx",
        "outputId": "115be617-2cac-479f-f0fd-b58ff333f855",
        "colab": {
          "base_uri": "https://localhost:8080/",
          "height": 197
        }
      },
      "source": [
        "#As 5 últimas linhas\n",
        "df.tail()"
      ],
      "execution_count": null,
      "outputs": [
        {
          "output_type": "execute_result",
          "data": {
            "text/html": [
              "<div>\n",
              "<style scoped>\n",
              "    .dataframe tbody tr th:only-of-type {\n",
              "        vertical-align: middle;\n",
              "    }\n",
              "\n",
              "    .dataframe tbody tr th {\n",
              "        vertical-align: top;\n",
              "    }\n",
              "\n",
              "    .dataframe thead th {\n",
              "        text-align: right;\n",
              "    }\n",
              "</style>\n",
              "<table border=\"1\" class=\"dataframe\">\n",
              "  <thead>\n",
              "    <tr style=\"text-align: right;\">\n",
              "      <th></th>\n",
              "      <th>album</th>\n",
              "      <th>album_type</th>\n",
              "      <th>track_number</th>\n",
              "      <th>id_track</th>\n",
              "      <th>name</th>\n",
              "      <th>popularity</th>\n",
              "      <th>explicit</th>\n",
              "      <th>duration_ms</th>\n",
              "      <th>release_date</th>\n",
              "      <th>artists</th>\n",
              "    </tr>\n",
              "  </thead>\n",
              "  <tbody>\n",
              "    <tr>\n",
              "      <th>28</th>\n",
              "      <td>Real Plug Mixtape</td>\n",
              "      <td>album</td>\n",
              "      <td>4</td>\n",
              "      <td>6JM9oQxdsP9ZBr7MD0bjzf</td>\n",
              "      <td>Nxanx</td>\n",
              "      <td>0</td>\n",
              "      <td>True</td>\n",
              "      <td>167355</td>\n",
              "      <td>2018-05-15</td>\n",
              "      <td>['NexoAnexo', 'Guimael']</td>\n",
              "    </tr>\n",
              "    <tr>\n",
              "      <th>29</th>\n",
              "      <td>Real Plug Mixtape</td>\n",
              "      <td>album</td>\n",
              "      <td>5</td>\n",
              "      <td>2JlPpGTj9MuKjLRD27DXwH</td>\n",
              "      <td>Tudo</td>\n",
              "      <td>0</td>\n",
              "      <td>True</td>\n",
              "      <td>161403</td>\n",
              "      <td>2018-05-15</td>\n",
              "      <td>['NexoAnexo', 'TheKickBoy']</td>\n",
              "    </tr>\n",
              "    <tr>\n",
              "      <th>30</th>\n",
              "      <td>Real Plug Mixtape</td>\n",
              "      <td>album</td>\n",
              "      <td>6</td>\n",
              "      <td>1dHrNfJgczkxDCOBtiGJkv</td>\n",
              "      <td>A Lei</td>\n",
              "      <td>0</td>\n",
              "      <td>True</td>\n",
              "      <td>134274</td>\n",
              "      <td>2018-05-15</td>\n",
              "      <td>['NexoAnexo', 'LC']</td>\n",
              "    </tr>\n",
              "    <tr>\n",
              "      <th>31</th>\n",
              "      <td>Real Plug Mixtape</td>\n",
              "      <td>album</td>\n",
              "      <td>7</td>\n",
              "      <td>4rDhvolZebPhxzs8wPq802</td>\n",
              "      <td>Dreams Cup</td>\n",
              "      <td>0</td>\n",
              "      <td>True</td>\n",
              "      <td>230822</td>\n",
              "      <td>2018-05-15</td>\n",
              "      <td>['NexoAnexo', '$ketchBoyBeat$']</td>\n",
              "    </tr>\n",
              "    <tr>\n",
              "      <th>32</th>\n",
              "      <td>Real Plug Mixtape</td>\n",
              "      <td>album</td>\n",
              "      <td>8</td>\n",
              "      <td>21hFSC02UuBc4NfHv10J8O</td>\n",
              "      <td>2020</td>\n",
              "      <td>4</td>\n",
              "      <td>True</td>\n",
              "      <td>154298</td>\n",
              "      <td>2018-05-15</td>\n",
              "      <td>['NexoAnexo']</td>\n",
              "    </tr>\n",
              "  </tbody>\n",
              "</table>\n",
              "</div>"
            ],
            "text/plain": [
              "                album album_type  ...  release_date                          artists\n",
              "28  Real Plug Mixtape      album  ...    2018-05-15         ['NexoAnexo', 'Guimael']\n",
              "29  Real Plug Mixtape      album  ...    2018-05-15      ['NexoAnexo', 'TheKickBoy']\n",
              "30  Real Plug Mixtape      album  ...    2018-05-15              ['NexoAnexo', 'LC']\n",
              "31  Real Plug Mixtape      album  ...    2018-05-15  ['NexoAnexo', '$ketchBoyBeat$']\n",
              "32  Real Plug Mixtape      album  ...    2018-05-15                    ['NexoAnexo']\n",
              "\n",
              "[5 rows x 10 columns]"
            ]
          },
          "metadata": {
            "tags": []
          },
          "execution_count": 14
        }
      ]
    },
    {
      "cell_type": "code",
      "metadata": {
        "id": "o_eD2QpUL8Gb",
        "outputId": "b8c3bd4a-c7e9-4778-c780-95bb889db159",
        "colab": {
          "base_uri": "https://localhost:8080/",
          "height": 197
        }
      },
      "source": [
        "#Uma amostra de 5 registros (linhas) dos dados\n",
        "df.sample(5)"
      ],
      "execution_count": null,
      "outputs": [
        {
          "output_type": "execute_result",
          "data": {
            "text/html": [
              "<div>\n",
              "<style scoped>\n",
              "    .dataframe tbody tr th:only-of-type {\n",
              "        vertical-align: middle;\n",
              "    }\n",
              "\n",
              "    .dataframe tbody tr th {\n",
              "        vertical-align: top;\n",
              "    }\n",
              "\n",
              "    .dataframe thead th {\n",
              "        text-align: right;\n",
              "    }\n",
              "</style>\n",
              "<table border=\"1\" class=\"dataframe\">\n",
              "  <thead>\n",
              "    <tr style=\"text-align: right;\">\n",
              "      <th></th>\n",
              "      <th>album</th>\n",
              "      <th>album_type</th>\n",
              "      <th>track_number</th>\n",
              "      <th>id_track</th>\n",
              "      <th>name</th>\n",
              "      <th>popularity</th>\n",
              "      <th>explicit</th>\n",
              "      <th>duration_ms</th>\n",
              "      <th>release_date</th>\n",
              "      <th>artists</th>\n",
              "    </tr>\n",
              "  </thead>\n",
              "  <tbody>\n",
              "    <tr>\n",
              "      <th>7</th>\n",
              "      <td>Trap from Future</td>\n",
              "      <td>album</td>\n",
              "      <td>8</td>\n",
              "      <td>3yFbmcmxdQ9ZW5KL4BWNTM</td>\n",
              "      <td>Fuck Cópias</td>\n",
              "      <td>2</td>\n",
              "      <td>True</td>\n",
              "      <td>140880</td>\n",
              "      <td>2020-03-13</td>\n",
              "      <td>['NexoAnexo', 'Vitorm']</td>\n",
              "    </tr>\n",
              "    <tr>\n",
              "      <th>0</th>\n",
              "      <td>Trap from Future</td>\n",
              "      <td>album</td>\n",
              "      <td>1</td>\n",
              "      <td>6Mx214YlNnbj7un9PrvmGi</td>\n",
              "      <td>Vem No Tum Tum</td>\n",
              "      <td>17</td>\n",
              "      <td>True</td>\n",
              "      <td>216917</td>\n",
              "      <td>2020-03-13</td>\n",
              "      <td>['NexoAnexo']</td>\n",
              "    </tr>\n",
              "    <tr>\n",
              "      <th>25</th>\n",
              "      <td>Real Plug Mixtape</td>\n",
              "      <td>album</td>\n",
              "      <td>1</td>\n",
              "      <td>6sCyj7quVzcGbs9kAxrrzV</td>\n",
              "      <td>The Train</td>\n",
              "      <td>0</td>\n",
              "      <td>True</td>\n",
              "      <td>169865</td>\n",
              "      <td>2018-05-15</td>\n",
              "      <td>['NexoAnexo', 'GG', 'Young Zine']</td>\n",
              "    </tr>\n",
              "    <tr>\n",
              "      <th>13</th>\n",
              "      <td>Trap from Future</td>\n",
              "      <td>album</td>\n",
              "      <td>14</td>\n",
              "      <td>5aTZgS07v6N3ad4kykhDmU</td>\n",
              "      <td>Zombieland</td>\n",
              "      <td>1</td>\n",
              "      <td>True</td>\n",
              "      <td>190357</td>\n",
              "      <td>2020-03-13</td>\n",
              "      <td>['NexoAnexo']</td>\n",
              "    </tr>\n",
              "    <tr>\n",
              "      <th>2</th>\n",
              "      <td>Trap from Future</td>\n",
              "      <td>album</td>\n",
              "      <td>3</td>\n",
              "      <td>4s4G0Z6mSkrauIvBXRlVHk</td>\n",
              "      <td>Match</td>\n",
              "      <td>4</td>\n",
              "      <td>True</td>\n",
              "      <td>180716</td>\n",
              "      <td>2020-03-13</td>\n",
              "      <td>['NexoAnexo']</td>\n",
              "    </tr>\n",
              "  </tbody>\n",
              "</table>\n",
              "</div>"
            ],
            "text/plain": [
              "                album  ...                            artists\n",
              "7    Trap from Future  ...            ['NexoAnexo', 'Vitorm']\n",
              "0    Trap from Future  ...                      ['NexoAnexo']\n",
              "25  Real Plug Mixtape  ...  ['NexoAnexo', 'GG', 'Young Zine']\n",
              "13   Trap from Future  ...                      ['NexoAnexo']\n",
              "2    Trap from Future  ...                      ['NexoAnexo']\n",
              "\n",
              "[5 rows x 10 columns]"
            ]
          },
          "metadata": {
            "tags": []
          },
          "execution_count": 15
        }
      ]
    },
    {
      "cell_type": "markdown",
      "metadata": {
        "id": "1I2y4QQBzoyc"
      },
      "source": [
        "O Pandas é uma biblioteca que suas ações em sua maioria podem ser realizadas de diversas formas, ou seja, pode ser utilizado mais de um método ou atributo para realizar algo. Logo, é importante que sejam mantidas boas práticas ao usar a biblioteca. Um exemplo é que para deletar as colunas, poderia ser utilizado o método drop() ou o método copy(). Veja:\n",
        "\n",
        "* df = df.drop([‘coluna1’, 'coluna2', 'coluna3'], axis = ‘columns’)\n",
        "\n",
        "Dessa forma, as colunas são deletadas permanentemente do conjunto de dados e posteriormente, se necessario, eu não consegueria trabalhar com as colunas."
      ]
    },
    {
      "cell_type": "markdown",
      "metadata": {
        "id": "g4wtDZMUOsBY"
      },
      "source": [
        "Por isso, a forma que considero melhor de se deletar as colunas é após ter sido feita uma análise de quais colunas são importantes para o objetivo do projeto. Selecionar as colunas que se deseja utilizar com CTRL + C através do atributo **df.columns** e posteriormente passar um array com os nomes das colunas que desejamos e na ordem desejada, através do método **.copy()**. Assim, as outras colunas serão omitidas e não deletadas. "
      ]
    },
    {
      "cell_type": "code",
      "metadata": {
        "id": "SE6MXvnMQyFH",
        "outputId": "b8403878-80be-4caf-9d7c-6ff2f90c1421",
        "colab": {
          "base_uri": "https://localhost:8080/",
          "height": 66
        }
      },
      "source": [
        "#Selecionando as colunas com CTRL + C\n",
        "df.columns"
      ],
      "execution_count": null,
      "outputs": [
        {
          "output_type": "execute_result",
          "data": {
            "text/plain": [
              "Index(['album', 'album_type', 'track_number', 'id_track', 'name', 'popularity',\n",
              "       'explicit', 'duration_ms', 'release_date', 'artists'],\n",
              "      dtype='object')"
            ]
          },
          "metadata": {
            "tags": []
          },
          "execution_count": 16
        }
      ]
    },
    {
      "cell_type": "markdown",
      "metadata": {
        "id": "U1JydCMRPEEA"
      },
      "source": [
        "Dessa forma, consigo ter uma visão de todas as minhas colunas e selecionar as que desejo, para passar seus nomes no array e criar um novo dataframe, com novas colunas."
      ]
    },
    {
      "cell_type": "code",
      "metadata": {
        "id": "PMrnYIKdoPiq"
      },
      "source": [
        "#Novo dataframe \n",
        "df = df[['album', 'name', 'track_number', 'popularity', 'duration_ms']].copy()"
      ],
      "execution_count": null,
      "outputs": []
    },
    {
      "cell_type": "markdown",
      "metadata": {
        "id": "hqG5L9zkw4tJ"
      },
      "source": [
        "Deletando as colunas dessa maneira eu consigo escolher uma nova ordem para as colunas, além de não delatar proprimamente as outras colunas que foram descartadas, por não ser útil para o projeto."
      ]
    },
    {
      "cell_type": "code",
      "metadata": {
        "id": "6aean52MxJ6N",
        "outputId": "4dfff07f-63e0-4d80-fc65-a50b6aa1900e",
        "colab": {
          "base_uri": "https://localhost:8080/",
          "height": 33
        }
      },
      "source": [
        "#Novas colunas\n",
        "df.columns"
      ],
      "execution_count": null,
      "outputs": [
        {
          "output_type": "execute_result",
          "data": {
            "text/plain": [
              "Index(['album', 'name', 'track_number', 'popularity', 'duration_ms'], dtype='object')"
            ]
          },
          "metadata": {
            "tags": []
          },
          "execution_count": 18
        }
      ]
    },
    {
      "cell_type": "markdown",
      "metadata": {
        "id": "NOxPPZyTGqt2"
      },
      "source": [
        "### **Renomeando colunas**"
      ]
    },
    {
      "cell_type": "markdown",
      "metadata": {
        "id": "ZjXmrXX1GA3S"
      },
      "source": [
        "Como já dito anteriormente, um dataset dificilmente irá vim organizado e limpo, sendo um dos principais problemas ao receber um dataset que não seja da internet, onde em sua maioria os dados já vem organizados e sim um dataset de um caso real, é a forma incorreta de como os dados e variaveis estão registrados no dataset. Sendo  necessário fazer toda manipulação dos dados, engenharia de recursos, renomeação de variáveis e etc... Apesar dos dados do dataset que estou utilizando não apresentar muito desses problemas, as colunas além de estarem em inglês, seu nome não deixa claro do que se trata a coluna. Por esses motivos, é interessante sempre manter o nome das colunas de forma que remeta claramente do que se trata a coluna, para que futuramente tenha facilidade quando for necessario usar a coluna para fazer alguma análise."
      ]
    },
    {
      "cell_type": "code",
      "metadata": {
        "id": "mw2hPLQLxQt5"
      },
      "source": [
        "#Renomeando as colunas\n",
        "df.columns = ['nome_do_album', 'nome_da_faixa',  'posicao_da_faixa', 'popularidade', 'duraçao_da_musica']"
      ],
      "execution_count": null,
      "outputs": []
    },
    {
      "cell_type": "code",
      "metadata": {
        "id": "pVsXRAxmyTvE",
        "outputId": "9ff29bd9-f231-4e4d-ba00-fab1c9cb9235",
        "colab": {
          "base_uri": "https://localhost:8080/",
          "height": 137
        }
      },
      "source": [
        "#As três primeiras linhas do dataset\n",
        "df.head(3)"
      ],
      "execution_count": null,
      "outputs": [
        {
          "output_type": "execute_result",
          "data": {
            "text/html": [
              "<div>\n",
              "<style scoped>\n",
              "    .dataframe tbody tr th:only-of-type {\n",
              "        vertical-align: middle;\n",
              "    }\n",
              "\n",
              "    .dataframe tbody tr th {\n",
              "        vertical-align: top;\n",
              "    }\n",
              "\n",
              "    .dataframe thead th {\n",
              "        text-align: right;\n",
              "    }\n",
              "</style>\n",
              "<table border=\"1\" class=\"dataframe\">\n",
              "  <thead>\n",
              "    <tr style=\"text-align: right;\">\n",
              "      <th></th>\n",
              "      <th>nome_do_album</th>\n",
              "      <th>nome_da_faixa</th>\n",
              "      <th>posicao_da_faixa</th>\n",
              "      <th>popularidade</th>\n",
              "      <th>duraçao_da_musica</th>\n",
              "    </tr>\n",
              "  </thead>\n",
              "  <tbody>\n",
              "    <tr>\n",
              "      <th>0</th>\n",
              "      <td>Trap from Future</td>\n",
              "      <td>Vem No Tum Tum</td>\n",
              "      <td>1</td>\n",
              "      <td>17</td>\n",
              "      <td>216917</td>\n",
              "    </tr>\n",
              "    <tr>\n",
              "      <th>1</th>\n",
              "      <td>Trap from Future</td>\n",
              "      <td>Drip Know Me</td>\n",
              "      <td>2</td>\n",
              "      <td>3</td>\n",
              "      <td>154646</td>\n",
              "    </tr>\n",
              "    <tr>\n",
              "      <th>2</th>\n",
              "      <td>Trap from Future</td>\n",
              "      <td>Match</td>\n",
              "      <td>3</td>\n",
              "      <td>4</td>\n",
              "      <td>180716</td>\n",
              "    </tr>\n",
              "  </tbody>\n",
              "</table>\n",
              "</div>"
            ],
            "text/plain": [
              "      nome_do_album   nome_da_faixa  ...  popularidade  duraçao_da_musica\n",
              "0  Trap from Future  Vem No Tum Tum  ...            17             216917\n",
              "1  Trap from Future    Drip Know Me  ...             3             154646\n",
              "2  Trap from Future           Match  ...             4             180716\n",
              "\n",
              "[3 rows x 5 columns]"
            ]
          },
          "metadata": {
            "tags": []
          },
          "execution_count": 20
        }
      ]
    },
    {
      "cell_type": "markdown",
      "metadata": {
        "id": "Ov6bp8cK0X8W"
      },
      "source": [
        "Com as colunas renomeadas, quando for necessario chamar o nome da coluna para realizar uma análise ou outra tarefa, ficará tudo mais fácil. Vale ressaltar que também é importante sempre manter o nome das colunas com letras minúsculas e se necessário separar, que seja com o _, para também facilitar as tarefas que serão realizadas posteriormente com as colunas."
      ]
    },
    {
      "cell_type": "markdown",
      "metadata": {
        "id": "tiko78ph0eEl"
      },
      "source": [
        "### **Verificar dados ausentes**"
      ]
    },
    {
      "cell_type": "markdown",
      "metadata": {
        "id": "3QIb136y0lrF"
      },
      "source": [
        "Os dados ausentes em sua maioria podem ocorrer devido a não-resposta, ou seja, nenhuma informação foi registrada para uma variável, sendo mais um dos problemas de sujeira que pode aparecer em um dataset, que assim como outros problemas da etapa de limpeza e preparação dos dados que aqui já foi dito, os dados ausentes precisam ser limpados e tratados, de modo que deixem de ser dados ausentes e passem a ganhar significado. Dessa forma, antes de limpar e tratar os dados ausentes, primeiro é preciso identificar se existe a presença de dados ausentes ou faltantes no dataset. "
      ]
    },
    {
      "cell_type": "markdown",
      "metadata": {
        "id": "fmqmwWGm2aam"
      },
      "source": [
        "Para identificar a presença de dados ausentes, eu poderia ter usado o método isnull(), porém para sempre manter as boas práticas ao utilizar a biblioteca pandas, é interessante utilizar o método isna(), devido que o final \"na\" do método remete ao dropna e fillna, que são metodos que também trabalham de alguma forma com dados ausentes. "
      ]
    },
    {
      "cell_type": "code",
      "metadata": {
        "id": "UzBw8iC50k7Y",
        "outputId": "78eabba0-d638-4043-d34a-dd3ef34f869a",
        "colab": {
          "base_uri": "https://localhost:8080/",
          "height": 116
        }
      },
      "source": [
        "#Identificando a presença de dados ausentes\n",
        "df.isna().sum()"
      ],
      "execution_count": null,
      "outputs": [
        {
          "output_type": "execute_result",
          "data": {
            "text/plain": [
              "nome_do_album        0\n",
              "nome_da_faixa        0\n",
              "posicao_da_faixa     0\n",
              "popularidade         0\n",
              "duraçao_da_musica    0\n",
              "dtype: int64"
            ]
          },
          "metadata": {
            "tags": []
          },
          "execution_count": 21
        }
      ]
    },
    {
      "cell_type": "markdown",
      "metadata": {
        "id": "a1PqLMmtQgQ0"
      },
      "source": [
        "O dataset do artista NexoAnexo que foi retirado do spotify não possui dados ausentes, porém, muita das vezes uma coluna pode ter o registro de dados e os dados ainda assim serem dados ausentes (ocultos), ou seja, é informado pelo método que o conjunto de dados não possui valores ausentes ou nulos, por todos os dados estarem registrados, entranto, esse registro de dados não tem valor significativo e os dados não passam nenhuma informação util. Casos como esse de dados ausentes ocultos, acontece em sua maioria quando quem coleta os dados e constroi o dataset não  tem o valor ou informação exata e faz o registro de dados com um valor qualquer, como 0."
      ]
    },
    {
      "cell_type": "markdown",
      "metadata": {
        "id": "Zyk_uhF52w6_"
      },
      "source": [
        "A melhor solução para casos como esse é analisar com calma os primeiros, ultimos e amostras aleatórias dos registros, averiguando se os dados realmente passam alguma informação e significado, já que não temos dados ausentes."
      ]
    },
    {
      "cell_type": "code",
      "metadata": {
        "id": "FxLO7mHY2v_U",
        "outputId": "1b72f6bf-090a-4701-9455-230aed7e8004",
        "colab": {
          "base_uri": "https://localhost:8080/",
          "height": 347
        }
      },
      "source": [
        "#Os 10 primeiros registros\n",
        "df.head(10)"
      ],
      "execution_count": null,
      "outputs": [
        {
          "output_type": "execute_result",
          "data": {
            "text/html": [
              "<div>\n",
              "<style scoped>\n",
              "    .dataframe tbody tr th:only-of-type {\n",
              "        vertical-align: middle;\n",
              "    }\n",
              "\n",
              "    .dataframe tbody tr th {\n",
              "        vertical-align: top;\n",
              "    }\n",
              "\n",
              "    .dataframe thead th {\n",
              "        text-align: right;\n",
              "    }\n",
              "</style>\n",
              "<table border=\"1\" class=\"dataframe\">\n",
              "  <thead>\n",
              "    <tr style=\"text-align: right;\">\n",
              "      <th></th>\n",
              "      <th>nome_do_album</th>\n",
              "      <th>nome_da_faixa</th>\n",
              "      <th>posicao_da_faixa</th>\n",
              "      <th>popularidade</th>\n",
              "      <th>duraçao_da_musica</th>\n",
              "    </tr>\n",
              "  </thead>\n",
              "  <tbody>\n",
              "    <tr>\n",
              "      <th>0</th>\n",
              "      <td>Trap from Future</td>\n",
              "      <td>Vem No Tum Tum</td>\n",
              "      <td>1</td>\n",
              "      <td>17</td>\n",
              "      <td>216917</td>\n",
              "    </tr>\n",
              "    <tr>\n",
              "      <th>1</th>\n",
              "      <td>Trap from Future</td>\n",
              "      <td>Drip Know Me</td>\n",
              "      <td>2</td>\n",
              "      <td>3</td>\n",
              "      <td>154646</td>\n",
              "    </tr>\n",
              "    <tr>\n",
              "      <th>2</th>\n",
              "      <td>Trap from Future</td>\n",
              "      <td>Match</td>\n",
              "      <td>3</td>\n",
              "      <td>4</td>\n",
              "      <td>180716</td>\n",
              "    </tr>\n",
              "    <tr>\n",
              "      <th>3</th>\n",
              "      <td>Trap from Future</td>\n",
              "      <td>Trap &amp; Brega</td>\n",
              "      <td>4</td>\n",
              "      <td>6</td>\n",
              "      <td>164468</td>\n",
              "    </tr>\n",
              "    <tr>\n",
              "      <th>4</th>\n",
              "      <td>Trap from Future</td>\n",
              "      <td>Marca Sem Roupa</td>\n",
              "      <td>5</td>\n",
              "      <td>6</td>\n",
              "      <td>148364</td>\n",
              "    </tr>\n",
              "    <tr>\n",
              "      <th>5</th>\n",
              "      <td>Trap from Future</td>\n",
              "      <td>Wow!</td>\n",
              "      <td>6</td>\n",
              "      <td>3</td>\n",
              "      <td>145675</td>\n",
              "    </tr>\n",
              "    <tr>\n",
              "      <th>6</th>\n",
              "      <td>Trap from Future</td>\n",
              "      <td>Não Posso Morrer Novo</td>\n",
              "      <td>7</td>\n",
              "      <td>3</td>\n",
              "      <td>150116</td>\n",
              "    </tr>\n",
              "    <tr>\n",
              "      <th>7</th>\n",
              "      <td>Trap from Future</td>\n",
              "      <td>Fuck Cópias</td>\n",
              "      <td>8</td>\n",
              "      <td>2</td>\n",
              "      <td>140880</td>\n",
              "    </tr>\n",
              "    <tr>\n",
              "      <th>8</th>\n",
              "      <td>Trap from Future</td>\n",
              "      <td>Passa Nada</td>\n",
              "      <td>9</td>\n",
              "      <td>3</td>\n",
              "      <td>135745</td>\n",
              "    </tr>\n",
              "    <tr>\n",
              "      <th>9</th>\n",
              "      <td>Trap from Future</td>\n",
              "      <td>Novo Rock</td>\n",
              "      <td>10</td>\n",
              "      <td>1</td>\n",
              "      <td>130971</td>\n",
              "    </tr>\n",
              "  </tbody>\n",
              "</table>\n",
              "</div>"
            ],
            "text/plain": [
              "      nome_do_album          nome_da_faixa  ...  popularidade  duraçao_da_musica\n",
              "0  Trap from Future         Vem No Tum Tum  ...            17             216917\n",
              "1  Trap from Future           Drip Know Me  ...             3             154646\n",
              "2  Trap from Future                  Match  ...             4             180716\n",
              "3  Trap from Future           Trap & Brega  ...             6             164468\n",
              "4  Trap from Future        Marca Sem Roupa  ...             6             148364\n",
              "5  Trap from Future                   Wow!  ...             3             145675\n",
              "6  Trap from Future  Não Posso Morrer Novo  ...             3             150116\n",
              "7  Trap from Future            Fuck Cópias  ...             2             140880\n",
              "8  Trap from Future             Passa Nada  ...             3             135745\n",
              "9  Trap from Future              Novo Rock  ...             1             130971\n",
              "\n",
              "[10 rows x 5 columns]"
            ]
          },
          "metadata": {
            "tags": []
          },
          "execution_count": 22
        }
      ]
    },
    {
      "cell_type": "code",
      "metadata": {
        "id": "iDJkyVnM43rm",
        "outputId": "8675bc68-fdb2-4d55-9b55-b0f4a270facc",
        "colab": {
          "base_uri": "https://localhost:8080/",
          "height": 347
        }
      },
      "source": [
        "#Os 10 últimos registros\n",
        "df.tail(10)"
      ],
      "execution_count": null,
      "outputs": [
        {
          "output_type": "execute_result",
          "data": {
            "text/html": [
              "<div>\n",
              "<style scoped>\n",
              "    .dataframe tbody tr th:only-of-type {\n",
              "        vertical-align: middle;\n",
              "    }\n",
              "\n",
              "    .dataframe tbody tr th {\n",
              "        vertical-align: top;\n",
              "    }\n",
              "\n",
              "    .dataframe thead th {\n",
              "        text-align: right;\n",
              "    }\n",
              "</style>\n",
              "<table border=\"1\" class=\"dataframe\">\n",
              "  <thead>\n",
              "    <tr style=\"text-align: right;\">\n",
              "      <th></th>\n",
              "      <th>nome_do_album</th>\n",
              "      <th>nome_da_faixa</th>\n",
              "      <th>posicao_da_faixa</th>\n",
              "      <th>popularidade</th>\n",
              "      <th>duraçao_da_musica</th>\n",
              "    </tr>\n",
              "  </thead>\n",
              "  <tbody>\n",
              "    <tr>\n",
              "      <th>23</th>\n",
              "      <td>Trap de Cria Mixtape</td>\n",
              "      <td>Isso Que É Foda</td>\n",
              "      <td>9</td>\n",
              "      <td>4</td>\n",
              "      <td>135086</td>\n",
              "    </tr>\n",
              "    <tr>\n",
              "      <th>24</th>\n",
              "      <td>Trap de Cria Mixtape</td>\n",
              "      <td>Pjl</td>\n",
              "      <td>10</td>\n",
              "      <td>0</td>\n",
              "      <td>211323</td>\n",
              "    </tr>\n",
              "    <tr>\n",
              "      <th>25</th>\n",
              "      <td>Real Plug Mixtape</td>\n",
              "      <td>The Train</td>\n",
              "      <td>1</td>\n",
              "      <td>0</td>\n",
              "      <td>169865</td>\n",
              "    </tr>\n",
              "    <tr>\n",
              "      <th>26</th>\n",
              "      <td>Real Plug Mixtape</td>\n",
              "      <td>Fica Bem</td>\n",
              "      <td>2</td>\n",
              "      <td>0</td>\n",
              "      <td>130134</td>\n",
              "    </tr>\n",
              "    <tr>\n",
              "      <th>27</th>\n",
              "      <td>Real Plug Mixtape</td>\n",
              "      <td>Gospel</td>\n",
              "      <td>3</td>\n",
              "      <td>0</td>\n",
              "      <td>122278</td>\n",
              "    </tr>\n",
              "    <tr>\n",
              "      <th>28</th>\n",
              "      <td>Real Plug Mixtape</td>\n",
              "      <td>Nxanx</td>\n",
              "      <td>4</td>\n",
              "      <td>0</td>\n",
              "      <td>167355</td>\n",
              "    </tr>\n",
              "    <tr>\n",
              "      <th>29</th>\n",
              "      <td>Real Plug Mixtape</td>\n",
              "      <td>Tudo</td>\n",
              "      <td>5</td>\n",
              "      <td>0</td>\n",
              "      <td>161403</td>\n",
              "    </tr>\n",
              "    <tr>\n",
              "      <th>30</th>\n",
              "      <td>Real Plug Mixtape</td>\n",
              "      <td>A Lei</td>\n",
              "      <td>6</td>\n",
              "      <td>0</td>\n",
              "      <td>134274</td>\n",
              "    </tr>\n",
              "    <tr>\n",
              "      <th>31</th>\n",
              "      <td>Real Plug Mixtape</td>\n",
              "      <td>Dreams Cup</td>\n",
              "      <td>7</td>\n",
              "      <td>0</td>\n",
              "      <td>230822</td>\n",
              "    </tr>\n",
              "    <tr>\n",
              "      <th>32</th>\n",
              "      <td>Real Plug Mixtape</td>\n",
              "      <td>2020</td>\n",
              "      <td>8</td>\n",
              "      <td>4</td>\n",
              "      <td>154298</td>\n",
              "    </tr>\n",
              "  </tbody>\n",
              "</table>\n",
              "</div>"
            ],
            "text/plain": [
              "           nome_do_album    nome_da_faixa  ...  popularidade  duraçao_da_musica\n",
              "23  Trap de Cria Mixtape  Isso Que É Foda  ...             4             135086\n",
              "24  Trap de Cria Mixtape              Pjl  ...             0             211323\n",
              "25     Real Plug Mixtape        The Train  ...             0             169865\n",
              "26     Real Plug Mixtape         Fica Bem  ...             0             130134\n",
              "27     Real Plug Mixtape           Gospel  ...             0             122278\n",
              "28     Real Plug Mixtape            Nxanx  ...             0             167355\n",
              "29     Real Plug Mixtape             Tudo  ...             0             161403\n",
              "30     Real Plug Mixtape            A Lei  ...             0             134274\n",
              "31     Real Plug Mixtape       Dreams Cup  ...             0             230822\n",
              "32     Real Plug Mixtape             2020  ...             4             154298\n",
              "\n",
              "[10 rows x 5 columns]"
            ]
          },
          "metadata": {
            "tags": []
          },
          "execution_count": 23
        }
      ]
    },
    {
      "cell_type": "code",
      "metadata": {
        "id": "qDq6HmiEXzun",
        "outputId": "2c901faf-c9a1-4430-bfa5-ef86ff625395",
        "colab": {
          "base_uri": "https://localhost:8080/",
          "height": 347
        }
      },
      "source": [
        "#Amostra aleatória de 10 registros\n",
        "df.sample(10)"
      ],
      "execution_count": null,
      "outputs": [
        {
          "output_type": "execute_result",
          "data": {
            "text/html": [
              "<div>\n",
              "<style scoped>\n",
              "    .dataframe tbody tr th:only-of-type {\n",
              "        vertical-align: middle;\n",
              "    }\n",
              "\n",
              "    .dataframe tbody tr th {\n",
              "        vertical-align: top;\n",
              "    }\n",
              "\n",
              "    .dataframe thead th {\n",
              "        text-align: right;\n",
              "    }\n",
              "</style>\n",
              "<table border=\"1\" class=\"dataframe\">\n",
              "  <thead>\n",
              "    <tr style=\"text-align: right;\">\n",
              "      <th></th>\n",
              "      <th>nome_do_album</th>\n",
              "      <th>nome_da_faixa</th>\n",
              "      <th>posicao_da_faixa</th>\n",
              "      <th>popularidade</th>\n",
              "      <th>duraçao_da_musica</th>\n",
              "    </tr>\n",
              "  </thead>\n",
              "  <tbody>\n",
              "    <tr>\n",
              "      <th>7</th>\n",
              "      <td>Trap from Future</td>\n",
              "      <td>Fuck Cópias</td>\n",
              "      <td>8</td>\n",
              "      <td>2</td>\n",
              "      <td>140880</td>\n",
              "    </tr>\n",
              "    <tr>\n",
              "      <th>4</th>\n",
              "      <td>Trap from Future</td>\n",
              "      <td>Marca Sem Roupa</td>\n",
              "      <td>5</td>\n",
              "      <td>6</td>\n",
              "      <td>148364</td>\n",
              "    </tr>\n",
              "    <tr>\n",
              "      <th>22</th>\n",
              "      <td>Trap de Cria Mixtape</td>\n",
              "      <td>Bebê da Cara de Mal</td>\n",
              "      <td>8</td>\n",
              "      <td>1</td>\n",
              "      <td>174180</td>\n",
              "    </tr>\n",
              "    <tr>\n",
              "      <th>14</th>\n",
              "      <td>Trap from Future</td>\n",
              "      <td>Baila Comigo?</td>\n",
              "      <td>15</td>\n",
              "      <td>2</td>\n",
              "      <td>192530</td>\n",
              "    </tr>\n",
              "    <tr>\n",
              "      <th>10</th>\n",
              "      <td>Trap from Future</td>\n",
              "      <td>Como Tem Que Ser</td>\n",
              "      <td>11</td>\n",
              "      <td>3</td>\n",
              "      <td>169166</td>\n",
              "    </tr>\n",
              "    <tr>\n",
              "      <th>31</th>\n",
              "      <td>Real Plug Mixtape</td>\n",
              "      <td>Dreams Cup</td>\n",
              "      <td>7</td>\n",
              "      <td>0</td>\n",
              "      <td>230822</td>\n",
              "    </tr>\n",
              "    <tr>\n",
              "      <th>26</th>\n",
              "      <td>Real Plug Mixtape</td>\n",
              "      <td>Fica Bem</td>\n",
              "      <td>2</td>\n",
              "      <td>0</td>\n",
              "      <td>130134</td>\n",
              "    </tr>\n",
              "    <tr>\n",
              "      <th>3</th>\n",
              "      <td>Trap from Future</td>\n",
              "      <td>Trap &amp; Brega</td>\n",
              "      <td>4</td>\n",
              "      <td>6</td>\n",
              "      <td>164468</td>\n",
              "    </tr>\n",
              "    <tr>\n",
              "      <th>32</th>\n",
              "      <td>Real Plug Mixtape</td>\n",
              "      <td>2020</td>\n",
              "      <td>8</td>\n",
              "      <td>4</td>\n",
              "      <td>154298</td>\n",
              "    </tr>\n",
              "    <tr>\n",
              "      <th>19</th>\n",
              "      <td>Trap de Cria Mixtape</td>\n",
              "      <td>Video Call</td>\n",
              "      <td>5</td>\n",
              "      <td>1</td>\n",
              "      <td>192468</td>\n",
              "    </tr>\n",
              "  </tbody>\n",
              "</table>\n",
              "</div>"
            ],
            "text/plain": [
              "           nome_do_album        nome_da_faixa  ...  popularidade  duraçao_da_musica\n",
              "7       Trap from Future          Fuck Cópias  ...             2             140880\n",
              "4       Trap from Future      Marca Sem Roupa  ...             6             148364\n",
              "22  Trap de Cria Mixtape  Bebê da Cara de Mal  ...             1             174180\n",
              "14      Trap from Future        Baila Comigo?  ...             2             192530\n",
              "10      Trap from Future     Como Tem Que Ser  ...             3             169166\n",
              "31     Real Plug Mixtape           Dreams Cup  ...             0             230822\n",
              "26     Real Plug Mixtape             Fica Bem  ...             0             130134\n",
              "3       Trap from Future         Trap & Brega  ...             6             164468\n",
              "32     Real Plug Mixtape                 2020  ...             4             154298\n",
              "19  Trap de Cria Mixtape           Video Call  ...             1             192468\n",
              "\n",
              "[10 rows x 5 columns]"
            ]
          },
          "metadata": {
            "tags": []
          },
          "execution_count": 24
        }
      ]
    },
    {
      "cell_type": "markdown",
      "metadata": {
        "id": "p_TuMmkQ6tQV"
      },
      "source": [
        "Todos os registros passam alguma informação. Devido ao fato do albúm Real plug Mixtape ser o albúm mais antigo, sua popularidade apresenta muitos valores zero, tendo em vista, que a popularidade está relacionada as músicas que estão sendo ouvidas no momento, porém, diante mão já é possivel observar que a faixa 2020 ainda se mantém com uma boa popularidade se compararmos com faixas mais recentes, apesar de ter sido uma música lançada em 2018. "
      ]
    },
    {
      "cell_type": "markdown",
      "metadata": {
        "id": "-6AH6Cor69h2"
      },
      "source": [
        "De fato 2020 poderia ter sido um ano de sucesso para o artista NexoAnexo e uma ascensao da faixa 2020, como uma grande promessa, porém, a música também fala de anos posteriores, como 2022 e 2023, quem sabe nos próximos anos coisas grandes não venham a acontecer."
      ]
    },
    {
      "cell_type": "markdown",
      "metadata": {
        "id": "gB0OLMab7v5T"
      },
      "source": [
        "### **Verificar os tipos de colunas** "
      ]
    },
    {
      "cell_type": "markdown",
      "metadata": {
        "id": "8wadGexE8g6R"
      },
      "source": [
        "Assim como pode ser feito registro de dados sem nenhum significado, por quem constroi o dataset, as colunas também podem ser preenchidas de forma incorreta, ou seja, uma coluna que trata-se de uma coluna do tipo inteira, pode estar como coluna do tipo float ou até mesmo string."
      ]
    },
    {
      "cell_type": "code",
      "metadata": {
        "id": "5BA_syqA70om",
        "outputId": "9f0cde38-1f45-46a1-eaa5-d9ddfd1f1171",
        "colab": {
          "base_uri": "https://localhost:8080/",
          "height": 116
        }
      },
      "source": [
        "#Verificando os tipos das colunas\n",
        "df.dtypes"
      ],
      "execution_count": null,
      "outputs": [
        {
          "output_type": "execute_result",
          "data": {
            "text/plain": [
              "nome_do_album        object\n",
              "nome_da_faixa        object\n",
              "posicao_da_faixa      int64\n",
              "popularidade          int64\n",
              "duraçao_da_musica     int64\n",
              "dtype: object"
            ]
          },
          "metadata": {
            "tags": []
          },
          "execution_count": 25
        }
      ]
    },
    {
      "cell_type": "code",
      "metadata": {
        "id": "vKtltNmfRaZW",
        "outputId": "5e1d3ac9-70eb-452c-8d78-d32f0aa344ad",
        "colab": {
          "base_uri": "https://localhost:8080/",
          "height": 66
        }
      },
      "source": [
        "#Quantidade de tipos das colunas\n",
        "df.dtypes.value_counts()"
      ],
      "execution_count": null,
      "outputs": [
        {
          "output_type": "execute_result",
          "data": {
            "text/plain": [
              "int64     3\n",
              "object    2\n",
              "dtype: int64"
            ]
          },
          "metadata": {
            "tags": []
          },
          "execution_count": 26
        }
      ]
    },
    {
      "cell_type": "markdown",
      "metadata": {
        "id": "EVn5DLnq8j8F"
      },
      "source": [
        "Agora eu sei quais são os tipos das minhas colunas, mas ainda é preciso confirmar se os tipos foram registrados corretamente e para isso é preciso visualizar novamente os registros de dados de cada coluna, com atenção! Saber quais são os tipos das colunas e como manipulá-los é de extrema importância para a etapa futura de exploração dos dados. "
      ]
    },
    {
      "cell_type": "code",
      "metadata": {
        "id": "1fxGcBj18pud",
        "outputId": "d8140a42-0bbd-4f9e-9879-0dae37963c69",
        "colab": {
          "base_uri": "https://localhost:8080/",
          "height": 197
        }
      },
      "source": [
        "#Visualizando novamente os dados\n",
        "df.sample(5)"
      ],
      "execution_count": null,
      "outputs": [
        {
          "output_type": "execute_result",
          "data": {
            "text/html": [
              "<div>\n",
              "<style scoped>\n",
              "    .dataframe tbody tr th:only-of-type {\n",
              "        vertical-align: middle;\n",
              "    }\n",
              "\n",
              "    .dataframe tbody tr th {\n",
              "        vertical-align: top;\n",
              "    }\n",
              "\n",
              "    .dataframe thead th {\n",
              "        text-align: right;\n",
              "    }\n",
              "</style>\n",
              "<table border=\"1\" class=\"dataframe\">\n",
              "  <thead>\n",
              "    <tr style=\"text-align: right;\">\n",
              "      <th></th>\n",
              "      <th>nome_do_album</th>\n",
              "      <th>nome_da_faixa</th>\n",
              "      <th>posicao_da_faixa</th>\n",
              "      <th>popularidade</th>\n",
              "      <th>duraçao_da_musica</th>\n",
              "    </tr>\n",
              "  </thead>\n",
              "  <tbody>\n",
              "    <tr>\n",
              "      <th>26</th>\n",
              "      <td>Real Plug Mixtape</td>\n",
              "      <td>Fica Bem</td>\n",
              "      <td>2</td>\n",
              "      <td>0</td>\n",
              "      <td>130134</td>\n",
              "    </tr>\n",
              "    <tr>\n",
              "      <th>32</th>\n",
              "      <td>Real Plug Mixtape</td>\n",
              "      <td>2020</td>\n",
              "      <td>8</td>\n",
              "      <td>4</td>\n",
              "      <td>154298</td>\n",
              "    </tr>\n",
              "    <tr>\n",
              "      <th>8</th>\n",
              "      <td>Trap from Future</td>\n",
              "      <td>Passa Nada</td>\n",
              "      <td>9</td>\n",
              "      <td>3</td>\n",
              "      <td>135745</td>\n",
              "    </tr>\n",
              "    <tr>\n",
              "      <th>9</th>\n",
              "      <td>Trap from Future</td>\n",
              "      <td>Novo Rock</td>\n",
              "      <td>10</td>\n",
              "      <td>1</td>\n",
              "      <td>130971</td>\n",
              "    </tr>\n",
              "    <tr>\n",
              "      <th>27</th>\n",
              "      <td>Real Plug Mixtape</td>\n",
              "      <td>Gospel</td>\n",
              "      <td>3</td>\n",
              "      <td>0</td>\n",
              "      <td>122278</td>\n",
              "    </tr>\n",
              "  </tbody>\n",
              "</table>\n",
              "</div>"
            ],
            "text/plain": [
              "        nome_do_album nome_da_faixa  ...  popularidade  duraçao_da_musica\n",
              "26  Real Plug Mixtape      Fica Bem  ...             0             130134\n",
              "32  Real Plug Mixtape          2020  ...             4             154298\n",
              "8    Trap from Future    Passa Nada  ...             3             135745\n",
              "9    Trap from Future     Novo Rock  ...             1             130971\n",
              "27  Real Plug Mixtape        Gospel  ...             0             122278\n",
              "\n",
              "[5 rows x 5 columns]"
            ]
          },
          "metadata": {
            "tags": []
          },
          "execution_count": 27
        }
      ]
    },
    {
      "cell_type": "markdown",
      "metadata": {
        "id": "6Z-by3vz953I"
      },
      "source": [
        "### **Alterando tipo de colunas**"
      ]
    },
    {
      "cell_type": "markdown",
      "metadata": {
        "id": "vC4umD2--LVU"
      },
      "source": [
        "Nesse projeto não irei alterar o tipo das colunas, por já estarem corretos, mas em casos reais atividades como essa são comuns e saber fazer esse tipo de manipulação de dados é de extrema importância, para que os dados de fato cheguem preparados para a análise exploratória. Em alguns casos, um simples caractere diferente que exista nos dados de uma coluna, pode fazer a diferença no seu tipo, sendo necessario manipular os dados da coluna. "
      ]
    },
    {
      "cell_type": "markdown",
      "metadata": {
        "id": "GHyD5ioD-ot1"
      },
      "source": [
        "Se por exemplo, fosse necessário alterar o tipo da coluna popularidade, poderia ser utilizado o método astypes(), principal método para realizar essa tarefa, passando o novo tipo de dados da coluna."
      ]
    },
    {
      "cell_type": "code",
      "metadata": {
        "id": "4jryO7Wz-QEi"
      },
      "source": [
        "#Alterando a coluna popularidade para float\n",
        "df['popularidade'] = df['popularidade'].astype(float)"
      ],
      "execution_count": null,
      "outputs": []
    },
    {
      "cell_type": "code",
      "metadata": {
        "id": "q1oBcUQW-fCb",
        "outputId": "a330a8c5-f84a-4a93-9138-e4dba38b0cbe",
        "colab": {
          "base_uri": "https://localhost:8080/",
          "height": 116
        }
      },
      "source": [
        "#Tipos das colunas\n",
        "df.dtypes"
      ],
      "execution_count": null,
      "outputs": [
        {
          "output_type": "execute_result",
          "data": {
            "text/plain": [
              "nome_do_album         object\n",
              "nome_da_faixa         object\n",
              "posicao_da_faixa       int64\n",
              "popularidade         float64\n",
              "duraçao_da_musica      int64\n",
              "dtype: object"
            ]
          },
          "metadata": {
            "tags": []
          },
          "execution_count": 29
        }
      ]
    },
    {
      "cell_type": "code",
      "metadata": {
        "id": "j6cinTFU-tcl"
      },
      "source": [
        "#Corrigindo o tipo da coluna popularidade para inteiro\n",
        "df['popularidade'] = df['popularidade'].astype(int)"
      ],
      "execution_count": null,
      "outputs": []
    },
    {
      "cell_type": "markdown",
      "metadata": {
        "id": "Nepa2iEoI2aq"
      },
      "source": [
        "### **Corrigindo dados duplicados**"
      ]
    },
    {
      "cell_type": "markdown",
      "metadata": {
        "id": "pZ8_w_XkR1H3"
      },
      "source": [
        "Outra tarefa importante da etapa de limpeza e preparação de dados é a correção de dados duplicados, por mais que esse dataset do spotify do artista NexoAnexo não possua dados duplicados, é comum encontrar em alguns conjuntos de dados. Os valores duplicados na maioria dos conjuntos de dados são encontrados com frequência e dependendo da análise que será feita, esses valores podem alterar o resultado final."
      ]
    },
    {
      "cell_type": "markdown",
      "metadata": {
        "id": "EUKrBfxQAXzW"
      },
      "source": [
        "#### **Verificando valores duplicados**"
      ]
    },
    {
      "cell_type": "markdown",
      "metadata": {
        "id": "u6jP13AqAeCf"
      },
      "source": [
        "Por se tratar de um dataset com diversas músicas e números, é importante verificar se o dataset possui dados duplicados, para que a análise e os insights não sejam interferidos. Para identificar a presença de outliers, irei utilizar o método duplicated() que devolve uma Series booleana informando True se possui algum valor duplicado e False caso contrário."
      ]
    },
    {
      "cell_type": "code",
      "metadata": {
        "id": "spYdCRZdALh6",
        "outputId": "4a9dc668-7dd6-41b8-d4eb-d3d349346d69",
        "colab": {
          "base_uri": "https://localhost:8080/",
          "height": 50
        }
      },
      "source": [
        "#Verificando valores duplicados\n",
        "df.duplicated().value_counts()"
      ],
      "execution_count": null,
      "outputs": [
        {
          "output_type": "execute_result",
          "data": {
            "text/plain": [
              "False    33\n",
              "dtype: int64"
            ]
          },
          "metadata": {
            "tags": []
          },
          "execution_count": 31
        }
      ]
    },
    {
      "cell_type": "markdown",
      "metadata": {
        "id": "gi1AnCn2A5lb"
      },
      "source": [
        "O dataset não possui dados duplicados como mencionado anteriormente, porém, caso fosse identificado a presença de dados duplicados, seria necessário remover todos os valores repetidos, fazendo o uso do método drop_duplicates()."
      ]
    },
    {
      "cell_type": "markdown",
      "metadata": {
        "id": "WiuMU5_PSMYt"
      },
      "source": [
        "### **Outliers**"
      ]
    },
    {
      "cell_type": "markdown",
      "metadata": {
        "id": "ov_g9htZSOvE"
      },
      "source": [
        "Os outliers, são os famosos \"pontos fora da curva\" ou observações que não parecem seguir o mesmo padrão dos demais dados. Normalmente acarretados de distribuições diferentes, serem erros da coleta de dados, como aqui já foi visto, erros de medição ou outro fator. Identificar e tratar os outliers é de suma importância, devido que os outliers influenciam diretamente nas análises e nos algoritmos, ao apresentar comportamento distoante do resto do data set. Impactando tanto na média, como na variância, funções de perda e custo."
      ]
    },
    {
      "cell_type": "markdown",
      "metadata": {
        "id": "i4y4BM9R_8vg"
      },
      "source": [
        "Após os outliers terem sido identificados, sua remoção ou transformação só deve ser feita se realmente fizer sentido, logo, deve ser levado em consideração que alguns outliers são dados autenticos e devem ser estudados com atenção, para saber se de fato deve ser feita sua remoção."
      ]
    },
    {
      "cell_type": "markdown",
      "metadata": {
        "id": "OcmzOKzGA1CW"
      },
      "source": [
        "####**Identificando outliers**"
      ]
    },
    {
      "cell_type": "markdown",
      "metadata": {
        "id": "Mbe7FHhsBYI7"
      },
      "source": [
        "Dificilmente será econtrado outliers nesse dataset do spotify, por ser um dataset que não tem sujeiras e está bem organizado e limpo, além das variaveis serem muito discrepantes por sua natureza, porém, irei verificar se existe a presença de algum outlier na coluna de duração da música. Para identificar a presença de outliers a melhor solução é verificar a distribuição dos dados, que pode ser feita tanto com gráfico de histograma ou com gráfico de boxplot."
      ]
    },
    {
      "cell_type": "code",
      "metadata": {
        "id": "bjm6ynaWCqno",
        "outputId": "dd6864b8-1ad2-453b-fd3a-b92e5d0986d3",
        "colab": {
          "base_uri": "https://localhost:8080/",
          "height": 315
        }
      },
      "source": [
        "#Plotando gráfico de boxplot\n",
        "sns.boxplot(x=df[\"duraçao_da_musica\"], orient=\"vertical\");"
      ],
      "execution_count": null,
      "outputs": [
        {
          "output_type": "stream",
          "text": [
            "/usr/local/lib/python3.6/dist-packages/seaborn/_core.py:1303: UserWarning: Vertical orientation ignored with only `x` specified.\n",
            "  warnings.warn(single_var_warning.format(\"Vertical\", \"x\"))\n"
          ],
          "name": "stderr"
        },
        {
          "output_type": "display_data",
          "data": {
            "image/png": "[encoded data removed]",
            "text/plain": [
              "<Figure size 432x288 with 1 Axes>"
            ]
          },
          "metadata": {
            "tags": []
          }
        }
      ]
    },
    {
      "cell_type": "markdown",
      "metadata": {
        "id": "jYhZA3opEQhn"
      },
      "source": [
        "No boxplot, os dados mais extremos, ou seja, os outliers, são mostrados como pontos fora do alcance dos whiskers (as barras do boxplot) e neste caso da coluna duração da música é possivel observar que existe um ponto (outlier) acima do normal. Agora, irei apicar uma abordagem para identificar qual é esse ponto acima."
      ]
    },
    {
      "cell_type": "markdown",
      "metadata": {
        "id": "YBHyUM47HBNB"
      },
      "source": [
        "Tudo que estiver acima do intervalo (limite) $[Q3 + 1.5 \\times \\text{IQR}]$ e abaixo do intervalo (limite) $[Q1 - 1.5 \\times \\text{IQR}]$será considerado um outlier. \n",
        "\n",
        "Considere: \n",
        "* Q3 e Q1 = Terceiro quantil e Primeiro quantil. \n",
        "* IQR = Intervalo interquartil (Q3 - Q1)."
      ]
    },
    {
      "cell_type": "code",
      "metadata": {
        "id": "uYEpG6HEJA7S"
      },
      "source": [
        "#Construindo o intervalo interquartil\n",
        "q1 = df.duraçao_da_musica.quantile(0.25)\n",
        "q3 = df.duraçao_da_musica.quantile(0.75)\n",
        "\n",
        "iqr = q3 - q1"
      ],
      "execution_count": null,
      "outputs": []
    },
    {
      "cell_type": "code",
      "metadata": {
        "id": "Rf-mfRPfJ3Z7",
        "outputId": "84d8b1f3-b1a9-44bc-8e85-d72f5054bf03",
        "colab": {
          "base_uri": "https://localhost:8080/",
          "height": 50
        }
      },
      "source": [
        "#Limite inferior [Q1−1.5×IQR]\n",
        "out_low = q1 - 1.5 * iqr \n",
        "out_low\n",
        "\n",
        "#Limite superior [Q3+1.5×IQR]\n",
        "out_high = q3 + 1.5 * iqr \n",
        "out_high\n",
        "\n",
        "print(f'''Limite ou intervalo inferior: {out_low} \n",
        "Limite ou intervalo superior: {out_high}''')"
      ],
      "execution_count": null,
      "outputs": [
        {
          "output_type": "stream",
          "text": [
            "Limite ou intervalo inferior: 81126.0 \n",
            "Limite ou intervalo superior: 240470.0\n"
          ],
          "name": "stdout"
        }
      ]
    },
    {
      "cell_type": "markdown",
      "metadata": {
        "id": "TQid_2VELmUo"
      },
      "source": [
        "Agora que defini quais são os limites inferiores e superiores, é possivel identificar quais são os pontos que encontram-se fora desses limites ou intervalos, ou seja, que podem ser considerados outliers."
      ]
    },
    {
      "cell_type": "code",
      "metadata": {
        "id": "bouBQdhxK9Ct",
        "outputId": "62a4920d-60ae-45b9-a304-3b702b97d5f2",
        "colab": {
          "base_uri": "https://localhost:8080/",
          "height": 50
        }
      },
      "source": [
        "#Identificando os outliers presentes\n",
        "outliers = df.duraçao_da_musica[(df.duraçao_da_musica < out_low) | (df.duraçao_da_musica > out_high)]\n",
        "outliers"
      ],
      "execution_count": null,
      "outputs": [
        {
          "output_type": "execute_result",
          "data": {
            "text/plain": [
              "12    260158\n",
              "Name: duraçao_da_musica, dtype: int64"
            ]
          },
          "metadata": {
            "tags": []
          },
          "execution_count": 35
        }
      ]
    },
    {
      "cell_type": "code",
      "metadata": {
        "id": "Rptvdy8_Pq0u",
        "outputId": "92f1e90e-67b8-434e-8c76-8cb003e9f976",
        "colab": {
          "base_uri": "https://localhost:8080/",
          "height": 77
        }
      },
      "source": [
        "#Quem é o outlier? \n",
        "df.query(\"index == 12\")"
      ],
      "execution_count": null,
      "outputs": [
        {
          "output_type": "execute_result",
          "data": {
            "text/html": [
              "<div>\n",
              "<style scoped>\n",
              "    .dataframe tbody tr th:only-of-type {\n",
              "        vertical-align: middle;\n",
              "    }\n",
              "\n",
              "    .dataframe tbody tr th {\n",
              "        vertical-align: top;\n",
              "    }\n",
              "\n",
              "    .dataframe thead th {\n",
              "        text-align: right;\n",
              "    }\n",
              "</style>\n",
              "<table border=\"1\" class=\"dataframe\">\n",
              "  <thead>\n",
              "    <tr style=\"text-align: right;\">\n",
              "      <th></th>\n",
              "      <th>nome_do_album</th>\n",
              "      <th>nome_da_faixa</th>\n",
              "      <th>posicao_da_faixa</th>\n",
              "      <th>popularidade</th>\n",
              "      <th>duraçao_da_musica</th>\n",
              "    </tr>\n",
              "  </thead>\n",
              "  <tbody>\n",
              "    <tr>\n",
              "      <th>12</th>\n",
              "      <td>Trap from Future</td>\n",
              "      <td>Fogo No Incenso</td>\n",
              "      <td>13</td>\n",
              "      <td>5</td>\n",
              "      <td>260158</td>\n",
              "    </tr>\n",
              "  </tbody>\n",
              "</table>\n",
              "</div>"
            ],
            "text/plain": [
              "       nome_do_album    nome_da_faixa  ...  popularidade  duraçao_da_musica\n",
              "12  Trap from Future  Fogo No Incenso  ...             5             260158\n",
              "\n",
              "[1 rows x 5 columns]"
            ]
          },
          "metadata": {
            "tags": []
          },
          "execution_count": 36
        }
      ]
    },
    {
      "cell_type": "markdown",
      "metadata": {
        "id": "1Sl96izyNP-9"
      },
      "source": [
        "O código me retornou tudo que foi menor e tudo que foi maior do que o limite normal que foram definidos e assim como foi visto no boxplot, existe apenas um outlier acima do limite superior. Porém, os dados do dataset tratam-se de dados que são discrepantes por sua natureza, especificamente a coluna que está sendo analisada, que é relacionada ao tempo de duração da música, logo, não faz sentido remover esse outlier, o que só acarretaria em prejuízo à análise."
      ]
    },
    {
      "cell_type": "markdown",
      "metadata": {
        "id": "wYCBfOpbSXPy"
      },
      "source": [
        "## **Exploração e Visualização de dados**"
      ]
    },
    {
      "cell_type": "markdown",
      "metadata": {
        "id": "dbfbs9uOaOhX"
      },
      "source": [
        "Segundo o esatístico John Tukey, a etapa de exploração de dados ou EDA pode ser definida como: \n",
        "\n",
        "*Procedimentos para analisar dados, técnicas para interpretar os resultados de tais procedimentos, formas de planejar a reunião dos dados para tornar sua análise mais fácil, mais precisa ou mais exata e toda a maquinaria e os resultados da estatística (matemática) que se aplicam a análise de dados.*\n",
        "\n",
        "\n",
        "\n",
        "\n"
      ]
    },
    {
      "cell_type": "markdown",
      "metadata": {
        "id": "PYdOTEEXc8Mw"
      },
      "source": [
        "A exploração de dados ou EDA pode ser considerada uma das fases mais importantes de todo processo de análise de dados. A partir dela começamos a entender mais sobre os dados que envolve a problematica e conseguentemente construir hipoteses e perguntas. Nessa fase, para ajudar no trabalho de entendimento e exploração dos dados é feito o uso de ferramentas estatísticas e de visualização de dados, para que as informações a respeito dos dados sejam a mais clara possivel. Não deve ser levado em consideração um conjunto de regras e passo a passo na hora de construir a análise exploratoria de dados, pelo contrario, a análise exploratória de dados não se trata de um processo formal e sim um estado de espirito investigativo. Na EDA o mais importante é investigar todas as ideias que ocorrerem, conforme o entendimento e significado dos dados vai aumentando."
      ]
    },
    {
      "cell_type": "markdown",
      "metadata": {
        "id": "5HkE9tPWn54p"
      },
      "source": [
        "Pode-se dizer que a EDA é um ciclo iterativo e ciclico, onde:\n",
        "\n",
        "* É preciso gerar questões relevantes para o negócio, logo, é essencial que em casos reais exista uma conversa com o pessoal da aréa de negocio, a respeito dos dados e oque o pessoal da área de negocio está buscando responder através do conjunto de dados.\n",
        "\n",
        "* Para encontrar as respostas dos questionamentos levantados é preciso gerar gráficos, manipulação e estatística sobre os dados.\n",
        "\n",
        "* Refinar os questioanamentos e utiliza-los para gerar novos questionamentos pertinentes. "
      ]
    },
    {
      "cell_type": "markdown",
      "metadata": {
        "id": "Xsw8isqDh09m"
      },
      "source": [
        "Um fator essencial que muita das vezes é negligenciado por quem está começando na área dos dados é a estatistica. A estatística tanto univariada como multivariada é de suma importância para os dados ganharem ainda mais significado, durante a exploração de dados."
      ]
    },
    {
      "cell_type": "markdown",
      "metadata": {
        "id": "Fp_V9h9Pc6MI"
      },
      "source": [
        "Fazer uma análise exploratória de dados sempre deve ser levado como objetivo gerar **Perguntas** e **Hipoteses**. Logo, irei definir algumas perguntas e hipoteses que tenho inicialmente e responder durante a análise exploratoria de dados, para reter uma informação inicial dos dados. Como já dito anteriormente, durante a análise exploratoria de dados surgem mais perguntas, conforme os dados vão ganhando significado e o entendimento a respeito dos dados vai aumentando. Então, é sempre bom começar com perguntas simples e ir aumentando suas complexidades conforme se vai conhecendo os dados, o que também é um dos objetivos da análise exploratória de dados, você tomar conhecimento dos seus dados. Vale lembrar que quando se lida com um novo conjunto de dados, nem sempre tem informações disponiveis sobre os dados, sendo necessario buscar o conhecimento de uma pessoa especialista no assunto, conversar com estas pessoas influenciará e ajudará em perguntas futuras, tendo em vista que não é possivel gerar perguntas sem entender a problematica que envolve os dados e o meio que os dados estão envolvidos, muito menos sem entender o conjunto de dados em si. Nos casos reais, em sua maioria das vezes o pessoal da área de negocios que tem um maior entendimento da problematica e área que envolve os dados, além do conjunto de dados, por isso são os principais responvaveis por gerarem as perguntas que se deseja responder na análise exploratoria de dados."
      ]
    },
    {
      "cell_type": "markdown",
      "metadata": {
        "id": "FTsPEFYiUHyo"
      },
      "source": [
        "A análise exploratoria deve se chegar ao fim quando for identificado que já se atingiu o objetivo desejado e os questionamentos principais já foram respondidos, sendo em casos reais responsabilidade do pessoal da área de negócios, que são os responsáveis por fazerem os questionamentos a respeito dos dados, além de na maioria das vezes terem um entendimento maior sobre os dados e a área que os mesmo estão envolvidos."
      ]
    },
    {
      "cell_type": "markdown",
      "metadata": {
        "id": "2pJON784dHUp"
      },
      "source": [
        "### **Perguntas:**"
      ]
    },
    {
      "cell_type": "markdown",
      "metadata": {
        "id": "HYkFCaOSdHPZ"
      },
      "source": [
        "* Qual é a música mais popular no momento do artista NexoAnexo?\n",
        "* Qual a música mais popular de cada albúm?\n",
        "* A popularidade das músicas tem relação com a posição?\n",
        "* Qual a média da popularidade dos albúns?\n",
        "* A música que está na posição um dos álbuns, apresenta sempre maior popularidade?\n"
      ]
    },
    {
      "cell_type": "markdown",
      "metadata": {
        "id": "yWQ61UuNSwxi"
      },
      "source": [
        "### **Hipóteses:**\n",
        "\n",
        "* Trap&Brega \n",
        "* 2020 (Real plug mixtape), E AI fake (Trap de Cria), Vem no tum tum (Trap From Future)\n",
        "* Sim\n",
        "* 3.0\n",
        "* Sim"
      ]
    },
    {
      "cell_type": "markdown",
      "metadata": {
        "id": "F-3Rqc1UzITW"
      },
      "source": [
        "###**Definindo as variáveis dos albúns**"
      ]
    },
    {
      "cell_type": "code",
      "metadata": {
        "id": "Hq3BGi4bzamu"
      },
      "source": [
        "#Albúm Real Plug Mixtape\n",
        "rmx = df.query(\"nome_do_album == 'Real Plug Mixtape' \")"
      ],
      "execution_count": null,
      "outputs": []
    },
    {
      "cell_type": "code",
      "metadata": {
        "id": "5U-ltK3bzanC"
      },
      "source": [
        "#Albúm Trap de Cria Mixtape\n",
        "tcm = df.query(\"nome_do_album == 'Trap de Cria Mixtape' \")"
      ],
      "execution_count": null,
      "outputs": []
    },
    {
      "cell_type": "code",
      "metadata": {
        "id": "nQ1FFWU4zanI"
      },
      "source": [
        "#Albúm Trap From Future\n",
        "tff = df.query(\"nome_do_album == 'Trap from Future' \")"
      ],
      "execution_count": null,
      "outputs": []
    },
    {
      "cell_type": "markdown",
      "metadata": {
        "id": "n2bI0C6gYbVG"
      },
      "source": [
        "Foi utilizado o método query() para filtrar os dados de cada albúm e suas respectivas músicas, para que também possa analisar os albúns individualmente. "
      ]
    },
    {
      "cell_type": "markdown",
      "metadata": {
        "id": "85tzj87kzane"
      },
      "source": [
        "### **Q1: Quais e a quantidade de musicas que estão sendo analisadas?**"
      ]
    },
    {
      "cell_type": "markdown",
      "metadata": {
        "id": "k6vt7DMJM9g3"
      },
      "source": [
        "Para um primeiro entendimento dos dados, considero importante saber quais são as músicas de cada albúm que estão sendo analisadas e a quantidade total de músicas dos três albúns. Dessa forma, tanto irá ajudar á construir perguntas futuras, como também retirar melhores conclusões e informações das análises."
      ]
    },
    {
      "cell_type": "code",
      "metadata": {
        "id": "_VGu6Obmzanf",
        "outputId": "63bbb481-3430-44cb-d138-d57c5de02695",
        "colab": {
          "base_uri": "https://localhost:8080/",
          "height": 33
        }
      },
      "source": [
        "#Total de músicas\n",
        "print(f'Total de músicas: {df[\"nome_da_faixa\"].count()} músicas') "
      ],
      "execution_count": null,
      "outputs": [
        {
          "output_type": "stream",
          "text": [
            "Total de músicas: 33 músicas\n"
          ],
          "name": "stdout"
        }
      ]
    },
    {
      "cell_type": "markdown",
      "metadata": {
        "id": "1rOcLE1_YoT7"
      },
      "source": [
        "####**Albúm Real Plug**"
      ]
    },
    {
      "cell_type": "markdown",
      "metadata": {
        "id": "YkwBZl1E71BI"
      },
      "source": [
        "![Real Plug](https://direct.rhapsody.com/imageserver/images/alb.315190279/500x500.jpg)"
      ]
    },
    {
      "cell_type": "markdown",
      "metadata": {
        "id": "U5Bk48uuhxkb"
      },
      "source": [
        "O albúm ou mixtape Real Plug é o mais antigo de todos, seu lançamento foi no dia 15 de maio de 2018, então é bem provavel que a popularidade de suas músicas não sejam tão altas, mas o albúm conta com músicas que tiveram bons números e feedback do público. Um exemplo é a música \"2020\", sendo a música que ganhou mais alcance e \"caiu na graça dos fãs\", bem reconhecida e reponsável por atrair público até os dias de atuais. No canal do artista, o clipe da música \"2020\" é o terceiro mais acessado, com 28 mil views.\n"
      ]
    },
    {
      "cell_type": "code",
      "metadata": {
        "id": "RMmerNw7YmXc",
        "outputId": "80d52fbf-8ffb-4d5a-d300-0c03fba4af9d",
        "colab": {
          "base_uri": "https://localhost:8080/",
          "height": 304
        }
      },
      "source": [
        "#Quantidade de músicas do albúm\n",
        "print(f'O albúm tem: {rmx[\"nome_da_faixa\"].count()} faixas')\n",
        "\n",
        "#Músicas do albúm\n",
        "rmx[['posicao_da_faixa', 'nome_da_faixa']].reset_index(drop=True)"
      ],
      "execution_count": null,
      "outputs": [
        {
          "output_type": "stream",
          "text": [
            "O albúm tem: 8 faixas\n"
          ],
          "name": "stdout"
        },
        {
          "output_type": "execute_result",
          "data": {
            "text/html": [
              "<div>\n",
              "<style scoped>\n",
              "    .dataframe tbody tr th:only-of-type {\n",
              "        vertical-align: middle;\n",
              "    }\n",
              "\n",
              "    .dataframe tbody tr th {\n",
              "        vertical-align: top;\n",
              "    }\n",
              "\n",
              "    .dataframe thead th {\n",
              "        text-align: right;\n",
              "    }\n",
              "</style>\n",
              "<table border=\"1\" class=\"dataframe\">\n",
              "  <thead>\n",
              "    <tr style=\"text-align: right;\">\n",
              "      <th></th>\n",
              "      <th>posicao_da_faixa</th>\n",
              "      <th>nome_da_faixa</th>\n",
              "    </tr>\n",
              "  </thead>\n",
              "  <tbody>\n",
              "    <tr>\n",
              "      <th>0</th>\n",
              "      <td>1</td>\n",
              "      <td>The Train</td>\n",
              "    </tr>\n",
              "    <tr>\n",
              "      <th>1</th>\n",
              "      <td>2</td>\n",
              "      <td>Fica Bem</td>\n",
              "    </tr>\n",
              "    <tr>\n",
              "      <th>2</th>\n",
              "      <td>3</td>\n",
              "      <td>Gospel</td>\n",
              "    </tr>\n",
              "    <tr>\n",
              "      <th>3</th>\n",
              "      <td>4</td>\n",
              "      <td>Nxanx</td>\n",
              "    </tr>\n",
              "    <tr>\n",
              "      <th>4</th>\n",
              "      <td>5</td>\n",
              "      <td>Tudo</td>\n",
              "    </tr>\n",
              "    <tr>\n",
              "      <th>5</th>\n",
              "      <td>6</td>\n",
              "      <td>A Lei</td>\n",
              "    </tr>\n",
              "    <tr>\n",
              "      <th>6</th>\n",
              "      <td>7</td>\n",
              "      <td>Dreams Cup</td>\n",
              "    </tr>\n",
              "    <tr>\n",
              "      <th>7</th>\n",
              "      <td>8</td>\n",
              "      <td>2020</td>\n",
              "    </tr>\n",
              "  </tbody>\n",
              "</table>\n",
              "</div>"
            ],
            "text/plain": [
              "   posicao_da_faixa nome_da_faixa\n",
              "0                 1     The Train\n",
              "1                 2      Fica Bem\n",
              "2                 3        Gospel\n",
              "3                 4         Nxanx\n",
              "4                 5          Tudo\n",
              "5                 6         A Lei\n",
              "6                 7    Dreams Cup\n",
              "7                 8          2020"
            ]
          },
          "metadata": {
            "tags": []
          },
          "execution_count": 41
        }
      ]
    },
    {
      "cell_type": "markdown",
      "metadata": {
        "id": "p-4mdlaEmTrV"
      },
      "source": [
        "No total são oito músicas, com destaque para a música \"2020\", que foi a principal responsável por trazer alcance ao albúm. Na análise a seguir, irei construir um gráfico da popularidade das músicas do albúm, para ter uma primeira noção de como as músicas do albúm estão sendo ouvidas atualmente."
      ]
    },
    {
      "cell_type": "code",
      "metadata": {
        "id": "_C5GvdxI4QPE",
        "outputId": "43853f8c-a6cf-497d-d0fe-af4c86093ae0",
        "colab": {
          "base_uri": "https://localhost:8080/",
          "height": 406
        }
      },
      "source": [
        "#Gráfico da popularidade das músicas do albúm Real Plug Mixtape\n",
        "\n",
        "plt.figure(figsize=(15,6))\n",
        "ax = sns.lineplot(x='nome_da_faixa', y='popularidade', data=rmx);\n",
        "ax.set_title('Popularidade das faixas', size=13);\n",
        "ax.set_xlabel('Nome da faixa', size=13);\n",
        "ax.set_ylabel('Popularidade', size=13);"
      ],
      "execution_count": null,
      "outputs": [
        {
          "output_type": "display_data",
          "data": {
            "image/png": "[encoded data removed]",
            "text/plain": [
              "<Figure size 1080x432 with 1 Axes>"
            ]
          },
          "metadata": {
            "tags": []
          }
        }
      ]
    },
    {
      "cell_type": "markdown",
      "metadata": {
        "id": "dwLWmZYeaw0F"
      },
      "source": [
        "A partir do gráfico de linha do seaborn á respeito da popularidade das músicas do albúm, já é possivel observar que de fato a música 2020 é um sucesso, tendo em vista que tem uma popularidade alta, levando em consideração as outras músicas do albúm e o fato da música fazer parte do albúm mais antigo. As outras músicas do albúm possuem igualmente uma popularidade igual a zero, logo, significa que a partir do calcúlo de popularidade do spotify, as músicas não estão sendo muito ouvidas para possuir uma popularidade maior que zero. "
      ]
    },
    {
      "cell_type": "markdown",
      "metadata": {
        "id": "NmYcGJwHYr51"
      },
      "source": [
        "####**Albúm Trap de Cria**"
      ]
    },
    {
      "cell_type": "markdown",
      "metadata": {
        "id": "yxR-w7i57hAa"
      },
      "source": [
        "![Trap de Cria](https://resources.tidal.com/images/379a650e/3071/4aa7/a264/eb2a9f011589/640x640.jpg)"
      ]
    },
    {
      "cell_type": "markdown",
      "metadata": {
        "id": "zywCcIWKhzua"
      },
      "source": [
        "O albúm ou mixtape \"Trap de Cria\" foi o segundo albúm do artista e seu lançamento aconteceu no dia 29 de julho de 2019, diferente do primeiro albúm \"Real plug mixtape\", o alcance desse albúm foi maior e era de se esperar até mais alcance e visibilidade.Com uma pegada de músicas no estilo trap explícito, o albúm obtive músicas que receberam um bom alcance, comparado a músicas anteriores, porém sinto que o alcance, especificamente desse albúm ficou no \"gostinho de quero mais\", pela qualidade e empenho que foi colocado pelo artista e todos que de alguma forma contribuíram na construção do albúm. "
      ]
    },
    {
      "cell_type": "code",
      "metadata": {
        "id": "EBbaP2_BYzPh",
        "outputId": "9b5c16a5-e2b0-4b26-a34b-8ca451a621d8",
        "colab": {
          "base_uri": "https://localhost:8080/",
          "height": 364
        }
      },
      "source": [
        "#Quantidade de músicas do albúm\n",
        "print(f'O albúm tem: {tcm[\"nome_da_faixa\"].count()} faixas')\n",
        "\n",
        "#Músicas do albúm\n",
        "tcm[['posicao_da_faixa', 'nome_da_faixa']].reset_index(drop=True)"
      ],
      "execution_count": null,
      "outputs": [
        {
          "output_type": "stream",
          "text": [
            "O albúm tem: 10 faixas\n"
          ],
          "name": "stdout"
        },
        {
          "output_type": "execute_result",
          "data": {
            "text/html": [
              "<div>\n",
              "<style scoped>\n",
              "    .dataframe tbody tr th:only-of-type {\n",
              "        vertical-align: middle;\n",
              "    }\n",
              "\n",
              "    .dataframe tbody tr th {\n",
              "        vertical-align: top;\n",
              "    }\n",
              "\n",
              "    .dataframe thead th {\n",
              "        text-align: right;\n",
              "    }\n",
              "</style>\n",
              "<table border=\"1\" class=\"dataframe\">\n",
              "  <thead>\n",
              "    <tr style=\"text-align: right;\">\n",
              "      <th></th>\n",
              "      <th>posicao_da_faixa</th>\n",
              "      <th>nome_da_faixa</th>\n",
              "    </tr>\n",
              "  </thead>\n",
              "  <tbody>\n",
              "    <tr>\n",
              "      <th>0</th>\n",
              "      <td>1</td>\n",
              "      <td>Trap de Cria</td>\n",
              "    </tr>\n",
              "    <tr>\n",
              "      <th>1</th>\n",
              "      <td>2</td>\n",
              "      <td>A Lista das Bandidas</td>\n",
              "    </tr>\n",
              "    <tr>\n",
              "      <th>2</th>\n",
              "      <td>3</td>\n",
              "      <td>A3</td>\n",
              "    </tr>\n",
              "    <tr>\n",
              "      <th>3</th>\n",
              "      <td>4</td>\n",
              "      <td>E Ai Fake</td>\n",
              "    </tr>\n",
              "    <tr>\n",
              "      <th>4</th>\n",
              "      <td>5</td>\n",
              "      <td>Video Call</td>\n",
              "    </tr>\n",
              "    <tr>\n",
              "      <th>5</th>\n",
              "      <td>6</td>\n",
              "      <td>Aliviando o Stress</td>\n",
              "    </tr>\n",
              "    <tr>\n",
              "      <th>6</th>\n",
              "      <td>7</td>\n",
              "      <td>Hino dos Irmãos</td>\n",
              "    </tr>\n",
              "    <tr>\n",
              "      <th>7</th>\n",
              "      <td>8</td>\n",
              "      <td>Bebê da Cara de Mal</td>\n",
              "    </tr>\n",
              "    <tr>\n",
              "      <th>8</th>\n",
              "      <td>9</td>\n",
              "      <td>Isso Que É Foda</td>\n",
              "    </tr>\n",
              "    <tr>\n",
              "      <th>9</th>\n",
              "      <td>10</td>\n",
              "      <td>Pjl</td>\n",
              "    </tr>\n",
              "  </tbody>\n",
              "</table>\n",
              "</div>"
            ],
            "text/plain": [
              "   posicao_da_faixa         nome_da_faixa\n",
              "0                 1          Trap de Cria\n",
              "1                 2  A Lista das Bandidas\n",
              "2                 3                    A3\n",
              "3                 4             E Ai Fake\n",
              "4                 5            Video Call\n",
              "5                 6    Aliviando o Stress\n",
              "6                 7       Hino dos Irmãos\n",
              "7                 8   Bebê da Cara de Mal\n",
              "8                 9       Isso Que É Foda\n",
              "9                10                   Pjl"
            ]
          },
          "metadata": {
            "tags": []
          },
          "execution_count": 43
        }
      ]
    },
    {
      "cell_type": "markdown",
      "metadata": {
        "id": "GXKrLyhMbFZd"
      },
      "source": [
        "Ao total foram dez músicas, duas a mais que o primeiro albúm. Os destaques ficam para as músicas: \"E ai Fake\" construída com base na polêmica das conversas íntimas vazadas do jogador Neymar, \"Video Call\" e \"PJL\" que contou com a participação de integrantes da Hoodcave, produtora da qual o artista faz parte."
      ]
    },
    {
      "cell_type": "code",
      "metadata": {
        "id": "ZmS33hkZ43PN",
        "outputId": "df6379c4-f79f-47f6-deab-b6b16c88d186",
        "colab": {
          "base_uri": "https://localhost:8080/",
          "height": 407
        }
      },
      "source": [
        "plt.figure(figsize=(18,6))\n",
        "ax = sns.lineplot(x='nome_da_faixa', y='popularidade', data=tcm);\n",
        "ax.set_title('Popularidade das faixas', size=13);\n",
        "ax.set_xlabel('Nome da faixa', size=13);\n",
        "ax.set_ylabel('Popularidade', size=13);\n"
      ],
      "execution_count": null,
      "outputs": [
        {
          "output_type": "display_data",
          "data": {
            "image/png": "[encoded data removed]",
            "text/plain": [
              "<Figure size 1296x432 with 1 Axes>"
            ]
          },
          "metadata": {
            "tags": []
          }
        }
      ]
    },
    {
      "cell_type": "markdown",
      "metadata": {
        "id": "zSj_1-1D3d_U"
      },
      "source": [
        "Mesmo após o lançamento do albúm mais recente \"Trap From Future\", nota-se que a quantidade de músicas do albúm acolhida pelo público foi de fato maior do que o primeiro albúm \"Real Plug Mixtape\". Sendo até os dias atuais, ouvida uma parte significativa das músicas que compoem o albúm, com apenas a música \"Pjl\" possuindo uma frequência igual a zero. A música \"Trap de Cria\" que possue a maior popularidade, além de ser uma das mais ouvidas dos três álbuns, se tornou uma representação do que o albúm propoem, atraindo o público para as músicas seguintes."
      ]
    },
    {
      "cell_type": "markdown",
      "metadata": {
        "id": "k8-XFkOmY3MF"
      },
      "source": [
        "####**Albúm Trap From Future**"
      ]
    },
    {
      "cell_type": "markdown",
      "metadata": {
        "id": "5FigJ2SD6Oz1"
      },
      "source": [
        "![img](https://i.scdn.co/image/ab67616d0000b2731827b32ac6993a14c4f78615)"
      ]
    },
    {
      "cell_type": "markdown",
      "metadata": {
        "id": "kQ2IeZa8hvYW"
      },
      "source": [
        "Trap From Future trata-se do albúm mais recente do artista e diferente dos dois albúns anteriores que na realidade eram mixtapes, esse de fato pode ser considerado um albúm e o primeiro do artista. O albúm foi lançado no dia 12 de março de 2020, sendo considerado como o trabalho mais sólido do artista e até mesmo elogiado pelo artista reconhecido, Matuê. Com uma capa de albúm futurista e cheia de referências, as músicas do albúm possuem uma versatilidade de estilo e estética totalmente diferente das músicas anteriores do artista."
      ]
    },
    {
      "cell_type": "code",
      "metadata": {
        "id": "ekpuLHPJY8gA",
        "outputId": "357988be-3240-41cb-8513-f595b85478d2",
        "colab": {
          "base_uri": "https://localhost:8080/",
          "height": 514
        }
      },
      "source": [
        "#Quantidade de músicas do albúm\n",
        "print(f'O albúm tem: {tff[\"nome_da_faixa\"].count()} faixas')\n",
        "\n",
        "#Músicas do albúm\n",
        "tff[['posicao_da_faixa', 'nome_da_faixa']].reset_index(drop=True)"
      ],
      "execution_count": null,
      "outputs": [
        {
          "output_type": "stream",
          "text": [
            "O albúm tem: 15 faixas\n"
          ],
          "name": "stdout"
        },
        {
          "output_type": "execute_result",
          "data": {
            "text/html": [
              "<div>\n",
              "<style scoped>\n",
              "    .dataframe tbody tr th:only-of-type {\n",
              "        vertical-align: middle;\n",
              "    }\n",
              "\n",
              "    .dataframe tbody tr th {\n",
              "        vertical-align: top;\n",
              "    }\n",
              "\n",
              "    .dataframe thead th {\n",
              "        text-align: right;\n",
              "    }\n",
              "</style>\n",
              "<table border=\"1\" class=\"dataframe\">\n",
              "  <thead>\n",
              "    <tr style=\"text-align: right;\">\n",
              "      <th></th>\n",
              "      <th>posicao_da_faixa</th>\n",
              "      <th>nome_da_faixa</th>\n",
              "    </tr>\n",
              "  </thead>\n",
              "  <tbody>\n",
              "    <tr>\n",
              "      <th>0</th>\n",
              "      <td>1</td>\n",
              "      <td>Vem No Tum Tum</td>\n",
              "    </tr>\n",
              "    <tr>\n",
              "      <th>1</th>\n",
              "      <td>2</td>\n",
              "      <td>Drip Know Me</td>\n",
              "    </tr>\n",
              "    <tr>\n",
              "      <th>2</th>\n",
              "      <td>3</td>\n",
              "      <td>Match</td>\n",
              "    </tr>\n",
              "    <tr>\n",
              "      <th>3</th>\n",
              "      <td>4</td>\n",
              "      <td>Trap &amp; Brega</td>\n",
              "    </tr>\n",
              "    <tr>\n",
              "      <th>4</th>\n",
              "      <td>5</td>\n",
              "      <td>Marca Sem Roupa</td>\n",
              "    </tr>\n",
              "    <tr>\n",
              "      <th>5</th>\n",
              "      <td>6</td>\n",
              "      <td>Wow!</td>\n",
              "    </tr>\n",
              "    <tr>\n",
              "      <th>6</th>\n",
              "      <td>7</td>\n",
              "      <td>Não Posso Morrer Novo</td>\n",
              "    </tr>\n",
              "    <tr>\n",
              "      <th>7</th>\n",
              "      <td>8</td>\n",
              "      <td>Fuck Cópias</td>\n",
              "    </tr>\n",
              "    <tr>\n",
              "      <th>8</th>\n",
              "      <td>9</td>\n",
              "      <td>Passa Nada</td>\n",
              "    </tr>\n",
              "    <tr>\n",
              "      <th>9</th>\n",
              "      <td>10</td>\n",
              "      <td>Novo Rock</td>\n",
              "    </tr>\n",
              "    <tr>\n",
              "      <th>10</th>\n",
              "      <td>11</td>\n",
              "      <td>Como Tem Que Ser</td>\n",
              "    </tr>\n",
              "    <tr>\n",
              "      <th>11</th>\n",
              "      <td>12</td>\n",
              "      <td>Grife</td>\n",
              "    </tr>\n",
              "    <tr>\n",
              "      <th>12</th>\n",
              "      <td>13</td>\n",
              "      <td>Fogo No Incenso</td>\n",
              "    </tr>\n",
              "    <tr>\n",
              "      <th>13</th>\n",
              "      <td>14</td>\n",
              "      <td>Zombieland</td>\n",
              "    </tr>\n",
              "    <tr>\n",
              "      <th>14</th>\n",
              "      <td>15</td>\n",
              "      <td>Baila Comigo?</td>\n",
              "    </tr>\n",
              "  </tbody>\n",
              "</table>\n",
              "</div>"
            ],
            "text/plain": [
              "    posicao_da_faixa          nome_da_faixa\n",
              "0                  1         Vem No Tum Tum\n",
              "1                  2           Drip Know Me\n",
              "2                  3                  Match\n",
              "3                  4           Trap & Brega\n",
              "4                  5        Marca Sem Roupa\n",
              "5                  6                   Wow!\n",
              "6                  7  Não Posso Morrer Novo\n",
              "7                  8            Fuck Cópias\n",
              "8                  9             Passa Nada\n",
              "9                 10              Novo Rock\n",
              "10                11       Como Tem Que Ser\n",
              "11                12                  Grife\n",
              "12                13        Fogo No Incenso\n",
              "13                14             Zombieland\n",
              "14                15          Baila Comigo?"
            ]
          },
          "metadata": {
            "tags": []
          },
          "execution_count": 45
        }
      ]
    },
    {
      "cell_type": "markdown",
      "metadata": {
        "id": "FqRym2Oz3i12"
      },
      "source": [
        "Por ser o albúm mais recente, coseguentemente existe a probabilidade de ter mais músicas com uma popularidade maior do que músicas de albúns anteriores. O albúm conta com quinze músicas, quase o dobro de músicas do primeiro albúm \"Real Plug\", como mencionado anteriormente, o albúm possue uma grande versatilidade em suas músicas indo da mistura brega e trap na música \"Trap&Brega\" á musica com participação internacional. O que também foi possivel notar foi a leveza e a \"visão\" do artista em suas músicas, também sendo muito falado no albúm suas ambições e desejos para uma vida melhor."
      ]
    },
    {
      "cell_type": "code",
      "metadata": {
        "id": "Bgj7-hgd3gHX",
        "outputId": "b995a251-bedb-49df-c959-7e13987c8dfe",
        "colab": {
          "base_uri": "https://localhost:8080/",
          "height": 394
        }
      },
      "source": [
        "plt.figure(figsize=(25,6))\n",
        "ax = sns.lineplot(x='nome_da_faixa', y='popularidade', data=tff);\n",
        "ax.set_title('Popularidade das faixas', size=13);\n",
        "ax.set_xlabel('Nome da faixa', size=13);\n",
        "ax.set_ylabel('Popularidade', size=13);"
      ],
      "execution_count": null,
      "outputs": [
        {
          "output_type": "display_data",
          "data": {
            "image/png": "[encoded data removed]",
            "text/plain": [
              "<Figure size 1800x432 with 1 Axes>"
            ]
          },
          "metadata": {
            "tags": []
          }
        }
      ]
    },
    {
      "cell_type": "markdown",
      "metadata": {
        "id": "XjEAlrKtbCYI"
      },
      "source": [
        "Nota-se que nenhuma música possui a popularidade igual a zero como nos albúns anteriores, entretanto, o fato de ser o albúm mais recente contribui para isso. Também é posivel notar que a música Trap&Brega cuja possivel uma proposta diferente de músicas anteriores do artista e até mesmo de músicas da cena do rap/trap, possui uma das popularidades mais altas do albúm, no momento em que foi feita a coleta desses dados. Além disso, músicas como \"Marca Sem Roupa\" e \"Vem No Tum Tum\" que tem o mesmo estilo de trap explicito e falam sobre a relação com uma outra pessoa, foram bem acolhidas pelo público, possuindo as maiores popularidades do albúm."
      ]
    },
    {
      "cell_type": "markdown",
      "metadata": {
        "id": "ggpmBR43Fdhe"
      },
      "source": [
        "### **Q2: Quais músicas do artista NexoAnexo estão popular no momento?** "
      ]
    },
    {
      "cell_type": "markdown",
      "metadata": {
        "id": "dYHZ_tOpFdhp"
      },
      "source": [
        "O meu segundo questionamento é saber quais são as músicas do artista que estão popular no momento, lembrando sempre da regra de popularidade do spotify, onde as músicas mais populares são as que estão sendo mais ouvidas no momento e que as músicas que estão sendo analisadas são só as contidas nos álbuns. "
      ]
    },
    {
      "cell_type": "markdown",
      "metadata": {
        "id": "tMRlqRj_Fdhq"
      },
      "source": [
        "A popularidade das músicas podem alterar diariamente de acordo com o lançamento de novas músicas, logo, é provável que a popularidade das músicas mais recentes cresçam, enquanto a popularidade de músicas mais antigas diminuam. "
      ]
    },
    {
      "cell_type": "code",
      "metadata": {
        "id": "L1WkSfR3Fdhs",
        "outputId": "594966c3-1dee-443b-c8dd-6fe5ebf29c1d",
        "colab": {
          "base_uri": "https://localhost:8080/",
          "height": 1000
        }
      },
      "source": [
        "#Músicas com maior popularidade no momento (Data: 27/06)\n",
        "df[['nome_da_faixa', 'popularidade']].sort_values(ascending=False, by='popularidade').reset_index(drop=True)"
      ],
      "execution_count": null,
      "outputs": [
        {
          "output_type": "execute_result",
          "data": {
            "text/html": [
              "<div>\n",
              "<style scoped>\n",
              "    .dataframe tbody tr th:only-of-type {\n",
              "        vertical-align: middle;\n",
              "    }\n",
              "\n",
              "    .dataframe tbody tr th {\n",
              "        vertical-align: top;\n",
              "    }\n",
              "\n",
              "    .dataframe thead th {\n",
              "        text-align: right;\n",
              "    }\n",
              "</style>\n",
              "<table border=\"1\" class=\"dataframe\">\n",
              "  <thead>\n",
              "    <tr style=\"text-align: right;\">\n",
              "      <th></th>\n",
              "      <th>nome_da_faixa</th>\n",
              "      <th>popularidade</th>\n",
              "    </tr>\n",
              "  </thead>\n",
              "  <tbody>\n",
              "    <tr>\n",
              "      <th>0</th>\n",
              "      <td>Vem No Tum Tum</td>\n",
              "      <td>17</td>\n",
              "    </tr>\n",
              "    <tr>\n",
              "      <th>1</th>\n",
              "      <td>Trap de Cria</td>\n",
              "      <td>9</td>\n",
              "    </tr>\n",
              "    <tr>\n",
              "      <th>2</th>\n",
              "      <td>Trap &amp; Brega</td>\n",
              "      <td>6</td>\n",
              "    </tr>\n",
              "    <tr>\n",
              "      <th>3</th>\n",
              "      <td>Marca Sem Roupa</td>\n",
              "      <td>6</td>\n",
              "    </tr>\n",
              "    <tr>\n",
              "      <th>4</th>\n",
              "      <td>Fogo No Incenso</td>\n",
              "      <td>5</td>\n",
              "    </tr>\n",
              "    <tr>\n",
              "      <th>5</th>\n",
              "      <td>Isso Que É Foda</td>\n",
              "      <td>4</td>\n",
              "    </tr>\n",
              "    <tr>\n",
              "      <th>6</th>\n",
              "      <td>2020</td>\n",
              "      <td>4</td>\n",
              "    </tr>\n",
              "    <tr>\n",
              "      <th>7</th>\n",
              "      <td>Match</td>\n",
              "      <td>4</td>\n",
              "    </tr>\n",
              "    <tr>\n",
              "      <th>8</th>\n",
              "      <td>Wow!</td>\n",
              "      <td>3</td>\n",
              "    </tr>\n",
              "    <tr>\n",
              "      <th>9</th>\n",
              "      <td>Como Tem Que Ser</td>\n",
              "      <td>3</td>\n",
              "    </tr>\n",
              "    <tr>\n",
              "      <th>10</th>\n",
              "      <td>Grife</td>\n",
              "      <td>3</td>\n",
              "    </tr>\n",
              "    <tr>\n",
              "      <th>11</th>\n",
              "      <td>Não Posso Morrer Novo</td>\n",
              "      <td>3</td>\n",
              "    </tr>\n",
              "    <tr>\n",
              "      <th>12</th>\n",
              "      <td>Passa Nada</td>\n",
              "      <td>3</td>\n",
              "    </tr>\n",
              "    <tr>\n",
              "      <th>13</th>\n",
              "      <td>Drip Know Me</td>\n",
              "      <td>3</td>\n",
              "    </tr>\n",
              "    <tr>\n",
              "      <th>14</th>\n",
              "      <td>Fuck Cópias</td>\n",
              "      <td>2</td>\n",
              "    </tr>\n",
              "    <tr>\n",
              "      <th>15</th>\n",
              "      <td>A Lista das Bandidas</td>\n",
              "      <td>2</td>\n",
              "    </tr>\n",
              "    <tr>\n",
              "      <th>16</th>\n",
              "      <td>Baila Comigo?</td>\n",
              "      <td>2</td>\n",
              "    </tr>\n",
              "    <tr>\n",
              "      <th>17</th>\n",
              "      <td>Hino dos Irmãos</td>\n",
              "      <td>1</td>\n",
              "    </tr>\n",
              "    <tr>\n",
              "      <th>18</th>\n",
              "      <td>A3</td>\n",
              "      <td>1</td>\n",
              "    </tr>\n",
              "    <tr>\n",
              "      <th>19</th>\n",
              "      <td>Novo Rock</td>\n",
              "      <td>1</td>\n",
              "    </tr>\n",
              "    <tr>\n",
              "      <th>20</th>\n",
              "      <td>Bebê da Cara de Mal</td>\n",
              "      <td>1</td>\n",
              "    </tr>\n",
              "    <tr>\n",
              "      <th>21</th>\n",
              "      <td>Aliviando o Stress</td>\n",
              "      <td>1</td>\n",
              "    </tr>\n",
              "    <tr>\n",
              "      <th>22</th>\n",
              "      <td>Zombieland</td>\n",
              "      <td>1</td>\n",
              "    </tr>\n",
              "    <tr>\n",
              "      <th>23</th>\n",
              "      <td>Video Call</td>\n",
              "      <td>1</td>\n",
              "    </tr>\n",
              "    <tr>\n",
              "      <th>24</th>\n",
              "      <td>E Ai Fake</td>\n",
              "      <td>1</td>\n",
              "    </tr>\n",
              "    <tr>\n",
              "      <th>25</th>\n",
              "      <td>The Train</td>\n",
              "      <td>0</td>\n",
              "    </tr>\n",
              "    <tr>\n",
              "      <th>26</th>\n",
              "      <td>Fica Bem</td>\n",
              "      <td>0</td>\n",
              "    </tr>\n",
              "    <tr>\n",
              "      <th>27</th>\n",
              "      <td>Gospel</td>\n",
              "      <td>0</td>\n",
              "    </tr>\n",
              "    <tr>\n",
              "      <th>28</th>\n",
              "      <td>Nxanx</td>\n",
              "      <td>0</td>\n",
              "    </tr>\n",
              "    <tr>\n",
              "      <th>29</th>\n",
              "      <td>Tudo</td>\n",
              "      <td>0</td>\n",
              "    </tr>\n",
              "    <tr>\n",
              "      <th>30</th>\n",
              "      <td>A Lei</td>\n",
              "      <td>0</td>\n",
              "    </tr>\n",
              "    <tr>\n",
              "      <th>31</th>\n",
              "      <td>Dreams Cup</td>\n",
              "      <td>0</td>\n",
              "    </tr>\n",
              "    <tr>\n",
              "      <th>32</th>\n",
              "      <td>Pjl</td>\n",
              "      <td>0</td>\n",
              "    </tr>\n",
              "  </tbody>\n",
              "</table>\n",
              "</div>"
            ],
            "text/plain": [
              "            nome_da_faixa  popularidade\n",
              "0          Vem No Tum Tum            17\n",
              "1            Trap de Cria             9\n",
              "2            Trap & Brega             6\n",
              "3         Marca Sem Roupa             6\n",
              "4         Fogo No Incenso             5\n",
              "5         Isso Que É Foda             4\n",
              "6                    2020             4\n",
              "7                   Match             4\n",
              "8                    Wow!             3\n",
              "9        Como Tem Que Ser             3\n",
              "10                  Grife             3\n",
              "11  Não Posso Morrer Novo             3\n",
              "12             Passa Nada             3\n",
              "13           Drip Know Me             3\n",
              "14            Fuck Cópias             2\n",
              "15   A Lista das Bandidas             2\n",
              "16          Baila Comigo?             2\n",
              "17        Hino dos Irmãos             1\n",
              "18                     A3             1\n",
              "19              Novo Rock             1\n",
              "20    Bebê da Cara de Mal             1\n",
              "21     Aliviando o Stress             1\n",
              "22             Zombieland             1\n",
              "23             Video Call             1\n",
              "24              E Ai Fake             1\n",
              "25              The Train             0\n",
              "26               Fica Bem             0\n",
              "27                 Gospel             0\n",
              "28                  Nxanx             0\n",
              "29                   Tudo             0\n",
              "30                  A Lei             0\n",
              "31             Dreams Cup             0\n",
              "32                    Pjl             0"
            ]
          },
          "metadata": {
            "tags": []
          },
          "execution_count": 47
        }
      ]
    },
    {
      "cell_type": "markdown",
      "metadata": {
        "id": "V8Jc-mJKFdh1"
      },
      "source": [
        "**Visualização de dados**"
      ]
    },
    {
      "cell_type": "markdown",
      "metadata": {
        "id": "Ss1xvvAoFdh2"
      },
      "source": [
        "Após os dados serem transformados em informação na análise exploratória de dados, a informação ainda precisa se tornar útil para outras pessoas e conseguentemente pode ser utilizada, logo, a visualização de dados tem a responsabilidade de tornar a informação útil e de fácil entendimento, para que outras pessoas possam usar a informação. \n",
        "A etapa de visualizacao de dados está dentro da exploração de dados, com o objetivo de transmitir a informação retiradas dos dados e trata-se de uma das etapas mais importantes da análise exploratória. "
      ]
    },
    {
      "cell_type": "markdown",
      "metadata": {
        "id": "uUm6sqBnFdh3"
      },
      "source": [
        "A visualização de dados pode ser definida dentro da ciência de dados como, \"A formação de imagens visuais mentais para transmitir informações através de\n",
        "representações gráficas de dados\". De acordo com o Edward Tufte que é pioneiro no campo do desenvolvimento de visualizações efetivas e escreveu vários livros sobre o assunto, uma boa visualização de dados precisa seguir três regras: \n",
        "\n",
        "* Integridade gráfica\n",
        "* Maximizar a proporção de dados e tinta\n",
        "* Evitar lixo gráfico.\n",
        "\n",
        "A integridade gráfica está relacionada a parte obscura da visualização de dados, onde não devemos através da visualização de dados e estatística buscar\n",
        "enganar ou trapacear quem está visualizando o gráfico.\n",
        "\n",
        "Para a regra de maximizar a proporção de dados e tintas deve ser levado em conta que quanto mais simples e claro um gráfico for, melhor, o famoso \"menos é mais\". Um dos problemas principais que envolvem a regra de maximização são os famosos gráficos de pizza e 3D. O principal problema de um gráfico de pizza e 3D são suas análises ser de difícil entendimento, tendo em vista, que não somos bons em fazer comparações de área.\n",
        "\n",
        "A terceira regra de evitar lixo gráfico se trata de evitar elementos visuais estranhos ou que não tenham nenhum objetivo e que possam acabar distraindo quem está visualizando o gráfico, por mais que pareça algo simples, é essencial.\n",
        "\n"
      ]
    },
    {
      "cell_type": "markdown",
      "metadata": {
        "id": "XLTDyjQ5Fdh3"
      },
      "source": [
        "A partir do questionamento levantado, irei construir um gráfico das músicas que estão popular no momento. Para tal, será usada a biblioteca \"Seaborn\" pela sua simplicidade e por possuir paramêtros que são muito utéis para construir uma visualização de dados que respeite as três regras essenciais de uma boa visualização de dados, mencionadas anteriormente. Por outro lado, com a biblioteca \"Matplotlib\" para construir uma boa visualização de dados e gerar gráficos visualmente adequados, o nível de dificuldade é maior, sendo necessario um conhecimento maior dos parametros e funcionalidade disponiveis da biblioteca. Por isso, foi escolhida a biblioteca \"Seaborn\"."
      ]
    },
    {
      "cell_type": "code",
      "metadata": {
        "id": "Hmf_ywSxFdh4"
      },
      "source": [
        "#Retornar as 10 músicas que estão popular e transformar em uma variavel para construir o gráfico\n",
        "musicas_populares = df[['nome_da_faixa', 'popularidade']].sort_values(ascending=False, by='popularidade').reset_index(drop=True)[:20]"
      ],
      "execution_count": null,
      "outputs": []
    },
    {
      "cell_type": "code",
      "metadata": {
        "id": "o7nv-V7LFdh-",
        "outputId": "2f5391d3-5581-44fe-a7fd-55f243867c55",
        "colab": {
          "base_uri": "https://localhost:8080/",
          "height": 506
        }
      },
      "source": [
        "#Plotar gráfico de barras com seaborn das músicas que estão popular\n",
        "plt.figure(figsize=(16,6))\n",
        "ax = sns.barplot(x= 'nome_da_faixa', \n",
        "                 y = 'popularidade', \n",
        "                 data = musicas_populares, \n",
        "                 palette = sns.color_palette(\"BuGn_r\", n_colors=len(musicas_populares)))\n",
        "ax.set_xticklabels(ax.get_xticklabels(), rotation=65)\n",
        "ax.set_title('Gráfico das Músicas com maior popularidade no momento');\n"
      ],
      "execution_count": null,
      "outputs": [
        {
          "output_type": "display_data",
          "data": {
            "image/png": "[encoded data removed]",
            "text/plain": [
              "<Figure size 1152x432 with 1 Axes>"
            ]
          },
          "metadata": {
            "tags": []
          }
        }
      ]
    },
    {
      "cell_type": "markdown",
      "metadata": {
        "id": "sCcOnHylFdiB"
      },
      "source": [
        "As duas primeiras músicas que estão popular no momento são \"Trap de Cria\" do segundo albúm Trap de Cria e \"Vem No Tum Tum\" do mais recente albúm Trap From Future, mas o que chama atenção é que ambas estão na primeira posição dos seus álbuns, levantando uma nova hipotese de que se a popularidade das músicas tem relação com as suas posições. Tendo em vista que á música que está na posição um sempre é ouvida quando inicia a playlist. Mas não é só isso que dá pra observar, a música \"2020\" do primeiro albúm Real Plug está a frente de muitas músicas do recente albúm Trap From Future. \n"
      ]
    },
    {
      "cell_type": "markdown",
      "metadata": {
        "id": "IFTyenRszanp"
      },
      "source": [
        "### **Q3: Verificando se a popularidade das faixas tem relação com sua posição**"
      ]
    },
    {
      "cell_type": "markdown",
      "metadata": {
        "id": "gpqwNRtwJIti"
      },
      "source": [
        "A primeira música de um albúm, pode se tornar popular por sempre iniciar a playlist do albúm, mas a primeira música que está com uma popularidade alta nem sempre é a mais ouvida, por isso é preciso ter cuidado. Por outro lado, agora é preciso descobrir se a popularidade das músicas seguintes dos álbuns seguem de acordo com suas posições."
      ]
    },
    {
      "cell_type": "markdown",
      "metadata": {
        "id": "-VEGms1xeXW3"
      },
      "source": [
        "**Albúm Trap From Future**"
      ]
    },
    {
      "cell_type": "code",
      "metadata": {
        "id": "PTLYymbXzanq",
        "outputId": "ab493fe2-d8d7-4659-a1a1-1fab64a9a0dc",
        "colab": {
          "base_uri": "https://localhost:8080/",
          "height": 497
        }
      },
      "source": [
        "#Popularidade e posição das músicas do albúm Trap From Future\n",
        "tff[['nome_da_faixa', 'posicao_da_faixa', 'popularidade']].sort_values(ascending=False, by='popularidade').reset_index(drop=True)"
      ],
      "execution_count": null,
      "outputs": [
        {
          "output_type": "execute_result",
          "data": {
            "text/html": [
              "<div>\n",
              "<style scoped>\n",
              "    .dataframe tbody tr th:only-of-type {\n",
              "        vertical-align: middle;\n",
              "    }\n",
              "\n",
              "    .dataframe tbody tr th {\n",
              "        vertical-align: top;\n",
              "    }\n",
              "\n",
              "    .dataframe thead th {\n",
              "        text-align: right;\n",
              "    }\n",
              "</style>\n",
              "<table border=\"1\" class=\"dataframe\">\n",
              "  <thead>\n",
              "    <tr style=\"text-align: right;\">\n",
              "      <th></th>\n",
              "      <th>nome_da_faixa</th>\n",
              "      <th>posicao_da_faixa</th>\n",
              "      <th>popularidade</th>\n",
              "    </tr>\n",
              "  </thead>\n",
              "  <tbody>\n",
              "    <tr>\n",
              "      <th>0</th>\n",
              "      <td>Vem No Tum Tum</td>\n",
              "      <td>1</td>\n",
              "      <td>17</td>\n",
              "    </tr>\n",
              "    <tr>\n",
              "      <th>1</th>\n",
              "      <td>Trap &amp; Brega</td>\n",
              "      <td>4</td>\n",
              "      <td>6</td>\n",
              "    </tr>\n",
              "    <tr>\n",
              "      <th>2</th>\n",
              "      <td>Marca Sem Roupa</td>\n",
              "      <td>5</td>\n",
              "      <td>6</td>\n",
              "    </tr>\n",
              "    <tr>\n",
              "      <th>3</th>\n",
              "      <td>Fogo No Incenso</td>\n",
              "      <td>13</td>\n",
              "      <td>5</td>\n",
              "    </tr>\n",
              "    <tr>\n",
              "      <th>4</th>\n",
              "      <td>Match</td>\n",
              "      <td>3</td>\n",
              "      <td>4</td>\n",
              "    </tr>\n",
              "    <tr>\n",
              "      <th>5</th>\n",
              "      <td>Drip Know Me</td>\n",
              "      <td>2</td>\n",
              "      <td>3</td>\n",
              "    </tr>\n",
              "    <tr>\n",
              "      <th>6</th>\n",
              "      <td>Wow!</td>\n",
              "      <td>6</td>\n",
              "      <td>3</td>\n",
              "    </tr>\n",
              "    <tr>\n",
              "      <th>7</th>\n",
              "      <td>Não Posso Morrer Novo</td>\n",
              "      <td>7</td>\n",
              "      <td>3</td>\n",
              "    </tr>\n",
              "    <tr>\n",
              "      <th>8</th>\n",
              "      <td>Passa Nada</td>\n",
              "      <td>9</td>\n",
              "      <td>3</td>\n",
              "    </tr>\n",
              "    <tr>\n",
              "      <th>9</th>\n",
              "      <td>Como Tem Que Ser</td>\n",
              "      <td>11</td>\n",
              "      <td>3</td>\n",
              "    </tr>\n",
              "    <tr>\n",
              "      <th>10</th>\n",
              "      <td>Grife</td>\n",
              "      <td>12</td>\n",
              "      <td>3</td>\n",
              "    </tr>\n",
              "    <tr>\n",
              "      <th>11</th>\n",
              "      <td>Fuck Cópias</td>\n",
              "      <td>8</td>\n",
              "      <td>2</td>\n",
              "    </tr>\n",
              "    <tr>\n",
              "      <th>12</th>\n",
              "      <td>Baila Comigo?</td>\n",
              "      <td>15</td>\n",
              "      <td>2</td>\n",
              "    </tr>\n",
              "    <tr>\n",
              "      <th>13</th>\n",
              "      <td>Novo Rock</td>\n",
              "      <td>10</td>\n",
              "      <td>1</td>\n",
              "    </tr>\n",
              "    <tr>\n",
              "      <th>14</th>\n",
              "      <td>Zombieland</td>\n",
              "      <td>14</td>\n",
              "      <td>1</td>\n",
              "    </tr>\n",
              "  </tbody>\n",
              "</table>\n",
              "</div>"
            ],
            "text/plain": [
              "            nome_da_faixa  posicao_da_faixa  popularidade\n",
              "0          Vem No Tum Tum                 1            17\n",
              "1            Trap & Brega                 4             6\n",
              "2         Marca Sem Roupa                 5             6\n",
              "3         Fogo No Incenso                13             5\n",
              "4                   Match                 3             4\n",
              "5            Drip Know Me                 2             3\n",
              "6                    Wow!                 6             3\n",
              "7   Não Posso Morrer Novo                 7             3\n",
              "8              Passa Nada                 9             3\n",
              "9        Como Tem Que Ser                11             3\n",
              "10                  Grife                12             3\n",
              "11            Fuck Cópias                 8             2\n",
              "12          Baila Comigo?                15             2\n",
              "13              Novo Rock                10             1\n",
              "14             Zombieland                14             1"
            ]
          },
          "metadata": {
            "tags": []
          },
          "execution_count": 50
        }
      ]
    },
    {
      "cell_type": "markdown",
      "metadata": {
        "id": "Olh7qBg717aR"
      },
      "source": [
        "Nota-se que se a posição das músicas tivessem relação com as suas popularidades, após a primeira música, as músicas seguintes deveriam de forma decrescente ir diminuindo suas popularidades, o que não acontece. A segunda música do albúm \"Drip Know Me\" que de acordo com a hipotese nula deveria ser a segunda mais ouvida, ocupa a sexta posição da popularidade do albúm, com uma popularidade igual á três."
      ]
    },
    {
      "cell_type": "code",
      "metadata": {
        "id": "3z00LFK59rlr",
        "outputId": "cd048763-018a-48b5-afe8-dc48414f8fb8",
        "colab": {
          "base_uri": "https://localhost:8080/",
          "height": 320
        }
      },
      "source": [
        "#Gráfico comparativo da posição da música em relação á sua popularidade\n",
        "dados = tff[['posicao_da_faixa','popularidade']]\n",
        "\n",
        "fig, ax = plt.subplots(figsize = (15,5))\n",
        "dados.plot(kind='line', marker='o', ax=ax)\n",
        "plt.show()\n"
      ],
      "execution_count": null,
      "outputs": [
        {
          "output_type": "display_data",
          "data": {
            "image/png": "[encoded data removed]",
            "text/plain": [
              "<Figure size 1080x360 with 1 Axes>"
            ]
          },
          "metadata": {
            "tags": []
          }
        }
      ]
    },
    {
      "cell_type": "markdown",
      "metadata": {
        "id": "kca8fobKAZg7"
      },
      "source": [
        "Diferente do primeiro gráfico, esse gráfico foi construído com a biblioteca \"Matplotlib\" por se tratar de um gráfico que transmite a informação de forma clara para quem está visualizando e por sua facilidade ao se construir. Com o gráfico é possivel observar que a popularidade das músicas que estão na posição um à cinco tem uma crescente, mas depois a popularidade não segue mais um padrão de acordo com a posição. Lembrar que o gráfico está representado pelo index, ou seja, a música com posição um está representada como zero e assim em diante. "
      ]
    },
    {
      "cell_type": "markdown",
      "metadata": {
        "id": "SqxqMFVZ-3mB"
      },
      "source": [
        "**Albúm Trap de Cria**"
      ]
    },
    {
      "cell_type": "code",
      "metadata": {
        "id": "s9d19YcCzany",
        "outputId": "82e6b619-ece5-4371-9319-099a20f63b91",
        "colab": {
          "base_uri": "https://localhost:8080/",
          "height": 347
        }
      },
      "source": [
        "#Popularidade e posição das músicas do albúm Trap de Cria\n",
        "tcm[['nome_da_faixa', 'posicao_da_faixa', 'popularidade']].sort_values(ascending=False, by='popularidade').reset_index(drop=True)"
      ],
      "execution_count": null,
      "outputs": [
        {
          "output_type": "execute_result",
          "data": {
            "text/html": [
              "<div>\n",
              "<style scoped>\n",
              "    .dataframe tbody tr th:only-of-type {\n",
              "        vertical-align: middle;\n",
              "    }\n",
              "\n",
              "    .dataframe tbody tr th {\n",
              "        vertical-align: top;\n",
              "    }\n",
              "\n",
              "    .dataframe thead th {\n",
              "        text-align: right;\n",
              "    }\n",
              "</style>\n",
              "<table border=\"1\" class=\"dataframe\">\n",
              "  <thead>\n",
              "    <tr style=\"text-align: right;\">\n",
              "      <th></th>\n",
              "      <th>nome_da_faixa</th>\n",
              "      <th>posicao_da_faixa</th>\n",
              "      <th>popularidade</th>\n",
              "    </tr>\n",
              "  </thead>\n",
              "  <tbody>\n",
              "    <tr>\n",
              "      <th>0</th>\n",
              "      <td>Trap de Cria</td>\n",
              "      <td>1</td>\n",
              "      <td>9</td>\n",
              "    </tr>\n",
              "    <tr>\n",
              "      <th>1</th>\n",
              "      <td>Isso Que É Foda</td>\n",
              "      <td>9</td>\n",
              "      <td>4</td>\n",
              "    </tr>\n",
              "    <tr>\n",
              "      <th>2</th>\n",
              "      <td>A Lista das Bandidas</td>\n",
              "      <td>2</td>\n",
              "      <td>2</td>\n",
              "    </tr>\n",
              "    <tr>\n",
              "      <th>3</th>\n",
              "      <td>A3</td>\n",
              "      <td>3</td>\n",
              "      <td>1</td>\n",
              "    </tr>\n",
              "    <tr>\n",
              "      <th>4</th>\n",
              "      <td>E Ai Fake</td>\n",
              "      <td>4</td>\n",
              "      <td>1</td>\n",
              "    </tr>\n",
              "    <tr>\n",
              "      <th>5</th>\n",
              "      <td>Video Call</td>\n",
              "      <td>5</td>\n",
              "      <td>1</td>\n",
              "    </tr>\n",
              "    <tr>\n",
              "      <th>6</th>\n",
              "      <td>Aliviando o Stress</td>\n",
              "      <td>6</td>\n",
              "      <td>1</td>\n",
              "    </tr>\n",
              "    <tr>\n",
              "      <th>7</th>\n",
              "      <td>Hino dos Irmãos</td>\n",
              "      <td>7</td>\n",
              "      <td>1</td>\n",
              "    </tr>\n",
              "    <tr>\n",
              "      <th>8</th>\n",
              "      <td>Bebê da Cara de Mal</td>\n",
              "      <td>8</td>\n",
              "      <td>1</td>\n",
              "    </tr>\n",
              "    <tr>\n",
              "      <th>9</th>\n",
              "      <td>Pjl</td>\n",
              "      <td>10</td>\n",
              "      <td>0</td>\n",
              "    </tr>\n",
              "  </tbody>\n",
              "</table>\n",
              "</div>"
            ],
            "text/plain": [
              "          nome_da_faixa  posicao_da_faixa  popularidade\n",
              "0          Trap de Cria                 1             9\n",
              "1       Isso Que É Foda                 9             4\n",
              "2  A Lista das Bandidas                 2             2\n",
              "3                    A3                 3             1\n",
              "4             E Ai Fake                 4             1\n",
              "5            Video Call                 5             1\n",
              "6    Aliviando o Stress                 6             1\n",
              "7       Hino dos Irmãos                 7             1\n",
              "8   Bebê da Cara de Mal                 8             1\n",
              "9                   Pjl                10             0"
            ]
          },
          "metadata": {
            "tags": []
          },
          "execution_count": 52
        }
      ]
    },
    {
      "cell_type": "markdown",
      "metadata": {
        "id": "AGiNbIQHbuyl"
      },
      "source": [
        "Assim como no albúm Trap From Future, a música mais popular deste albúm é a que está na primeira posição e por mais que muitas músicas do albúm não estejam com a popularidade em alta, ainda é possivel observar que a música \"Isso Que É Foda\" que ocupa a penúltima posição do albúm é a segunda com maior popularidade."
      ]
    },
    {
      "cell_type": "code",
      "metadata": {
        "id": "Vev8EO2mk1qv",
        "outputId": "f92d360d-f26d-4ac8-ac6f-4bd9327926b6",
        "colab": {
          "base_uri": "https://localhost:8080/",
          "height": 320
        }
      },
      "source": [
        "#Gráfico comparativo da posição da música em relação á sua popularidade\n",
        "dados = tcm[['posicao_da_faixa','popularidade']]\n",
        "\n",
        "fig, ax = plt.subplots(figsize = (15,5))\n",
        "\n",
        "dados.plot(kind='line', marker='o', ax=ax)\n",
        "plt.show()"
      ],
      "execution_count": null,
      "outputs": [
        {
          "output_type": "display_data",
          "data": {
            "image/png": "[encoded data removed]",
            "text/plain": [
              "<Figure size 1080x360 with 1 Axes>"
            ]
          },
          "metadata": {
            "tags": []
          }
        }
      ]
    },
    {
      "cell_type": "markdown",
      "metadata": {
        "id": "QbhGuMA0lTFk"
      },
      "source": [
        "Diferente do gráfico comparativo da posição da música em relação á sua popularidade do albúm mais recente Trap From Future, no gráfico do segundo albúm já é possivel observar que dificilmente a popularidade das músicas seguem um padrão de acordo com as suas posições."
      ]
    },
    {
      "cell_type": "markdown",
      "metadata": {
        "id": "fnfhrZ-6-w3M"
      },
      "source": [
        "**Albúm Real Plug**"
      ]
    },
    {
      "cell_type": "code",
      "metadata": {
        "id": "fHJWKMl3zanu",
        "outputId": "b5245e43-ccaa-4dce-cec0-47ee7e75cbf4",
        "colab": {
          "base_uri": "https://localhost:8080/",
          "height": 287
        }
      },
      "source": [
        "#Popularidade e posição das músicas do albúm Trap From Future\n",
        "rmx[['nome_da_faixa','posicao_da_faixa', 'popularidade']].reset_index(drop=True)"
      ],
      "execution_count": null,
      "outputs": [
        {
          "output_type": "execute_result",
          "data": {
            "text/html": [
              "<div>\n",
              "<style scoped>\n",
              "    .dataframe tbody tr th:only-of-type {\n",
              "        vertical-align: middle;\n",
              "    }\n",
              "\n",
              "    .dataframe tbody tr th {\n",
              "        vertical-align: top;\n",
              "    }\n",
              "\n",
              "    .dataframe thead th {\n",
              "        text-align: right;\n",
              "    }\n",
              "</style>\n",
              "<table border=\"1\" class=\"dataframe\">\n",
              "  <thead>\n",
              "    <tr style=\"text-align: right;\">\n",
              "      <th></th>\n",
              "      <th>nome_da_faixa</th>\n",
              "      <th>posicao_da_faixa</th>\n",
              "      <th>popularidade</th>\n",
              "    </tr>\n",
              "  </thead>\n",
              "  <tbody>\n",
              "    <tr>\n",
              "      <th>0</th>\n",
              "      <td>The Train</td>\n",
              "      <td>1</td>\n",
              "      <td>0</td>\n",
              "    </tr>\n",
              "    <tr>\n",
              "      <th>1</th>\n",
              "      <td>Fica Bem</td>\n",
              "      <td>2</td>\n",
              "      <td>0</td>\n",
              "    </tr>\n",
              "    <tr>\n",
              "      <th>2</th>\n",
              "      <td>Gospel</td>\n",
              "      <td>3</td>\n",
              "      <td>0</td>\n",
              "    </tr>\n",
              "    <tr>\n",
              "      <th>3</th>\n",
              "      <td>Nxanx</td>\n",
              "      <td>4</td>\n",
              "      <td>0</td>\n",
              "    </tr>\n",
              "    <tr>\n",
              "      <th>4</th>\n",
              "      <td>Tudo</td>\n",
              "      <td>5</td>\n",
              "      <td>0</td>\n",
              "    </tr>\n",
              "    <tr>\n",
              "      <th>5</th>\n",
              "      <td>A Lei</td>\n",
              "      <td>6</td>\n",
              "      <td>0</td>\n",
              "    </tr>\n",
              "    <tr>\n",
              "      <th>6</th>\n",
              "      <td>Dreams Cup</td>\n",
              "      <td>7</td>\n",
              "      <td>0</td>\n",
              "    </tr>\n",
              "    <tr>\n",
              "      <th>7</th>\n",
              "      <td>2020</td>\n",
              "      <td>8</td>\n",
              "      <td>4</td>\n",
              "    </tr>\n",
              "  </tbody>\n",
              "</table>\n",
              "</div>"
            ],
            "text/plain": [
              "  nome_da_faixa  posicao_da_faixa  popularidade\n",
              "0     The Train                 1             0\n",
              "1      Fica Bem                 2             0\n",
              "2        Gospel                 3             0\n",
              "3         Nxanx                 4             0\n",
              "4          Tudo                 5             0\n",
              "5         A Lei                 6             0\n",
              "6    Dreams Cup                 7             0\n",
              "7          2020                 8             4"
            ]
          },
          "metadata": {
            "tags": []
          },
          "execution_count": 54
        }
      ]
    },
    {
      "cell_type": "markdown",
      "metadata": {
        "id": "4z4TxyGQbZ2_"
      },
      "source": [
        "Por se tratar do albúm mais antigo, a primeira música do albúm não é a mais ouvida, como nos dois últimos álbuns. Por outro lado, ainda que esteja na última posição do albúm, a música \"2020\" é a única música do albúm que ainda tem a popularidade em alta e se a sua popularidade for comparada à popularidade de músicas do albúm mais recente \"Trap From Future\", \"2020\" pode ser considerada de fato um sucesso!\n",
        "\n",
        "Ainda que, se os três álbuns forem comparados, a música \"2020\" é a única que possui a popularidade em alta, estando na ultima posição de um albúm."
      ]
    },
    {
      "cell_type": "code",
      "metadata": {
        "id": "yZYRcvzcjo1G",
        "outputId": "a3cf4874-276f-48db-a17c-a55e743355d5",
        "colab": {
          "base_uri": "https://localhost:8080/",
          "height": 320
        }
      },
      "source": [
        "#Gráfico comparativo da posição da música em relação á sua popularidade\n",
        "dados = rmx[['posicao_da_faixa','popularidade']]\n",
        "\n",
        "fig, ax = plt.subplots(figsize = (15,5))\n",
        "dados.plot(kind='line', marker='o', ax=ax)\n",
        "plt.show()"
      ],
      "execution_count": null,
      "outputs": [
        {
          "output_type": "display_data",
          "data": {
            "image/png": "[encoded data removed]",
            "text/plain": [
              "<Figure size 1080x360 with 1 Axes>"
            ]
          },
          "metadata": {
            "tags": []
          }
        }
      ]
    },
    {
      "cell_type": "markdown",
      "metadata": {
        "id": "UnI2poN055zE"
      },
      "source": [
        "É incrivel como a música \"2020\" ainda possui um bom alcance! Mesmo que a popularidade atual não seja tão alta, a música está a frente de grandes músicas do albúm mais recente \"Trap From Future\", como as músicas \"Wow!\", \"Grife\" e \"Não Posso Morrer Novo Mano\"."
      ]
    },
    {
      "cell_type": "markdown",
      "metadata": {
        "id": "RCCJ9Lbw6kpu"
      },
      "source": [
        "O que fica claro é que a popularidade de uma música só tem relação com a sua posição para a primeira música, devido que elas iniciam automaticamente a playlist do albúm, conseguemente é considerada ouvida e resultando num erro de maior popularidade. \n",
        "\n"
      ]
    },
    {
      "cell_type": "markdown",
      "metadata": {
        "id": "F8NVd0VMlYXD"
      },
      "source": [
        "**Correlação (Estatística Multivariada)**"
      ]
    },
    {
      "cell_type": "markdown",
      "metadata": {
        "id": "B_oyf0YYIrKt"
      },
      "source": [
        "Agora será feito uma correlação da popularidade das músicas com as suas posições, através das variáveis popularidade e posição. Aplicando conceitos de estatística multivariada, para averiguar se realmente a posição da faixa não tem relação com a popularidade. Aplicando o metodo de correlação de estatistica multivariada."
      ]
    },
    {
      "cell_type": "markdown",
      "metadata": {
        "id": "JX36C45kMrij"
      },
      "source": [
        "A análise com estatística multivariada consiste em considerar duas ou mais variáveis simultaneamente e entender como elas se relacionam. Existem dois coeficientes de correlação que são populares para realizar a análise, **Pearson e Spearman.** Para essa análise de correlação da popularidade das músicas e suas posições será usado o coeficiente \"Spearman\"."
      ]
    },
    {
      "cell_type": "markdown",
      "metadata": {
        "id": "L4C2foazN5_K"
      },
      "source": [
        "O coeficiente de Spearman foi escolhido por avaliar se a tendência de uma variável crescer ou diminuir faz com que a outra variável também cresça ou diminua. Nesse caso, a tendência da variável Popularidade crescer ou diminuir em relação a posição. "
      ]
    },
    {
      "cell_type": "code",
      "metadata": {
        "id": "DgUnLdcCs-qx",
        "outputId": "603f5cd5-c9fb-4f58-a4fe-1760af29e631",
        "colab": {
          "base_uri": "https://localhost:8080/",
          "height": 107
        }
      },
      "source": [
        "#Correlação com Spearman\n",
        "df[['posicao_da_faixa', 'popularidade']].corr(method='spearman')"
      ],
      "execution_count": null,
      "outputs": [
        {
          "output_type": "execute_result",
          "data": {
            "text/html": [
              "<div>\n",
              "<style scoped>\n",
              "    .dataframe tbody tr th:only-of-type {\n",
              "        vertical-align: middle;\n",
              "    }\n",
              "\n",
              "    .dataframe tbody tr th {\n",
              "        vertical-align: top;\n",
              "    }\n",
              "\n",
              "    .dataframe thead th {\n",
              "        text-align: right;\n",
              "    }\n",
              "</style>\n",
              "<table border=\"1\" class=\"dataframe\">\n",
              "  <thead>\n",
              "    <tr style=\"text-align: right;\">\n",
              "      <th></th>\n",
              "      <th>posicao_da_faixa</th>\n",
              "      <th>popularidade</th>\n",
              "    </tr>\n",
              "  </thead>\n",
              "  <tbody>\n",
              "    <tr>\n",
              "      <th>posicao_da_faixa</th>\n",
              "      <td>1.000000</td>\n",
              "      <td>0.034384</td>\n",
              "    </tr>\n",
              "    <tr>\n",
              "      <th>popularidade</th>\n",
              "      <td>0.034384</td>\n",
              "      <td>1.000000</td>\n",
              "    </tr>\n",
              "  </tbody>\n",
              "</table>\n",
              "</div>"
            ],
            "text/plain": [
              "                  posicao_da_faixa  popularidade\n",
              "posicao_da_faixa          1.000000      0.034384\n",
              "popularidade              0.034384      1.000000"
            ]
          },
          "metadata": {
            "tags": []
          },
          "execution_count": 56
        }
      ]
    },
    {
      "cell_type": "markdown",
      "metadata": {
        "id": "jktV3YnKRR37"
      },
      "source": [
        "Se a correlão das variáveis atingir -1, significa que sempre que uma variável aumenta a outra diminui, por outro lado, se atinge 1, sempre que uma variável aumenta a outra variável também aumenta. Na correlação que foi feita das variáveis popularidade e posição da faixa, nota-se que existe uma correlação muito fraca da posição da faixa com a popularidade, com uma correlação de 0.034."
      ]
    },
    {
      "cell_type": "markdown",
      "metadata": {
        "id": "jMd-sXZO4DdM"
      },
      "source": [
        "### **Q5: Qual a classificação da popularidade?**"
      ]
    },
    {
      "cell_type": "markdown",
      "metadata": {
        "id": "EDmpCSGVNuiS"
      },
      "source": [
        "É essencial que em uma análise exploratória de dados se aplique um pouco de estátistica para entender como os dados se comportam, por isso, agora a EDA será mais voltada para o lado estatístico. Primeiramente, para entender como os dados da coluna popularidade estão distribuidos, será aplicado o método estatístico **describe()**, o método é responsável por retornar um resumo estatístico dos dados, sendo muito importante para um primeiro entendimento estatístico dos dados e até mesmo identificar outliers, se os dados forem muito discrepantes."
      ]
    },
    {
      "cell_type": "code",
      "metadata": {
        "id": "snKFJ6zSfA9f",
        "outputId": "e642d769-25bd-4a64-9613-0dca8e1d54c3",
        "colab": {
          "base_uri": "https://localhost:8080/",
          "height": 166
        }
      },
      "source": [
        "#Resumo estatístico com Describe\n",
        "df['popularidade'].describe()"
      ],
      "execution_count": null,
      "outputs": [
        {
          "output_type": "execute_result",
          "data": {
            "text/plain": [
              "count    33.000000\n",
              "mean      2.636364\n",
              "std       3.352408\n",
              "min       0.000000\n",
              "25%       1.000000\n",
              "50%       2.000000\n",
              "75%       3.000000\n",
              "max      17.000000\n",
              "Name: popularidade, dtype: float64"
            ]
          },
          "metadata": {
            "tags": []
          },
          "execution_count": 57
        }
      ]
    },
    {
      "cell_type": "markdown",
      "metadata": {
        "id": "xHevi9HAi4Te"
      },
      "source": [
        "Com o resumo estatístico dos dados, já consigo observar que a popularidade mais alta é igual a dezessete e a menor popularidade é igual a zero, apesar de serem dois valores que possuem uma grande diferença, não se pode considerar ou entender que existe outliers presentes, por saber que essa diferença é normal na coluna popularidade, devido a regra de popularidade do spotify. Nota-se também que a média da popularidade é igual a dois e sesenta e três, uma média que pode ser considerada baixa. "
      ]
    },
    {
      "cell_type": "markdown",
      "metadata": {
        "id": "ZCU8FSrjOFNk"
      },
      "source": [
        "### **Aplicando estatistica descritiva univariada**"
      ]
    },
    {
      "cell_type": "markdown",
      "metadata": {
        "id": "V9kN7wBlONc8"
      },
      "source": [
        "Uma das estatística que se pode aplicar na EDA é a estatística descritiva univariada. A estatítica descritiva univariada pode ser aplicada quando se está interessado em estabelecer medidas que resumem quantitivamente uma variável, logo, essas medidas dirão sobre a tendência de centralidade dos dados e suas dispersões. Medidas como: Média, Variância, Desvio padrão, Curtose e Assimetria. "
      ]
    },
    {
      "cell_type": "markdown",
      "metadata": {
        "id": "wmved-zVOxYo"
      },
      "source": [
        "### **Q7: Qual a média da popularidade por álbum?**"
      ]
    },
    {
      "cell_type": "markdown",
      "metadata": {
        "id": "0GQdUX4bPLcy"
      },
      "source": [
        "A média é uma das principais medidas de tendência central dos dados e que demonstra a concentração dos dados de uma distribuição. Por isso tão importante entender e interpretar bem o seu valor. O calcúlo de uma média pode ser feito da seguinte forma:\n",
        "\n",
        "$$\\hat{\\mu} = \\bar{X} = \\sum_{X} X p(X)$$"
      ]
    },
    {
      "cell_type": "code",
      "metadata": {
        "id": "BVSHf8Ayge-c",
        "outputId": "5621ea6f-6cfb-4ebc-a33f-c41e24b44074",
        "colab": {
          "base_uri": "https://localhost:8080/",
          "height": 137
        }
      },
      "source": [
        "#Média da popularidade por álbum\n",
        "media_popularidade = df.groupby('nome_do_album')['popularidade'].mean().reset_index().sort_values(ascending=False, by='popularidade')\n",
        "media_popularidade "
      ],
      "execution_count": null,
      "outputs": [
        {
          "output_type": "execute_result",
          "data": {
            "text/html": [
              "<div>\n",
              "<style scoped>\n",
              "    .dataframe tbody tr th:only-of-type {\n",
              "        vertical-align: middle;\n",
              "    }\n",
              "\n",
              "    .dataframe tbody tr th {\n",
              "        vertical-align: top;\n",
              "    }\n",
              "\n",
              "    .dataframe thead th {\n",
              "        text-align: right;\n",
              "    }\n",
              "</style>\n",
              "<table border=\"1\" class=\"dataframe\">\n",
              "  <thead>\n",
              "    <tr style=\"text-align: right;\">\n",
              "      <th></th>\n",
              "      <th>nome_do_album</th>\n",
              "      <th>popularidade</th>\n",
              "    </tr>\n",
              "  </thead>\n",
              "  <tbody>\n",
              "    <tr>\n",
              "      <th>2</th>\n",
              "      <td>Trap from Future</td>\n",
              "      <td>4.133333</td>\n",
              "    </tr>\n",
              "    <tr>\n",
              "      <th>1</th>\n",
              "      <td>Trap de Cria Mixtape</td>\n",
              "      <td>2.100000</td>\n",
              "    </tr>\n",
              "    <tr>\n",
              "      <th>0</th>\n",
              "      <td>Real Plug Mixtape</td>\n",
              "      <td>0.500000</td>\n",
              "    </tr>\n",
              "  </tbody>\n",
              "</table>\n",
              "</div>"
            ],
            "text/plain": [
              "          nome_do_album  popularidade\n",
              "2      Trap from Future      4.133333\n",
              "1  Trap de Cria Mixtape      2.100000\n",
              "0     Real Plug Mixtape      0.500000"
            ]
          },
          "metadata": {
            "tags": []
          },
          "execution_count": 58
        }
      ]
    },
    {
      "cell_type": "markdown",
      "metadata": {
        "id": "VFgZRTZQk14N"
      },
      "source": [
        "Nada fora do normal, já era de se esperar que o Albúmm Trap From Future possuísse a maior média de popularidade e o albúm Real Plug a menor média de populuridade, por serem o albúm mais recente e antigo, respectivamente. Porém, é possivel notar que o albúm Trap From Future possue a popularidade acima da média, tendo em vista que a média da popularidade é igual a dois e sessenta e três. Por outro lado, o albúm Trap de Cria possue uma popularidade abaixo da média."
      ]
    },
    {
      "cell_type": "markdown",
      "metadata": {
        "id": "AC37_D0Aklku"
      },
      "source": [
        "### **Construindo uma nova coluna de acordo com a média da popularidade (Engenharia de Recursos)**"
      ]
    },
    {
      "cell_type": "markdown",
      "metadata": {
        "id": "Nr_mKXIYUJYw"
      },
      "source": [
        "O que agora será feito pode ser chamado de engenharia de recursos, a engenharia de recursos ou feature engineering é aplicada principalmente em projetos de Machine Learning, onde é preciso fornecer ao algoritmo de machine learning novos recursos que representem melhor o problema, para que obtenha um melhor desempenho do modelo. A engenharia de recursos pode ser definida como o processo de transformar dados brutos em recursos que representem melhor o problema subjacente aos modelos de machine learning. \n",
        "\n",
        "No mundo real, os dados dificilmente estarão prontos para serem consumidos e servirem como dados de entrada para os modelos. Por isso, na maioria dos casos grande parte do tempo de um projeto de machine learning é gasto com a engenharia de recursos."
      ]
    },
    {
      "cell_type": "code",
      "metadata": {
        "id": "QvZWMGY5jb7B"
      },
      "source": [
        "#Nova coluna de acordo com o valor da média da popularidaded\n",
        "df['frequencia_de_popularidade_das_musicas'] = ['Acima da média' if x > 2.63 else 'Abaixo da média' for x in df['popularidade']]"
      ],
      "execution_count": null,
      "outputs": []
    },
    {
      "cell_type": "markdown",
      "metadata": {
        "id": "wEsVF002MrEH"
      },
      "source": [
        "A coluna foi construída usando uma fução built-in chamada list comprehension, por sua praticidade ao construir um código em uma única linha, mesmo usando condicionais e loops. A música que estiver com uma popularidade acima de 2.63, consequentemente está acima da média de popularidade. Logo, a música que estiver com a popularidade abaixo de 2.63, está com abaixo da média de popularidade."
      ]
    },
    {
      "cell_type": "markdown",
      "metadata": {
        "id": "y-8O_kNgPqAw"
      },
      "source": [
        "A partir da construção dessa nova coluna ou recurso é possível explorar e usar mais os dados, sendo esse um dos objetivos da engenharia de recursos."
      ]
    },
    {
      "cell_type": "markdown",
      "metadata": {
        "id": "EfpaMQwDlRE1"
      },
      "source": [
        "### **Q8: Quantas músicas estão acima da média da popularidade?**"
      ]
    },
    {
      "cell_type": "markdown",
      "metadata": {
        "id": "OKqpn2Ypgpud"
      },
      "source": [
        "Iniciando uma exploração da nova coluna, é possível identificar a quantidade e quais são as músicas que estão acima e abaixo da média. O que pode gerar novas perguntas e hipóteses."
      ]
    },
    {
      "cell_type": "code",
      "metadata": {
        "id": "Ym-5PVfckNF8",
        "outputId": "3d4ca11c-7bff-41ce-9f88-fbe175e2c422",
        "colab": {
          "base_uri": "https://localhost:8080/",
          "height": 66
        }
      },
      "source": [
        "#Quantidade de músicas que estão acima e abaixo da média\n",
        "df['frequencia_de_popularidade_das_musicas'].value_counts()"
      ],
      "execution_count": null,
      "outputs": [
        {
          "output_type": "execute_result",
          "data": {
            "text/plain": [
              "Abaixo da média    19\n",
              "Acima da média     14\n",
              "Name: frequencia_de_popularidade_das_musicas, dtype: int64"
            ]
          },
          "metadata": {
            "tags": []
          },
          "execution_count": 60
        }
      ]
    },
    {
      "cell_type": "markdown",
      "metadata": {
        "id": "yTKa0tV3iKI3"
      },
      "source": [
        "Em sua maioria as músicas encontram-se abaixo da média, algo que não é bom. Porém, isso se dá pelo fato de a maioria das músicas que pertencem aos dois álbuns Real Plug e Trap de Cria, não possuírem uma popularidade tão alta por não serem albúns tão recentes. Enquanto, as músicas mais recentes e com popularidade alta pertencem ao albúm Trap From Future, logo, em menor quantidade, comparado a soma dos dois álbuns que vieram antes."
      ]
    },
    {
      "cell_type": "markdown",
      "metadata": {
        "id": "urm17_2xlYlx"
      },
      "source": [
        "### **Q9: Quais são as músicas que estão acima da média no momento?**"
      ]
    },
    {
      "cell_type": "code",
      "metadata": {
        "id": "mGI6J9PBlM_K",
        "outputId": "a1b37bed-98db-48a3-980c-1b5fdb1e4a22",
        "colab": {
          "base_uri": "https://localhost:8080/",
          "height": 467
        }
      },
      "source": [
        "#Músicas que estão acima da média\n",
        "df.query(\"frequencia_de_popularidade_das_musicas == 'Acima da média' \").sort_values(ascending=False, by='popularidade').reset_index()[['nome_do_album', 'nome_da_faixa', 'popularidade', 'frequencia_de_popularidade_das_musicas']]"
      ],
      "execution_count": null,
      "outputs": [
        {
          "output_type": "execute_result",
          "data": {
            "text/html": [
              "<div>\n",
              "<style scoped>\n",
              "    .dataframe tbody tr th:only-of-type {\n",
              "        vertical-align: middle;\n",
              "    }\n",
              "\n",
              "    .dataframe tbody tr th {\n",
              "        vertical-align: top;\n",
              "    }\n",
              "\n",
              "    .dataframe thead th {\n",
              "        text-align: right;\n",
              "    }\n",
              "</style>\n",
              "<table border=\"1\" class=\"dataframe\">\n",
              "  <thead>\n",
              "    <tr style=\"text-align: right;\">\n",
              "      <th></th>\n",
              "      <th>nome_do_album</th>\n",
              "      <th>nome_da_faixa</th>\n",
              "      <th>popularidade</th>\n",
              "      <th>frequencia_de_popularidade_das_musicas</th>\n",
              "    </tr>\n",
              "  </thead>\n",
              "  <tbody>\n",
              "    <tr>\n",
              "      <th>0</th>\n",
              "      <td>Trap from Future</td>\n",
              "      <td>Vem No Tum Tum</td>\n",
              "      <td>17</td>\n",
              "      <td>Acima da média</td>\n",
              "    </tr>\n",
              "    <tr>\n",
              "      <th>1</th>\n",
              "      <td>Trap de Cria Mixtape</td>\n",
              "      <td>Trap de Cria</td>\n",
              "      <td>9</td>\n",
              "      <td>Acima da média</td>\n",
              "    </tr>\n",
              "    <tr>\n",
              "      <th>2</th>\n",
              "      <td>Trap from Future</td>\n",
              "      <td>Trap &amp; Brega</td>\n",
              "      <td>6</td>\n",
              "      <td>Acima da média</td>\n",
              "    </tr>\n",
              "    <tr>\n",
              "      <th>3</th>\n",
              "      <td>Trap from Future</td>\n",
              "      <td>Marca Sem Roupa</td>\n",
              "      <td>6</td>\n",
              "      <td>Acima da média</td>\n",
              "    </tr>\n",
              "    <tr>\n",
              "      <th>4</th>\n",
              "      <td>Trap from Future</td>\n",
              "      <td>Fogo No Incenso</td>\n",
              "      <td>5</td>\n",
              "      <td>Acima da média</td>\n",
              "    </tr>\n",
              "    <tr>\n",
              "      <th>5</th>\n",
              "      <td>Trap from Future</td>\n",
              "      <td>Match</td>\n",
              "      <td>4</td>\n",
              "      <td>Acima da média</td>\n",
              "    </tr>\n",
              "    <tr>\n",
              "      <th>6</th>\n",
              "      <td>Trap de Cria Mixtape</td>\n",
              "      <td>Isso Que É Foda</td>\n",
              "      <td>4</td>\n",
              "      <td>Acima da média</td>\n",
              "    </tr>\n",
              "    <tr>\n",
              "      <th>7</th>\n",
              "      <td>Real Plug Mixtape</td>\n",
              "      <td>2020</td>\n",
              "      <td>4</td>\n",
              "      <td>Acima da média</td>\n",
              "    </tr>\n",
              "    <tr>\n",
              "      <th>8</th>\n",
              "      <td>Trap from Future</td>\n",
              "      <td>Drip Know Me</td>\n",
              "      <td>3</td>\n",
              "      <td>Acima da média</td>\n",
              "    </tr>\n",
              "    <tr>\n",
              "      <th>9</th>\n",
              "      <td>Trap from Future</td>\n",
              "      <td>Wow!</td>\n",
              "      <td>3</td>\n",
              "      <td>Acima da média</td>\n",
              "    </tr>\n",
              "    <tr>\n",
              "      <th>10</th>\n",
              "      <td>Trap from Future</td>\n",
              "      <td>Não Posso Morrer Novo</td>\n",
              "      <td>3</td>\n",
              "      <td>Acima da média</td>\n",
              "    </tr>\n",
              "    <tr>\n",
              "      <th>11</th>\n",
              "      <td>Trap from Future</td>\n",
              "      <td>Passa Nada</td>\n",
              "      <td>3</td>\n",
              "      <td>Acima da média</td>\n",
              "    </tr>\n",
              "    <tr>\n",
              "      <th>12</th>\n",
              "      <td>Trap from Future</td>\n",
              "      <td>Como Tem Que Ser</td>\n",
              "      <td>3</td>\n",
              "      <td>Acima da média</td>\n",
              "    </tr>\n",
              "    <tr>\n",
              "      <th>13</th>\n",
              "      <td>Trap from Future</td>\n",
              "      <td>Grife</td>\n",
              "      <td>3</td>\n",
              "      <td>Acima da média</td>\n",
              "    </tr>\n",
              "  </tbody>\n",
              "</table>\n",
              "</div>"
            ],
            "text/plain": [
              "           nome_do_album  ... frequencia_de_popularidade_das_musicas\n",
              "0       Trap from Future  ...                         Acima da média\n",
              "1   Trap de Cria Mixtape  ...                         Acima da média\n",
              "2       Trap from Future  ...                         Acima da média\n",
              "3       Trap from Future  ...                         Acima da média\n",
              "4       Trap from Future  ...                         Acima da média\n",
              "5       Trap from Future  ...                         Acima da média\n",
              "6   Trap de Cria Mixtape  ...                         Acima da média\n",
              "7      Real Plug Mixtape  ...                         Acima da média\n",
              "8       Trap from Future  ...                         Acima da média\n",
              "9       Trap from Future  ...                         Acima da média\n",
              "10      Trap from Future  ...                         Acima da média\n",
              "11      Trap from Future  ...                         Acima da média\n",
              "12      Trap from Future  ...                         Acima da média\n",
              "13      Trap from Future  ...                         Acima da média\n",
              "\n",
              "[14 rows x 4 columns]"
            ]
          },
          "metadata": {
            "tags": []
          },
          "execution_count": 61
        }
      ]
    },
    {
      "cell_type": "markdown",
      "metadata": {
        "id": "U_sac3MDo2tH"
      },
      "source": [
        "Nota-se que como dito anteriormente, a maioria das músicas que estão acima da média pertencem ao albúm mais recente \"Trap From Future\", tendo em vista, que a regra de popularidade do spotify se dá pelas músicas que estão sendo mais ouvidas no momento. Por outro lado, os dois álbuns mais antigos \"Real Plug\" e \"Trap de Cria\" possuem cada um, uma música acima da média, \"2020\" do albúm Real Plug e \"Trap de Cria\" do albúm \"Trap de Cria\". Destaque para essas duas músicas que mesmo não sendo recentes, possuem a popularidade maior que muitas músicas do albúm recente \"Trap From Future\"."
      ]
    },
    {
      "cell_type": "markdown",
      "metadata": {
        "id": "D0Lb0UONQuAM"
      },
      "source": [
        "### **Q10: Quantas músicas que estão acima da média não estão na primeira posição do albúm?**"
      ]
    },
    {
      "cell_type": "markdown",
      "metadata": {
        "id": "tJR9Wgn7RDx6"
      },
      "source": [
        "Ao total são quatorze músicas que estão acima da média e por mais que nessa análise já tenha se compravado que a posição da música no albúm não interfere em sua popularidade. É interessante saber quantas músicas não estão na primeira posição do albúm a partir das quatorze músicas que estão acima da média. "
      ]
    },
    {
      "cell_type": "code",
      "metadata": {
        "id": "R0qp39KDRFK-",
        "outputId": "894305a7-6c02-4392-8ae6-e2454f68aa56",
        "colab": {
          "base_uri": "https://localhost:8080/",
          "height": 407
        }
      },
      "source": [
        "df.query(\"frequencia_de_popularidade_das_musicas == 'Acima da média' & posicao_da_faixa != '1' \").sort_values(ascending=False, by='popularidade').reset_index()[['nome_da_faixa', 'posicao_da_faixa', 'frequencia_de_popularidade_das_musicas']]"
      ],
      "execution_count": null,
      "outputs": [
        {
          "output_type": "execute_result",
          "data": {
            "text/html": [
              "<div>\n",
              "<style scoped>\n",
              "    .dataframe tbody tr th:only-of-type {\n",
              "        vertical-align: middle;\n",
              "    }\n",
              "\n",
              "    .dataframe tbody tr th {\n",
              "        vertical-align: top;\n",
              "    }\n",
              "\n",
              "    .dataframe thead th {\n",
              "        text-align: right;\n",
              "    }\n",
              "</style>\n",
              "<table border=\"1\" class=\"dataframe\">\n",
              "  <thead>\n",
              "    <tr style=\"text-align: right;\">\n",
              "      <th></th>\n",
              "      <th>nome_da_faixa</th>\n",
              "      <th>posicao_da_faixa</th>\n",
              "      <th>frequencia_de_popularidade_das_musicas</th>\n",
              "    </tr>\n",
              "  </thead>\n",
              "  <tbody>\n",
              "    <tr>\n",
              "      <th>0</th>\n",
              "      <td>Trap &amp; Brega</td>\n",
              "      <td>4</td>\n",
              "      <td>Acima da média</td>\n",
              "    </tr>\n",
              "    <tr>\n",
              "      <th>1</th>\n",
              "      <td>Marca Sem Roupa</td>\n",
              "      <td>5</td>\n",
              "      <td>Acima da média</td>\n",
              "    </tr>\n",
              "    <tr>\n",
              "      <th>2</th>\n",
              "      <td>Fogo No Incenso</td>\n",
              "      <td>13</td>\n",
              "      <td>Acima da média</td>\n",
              "    </tr>\n",
              "    <tr>\n",
              "      <th>3</th>\n",
              "      <td>Match</td>\n",
              "      <td>3</td>\n",
              "      <td>Acima da média</td>\n",
              "    </tr>\n",
              "    <tr>\n",
              "      <th>4</th>\n",
              "      <td>Isso Que É Foda</td>\n",
              "      <td>9</td>\n",
              "      <td>Acima da média</td>\n",
              "    </tr>\n",
              "    <tr>\n",
              "      <th>5</th>\n",
              "      <td>2020</td>\n",
              "      <td>8</td>\n",
              "      <td>Acima da média</td>\n",
              "    </tr>\n",
              "    <tr>\n",
              "      <th>6</th>\n",
              "      <td>Drip Know Me</td>\n",
              "      <td>2</td>\n",
              "      <td>Acima da média</td>\n",
              "    </tr>\n",
              "    <tr>\n",
              "      <th>7</th>\n",
              "      <td>Wow!</td>\n",
              "      <td>6</td>\n",
              "      <td>Acima da média</td>\n",
              "    </tr>\n",
              "    <tr>\n",
              "      <th>8</th>\n",
              "      <td>Não Posso Morrer Novo</td>\n",
              "      <td>7</td>\n",
              "      <td>Acima da média</td>\n",
              "    </tr>\n",
              "    <tr>\n",
              "      <th>9</th>\n",
              "      <td>Passa Nada</td>\n",
              "      <td>9</td>\n",
              "      <td>Acima da média</td>\n",
              "    </tr>\n",
              "    <tr>\n",
              "      <th>10</th>\n",
              "      <td>Como Tem Que Ser</td>\n",
              "      <td>11</td>\n",
              "      <td>Acima da média</td>\n",
              "    </tr>\n",
              "    <tr>\n",
              "      <th>11</th>\n",
              "      <td>Grife</td>\n",
              "      <td>12</td>\n",
              "      <td>Acima da média</td>\n",
              "    </tr>\n",
              "  </tbody>\n",
              "</table>\n",
              "</div>"
            ],
            "text/plain": [
              "            nome_da_faixa  ...  frequencia_de_popularidade_das_musicas\n",
              "0            Trap & Brega  ...                          Acima da média\n",
              "1         Marca Sem Roupa  ...                          Acima da média\n",
              "2         Fogo No Incenso  ...                          Acima da média\n",
              "3                   Match  ...                          Acima da média\n",
              "4         Isso Que É Foda  ...                          Acima da média\n",
              "5                    2020  ...                          Acima da média\n",
              "6            Drip Know Me  ...                          Acima da média\n",
              "7                    Wow!  ...                          Acima da média\n",
              "8   Não Posso Morrer Novo  ...                          Acima da média\n",
              "9              Passa Nada  ...                          Acima da média\n",
              "10       Como Tem Que Ser  ...                          Acima da média\n",
              "11                  Grife  ...                          Acima da média\n",
              "\n",
              "[12 rows x 3 columns]"
            ]
          },
          "metadata": {
            "tags": []
          },
          "execution_count": 62
        }
      ]
    },
    {
      "cell_type": "markdown",
      "metadata": {
        "id": "oqL9X8vwRfBF"
      },
      "source": [
        "É notorio que a maioria das músicas que estão acima da média não estão na primeira posição do albúm, sendo 12 músicas acima da média e não estão na primeira posição do albúm. Aumentando a comprovação de que a posicao da música não tem relação com a popularidade. "
      ]
    },
    {
      "cell_type": "markdown",
      "metadata": {
        "id": "4Jv-JVLynVXG"
      },
      "source": [
        "Em casos reais, a exploração dos dados deve chegar ao fim quando o pessoal da área de negocios se sentirem satisfeitos ou quando os objetivos das informações retiradas dos dados forem alcançados. Neste caso, acredito que o meu objetivo de analisar e entender os dados á respeito dos álbuns do artista NexoAnexo chegou ao fim, as informações descobertas cobrem o que era de objetivo ao iniciar a análise de dados. "
      ]
    },
    {
      "cell_type": "markdown",
      "metadata": {
        "id": "wYvTnDrzMP5O"
      },
      "source": [
        "##**Gravar arquivo CSV do notebook para criar aplicação/dashboard**"
      ]
    },
    {
      "cell_type": "markdown",
      "metadata": {
        "id": "S9OQOGItTss8"
      },
      "source": [
        "Agora irei gravar o notebook da análise em um arquivo no formato CSV para criar a aplicação/dashboard com Python."
      ]
    },
    {
      "cell_type": "code",
      "metadata": {
        "id": "c7KaO6dyT4ji"
      },
      "source": [
        "#Salvando o notebook em um arquivo no formato csv\n",
        "df.to_csv('NexoAnexoFinal.csv')"
      ],
      "execution_count": null,
      "outputs": []
    },
    {
      "cell_type": "markdown",
      "metadata": {
        "id": "uFAeUPK1z32m"
      },
      "source": [
        "## **Construindo Aplicação/Dashboard com Python + Deploy com Heroku**"
      ]
    },
    {
      "cell_type": "markdown",
      "metadata": {
        "id": "Q8fpHASd1AyJ"
      },
      "source": [
        "### **Aplicação com Streamlit**"
      ]
    },
    {
      "cell_type": "markdown",
      "metadata": {
        "id": "5H06Jd4K2xog"
      },
      "source": [
        "O Streamlit é um framework do Python destinado a construção de dashboard,sendo a maneira mais fácil para cientistas de dados e engenheiros de machine learning criar aplicativos bonitos e de alto desempenho em apenas algumas horas, como está dito em seu próprio site. A facilidade de construir uma aplicação com Streamlit só deixa claro quanto o Python é poderoso. \n",
        "\n",
        "A aplicação construída com Streamlit para o projeto de análise de dados dos álbuns do artista NexoAnexo, apresenta os gráficos e conclusoes das análises que foram desenvolvidas no projeto, nesse notebook. "
      ]
    },
    {
      "cell_type": "markdown",
      "metadata": {
        "id": "PbDvvnYsP_tF"
      },
      "source": [
        "Em meu GitHub está disponível o [código fonte](https://github.com/luislauriano/Aplicacao_NexoAnexo/blob/main/app.py) desenvolvido da aplicação do projeto."
      ]
    },
    {
      "cell_type": "markdown",
      "metadata": {
        "id": "dKGOcm8q55iX"
      },
      "source": [
        "[Documentação do Streamlit](https://docs.streamlit.io/en/stable/)"
      ]
    },
    {
      "cell_type": "markdown",
      "metadata": {
        "id": "x4_fMnwy1ER_"
      },
      "source": [
        "### **Colocar aplicação disponivel através do Heroku**"
      ]
    },
    {
      "cell_type": "markdown",
      "metadata": {
        "id": "UaNjh6LZ5zT2"
      },
      "source": [
        "Após a aplicação ter sido construída com Streamlit, para ficar disponível na Web ainda é preciso realizar o que é chamado de Deploy. O deploy nada mais é que disponibilizar um sistema para uso, seja num ambiente de desenvolvimento, para testes ou em produção. Nesse caso, colocar a aplicação do projeto desenvolvida com streamlit em produção através do Heroku. \n",
        "\n",
        "O Heroku é uma plataforma na nuvem que permite aos os usuarios colocarem seus projetos disponíveis na web sem muita dificuldade, sendo esse um dos motivos da escolha de colocar a aplicação do projeto em produção através do Heroku. A partir de uma aplicação que pode ser construída em diversas linguagens, a plataforma consegue colocar a aplicação pra rodar num servidor em um dos seus data centers. "
      ]
    },
    {
      "cell_type": "markdown",
      "metadata": {
        "id": "GzBUCnWA26pN"
      },
      "source": [
        "Após a aplicação ter sido colocada em produção com o Heroku, agora é possivel visualizar a [Aplicação do Projeto](http://analise-nexoanexo.herokuapp.com/) na Web. "
      ]
    },
    {
      "cell_type": "markdown",
      "metadata": {
        "id": "vVPUOTI4z8Mv"
      },
      "source": [
        "[Tutorial para colocar uma aplicação Streamlit em produção com o Heroku](https://medium.com/@gustavo_domingues/como-fazer-deploy-de-sua-aplica%C3%A7%C3%A3o-streamlit-no-heroku-5fc1d2609df7#:~:text=email%40dominio.com-,Deploy,site%2C%20ent%C3%A3o%20escolha%20algo%20legal.&text=Sempre%20que%20quiser%20atualizar%20ou,basta%20seguir%20os%20passos%20abaixo.)\n",
        "\n",
        "\n",
        "\n",
        "\n"
      ]
    },
    {
      "cell_type": "markdown",
      "metadata": {
        "id": "Hafu2xt4dj66"
      },
      "source": [
        "## **Referências**"
      ]
    },
    {
      "cell_type": "markdown",
      "metadata": {
        "id": "H6kUDADcCjKa"
      },
      "source": [
        "https://towardsdatascience.com/getting-started-to-data-analysis-with-python-pandas-with-titanic-dataset-a195ab043c77\n",
        "\n",
        "https://pt.qwe.wiki/wiki/Missing_data\n",
        "\n",
        "https://medium.com/@lucasoliveiras/limpeza-e-prepara%C3%A7%C3%A3o-dos-dados-com-pandas-856e844abfbb\n",
        "\n",
        "https://colab.research.google.com/drive/1Sn8uueWB9PpF8bg62Ef_qseKChnp8biq\n",
        "\n",
        "https://dandaramcsousa.github.io/2020/05/20/tutorial-api-spotify.html\n",
        "\n",
        "https://itl.nist.gov/div898/handbook/eda/eda.htm\n",
        "\n",
        "https://www.kaggle.com/pavansanagapati/a-simple-tutorial-on-exploratory-data-analysis\n",
        "\n",
        "https://jtemporal.com/deploy-flask-heroku/\n",
        "\n",
        "https://www.youtube.com/watch?v=mQ7rGcE766k&list=WL&index=2&t=0s\n",
        "https://medium.com/@gustavo_domingues/como-fazer-deploy-de-sua-aplica%C3%A7%C3%A3o-streamlit-no-heroku-5fc1d2609df7#:~:text=email%40dominio.com-,Deploy,site%2C%20ent%C3%A3o%20escolha%20algo%20legal.&text=Sempre%20que%20quiser%20atualizar%20ou,basta%20seguir%20os%20passos%20abaixo."
      ]
    }
  ]
}