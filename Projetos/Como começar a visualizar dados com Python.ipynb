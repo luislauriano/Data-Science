{
  "nbformat": 4,
  "nbformat_minor": 0,
  "metadata": {
    "colab": {
      "name": "Como começar a visualizar dados com Python",
      "provenance": [],
      "toc_visible": true,
      "authorship_tag": "ABX9TyNPVb0Zn2FUEur7KJbPrWd9",
      "include_colab_link": true
    },
    "kernelspec": {
      "name": "python3",
      "display_name": "Python 3"
    }
  },
  "cells": [
    {
      "cell_type": "markdown",
      "metadata": {
        "id": "view-in-github",
        "colab_type": "text"
      },
      "source": [
        "<a href=\"https://colab.research.google.com/github/luislauriano/data_science/blob/master/Como%20come%C3%A7ar%20a%20visualizar%20dados%20com%20Python.ipynb\" target=\"_parent\"><img src=\"https://colab.research.google.com/assets/colab-badge.svg\" alt=\"Open In Colab\"/></a>"
      ]
    },
    {
      "cell_type": "markdown",
      "metadata": {
        "id": "Iyr4zDCG5gD6",
        "colab_type": "text"
      },
      "source": [
        "#**Como começar a visualizar dados com python**\n",
        "\n",
        "Hello Word, o que busco mostrar nesse artigo é uma introdução de como você pode começar a visualizar dados utilizando a biblioteca matplotlib pyplot do python, de forma objetiva e prática. Plotando gráficos de barra, linha, pizza e ainda como criar gráficos interativos como o gráfico de waffle.\n",
        "\n",
        "Matplotlib é a biblioteca mais conhecida pela comunidade de python . O Matplotlib foi a biblioteca pioneira para visualização de dados em Python, ainda que, é a mais usada por todos os cientistas de dados e programadores Python."
      ]
    },
    {
      "cell_type": "markdown",
      "metadata": {
        "id": "bC-o5Zz28gpL",
        "colab_type": "text"
      },
      "source": [
        "Antes de começarmos, verifique antes se você tem a biblioteca instalada no seu ambiente. Caso contrário, basta instalar usando:\n",
        "\n",
        "* Conda – conda install matplotlib\n",
        "* Pip – pip install matplotlib"
      ]
    },
    {
      "cell_type": "markdown",
      "metadata": {
        "id": "DeDQyZ_q82Tg",
        "colab_type": "text"
      },
      "source": [
        "Agora vamos colocar a mão na massa, iniciando com um gráfico de linha. Logo você irá perceber que em poucas linhas de código você já consegue plotar seu primeiro gráfico.\n",
        "\n"
      ]
    },
    {
      "cell_type": "markdown",
      "metadata": {
        "id": "GRFxAAB786Ut",
        "colab_type": "text"
      },
      "source": [
        "##**Gráfico de Linha:**\n",
        "Nosso primeiro gráfico trata-se de um gráfico de linhas. O gráfico de linha é um tipo de gráfico que exibe informações com uma série de pontos de dados chamados de marcadores ligados por segmentos de linha reta. É um tipo básico de gráfico comum em muitos campos. "
      ]
    },
    {
      "cell_type": "code",
      "metadata": {
        "id": "rP0a3gUM9Qo-",
        "colab_type": "code",
        "colab": {}
      },
      "source": [
        "import matplotlib.pyplot as plt\n",
        "\n",
        "x = [1,2]\n",
        "y = [2,3]\n",
        "\n",
        "plt.plot(x,y)\n",
        "plt.show()\n"
      ],
      "execution_count": 0,
      "outputs": []
    },
    {
      "cell_type": "markdown",
      "metadata": {
        "id": "7PKq-vjl9rLf",
        "colab_type": "text"
      },
      "source": [
        "Como vocês podem observar:\n",
        "\n",
        "1. Importei a biblioteca.\n",
        "2. Inseri alguns valores para o X e para o Y.\n",
        "3. Usei o comando 'plot' (comando do gráfico de linha) e chamei os valores de X e Y para plotar o gráfico de linha."
      ]
    },
    {
      "cell_type": "markdown",
      "metadata": {
        "id": "lrfOVt23-HZg",
        "colab_type": "text"
      },
      "source": [
        "Desta forma, teremos este gráfico: \n",
        "\n"
      ]
    },
    {
      "cell_type": "code",
      "metadata": {
        "id": "8Gn0gXoq-MU_",
        "colab_type": "code",
        "outputId": "73d48a8f-51aa-4889-8b59-509d9759105e",
        "colab": {
          "base_uri": "https://localhost:8080/",
          "height": 265
        }
      },
      "source": [
        "import matplotlib.pyplot as plt\n",
        "\n",
        "x = [1,2]\n",
        "y = [2,3]\n",
        "\n",
        "plt.plot(x,y)\n",
        "plt.show()"
      ],
      "execution_count": 0,
      "outputs": [
        {
          "output_type": "display_data",
          "data": {
            "image/png": "[encoded data removed]",
            "text/plain": [
              "<Figure size 432x288 with 1 Axes>"
            ]
          },
          "metadata": {
            "tags": []
          }
        }
      ]
    },
    {
      "cell_type": "markdown",
      "metadata": {
        "id": "qvnwImN2-u-j",
        "colab_type": "text"
      },
      "source": [
        "No entanto, como vocês podem observar, neste gráfico ainda está faltando legendas, identificações dos rótulos X e Y, etc... Para o gráfico começar a ficar com um melhor visual e entendimento."
      ]
    },
    {
      "cell_type": "markdown",
      "metadata": {
        "id": "aNE6tGtM-2xL",
        "colab_type": "text"
      },
      "source": [
        "##**Legendas em Gráfico:**\n",
        "Na maioria dos gráficos é recomendado usar algum tipo de legenda para ajudar os leitores a compreender os dados do gráfico.  Podemos criar as legendas em nosso gráfico de duas formas.\n",
        "\n",
        "Seja declarando as variáveis de titulo, rótulos e seus valores previamente e chamar ao final do código:\n",
        "\n"
      ]
    },
    {
      "cell_type": "code",
      "metadata": {
        "id": "oeu8h7_V_C-2",
        "colab_type": "code",
        "colab": {}
      },
      "source": [
        "import matplotlib.pyplot as plt\n",
        "\n",
        "x = [1,2]\n",
        "y = [2,3]\n",
        "\n",
        "#Legendas\n",
        "titulo = 'Gráfico de Linha'\n",
        "eixox = 'Eixo X'\n",
        "eixoy = 'Eixo Y'\n",
        "\n",
        "plt.title(titulo)\n",
        "plt.xlabel(eixox)\n",
        "plt.ylabel(eixoy)\n",
        "\n",
        "plt.plot(x,y)\n",
        "plt.show()"
      ],
      "execution_count": 0,
      "outputs": []
    },
    {
      "cell_type": "markdown",
      "metadata": {
        "id": "RFRBebcW_oJV",
        "colab_type": "text"
      },
      "source": [
        "Ou seja declarando os seus valores ao mesmo tempo em que chama o seu titulo e rótulo. (plt.title, plt.xlabel e plt.ylabel):\n",
        "\n"
      ]
    },
    {
      "cell_type": "code",
      "metadata": {
        "id": "FChIh1QM_pxD",
        "colab_type": "code",
        "outputId": "50813aca-13d8-4e65-e131-33493147d5b7",
        "colab": {
          "base_uri": "https://localhost:8080/",
          "height": 295
        }
      },
      "source": [
        "import matplotlib.pyplot as plt\n",
        "\n",
        "x = [1,2]\n",
        "y = [2,3]\n",
        "\n",
        "#Legendas\n",
        "plt.title('Gráfico de Linha')\n",
        "plt.xlabel('Eixo X')\n",
        "plt.ylabel('Eixo Y')\n",
        "\n",
        "plt.plot(x,y)\n",
        "plt.show()"
      ],
      "execution_count": 0,
      "outputs": [
        {
          "output_type": "display_data",
          "data": {
            "image/png": "[encoded data removed]",
            "text/plain": [
              "<Figure size 432x288 with 1 Axes>"
            ]
          },
          "metadata": {
            "tags": []
          }
        }
      ]
    },
    {
      "cell_type": "markdown",
      "metadata": {
        "id": "NRf-i-BCAMNz",
        "colab_type": "text"
      },
      "source": [
        "Obtendo o mesmo gráfico em ambas. Agora que o titulo e os rótulos já estão com legendas, conseguimos fazer uma melhor leitura do gráfico."
      ]
    },
    {
      "cell_type": "markdown",
      "metadata": {
        "id": "E3erxP-UA1mA",
        "colab_type": "text"
      },
      "source": [
        "##**Gráfico de Barra:**\n",
        "No tópico anterior, aprendemos como construir nosso primeiro gráfico e como inserir legendas em seus rótulos e titulo. Então, vamos utilizar esse aprendizado para construir um outro gráfico, o gráfico de barra. O gráfico de barras é um gráfico com barras retangulares e comprimento proporcional aos valores que ele representa. \n",
        "\n",
        "Para construir o nosso gráfico de barra, vamos continuar com o mesmo código que estávamos trabalhando, apenas substituindo o gráfico de linha (plot) pelo gráfico de barra (bar).\n",
        "\n",
        "No gráfico de linhas utilizamos, 'plt.plot'. Para inserirmos o gráfico de linhas."
      ]
    },
    {
      "cell_type": "code",
      "metadata": {
        "id": "BFs7SK53BMwC",
        "colab_type": "code",
        "colab": {}
      },
      "source": [
        "import matplotlib.pyplot as plt\n",
        "\n",
        "x = [1,2]\n",
        "y = [2,3]\n",
        "\n",
        "plt.title('Gráfico de Linha')\n",
        "plt.xlabel('Eixo X')\n",
        "plt.ylabel('Eixo Y')\n",
        "\n",
        "#Plot\n",
        "plt.plot(x,y)\n",
        "plt.show()"
      ],
      "execution_count": 0,
      "outputs": []
    },
    {
      "cell_type": "markdown",
      "metadata": {
        "id": "OfCSte_ABjB-",
        "colab_type": "text"
      },
      "source": [
        "Porém, no gráfico de barras iremos utilizar, 'plt.bar'. Para inserirmos o gráfico de barra."
      ]
    },
    {
      "cell_type": "code",
      "metadata": {
        "id": "Cw7J9Zs2BndL",
        "colab_type": "code",
        "outputId": "84f0d0c0-a749-4ea1-c0a7-2c667eb3df50",
        "colab": {
          "base_uri": "https://localhost:8080/",
          "height": 295
        }
      },
      "source": [
        "import matplotlib.pyplot as plt\n",
        "\n",
        "x = [1,2]\n",
        "y = [2,3]\n",
        "\n",
        "plt.title('Gráfico de Linha')\n",
        "plt.xlabel('Eixo X')\n",
        "plt.ylabel('Eixo Y')\n",
        "\n",
        "#Bar\n",
        "plt.bar(x,y)\n",
        "plt.show()"
      ],
      "execution_count": 0,
      "outputs": [
        {
          "output_type": "display_data",
          "data": {
            "image/png": "[encoded data removed]",
            "text/plain": [
              "<Figure size 432x288 with 1 Axes>"
            ]
          },
          "metadata": {
            "tags": []
          }
        }
      ]
    },
    {
      "cell_type": "markdown",
      "metadata": {
        "id": "1TvVgUcsB7DU",
        "colab_type": "text"
      },
      "source": [
        "Agora que já aprendemos como construir um gráfico de barra, gráfico de linha, vamos avançar um pouco nos estudos e buscar inserir dois valores para se ter uma comparação de dois gráficos.\n",
        "\n"
      ]
    },
    {
      "cell_type": "markdown",
      "metadata": {
        "id": "aIdjAN-6CRID",
        "colab_type": "text"
      },
      "source": [
        "\n",
        "\n",
        "##**Comparando Gráficos:**\n",
        "\n"
      ]
    },
    {
      "cell_type": "markdown",
      "metadata": {
        "id": "MRnPREimF0LW",
        "colab_type": "text"
      },
      "source": [
        "Vamos imaginar que foi feita na cidade de São Paulo uma pesquisa com 100 pessoas para saber se ao certo a pronuncia é biscoito ou bolacha. Assim sendo, 40 pessoas afirmaram ser biscoito e 60 afirmaram ser bolacha.\n",
        "\n",
        "A partir dessa pesquisa, com esses valores, poderíamos construir o seguinte gráfico:"
      ]
    },
    {
      "cell_type": "code",
      "metadata": {
        "id": "EH2zF3w8F4M4",
        "colab_type": "code",
        "colab": {}
      },
      "source": [
        "import matplotlib.pyplot as plt\n",
        "\n",
        "#Dados Biscoito\n",
        "BISX = ['Biscoito']\n",
        "BISY = [40]\n",
        "\n",
        "#Dados Bolacha\n",
        "BOX = ['Bolacha']\n",
        "BOY = [60]\n",
        "\n",
        "plt.title('Biscoito ou Bolacha')\n",
        "\n",
        "plt.ylabel('Pessoas')\n",
        "\n",
        "#Inserindo os dois gráficos\n",
        "plt.bar(BISX, BISY)\n",
        "plt.bar(BOX, BOY)\n",
        "\n",
        "plt.show()"
      ],
      "execution_count": 0,
      "outputs": []
    },
    {
      "cell_type": "markdown",
      "metadata": {
        "id": "mE1yy9iQGqUU",
        "colab_type": "text"
      },
      "source": [
        "Como vocês podem observar:\n",
        "\n",
        "1. Inseri os valores das pessoas que votaram em biscoito e bolacha\n",
        "2. Dei um titulo para o gráfico\n",
        "3. Nomeei o rotulo Y me referindo as Pessoas\n",
        "4. Chamei o gráfico do biscoito\n",
        "5. Em seguida chamei o gráfico da bolacha"
      ]
    },
    {
      "cell_type": "markdown",
      "metadata": {
        "id": "qbbHY8ElG2jB",
        "colab_type": "text"
      },
      "source": [
        "Desta forma:"
      ]
    },
    {
      "cell_type": "code",
      "metadata": {
        "id": "9jnVEiA8G7DN",
        "colab_type": "code",
        "colab": {
          "base_uri": "https://localhost:8080/",
          "height": 281
        },
        "outputId": "5ce5227a-68e4-4b6f-e1ce-3c26436d3965"
      },
      "source": [
        "import matplotlib.pyplot as plt\n",
        "\n",
        "#Dados Biscoito\n",
        "BISX = ['Biscoito']\n",
        "BISY = [40]\n",
        "\n",
        "#Dados Bolacha\n",
        "BOX = ['Bolacha']\n",
        "BOY = [60]\n",
        "\n",
        "plt.title('Biscoito ou Bolacha')\n",
        "\n",
        "plt.ylabel('Pessoas')\n",
        "\n",
        "#Inserindo os dois gráficos\n",
        "plt.bar(BISX, BISY)\n",
        "plt.bar(BOX, BOY)\n",
        "\n",
        "plt.show()"
      ],
      "execution_count": 11,
      "outputs": [
        {
          "output_type": "display_data",
          "data": {
            "image/png": "[encoded data removed]",
            "text/plain": [
              "<Figure size 432x288 with 1 Axes>"
            ]
          },
          "metadata": {
            "tags": []
          }
        }
      ]
    },
    {
      "cell_type": "markdown",
      "metadata": {
        "id": "iZpltDbbHIR6",
        "colab_type": "text"
      },
      "source": [
        "Porém, ainda existem alguns detalhes que podem ser acrescentados em nosso gráfico, para deixa-lo com um melhor visual e entendimento. Como marcadores, cores e tipos de linhas, que é disponibilizado pela biblioteca matplotlib."
      ]
    },
    {
      "cell_type": "markdown",
      "metadata": {
        "id": "fLdtrr4UHKcX",
        "colab_type": "text"
      },
      "source": [
        "##**Marcadores, cores e tipos de linhas:**\n",
        "A inserção de marcadores, cores e tipos de linhas em nossos gráficos ou outros argumentos é semelhante ao que conhecemos como atributo, para quem já é familiarizado com o HTML.\n",
        "\n",
        "Existem inúmeros argumentos que podemos colocar em nossos gráficos. Como:\n",
        "\n",
        "* color: cor\n",
        "* label: rótulo\n",
        "* linestyle: estilo de linha\n",
        "* linewidth: largura da linha\n",
        "* marker: marcador\n",
        "\n",
        "Os argumentos devem ser inseridos após chamarmos o método plot do gráfico.\n",
        "\n",
        "Exemplo:\n"
      ]
    },
    {
      "cell_type": "code",
      "metadata": {
        "id": "TjzTcT9GHqpO",
        "colab_type": "code",
        "colab": {}
      },
      "source": [
        "import matplotlib.pyplot as plt\n",
        "\n",
        "BISX = ['Biscoito']\n",
        "BISY = [40]\n",
        "\n",
        "BOX = ['Bolacha']\n",
        "BOY = [60]\n",
        "\n",
        "plt.title('Biscoito ou Bolacha')\n",
        "\n",
        "plt.ylabel('Pessoas')\n",
        "\n",
        "#Chamando os argumentos\n",
        "plt.bar(BISX, BISY, label = 'Biscoito')\n",
        "plt.bar(BOX, BOY, label = 'Bolacha')\n",
        "\n",
        "#Metodo Legend\n",
        "plt.legend()\n",
        "\n",
        "plt.show()"
      ],
      "execution_count": 0,
      "outputs": []
    },
    {
      "cell_type": "markdown",
      "metadata": {
        "id": "09OfqdI3IQ_0",
        "colab_type": "text"
      },
      "source": [
        "Como vocês podem observar. Na mesma linha em que chamei o gráfico de barra e inseri os dados ao gráfico, após uma ',' eu já comecei a colocar os meus argumentos.\n",
        "\n",
        "* Inseri o argumento 'label', para colocar um nome ao rotulo dos dados do biscoito\n",
        "* Também inseri o argumento 'label' para os dados da bolacha\n",
        "* Pra finalizar usei o método 'plt.legend' para poder colocar os argumentos\n",
        "\n",
        "Obtendo:\n",
        "\n"
      ]
    },
    {
      "cell_type": "code",
      "metadata": {
        "id": "hKNeBuk4IbQZ",
        "colab_type": "code",
        "colab": {
          "base_uri": "https://localhost:8080/",
          "height": 281
        },
        "outputId": "e71a6e56-b1f9-4a14-82bf-5a87875d2cf8"
      },
      "source": [
        "import matplotlib.pyplot as plt\n",
        "\n",
        "BISX = ['Biscoito']\n",
        "BISY = [40]\n",
        "\n",
        "BOX = ['Bolacha']\n",
        "BOY = [60]\n",
        "\n",
        "plt.title('Biscoito ou Bolacha')\n",
        "\n",
        "plt.ylabel('Pessoas')\n",
        "\n",
        "#Chamando os argumentos\n",
        "plt.bar(BISX, BISY, label = 'Biscoito')\n",
        "plt.bar(BOX, BOY, label = 'Bolacha')\n",
        "\n",
        "#Metodo Legend\n",
        "plt.legend()\n",
        "\n",
        "plt.show()"
      ],
      "execution_count": 14,
      "outputs": [
        {
          "output_type": "display_data",
          "data": {
            "image/png": "[encoded data removed]",
            "text/plain": [
              "<Figure size 432x288 with 1 Axes>"
            ]
          },
          "metadata": {
            "tags": []
          }
        }
      ]
    },
    {
      "cell_type": "markdown",
      "metadata": {
        "id": "FlICYujhIqe5",
        "colab_type": "text"
      },
      "source": [
        "Ainda poderíamos alterar a cor, determinando no argumento 'color' a cor que queríamos, seja através da regra rgba ou das regras da biblioteca.\n",
        "\n"
      ]
    },
    {
      "cell_type": "code",
      "metadata": {
        "id": "DWl5colcIskn",
        "colab_type": "code",
        "colab": {
          "base_uri": "https://localhost:8080/",
          "height": 281
        },
        "outputId": "f60f8e5f-2218-4368-8ec2-9021ff2513ec"
      },
      "source": [
        "import matplotlib.pyplot as plt\n",
        "\n",
        "BISX = ['Biscoito']\n",
        "BISY = [40]\n",
        "\n",
        "BOX = ['Bolacha']\n",
        "BOY = [60]\n",
        "\n",
        "plt.title('Biscoito ou Bolacha')\n",
        "\n",
        "plt.ylabel('Pessoas')\n",
        "\n",
        "#Chamando os argumentos\n",
        "plt.bar(BISX, BISY, label = 'Biscoito', color = '#614733')\n",
        "plt.bar(BOX, BOY, label = 'Bolacha', color = '#cc7f43')\n",
        "\n",
        "#Metodo Legend\n",
        "plt.legend()\n",
        "\n",
        "plt.show()"
      ],
      "execution_count": 16,
      "outputs": [
        {
          "output_type": "display_data",
          "data": {
            "image/png": "[encoded data removed]",
            "text/plain": [
              "<Figure size 432x288 with 1 Axes>"
            ]
          },
          "metadata": {
            "tags": []
          }
        }
      ]
    },
    {
      "cell_type": "markdown",
      "metadata": {
        "id": "zTBvAcsUJM47",
        "colab_type": "text"
      },
      "source": [
        "Veja mais formas de como utilizar os argumentos conferindo a documentação da biblioteca: https://matplotlib.org/api/_as_gen/matplotlib.pyplot.plot.html\n",
        "\n"
      ]
    },
    {
      "cell_type": "markdown",
      "metadata": {
        "id": "EXIKYAD8JThM",
        "colab_type": "text"
      },
      "source": [
        "##**Gráfico de Pizza:**\n",
        "Se quisermos, também podemos construir um gráfico de pizza. Ainda usando o exemplo da pesquisa de biscoito ou bolacha da cidade de São Paulo como exemplo\n",
        "\n",
        "```\n",
        "`# This is formatted as code`\n",
        "```\n",
        "\n",
        ". Os Gráficos de pizza são gráficos divididos em setores, cada setor da pizza exibe o tamanho de uma parte da informação relacionada. Gráficos de pizza normalmente são utilizados para exibir os tamanhos relativos das partes de um todo."
      ]
    },
    {
      "cell_type": "code",
      "metadata": {
        "id": "R_Jtsq4lJ0QT",
        "colab_type": "code",
        "colab": {
          "base_uri": "https://localhost:8080/",
          "height": 265
        },
        "outputId": "297f1725-dd23-4116-d8ef-de593a7c5f25"
      },
      "source": [
        "import matplotlib.pyplot as plt\n",
        "\n",
        "label = ['Biscoito', 'Bolacha']\n",
        "dados = [40,60]\n",
        "\n",
        "fig, ax = plt.subplots()\n",
        "\n",
        "ax.pie(dados, labels=label)\n",
        "plt.show"
      ],
      "execution_count": 20,
      "outputs": [
        {
          "output_type": "execute_result",
          "data": {
            "text/plain": [
              "<function matplotlib.pyplot.show>"
            ]
          },
          "metadata": {
            "tags": []
          },
          "execution_count": 20
        },
        {
          "output_type": "display_data",
          "data": {
            "image/png": "[encoded data removed]",
            "text/plain": [
              "<Figure size 432x288 with 1 Axes>"
            ]
          },
          "metadata": {
            "tags": []
          }
        }
      ]
    },
    {
      "cell_type": "markdown",
      "metadata": {
        "id": "hE49dqX2Kelh",
        "colab_type": "text"
      },
      "source": [
        "Desta forma podemos construir o nosso gráfico de pizza. Entretanto, o nosso gráfico ficaria sem porcentagens e sem os valores da pesquisa, dificultado a sua leitura. Para inserirmos a porcentagem do gráfico precisamos acrescentar o argumento 'autopct'."
      ]
    },
    {
      "cell_type": "code",
      "metadata": {
        "id": "PGTy9P4JKonE",
        "colab_type": "code",
        "colab": {
          "base_uri": "https://localhost:8080/",
          "height": 265
        },
        "outputId": "ff491441-3f26-4ac2-ee21-c8f19788cc93"
      },
      "source": [
        "import matplotlib.pyplot as plt\n",
        "\n",
        "label = ['Biscoito', 'Bolacha']\n",
        "dados = [40,60]\n",
        "\n",
        "fig, ax = plt.subplots()\n",
        "\n",
        "#Inserindo o argumento de porcentagem\n",
        "ax.pie(dados, labels=label, autopct = '%1.1f%%')\n",
        "\n",
        "plt.show"
      ],
      "execution_count": 24,
      "outputs": [
        {
          "output_type": "execute_result",
          "data": {
            "text/plain": [
              "<function matplotlib.pyplot.show>"
            ]
          },
          "metadata": {
            "tags": []
          },
          "execution_count": 24
        },
        {
          "output_type": "display_data",
          "data": {
            "image/png": "[encoded data removed]",
            "text/plain": [
              "<Figure size 432x288 with 1 Axes>"
            ]
          },
          "metadata": {
            "tags": []
          }
        }
      ]
    },
    {
      "cell_type": "markdown",
      "metadata": {
        "id": "x5zWmAPALM3U",
        "colab_type": "text"
      },
      "source": [
        "Por mais que a biblioteca matplotlib permita você fazer inúmeras visualização de dados e de diversas formas, ela ainda se da um pouco limitada. Portanto, você pode ta buscando estudar um pouco mais sobre outras maneiras de visualizar dados utilizando python, ou pacotes de outros gráficos que se integram a biblioteca matplotlib, por exemplo criar um gráfico de waffle utilizando o pacote pywaffle, uma vez que ele se integra perfeitamente a biblioteca matplotlib."
      ]
    },
    {
      "cell_type": "markdown",
      "metadata": {
        "id": "nA7ONYWALQvI",
        "colab_type": "text"
      },
      "source": [
        "##**Gráfico de Waffle:**\n",
        "O gráfico de waffle é uma excelente alternativa para quem busca um gráfico com um melhor visual e um fácil entendimento, eles não apenas transmitem informações claramente, como são visualmente mais impactantes que gráficos de barras ou pizza.\n",
        "\n",
        "Vamos continuar com o exemplo da pesquisa de São Paulo de biscoito ou bolacha para construir o nosso gráfico de waffle.\n",
        "\n",
        "erifique antes se você tem a biblioteca instalada no seu ambiente. Caso contrário, basta instalar usando:\n",
        "\n",
        "Conda – conda install pywaffle\n",
        "Pip – pip install pywaffle"
      ]
    },
    {
      "cell_type": "code",
      "metadata": {
        "id": "us0OZCCRLSIm",
        "colab_type": "code",
        "colab": {}
      },
      "source": [
        "#Importar as bibliotecas necessarias \n",
        "\n",
        "import matplotlib.pyplot as plt\n",
        "from pywaffle import Waffle \n",
        "\n",
        "fig = plt.figure( \n",
        "    FigureClass = Waffle,\n",
        "    rows = 10,\n",
        "    columns = 10,\n",
        "    values = {'Bolacha': 60,\n",
        "              'Biscoito': 40},\n",
        "    legend = {'loc': 'upper left',\n",
        "              'bbox_to_anchor': (1.1, 1)}\n",
        "    )\n",
        "\n",
        "fig.set_tight_layout(False)\n",
        "plt.show()\n"
      ],
      "execution_count": 0,
      "outputs": []
    },
    {
      "cell_type": "markdown",
      "metadata": {
        "id": "rcML3RuLNAk_",
        "colab_type": "text"
      },
      "source": [
        "Como vocês podem observar:\n",
        "\n",
        "1. Importei o pacote pywaffle\n",
        "2. Inseri a quantidade de linhas e colunas\n",
        "3. Inseri o valores\n",
        "4. Inseri a legenda"
      ]
    },
    {
      "cell_type": "markdown",
      "metadata": {
        "id": "H9eEwYw4NZ25",
        "colab_type": "text"
      },
      "source": [
        "Obtendo:"
      ]
    },
    {
      "cell_type": "code",
      "metadata": {
        "id": "2Pz3ttolNbOm",
        "colab_type": "code",
        "colab": {
          "base_uri": "https://localhost:8080/",
          "height": 248
        },
        "outputId": "3d413f1a-5c43-422b-e9f2-05faac7a8ba4"
      },
      "source": [
        "#Importar as bibliotecas necessarias \n",
        "\n",
        "import matplotlib.pyplot as plt\n",
        "from pywaffle import Waffle \n",
        "\n",
        "fig = plt.figure( \n",
        "    FigureClass = Waffle,\n",
        "    rows = 10,\n",
        "    columns = 10,\n",
        "    values = {'Bolacha': 60,\n",
        "              'Biscoito': 40},\n",
        "    legend = {'loc': 'upper left',\n",
        "              'bbox_to_anchor': (1.1, 1)}\n",
        "    )\n",
        "\n",
        "fig.set_tight_layout(False)\n",
        "plt.show()"
      ],
      "execution_count": 29,
      "outputs": [
        {
          "output_type": "display_data",
          "data": {
            "image/png": "[encoded data removed]",
            "text/plain": [
              "<Waffle size 432x288 with 1 Axes>"
            ]
          },
          "metadata": {
            "tags": []
          }
        }
      ]
    },
    {
      "cell_type": "markdown",
      "metadata": {
        "id": "8HTYolrYNi2S",
        "colab_type": "text"
      },
      "source": [
        "Você ainda pode customizar o seu gráfico de waffle, alterando os ícones e cores. Diferentemente da biblioteca pyplot, o pacote pywaffle é altamente customizado e aceita os ícones da font awesome, dando uma maior liberdade."
      ]
    },
    {
      "cell_type": "code",
      "metadata": {
        "id": "9qCclkJ-Nkxu",
        "colab_type": "code",
        "colab": {
          "base_uri": "https://localhost:8080/",
          "height": 250
        },
        "outputId": "4b52d929-7b50-415e-85ba-7953a8d5e3b5"
      },
      "source": [
        "\n",
        "import matplotlib.pyplot as plt\n",
        "from pywaffle import Waffle \n",
        "\n",
        "fig = plt.figure( \n",
        "    FigureClass = Waffle,\n",
        "    rows = 10,\n",
        "    columns = 10,\n",
        "    values = {'Bolacha': 60,\n",
        "              'Biscoito': 40},\n",
        "    legend = {'loc': 'upper left',\n",
        "              'bbox_to_anchor': (1.1, 1)},\n",
        "    #Inserindo cores\n",
        "    colors =('#5e4b39', '#b38152'),\n",
        "    #Inserindo icones\n",
        "    icons='cookie', icon_size=12,\n",
        "    icon_legend = True\n",
        "    )\n",
        "\n",
        "fig.set_tight_layout(False)\n",
        "plt.show()"
      ],
      "execution_count": 31,
      "outputs": [
        {
          "output_type": "display_data",
          "data": {
            "image/png": "[encoded data removed]",
            "text/plain": [
              "<Waffle size 432x288 with 1 Axes>"
            ]
          },
          "metadata": {
            "tags": []
          }
        }
      ]
    },
    {
      "cell_type": "markdown",
      "metadata": {
        "id": "GNXEli_vRWsr",
        "colab_type": "text"
      },
      "source": [
        "Como vocês podem observar:\n",
        "\n",
        "1. Acrescentei as cores ao gráfico\n",
        "2. Acrescentei o ícone"
      ]
    },
    {
      "cell_type": "markdown",
      "metadata": {
        "id": "AXjlfxfjRc5v",
        "colab_type": "text"
      },
      "source": [
        "Veja mais ícones em: https://fontawesome.com/?from=io."
      ]
    },
    {
      "cell_type": "markdown",
      "metadata": {
        "id": "iD57O8oEYLcQ",
        "colab_type": "text"
      },
      "source": [
        "##**Conclusão:**\n",
        "Não se limite aos gráficos tradicionais, comece a aprender também como usar plotly e pacotes de gráficos interativos.\n",
        "\n",
        "Visualização de dados é uma das minhas partes preferidas em projetos de Data Science. Apesar de muita gente achar que basta aprender comandos para plotar diferentes tipos de gráficos, a visualização de dados é algo que vai bem além disso.(Carlos Melo, Sigmoidal)\n",
        "\n",
        "Visualizar dados significa:\n",
        "\n",
        "* Fornecer técnicas que contribuam para a Análise Exploratória de Dados;\n",
        "* Comunicar os dados de maneira clara para outras pessoas;\n",
        "* Apoiar diferentes tipos de stakeholders com diferentes níveis de conhecimento;\n",
        "* Compartilhar a representação dos dados sem bias (viés).\n",
        "\n",
        "Quando você apresenta um relatório, uma consultoria ou um projeto de Data Science, está comunicando resultados para, na maioria das vezes, pessoas não-técnicas ou que não sabem programar.\n",
        "\n",
        "Aprender gráficos visualmente mais impactantes e fugir daqueles normais é algo que vai te ajudar muito.\n",
        "\n",
        "Obrigado a você que chegou até aqui, te vejo na próxima!\n",
        "\n"
      ]
    }
  ]
}