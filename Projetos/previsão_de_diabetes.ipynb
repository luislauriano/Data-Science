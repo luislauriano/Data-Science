{
  "nbformat": 4,
  "nbformat_minor": 0,
  "metadata": {
    "colab": {
      "name": "Welcome To Colaboratory",
      "provenance": [],
      "collapsed_sections": [],
      "include_colab_link": true
    },
    "kernelspec": {
      "display_name": "Python 3",
      "name": "python3"
    }
  },
  "cells": [
    {
      "cell_type": "markdown",
      "metadata": {
        "id": "view-in-github",
        "colab_type": "text"
      },
      "source": [
        "<a href=\"https://colab.research.google.com/github/luislauriano/data_science/blob/master/previs%C3%A3o_de_diabetes.ipynb\" target=\"_parent\"><img src=\"https://colab.research.google.com/assets/colab-badge.svg\" alt=\"Open In Colab\"/></a>"
      ]
    },
    {
      "cell_type": "markdown",
      "metadata": {
        "id": "6AQhA3nD0Y_J",
        "colab_type": "text"
      },
      "source": [
        "# **Criação de modelo preditivo de Ocorrência de Diabetes**"
      ]
    },
    {
      "cell_type": "markdown",
      "metadata": {
        "id": "PqyPQFA2_Pmu",
        "colab_type": "text"
      },
      "source": [
        "# **Obtenção de dados**"
      ]
    },
    {
      "cell_type": "markdown",
      "metadata": {
        "id": "fKkb3g_L0nt1",
        "colab_type": "text"
      },
      "source": [
        "**Conjunto de Dados do Repositório de Machine Learning da UCI / Kaggle**"
      ]
    },
    {
      "cell_type": "markdown",
      "metadata": {
        "id": "CODMmfiC0xBd",
        "colab_type": "text"
      },
      "source": [
        "O conjunto de dados que vamos utilizar foi retirado e pode ser encontrado no kaggle: https://www.kaggle.com/uciml/pima-indians-diabetes-database/data"
      ]
    },
    {
      "cell_type": "markdown",
      "metadata": {
        "id": "Srk-fj7X-Qqm",
        "colab_type": "text"
      },
      "source": [
        "Este conjunto de dados é originalmente do Instituto Nacional de Diabetes e Doenças Digestivas e Renais. O objetivo do conjunto de dados é prever se um paciente tem ou não diabetes, com base em certas medidas de diagnóstico incluídas no conjunto de dados. Várias restrições foram colocadas na seleção dessas instâncias em um banco de dados maior. Em particular, todos os pacientes aqui são mulheres com pelo menos 21 anos de idade da herança indígena Pima. \n",
        "\n",
        "O conjunto de dados consiste em diversas variáveis ​​de previsão médica e uma variável de destino, resultado. As variáveis ​​preditoras, dados de entrada, incluem o número de gestações que a paciente teve, seu IMC, nível de insulina, idade e assim por diante."
      ]
    },
    {
      "cell_type": "markdown",
      "metadata": {
        "id": "2IydWzLF-qZz",
        "colab_type": "text"
      },
      "source": [
        "Considere a variável **Resultado** com valor 1 para True e 0 para False"
      ]
    },
    {
      "cell_type": "markdown",
      "metadata": {
        "id": "xxGWWaRL_khM",
        "colab_type": "text"
      },
      "source": [
        "**Informações sobre os atributos**\n",
        "\n",
        "\n",
        "\n",
        "*   Pregnancies / Gravidez - Mês em que se encontra a gestação \n",
        "*   Glucose / Glicose - Concentração de glicose no plasma duas horas em um teste oral de tolerância à glicose\n",
        "* Blood Pressure  / Pressão sanguínea - Pressão arterial diastólica (mm Hg)\n",
        "* SkinThickness / Espessura da pele - Tríceps espessura da dobra da pele (mm)\n",
        "* Isulin / Insulina - Insulina sérica de 2 horas (mu U / ml)\n",
        "* BMI / IMC - Índice de massa corporal (peso em kg / (altura em m) ^ 2)\n",
        "* Diabetes Pedigree Function / Função de pedigree do diabéticos - Função pedigree do diabéticos\n",
        "* Age / Idade \n",
        "*Outcome / Resultado - A variável de classe (0 ou 1)\n",
        "\n",
        "\n"
      ]
    },
    {
      "cell_type": "markdown",
      "metadata": {
        "id": "tTaA7rr6CPiz",
        "colab_type": "text"
      },
      "source": [
        "**Importar os dados**"
      ]
    },
    {
      "cell_type": "markdown",
      "metadata": {
        "id": "6_rAsaUkCdAE",
        "colab_type": "text"
      },
      "source": [
        "> Nesta etapa inicial importaremos o dataset mencionado anteriormente e as bibliotecas que iremos utilizar"
      ]
    },
    {
      "cell_type": "code",
      "metadata": {
        "id": "Q9Y8P2mApkbi",
        "colab_type": "code",
        "outputId": "f7804b98-721b-413a-d462-fdc18f56cc9d",
        "colab": {
          "base_uri": "https://localhost:8080/",
          "height": 153
        }
      },
      "source": [
        "pip install pywaffle"
      ],
      "execution_count": 0,
      "outputs": [
        {
          "output_type": "stream",
          "text": [
            "Requirement already satisfied: pywaffle in /usr/local/lib/python3.6/dist-packages (0.5.1)\n",
            "Requirement already satisfied: matplotlib in /usr/local/lib/python3.6/dist-packages (from pywaffle) (3.2.1)\n",
            "Requirement already satisfied: kiwisolver>=1.0.1 in /usr/local/lib/python3.6/dist-packages (from matplotlib->pywaffle) (1.2.0)\n",
            "Requirement already satisfied: cycler>=0.10 in /usr/local/lib/python3.6/dist-packages (from matplotlib->pywaffle) (0.10.0)\n",
            "Requirement already satisfied: python-dateutil>=2.1 in /usr/local/lib/python3.6/dist-packages (from matplotlib->pywaffle) (2.8.1)\n",
            "Requirement already satisfied: pyparsing!=2.0.4,!=2.1.2,!=2.1.6,>=2.0.1 in /usr/local/lib/python3.6/dist-packages (from matplotlib->pywaffle) (2.4.7)\n",
            "Requirement already satisfied: numpy>=1.11 in /usr/local/lib/python3.6/dist-packages (from matplotlib->pywaffle) (1.18.3)\n",
            "Requirement already satisfied: six in /usr/local/lib/python3.6/dist-packages (from cycler>=0.10->matplotlib->pywaffle) (1.12.0)\n"
          ],
          "name": "stdout"
        }
      ]
    },
    {
      "cell_type": "code",
      "metadata": {
        "id": "-jWUWHkO0lEl",
        "colab_type": "code",
        "colab": {}
      },
      "source": [
        "#Importando os modulos\n",
        "import matplotlib.pyplot as plt\n",
        "import pandas as pd\n",
        "import numpy as np \n",
        "import sklearn\n",
        "from pywaffle import Waffle"
      ],
      "execution_count": 0,
      "outputs": []
    },
    {
      "cell_type": "code",
      "metadata": {
        "id": "5XHH1oPs1dHl",
        "colab_type": "code",
        "colab": {}
      },
      "source": [
        "#Carregando o dataset\n",
        "\n",
        "df = pd.read_csv('https://raw.githubusercontent.com/luislauriano/data_science/master/data/diabetes.csv')"
      ],
      "execution_count": 0,
      "outputs": []
    },
    {
      "cell_type": "markdown",
      "metadata": {
        "id": "RAVfUnUw-Sq8",
        "colab_type": "text"
      },
      "source": [
        "# **Explorando e preparando os dados**"
      ]
    },
    {
      "cell_type": "markdown",
      "metadata": {
        "id": "pTO8LXt9iPwC",
        "colab_type": "text"
      },
      "source": [
        "**Qual o tamanho e tipo dos atributos do dataset?**"
      ]
    },
    {
      "cell_type": "code",
      "metadata": {
        "id": "_akF4Pak1nFM",
        "colab_type": "code",
        "outputId": "537849db-8ac3-4e24-abdc-f6e01d4d07c3",
        "colab": {
          "base_uri": "https://localhost:8080/",
          "height": 255
        }
      },
      "source": [
        "#Verificando o formato dos dados\n",
        "\n",
        "print(f'Linhas: {df.shape[0]}')\n",
        "print(f'Colunas: {df.shape[1]}')\n",
        "print('\\n')\n",
        "df.dtypes"
      ],
      "execution_count": 0,
      "outputs": [
        {
          "output_type": "stream",
          "text": [
            "Linhas: 768\n",
            "Colunas: 9\n",
            "\n",
            "\n"
          ],
          "name": "stdout"
        },
        {
          "output_type": "execute_result",
          "data": {
            "text/plain": [
              "Pregnancies                   int64\n",
              "Glucose                       int64\n",
              "BloodPressure                 int64\n",
              "SkinThickness                 int64\n",
              "Insulin                       int64\n",
              "BMI                         float64\n",
              "DiabetesPedigreeFunction    float64\n",
              "Age                           int64\n",
              "Outcome                       int64\n",
              "dtype: object"
            ]
          },
          "metadata": {
            "tags": []
          },
          "execution_count": 160
        }
      ]
    },
    {
      "cell_type": "markdown",
      "metadata": {
        "id": "K7sUe_VDibvB",
        "colab_type": "text"
      },
      "source": [
        "O nosso dataset contém 768 linhas e 9 colunas, a coluna **Resultado** que é o nosso dados de saída, o que queremos prever é do tipo inteiro, maioria entre os atributos."
      ]
    },
    {
      "cell_type": "code",
      "metadata": {
        "id": "QBpkhbFb16Vb",
        "colab_type": "code",
        "outputId": "5a1d1b76-51d1-4517-bd55-5edb9a4aee78",
        "colab": {
          "base_uri": "https://localhost:8080/",
          "height": 204
        }
      },
      "source": [
        "#Verificando as primeiras linhas do dataset\n",
        "\n",
        "df.head(5)"
      ],
      "execution_count": 0,
      "outputs": [
        {
          "output_type": "execute_result",
          "data": {
            "text/html": [
              "<div>\n",
              "<style scoped>\n",
              "    .dataframe tbody tr th:only-of-type {\n",
              "        vertical-align: middle;\n",
              "    }\n",
              "\n",
              "    .dataframe tbody tr th {\n",
              "        vertical-align: top;\n",
              "    }\n",
              "\n",
              "    .dataframe thead th {\n",
              "        text-align: right;\n",
              "    }\n",
              "</style>\n",
              "<table border=\"1\" class=\"dataframe\">\n",
              "  <thead>\n",
              "    <tr style=\"text-align: right;\">\n",
              "      <th></th>\n",
              "      <th>Pregnancies</th>\n",
              "      <th>Glucose</th>\n",
              "      <th>BloodPressure</th>\n",
              "      <th>SkinThickness</th>\n",
              "      <th>Insulin</th>\n",
              "      <th>BMI</th>\n",
              "      <th>DiabetesPedigreeFunction</th>\n",
              "      <th>Age</th>\n",
              "      <th>Outcome</th>\n",
              "    </tr>\n",
              "  </thead>\n",
              "  <tbody>\n",
              "    <tr>\n",
              "      <th>0</th>\n",
              "      <td>6</td>\n",
              "      <td>148</td>\n",
              "      <td>72</td>\n",
              "      <td>35</td>\n",
              "      <td>0</td>\n",
              "      <td>33.6</td>\n",
              "      <td>0.627</td>\n",
              "      <td>50</td>\n",
              "      <td>1</td>\n",
              "    </tr>\n",
              "    <tr>\n",
              "      <th>1</th>\n",
              "      <td>1</td>\n",
              "      <td>85</td>\n",
              "      <td>66</td>\n",
              "      <td>29</td>\n",
              "      <td>0</td>\n",
              "      <td>26.6</td>\n",
              "      <td>0.351</td>\n",
              "      <td>31</td>\n",
              "      <td>0</td>\n",
              "    </tr>\n",
              "    <tr>\n",
              "      <th>2</th>\n",
              "      <td>8</td>\n",
              "      <td>183</td>\n",
              "      <td>64</td>\n",
              "      <td>0</td>\n",
              "      <td>0</td>\n",
              "      <td>23.3</td>\n",
              "      <td>0.672</td>\n",
              "      <td>32</td>\n",
              "      <td>1</td>\n",
              "    </tr>\n",
              "    <tr>\n",
              "      <th>3</th>\n",
              "      <td>1</td>\n",
              "      <td>89</td>\n",
              "      <td>66</td>\n",
              "      <td>23</td>\n",
              "      <td>94</td>\n",
              "      <td>28.1</td>\n",
              "      <td>0.167</td>\n",
              "      <td>21</td>\n",
              "      <td>0</td>\n",
              "    </tr>\n",
              "    <tr>\n",
              "      <th>4</th>\n",
              "      <td>0</td>\n",
              "      <td>137</td>\n",
              "      <td>40</td>\n",
              "      <td>35</td>\n",
              "      <td>168</td>\n",
              "      <td>43.1</td>\n",
              "      <td>2.288</td>\n",
              "      <td>33</td>\n",
              "      <td>1</td>\n",
              "    </tr>\n",
              "  </tbody>\n",
              "</table>\n",
              "</div>"
            ],
            "text/plain": [
              "   Pregnancies  Glucose  BloodPressure  ...  DiabetesPedigreeFunction  Age  Outcome\n",
              "0            6      148             72  ...                     0.627   50        1\n",
              "1            1       85             66  ...                     0.351   31        0\n",
              "2            8      183             64  ...                     0.672   32        1\n",
              "3            1       89             66  ...                     0.167   21        0\n",
              "4            0      137             40  ...                     2.288   33        1\n",
              "\n",
              "[5 rows x 9 columns]"
            ]
          },
          "metadata": {
            "tags": []
          },
          "execution_count": 161
        }
      ]
    },
    {
      "cell_type": "markdown",
      "metadata": {
        "id": "nuiUHlzdj1Sv",
        "colab_type": "text"
      },
      "source": [
        "A renomeação das colunas é sempre importante para facilitar o entendimento e o uso das colunas em nosso código, então vamos renomear as colunas para o português. "
      ]
    },
    {
      "cell_type": "code",
      "metadata": {
        "id": "BAmnmkHQ-aPl",
        "colab_type": "code",
        "outputId": "698cec7e-848b-4b24-9ab8-a3f30ba475ea",
        "colab": {
          "base_uri": "https://localhost:8080/",
          "height": 204
        }
      },
      "source": [
        "#Renomeando as colunas\n",
        "df.columns = ['Gravidez', 'Glicose', 'Pressão_Sanguinea', 'Espessura_da_pele', 'Insulina', 'IMC', 'Função_pedigree_dos_diabeticos', 'Idade', 'Resultado']\n",
        "\n",
        "df.head(5)"
      ],
      "execution_count": 0,
      "outputs": [
        {
          "output_type": "execute_result",
          "data": {
            "text/html": [
              "<div>\n",
              "<style scoped>\n",
              "    .dataframe tbody tr th:only-of-type {\n",
              "        vertical-align: middle;\n",
              "    }\n",
              "\n",
              "    .dataframe tbody tr th {\n",
              "        vertical-align: top;\n",
              "    }\n",
              "\n",
              "    .dataframe thead th {\n",
              "        text-align: right;\n",
              "    }\n",
              "</style>\n",
              "<table border=\"1\" class=\"dataframe\">\n",
              "  <thead>\n",
              "    <tr style=\"text-align: right;\">\n",
              "      <th></th>\n",
              "      <th>Gravidez</th>\n",
              "      <th>Glicose</th>\n",
              "      <th>Pressão_Sanguinea</th>\n",
              "      <th>Espessura_da_pele</th>\n",
              "      <th>Insulina</th>\n",
              "      <th>IMC</th>\n",
              "      <th>Função_pedigree_dos_diabeticos</th>\n",
              "      <th>Idade</th>\n",
              "      <th>Resultado</th>\n",
              "    </tr>\n",
              "  </thead>\n",
              "  <tbody>\n",
              "    <tr>\n",
              "      <th>0</th>\n",
              "      <td>6</td>\n",
              "      <td>148</td>\n",
              "      <td>72</td>\n",
              "      <td>35</td>\n",
              "      <td>0</td>\n",
              "      <td>33.6</td>\n",
              "      <td>0.627</td>\n",
              "      <td>50</td>\n",
              "      <td>1</td>\n",
              "    </tr>\n",
              "    <tr>\n",
              "      <th>1</th>\n",
              "      <td>1</td>\n",
              "      <td>85</td>\n",
              "      <td>66</td>\n",
              "      <td>29</td>\n",
              "      <td>0</td>\n",
              "      <td>26.6</td>\n",
              "      <td>0.351</td>\n",
              "      <td>31</td>\n",
              "      <td>0</td>\n",
              "    </tr>\n",
              "    <tr>\n",
              "      <th>2</th>\n",
              "      <td>8</td>\n",
              "      <td>183</td>\n",
              "      <td>64</td>\n",
              "      <td>0</td>\n",
              "      <td>0</td>\n",
              "      <td>23.3</td>\n",
              "      <td>0.672</td>\n",
              "      <td>32</td>\n",
              "      <td>1</td>\n",
              "    </tr>\n",
              "    <tr>\n",
              "      <th>3</th>\n",
              "      <td>1</td>\n",
              "      <td>89</td>\n",
              "      <td>66</td>\n",
              "      <td>23</td>\n",
              "      <td>94</td>\n",
              "      <td>28.1</td>\n",
              "      <td>0.167</td>\n",
              "      <td>21</td>\n",
              "      <td>0</td>\n",
              "    </tr>\n",
              "    <tr>\n",
              "      <th>4</th>\n",
              "      <td>0</td>\n",
              "      <td>137</td>\n",
              "      <td>40</td>\n",
              "      <td>35</td>\n",
              "      <td>168</td>\n",
              "      <td>43.1</td>\n",
              "      <td>2.288</td>\n",
              "      <td>33</td>\n",
              "      <td>1</td>\n",
              "    </tr>\n",
              "  </tbody>\n",
              "</table>\n",
              "</div>"
            ],
            "text/plain": [
              "   Gravidez  Glicose  ...  Idade  Resultado\n",
              "0         6      148  ...     50          1\n",
              "1         1       85  ...     31          0\n",
              "2         8      183  ...     32          1\n",
              "3         1       89  ...     21          0\n",
              "4         0      137  ...     33          1\n",
              "\n",
              "[5 rows x 9 columns]"
            ]
          },
          "metadata": {
            "tags": []
          },
          "execution_count": 162
        }
      ]
    },
    {
      "cell_type": "code",
      "metadata": {
        "id": "KFMnuuDB2k4a",
        "colab_type": "code",
        "outputId": "d0968b56-8e75-480e-c46a-40e9043abfda",
        "colab": {
          "base_uri": "https://localhost:8080/",
          "height": 204
        }
      },
      "source": [
        "#Verificando as ultimas linhas do dataset\n",
        "\n",
        "df.tail(5)"
      ],
      "execution_count": 0,
      "outputs": [
        {
          "output_type": "execute_result",
          "data": {
            "text/html": [
              "<div>\n",
              "<style scoped>\n",
              "    .dataframe tbody tr th:only-of-type {\n",
              "        vertical-align: middle;\n",
              "    }\n",
              "\n",
              "    .dataframe tbody tr th {\n",
              "        vertical-align: top;\n",
              "    }\n",
              "\n",
              "    .dataframe thead th {\n",
              "        text-align: right;\n",
              "    }\n",
              "</style>\n",
              "<table border=\"1\" class=\"dataframe\">\n",
              "  <thead>\n",
              "    <tr style=\"text-align: right;\">\n",
              "      <th></th>\n",
              "      <th>Gravidez</th>\n",
              "      <th>Glicose</th>\n",
              "      <th>Pressão_Sanguinea</th>\n",
              "      <th>Espessura_da_pele</th>\n",
              "      <th>Insulina</th>\n",
              "      <th>IMC</th>\n",
              "      <th>Função_pedigree_dos_diabeticos</th>\n",
              "      <th>Idade</th>\n",
              "      <th>Resultado</th>\n",
              "    </tr>\n",
              "  </thead>\n",
              "  <tbody>\n",
              "    <tr>\n",
              "      <th>763</th>\n",
              "      <td>10</td>\n",
              "      <td>101</td>\n",
              "      <td>76</td>\n",
              "      <td>48</td>\n",
              "      <td>180</td>\n",
              "      <td>32.9</td>\n",
              "      <td>0.171</td>\n",
              "      <td>63</td>\n",
              "      <td>0</td>\n",
              "    </tr>\n",
              "    <tr>\n",
              "      <th>764</th>\n",
              "      <td>2</td>\n",
              "      <td>122</td>\n",
              "      <td>70</td>\n",
              "      <td>27</td>\n",
              "      <td>0</td>\n",
              "      <td>36.8</td>\n",
              "      <td>0.340</td>\n",
              "      <td>27</td>\n",
              "      <td>0</td>\n",
              "    </tr>\n",
              "    <tr>\n",
              "      <th>765</th>\n",
              "      <td>5</td>\n",
              "      <td>121</td>\n",
              "      <td>72</td>\n",
              "      <td>23</td>\n",
              "      <td>112</td>\n",
              "      <td>26.2</td>\n",
              "      <td>0.245</td>\n",
              "      <td>30</td>\n",
              "      <td>0</td>\n",
              "    </tr>\n",
              "    <tr>\n",
              "      <th>766</th>\n",
              "      <td>1</td>\n",
              "      <td>126</td>\n",
              "      <td>60</td>\n",
              "      <td>0</td>\n",
              "      <td>0</td>\n",
              "      <td>30.1</td>\n",
              "      <td>0.349</td>\n",
              "      <td>47</td>\n",
              "      <td>1</td>\n",
              "    </tr>\n",
              "    <tr>\n",
              "      <th>767</th>\n",
              "      <td>1</td>\n",
              "      <td>93</td>\n",
              "      <td>70</td>\n",
              "      <td>31</td>\n",
              "      <td>0</td>\n",
              "      <td>30.4</td>\n",
              "      <td>0.315</td>\n",
              "      <td>23</td>\n",
              "      <td>0</td>\n",
              "    </tr>\n",
              "  </tbody>\n",
              "</table>\n",
              "</div>"
            ],
            "text/plain": [
              "     Gravidez  Glicose  ...  Idade  Resultado\n",
              "763        10      101  ...     63          0\n",
              "764         2      122  ...     27          0\n",
              "765         5      121  ...     30          0\n",
              "766         1      126  ...     47          1\n",
              "767         1       93  ...     23          0\n",
              "\n",
              "[5 rows x 9 columns]"
            ]
          },
          "metadata": {
            "tags": []
          },
          "execution_count": 163
        }
      ]
    },
    {
      "cell_type": "markdown",
      "metadata": {
        "id": "I2GRD2CzlBa_",
        "colab_type": "text"
      },
      "source": [
        "É sempre bom lembrar que a qualidade de um dataset está diretamente relacionada à quantidade de valores ausentes, por isso, sempre devemos verificar a quantidade de valores ausentes ou nulos presentes em nosso dataset."
      ]
    },
    {
      "cell_type": "code",
      "metadata": {
        "id": "5GyfjAJx2uAD",
        "colab_type": "code",
        "outputId": "100252ac-731a-480e-9822-288584ca6301",
        "colab": {
          "base_uri": "https://localhost:8080/",
          "height": 187
        }
      },
      "source": [
        "#Verificando se existem valores ausentes\n",
        "df.isnull().sum()\n"
      ],
      "execution_count": 0,
      "outputs": [
        {
          "output_type": "execute_result",
          "data": {
            "text/plain": [
              "Gravidez                          0\n",
              "Glicose                           0\n",
              "Pressão_Sanguinea                 0\n",
              "Espessura_da_pele                 0\n",
              "Insulina                          0\n",
              "IMC                               0\n",
              "Função_pedigree_dos_diabeticos    0\n",
              "Idade                             0\n",
              "Resultado                         0\n",
              "dtype: int64"
            ]
          },
          "metadata": {
            "tags": []
          },
          "execution_count": 164
        }
      ]
    },
    {
      "cell_type": "markdown",
      "metadata": {
        "id": "T-pMHvzZlWrk",
        "colab_type": "text"
      },
      "source": [
        "Como observado, nosso dataset não contém valores ausentes ou nulos, diminuindo a rigidez na preparação e tratamento dos dados. "
      ]
    },
    {
      "cell_type": "markdown",
      "metadata": {
        "id": "X0F_suPjmwpS",
        "colab_type": "text"
      },
      "source": [
        "Vamos agora identificar e visualizar a **correlação entre as variáveis**. Considere o coeficiente de correlação: \n",
        "\n",
        "\n",
        "*   +1  = Forte correlação positiva\n",
        "*   0   = Não há correlação\n",
        "*  -1  = Forte correlação negativa\n",
        "\n",
        "\n"
      ]
    },
    {
      "cell_type": "code",
      "metadata": {
        "id": "BOj3mRuZ4O7R",
        "colab_type": "code",
        "outputId": "77a9fde5-3b26-4fc6-db05-467a36616fa7",
        "colab": {
          "base_uri": "https://localhost:8080/",
          "height": 348
        }
      },
      "source": [
        "# Visualizando a correlação em tabela\n",
        "df.corr()"
      ],
      "execution_count": 0,
      "outputs": [
        {
          "output_type": "execute_result",
          "data": {
            "text/html": [
              "<div>\n",
              "<style scoped>\n",
              "    .dataframe tbody tr th:only-of-type {\n",
              "        vertical-align: middle;\n",
              "    }\n",
              "\n",
              "    .dataframe tbody tr th {\n",
              "        vertical-align: top;\n",
              "    }\n",
              "\n",
              "    .dataframe thead th {\n",
              "        text-align: right;\n",
              "    }\n",
              "</style>\n",
              "<table border=\"1\" class=\"dataframe\">\n",
              "  <thead>\n",
              "    <tr style=\"text-align: right;\">\n",
              "      <th></th>\n",
              "      <th>Gravidez</th>\n",
              "      <th>Glicose</th>\n",
              "      <th>Pressão_Sanguinea</th>\n",
              "      <th>Espessura_da_pele</th>\n",
              "      <th>Insulina</th>\n",
              "      <th>IMC</th>\n",
              "      <th>Função_pedigree_dos_diabeticos</th>\n",
              "      <th>Idade</th>\n",
              "      <th>Resultado</th>\n",
              "    </tr>\n",
              "  </thead>\n",
              "  <tbody>\n",
              "    <tr>\n",
              "      <th>Gravidez</th>\n",
              "      <td>1.000000</td>\n",
              "      <td>0.129459</td>\n",
              "      <td>0.141282</td>\n",
              "      <td>-0.081672</td>\n",
              "      <td>-0.073535</td>\n",
              "      <td>0.017683</td>\n",
              "      <td>-0.033523</td>\n",
              "      <td>0.544341</td>\n",
              "      <td>0.221898</td>\n",
              "    </tr>\n",
              "    <tr>\n",
              "      <th>Glicose</th>\n",
              "      <td>0.129459</td>\n",
              "      <td>1.000000</td>\n",
              "      <td>0.152590</td>\n",
              "      <td>0.057328</td>\n",
              "      <td>0.331357</td>\n",
              "      <td>0.221071</td>\n",
              "      <td>0.137337</td>\n",
              "      <td>0.263514</td>\n",
              "      <td>0.466581</td>\n",
              "    </tr>\n",
              "    <tr>\n",
              "      <th>Pressão_Sanguinea</th>\n",
              "      <td>0.141282</td>\n",
              "      <td>0.152590</td>\n",
              "      <td>1.000000</td>\n",
              "      <td>0.207371</td>\n",
              "      <td>0.088933</td>\n",
              "      <td>0.281805</td>\n",
              "      <td>0.041265</td>\n",
              "      <td>0.239528</td>\n",
              "      <td>0.065068</td>\n",
              "    </tr>\n",
              "    <tr>\n",
              "      <th>Espessura_da_pele</th>\n",
              "      <td>-0.081672</td>\n",
              "      <td>0.057328</td>\n",
              "      <td>0.207371</td>\n",
              "      <td>1.000000</td>\n",
              "      <td>0.436783</td>\n",
              "      <td>0.392573</td>\n",
              "      <td>0.183928</td>\n",
              "      <td>-0.113970</td>\n",
              "      <td>0.074752</td>\n",
              "    </tr>\n",
              "    <tr>\n",
              "      <th>Insulina</th>\n",
              "      <td>-0.073535</td>\n",
              "      <td>0.331357</td>\n",
              "      <td>0.088933</td>\n",
              "      <td>0.436783</td>\n",
              "      <td>1.000000</td>\n",
              "      <td>0.197859</td>\n",
              "      <td>0.185071</td>\n",
              "      <td>-0.042163</td>\n",
              "      <td>0.130548</td>\n",
              "    </tr>\n",
              "    <tr>\n",
              "      <th>IMC</th>\n",
              "      <td>0.017683</td>\n",
              "      <td>0.221071</td>\n",
              "      <td>0.281805</td>\n",
              "      <td>0.392573</td>\n",
              "      <td>0.197859</td>\n",
              "      <td>1.000000</td>\n",
              "      <td>0.140647</td>\n",
              "      <td>0.036242</td>\n",
              "      <td>0.292695</td>\n",
              "    </tr>\n",
              "    <tr>\n",
              "      <th>Função_pedigree_dos_diabeticos</th>\n",
              "      <td>-0.033523</td>\n",
              "      <td>0.137337</td>\n",
              "      <td>0.041265</td>\n",
              "      <td>0.183928</td>\n",
              "      <td>0.185071</td>\n",
              "      <td>0.140647</td>\n",
              "      <td>1.000000</td>\n",
              "      <td>0.033561</td>\n",
              "      <td>0.173844</td>\n",
              "    </tr>\n",
              "    <tr>\n",
              "      <th>Idade</th>\n",
              "      <td>0.544341</td>\n",
              "      <td>0.263514</td>\n",
              "      <td>0.239528</td>\n",
              "      <td>-0.113970</td>\n",
              "      <td>-0.042163</td>\n",
              "      <td>0.036242</td>\n",
              "      <td>0.033561</td>\n",
              "      <td>1.000000</td>\n",
              "      <td>0.238356</td>\n",
              "    </tr>\n",
              "    <tr>\n",
              "      <th>Resultado</th>\n",
              "      <td>0.221898</td>\n",
              "      <td>0.466581</td>\n",
              "      <td>0.065068</td>\n",
              "      <td>0.074752</td>\n",
              "      <td>0.130548</td>\n",
              "      <td>0.292695</td>\n",
              "      <td>0.173844</td>\n",
              "      <td>0.238356</td>\n",
              "      <td>1.000000</td>\n",
              "    </tr>\n",
              "  </tbody>\n",
              "</table>\n",
              "</div>"
            ],
            "text/plain": [
              "                                Gravidez   Glicose  ...     Idade  Resultado\n",
              "Gravidez                        1.000000  0.129459  ...  0.544341   0.221898\n",
              "Glicose                         0.129459  1.000000  ...  0.263514   0.466581\n",
              "Pressão_Sanguinea               0.141282  0.152590  ...  0.239528   0.065068\n",
              "Espessura_da_pele              -0.081672  0.057328  ... -0.113970   0.074752\n",
              "Insulina                       -0.073535  0.331357  ... -0.042163   0.130548\n",
              "IMC                             0.017683  0.221071  ...  0.036242   0.292695\n",
              "Função_pedigree_dos_diabeticos -0.033523  0.137337  ...  0.033561   0.173844\n",
              "Idade                           0.544341  0.263514  ...  1.000000   0.238356\n",
              "Resultado                       0.221898  0.466581  ...  0.238356   1.000000\n",
              "\n",
              "[9 rows x 9 columns]"
            ]
          },
          "metadata": {
            "tags": []
          },
          "execution_count": 165
        }
      ]
    },
    {
      "cell_type": "markdown",
      "metadata": {
        "id": "McDs1VqVvjbN",
        "colab_type": "text"
      },
      "source": [
        "Esse processo é importante para saber quais são as variáveis mais relevantes para se usar na construção do modelo preditivo. Uma correlação positiva indica que se o valor de uma variável aumenta o da outra variável também aumenta, uma correlação negativa indica que se o valor de uma variável aumenta o da outra variável diminui, porém, na escolha das variáveis relevantes para a construção do modelo, não se deve levar em conta apenas esse fator. Lembre: Correlação não implica causalidade.\n",
        "\n"
      ]
    },
    {
      "cell_type": "markdown",
      "metadata": {
        "id": "4uOdzWElrYvU",
        "colab_type": "text"
      },
      "source": [
        "Vamos construir um gráfico para visualizar melhor a correlação."
      ]
    },
    {
      "cell_type": "code",
      "metadata": {
        "colab_type": "code",
        "id": "0ZoH0AvIqvp7",
        "colab": {}
      },
      "source": [
        "# Identificando a correlação entre as variáveis\n",
        "# Correlação não implica causalidade\n",
        "def plot_corr(df, size=10):\n",
        "    corr = df.corr()    \n",
        "    fig, ax = plt.subplots(figsize = (size, size))\n",
        "    ax.matshow(corr)  \n",
        "    plt.xticks(range(len(corr.columns)), corr.columns) \n",
        "    plt.yticks(range(len(corr.columns)), corr.columns)\n",
        "    plt.xticks(rotation=45)"
      ],
      "execution_count": 0,
      "outputs": []
    },
    {
      "cell_type": "code",
      "metadata": {
        "id": "jld-o79E4JU6",
        "colab_type": "code",
        "outputId": "1d4e1f36-a1b6-4084-dec5-01d548531514",
        "colab": {
          "base_uri": "https://localhost:8080/",
          "height": 708
        }
      },
      "source": [
        "#Criando o gráfico a partir da função que criamos\n",
        "plot_corr(df)"
      ],
      "execution_count": 0,
      "outputs": [
        {
          "output_type": "display_data",
          "data": {
            "image/png": "[encoded data removed]",
            "text/plain": [
              "<Figure size 720x720 with 1 Axes>"
            ]
          },
          "metadata": {
            "tags": [],
            "needs_background": "light"
          }
        }
      ]
    },
    {
      "cell_type": "markdown",
      "metadata": {
        "id": "5Y5HWoM3sMmL",
        "colab_type": "text"
      },
      "source": [
        "Na diagonal, os quadrados em amarelo representam a correlação de uma variável com ela mesma, por isso possui uma forte correlação positiva."
      ]
    },
    {
      "cell_type": "markdown",
      "metadata": {
        "id": "UCfcNmcE6u_7",
        "colab_type": "text"
      },
      "source": [
        "**Seleção das variaveis de entrada e saída**"
      ]
    },
    {
      "cell_type": "markdown",
      "metadata": {
        "colab_type": "text",
        "id": "pkh3KeTk7K8G"
      },
      "source": [
        "A seleção das variáveis é uma etapa muito importante, deve ser selecionada aquelas variáveis mais relevantes. Para isso você deve fazer análise de correlações, o feature selection e aplicar um algoritmo de Machine Learning para buscar as variáveis mais relevantes. Como o nosso dataset é um conjunto de dados pequeno e que não possui valores nulos nas variáveis, iremos utilizar todas as variáveis do dataset como dados de entrada, exceto a variavável resultado que será a nossa saída esperada."
      ]
    },
    {
      "cell_type": "markdown",
      "metadata": {
        "colab_type": "text",
        "id": "F99z66QG7hky"
      },
      "source": [
        "Vamos agora selecionar as **variáveis que serão os nossos dados de entrada (Atributos)**:"
      ]
    },
    {
      "cell_type": "code",
      "metadata": {
        "colab_type": "code",
        "id": "L1KWKmz4774H",
        "colab": {}
      },
      "source": [
        "# Seleção de variáveis preditoras (Feature Selection)\n",
        "atributos = ['Gravidez', 'Glicose', 'Pressão_Sanguinea', 'Espessura_da_pele', 'Insulina', 'IMC', 'Função_pedigree_dos_diabeticos', 'Idade']\n"
      ],
      "execution_count": 0,
      "outputs": []
    },
    {
      "cell_type": "markdown",
      "metadata": {
        "colab_type": "text",
        "id": "Wh50-rF48DyG"
      },
      "source": [
        "Agora iremos selecionar a **variável Target, aquilo que queremos prever**:"
      ]
    },
    {
      "cell_type": "code",
      "metadata": {
        "colab_type": "code",
        "id": "n2S9VHHv8TWk",
        "colab": {}
      },
      "source": [
        "# Variável a ser prevista\n",
        "atrib_prev = ['Resultado']"
      ],
      "execution_count": 0,
      "outputs": []
    },
    {
      "cell_type": "markdown",
      "metadata": {
        "id": "erh-CUyi8m_p",
        "colab_type": "text"
      },
      "source": [
        "**Transformando dados de entrada em X e dados de saída em Y**"
      ]
    },
    {
      "cell_type": "markdown",
      "metadata": {
        "colab_type": "text",
        "id": "WJOC5Pjp8fCt"
      },
      "source": [
        "Vamos agora transformar os nossos dados de entrada em **X** e os dados de saída, o que queremos prever em **Y**. X é o nosso input e Y o nosso output, o que queremos que o algoritmo descubra é representado pela função **G = X -> Y**. "
      ]
    },
    {
      "cell_type": "code",
      "metadata": {
        "colab_type": "code",
        "id": "Z3Eavwyv81W4",
        "colab": {}
      },
      "source": [
        "# Criando objetos\n",
        "X = df[atributos].values\n",
        "Y = df[atrib_prev].values"
      ],
      "execution_count": 0,
      "outputs": []
    },
    {
      "cell_type": "code",
      "metadata": {
        "colab_type": "code",
        "outputId": "952c5bb1-eb8c-4cf7-f212-480446a25957",
        "id": "ioFLKB5X87Hf",
        "colab": {
          "base_uri": "https://localhost:8080/",
          "height": 136
        }
      },
      "source": [
        "X"
      ],
      "execution_count": 0,
      "outputs": [
        {
          "output_type": "execute_result",
          "data": {
            "text/plain": [
              "array([[  6.   , 148.   ,  72.   , ...,  33.6  ,   0.627,  50.   ],\n",
              "       [  1.   ,  85.   ,  66.   , ...,  26.6  ,   0.351,  31.   ],\n",
              "       [  8.   , 183.   ,  64.   , ...,  23.3  ,   0.672,  32.   ],\n",
              "       ...,\n",
              "       [  5.   , 121.   ,  72.   , ...,  26.2  ,   0.245,  30.   ],\n",
              "       [  1.   , 126.   ,  60.   , ...,  30.1  ,   0.349,  47.   ],\n",
              "       [  1.   ,  93.   ,  70.   , ...,  30.4  ,   0.315,  23.   ]])"
            ]
          },
          "metadata": {
            "tags": []
          },
          "execution_count": 171
        }
      ]
    },
    {
      "cell_type": "code",
      "metadata": {
        "colab_type": "code",
        "outputId": "f3ffd3c9-fbc9-45be-9346-704a9b1ebf17",
        "id": "yDBDEcY58-7F",
        "colab": {
          "base_uri": "https://localhost:8080/",
          "height": 1000
        }
      },
      "source": [
        "Y"
      ],
      "execution_count": 0,
      "outputs": [
        {
          "output_type": "execute_result",
          "data": {
            "text/plain": [
              "array([[1],\n",
              "       [0],\n",
              "       [1],\n",
              "       [0],\n",
              "       [1],\n",
              "       [0],\n",
              "       [1],\n",
              "       [0],\n",
              "       [1],\n",
              "       [1],\n",
              "       [0],\n",
              "       [1],\n",
              "       [0],\n",
              "       [1],\n",
              "       [1],\n",
              "       [1],\n",
              "       [1],\n",
              "       [1],\n",
              "       [0],\n",
              "       [1],\n",
              "       [0],\n",
              "       [0],\n",
              "       [1],\n",
              "       [1],\n",
              "       [1],\n",
              "       [1],\n",
              "       [1],\n",
              "       [0],\n",
              "       [0],\n",
              "       [0],\n",
              "       [0],\n",
              "       [1],\n",
              "       [0],\n",
              "       [0],\n",
              "       [0],\n",
              "       [0],\n",
              "       [0],\n",
              "       [1],\n",
              "       [1],\n",
              "       [1],\n",
              "       [0],\n",
              "       [0],\n",
              "       [0],\n",
              "       [1],\n",
              "       [0],\n",
              "       [1],\n",
              "       [0],\n",
              "       [0],\n",
              "       [1],\n",
              "       [0],\n",
              "       [0],\n",
              "       [0],\n",
              "       [0],\n",
              "       [1],\n",
              "       [0],\n",
              "       [0],\n",
              "       [1],\n",
              "       [0],\n",
              "       [0],\n",
              "       [0],\n",
              "       [0],\n",
              "       [1],\n",
              "       [0],\n",
              "       [0],\n",
              "       [1],\n",
              "       [0],\n",
              "       [1],\n",
              "       [0],\n",
              "       [0],\n",
              "       [0],\n",
              "       [1],\n",
              "       [0],\n",
              "       [1],\n",
              "       [0],\n",
              "       [0],\n",
              "       [0],\n",
              "       [0],\n",
              "       [0],\n",
              "       [1],\n",
              "       [0],\n",
              "       [0],\n",
              "       [0],\n",
              "       [0],\n",
              "       [0],\n",
              "       [1],\n",
              "       [0],\n",
              "       [0],\n",
              "       [0],\n",
              "       [1],\n",
              "       [0],\n",
              "       [0],\n",
              "       [0],\n",
              "       [0],\n",
              "       [1],\n",
              "       [0],\n",
              "       [0],\n",
              "       [0],\n",
              "       [0],\n",
              "       [0],\n",
              "       [1],\n",
              "       [1],\n",
              "       [0],\n",
              "       [0],\n",
              "       [0],\n",
              "       [0],\n",
              "       [0],\n",
              "       [0],\n",
              "       [0],\n",
              "       [0],\n",
              "       [1],\n",
              "       [1],\n",
              "       [1],\n",
              "       [0],\n",
              "       [0],\n",
              "       [1],\n",
              "       [1],\n",
              "       [1],\n",
              "       [0],\n",
              "       [0],\n",
              "       [0],\n",
              "       [1],\n",
              "       [0],\n",
              "       [0],\n",
              "       [0],\n",
              "       [1],\n",
              "       [1],\n",
              "       [0],\n",
              "       [0],\n",
              "       [1],\n",
              "       [1],\n",
              "       [1],\n",
              "       [1],\n",
              "       [1],\n",
              "       [0],\n",
              "       [0],\n",
              "       [0],\n",
              "       [0],\n",
              "       [0],\n",
              "       [0],\n",
              "       [0],\n",
              "       [0],\n",
              "       [0],\n",
              "       [0],\n",
              "       [1],\n",
              "       [0],\n",
              "       [0],\n",
              "       [0],\n",
              "       [0],\n",
              "       [0],\n",
              "       [0],\n",
              "       [0],\n",
              "       [0],\n",
              "       [1],\n",
              "       [0],\n",
              "       [1],\n",
              "       [1],\n",
              "       [0],\n",
              "       [0],\n",
              "       [0],\n",
              "       [1],\n",
              "       [0],\n",
              "       [0],\n",
              "       [0],\n",
              "       [0],\n",
              "       [1],\n",
              "       [1],\n",
              "       [0],\n",
              "       [0],\n",
              "       [0],\n",
              "       [0],\n",
              "       [1],\n",
              "       [1],\n",
              "       [0],\n",
              "       [0],\n",
              "       [0],\n",
              "       [1],\n",
              "       [0],\n",
              "       [1],\n",
              "       [0],\n",
              "       [1],\n",
              "       [0],\n",
              "       [0],\n",
              "       [0],\n",
              "       [0],\n",
              "       [0],\n",
              "       [1],\n",
              "       [1],\n",
              "       [1],\n",
              "       [1],\n",
              "       [1],\n",
              "       [0],\n",
              "       [0],\n",
              "       [1],\n",
              "       [1],\n",
              "       [0],\n",
              "       [1],\n",
              "       [0],\n",
              "       [1],\n",
              "       [1],\n",
              "       [1],\n",
              "       [0],\n",
              "       [0],\n",
              "       [0],\n",
              "       [0],\n",
              "       [0],\n",
              "       [0],\n",
              "       [1],\n",
              "       [1],\n",
              "       [0],\n",
              "       [1],\n",
              "       [0],\n",
              "       [0],\n",
              "       [0],\n",
              "       [1],\n",
              "       [1],\n",
              "       [1],\n",
              "       [1],\n",
              "       [0],\n",
              "       [1],\n",
              "       [1],\n",
              "       [1],\n",
              "       [1],\n",
              "       [0],\n",
              "       [0],\n",
              "       [0],\n",
              "       [0],\n",
              "       [0],\n",
              "       [1],\n",
              "       [0],\n",
              "       [0],\n",
              "       [1],\n",
              "       [1],\n",
              "       [0],\n",
              "       [0],\n",
              "       [0],\n",
              "       [1],\n",
              "       [1],\n",
              "       [1],\n",
              "       [1],\n",
              "       [0],\n",
              "       [0],\n",
              "       [0],\n",
              "       [1],\n",
              "       [1],\n",
              "       [0],\n",
              "       [1],\n",
              "       [0],\n",
              "       [0],\n",
              "       [0],\n",
              "       [0],\n",
              "       [0],\n",
              "       [0],\n",
              "       [0],\n",
              "       [0],\n",
              "       [1],\n",
              "       [1],\n",
              "       [0],\n",
              "       [0],\n",
              "       [0],\n",
              "       [1],\n",
              "       [0],\n",
              "       [1],\n",
              "       [0],\n",
              "       [0],\n",
              "       [1],\n",
              "       [0],\n",
              "       [1],\n",
              "       [0],\n",
              "       [0],\n",
              "       [1],\n",
              "       [1],\n",
              "       [0],\n",
              "       [0],\n",
              "       [0],\n",
              "       [0],\n",
              "       [0],\n",
              "       [1],\n",
              "       [0],\n",
              "       [0],\n",
              "       [0],\n",
              "       [1],\n",
              "       [0],\n",
              "       [0],\n",
              "       [1],\n",
              "       [1],\n",
              "       [0],\n",
              "       [0],\n",
              "       [1],\n",
              "       [0],\n",
              "       [0],\n",
              "       [0],\n",
              "       [1],\n",
              "       [1],\n",
              "       [1],\n",
              "       [0],\n",
              "       [0],\n",
              "       [1],\n",
              "       [0],\n",
              "       [1],\n",
              "       [0],\n",
              "       [1],\n",
              "       [1],\n",
              "       [0],\n",
              "       [1],\n",
              "       [0],\n",
              "       [0],\n",
              "       [1],\n",
              "       [0],\n",
              "       [1],\n",
              "       [1],\n",
              "       [0],\n",
              "       [0],\n",
              "       [1],\n",
              "       [0],\n",
              "       [1],\n",
              "       [0],\n",
              "       [0],\n",
              "       [1],\n",
              "       [0],\n",
              "       [1],\n",
              "       [0],\n",
              "       [1],\n",
              "       [1],\n",
              "       [1],\n",
              "       [0],\n",
              "       [0],\n",
              "       [1],\n",
              "       [0],\n",
              "       [1],\n",
              "       [0],\n",
              "       [0],\n",
              "       [0],\n",
              "       [1],\n",
              "       [0],\n",
              "       [0],\n",
              "       [0],\n",
              "       [0],\n",
              "       [1],\n",
              "       [1],\n",
              "       [1],\n",
              "       [0],\n",
              "       [0],\n",
              "       [0],\n",
              "       [0],\n",
              "       [0],\n",
              "       [0],\n",
              "       [0],\n",
              "       [0],\n",
              "       [0],\n",
              "       [1],\n",
              "       [0],\n",
              "       [0],\n",
              "       [0],\n",
              "       [0],\n",
              "       [0],\n",
              "       [1],\n",
              "       [1],\n",
              "       [1],\n",
              "       [0],\n",
              "       [1],\n",
              "       [1],\n",
              "       [0],\n",
              "       [0],\n",
              "       [1],\n",
              "       [0],\n",
              "       [0],\n",
              "       [1],\n",
              "       [0],\n",
              "       [0],\n",
              "       [1],\n",
              "       [1],\n",
              "       [0],\n",
              "       [0],\n",
              "       [0],\n",
              "       [0],\n",
              "       [1],\n",
              "       [0],\n",
              "       [0],\n",
              "       [1],\n",
              "       [0],\n",
              "       [0],\n",
              "       [0],\n",
              "       [0],\n",
              "       [0],\n",
              "       [0],\n",
              "       [0],\n",
              "       [1],\n",
              "       [1],\n",
              "       [1],\n",
              "       [0],\n",
              "       [0],\n",
              "       [1],\n",
              "       [0],\n",
              "       [0],\n",
              "       [1],\n",
              "       [0],\n",
              "       [0],\n",
              "       [1],\n",
              "       [0],\n",
              "       [1],\n",
              "       [1],\n",
              "       [0],\n",
              "       [1],\n",
              "       [0],\n",
              "       [1],\n",
              "       [0],\n",
              "       [1],\n",
              "       [0],\n",
              "       [1],\n",
              "       [1],\n",
              "       [0],\n",
              "       [0],\n",
              "       [0],\n",
              "       [0],\n",
              "       [1],\n",
              "       [1],\n",
              "       [0],\n",
              "       [1],\n",
              "       [0],\n",
              "       [1],\n",
              "       [0],\n",
              "       [0],\n",
              "       [0],\n",
              "       [0],\n",
              "       [1],\n",
              "       [1],\n",
              "       [0],\n",
              "       [1],\n",
              "       [0],\n",
              "       [1],\n",
              "       [0],\n",
              "       [0],\n",
              "       [0],\n",
              "       [0],\n",
              "       [0],\n",
              "       [1],\n",
              "       [0],\n",
              "       [0],\n",
              "       [0],\n",
              "       [0],\n",
              "       [1],\n",
              "       [0],\n",
              "       [0],\n",
              "       [1],\n",
              "       [1],\n",
              "       [1],\n",
              "       [0],\n",
              "       [0],\n",
              "       [1],\n",
              "       [0],\n",
              "       [0],\n",
              "       [1],\n",
              "       [0],\n",
              "       [0],\n",
              "       [0],\n",
              "       [1],\n",
              "       [0],\n",
              "       [0],\n",
              "       [1],\n",
              "       [0],\n",
              "       [0],\n",
              "       [0],\n",
              "       [0],\n",
              "       [0],\n",
              "       [0],\n",
              "       [0],\n",
              "       [0],\n",
              "       [0],\n",
              "       [1],\n",
              "       [0],\n",
              "       [0],\n",
              "       [0],\n",
              "       [0],\n",
              "       [0],\n",
              "       [0],\n",
              "       [0],\n",
              "       [1],\n",
              "       [0],\n",
              "       [0],\n",
              "       [0],\n",
              "       [1],\n",
              "       [0],\n",
              "       [0],\n",
              "       [0],\n",
              "       [1],\n",
              "       [1],\n",
              "       [0],\n",
              "       [0],\n",
              "       [0],\n",
              "       [0],\n",
              "       [0],\n",
              "       [0],\n",
              "       [0],\n",
              "       [1],\n",
              "       [0],\n",
              "       [0],\n",
              "       [0],\n",
              "       [0],\n",
              "       [1],\n",
              "       [0],\n",
              "       [0],\n",
              "       [0],\n",
              "       [1],\n",
              "       [0],\n",
              "       [0],\n",
              "       [0],\n",
              "       [1],\n",
              "       [0],\n",
              "       [0],\n",
              "       [0],\n",
              "       [1],\n",
              "       [0],\n",
              "       [0],\n",
              "       [0],\n",
              "       [0],\n",
              "       [1],\n",
              "       [1],\n",
              "       [0],\n",
              "       [0],\n",
              "       [0],\n",
              "       [0],\n",
              "       [0],\n",
              "       [0],\n",
              "       [1],\n",
              "       [0],\n",
              "       [0],\n",
              "       [0],\n",
              "       [0],\n",
              "       [0],\n",
              "       [0],\n",
              "       [0],\n",
              "       [0],\n",
              "       [0],\n",
              "       [0],\n",
              "       [0],\n",
              "       [1],\n",
              "       [0],\n",
              "       [0],\n",
              "       [0],\n",
              "       [1],\n",
              "       [1],\n",
              "       [1],\n",
              "       [1],\n",
              "       [0],\n",
              "       [0],\n",
              "       [1],\n",
              "       [1],\n",
              "       [0],\n",
              "       [0],\n",
              "       [0],\n",
              "       [0],\n",
              "       [0],\n",
              "       [0],\n",
              "       [0],\n",
              "       [0],\n",
              "       [0],\n",
              "       [0],\n",
              "       [0],\n",
              "       [0],\n",
              "       [0],\n",
              "       [1],\n",
              "       [1],\n",
              "       [0],\n",
              "       [0],\n",
              "       [0],\n",
              "       [0],\n",
              "       [0],\n",
              "       [0],\n",
              "       [0],\n",
              "       [1],\n",
              "       [0],\n",
              "       [0],\n",
              "       [0],\n",
              "       [0],\n",
              "       [0],\n",
              "       [0],\n",
              "       [0],\n",
              "       [1],\n",
              "       [0],\n",
              "       [1],\n",
              "       [1],\n",
              "       [0],\n",
              "       [0],\n",
              "       [0],\n",
              "       [1],\n",
              "       [0],\n",
              "       [1],\n",
              "       [0],\n",
              "       [1],\n",
              "       [0],\n",
              "       [1],\n",
              "       [0],\n",
              "       [1],\n",
              "       [0],\n",
              "       [0],\n",
              "       [1],\n",
              "       [0],\n",
              "       [0],\n",
              "       [1],\n",
              "       [0],\n",
              "       [0],\n",
              "       [0],\n",
              "       [0],\n",
              "       [1],\n",
              "       [1],\n",
              "       [0],\n",
              "       [1],\n",
              "       [0],\n",
              "       [0],\n",
              "       [0],\n",
              "       [0],\n",
              "       [1],\n",
              "       [1],\n",
              "       [0],\n",
              "       [1],\n",
              "       [0],\n",
              "       [0],\n",
              "       [0],\n",
              "       [1],\n",
              "       [1],\n",
              "       [0],\n",
              "       [0],\n",
              "       [0],\n",
              "       [0],\n",
              "       [0],\n",
              "       [0],\n",
              "       [0],\n",
              "       [0],\n",
              "       [0],\n",
              "       [0],\n",
              "       [1],\n",
              "       [0],\n",
              "       [0],\n",
              "       [0],\n",
              "       [0],\n",
              "       [1],\n",
              "       [0],\n",
              "       [0],\n",
              "       [1],\n",
              "       [0],\n",
              "       [0],\n",
              "       [0],\n",
              "       [1],\n",
              "       [0],\n",
              "       [0],\n",
              "       [0],\n",
              "       [1],\n",
              "       [1],\n",
              "       [1],\n",
              "       [0],\n",
              "       [0],\n",
              "       [0],\n",
              "       [0],\n",
              "       [0],\n",
              "       [0],\n",
              "       [1],\n",
              "       [0],\n",
              "       [0],\n",
              "       [0],\n",
              "       [1],\n",
              "       [0],\n",
              "       [1],\n",
              "       [1],\n",
              "       [1],\n",
              "       [1],\n",
              "       [0],\n",
              "       [1],\n",
              "       [1],\n",
              "       [0],\n",
              "       [0],\n",
              "       [0],\n",
              "       [0],\n",
              "       [0],\n",
              "       [0],\n",
              "       [0],\n",
              "       [1],\n",
              "       [1],\n",
              "       [0],\n",
              "       [1],\n",
              "       [0],\n",
              "       [0],\n",
              "       [1],\n",
              "       [0],\n",
              "       [1],\n",
              "       [0],\n",
              "       [0],\n",
              "       [0],\n",
              "       [0],\n",
              "       [0],\n",
              "       [1],\n",
              "       [0],\n",
              "       [1],\n",
              "       [0],\n",
              "       [1],\n",
              "       [0],\n",
              "       [1],\n",
              "       [1],\n",
              "       [0],\n",
              "       [0],\n",
              "       [0],\n",
              "       [0],\n",
              "       [1],\n",
              "       [1],\n",
              "       [0],\n",
              "       [0],\n",
              "       [0],\n",
              "       [1],\n",
              "       [0],\n",
              "       [1],\n",
              "       [1],\n",
              "       [0],\n",
              "       [0],\n",
              "       [1],\n",
              "       [0],\n",
              "       [0],\n",
              "       [1],\n",
              "       [1],\n",
              "       [0],\n",
              "       [0],\n",
              "       [1],\n",
              "       [0],\n",
              "       [0],\n",
              "       [1],\n",
              "       [0],\n",
              "       [0],\n",
              "       [0],\n",
              "       [0],\n",
              "       [0],\n",
              "       [0],\n",
              "       [0],\n",
              "       [1],\n",
              "       [1],\n",
              "       [1],\n",
              "       [0],\n",
              "       [0],\n",
              "       [0],\n",
              "       [0],\n",
              "       [0],\n",
              "       [0],\n",
              "       [1],\n",
              "       [1],\n",
              "       [0],\n",
              "       [0],\n",
              "       [1],\n",
              "       [0],\n",
              "       [0],\n",
              "       [1],\n",
              "       [0],\n",
              "       [1],\n",
              "       [1],\n",
              "       [1],\n",
              "       [0],\n",
              "       [0],\n",
              "       [1],\n",
              "       [1],\n",
              "       [1],\n",
              "       [0],\n",
              "       [1],\n",
              "       [0],\n",
              "       [1],\n",
              "       [0],\n",
              "       [1],\n",
              "       [0],\n",
              "       [0],\n",
              "       [0],\n",
              "       [0],\n",
              "       [1],\n",
              "       [0]])"
            ]
          },
          "metadata": {
            "tags": []
          },
          "execution_count": 172
        }
      ]
    },
    {
      "cell_type": "markdown",
      "metadata": {
        "id": "cN9zvZRG9GgZ",
        "colab_type": "text"
      },
      "source": [
        "Agora que já definirmos nossos dados de entrada e saída, vamos continuar a preparação dos dados."
      ]
    },
    {
      "cell_type": "markdown",
      "metadata": {
        "id": "nZf3QHSuEG0E",
        "colab_type": "text"
      },
      "source": [
        "Vamos agora transformar as linhas da coluna **Resultado** que possui True ou False em 1 se for True e em 0 se for False. Assim, os dados de saída e a previsão esperada irá informar 1 para as pessoas que tem diabete e 0 para as que não tem diabete. "
      ]
    },
    {
      "cell_type": "code",
      "metadata": {
        "id": "Jm4Glv3W7fg6",
        "colab_type": "code",
        "colab": {}
      },
      "source": [
        "# Definindo as classes\n",
        "diabetes_map = {True : 1, False : 0}"
      ],
      "execution_count": 0,
      "outputs": []
    },
    {
      "cell_type": "code",
      "metadata": {
        "id": "6gd4uxTe9hlC",
        "colab_type": "code",
        "colab": {}
      },
      "source": [
        "# Aplicando o mapeamento ao dataset com a função map\n",
        "df['Resultado'] = df['Resultado'].map(diabetes_map)"
      ],
      "execution_count": 0,
      "outputs": []
    },
    {
      "cell_type": "markdown",
      "metadata": {
        "id": "G_sTBLOqqcMd",
        "colab_type": "text"
      },
      "source": [
        "Antes de dividirmos o nosso dataset em dados de treino e teste, vamos verificar como os dados do nosso conjunto estão distribuídos, quantas pessoas tem diabete e quantas não tem em nosso dataset."
      ]
    },
    {
      "cell_type": "code",
      "metadata": {
        "id": "SnN96SRPqtlF",
        "colab_type": "code",
        "outputId": "68379bb6-8174-4117-e686-b9dae12ad14a",
        "colab": {
          "base_uri": "https://localhost:8080/",
          "height": 51
        }
      },
      "source": [
        "#Verificando a distribuição dos dados\n",
        "num_true = len(df.query('Resultado == True'))\n",
        "num_false = len(df.query('Resultado == False'))\n",
        "\n",
        "print(f\"Número de Casos Verdadeiros: {num_true} ({num_true / (num_true + num_false) * 100: .2f}%)\")\n",
        "print(f\"Número de Falsos: {num_false} ({num_false / (num_false + num_true) * 100: .2f}%)\")"
      ],
      "execution_count": 0,
      "outputs": [
        {
          "output_type": "stream",
          "text": [
            "Número de Casos Verdadeiros: 268 ( 34.90%)\n",
            "Número de Falsos: 500 ( 65.10%)\n"
          ],
          "name": "stdout"
        }
      ]
    },
    {
      "cell_type": "code",
      "metadata": {
        "id": "7SflMN5RPf5W",
        "colab_type": "code",
        "outputId": "0316e8ed-4e01-4b31-94c9-717c2ed69ed5",
        "colab": {
          "base_uri": "https://localhost:8080/",
          "height": 369
        }
      },
      "source": [
        "data = df.Resultado.value_counts().to_dict()\n",
        "\n",
        "# plotar gráfico de waffle\n",
        "fig = plt.figure(\n",
        "                FigureClass=Waffle,\n",
        "                rows=5,\n",
        "                columns=10,\n",
        "                colors=(\"#983D3D\", \"#000000\"),\n",
        "                values=data,\n",
        "                title={\n",
        "                'label': 'Ocorrências de Diabetes  ',\n",
        "                'loc': 'left',\n",
        "                'fontdict': {\n",
        "                'fontsize': 20\n",
        "                }},\n",
        "                icons='heartbeat',\n",
        "                font_size=50,\n",
        "                legend={\n",
        "                'loc': 'lower left',\n",
        "                'bbox_to_anchor': (-0.04, -0.2),\n",
        "                'ncol': len(data),\n",
        "                'framealpha': 0,\n",
        "                'fontsize': 15\n",
        "                },\n",
        "                labels=['Pessoas sem diabete (65,10%)','Pessoas com diabete (34,90%)'],\n",
        "                icon_legend=True, \n",
        "                figsize=(10, 5)\n",
        ")\n",
        "plt.tight_layout()\n",
        "plt.show()"
      ],
      "execution_count": 0,
      "outputs": [
        {
          "output_type": "display_data",
          "data": {
            "image/png": "[encoded data removed]",
            "text/plain": [
              "<Waffle size 720x360 with 1 Axes>"
            ]
          },
          "metadata": {
            "tags": [],
            "needs_background": "light"
          }
        }
      ]
    },
    {
      "cell_type": "markdown",
      "metadata": {
        "id": "vnki3oVjIyCT",
        "colab_type": "text"
      },
      "source": [
        "Podemos perceber que em nosso conjunto de dados existe uma quantidade maior de pessoas que não tem a diabete do que pessoas que tem a diabete. O ideal seria o nosso dataset ser mais balanceado, possuir um equilíbrio entre os registros da coluna **Resultado**. Como possuímos 768 registros no campo **Resultado**, o ideal seria obter 384 casos verdadeiros (pessoas com diabete) e 384 para falsos (pessoas sem diabete). "
      ]
    },
    {
      "cell_type": "markdown",
      "metadata": {
        "id": "kjQX_FqtJz6n",
        "colab_type": "text"
      },
      "source": [
        "# **Divisão dos dados em Treino e Teste**"
      ]
    },
    {
      "cell_type": "markdown",
      "metadata": {
        "id": "QBYMZFAYM3Pu",
        "colab_type": "text"
      },
      "source": [
        "O que iremos fazer agora é uma divisão do nosso conjunto de dados, após os dados terem sido preparados. Parte desses dados irão para o dataset de treino e a outra parte para o dataset de teste. Normalmente se utiliza a divisão 70% para treino e 30% para teste. \n",
        "\n",
        "O dataset de treino será utilizado para treinar o nosso modelo e algoritmo.\n",
        "O dataset de teste será utilizado para avaliar o modelo e fazer as previsões."
      ]
    },
    {
      "cell_type": "markdown",
      "metadata": {
        "id": "kSvCONuvPdvt",
        "colab_type": "text"
      },
      "source": [
        "Existem diversas formas de fazer uma divisão do dataset em treino e teste.\n",
        "A divisão que iremos fazer será utilizando a biblioteca **sklearn** com a função **train_test_split** do pacote **model_selection**.\n",
        "\n"
      ]
    },
    {
      "cell_type": "code",
      "metadata": {
        "id": "fY6hOGCQNBKW",
        "colab_type": "code",
        "colab": {}
      },
      "source": [
        "from sklearn.model_selection import train_test_split"
      ],
      "execution_count": 0,
      "outputs": []
    },
    {
      "cell_type": "markdown",
      "metadata": {
        "id": "RKyQ6RODQ2vx",
        "colab_type": "text"
      },
      "source": [
        "Agora iremos definir um objeto que será o critério para fazer a divisão do nosso conjunto de dados."
      ]
    },
    {
      "cell_type": "code",
      "metadata": {
        "id": "zEe2vxPfRCyu",
        "colab_type": "code",
        "colab": {}
      },
      "source": [
        "# Definindo a taxa de split\n",
        "split_test_size = 0.30"
      ],
      "execution_count": 0,
      "outputs": []
    },
    {
      "cell_type": "markdown",
      "metadata": {
        "id": "QOzsuT8hRgWt",
        "colab_type": "text"
      },
      "source": [
        "Vamos chamar agora a função **train_test_split**, passando os valores de X, Y e dizendo qual será o tamanho do conjunto de teste, neste caso, 0.30 (30%), automaticamente, 70% será para o conjunto de treino.\n",
        "\n",
        "A função também irá retornar quatro valores, sendo eles para **X_treino, X_teste, Y_treino e Y_teste**."
      ]
    },
    {
      "cell_type": "code",
      "metadata": {
        "id": "zuA0IpsfRH-a",
        "colab_type": "code",
        "colab": {}
      },
      "source": [
        "# Criando dados de treino e de teste\n",
        "X_treino, X_teste, Y_treino, Y_teste = train_test_split(X, Y, test_size = split_test_size, random_state = 42)"
      ],
      "execution_count": 0,
      "outputs": []
    },
    {
      "cell_type": "code",
      "metadata": {
        "id": "SrQRuuY4JiA2",
        "colab_type": "code",
        "outputId": "35970496-cc48-42eb-c5b6-b678becfd45c",
        "colab": {
          "base_uri": "https://localhost:8080/",
          "height": 51
        }
      },
      "source": [
        "# Imprimindo os resultados\n",
        "print(f\" {(len(X_treino)/len(df.index) * 100):.2f}% nos dados de treino\")\n",
        "print(f\"{(len(X_teste)/len(df.index) * 100): .2f}% nos dados de teste\")"
      ],
      "execution_count": 0,
      "outputs": [
        {
          "output_type": "stream",
          "text": [
            " 69.92% nos dados de treino\n",
            " 30.08% nos dados de teste\n"
          ],
          "name": "stdout"
        }
      ]
    },
    {
      "cell_type": "code",
      "metadata": {
        "id": "PbXMAV-RSYJU",
        "colab_type": "code",
        "outputId": "f76e8fe7-4a10-4e07-c327-0349117e313a",
        "colab": {
          "base_uri": "https://localhost:8080/",
          "height": 136
        }
      },
      "source": [
        "X_treino"
      ],
      "execution_count": 0,
      "outputs": [
        {
          "output_type": "execute_result",
          "data": {
            "text/plain": [
              "array([[  1.   ,  95.   ,  60.   , ...,  23.9  ,   0.26 ,  22.   ],\n",
              "       [  5.   , 105.   ,  72.   , ...,  36.9  ,   0.159,  28.   ],\n",
              "       [  0.   , 135.   ,  68.   , ...,  42.3  ,   0.365,  24.   ],\n",
              "       ...,\n",
              "       [ 10.   , 101.   ,  86.   , ...,  45.6  ,   1.136,  38.   ],\n",
              "       [  0.   , 141.   ,   0.   , ...,  42.4  ,   0.205,  29.   ],\n",
              "       [  0.   , 125.   ,  96.   , ...,  22.5  ,   0.262,  21.   ]])"
            ]
          },
          "metadata": {
            "tags": []
          },
          "execution_count": 181
        }
      ]
    },
    {
      "cell_type": "markdown",
      "metadata": {
        "id": "OLdXv1rbTOPI",
        "colab_type": "text"
      },
      "source": [
        "\n",
        "# **Verificando a divisão**"
      ]
    },
    {
      "cell_type": "markdown",
      "metadata": {
        "id": "OEOzatdRKlBO",
        "colab_type": "text"
      },
      "source": [
        "Vamos fazer uma verificação rápida para saber se existe um equilíbrio entre os valores verdadeiros e falsos de diabetes em nosso conjunto de dados principal, nosso conjunto de dados de treino e em nosso conjunto de dados de teste. "
      ]
    },
    {
      "cell_type": "code",
      "metadata": {
        "id": "uJONUWBXTQ6A",
        "colab_type": "code",
        "outputId": "18dd3569-1d05-49ef-db3e-d97b2530b6c9",
        "colab": {
          "base_uri": "https://localhost:8080/",
          "height": 153
        }
      },
      "source": [
        "print(\"Original True : {0} ({1:0.2f}%)\".format(len(df.loc[df['Resultado'] == 1]), \n",
        "                                               (len(df.loc[df['Resultado'] ==1])/len(df.index) * 100)))\n",
        "\n",
        "print(\"Original False : {0} ({1:0.2f}%)\".format(len(df.loc[df['Resultado'] == 0]), \n",
        "                                               (len(df.loc[df['Resultado'] == 0])/len(df.index) * 100)))\n",
        "print(\"\")\n",
        "print(\"Training True : {0} ({1:0.2f}%)\".format(len(Y_treino[Y_treino[:] == 1]), \n",
        "                                               (len(Y_treino[Y_treino[:] == 1])/len(Y_treino) * 100)))\n",
        "\n",
        "print(\"Training False : {0} ({1:0.2f}%)\".format(len(Y_treino[Y_treino[:] == 0]), \n",
        "                                               (len(Y_treino[Y_treino[:] == 0])/len(Y_treino) * 100)))\n",
        "print(\"\")\n",
        "print(\"Test True : {0} ({1:0.2f}%)\".format(len(Y_teste[Y_teste[:] == 1]), \n",
        "                                               (len(Y_teste[Y_teste[:] == 1])/len(Y_teste) * 100)))\n",
        "\n",
        "print(\"Test False : {0} ({1:0.2f}%)\".format(len(Y_teste[Y_teste[:] == 0]), \n",
        "                                               (len(Y_teste[Y_teste[:] == 0])/len(Y_teste) * 100)))"
      ],
      "execution_count": 0,
      "outputs": [
        {
          "output_type": "stream",
          "text": [
            "Original True : 268 (34.90%)\n",
            "Original False : 500 (65.10%)\n",
            "\n",
            "Training True : 188 (35.01%)\n",
            "Training False : 349 (64.99%)\n",
            "\n",
            "Test True : 80 (34.63%)\n",
            "Test False : 151 (65.37%)\n"
          ],
          "name": "stdout"
        }
      ]
    },
    {
      "cell_type": "markdown",
      "metadata": {
        "id": "2QizBsZiXKd3",
        "colab_type": "text"
      },
      "source": [
        "# **Valores Missing (Ausentes) Ocultos**"
      ]
    },
    {
      "cell_type": "code",
      "metadata": {
        "id": "7aGARqycXMjw",
        "colab_type": "code",
        "outputId": "190a2312-8630-417c-d5a4-01f0cbe8cdc2",
        "colab": {
          "base_uri": "https://localhost:8080/",
          "height": 34
        }
      },
      "source": [
        "# Verificando se existem valores nulos\n",
        "df.isnull().values.any()"
      ],
      "execution_count": 0,
      "outputs": [
        {
          "output_type": "execute_result",
          "data": {
            "text/plain": [
              "False"
            ]
          },
          "metadata": {
            "tags": []
          },
          "execution_count": 183
        }
      ]
    },
    {
      "cell_type": "markdown",
      "metadata": {
        "id": "a68nCMX7XM_y",
        "colab_type": "text"
      },
      "source": [
        "Como já visto na exploração e preparação dos dados, não temos valores ausentes em nosso dataset. Entretanto, existem aqueles valores ausentes que são ocultos, onde o cientista de dados precisa ter atenção ao seu conjunto de dados e problema que está buscando resolver para poder identificá-los.  \n",
        "\n",
        "Exemplo, quando um registro da coluna não acrescenta nenhuma informação, ou seja, não é considerado uma valor nulo, mas esse registro não tem valor significativo."
      ]
    },
    {
      "cell_type": "code",
      "metadata": {
        "id": "2-0hiYLXX_dr",
        "colab_type": "code",
        "outputId": "87f718cc-62f3-43a9-ae6f-8b1a2f762ff9",
        "colab": {
          "base_uri": "https://localhost:8080/",
          "height": 204
        }
      },
      "source": [
        "df.head(5)"
      ],
      "execution_count": 0,
      "outputs": [
        {
          "output_type": "execute_result",
          "data": {
            "text/html": [
              "<div>\n",
              "<style scoped>\n",
              "    .dataframe tbody tr th:only-of-type {\n",
              "        vertical-align: middle;\n",
              "    }\n",
              "\n",
              "    .dataframe tbody tr th {\n",
              "        vertical-align: top;\n",
              "    }\n",
              "\n",
              "    .dataframe thead th {\n",
              "        text-align: right;\n",
              "    }\n",
              "</style>\n",
              "<table border=\"1\" class=\"dataframe\">\n",
              "  <thead>\n",
              "    <tr style=\"text-align: right;\">\n",
              "      <th></th>\n",
              "      <th>Gravidez</th>\n",
              "      <th>Glicose</th>\n",
              "      <th>Pressão_Sanguinea</th>\n",
              "      <th>Espessura_da_pele</th>\n",
              "      <th>Insulina</th>\n",
              "      <th>IMC</th>\n",
              "      <th>Função_pedigree_dos_diabeticos</th>\n",
              "      <th>Idade</th>\n",
              "      <th>Resultado</th>\n",
              "    </tr>\n",
              "  </thead>\n",
              "  <tbody>\n",
              "    <tr>\n",
              "      <th>0</th>\n",
              "      <td>6</td>\n",
              "      <td>148</td>\n",
              "      <td>72</td>\n",
              "      <td>35</td>\n",
              "      <td>0</td>\n",
              "      <td>33.6</td>\n",
              "      <td>0.627</td>\n",
              "      <td>50</td>\n",
              "      <td>1</td>\n",
              "    </tr>\n",
              "    <tr>\n",
              "      <th>1</th>\n",
              "      <td>1</td>\n",
              "      <td>85</td>\n",
              "      <td>66</td>\n",
              "      <td>29</td>\n",
              "      <td>0</td>\n",
              "      <td>26.6</td>\n",
              "      <td>0.351</td>\n",
              "      <td>31</td>\n",
              "      <td>0</td>\n",
              "    </tr>\n",
              "    <tr>\n",
              "      <th>2</th>\n",
              "      <td>8</td>\n",
              "      <td>183</td>\n",
              "      <td>64</td>\n",
              "      <td>0</td>\n",
              "      <td>0</td>\n",
              "      <td>23.3</td>\n",
              "      <td>0.672</td>\n",
              "      <td>32</td>\n",
              "      <td>1</td>\n",
              "    </tr>\n",
              "    <tr>\n",
              "      <th>3</th>\n",
              "      <td>1</td>\n",
              "      <td>89</td>\n",
              "      <td>66</td>\n",
              "      <td>23</td>\n",
              "      <td>94</td>\n",
              "      <td>28.1</td>\n",
              "      <td>0.167</td>\n",
              "      <td>21</td>\n",
              "      <td>0</td>\n",
              "    </tr>\n",
              "    <tr>\n",
              "      <th>4</th>\n",
              "      <td>0</td>\n",
              "      <td>137</td>\n",
              "      <td>40</td>\n",
              "      <td>35</td>\n",
              "      <td>168</td>\n",
              "      <td>43.1</td>\n",
              "      <td>2.288</td>\n",
              "      <td>33</td>\n",
              "      <td>1</td>\n",
              "    </tr>\n",
              "  </tbody>\n",
              "</table>\n",
              "</div>"
            ],
            "text/plain": [
              "   Gravidez  Glicose  ...  Idade  Resultado\n",
              "0         6      148  ...     50          1\n",
              "1         1       85  ...     31          0\n",
              "2         8      183  ...     32          1\n",
              "3         1       89  ...     21          0\n",
              "4         0      137  ...     33          1\n",
              "\n",
              "[5 rows x 9 columns]"
            ]
          },
          "metadata": {
            "tags": []
          },
          "execution_count": 184
        }
      ]
    },
    {
      "cell_type": "markdown",
      "metadata": {
        "id": "5Urpn_1CYPT-",
        "colab_type": "text"
      },
      "source": [
        "Se analisarmos os três primeiros registros (linhas) da coluna **Insulina** podemos observar que consta com três valores 0, por mais que não sejam considerados valores nulos ou ausentes, esses valores não são significativos. \n",
        "\n",
        "Provavelmente, a pessoa que fez a coleta dos dados não tinha os valores iniciais dessa coluna insulina e preencheu com 0.\n",
        "\n",
        "Vamos agora identificar quantos valores 0 existem em cada coluna."
      ]
    },
    {
      "cell_type": "code",
      "metadata": {
        "id": "vo_jzxnqY_VQ",
        "colab_type": "code",
        "outputId": "9dd1e85c-a1f6-40fa-c283-97c901d51aab",
        "colab": {
          "base_uri": "https://localhost:8080/",
          "height": 136
        }
      },
      "source": [
        "print(f\"Linhas no dataframe {len(df)}\")\n",
        "print(f\"Linhas missing em Glicose: {len(df.query('Glicose == 0'))}\")\n",
        "print(f\"Linhas missing em Pressão_Sanguinea: {len(df.query('Pressão_Sanguinea == 0'))}\")\n",
        "print(f\"Linhas missing em Espessura_da_pele: {len(df.query('Espessura_da_pele == 0'))}\")\n",
        "print(f\"Linhas missing em Insulina: {len(df.query('Insulina == 0'))}\")\n",
        "print(f\"Linhas missing em IMC: {len(df.query('IMC == 0'))}\")\n",
        "print(f\"Linhas missing em Idade: {len(df.query('Idade == 0'))}\")"
      ],
      "execution_count": 0,
      "outputs": [
        {
          "output_type": "stream",
          "text": [
            "Linhas no dataframe 768\n",
            "Linhas missing em Glicose: 5\n",
            "Linhas missing em Pressão_Sanguinea: 35\n",
            "Linhas missing em Espessura_da_pele: 227\n",
            "Linhas missing em Insulina: 374\n",
            "Linhas missing em IMC: 11\n",
            "Linhas missing em Idade: 0\n"
          ],
          "name": "stdout"
        }
      ]
    },
    {
      "cell_type": "markdown",
      "metadata": {
        "id": "ekQ81ZJsZ16y",
        "colab_type": "text"
      },
      "source": [
        "Agora podemos identificar quantos registro de valores 0 temos em cada coluna"
      ]
    },
    {
      "cell_type": "markdown",
      "metadata": {
        "id": "hJqBVjwraKUn",
        "colab_type": "text"
      },
      "source": [
        "**Tratando Dados Missing - Impute**"
      ]
    },
    {
      "cell_type": "markdown",
      "metadata": {
        "id": "knABCyIVaL9d",
        "colab_type": "text"
      },
      "source": [
        "Existem diversas formas que podemos utilizar para tratar esses valores ausentes, uma delas é utilizando a função **SimpleImputer** do pacote **impute** da biblioteca sklearn"
      ]
    },
    {
      "cell_type": "markdown",
      "metadata": {
        "id": "bZHEO0njabyo",
        "colab_type": "text"
      },
      "source": [
        "Substituindo os valores iguais a zero pela média dos dados"
      ]
    },
    {
      "cell_type": "code",
      "metadata": {
        "id": "a1E9IaYHcrXe",
        "colab_type": "code",
        "colab": {}
      },
      "source": [
        "from sklearn.impute import SimpleImputer"
      ],
      "execution_count": 0,
      "outputs": []
    },
    {
      "cell_type": "markdown",
      "metadata": {
        "id": "dxmaxhS8dnlB",
        "colab_type": "text"
      },
      "source": [
        "Agora vamos informar que os **missing_values** são todos aqueles igual a 0 e a **estrategia** é substituir pela média"
      ]
    },
    {
      "cell_type": "code",
      "metadata": {
        "id": "pOucJzulb_QI",
        "colab_type": "code",
        "colab": {}
      },
      "source": [
        "# Criando objeto\n",
        "preenche_0 = SimpleImputer(missing_values = 0, strategy = \"mean\")\n",
        "\n",
        "# Substituindo os valores iguais a zero, pela média dos dados\n",
        "X_treino = preenche_0.fit_transform(X_treino)\n",
        "X_teste = preenche_0.fit_transform(X_teste)"
      ],
      "execution_count": 0,
      "outputs": []
    },
    {
      "cell_type": "markdown",
      "metadata": {
        "id": "4KoPoDkheiJV",
        "colab_type": "text"
      },
      "source": [
        "**Lembrese:** 50 a 80% do tempo de trabalho de um Cientista de Dados é usado na preparação dos dados e toda essa preparação vai resultar na precisão e qualidade do modelo de machine learning."
      ]
    },
    {
      "cell_type": "markdown",
      "metadata": {
        "id": "zDysCxiZiL9V",
        "colab_type": "text"
      },
      "source": [
        "# **Construindo um modelo com o algoritmo de classificação, GaussianNB**"
      ]
    },
    {
      "cell_type": "markdown",
      "metadata": {
        "id": "nBQVjtv1iWWT",
        "colab_type": "text"
      },
      "source": [
        "A primeira coisa que temos que fazer é selecionar o algoritmo que iremos utilizar. O algoritmo que vamos usar é o  algoritmo de classificação **GaussianNB**, um algoritmo e modelo de classificação totalmente baseado no teorema de bayes."
      ]
    },
    {
      "cell_type": "markdown",
      "metadata": {
        "id": "tDU9kexUiO3Z",
        "colab_type": "text"
      },
      "source": [
        "Devemos importar o algoritmo (função) **GaussianNB** do pacote  **naive_bayes** da biblioteca sklearn.\n",
        "\n"
      ]
    },
    {
      "cell_type": "code",
      "metadata": {
        "id": "pBbQW4a5ikE6",
        "colab_type": "code",
        "colab": {}
      },
      "source": [
        "# Utilizando um classificador Naive Bayes\n",
        "from sklearn.naive_bayes import GaussianNB"
      ],
      "execution_count": 0,
      "outputs": []
    },
    {
      "cell_type": "markdown",
      "metadata": {
        "id": "6eAvlHVKi__0",
        "colab_type": "text"
      },
      "source": [
        "Agora vamos criar uma estância, nosso **modelo** propriamente dito. "
      ]
    },
    {
      "cell_type": "code",
      "metadata": {
        "id": "MzstsMNFiOZs",
        "colab_type": "code",
        "colab": {}
      },
      "source": [
        "# Criando o modelo preditivo\n",
        "modelo_v1 = GaussianNB()"
      ],
      "execution_count": 0,
      "outputs": []
    },
    {
      "cell_type": "markdown",
      "metadata": {
        "id": "MqZCGQSRj33l",
        "colab_type": "text"
      },
      "source": [
        "Com o nosso modelo criado, vamos agora treinar o nosso modelo. Para isso, vamos utilizar o método **fit** e apresentar o meu conjunto de dados de treino, **X_treino e Y_treino** e o método **ravel**, para ajustar o shape do objeto e conseguir apresentar o algoritmo."
      ]
    },
    {
      "cell_type": "code",
      "metadata": {
        "id": "ztnHOFj3jv6K",
        "colab_type": "code",
        "outputId": "68e28e92-b64a-4487-b0f9-a104e0efc61d",
        "colab": {
          "base_uri": "https://localhost:8080/",
          "height": 34
        }
      },
      "source": [
        "# Treinando o modelo\n",
        "modelo_v1.fit(X_treino, Y_treino.ravel())"
      ],
      "execution_count": 0,
      "outputs": [
        {
          "output_type": "execute_result",
          "data": {
            "text/plain": [
              "GaussianNB(priors=None, var_smoothing=1e-09)"
            ]
          },
          "metadata": {
            "tags": []
          },
          "execution_count": 190
        }
      ]
    },
    {
      "cell_type": "markdown",
      "metadata": {
        "id": "SP2lqwGSmZWN",
        "colab_type": "text"
      },
      "source": [
        "**Testando a precisão do modelo**\n",
        "\n"
      ]
    },
    {
      "cell_type": "markdown",
      "metadata": {
        "id": "AuHiC_z4nAxN",
        "colab_type": "text"
      },
      "source": [
        "Primeiro vamos importar o pacote **metrics** da biblioteca sklearn"
      ]
    },
    {
      "cell_type": "code",
      "metadata": {
        "id": "GD_IFWfzmdcl",
        "colab_type": "code",
        "colab": {}
      },
      "source": [
        "from sklearn import metrics"
      ],
      "execution_count": 0,
      "outputs": []
    },
    {
      "cell_type": "markdown",
      "metadata": {
        "id": "4JZLyibwm5Ib",
        "colab_type": "text"
      },
      "source": [
        "Verificando a exatidão do modelo nos **dados de treino**:"
      ]
    },
    {
      "cell_type": "markdown",
      "metadata": {
        "id": "UWxbqqCrnW1L",
        "colab_type": "text"
      },
      "source": [
        "Vamos agora chamar o método **predict** para o modelo e passar como parâmetro apenas as variáveis preditoras (Atributos) de treino, **X_treino**, para se fazer as previsões do modelo. "
      ]
    },
    {
      "cell_type": "code",
      "metadata": {
        "id": "l7f0fFHXnPs2",
        "colab_type": "code",
        "colab": {}
      },
      "source": [
        "nb_predict_train = modelo_v1.predict(X_treino)"
      ],
      "execution_count": 0,
      "outputs": []
    },
    {
      "cell_type": "markdown",
      "metadata": {
        "id": "W8KzfJ2GWsmT",
        "colab_type": "text"
      },
      "source": [
        "Com as previsões feitas, vamos verificar a acurácia do nosso modelo utilizando o método **accuracy_score** de metrics, passando como parâmetro **Y_teste (dados de saída)** e **nb_predict_train (as previsões feitas pelo modelo a partir dos dados de entrada)**."
      ]
    },
    {
      "cell_type": "code",
      "metadata": {
        "id": "RZOk0mJ-oAUN",
        "colab_type": "code",
        "outputId": "d2f9230a-3534-4854-ac3a-0417920171da",
        "colab": {
          "base_uri": "https://localhost:8080/",
          "height": 34
        }
      },
      "source": [
        "print(f\"Exatidão (Accuracy): {metrics.accuracy_score(Y_treino, nb_predict_train): .2f}\")"
      ],
      "execution_count": 0,
      "outputs": [
        {
          "output_type": "stream",
          "text": [
            "Exatidão (Accuracy):  0.75\n"
          ],
          "name": "stdout"
        }
      ]
    },
    {
      "cell_type": "markdown",
      "metadata": {
        "id": "gh9m97P4qN-A",
        "colab_type": "text"
      },
      "source": [
        "Se observado, para verificar a acurácia estamos utilizando as previsões do modelo(**nb_predict_train**) a partir dos dados de entrada **X_treino** com os dados de saída (**Y_treino**), a previsão esperada.  "
      ]
    },
    {
      "cell_type": "markdown",
      "metadata": {
        "id": "zdRyTATlqW5D",
        "colab_type": "text"
      },
      "source": [
        "Quando comparamos a saída esperada (**Y_treino**) com todas as previsões dos dados de entrada(**nb_predict_train**) do modelo, obtemos uma taxa de erro, o papel do cientista de dados é diminuir essa taxa de erro e apresentar uma boa exatidão."
      ]
    },
    {
      "cell_type": "markdown",
      "metadata": {
        "id": "BFAxZEGarDFM",
        "colab_type": "text"
      },
      "source": [
        "Verificando a exatidão do modelo nos **dados de teste**:"
      ]
    },
    {
      "cell_type": "code",
      "metadata": {
        "id": "iDXEV62qpZb0",
        "colab_type": "code",
        "colab": {}
      },
      "source": [
        "nb_predict_test = modelo_v1.predict(X_teste)"
      ],
      "execution_count": 0,
      "outputs": []
    },
    {
      "cell_type": "code",
      "metadata": {
        "id": "WHGsfKS6rLcK",
        "colab_type": "code",
        "outputId": "8c19875b-80aa-4f13-d265-3ac5926827d4",
        "colab": {
          "base_uri": "https://localhost:8080/",
          "height": 34
        }
      },
      "source": [
        "print(f\"Exatidão (Accuracy): {metrics.accuracy_score(Y_teste, nb_predict_test): .2f}\")"
      ],
      "execution_count": 0,
      "outputs": [
        {
          "output_type": "stream",
          "text": [
            "Exatidão (Accuracy):  0.74\n"
          ],
          "name": "stdout"
        }
      ]
    },
    {
      "cell_type": "markdown",
      "metadata": {
        "id": "k1HmR8N7rRUa",
        "colab_type": "text"
      },
      "source": [
        "Se observamos, a acurácia teve uma diminuição devido que os dados de teste são dados que o meu modelo nunca tinha visto antes. \n",
        "\n",
        "O nosso modelo já tinha visto os dados de treino, porque foi treinado com eles, por outro lado, nunca tinha visto os dados de teste. Isso é importante para identificarmos o nível de acurácia do nosso modelo, porque não adianta ficar medindo a acurácia com dados que ele já conhece, o correto é medir a acurácia com novos dados, com dados de teste em vez de dados de treino. "
      ]
    },
    {
      "cell_type": "markdown",
      "metadata": {
        "id": "cvHuerzItnB2",
        "colab_type": "text"
      },
      "source": [
        "A acurácia nada mais é do que comparar a saída esperada com as saídas que foram previstas pelo nosso modelo. Normalmente, leva um tempo para se atingir a acurácia ideal, então deve-se continuar trabalhando, buscando outros algoritmos, preparando os dados, para atingir a acurácia ideal."
      ]
    },
    {
      "cell_type": "markdown",
      "metadata": {
        "id": "76GSbulxxAyT",
        "colab_type": "text"
      },
      "source": [
        "Vamos agora criar uma confusion matrix, para visualizar melhor o desempenho do nosso modelo.  "
      ]
    },
    {
      "cell_type": "code",
      "metadata": {
        "id": "6Bro4wX2rNP5",
        "colab_type": "code",
        "outputId": "87793e56-cd60-45ed-f4ec-881f4b280edc",
        "colab": {
          "base_uri": "https://localhost:8080/",
          "height": 272
        }
      },
      "source": [
        "# Criando uma Confusion Matrix\n",
        "print(\"Confusion Matrix\")\n",
        "\n",
        "print(f\"{(metrics.confusion_matrix(Y_teste, nb_predict_test, labels = [1, 0]))}\")\n",
        "print('\\n')\n",
        "\n",
        "print(\"Classification Report\")\n",
        "print(metrics.classification_report(Y_teste, nb_predict_test, labels = [1, 0]))"
      ],
      "execution_count": 0,
      "outputs": [
        {
          "output_type": "stream",
          "text": [
            "Confusion Matrix\n",
            "[[ 52  28]\n",
            " [ 33 118]]\n",
            "\n",
            "\n",
            "Classification Report\n",
            "              precision    recall  f1-score   support\n",
            "\n",
            "           1       0.61      0.65      0.63        80\n",
            "           0       0.81      0.78      0.79       151\n",
            "\n",
            "    accuracy                           0.74       231\n",
            "   macro avg       0.71      0.72      0.71       231\n",
            "weighted avg       0.74      0.74      0.74       231\n",
            "\n"
          ],
          "name": "stdout"
        }
      ]
    },
    {
      "cell_type": "markdown",
      "metadata": {
        "id": "H3_Z2zaowy6u",
        "colab_type": "text"
      },
      "source": [
        "Assim podemos visualizar melhor a acurácia do nosso modelo e o seu desempenho."
      ]
    },
    {
      "cell_type": "markdown",
      "metadata": {
        "id": "rAFzZFNLxteb",
        "colab_type": "text"
      },
      "source": [
        "# **Otimização, construindo um novo modelo com o algoritmo de Regressão Logística, LogisticRegression** "
      ]
    },
    {
      "cell_type": "markdown",
      "metadata": {
        "id": "tKfgxJuYo7EK",
        "colab_type": "text"
      },
      "source": [
        "O processo de otimização dentre todos os modelos que serão criados, busca o melhor modelo que resolva o problema em questão."
      ]
    },
    {
      "cell_type": "markdown",
      "metadata": {
        "id": "8g_IqXhJxpPv",
        "colab_type": "text"
      },
      "source": [
        "Iremos criar um novo modelo, um modelo com algoritmo de Regressão Logística para saber se com esse novo algoritmo teremos uma melhor exatidão, acurácia. Para o novo modelo utilizaremos o algoritmo (função) **LogistcRegression** de regressão logística a partir do pacote **linear_model** da biblioteca sklearn."
      ]
    },
    {
      "cell_type": "code",
      "metadata": {
        "id": "P9JC3Wagx0CO",
        "colab_type": "code",
        "colab": {}
      },
      "source": [
        "from sklearn.linear_model import LogisticRegression"
      ],
      "execution_count": 0,
      "outputs": []
    },
    {
      "cell_type": "markdown",
      "metadata": {
        "id": "ByBawvvezzW3",
        "colab_type": "text"
      },
      "source": [
        "Agora vamos criar a estância do **modelo_v2** e passar os parâmetros  **C**, **random_state**."
      ]
    },
    {
      "cell_type": "code",
      "metadata": {
        "id": "-5SIyHLTzyFI",
        "colab_type": "code",
        "colab": {}
      },
      "source": [
        "#Segunda versão do modelo usando Regressão Logística\n",
        "modelo_v2 = LogisticRegression(C = 0.7, random_state = 42)\n"
      ],
      "execution_count": 0,
      "outputs": []
    },
    {
      "cell_type": "markdown",
      "metadata": {
        "id": "k0Arqs4D11hK",
        "colab_type": "text"
      },
      "source": [
        "Vamos refazer o que fizemos anteriormente. Treinar o modelo com a função **fit** e fazer as previsões do modelo com o conjunto de dados de teste a partir dos dados de entrada, para verificarmos a acurácia \n",
        "\n"
      ]
    },
    {
      "cell_type": "code",
      "metadata": {
        "id": "3Sb5-FpG1gV-",
        "colab_type": "code",
        "outputId": "8a75dddb-9a19-4e3c-b132-d61e66530da2",
        "colab": {
          "base_uri": "https://localhost:8080/",
          "height": 153
        }
      },
      "source": [
        "modelo_v2.fit(X_treino, Y_treino.ravel())\n",
        "\n",
        "lr_predict_test = modelo_v2.predict(X_teste)"
      ],
      "execution_count": 0,
      "outputs": [
        {
          "output_type": "stream",
          "text": [
            "/usr/local/lib/python3.6/dist-packages/sklearn/linear_model/_logistic.py:940: ConvergenceWarning: lbfgs failed to converge (status=1):\n",
            "STOP: TOTAL NO. of ITERATIONS REACHED LIMIT.\n",
            "\n",
            "Increase the number of iterations (max_iter) or scale the data as shown in:\n",
            "    https://scikit-learn.org/stable/modules/preprocessing.html\n",
            "Please also refer to the documentation for alternative solver options:\n",
            "    https://scikit-learn.org/stable/modules/linear_model.html#logistic-regression\n",
            "  extra_warning_msg=_LOGISTIC_SOLVER_CONVERGENCE_MSG)\n"
          ],
          "name": "stderr"
        }
      ]
    },
    {
      "cell_type": "code",
      "metadata": {
        "id": "o0Lk-ewT1qkL",
        "colab_type": "code",
        "outputId": "26c3895c-7efb-47e7-83f9-8042b7a1fe18",
        "colab": {
          "base_uri": "https://localhost:8080/",
          "height": 238
        }
      },
      "source": [
        "print(f\"Exatidão (Accuracy): {metrics.accuracy_score(Y_teste, lr_predict_test): .2f}\")\n",
        "print('\\n')\n",
        "print(\"Classification Report\")\n",
        "print(metrics.classification_report(Y_teste, lr_predict_test, labels = [1, 0]))"
      ],
      "execution_count": 0,
      "outputs": [
        {
          "output_type": "stream",
          "text": [
            "Exatidão (Accuracy):  0.75\n",
            "\n",
            "\n",
            "Classification Report\n",
            "              precision    recall  f1-score   support\n",
            "\n",
            "           1       0.65      0.60      0.62        80\n",
            "           0       0.80      0.83      0.81       151\n",
            "\n",
            "    accuracy                           0.75       231\n",
            "   macro avg       0.72      0.71      0.72       231\n",
            "weighted avg       0.75      0.75      0.75       231\n",
            "\n"
          ],
          "name": "stdout"
        }
      ]
    },
    {
      "cell_type": "markdown",
      "metadata": {
        "id": "lnZhBnWE3wd0",
        "colab_type": "text"
      },
      "source": [
        "Observa-se que temos 0.75 (75%) de acurácia com o modelo de regressão logistica."
      ]
    },
    {
      "cell_type": "markdown",
      "metadata": {
        "id": "_iAxcZJy4wey",
        "colab_type": "text"
      },
      "source": [
        "\n",
        "**Exatidão dos modelos**\n",
        "\n",
        "* Modelo usando o algoritmo de Classificação GaussianNB = 0.74\n",
        "* Modelo usando o algoritmo de Regressão Logística LogisticRegression = 0.75"
      ]
    },
    {
      "cell_type": "markdown",
      "metadata": {
        "id": "LnrEgsOr4Nj6",
        "colab_type": "text"
      },
      "source": [
        "#  **Fazendo Previsões com o modelo treinado**"
      ]
    },
    {
      "cell_type": "markdown",
      "metadata": {
        "id": "NfBOVPyF4XdD",
        "colab_type": "text"
      },
      "source": [
        "Antes de fazer as previsões, precisamos salvar o modelo, então iremos importar o pacote **pickle**"
      ]
    },
    {
      "cell_type": "code",
      "metadata": {
        "id": "XFo69-_E3JMb",
        "colab_type": "code",
        "colab": {}
      },
      "source": [
        "import pickle"
      ],
      "execution_count": 0,
      "outputs": []
    },
    {
      "cell_type": "code",
      "metadata": {
        "id": "EMmjoojm4opV",
        "colab_type": "code",
        "colab": {}
      },
      "source": [
        "# Salvando o modelo para usar mais tarde\n",
        "filename = 'modelo_treinado_v2.sav'\n",
        "pickle.dump(modelo_v2, open(filename, 'wb'))"
      ],
      "execution_count": 0,
      "outputs": []
    },
    {
      "cell_type": "markdown",
      "metadata": {
        "id": "U5jUo6e6537r",
        "colab_type": "text"
      },
      "source": [
        "Agora vamos importar o modelo que foi salvo, utilizando a função **load** do pacote pickle."
      ]
    },
    {
      "cell_type": "code",
      "metadata": {
        "id": "XH5-YHT75jfi",
        "colab_type": "code",
        "colab": {}
      },
      "source": [
        "# Carregando o modelo e fazendo previsão com novos conjuntos de dados \n",
        "# (X_teste, Y_teste devem ser novos conjuntos de dados preparados com o procedimento de limpeza e transformação adequados)\n",
        "loaded_model = pickle.load(open(filename, 'rb'))"
      ],
      "execution_count": 0,
      "outputs": []
    },
    {
      "cell_type": "markdown",
      "metadata": {
        "id": "IJ6scgbG6iRc",
        "colab_type": "text"
      },
      "source": [
        "Hora de fazer as previsões usando o conjunto de dados de teste, através de seus índices."
      ]
    },
    {
      "cell_type": "code",
      "metadata": {
        "id": "GVTiKWeH6MC_",
        "colab_type": "code",
        "outputId": "50b5b0f5-4953-4931-a8a7-fe88543a51e6",
        "colab": {
          "base_uri": "https://localhost:8080/",
          "height": 238
        }
      },
      "source": [
        "X_teste"
      ],
      "execution_count": 0,
      "outputs": [
        {
          "output_type": "execute_result",
          "data": {
            "text/plain": [
              "array([[6.00000000e+00, 9.80000000e+01, 5.80000000e+01, ...,\n",
              "        3.40000000e+01, 4.30000000e-01, 4.30000000e+01],\n",
              "       [2.00000000e+00, 1.12000000e+02, 7.50000000e+01, ...,\n",
              "        3.57000000e+01, 1.48000000e-01, 2.10000000e+01],\n",
              "       [2.00000000e+00, 1.08000000e+02, 6.40000000e+01, ...,\n",
              "        3.08000000e+01, 1.58000000e-01, 2.10000000e+01],\n",
              "       ...,\n",
              "       [4.85714286e+00, 1.27000000e+02, 8.00000000e+01, ...,\n",
              "        3.63000000e+01, 8.04000000e-01, 2.30000000e+01],\n",
              "       [6.00000000e+00, 1.05000000e+02, 7.00000000e+01, ...,\n",
              "        3.08000000e+01, 1.22000000e-01, 3.70000000e+01],\n",
              "       [5.00000000e+00, 7.70000000e+01, 8.20000000e+01, ...,\n",
              "        3.58000000e+01, 1.56000000e-01, 3.50000000e+01]])"
            ]
          },
          "metadata": {
            "tags": []
          },
          "execution_count": 204
        }
      ]
    },
    {
      "cell_type": "code",
      "metadata": {
        "id": "pBVjAzoS7BUe",
        "colab_type": "code",
        "outputId": "9c76c7bb-2e68-460d-fb9f-e35a33a6a01b",
        "colab": {
          "base_uri": "https://localhost:8080/",
          "height": 51
        }
      },
      "source": [
        "resultado1 = loaded_model.predict(X_teste[15].reshape(1, -1))\n",
        "resultado2 = loaded_model.predict(X_teste[18].reshape(1, -1))\n",
        "print(resultado1)\n",
        "print(resultado2)"
      ],
      "execution_count": 0,
      "outputs": [
        {
          "output_type": "stream",
          "text": [
            "[0]\n",
            "[1]\n"
          ],
          "name": "stdout"
        }
      ]
    },
    {
      "cell_type": "markdown",
      "metadata": {
        "id": "FdxzJjEl7DC4",
        "colab_type": "text"
      },
      "source": [
        "Observa-se que para o primeiro caso o resultado foi verdadeiro e o segundo se mostrou falso. Com diabete e sem diabete,respectivamente. "
      ]
    },
    {
      "cell_type": "markdown",
      "metadata": {
        "id": "-kZiLeA6COIO",
        "colab_type": "text"
      },
      "source": [
        "# **Revisando os dados de entrada e saída a ser prevista**"
      ]
    },
    {
      "cell_type": "markdown",
      "metadata": {
        "id": "0uQ2BGak9BD7",
        "colab_type": "text"
      },
      "source": [
        "**Vamos relembrar quem são os nossos dados de entrada, atributos**:"
      ]
    },
    {
      "cell_type": "code",
      "metadata": {
        "id": "PHkgHic089K1",
        "colab_type": "code",
        "outputId": "e4d00694-1a2d-4d36-c3cf-9b3f7450dd84",
        "colab": {
          "base_uri": "https://localhost:8080/",
          "height": 34
        }
      },
      "source": [
        "print(f'Os dados de entrada são: {atributos}')"
      ],
      "execution_count": 0,
      "outputs": [
        {
          "output_type": "stream",
          "text": [
            "Os dados de entrada são: ['Gravidez', 'Glicose', 'Pressão_Sanguinea', 'Espessura_da_pele', 'Insulina', 'IMC', 'Função_pedigree_dos_diabeticos', 'Idade']\n"
          ],
          "name": "stdout"
        }
      ]
    },
    {
      "cell_type": "markdown",
      "metadata": {
        "id": "dHUhHrBh-nG8",
        "colab_type": "text"
      },
      "source": [
        "Todos esses atributos são nossos fatores decisivos para saber se uma pessoa tem diabete ou não, com base em nosso conjunto de dados."
      ]
    },
    {
      "cell_type": "markdown",
      "metadata": {
        "colab_type": "text",
        "id": "dMkH9Zec9XUH"
      },
      "source": [
        "**Vamos relembrar quem são os nossoss dados de saída, o que queremos prever**:"
      ]
    },
    {
      "cell_type": "code",
      "metadata": {
        "id": "gIqzoXb4-Bz7",
        "colab_type": "code",
        "colab": {}
      },
      "source": [
        "resultado = df['Resultado'][:1]"
      ],
      "execution_count": 0,
      "outputs": []
    },
    {
      "cell_type": "code",
      "metadata": {
        "id": "iTk-9UMq9ekZ",
        "colab_type": "code",
        "outputId": "cca066ac-95f1-4ada-c76a-73c6517d587c",
        "colab": {
          "base_uri": "https://localhost:8080/",
          "height": 51
        }
      },
      "source": [
        "print(f'Os dados de saída são: {resultado}')"
      ],
      "execution_count": 0,
      "outputs": [
        {
          "output_type": "stream",
          "text": [
            "Os dados de saída são: 0    1\n",
            "Name: Resultado, dtype: int64\n"
          ],
          "name": "stdout"
        }
      ]
    },
    {
      "cell_type": "markdown",
      "metadata": {
        "id": "LiEEY-zC-_Ql",
        "colab_type": "text"
      },
      "source": [
        "Os dados de saída esperados estão representados por 0 ou 1 (verdadeiro ou falso). 0 para as pessoas que não tem diabete e 1 para as pessoas que tem diabete.\n",
        "\n"
      ]
    },
    {
      "cell_type": "markdown",
      "metadata": {
        "id": "tFA305qT_um4",
        "colab_type": "text"
      },
      "source": [
        "**Lembre-se:** "
      ]
    },
    {
      "cell_type": "markdown",
      "metadata": {
        "id": "bnSh4QYUiy5T",
        "colab_type": "text"
      },
      "source": [
        "Lembre-se sempre da função G = X -> Y que é o que queremos que o algoritmo  descubra e da função f = X -> Y que representa o relacionamento dos dados de entrada X e dados de saída Y, com base em nosso conjunto de dados históricos (X1, Y1), (X2, Y2), (X3, Y3), ..., (XN, YN)."
      ]
    },
    {
      "cell_type": "markdown",
      "metadata": {
        "id": "9Y0Bqw3knpi3",
        "colab_type": "text"
      },
      "source": [
        "#**Prevendo se a grávida de taubaté tem ou não diabete**"
      ]
    },
    {
      "cell_type": "markdown",
      "metadata": {
        "id": "C7uo1cJu5Szq",
        "colab_type": "text"
      },
      "source": [
        "O modelo que vamos utilizar é o modelo que foi feito com o algoritmo LogisticRegression de Regressão Logistica, por obter uma maior acurácia e precisão."
      ]
    },
    {
      "cell_type": "markdown",
      "metadata": {
        "id": "FGm0a4P8AjdE",
        "colab_type": "text"
      },
      "source": [
        "Vamos imaginar que a grávida de taubaté tenha as seguintes características: \n",
        "\n",
        "\n",
        "*   Gravidez(Gestação) = 9\n",
        "* Glicose = 171\n",
        "* Pressão_sanguinea = 110\n",
        "* Espessura_da_pele = 24\n",
        "* Insulina = 240\n",
        "* IMC = 45.4\n",
        "* Função_p_dos_diabeticos = 0.721\n",
        "* Idade = 54\n",
        "  \n",
        "\n"
      ]
    },
    {
      "cell_type": "markdown",
      "metadata": {
        "id": "qvLgxst9A02d",
        "colab_type": "text"
      },
      "source": [
        "Como vocês podem observar, ela está no seu nono mês de gestação, tem uma glicose de 171, uma pressão sanguínea de 110...E tem 54 anos. Essas características serão os nossos dados de entrada para prever se ela tem diabete ou não. "
      ]
    },
    {
      "cell_type": "markdown",
      "metadata": {
        "id": "wIhwUmz7CS6_",
        "colab_type": "text"
      },
      "source": [
        "Vamos criar um vetor passando como dados de entrada os valores correspondentes a grávida de taubaté."
      ]
    },
    {
      "cell_type": "code",
      "metadata": {
        "id": "fRDd5Za6CeLE",
        "colab_type": "code",
        "colab": {}
      },
      "source": [
        "Gravida_taubate = np.array([9, 171,\t110,\t24,\t240, 45.4,0.721, 54]).reshape((1, -1))"
      ],
      "execution_count": 0,
      "outputs": []
    },
    {
      "cell_type": "markdown",
      "metadata": {
        "id": "eJ5zM9YPDdE_",
        "colab_type": "text"
      },
      "source": [
        "Agora vamos usar o método **predict** para saber se a grávida de taubaté tem ou não diabete. "
      ]
    },
    {
      "cell_type": "code",
      "metadata": {
        "id": "AqQADqMlDhyI",
        "colab_type": "code",
        "outputId": "126cf67f-730a-407d-cdb0-a95371f88932",
        "colab": {
          "base_uri": "https://localhost:8080/",
          "height": 34
        }
      },
      "source": [
        "#1 = Verdadeiro/Tem diabete\n",
        "#0 = Falso/Não tem diabete\n",
        "print(f'Dados de saída (output): {loaded_model.predict(Gravida_taubate)[0]}')"
      ],
      "execution_count": 0,
      "outputs": [
        {
          "output_type": "stream",
          "text": [
            "Dados de saída (output): 1\n"
          ],
          "name": "stdout"
        }
      ]
    },
    {
      "cell_type": "markdown",
      "metadata": {
        "id": "l8Zjn4jIEbmG",
        "colab_type": "text"
      },
      "source": [
        "De acordo com o nosso modelo e os dados de entrada que usamos a grávida de taubaté teria diabete. Como prova disso, os dados de entrada da grávida de taubaté são semelhantes ao do índice 43 do nosso conjunto de dados e a coluna **resultado** também apresenta o registro 1. Veja:"
      ]
    },
    {
      "cell_type": "code",
      "metadata": {
        "id": "1ebM3M5LGVve",
        "colab_type": "code",
        "outputId": "93b2de39-e661-4922-d84d-78fba640f1ef",
        "colab": {
          "base_uri": "https://localhost:8080/",
          "height": 80
        }
      },
      "source": [
        "df.query('index == 43')"
      ],
      "execution_count": 0,
      "outputs": [
        {
          "output_type": "execute_result",
          "data": {
            "text/html": [
              "<div>\n",
              "<style scoped>\n",
              "    .dataframe tbody tr th:only-of-type {\n",
              "        vertical-align: middle;\n",
              "    }\n",
              "\n",
              "    .dataframe tbody tr th {\n",
              "        vertical-align: top;\n",
              "    }\n",
              "\n",
              "    .dataframe thead th {\n",
              "        text-align: right;\n",
              "    }\n",
              "</style>\n",
              "<table border=\"1\" class=\"dataframe\">\n",
              "  <thead>\n",
              "    <tr style=\"text-align: right;\">\n",
              "      <th></th>\n",
              "      <th>Gravidez</th>\n",
              "      <th>Glicose</th>\n",
              "      <th>Pressão_Sanguinea</th>\n",
              "      <th>Espessura_da_pele</th>\n",
              "      <th>Insulina</th>\n",
              "      <th>IMC</th>\n",
              "      <th>Função_pedigree_dos_diabeticos</th>\n",
              "      <th>Idade</th>\n",
              "      <th>Resultado</th>\n",
              "    </tr>\n",
              "  </thead>\n",
              "  <tbody>\n",
              "    <tr>\n",
              "      <th>43</th>\n",
              "      <td>9</td>\n",
              "      <td>171</td>\n",
              "      <td>110</td>\n",
              "      <td>24</td>\n",
              "      <td>240</td>\n",
              "      <td>45.4</td>\n",
              "      <td>0.721</td>\n",
              "      <td>54</td>\n",
              "      <td>1</td>\n",
              "    </tr>\n",
              "  </tbody>\n",
              "</table>\n",
              "</div>"
            ],
            "text/plain": [
              "    Gravidez  Glicose  ...  Idade  Resultado\n",
              "43         9      171  ...     54          1\n",
              "\n",
              "[1 rows x 9 columns]"
            ]
          },
          "metadata": {
            "tags": []
          },
          "execution_count": 236
        }
      ]
    },
    {
      "cell_type": "markdown",
      "metadata": {
        "id": "3oban2tNF5nu",
        "colab_type": "text"
      },
      "source": [
        "Caramba, você chegou até aqui, espero que tenha gostado e se divertido! Continue fazendo outras previsões substituindo os valores dos dados de entrada utilizados por outros valores, lembre-se de inserir os valores na ordem das variáveis preditoras. Siga o exemplo abaixo:"
      ]
    },
    {
      "cell_type": "code",
      "metadata": {
        "id": "VE1Ia_UiGOGM",
        "colab_type": "code",
        "colab": {}
      },
      "source": [
        "previsao = np.array([Gravidez, Glicose, Pressão_Sanguinea, Espessura_da_pele, Insulina, IMC, Função_pedigree_diabeticos, Idade]).reshape((1, -1))"
      ],
      "execution_count": 0,
      "outputs": []
    },
    {
      "cell_type": "code",
      "metadata": {
        "id": "CGSv-t_uG00g",
        "colab_type": "code",
        "colab": {}
      },
      "source": [
        "print(f'Previsão =: {loaded_model.predict(previsao)[0]}')"
      ],
      "execution_count": 0,
      "outputs": []
    }
  ]
}