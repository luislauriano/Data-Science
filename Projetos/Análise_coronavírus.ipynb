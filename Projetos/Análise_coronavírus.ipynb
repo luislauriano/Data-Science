{
  "nbformat": 4,
  "nbformat_minor": 0,
  "metadata": {
    "colab": {
      "name": "Untitled4.ipynb",
      "provenance": [],
      "collapsed_sections": [],
      "authorship_tag": "ABX9TyM+aiBSNoUoM7/+6yoECfxk",
      "include_colab_link": true
    },
    "kernelspec": {
      "name": "python3",
      "display_name": "Python 3"
    }
  },
  "cells": [
    {
      "cell_type": "markdown",
      "metadata": {
        "id": "view-in-github",
        "colab_type": "text"
      },
      "source": [
        "<a href=\"https://colab.research.google.com/github/luislauriano/data_science/blob/master/An%C3%A1lise_coronav%C3%ADrus.ipynb\" target=\"_parent\"><img src=\"https://colab.research.google.com/assets/colab-badge.svg\" alt=\"Open In Colab\"/></a>"
      ]
    },
    {
      "cell_type": "markdown",
      "metadata": {
        "id": "_aIdt2HX1H4p",
        "colab_type": "text"
      },
      "source": [
        "# **Análise dos dados do Coronavírus**\n",
        "\n",
        "O novo coronavírus de 2019 (2019-nCoV) é um vírus (mais especificamente, um coronavírus) identificado como a causa de um surto de doença respiratória detectado pela primeira vez em Wuhan, China. No início, muitos dos pacientes do surto em Wuhan, na China, teriam algum vínculo com um grande mercado de frutos do mar e animais, sugerindo a disseminação de animais para pessoas. No entanto, um número crescente de pacientes supostamente não teve exposição ao mercado de animais, indicando a ocorrência de disseminação de pessoa para pessoa. "
      ]
    },
    {
      "cell_type": "markdown",
      "metadata": {
        "id": "wGQjBP-tMdrk",
        "colab_type": "text"
      },
      "source": [
        "# **Obtenção de dados**\n",
        "\n",
        "Este dataset foi retirado do [kaggle.com](https://) e disponibilizado pela Johns Hopkins University. O conjunto de dados possui informações diárias sobre o número de casos afetados, mortes e recuperação do novo coronavírus de 2019. Observe que esses são dados de séries temporais e, portanto, o número de casos em um determinado dia é o número acumulado. Disponibilizado pela Johns Hopkins University que criou um excelente painel usando os dados de casos afetados. \n",
        "\n",
        "**Os dados analisados vão do dia 22/01/2020 ao 09/03/2020**"
      ]
    },
    {
      "cell_type": "markdown",
      "metadata": {
        "id": "NzaB6A2Tq3XL",
        "colab_type": "text"
      },
      "source": [
        " **Informações sobre os atributos**\n",
        "\n",
        "* Sno - número de série\n",
        "* ObservationDate - Data da observação em MM / DD / AAAA\n",
        "* Province/State - Província ou estado da observação (pode estar vazio quando estiver ausente)\n",
        "* Country/Region - país de observação\n",
        "* Last Update- Horário no UTC em que a linha é atualizada para a província ou país em questão. (Não padronizado e, portanto, limpe antes de usá-lo)\n",
        "* Confirmed - número acumulado de casos confirmados até essa data\n",
        "* Deaths - Número acumulado de óbitos até essa data\n",
        "* Recovered - Número acumulado de casos recuperados até essa data"
      ]
    },
    {
      "cell_type": "markdown",
      "metadata": {
        "id": "6PriHlk8sbI1",
        "colab_type": "text"
      },
      "source": [
        "**Importar os dados**\n",
        "\n",
        "> Nesta etapa inicial importaremos o dataset mencionado anteriormente e as bibliotecas que iremos utilizar"
      ]
    },
    {
      "cell_type": "code",
      "metadata": {
        "id": "N7AMBGTcugsc",
        "colab_type": "code",
        "colab": {}
      },
      "source": [
        "#Importar bibliotecas necessárias \n",
        "import pandas as pd \n",
        "import matplotlib.pyplot as plt\n",
        "import seaborn as sns \n",
        "\n",
        "\n",
        "\n",
        "#Setar o estilo do seaborn\n",
        "sns.set(style=\"darkgrid\")\n",
        "\n",
        "#Importar o dataset do covid-19\n",
        "df = pd.read_csv('https://raw.githubusercontent.com/luislauriano/data_science/master/data/covid_19_data.csv')\n",
        "\n",
        "#Importar um segundo dataset\n",
        "df2 = pd.read_csv('https://raw.githubusercontent.com/luislauriano/data_science/master/data/covid_19_data%20(1).csv')"
      ],
      "execution_count": 0,
      "outputs": []
    },
    {
      "cell_type": "markdown",
      "metadata": {
        "id": "YNtBKoa3gEss",
        "colab_type": "text"
      },
      "source": [
        "# **Análise inicial dos dados**"
      ]
    },
    {
      "cell_type": "markdown",
      "metadata": {
        "id": "Fe6UvUfyWgSU",
        "colab_type": "text"
      },
      "source": [
        "> O objetivo desta etapa é criar uma consciência situacional inicial e permitir um entendimento de como os dados estão estruturados. Para facilitar a nossa análise. "
      ]
    },
    {
      "cell_type": "markdown",
      "metadata": {
        "id": "pJrIHmZPYHFq",
        "colab_type": "text"
      },
      "source": [
        "Como de costume de toda e qualquer análise de dados, vamos verificar a cara do nosso dataset e já termos uma noção de com oque vamos trabalhar."
      ]
    },
    {
      "cell_type": "code",
      "metadata": {
        "id": "7LkCu9patr_K",
        "colab_type": "code",
        "outputId": "b629e80f-7412-4a6f-df3f-eb1d6bda123e",
        "colab": {
          "base_uri": "https://localhost:8080/",
          "height": 197
        }
      },
      "source": [
        "#Apresentar as primeiras linhas do dataset\n",
        "df.head()"
      ],
      "execution_count": 0,
      "outputs": [
        {
          "output_type": "execute_result",
          "data": {
            "text/html": [
              "<div>\n",
              "<style scoped>\n",
              "    .dataframe tbody tr th:only-of-type {\n",
              "        vertical-align: middle;\n",
              "    }\n",
              "\n",
              "    .dataframe tbody tr th {\n",
              "        vertical-align: top;\n",
              "    }\n",
              "\n",
              "    .dataframe thead th {\n",
              "        text-align: right;\n",
              "    }\n",
              "</style>\n",
              "<table border=\"1\" class=\"dataframe\">\n",
              "  <thead>\n",
              "    <tr style=\"text-align: right;\">\n",
              "      <th></th>\n",
              "      <th>SNo</th>\n",
              "      <th>ObservationDate</th>\n",
              "      <th>Province/State</th>\n",
              "      <th>Country/Region</th>\n",
              "      <th>Last Update</th>\n",
              "      <th>Confirmed</th>\n",
              "      <th>Deaths</th>\n",
              "      <th>Recovered</th>\n",
              "    </tr>\n",
              "  </thead>\n",
              "  <tbody>\n",
              "    <tr>\n",
              "      <th>0</th>\n",
              "      <td>1</td>\n",
              "      <td>01/22/2020</td>\n",
              "      <td>Anhui</td>\n",
              "      <td>Mainland China</td>\n",
              "      <td>1/22/2020 17:00</td>\n",
              "      <td>1.0</td>\n",
              "      <td>0.0</td>\n",
              "      <td>0.0</td>\n",
              "    </tr>\n",
              "    <tr>\n",
              "      <th>1</th>\n",
              "      <td>2</td>\n",
              "      <td>01/22/2020</td>\n",
              "      <td>Beijing</td>\n",
              "      <td>Mainland China</td>\n",
              "      <td>1/22/2020 17:00</td>\n",
              "      <td>14.0</td>\n",
              "      <td>0.0</td>\n",
              "      <td>0.0</td>\n",
              "    </tr>\n",
              "    <tr>\n",
              "      <th>2</th>\n",
              "      <td>3</td>\n",
              "      <td>01/22/2020</td>\n",
              "      <td>Chongqing</td>\n",
              "      <td>Mainland China</td>\n",
              "      <td>1/22/2020 17:00</td>\n",
              "      <td>6.0</td>\n",
              "      <td>0.0</td>\n",
              "      <td>0.0</td>\n",
              "    </tr>\n",
              "    <tr>\n",
              "      <th>3</th>\n",
              "      <td>4</td>\n",
              "      <td>01/22/2020</td>\n",
              "      <td>Fujian</td>\n",
              "      <td>Mainland China</td>\n",
              "      <td>1/22/2020 17:00</td>\n",
              "      <td>1.0</td>\n",
              "      <td>0.0</td>\n",
              "      <td>0.0</td>\n",
              "    </tr>\n",
              "    <tr>\n",
              "      <th>4</th>\n",
              "      <td>5</td>\n",
              "      <td>01/22/2020</td>\n",
              "      <td>Gansu</td>\n",
              "      <td>Mainland China</td>\n",
              "      <td>1/22/2020 17:00</td>\n",
              "      <td>0.0</td>\n",
              "      <td>0.0</td>\n",
              "      <td>0.0</td>\n",
              "    </tr>\n",
              "  </tbody>\n",
              "</table>\n",
              "</div>"
            ],
            "text/plain": [
              "   SNo ObservationDate Province/State  ... Confirmed Deaths  Recovered\n",
              "0    1      01/22/2020          Anhui  ...       1.0    0.0        0.0\n",
              "1    2      01/22/2020        Beijing  ...      14.0    0.0        0.0\n",
              "2    3      01/22/2020      Chongqing  ...       6.0    0.0        0.0\n",
              "3    4      01/22/2020         Fujian  ...       1.0    0.0        0.0\n",
              "4    5      01/22/2020          Gansu  ...       0.0    0.0        0.0\n",
              "\n",
              "[5 rows x 8 columns]"
            ]
          },
          "metadata": {
            "tags": []
          },
          "execution_count": 3
        }
      ]
    },
    {
      "cell_type": "markdown",
      "metadata": {
        "id": "OQs3gP5BdI0F",
        "colab_type": "text"
      },
      "source": [
        "Já que o nosso dataset possui apenas oito colunas, vamos aproveitar isso para renomear as colunas para português, facilitando o entendimento.\n",
        "\n",
        "\n",
        "\n",
        "\n"
      ]
    },
    {
      "cell_type": "code",
      "metadata": {
        "id": "zEKtCScluIQW",
        "colab_type": "code",
        "outputId": "c37fca1a-8721-4d03-c8ad-83f2e9f0cd6e",
        "colab": {
          "base_uri": "https://localhost:8080/",
          "height": 197
        }
      },
      "source": [
        "#Renomeando as colunas para português\n",
        "df.columns = ['Nº de série', 'data_da_observaçao', 'provincia_ou_estado', 'país', 'ultima_atualizaçao', 'casos_confirmados', 'casos_mortes', 'casos_recuperados' ]\n",
        "\n",
        "df2.columns = ['Nº de série', 'data_da_observaçao', 'provincia_ou_estado', 'país', 'ultima_atualizaçao', 'casos_confirmados', 'casos_mortes', 'casos_recuperados' ]\n",
        "\n",
        "#As primeiras linhas do dataset novamente\n",
        "df.head()"
      ],
      "execution_count": 0,
      "outputs": [
        {
          "output_type": "execute_result",
          "data": {
            "text/html": [
              "<div>\n",
              "<style scoped>\n",
              "    .dataframe tbody tr th:only-of-type {\n",
              "        vertical-align: middle;\n",
              "    }\n",
              "\n",
              "    .dataframe tbody tr th {\n",
              "        vertical-align: top;\n",
              "    }\n",
              "\n",
              "    .dataframe thead th {\n",
              "        text-align: right;\n",
              "    }\n",
              "</style>\n",
              "<table border=\"1\" class=\"dataframe\">\n",
              "  <thead>\n",
              "    <tr style=\"text-align: right;\">\n",
              "      <th></th>\n",
              "      <th>Nº de série</th>\n",
              "      <th>data_da_observaçao</th>\n",
              "      <th>provincia_ou_estado</th>\n",
              "      <th>país</th>\n",
              "      <th>ultima_atualizaçao</th>\n",
              "      <th>casos_confirmados</th>\n",
              "      <th>casos_mortes</th>\n",
              "      <th>casos_recuperados</th>\n",
              "    </tr>\n",
              "  </thead>\n",
              "  <tbody>\n",
              "    <tr>\n",
              "      <th>0</th>\n",
              "      <td>1</td>\n",
              "      <td>01/22/2020</td>\n",
              "      <td>Anhui</td>\n",
              "      <td>Mainland China</td>\n",
              "      <td>1/22/2020 17:00</td>\n",
              "      <td>1.0</td>\n",
              "      <td>0.0</td>\n",
              "      <td>0.0</td>\n",
              "    </tr>\n",
              "    <tr>\n",
              "      <th>1</th>\n",
              "      <td>2</td>\n",
              "      <td>01/22/2020</td>\n",
              "      <td>Beijing</td>\n",
              "      <td>Mainland China</td>\n",
              "      <td>1/22/2020 17:00</td>\n",
              "      <td>14.0</td>\n",
              "      <td>0.0</td>\n",
              "      <td>0.0</td>\n",
              "    </tr>\n",
              "    <tr>\n",
              "      <th>2</th>\n",
              "      <td>3</td>\n",
              "      <td>01/22/2020</td>\n",
              "      <td>Chongqing</td>\n",
              "      <td>Mainland China</td>\n",
              "      <td>1/22/2020 17:00</td>\n",
              "      <td>6.0</td>\n",
              "      <td>0.0</td>\n",
              "      <td>0.0</td>\n",
              "    </tr>\n",
              "    <tr>\n",
              "      <th>3</th>\n",
              "      <td>4</td>\n",
              "      <td>01/22/2020</td>\n",
              "      <td>Fujian</td>\n",
              "      <td>Mainland China</td>\n",
              "      <td>1/22/2020 17:00</td>\n",
              "      <td>1.0</td>\n",
              "      <td>0.0</td>\n",
              "      <td>0.0</td>\n",
              "    </tr>\n",
              "    <tr>\n",
              "      <th>4</th>\n",
              "      <td>5</td>\n",
              "      <td>01/22/2020</td>\n",
              "      <td>Gansu</td>\n",
              "      <td>Mainland China</td>\n",
              "      <td>1/22/2020 17:00</td>\n",
              "      <td>0.0</td>\n",
              "      <td>0.0</td>\n",
              "      <td>0.0</td>\n",
              "    </tr>\n",
              "  </tbody>\n",
              "</table>\n",
              "</div>"
            ],
            "text/plain": [
              "   Nº de série data_da_observaçao  ... casos_mortes casos_recuperados\n",
              "0            1         01/22/2020  ...          0.0               0.0\n",
              "1            2         01/22/2020  ...          0.0               0.0\n",
              "2            3         01/22/2020  ...          0.0               0.0\n",
              "3            4         01/22/2020  ...          0.0               0.0\n",
              "4            5         01/22/2020  ...          0.0               0.0\n",
              "\n",
              "[5 rows x 8 columns]"
            ]
          },
          "metadata": {
            "tags": []
          },
          "execution_count": 4
        }
      ]
    },
    {
      "cell_type": "markdown",
      "metadata": {
        "id": "G2SIvwsgglmf",
        "colab_type": "text"
      },
      "source": [
        "Vamos finalizar essa análise inicial verificando quais são as últimas linhas do nosso dataset."
      ]
    },
    {
      "cell_type": "code",
      "metadata": {
        "id": "hg5C2GSwxyYc",
        "colab_type": "code",
        "outputId": "687aa5c9-7697-4746-d14a-9b584450e96a",
        "colab": {
          "base_uri": "https://localhost:8080/",
          "height": 197
        }
      },
      "source": [
        "#As últimas linhas do dataset\n",
        "df.tail()"
      ],
      "execution_count": 0,
      "outputs": [
        {
          "output_type": "execute_result",
          "data": {
            "text/html": [
              "<div>\n",
              "<style scoped>\n",
              "    .dataframe tbody tr th:only-of-type {\n",
              "        vertical-align: middle;\n",
              "    }\n",
              "\n",
              "    .dataframe tbody tr th {\n",
              "        vertical-align: top;\n",
              "    }\n",
              "\n",
              "    .dataframe thead th {\n",
              "        text-align: right;\n",
              "    }\n",
              "</style>\n",
              "<table border=\"1\" class=\"dataframe\">\n",
              "  <thead>\n",
              "    <tr style=\"text-align: right;\">\n",
              "      <th></th>\n",
              "      <th>Nº de série</th>\n",
              "      <th>data_da_observaçao</th>\n",
              "      <th>provincia_ou_estado</th>\n",
              "      <th>país</th>\n",
              "      <th>ultima_atualizaçao</th>\n",
              "      <th>casos_confirmados</th>\n",
              "      <th>casos_mortes</th>\n",
              "      <th>casos_recuperados</th>\n",
              "    </tr>\n",
              "  </thead>\n",
              "  <tbody>\n",
              "    <tr>\n",
              "      <th>4508</th>\n",
              "      <td>4509</td>\n",
              "      <td>03/09/2020</td>\n",
              "      <td>Northern Territory</td>\n",
              "      <td>Australia</td>\n",
              "      <td>2020-03-06T04:33:03</td>\n",
              "      <td>0.0</td>\n",
              "      <td>0.0</td>\n",
              "      <td>0.0</td>\n",
              "    </tr>\n",
              "    <tr>\n",
              "      <th>4509</th>\n",
              "      <td>4510</td>\n",
              "      <td>03/09/2020</td>\n",
              "      <td>Lackland, TX (From Diamond Princess)</td>\n",
              "      <td>US</td>\n",
              "      <td>2020-02-24T23:33:02</td>\n",
              "      <td>0.0</td>\n",
              "      <td>0.0</td>\n",
              "      <td>0.0</td>\n",
              "    </tr>\n",
              "    <tr>\n",
              "      <th>4510</th>\n",
              "      <td>4511</td>\n",
              "      <td>03/09/2020</td>\n",
              "      <td>Montgomery County, TX</td>\n",
              "      <td>US</td>\n",
              "      <td>2020-03-07T19:53:02</td>\n",
              "      <td>0.0</td>\n",
              "      <td>0.0</td>\n",
              "      <td>0.0</td>\n",
              "    </tr>\n",
              "    <tr>\n",
              "      <th>4511</th>\n",
              "      <td>4512</td>\n",
              "      <td>03/09/2020</td>\n",
              "      <td>Omaha, NE (From Diamond Princess)</td>\n",
              "      <td>US</td>\n",
              "      <td>2020-02-24T23:33:02</td>\n",
              "      <td>0.0</td>\n",
              "      <td>0.0</td>\n",
              "      <td>0.0</td>\n",
              "    </tr>\n",
              "    <tr>\n",
              "      <th>4512</th>\n",
              "      <td>4513</td>\n",
              "      <td>03/09/2020</td>\n",
              "      <td>Travis, CA (From Diamond Princess)</td>\n",
              "      <td>US</td>\n",
              "      <td>2020-02-24T23:33:02</td>\n",
              "      <td>0.0</td>\n",
              "      <td>0.0</td>\n",
              "      <td>0.0</td>\n",
              "    </tr>\n",
              "  </tbody>\n",
              "</table>\n",
              "</div>"
            ],
            "text/plain": [
              "      Nº de série data_da_observaçao  ... casos_mortes casos_recuperados\n",
              "4508         4509         03/09/2020  ...          0.0               0.0\n",
              "4509         4510         03/09/2020  ...          0.0               0.0\n",
              "4510         4511         03/09/2020  ...          0.0               0.0\n",
              "4511         4512         03/09/2020  ...          0.0               0.0\n",
              "4512         4513         03/09/2020  ...          0.0               0.0\n",
              "\n",
              "[5 rows x 8 columns]"
            ]
          },
          "metadata": {
            "tags": []
          },
          "execution_count": 4
        }
      ]
    },
    {
      "cell_type": "markdown",
      "metadata": {
        "id": "zOWnm9TH4zD2",
        "colab_type": "text"
      },
      "source": [
        "# **Preparação dos dados** "
      ]
    },
    {
      "cell_type": "markdown",
      "metadata": {
        "id": "PIMQJLbmhx6m",
        "colab_type": "text"
      },
      "source": [
        "> Abaixo será apresentado a análise dos dados do dataset, que embasará a conclusão do estudo."
      ]
    },
    {
      "cell_type": "markdown",
      "metadata": {
        "id": "ICfimsrc9_Cn",
        "colab_type": "text"
      },
      "source": [
        "**Qual o tamanho e tipo dos atributos do dataset?**"
      ]
    },
    {
      "cell_type": "code",
      "metadata": {
        "id": "6meMS6sO5My7",
        "colab_type": "code",
        "outputId": "3511684c-e2ce-4030-ad08-227cfbc69a8a",
        "colab": {
          "base_uri": "https://localhost:8080/",
          "height": 200
        }
      },
      "source": [
        "#Tamanho do dataset \n",
        "print(f'Nº de Linhas: {df.shape[0]}')\n",
        "print(f'Nº de Colunas: {df.shape[1]}')\n",
        "\n",
        "#Tipo das variáveis\n",
        "df.dtypes.sort_values(ascending=False)"
      ],
      "execution_count": 0,
      "outputs": [
        {
          "output_type": "stream",
          "text": [
            "Nº de Linhas: 4513\n",
            "Nº de Colunas: 8\n"
          ],
          "name": "stdout"
        },
        {
          "output_type": "execute_result",
          "data": {
            "text/plain": [
              "ultima_atualizaçao      object\n",
              "país                    object\n",
              "provincia_ou_estado     object\n",
              "data_da_observaçao      object\n",
              "casos_recuperados      float64\n",
              "casos_mortes           float64\n",
              "casos_confirmados      float64\n",
              "Nº de série              int64\n",
              "dtype: object"
            ]
          },
          "metadata": {
            "tags": []
          },
          "execution_count": 5
        }
      ]
    },
    {
      "cell_type": "markdown",
      "metadata": {
        "id": "ywliQTpajJGF",
        "colab_type": "text"
      },
      "source": [
        "Se observarmos, foi verificado que nosso dataset possui 4513 linhas, 8 colunas e suas variáveis em sua maioria são do tipo objeto. "
      ]
    },
    {
      "cell_type": "markdown",
      "metadata": {
        "id": "Mr3dyQkxnwn5",
        "colab_type": "text"
      },
      "source": [
        "> A qualidade de um dataset está diretamente relacionada à quantidade de valores ausentes, por isso, sempre devemos verificar a quantidade de valores ausentes presentes em nosso dataset."
      ]
    },
    {
      "cell_type": "markdown",
      "metadata": {
        "id": "43A_mqLp-bHg",
        "colab_type": "text"
      },
      "source": [
        "**Algum atributo possue valores ausentes?**"
      ]
    },
    {
      "cell_type": "code",
      "metadata": {
        "id": "Oas7Q8XPo9xd",
        "colab_type": "code",
        "outputId": "00c3f078-ff33-44bd-fd9a-fd9eba8c7e13",
        "colab": {
          "base_uri": "https://localhost:8080/",
          "height": 166
        }
      },
      "source": [
        "#Verificando valores ausentes do df (isnull().sum())\n",
        "(df.isnull().sum()/df.shape[0]).sort_values(ascending=False)"
      ],
      "execution_count": 0,
      "outputs": [
        {
          "output_type": "execute_result",
          "data": {
            "text/plain": [
              "provincia_ou_estado    0.354753\n",
              "casos_recuperados      0.000000\n",
              "casos_mortes           0.000000\n",
              "casos_confirmados      0.000000\n",
              "ultima_atualizaçao     0.000000\n",
              "país                   0.000000\n",
              "data_da_observaçao     0.000000\n",
              "Nº de série            0.000000\n",
              "dtype: float64"
            ]
          },
          "metadata": {
            "tags": []
          },
          "execution_count": 6
        }
      ]
    },
    {
      "cell_type": "markdown",
      "metadata": {
        "id": "_RS-0c1L-c4h",
        "colab_type": "text"
      },
      "source": [
        "Podemos observar que o atributo **provincia_ou_estado** tem aproximadamente 0.3% dos valores ausentes, enquantos os outros atibutos não apresentam valores ausentes. "
      ]
    },
    {
      "cell_type": "markdown",
      "metadata": {
        "id": "bJzo4cdK9awg",
        "colab_type": "text"
      },
      "source": [
        "De acordo com a documentação dos dados, caso viessem nulos é por que a informação foi perdida."
      ]
    },
    {
      "cell_type": "markdown",
      "metadata": {
        "id": "FjOX-gH29efR",
        "colab_type": "text"
      },
      "source": [
        "Se quiséssemos excluir os dados ausentes do atributo **provincia_ou_estado**, poderiamos utilizar o comando dropna e verificar os valores ausentes novamente. Como abaixo."
      ]
    },
    {
      "cell_type": "code",
      "metadata": {
        "id": "9nJRnnELNFCz",
        "colab_type": "code",
        "colab": {}
      },
      "source": [
        "#Excluindo valores ausentes ('dropna')\n",
        "df.dropna(inplace=True)"
      ],
      "execution_count": 0,
      "outputs": []
    },
    {
      "cell_type": "code",
      "metadata": {
        "id": "blIJxfBrNbuT",
        "colab_type": "code",
        "outputId": "256367d4-9e40-4d41-9a9b-46597999ebe7",
        "colab": {
          "base_uri": "https://localhost:8080/",
          "height": 166
        }
      },
      "source": [
        "#Ver valores ausentes novamente\n",
        "((df.isnull().sum() / df.shape[0])).sort_values(ascending=False)"
      ],
      "execution_count": 0,
      "outputs": [
        {
          "output_type": "execute_result",
          "data": {
            "text/plain": [
              "provincia_ou_estado    0.354753\n",
              "casos_recuperados      0.000000\n",
              "casos_mortes           0.000000\n",
              "casos_confirmados      0.000000\n",
              "ultima_atualizaçao     0.000000\n",
              "país                   0.000000\n",
              "data_da_observaçao     0.000000\n",
              "Nº de série            0.000000\n",
              "dtype: float64"
            ]
          },
          "metadata": {
            "tags": []
          },
          "execution_count": 17
        }
      ]
    },
    {
      "cell_type": "markdown",
      "metadata": {
        "id": "JfPJDniIONUm",
        "colab_type": "text"
      },
      "source": [
        "Agora o atributo **provincia_ou_estado** nao obteria mais valores ausentes."
      ]
    },
    {
      "cell_type": "markdown",
      "metadata": {
        "id": "7QBb8jNV5ST1",
        "colab_type": "text"
      },
      "source": [
        "**Qual o período em que os dados estão sendo analisados?** "
      ]
    },
    {
      "cell_type": "markdown",
      "metadata": {
        "id": "bK5F-o8h5x1K",
        "colab_type": "text"
      },
      "source": [
        "Por se tratar de um vírus que está crescendo todos os dias e tornando-se uma pandemia, precisamos saber qual o período que estamos analisando. "
      ]
    },
    {
      "cell_type": "code",
      "metadata": {
        "id": "n3J5KaJs5oqG",
        "colab_type": "code",
        "outputId": "53f4fe60-7519-4edb-86df-87da11dfc66a",
        "colab": {
          "base_uri": "https://localhost:8080/",
          "height": 50
        }
      },
      "source": [
        "#Data de inicio e fim\n",
        "print('Início: ', df.data_da_observaçao.min())\n",
        "print('Fim: ', df.data_da_observaçao.max())"
      ],
      "execution_count": 0,
      "outputs": [
        {
          "output_type": "stream",
          "text": [
            "Início:  01/22/2020\n",
            "Fim:  03/09/2020\n"
          ],
          "name": "stdout"
        }
      ]
    },
    {
      "cell_type": "markdown",
      "metadata": {
        "id": "FmciHqmuLccc",
        "colab_type": "text"
      },
      "source": [
        "Pra finalizar, abaixo temos o resumo do nosso dataset"
      ]
    },
    {
      "cell_type": "code",
      "metadata": {
        "id": "ei9gSkqWgstv",
        "colab_type": "code",
        "outputId": "4602eba9-0ef6-4b29-b3de-f42425b77fea",
        "colab": {
          "base_uri": "https://localhost:8080/",
          "height": 233
        }
      },
      "source": [
        "#Resumo do nosso dataset\n",
        "df.info()"
      ],
      "execution_count": 0,
      "outputs": [
        {
          "output_type": "stream",
          "text": [
            "<class 'pandas.core.frame.DataFrame'>\n",
            "RangeIndex: 4513 entries, 0 to 4512\n",
            "Data columns (total 8 columns):\n",
            "Nº de série            4513 non-null int64\n",
            "data_da_observaçao     4513 non-null object\n",
            "provincia_ou_estado    2912 non-null object\n",
            "país                   4513 non-null object\n",
            "ultima_atualizaçao     4513 non-null object\n",
            "casos_confirmados      4513 non-null float64\n",
            "casos_mortes           4513 non-null float64\n",
            "casos_recuperados      4513 non-null float64\n",
            "dtypes: float64(3), int64(1), object(4)\n",
            "memory usage: 282.2+ KB\n"
          ],
          "name": "stdout"
        }
      ]
    },
    {
      "cell_type": "markdown",
      "metadata": {
        "id": "zWZXuKFQr7oX",
        "colab_type": "text"
      },
      "source": [
        "# **Análise exploratória dos casos do coronavirus**"
      ]
    },
    {
      "cell_type": "markdown",
      "metadata": {
        "id": "tt27M6UGvTFT",
        "colab_type": "text"
      },
      "source": [
        "> Depois de uma preparação e tratamento dos dados do nosso dataset, podemos partir para os objetivos desse projeto e começar a explorar os dados.  "
      ]
    },
    {
      "cell_type": "markdown",
      "metadata": {
        "id": "ew8IRil1wD9h",
        "colab_type": "text"
      },
      "source": [
        "O objetivo dessa etapa e das que estão por vim é analisar e extrair informações sobre o coronavirus com base no nosso dataset.\n",
        "\n"
      ]
    },
    {
      "cell_type": "markdown",
      "metadata": {
        "id": "rQK7vhrUKd08",
        "colab_type": "text"
      },
      "source": [
        "**Quais são os países afetados pelo novo vírus?**\n"
      ]
    },
    {
      "cell_type": "code",
      "metadata": {
        "id": "HecMb690AQwC",
        "colab_type": "code",
        "outputId": "89f171af-70a8-4690-eb7b-9af959638838",
        "colab": {
          "base_uri": "https://localhost:8080/",
          "height": 333
        }
      },
      "source": [
        "# Mostrar os países afetados\n",
        "print(f'Os países afetados pelo novo vírus são: {df.país.unique()}')"
      ],
      "execution_count": 0,
      "outputs": [
        {
          "output_type": "stream",
          "text": [
            "Os países afetados pelo novo vírus são: ['Mainland China' 'Hong Kong' 'Macau' 'Taiwan' 'US' 'Japan' 'Thailand'\n",
            " 'South Korea' 'Singapore' 'Philippines' 'Malaysia' 'Vietnam' 'Australia'\n",
            " 'Mexico' 'Brazil' 'Colombia' 'France' 'Nepal' 'Canada' 'Cambodia'\n",
            " 'Sri Lanka' 'Ivory Coast' 'Germany' 'Finland' 'United Arab Emirates'\n",
            " 'India' 'Italy' 'UK' 'Russia' 'Sweden' 'Spain' 'Belgium' 'Others' 'Egypt'\n",
            " 'Iran' 'Israel' 'Lebanon' 'Iraq' 'Oman' 'Afghanistan' 'Bahrain' 'Kuwait'\n",
            " 'Austria' 'Algeria' 'Croatia' 'Switzerland' 'Pakistan' 'Georgia' 'Greece'\n",
            " 'North Macedonia' 'Norway' 'Romania' 'Denmark' 'Estonia' 'Netherlands'\n",
            " 'San Marino' ' Azerbaijan' 'Belarus' 'Iceland' 'Lithuania' 'New Zealand'\n",
            " 'Nigeria' 'North Ireland' 'Ireland' 'Luxembourg' 'Monaco' 'Qatar'\n",
            " 'Ecuador' 'Azerbaijan' 'Czech Republic' 'Armenia' 'Dominican Republic'\n",
            " 'Indonesia' 'Portugal' 'Andorra' 'Latvia' 'Morocco' 'Saudi Arabia'\n",
            " 'Senegal' 'Argentina' 'Chile' 'Jordan' 'Ukraine' 'Saint Barthelemy'\n",
            " 'Hungary' 'Faroe Islands' 'Gibraltar' 'Liechtenstein' 'Poland' 'Tunisia'\n",
            " 'Palestine' 'Bosnia and Herzegovina' 'Slovenia' 'South Africa' 'Bhutan'\n",
            " 'Cameroon' 'Costa Rica' 'Peru' 'Serbia' 'Slovakia' 'Togo' 'Vatican City'\n",
            " 'French Guiana' 'Malta' 'Martinique' 'Republic of Ireland' 'Bulgaria'\n",
            " 'Maldives' 'Bangladesh' 'Moldova' 'Paraguay' 'Albania' 'Cyprus'\n",
            " 'St. Martin' 'Brunei']\n"
          ],
          "name": "stdout"
        }
      ]
    },
    {
      "cell_type": "code",
      "metadata": {
        "id": "KoFBdiI8BNgr",
        "colab_type": "code",
        "outputId": "a0ce4cad-ee7a-46a2-a9d0-aee59f911694",
        "colab": {
          "base_uri": "https://localhost:8080/",
          "height": 33
        }
      },
      "source": [
        "# Total de países afetados \n",
        "\n",
        "print(f'Ao total foram: {len(df.país.unique())} países afetados')"
      ],
      "execution_count": 0,
      "outputs": [
        {
          "output_type": "stream",
          "text": [
            "Ao total foram: 115 países afetados\n"
          ],
          "name": "stdout"
        }
      ]
    },
    {
      "cell_type": "markdown",
      "metadata": {
        "id": "SVa-BsVlwoyM",
        "colab_type": "text"
      },
      "source": [
        "**Quais países foram mais afetados?**"
      ]
    },
    {
      "cell_type": "code",
      "metadata": {
        "id": "O8UlpUCex06C",
        "colab_type": "code",
        "outputId": "e817f74c-6de8-421c-d797-dd767b2ab1aa",
        "colab": {
          "base_uri": "https://localhost:8080/",
          "height": 677
        }
      },
      "source": [
        "#Os países que mais foram afetados\n",
        "df.groupby('país')['casos_confirmados', 'casos_mortes', 'casos_recuperados'].max().sort_values(by=['casos_confirmados','casos_mortes','casos_recuperados'], ascending = False)[:20]"
      ],
      "execution_count": 0,
      "outputs": [
        {
          "output_type": "execute_result",
          "data": {
            "text/html": [
              "<div>\n",
              "<style scoped>\n",
              "    .dataframe tbody tr th:only-of-type {\n",
              "        vertical-align: middle;\n",
              "    }\n",
              "\n",
              "    .dataframe tbody tr th {\n",
              "        vertical-align: top;\n",
              "    }\n",
              "\n",
              "    .dataframe thead th {\n",
              "        text-align: right;\n",
              "    }\n",
              "</style>\n",
              "<table border=\"1\" class=\"dataframe\">\n",
              "  <thead>\n",
              "    <tr style=\"text-align: right;\">\n",
              "      <th></th>\n",
              "      <th>casos_confirmados</th>\n",
              "      <th>casos_mortes</th>\n",
              "      <th>casos_recuperados</th>\n",
              "    </tr>\n",
              "    <tr>\n",
              "      <th>país</th>\n",
              "      <th></th>\n",
              "      <th></th>\n",
              "      <th></th>\n",
              "    </tr>\n",
              "  </thead>\n",
              "  <tbody>\n",
              "    <tr>\n",
              "      <th>Mainland China</th>\n",
              "      <td>67743.0</td>\n",
              "      <td>3008.0</td>\n",
              "      <td>46488.0</td>\n",
              "    </tr>\n",
              "    <tr>\n",
              "      <th>Italy</th>\n",
              "      <td>9172.0</td>\n",
              "      <td>463.0</td>\n",
              "      <td>724.0</td>\n",
              "    </tr>\n",
              "    <tr>\n",
              "      <th>South Korea</th>\n",
              "      <td>7478.0</td>\n",
              "      <td>53.0</td>\n",
              "      <td>135.0</td>\n",
              "    </tr>\n",
              "    <tr>\n",
              "      <th>Iran</th>\n",
              "      <td>7161.0</td>\n",
              "      <td>237.0</td>\n",
              "      <td>2394.0</td>\n",
              "    </tr>\n",
              "    <tr>\n",
              "      <th>France</th>\n",
              "      <td>1209.0</td>\n",
              "      <td>19.0</td>\n",
              "      <td>12.0</td>\n",
              "    </tr>\n",
              "    <tr>\n",
              "      <th>Germany</th>\n",
              "      <td>1176.0</td>\n",
              "      <td>2.0</td>\n",
              "      <td>18.0</td>\n",
              "    </tr>\n",
              "    <tr>\n",
              "      <th>Spain</th>\n",
              "      <td>1073.0</td>\n",
              "      <td>28.0</td>\n",
              "      <td>32.0</td>\n",
              "    </tr>\n",
              "    <tr>\n",
              "      <th>Others</th>\n",
              "      <td>706.0</td>\n",
              "      <td>6.0</td>\n",
              "      <td>40.0</td>\n",
              "    </tr>\n",
              "    <tr>\n",
              "      <th>Japan</th>\n",
              "      <td>511.0</td>\n",
              "      <td>17.0</td>\n",
              "      <td>76.0</td>\n",
              "    </tr>\n",
              "    <tr>\n",
              "      <th>Switzerland</th>\n",
              "      <td>374.0</td>\n",
              "      <td>2.0</td>\n",
              "      <td>3.0</td>\n",
              "    </tr>\n",
              "    <tr>\n",
              "      <th>UK</th>\n",
              "      <td>321.0</td>\n",
              "      <td>4.0</td>\n",
              "      <td>18.0</td>\n",
              "    </tr>\n",
              "    <tr>\n",
              "      <th>Netherlands</th>\n",
              "      <td>321.0</td>\n",
              "      <td>3.0</td>\n",
              "      <td>0.0</td>\n",
              "    </tr>\n",
              "    <tr>\n",
              "      <th>Sweden</th>\n",
              "      <td>248.0</td>\n",
              "      <td>0.0</td>\n",
              "      <td>1.0</td>\n",
              "    </tr>\n",
              "    <tr>\n",
              "      <th>Belgium</th>\n",
              "      <td>239.0</td>\n",
              "      <td>0.0</td>\n",
              "      <td>1.0</td>\n",
              "    </tr>\n",
              "    <tr>\n",
              "      <th>Norway</th>\n",
              "      <td>205.0</td>\n",
              "      <td>0.0</td>\n",
              "      <td>1.0</td>\n",
              "    </tr>\n",
              "    <tr>\n",
              "      <th>Singapore</th>\n",
              "      <td>150.0</td>\n",
              "      <td>0.0</td>\n",
              "      <td>78.0</td>\n",
              "    </tr>\n",
              "    <tr>\n",
              "      <th>Austria</th>\n",
              "      <td>131.0</td>\n",
              "      <td>0.0</td>\n",
              "      <td>2.0</td>\n",
              "    </tr>\n",
              "    <tr>\n",
              "      <th>Malaysia</th>\n",
              "      <td>117.0</td>\n",
              "      <td>0.0</td>\n",
              "      <td>24.0</td>\n",
              "    </tr>\n",
              "    <tr>\n",
              "      <th>Hong Kong</th>\n",
              "      <td>115.0</td>\n",
              "      <td>3.0</td>\n",
              "      <td>59.0</td>\n",
              "    </tr>\n",
              "    <tr>\n",
              "      <th>US</th>\n",
              "      <td>98.0</td>\n",
              "      <td>17.0</td>\n",
              "      <td>2.0</td>\n",
              "    </tr>\n",
              "  </tbody>\n",
              "</table>\n",
              "</div>"
            ],
            "text/plain": [
              "                casos_confirmados  casos_mortes  casos_recuperados\n",
              "país                                                              \n",
              "Mainland China            67743.0        3008.0            46488.0\n",
              "Italy                      9172.0         463.0              724.0\n",
              "South Korea                7478.0          53.0              135.0\n",
              "Iran                       7161.0         237.0             2394.0\n",
              "France                     1209.0          19.0               12.0\n",
              "Germany                    1176.0           2.0               18.0\n",
              "Spain                      1073.0          28.0               32.0\n",
              "Others                      706.0           6.0               40.0\n",
              "Japan                       511.0          17.0               76.0\n",
              "Switzerland                 374.0           2.0                3.0\n",
              "UK                          321.0           4.0               18.0\n",
              "Netherlands                 321.0           3.0                0.0\n",
              "Sweden                      248.0           0.0                1.0\n",
              "Belgium                     239.0           0.0                1.0\n",
              "Norway                      205.0           0.0                1.0\n",
              "Singapore                   150.0           0.0               78.0\n",
              "Austria                     131.0           0.0                2.0\n",
              "Malaysia                    117.0           0.0               24.0\n",
              "Hong Kong                   115.0           3.0               59.0\n",
              "US                           98.0          17.0                2.0"
            ]
          },
          "metadata": {
            "tags": []
          },
          "execution_count": 11
        }
      ]
    },
    {
      "cell_type": "markdown",
      "metadata": {
        "id": "z3aUvpxPa7gc",
        "colab_type": "text"
      },
      "source": [
        "É possivel identificar que a China lidera os países com o maior número de casos confirmados e de mortes, em seguida Hong Kong e em terceiro Japão. O fato da China apresentar um alto índice está diretamente relacionado ao país ter sido o berço do vírus.\n",
        "\n",
        "Se analisarmos o fato de que o ultimo em que foi registrado casos nesse dataset foi o dia **09/03**, podemos observar que também foi o dia em que o Canadá apresentou o seu segundo caso de morte pelo coronavírus de acordo com as noticias e já conseguimos observar isso na análise.\n",
        "\n",
        "Também é possivel identificar: \n",
        "* Até o momento os Estados Unidos, França e Coreia do Sul apresentam um maior número de casos de mortes do que casos recuperados\n",
        "* A China tem mais da metade de seus casos confirmados, recuperados\n",
        "\n",
        "\n",
        "> Vamos criar um gráfico de barra para visualizar melhor os casos do coronavírus por país"
      ]
    },
    {
      "cell_type": "code",
      "metadata": {
        "id": "IBt7XRZ3be_E",
        "colab_type": "code",
        "outputId": "4aa83ba2-63df-4d54-9b67-9a955e204910",
        "colab": {
          "base_uri": "https://localhost:8080/",
          "height": 436
        }
      },
      "source": [
        "#Gráfico de barra dos casos do coronavirus por país\n",
        "casos = (df.groupby('país')['casos_confirmados','casos_mortes','casos_recuperados'].nunique().sort_values(by=['casos_confirmados','casos_mortes','casos_recuperados'], ascending = False))[:15]\n",
        "fig, ax = plt.subplots(figsize=(15,6))\n",
        "\n",
        "casos.plot(kind='bar', ax=ax)\n",
        "ax.set_title('Nº de casos por país')\n",
        "ax.set_ylabel('Quantidade de casos')\n",
        "ax.set_xlabel('Nome do país')\n",
        "plt.tight_layout()"
      ],
      "execution_count": 0,
      "outputs": [
        {
          "output_type": "display_data",
          "data": {
            "image/png": "[encoded data removed]",
            "text/plain": [
              "<Figure size 1080x432 with 1 Axes>"
            ]
          },
          "metadata": {
            "tags": []
          }
        }
      ]
    },
    {
      "cell_type": "markdown",
      "metadata": {
        "id": "5bRwWX9A3drt",
        "colab_type": "text"
      },
      "source": [
        "Nota-se que a China se destaca quando comparada aos outros países. Porém, este dataset vai do dia **22/01** até o dia **09/03** e é possivel observar que a China apresenta um maior número de casos recuperados do que casos de mortes. Talvez, se o dataset fosse coletado a um ou dois meses atrás, o gráfico fosse diferente e a China apresentasse um maior número de mortes do que casos recuperados."
      ]
    },
    {
      "cell_type": "markdown",
      "metadata": {
        "id": "TtY3VnANB8Jl",
        "colab_type": "text"
      },
      "source": [
        "É possivel indentificar que os países Coreia do Sul, Estados Unidos, França, Itália e Iran, estão passando pelo pico do vírus e assim apresentam um número maior de casos de mortes do que casos recuperados."
      ]
    },
    {
      "cell_type": "markdown",
      "metadata": {
        "id": "UeFM7ZOfRpba",
        "colab_type": "text"
      },
      "source": [
        "**Evolução do coronavirus** "
      ]
    },
    {
      "cell_type": "code",
      "metadata": {
        "id": "gRXVJg3rRs5_",
        "colab_type": "code",
        "outputId": "864e465f-3e55-49ed-9182-2e6766278417",
        "colab": {
          "base_uri": "https://localhost:8080/",
          "height": 364
        }
      },
      "source": [
        "#Evolução dos casos do coronavirus \n",
        "evoluçao = df.groupby('data_da_observaçao')['casos_confirmados', 'casos_mortes', 'casos_recuperados'].max()\n",
        "\n",
        "fig, ax = plt.subplots(figsize = (15,5))\n",
        "\n",
        "evoluçao.plot(kind='line', marker='o', ax=ax)\n",
        "ax.set_title('Evolução de casos do coronavírus')\n",
        "ax.set_xlabel('Data')\n",
        "ax.set_ylabel('Quantidade de casos')\n",
        "plt.tight_layout()\n",
        "\n"
      ],
      "execution_count": 0,
      "outputs": [
        {
          "output_type": "display_data",
          "data": {
            "image/png": "[encoded data removed]",
            "text/plain": [
              "<Figure size 1080x360 with 1 Axes>"
            ]
          },
          "metadata": {
            "tags": []
          }
        }
      ]
    },
    {
      "cell_type": "markdown",
      "metadata": {
        "id": "kvjWCkib8ldg",
        "colab_type": "text"
      },
      "source": [
        "É possivel observar que até o dia **11/02** aproximadamente um mês atrás (levando em consideração que estou escrevendo no dia 11/03) o número de casos de mortes e recuperados cresciam na mesma proporção. \n",
        "\n",
        "Porém, a partir do dia **21/02** o número de casos recuperados já apresentava uma boa diferença do número de casos de mortes e até o momento o número de casos de mortes tem mantido estabilizado, distante do número de casos recuperados.  "
      ]
    },
    {
      "cell_type": "markdown",
      "metadata": {
        "id": "Eanxi2F5CfaT",
        "colab_type": "text"
      },
      "source": [
        "# **Estados Unidos, preocupante?**"
      ]
    },
    {
      "cell_type": "markdown",
      "metadata": {
        "id": "fyO9STkvDyMY",
        "colab_type": "text"
      },
      "source": [
        "Como mostrado anteriormente, nos Estados Unidos tem crescido o número de casos confirmados pelo coronavírus, porém, o número de casos de mortes é maior do que casos recuperados em relação aos casos confirmados. Isto acontece devido ao pico de quando o vírus se choca com o país, oque deve acontecer em cada país afetado pelo vírus. \n",
        "\n",
        "Por isso, vamos agora visualizar melhor a evolução do vírus no país."
      ]
    },
    {
      "cell_type": "code",
      "metadata": {
        "id": "DTSEhd0gCn0G",
        "colab_type": "code",
        "outputId": "40263077-db5d-48f9-9804-9fa5e2c6d78e",
        "colab": {
          "base_uri": "https://localhost:8080/",
          "height": 197
        }
      },
      "source": [
        "#Extraindo o país Estados Unidos da coluna País\n",
        "eua = df.loc[df['país'] == 'US']\n",
        "\n",
        "eua.head() "
      ],
      "execution_count": 0,
      "outputs": [
        {
          "output_type": "execute_result",
          "data": {
            "text/html": [
              "<div>\n",
              "<style scoped>\n",
              "    .dataframe tbody tr th:only-of-type {\n",
              "        vertical-align: middle;\n",
              "    }\n",
              "\n",
              "    .dataframe tbody tr th {\n",
              "        vertical-align: top;\n",
              "    }\n",
              "\n",
              "    .dataframe thead th {\n",
              "        text-align: right;\n",
              "    }\n",
              "</style>\n",
              "<table border=\"1\" class=\"dataframe\">\n",
              "  <thead>\n",
              "    <tr style=\"text-align: right;\">\n",
              "      <th></th>\n",
              "      <th>Nº de série</th>\n",
              "      <th>data_da_observaçao</th>\n",
              "      <th>provincia_ou_estado</th>\n",
              "      <th>país</th>\n",
              "      <th>ultima_atualizaçao</th>\n",
              "      <th>casos_confirmados</th>\n",
              "      <th>casos_mortes</th>\n",
              "      <th>casos_recuperados</th>\n",
              "    </tr>\n",
              "  </thead>\n",
              "  <tbody>\n",
              "    <tr>\n",
              "      <th>31</th>\n",
              "      <td>32</td>\n",
              "      <td>01/22/2020</td>\n",
              "      <td>Washington</td>\n",
              "      <td>US</td>\n",
              "      <td>1/22/2020 17:00</td>\n",
              "      <td>1.0</td>\n",
              "      <td>0.0</td>\n",
              "      <td>0.0</td>\n",
              "    </tr>\n",
              "    <tr>\n",
              "      <th>69</th>\n",
              "      <td>70</td>\n",
              "      <td>01/23/2020</td>\n",
              "      <td>Washington</td>\n",
              "      <td>US</td>\n",
              "      <td>1/23/20 17:00</td>\n",
              "      <td>1.0</td>\n",
              "      <td>0.0</td>\n",
              "      <td>0.0</td>\n",
              "    </tr>\n",
              "    <tr>\n",
              "      <th>117</th>\n",
              "      <td>118</td>\n",
              "      <td>01/24/2020</td>\n",
              "      <td>Washington</td>\n",
              "      <td>US</td>\n",
              "      <td>1/24/20 17:00</td>\n",
              "      <td>1.0</td>\n",
              "      <td>0.0</td>\n",
              "      <td>0.0</td>\n",
              "    </tr>\n",
              "    <tr>\n",
              "      <th>118</th>\n",
              "      <td>119</td>\n",
              "      <td>01/24/2020</td>\n",
              "      <td>Chicago</td>\n",
              "      <td>US</td>\n",
              "      <td>1/24/20 17:00</td>\n",
              "      <td>1.0</td>\n",
              "      <td>0.0</td>\n",
              "      <td>0.0</td>\n",
              "    </tr>\n",
              "    <tr>\n",
              "      <th>158</th>\n",
              "      <td>159</td>\n",
              "      <td>01/25/2020</td>\n",
              "      <td>Washington</td>\n",
              "      <td>US</td>\n",
              "      <td>1/25/20 17:00</td>\n",
              "      <td>1.0</td>\n",
              "      <td>0.0</td>\n",
              "      <td>0.0</td>\n",
              "    </tr>\n",
              "  </tbody>\n",
              "</table>\n",
              "</div>"
            ],
            "text/plain": [
              "     Nº de série data_da_observaçao  ... casos_mortes casos_recuperados\n",
              "31            32         01/22/2020  ...          0.0               0.0\n",
              "69            70         01/23/2020  ...          0.0               0.0\n",
              "117          118         01/24/2020  ...          0.0               0.0\n",
              "118          119         01/24/2020  ...          0.0               0.0\n",
              "158          159         01/25/2020  ...          0.0               0.0\n",
              "\n",
              "[5 rows x 8 columns]"
            ]
          },
          "metadata": {
            "tags": []
          },
          "execution_count": 22
        }
      ]
    },
    {
      "cell_type": "markdown",
      "metadata": {
        "id": "gOPdzXOyEfYe",
        "colab_type": "text"
      },
      "source": [
        "Agora que já temos todos os valores dos Estados Unidos, vamos visualizar como foi a evolução do coronavirus no país no periodo do dia **22/01 ao 09/03**."
      ]
    },
    {
      "cell_type": "code",
      "metadata": {
        "id": "6V3EbqM1CvGL",
        "colab_type": "code",
        "outputId": "6ec348fa-b4ff-4999-eb01-23578b527865",
        "colab": {
          "base_uri": "https://localhost:8080/",
          "height": 364
        }
      },
      "source": [
        "#Gráfico de linhas para visualizar a evolução de casos na China\n",
        "evolucao_EUA = eua.groupby('data_da_observaçao')['casos_confirmados', 'casos_mortes', 'casos_recuperados'].max()\n",
        "\n",
        "fig, ax = plt.subplots(figsize = (15,5))\n",
        "\n",
        "evolucao_EUA.plot(kind='line', marker='o', ax=ax)\n",
        "ax.set_title('Evolução do coronavírus nos Estados Unidos') \n",
        "ax.set_xlabel('Data')\n",
        "ax.set_ylabel('Quantidade de casos')\n",
        "plt.tight_layout()"
      ],
      "execution_count": 0,
      "outputs": [
        {
          "output_type": "display_data",
          "data": {
            "image/png": "[encoded data removed]",
            "text/plain": [
              "<Figure size 1080x360 with 1 Axes>"
            ]
          },
          "metadata": {
            "tags": []
          }
        }
      ]
    },
    {
      "cell_type": "markdown",
      "metadata": {
        "id": "ZQbRslMzEz08",
        "colab_type": "text"
      },
      "source": [
        "É possível identificar que a crescente de casos confirmados no páis se iniciou a partir do dia **21/02** e desde então tem aumentado.\n",
        "\n",
        "Também é possível identificar que o número de casos recuperados e de casos de mortes nunca apresentaram uma larga diferença, entretanto, a partir do dia **02/03** o número de casos de mortes tem crescido mais do que o número de casos recuperados."
      ]
    },
    {
      "cell_type": "markdown",
      "metadata": {
        "id": "pjNmPX9AFsH2",
        "colab_type": "text"
      },
      "source": [
        "**Qual a porcentagem de casos de mortes e recuperados sobre os casos confirmados?**"
      ]
    },
    {
      "cell_type": "code",
      "metadata": {
        "id": "-PzGi1GFFb8-",
        "colab_type": "code",
        "outputId": "4edfa42c-37c7-44bc-e9a8-7141cecd52e4",
        "colab": {
          "base_uri": "https://localhost:8080/",
          "height": 33
        }
      },
      "source": [
        "print(f'Porcentagem de Casos de Mortes: {(eua[\"casos_mortes\"].max() / eua[\"casos_confirmados\"].max())*100}')"
      ],
      "execution_count": 0,
      "outputs": [
        {
          "output_type": "stream",
          "text": [
            "Porcentagem de Casos de Mortes: 17.346938775510203\n"
          ],
          "name": "stdout"
        }
      ]
    },
    {
      "cell_type": "code",
      "metadata": {
        "id": "KFgu5eMQFioK",
        "colab_type": "code",
        "outputId": "28ce95ec-0211-4b78-bf19-ad7d184c4a2e",
        "colab": {
          "base_uri": "https://localhost:8080/",
          "height": 33
        }
      },
      "source": [
        "print(f'Porcentagem de Casos Recuperados: {(eua[\"casos_recuperados\"].max() / eua[\"casos_confirmados\"].max())*100}')"
      ],
      "execution_count": 0,
      "outputs": [
        {
          "output_type": "stream",
          "text": [
            "Porcentagem de Casos Recuperados: 2.0408163265306123\n"
          ],
          "name": "stdout"
        }
      ]
    },
    {
      "cell_type": "markdown",
      "metadata": {
        "id": "lzGqZ0zks_Ie",
        "colab_type": "text"
      },
      "source": [
        "# **Analisando os dados da China**"
      ]
    },
    {
      "cell_type": "code",
      "metadata": {
        "id": "_QFt4KENmAgi",
        "colab_type": "code",
        "outputId": "1091f621-d849-4479-81f9-0ae940ab9232",
        "colab": {
          "base_uri": "https://localhost:8080/",
          "height": 197
        }
      },
      "source": [
        "#Extraindo os valores de China da coluna País\n",
        "china = df.loc[df['país'] == 'Mainland China']\n",
        "\n",
        "china.head() "
      ],
      "execution_count": 0,
      "outputs": [
        {
          "output_type": "execute_result",
          "data": {
            "text/html": [
              "<div>\n",
              "<style scoped>\n",
              "    .dataframe tbody tr th:only-of-type {\n",
              "        vertical-align: middle;\n",
              "    }\n",
              "\n",
              "    .dataframe tbody tr th {\n",
              "        vertical-align: top;\n",
              "    }\n",
              "\n",
              "    .dataframe thead th {\n",
              "        text-align: right;\n",
              "    }\n",
              "</style>\n",
              "<table border=\"1\" class=\"dataframe\">\n",
              "  <thead>\n",
              "    <tr style=\"text-align: right;\">\n",
              "      <th></th>\n",
              "      <th>Nº de série</th>\n",
              "      <th>data_da_observaçao</th>\n",
              "      <th>provincia_ou_estado</th>\n",
              "      <th>país</th>\n",
              "      <th>ultima_atualizaçao</th>\n",
              "      <th>casos_confirmados</th>\n",
              "      <th>casos_mortes</th>\n",
              "      <th>casos_recuperados</th>\n",
              "    </tr>\n",
              "  </thead>\n",
              "  <tbody>\n",
              "    <tr>\n",
              "      <th>0</th>\n",
              "      <td>1</td>\n",
              "      <td>01/22/2020</td>\n",
              "      <td>Anhui</td>\n",
              "      <td>Mainland China</td>\n",
              "      <td>1/22/2020 17:00</td>\n",
              "      <td>1.0</td>\n",
              "      <td>0.0</td>\n",
              "      <td>0.0</td>\n",
              "    </tr>\n",
              "    <tr>\n",
              "      <th>1</th>\n",
              "      <td>2</td>\n",
              "      <td>01/22/2020</td>\n",
              "      <td>Beijing</td>\n",
              "      <td>Mainland China</td>\n",
              "      <td>1/22/2020 17:00</td>\n",
              "      <td>14.0</td>\n",
              "      <td>0.0</td>\n",
              "      <td>0.0</td>\n",
              "    </tr>\n",
              "    <tr>\n",
              "      <th>2</th>\n",
              "      <td>3</td>\n",
              "      <td>01/22/2020</td>\n",
              "      <td>Chongqing</td>\n",
              "      <td>Mainland China</td>\n",
              "      <td>1/22/2020 17:00</td>\n",
              "      <td>6.0</td>\n",
              "      <td>0.0</td>\n",
              "      <td>0.0</td>\n",
              "    </tr>\n",
              "    <tr>\n",
              "      <th>3</th>\n",
              "      <td>4</td>\n",
              "      <td>01/22/2020</td>\n",
              "      <td>Fujian</td>\n",
              "      <td>Mainland China</td>\n",
              "      <td>1/22/2020 17:00</td>\n",
              "      <td>1.0</td>\n",
              "      <td>0.0</td>\n",
              "      <td>0.0</td>\n",
              "    </tr>\n",
              "    <tr>\n",
              "      <th>4</th>\n",
              "      <td>5</td>\n",
              "      <td>01/22/2020</td>\n",
              "      <td>Gansu</td>\n",
              "      <td>Mainland China</td>\n",
              "      <td>1/22/2020 17:00</td>\n",
              "      <td>0.0</td>\n",
              "      <td>0.0</td>\n",
              "      <td>0.0</td>\n",
              "    </tr>\n",
              "  </tbody>\n",
              "</table>\n",
              "</div>"
            ],
            "text/plain": [
              "   Nº de série data_da_observaçao  ... casos_mortes casos_recuperados\n",
              "0            1         01/22/2020  ...          0.0               0.0\n",
              "1            2         01/22/2020  ...          0.0               0.0\n",
              "2            3         01/22/2020  ...          0.0               0.0\n",
              "3            4         01/22/2020  ...          0.0               0.0\n",
              "4            5         01/22/2020  ...          0.0               0.0\n",
              "\n",
              "[5 rows x 8 columns]"
            ]
          },
          "metadata": {
            "tags": []
          },
          "execution_count": 13
        }
      ]
    },
    {
      "cell_type": "markdown",
      "metadata": {
        "id": "S5EIjBTpjqp2",
        "colab_type": "text"
      },
      "source": [
        "> Agora vamos criar um gráfico para visualizar como foi a evolução do caso do coronavirus na China no periodo do dia **22/01 ao 09/03**"
      ]
    },
    {
      "cell_type": "code",
      "metadata": {
        "id": "9CZYojRygrab",
        "colab_type": "code",
        "outputId": "0de47193-c82a-4b2d-fcf5-426523d1e8e8",
        "colab": {
          "base_uri": "https://localhost:8080/",
          "height": 364
        }
      },
      "source": [
        "#Gráfico de linhas para visualizar a evolução de casos na China\n",
        "evolucao_china = china.groupby('data_da_observaçao')['casos_confirmados', 'casos_mortes', 'casos_recuperados'].max()\n",
        "\n",
        "fig, ax = plt.subplots(figsize = (15,5))\n",
        "\n",
        "evolucao_china.plot(kind='line', marker='o', ax=ax)\n",
        "ax.set_title('Evolução de casos do coronavírus na China')\n",
        "ax.set_xlabel('Data')\n",
        "ax.set_ylabel('Quantidade de casos')\n",
        "plt.tight_layout()"
      ],
      "execution_count": 0,
      "outputs": [
        {
          "output_type": "display_data",
          "data": {
            "image/png": "[encoded data removed]",
            "text/plain": [
              "<Figure size 1080x360 with 1 Axes>"
            ]
          },
          "metadata": {
            "tags": []
          }
        }
      ]
    },
    {
      "cell_type": "markdown",
      "metadata": {
        "id": "Rgha9OvzIAWt",
        "colab_type": "text"
      },
      "source": [
        "Diferente dos Estados Unidos, podemos observar que a China já passou pelo seu pico do coronavírus e hoje já se encontra mais estabilizada, com o número de casos confirmados maior do que o número de mortes. \n",
        "\n",
        "É possível identificar que mesmo que o número de casos confirmados tenha tido um alto crescimento, aproximadamente a partir do dia **12/02**, o número de casos recuperados também cresceu proporcionalmente e no dia **21/02** o número de casos recuperados já apresentava um boa diferença do número de casos de mortes."
      ]
    },
    {
      "cell_type": "markdown",
      "metadata": {
        "id": "g72Ulq3_iwUW",
        "colab_type": "text"
      },
      "source": [
        "**Quais foram as provincias/estado da China que mais foram afetados?**"
      ]
    },
    {
      "cell_type": "code",
      "metadata": {
        "id": "hfbmJAPAi2ML",
        "colab_type": "code",
        "outputId": "0aa0c93c-403a-4fdb-a532-9bfb05f957b6",
        "colab": {
          "base_uri": "https://localhost:8080/",
          "height": 377
        }
      },
      "source": [
        "#Províncias ou estados da China que mais foram afetados\n",
        "china.groupby('provincia_ou_estado')['casos_confirmados','casos_mortes','casos_recuperados'].max().sort_values(by='casos_confirmados', ascending = False)[:10]"
      ],
      "execution_count": 0,
      "outputs": [
        {
          "output_type": "execute_result",
          "data": {
            "text/html": [
              "<div>\n",
              "<style scoped>\n",
              "    .dataframe tbody tr th:only-of-type {\n",
              "        vertical-align: middle;\n",
              "    }\n",
              "\n",
              "    .dataframe tbody tr th {\n",
              "        vertical-align: top;\n",
              "    }\n",
              "\n",
              "    .dataframe thead th {\n",
              "        text-align: right;\n",
              "    }\n",
              "</style>\n",
              "<table border=\"1\" class=\"dataframe\">\n",
              "  <thead>\n",
              "    <tr style=\"text-align: right;\">\n",
              "      <th></th>\n",
              "      <th>casos_confirmados</th>\n",
              "      <th>casos_mortes</th>\n",
              "      <th>casos_recuperados</th>\n",
              "    </tr>\n",
              "    <tr>\n",
              "      <th>provincia_ou_estado</th>\n",
              "      <th></th>\n",
              "      <th></th>\n",
              "      <th></th>\n",
              "    </tr>\n",
              "  </thead>\n",
              "  <tbody>\n",
              "    <tr>\n",
              "      <th>Hubei</th>\n",
              "      <td>67743.0</td>\n",
              "      <td>3008.0</td>\n",
              "      <td>46488.0</td>\n",
              "    </tr>\n",
              "    <tr>\n",
              "      <th>Guangdong</th>\n",
              "      <td>1352.0</td>\n",
              "      <td>8.0</td>\n",
              "      <td>1260.0</td>\n",
              "    </tr>\n",
              "    <tr>\n",
              "      <th>Henan</th>\n",
              "      <td>1272.0</td>\n",
              "      <td>22.0</td>\n",
              "      <td>1247.0</td>\n",
              "    </tr>\n",
              "    <tr>\n",
              "      <th>Zhejiang</th>\n",
              "      <td>1215.0</td>\n",
              "      <td>1.0</td>\n",
              "      <td>1176.0</td>\n",
              "    </tr>\n",
              "    <tr>\n",
              "      <th>Hunan</th>\n",
              "      <td>1018.0</td>\n",
              "      <td>4.0</td>\n",
              "      <td>979.0</td>\n",
              "    </tr>\n",
              "    <tr>\n",
              "      <th>Anhui</th>\n",
              "      <td>990.0</td>\n",
              "      <td>6.0</td>\n",
              "      <td>984.0</td>\n",
              "    </tr>\n",
              "    <tr>\n",
              "      <th>Jiangxi</th>\n",
              "      <td>935.0</td>\n",
              "      <td>1.0</td>\n",
              "      <td>923.0</td>\n",
              "    </tr>\n",
              "    <tr>\n",
              "      <th>Shandong</th>\n",
              "      <td>758.0</td>\n",
              "      <td>6.0</td>\n",
              "      <td>700.0</td>\n",
              "    </tr>\n",
              "    <tr>\n",
              "      <th>Jiangsu</th>\n",
              "      <td>631.0</td>\n",
              "      <td>0.0</td>\n",
              "      <td>621.0</td>\n",
              "    </tr>\n",
              "    <tr>\n",
              "      <th>Chongqing</th>\n",
              "      <td>576.0</td>\n",
              "      <td>6.0</td>\n",
              "      <td>542.0</td>\n",
              "    </tr>\n",
              "  </tbody>\n",
              "</table>\n",
              "</div>"
            ],
            "text/plain": [
              "                     casos_confirmados  casos_mortes  casos_recuperados\n",
              "provincia_ou_estado                                                    \n",
              "Hubei                          67743.0        3008.0            46488.0\n",
              "Guangdong                       1352.0           8.0             1260.0\n",
              "Henan                           1272.0          22.0             1247.0\n",
              "Zhejiang                        1215.0           1.0             1176.0\n",
              "Hunan                           1018.0           4.0              979.0\n",
              "Anhui                            990.0           6.0              984.0\n",
              "Jiangxi                          935.0           1.0              923.0\n",
              "Shandong                         758.0           6.0              700.0\n",
              "Jiangsu                          631.0           0.0              621.0\n",
              "Chongqing                        576.0           6.0              542.0"
            ]
          },
          "metadata": {
            "tags": []
          },
          "execution_count": 15
        }
      ]
    },
    {
      "cell_type": "markdown",
      "metadata": {
        "id": "LYm2IK8ApmZg",
        "colab_type": "text"
      },
      "source": [
        "> Vamos criar um grafico para visualizar melhor essas províncias ou estados que foram afetados "
      ]
    },
    {
      "cell_type": "code",
      "metadata": {
        "id": "lIqEa6Sqpq3s",
        "colab_type": "code",
        "outputId": "447711c0-b56f-48c5-bc07-c00aabcf9292",
        "colab": {
          "base_uri": "https://localhost:8080/",
          "height": 436
        }
      },
      "source": [
        "#Gráfico de barra para as provincias ou estados da China que mais foram afetados\n",
        "provincia_estado = china.groupby('provincia_ou_estado')['casos_confirmados','casos_mortes','casos_recuperados'].nunique().sort_values(by='casos_confirmados', ascending = False)[:10]\n",
        "\n",
        "fig, ax = plt.subplots(figsize=(15,6))\n",
        "\n",
        "provincia_estado.plot(kind='bar', ax=ax)\n",
        "ax.set_title('Províncias ou estados da China que mais foram afetados')\n",
        "ax.set_ylabel('Quantidade de casos')\n",
        "ax.set_xlabel('Nome da provincia ou estado')\n",
        "plt.tight_layout()"
      ],
      "execution_count": 0,
      "outputs": [
        {
          "output_type": "display_data",
          "data": {
            "image/png": "[encoded data removed]",
            "text/plain": [
              "<Figure size 1080x432 with 1 Axes>"
            ]
          },
          "metadata": {
            "tags": []
          }
        }
      ]
    },
    {
      "cell_type": "markdown",
      "metadata": {
        "id": "3Pq5csL9HmQQ",
        "colab_type": "text"
      },
      "source": [
        "Nota-se que em sua maioria a China conta com estados ou províncias com maior número de casos recuperados do que de casos confirmados e com uma larga diferença dos casos de mortes. \n"
      ]
    },
    {
      "cell_type": "markdown",
      "metadata": {
        "id": "Kg30xgMGxMvo",
        "colab_type": "text"
      },
      "source": [
        "**Qual a porcentagem de mortos sobre os casos confirmados?**"
      ]
    },
    {
      "cell_type": "code",
      "metadata": {
        "id": "rZQBDt9exvru",
        "colab_type": "code",
        "outputId": "5190051b-b941-48ef-b6f9-ce6d506a35c4",
        "colab": {
          "base_uri": "https://localhost:8080/",
          "height": 33
        }
      },
      "source": [
        "print(f'Porcentagem de Casos de Mortes: {(china[\"casos_mortes\"].max() / china[\"casos_confirmados\"].max())*100}')"
      ],
      "execution_count": 0,
      "outputs": [
        {
          "output_type": "stream",
          "text": [
            "Porcentagem de Casos de Mortes: 4.440311176062471\n"
          ],
          "name": "stdout"
        }
      ]
    },
    {
      "cell_type": "code",
      "metadata": {
        "id": "kdLyqK7SGMfW",
        "colab_type": "code",
        "outputId": "dfa3ceda-9379-4dc2-ed25-74760ff79246",
        "colab": {
          "base_uri": "https://localhost:8080/",
          "height": 33
        }
      },
      "source": [
        "print(f'Porcentagem de Casos Recuperados: {(china[\"casos_recuperados\"].max() / china[\"casos_confirmados\"].max())*100}')"
      ],
      "execution_count": 0,
      "outputs": [
        {
          "output_type": "stream",
          "text": [
            "Porcentagem de Casos Recuperados: 68.62406447898675\n"
          ],
          "name": "stdout"
        }
      ]
    },
    {
      "cell_type": "markdown",
      "metadata": {
        "id": "HxHCprKZ7QkQ",
        "colab_type": "text"
      },
      "source": [
        "# **Analisando os dados do Brasil**"
      ]
    },
    {
      "cell_type": "markdown",
      "metadata": {
        "id": "zgrAiLCkOJas",
        "colab_type": "text"
      },
      "source": [
        "Como já dito anteriormente, o registro de dados no nosso dataset se inicia no dia **22/01** e se encerra no dia que eu o coletei, **09/03**.\n",
        "\n",
        "Porém, a partir dos dias **09/03** e **08/03** o Brasil começou a iniciar oque poderíamos chamar de pico do coronavírus, aumentando o seu número de casos confirmados. Então, resolvi coletar um novo dataset no dia **13/03** e compararmos o crescimento do vírus em nosso país."
      ]
    },
    {
      "cell_type": "code",
      "metadata": {
        "id": "U6LP_28W7Svt",
        "colab_type": "code",
        "outputId": "b6b3c96b-68f7-44af-f7c4-1e7f6c2b1850",
        "colab": {
          "base_uri": "https://localhost:8080/",
          "height": 197
        }
      },
      "source": [
        "#Extraindo valores do Brasil da coluna País do df 22/01 ao 09/03\n",
        "brasil = df.loc[df['país'] == 'Brazil']\n",
        "\n",
        "brasil.head() "
      ],
      "execution_count": 0,
      "outputs": [
        {
          "output_type": "execute_result",
          "data": {
            "text/html": [
              "<div>\n",
              "<style scoped>\n",
              "    .dataframe tbody tr th:only-of-type {\n",
              "        vertical-align: middle;\n",
              "    }\n",
              "\n",
              "    .dataframe tbody tr th {\n",
              "        vertical-align: top;\n",
              "    }\n",
              "\n",
              "    .dataframe thead th {\n",
              "        text-align: right;\n",
              "    }\n",
              "</style>\n",
              "<table border=\"1\" class=\"dataframe\">\n",
              "  <thead>\n",
              "    <tr style=\"text-align: right;\">\n",
              "      <th></th>\n",
              "      <th>Nº de série</th>\n",
              "      <th>data_da_observaçao</th>\n",
              "      <th>provincia_ou_estado</th>\n",
              "      <th>país</th>\n",
              "      <th>ultima_atualizaçao</th>\n",
              "      <th>casos_confirmados</th>\n",
              "      <th>casos_mortes</th>\n",
              "      <th>casos_recuperados</th>\n",
              "    </tr>\n",
              "  </thead>\n",
              "  <tbody>\n",
              "    <tr>\n",
              "      <th>82</th>\n",
              "      <td>83</td>\n",
              "      <td>01/23/2020</td>\n",
              "      <td>NaN</td>\n",
              "      <td>Brazil</td>\n",
              "      <td>1/23/20 17:00</td>\n",
              "      <td>0.0</td>\n",
              "      <td>0.0</td>\n",
              "      <td>0.0</td>\n",
              "    </tr>\n",
              "    <tr>\n",
              "      <th>2455</th>\n",
              "      <td>2456</td>\n",
              "      <td>02/26/2020</td>\n",
              "      <td>NaN</td>\n",
              "      <td>Brazil</td>\n",
              "      <td>2020-02-26T23:53:02</td>\n",
              "      <td>1.0</td>\n",
              "      <td>0.0</td>\n",
              "      <td>0.0</td>\n",
              "    </tr>\n",
              "    <tr>\n",
              "      <th>2559</th>\n",
              "      <td>2560</td>\n",
              "      <td>02/27/2020</td>\n",
              "      <td>NaN</td>\n",
              "      <td>Brazil</td>\n",
              "      <td>2020-02-26T23:53:02</td>\n",
              "      <td>1.0</td>\n",
              "      <td>0.0</td>\n",
              "      <td>0.0</td>\n",
              "    </tr>\n",
              "    <tr>\n",
              "      <th>2668</th>\n",
              "      <td>2669</td>\n",
              "      <td>02/28/2020</td>\n",
              "      <td>NaN</td>\n",
              "      <td>Brazil</td>\n",
              "      <td>2020-02-26T23:53:02</td>\n",
              "      <td>1.0</td>\n",
              "      <td>0.0</td>\n",
              "      <td>0.0</td>\n",
              "    </tr>\n",
              "    <tr>\n",
              "      <th>2776</th>\n",
              "      <td>2777</td>\n",
              "      <td>02/29/2020</td>\n",
              "      <td>NaN</td>\n",
              "      <td>Brazil</td>\n",
              "      <td>2020-02-29T21:03:05</td>\n",
              "      <td>2.0</td>\n",
              "      <td>0.0</td>\n",
              "      <td>0.0</td>\n",
              "    </tr>\n",
              "  </tbody>\n",
              "</table>\n",
              "</div>"
            ],
            "text/plain": [
              "      Nº de série data_da_observaçao  ... casos_mortes casos_recuperados\n",
              "82             83         01/23/2020  ...          0.0               0.0\n",
              "2455         2456         02/26/2020  ...          0.0               0.0\n",
              "2559         2560         02/27/2020  ...          0.0               0.0\n",
              "2668         2669         02/28/2020  ...          0.0               0.0\n",
              "2776         2777         02/29/2020  ...          0.0               0.0\n",
              "\n",
              "[5 rows x 8 columns]"
            ]
          },
          "metadata": {
            "tags": []
          },
          "execution_count": 18
        }
      ]
    },
    {
      "cell_type": "code",
      "metadata": {
        "id": "VXB72XwvP2Aw",
        "colab_type": "code",
        "outputId": "0d18329f-6629-41f1-9fff-6da67888b853",
        "colab": {
          "base_uri": "https://localhost:8080/",
          "height": 197
        }
      },
      "source": [
        "#Extraindo valores do Brasil da coluna País do df2 22/01 ao 11/03\n",
        "brasil2 = df2.loc[df2['país'] == 'Brazil']\n",
        "\n",
        "brasil2.head() "
      ],
      "execution_count": 0,
      "outputs": [
        {
          "output_type": "execute_result",
          "data": {
            "text/html": [
              "<div>\n",
              "<style scoped>\n",
              "    .dataframe tbody tr th:only-of-type {\n",
              "        vertical-align: middle;\n",
              "    }\n",
              "\n",
              "    .dataframe tbody tr th {\n",
              "        vertical-align: top;\n",
              "    }\n",
              "\n",
              "    .dataframe thead th {\n",
              "        text-align: right;\n",
              "    }\n",
              "</style>\n",
              "<table border=\"1\" class=\"dataframe\">\n",
              "  <thead>\n",
              "    <tr style=\"text-align: right;\">\n",
              "      <th></th>\n",
              "      <th>Nº de série</th>\n",
              "      <th>data_da_observaçao</th>\n",
              "      <th>provincia_ou_estado</th>\n",
              "      <th>país</th>\n",
              "      <th>ultima_atualizaçao</th>\n",
              "      <th>casos_confirmados</th>\n",
              "      <th>casos_mortes</th>\n",
              "      <th>casos_recuperados</th>\n",
              "    </tr>\n",
              "  </thead>\n",
              "  <tbody>\n",
              "    <tr>\n",
              "      <th>82</th>\n",
              "      <td>83</td>\n",
              "      <td>01/23/2020</td>\n",
              "      <td>NaN</td>\n",
              "      <td>Brazil</td>\n",
              "      <td>1/23/20 17:00</td>\n",
              "      <td>0</td>\n",
              "      <td>0</td>\n",
              "      <td>0</td>\n",
              "    </tr>\n",
              "    <tr>\n",
              "      <th>2455</th>\n",
              "      <td>2456</td>\n",
              "      <td>02/26/2020</td>\n",
              "      <td>NaN</td>\n",
              "      <td>Brazil</td>\n",
              "      <td>2020-02-26T23:53:02</td>\n",
              "      <td>1</td>\n",
              "      <td>0</td>\n",
              "      <td>0</td>\n",
              "    </tr>\n",
              "    <tr>\n",
              "      <th>2559</th>\n",
              "      <td>2560</td>\n",
              "      <td>02/27/2020</td>\n",
              "      <td>NaN</td>\n",
              "      <td>Brazil</td>\n",
              "      <td>2020-02-26T23:53:02</td>\n",
              "      <td>1</td>\n",
              "      <td>0</td>\n",
              "      <td>0</td>\n",
              "    </tr>\n",
              "    <tr>\n",
              "      <th>2668</th>\n",
              "      <td>2669</td>\n",
              "      <td>02/28/2020</td>\n",
              "      <td>NaN</td>\n",
              "      <td>Brazil</td>\n",
              "      <td>2020-02-26T23:53:02</td>\n",
              "      <td>1</td>\n",
              "      <td>0</td>\n",
              "      <td>0</td>\n",
              "    </tr>\n",
              "    <tr>\n",
              "      <th>2776</th>\n",
              "      <td>2777</td>\n",
              "      <td>02/29/2020</td>\n",
              "      <td>NaN</td>\n",
              "      <td>Brazil</td>\n",
              "      <td>2020-02-29T21:03:05</td>\n",
              "      <td>2</td>\n",
              "      <td>0</td>\n",
              "      <td>0</td>\n",
              "    </tr>\n",
              "  </tbody>\n",
              "</table>\n",
              "</div>"
            ],
            "text/plain": [
              "      Nº de série data_da_observaçao  ... casos_mortes casos_recuperados\n",
              "82             83         01/23/2020  ...            0                 0\n",
              "2455         2456         02/26/2020  ...            0                 0\n",
              "2559         2560         02/27/2020  ...            0                 0\n",
              "2668         2669         02/28/2020  ...            0                 0\n",
              "2776         2777         02/29/2020  ...            0                 0\n",
              "\n",
              "[5 rows x 8 columns]"
            ]
          },
          "metadata": {
            "tags": []
          },
          "execution_count": 19
        }
      ]
    },
    {
      "cell_type": "markdown",
      "metadata": {
        "id": "QENVZsiXN95F",
        "colab_type": "text"
      },
      "source": [
        "**Brasil 22/01 ao 09/03**"
      ]
    },
    {
      "cell_type": "code",
      "metadata": {
        "id": "X_VHz3kyO86j",
        "colab_type": "code",
        "outputId": "78537e62-7792-492d-ab0b-b80409704197",
        "colab": {
          "base_uri": "https://localhost:8080/",
          "height": 50
        }
      },
      "source": [
        "#Data de inicio e fim\n",
        "print('Início: ', df.data_da_observaçao.min())\n",
        "print('Fim: ', df.data_da_observaçao.max())"
      ],
      "execution_count": 0,
      "outputs": [
        {
          "output_type": "stream",
          "text": [
            "Início:  01/22/2020\n",
            "Fim:  03/09/2020\n"
          ],
          "name": "stdout"
        }
      ]
    },
    {
      "cell_type": "markdown",
      "metadata": {
        "id": "oEDAhYTwO_gw",
        "colab_type": "text"
      },
      "source": [
        "Nota-se que este dataset se inicia no dia 22/01 e termina no dia **09/03**. \n",
        "\n",
        "Vamos visualizar como foi o crescimento do vírus no país até essa data, abaixo."
      ]
    },
    {
      "cell_type": "code",
      "metadata": {
        "id": "3rBdSfRk7l1p",
        "colab_type": "code",
        "outputId": "82244880-4cc5-4099-df0c-501166471833",
        "colab": {
          "base_uri": "https://localhost:8080/",
          "height": 364
        }
      },
      "source": [
        "evolucao_brasil = brasil.groupby('data_da_observaçao')['casos_confirmados', 'casos_mortes', 'casos_recuperados'].max()\n",
        "\n",
        "fig, ax = plt.subplots(figsize = (15,5))\n",
        "\n",
        "evolucao_brasil.plot(kind='line', marker='o', ax=ax)\n",
        "ax.set_title('Evolução de casos do coronavírus no Brasil')\n",
        "ax.set_xlabel('Data')\n",
        "ax.set_ylabel('Quantidade de casos')\n",
        "plt.tight_layout()"
      ],
      "execution_count": 0,
      "outputs": [
        {
          "output_type": "display_data",
          "data": {
            "image/png": "[encoded data removed]",
            "text/plain": [
              "<Figure size 1080x360 with 1 Axes>"
            ]
          },
          "metadata": {
            "tags": []
          }
        }
      ]
    },
    {
      "cell_type": "markdown",
      "metadata": {
        "id": "pEafOi1WM6Q6",
        "colab_type": "text"
      },
      "source": [
        "**Brasil 22/01 ao 11/03**"
      ]
    },
    {
      "cell_type": "code",
      "metadata": {
        "id": "O82czhiuQMRr",
        "colab_type": "code",
        "outputId": "91399955-caf0-4c6e-8291-14e53d8c2351",
        "colab": {
          "base_uri": "https://localhost:8080/",
          "height": 50
        }
      },
      "source": [
        "#Data de inicio e fim\n",
        "print('Início: ', df2.data_da_observaçao.min())\n",
        "print('Fim: ', df2.data_da_observaçao.max())"
      ],
      "execution_count": 0,
      "outputs": [
        {
          "output_type": "stream",
          "text": [
            "Início:  01/22/2020\n",
            "Fim:  03/11/20\n"
          ],
          "name": "stdout"
        }
      ]
    },
    {
      "cell_type": "markdown",
      "metadata": {
        "id": "pFhY8fhzQXWI",
        "colab_type": "text"
      },
      "source": [
        "Fica claro que o nosso segundo dataset, o **df2**, termina os seus registros de dados no dia **11/03**.\n",
        "\n",
        "Agora vamos comparar como foi o crescimento do vírus no páis do dia **08/03** ao dia **11/03**, abaixo."
      ]
    },
    {
      "cell_type": "code",
      "metadata": {
        "id": "IeqgMYxCL9ld",
        "colab_type": "code",
        "outputId": "10184e92-0305-40a2-9bf8-5ea310f6d381",
        "colab": {
          "base_uri": "https://localhost:8080/",
          "height": 364
        }
      },
      "source": [
        "evolucao_brasil2 = brasil2.groupby('data_da_observaçao')['casos_confirmados', 'casos_mortes', 'casos_recuperados'].max()\n",
        "\n",
        "fig, ax = plt.subplots(figsize = (15,5))\n",
        "\n",
        "evolucao_brasil2.plot(kind='line', marker='o', ax=ax)\n",
        "ax.set_title('Evolução de casos do coronavírus no Brasil')\n",
        "ax.set_xlabel('Data')\n",
        "ax.set_ylabel('Quantidade de casos')\n",
        "plt.tight_layout()"
      ],
      "execution_count": 0,
      "outputs": [
        {
          "output_type": "display_data",
          "data": {
            "image/png": "[encoded data removed]",
            "text/plain": [
              "<Figure size 1080x360 with 1 Axes>"
            ]
          },
          "metadata": {
            "tags": []
          }
        }
      ]
    },
    {
      "cell_type": "markdown",
      "metadata": {
        "id": "LzndVrv3RBwV",
        "colab_type": "text"
      },
      "source": [
        "Se analisarmos e compararmos com calma os dois gráficos que mostram a evolução do coronavírus no Brasil. Podemos identificar que do dia **08/03** ao dia **11/03** o país teve um crescimento aproximado de mais de 20 casos confirmados."
      ]
    },
    {
      "cell_type": "markdown",
      "metadata": {
        "id": "vzFxjTdp3vY_",
        "colab_type": "text"
      },
      "source": [
        "# **Conclusão**"
      ]
    },
    {
      "cell_type": "markdown",
      "metadata": {
        "id": "AuYe1o7HrB9v",
        "colab_type": "text"
      },
      "source": [
        "O que se pode concluir é que cada país vai passar por um pico do vírus e a forma de como as autoridades do país vão responder, está claramente ligada ao número de casos confirmados, casos de mortes e casos recuperados que o país irá apresentar. \n",
        "\n",
        "Na análise feita foi identificado que a China já apresenta um número maior de casos recuperados do que de casos de mortes. Países como Estados Unidos, França, Coreia do Sul e Irã estão entrando no pico do vírus, apresentando um número maior de casos de mortes do que de casos recuperados. Países como Brasil e Canadá começaram a ter seus primeiros grandes choques com o vírus. Lembra-se que essa análise foi baseada em uma base de dados disponibilizada pela Johns Hopkins University. "
      ]
    }
  ]
}