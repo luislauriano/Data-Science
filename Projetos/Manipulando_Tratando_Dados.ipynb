{
  "nbformat": 4,
  "nbformat_minor": 0,
  "metadata": {
    "colab": {
      "name": "Projeto_DesafioFinal.ipynb",
      "provenance": [],
      "authorship_tag": "ABX9TyMTluHlJObunknjMzie1RES",
      "include_colab_link": true
    },
    "kernelspec": {
      "name": "python3",
      "display_name": "Python 3"
    }
  },
  "cells": [
    {
      "cell_type": "markdown",
      "metadata": {
        "id": "view-in-github",
        "colab_type": "text"
      },
      "source": [
        "<a href=\"https://colab.research.google.com/github/luislauriano/data_science/blob/master/Manipulando_Tratando_Dados.ipynb\" target=\"_parent\"><img src=\"https://colab.research.google.com/assets/colab-badge.svg\" alt=\"Open In Colab\"/></a>"
      ]
    },
    {
      "cell_type": "markdown",
      "metadata": {
        "id": "Cq8Xsy_32hyS",
        "colab_type": "text"
      },
      "source": [
        "# **Atividades**\n",
        "\n",
        "1. Leitura de arquivos\n",
        "2. Tratamento de dados\n",
        "   \n",
        "   2.1. Renomear colunas\n",
        "   \n",
        "   2.2. Verificar tipos\n",
        "   \n",
        "   2.3. Deletar dados\n",
        "3. Concatenar Tabelas\n",
        "   \n",
        "   3.1 Agrupamento de dados\n",
        "   \n",
        "4. Correlação de Tabelas\n",
        "5. Regra de Negócio\n",
        "6. Exportar Dados"
      ]
    },
    {
      "cell_type": "markdown",
      "metadata": {
        "id": "3emU6dK83ang",
        "colab_type": "text"
      },
      "source": [
        "Ojetivo: Através da manipulação dos dados, preparar e tratar os dados dos conjunto de dados de vendas e detalhamento. Para gerar uma unica base de dados, que irá servir como relatório, indicador. "
      ]
    },
    {
      "cell_type": "markdown",
      "metadata": {
        "id": "KoRf_kyF4rVg",
        "colab_type": "text"
      },
      "source": [
        "# **Importar biblioteca**"
      ]
    },
    {
      "cell_type": "markdown",
      "metadata": {
        "id": "xXaIviCNuplb",
        "colab_type": "text"
      },
      "source": [
        "Primeiro precisamos importar a biblioteca que iremos utilizar para manipular os dados, neste caso a biblioteca Pandas"
      ]
    },
    {
      "cell_type": "code",
      "metadata": {
        "id": "7X1bIjc14IxZ",
        "colab_type": "code",
        "colab": {}
      },
      "source": [
        "import pandas as pd"
      ],
      "execution_count": 0,
      "outputs": []
    },
    {
      "cell_type": "markdown",
      "metadata": {
        "id": "41RW2g9d4yYn",
        "colab_type": "text"
      },
      "source": [
        "# **Leitura de arquivos**"
      ]
    },
    {
      "cell_type": "markdown",
      "metadata": {
        "id": "XqasrL4LvbmM",
        "colab_type": "text"
      },
      "source": [
        "Antes de tudo é preciso abrir o arquivo e visualizá-lo com calma, para obter informações de como os dados estão separados, se foi pulada alguma linha antes de iniciar a tabela e se o arquivo está dividido por abas, se for arquivo xlsx.  "
      ]
    },
    {
      "cell_type": "markdown",
      "metadata": {
        "id": "qCLjPMLy8N2W",
        "colab_type": "text"
      },
      "source": [
        "# Arquivos CSV"
      ]
    },
    {
      "cell_type": "markdown",
      "metadata": {
        "id": "jhf85rckwQdw",
        "colab_type": "text"
      },
      "source": [
        "Veja o formato de leitura de um arquivo em CSV:"
      ]
    },
    {
      "cell_type": "markdown",
      "metadata": {
        "id": "xbJiu9GEwbss",
        "colab_type": "text"
      },
      "source": [
        "df = pd.read_csv(‘nome_do_arquivo.csv’, sep = ’caracter que separa os dados’, skiprows = número de linhas a serem puladas)"
      ]
    },
    {
      "cell_type": "markdown",
      "metadata": {
        "id": "Y2IOP5o-wmB2",
        "colab_type": "text"
      },
      "source": [
        "Agora vamos ler o nosso arquivo **Vendas** que está no formato CSV"
      ]
    },
    {
      "cell_type": "code",
      "metadata": {
        "id": "pR3N-j2V8Qz-",
        "colab_type": "code",
        "colab": {}
      },
      "source": [
        "df_vendas = pd.read_csv('vendas.csv', sep ='|')"
      ],
      "execution_count": 0,
      "outputs": []
    },
    {
      "cell_type": "markdown",
      "metadata": {
        "id": "e4UPHjZC8U0H",
        "colab_type": "text"
      },
      "source": [
        "# Arquivos XLSX"
      ]
    },
    {
      "cell_type": "markdown",
      "metadata": {
        "id": "_dj_dwprw4DY",
        "colab_type": "text"
      },
      "source": [
        "Os arquivos no formato XLSX são aqueles arquivos conhecidos como Excel "
      ]
    },
    {
      "cell_type": "markdown",
      "metadata": {
        "id": "fI9ECBQEwxxw",
        "colab_type": "text"
      },
      "source": [
        "Veja o formato de leitura de um arquivo em XLSX:"
      ]
    },
    {
      "cell_type": "markdown",
      "metadata": {
        "id": "H_7T_42Jw-40",
        "colab_type": "text"
      },
      "source": [
        "df = pd.read_excel(‘nome_do_arquivo.xlsx’, sheet_name = ‘nome da aba’, skiprows = número de linhas a serem pulada)"
      ]
    },
    {
      "cell_type": "markdown",
      "metadata": {
        "id": "WX0R9qAwxH84",
        "colab_type": "text"
      },
      "source": [
        "Veja que o nosso arquivo XLSX possue mais de uma aba, pois possue uma aba para cada estado que o nosso arquivo detalhamento está localizado e também foi preciso pular 1 linha para iniciar a tabela. Precisamos construir um conjunto de dados para cada aba e depois que os dados forem tratados á juntamos."
      ]
    },
    {
      "cell_type": "code",
      "metadata": {
        "id": "azb_Ym-X4wlG",
        "colab_type": "code",
        "colab": {}
      },
      "source": [
        "df_detalhamentoAM = pd.read_excel('detalhamento.xlsx', sheet_name='AM', skiprows=1 )\n",
        "df_detalhamentoRR = pd.read_excel('detalhamento.xlsx', sheet_name='RR', skiprows=1 )\n",
        "df_detalhamentoRO = pd.read_excel('detalhamento.xlsx', sheet_name='RO', skiprows=1 )\n",
        "df_detalhamentoAC = pd.read_excel('detalhamento.xlsx', sheet_name='AC', skiprows=1 )"
      ],
      "execution_count": 0,
      "outputs": []
    },
    {
      "cell_type": "markdown",
      "metadata": {
        "id": "u5k9XhXS8m_2",
        "colab_type": "text"
      },
      "source": [
        "# **Tratamento de Dados**"
      ]
    },
    {
      "cell_type": "markdown",
      "metadata": {
        "id": "iRY_uUuOxtLT",
        "colab_type": "text"
      },
      "source": [
        "A etapa de tratamento e preparação dos dados é a etapa que mais consome tempo do cientista de dados, devido que essa etapa impacta todo o resto do seu projeto. \n",
        "\n"
      ]
    },
    {
      "cell_type": "markdown",
      "metadata": {
        "id": "K9y_tRY28rDq",
        "colab_type": "text"
      },
      "source": [
        "## Renomeando colunas"
      ]
    },
    {
      "cell_type": "markdown",
      "metadata": {
        "id": "rl1uH8D1yEJk",
        "colab_type": "text"
      },
      "source": [
        "De acordo com as boas práticas de programação todas as colunas devem possuir letras minúsculas, sem caracteres especiais e sem espaços. Para facilitar o trabalho quando for preciso chamar essas colunas."
      ]
    },
    {
      "cell_type": "markdown",
      "metadata": {
        "id": "UJ9oSccyyZXa",
        "colab_type": "text"
      },
      "source": [
        "Para renomear uma ou mais colunas se utiliza o formato como um dicionário em python:"
      ]
    },
    {
      "cell_type": "markdown",
      "metadata": {
        "id": "qC2yhHuvyg6k",
        "colab_type": "text"
      },
      "source": [
        "df = df.rename(columns={‘coluna1’:’novo_nome1’, ‘coluna2’:’novo_nome2’})"
      ]
    },
    {
      "cell_type": "markdown",
      "metadata": {
        "id": "xH3yCHqKy0F7",
        "colab_type": "text"
      },
      "source": [
        "Para renomear todas as colunas se utiliza o formato como uma lista em python:"
      ]
    },
    {
      "cell_type": "markdown",
      "metadata": {
        "id": "EaLo_wXty4ZK",
        "colab_type": "text"
      },
      "source": [
        "df.columns = [‘novo_nome1’, ‘novo_nome2’]"
      ]
    },
    {
      "cell_type": "markdown",
      "metadata": {
        "id": "hdzWExuty9dI",
        "colab_type": "text"
      },
      "source": [
        "Vamos agora renomear todas as colunas dos conjuntos de dados de vendas e detalhamentos. "
      ]
    },
    {
      "cell_type": "code",
      "metadata": {
        "id": "Zjd93Kcn87jm",
        "colab_type": "code",
        "outputId": "e2c5bbaf-aaaf-492b-970d-5e42338e98e7",
        "colab": {
          "base_uri": "https://localhost:8080/",
          "height": 142
        }
      },
      "source": [
        "df_vendas.columns = ['escritorio', 'operadora', 'material', 'data', 'valor_liquido']\n",
        "df_vendas.head(3)"
      ],
      "execution_count": 0,
      "outputs": [
        {
          "output_type": "execute_result",
          "data": {
            "text/html": [
              "<div>\n",
              "<style scoped>\n",
              "    .dataframe tbody tr th:only-of-type {\n",
              "        vertical-align: middle;\n",
              "    }\n",
              "\n",
              "    .dataframe tbody tr th {\n",
              "        vertical-align: top;\n",
              "    }\n",
              "\n",
              "    .dataframe thead th {\n",
              "        text-align: right;\n",
              "    }\n",
              "</style>\n",
              "<table border=\"1\" class=\"dataframe\">\n",
              "  <thead>\n",
              "    <tr style=\"text-align: right;\">\n",
              "      <th></th>\n",
              "      <th>escritorio</th>\n",
              "      <th>operadora</th>\n",
              "      <th>material</th>\n",
              "      <th>data</th>\n",
              "      <th>valor_liquido</th>\n",
              "    </tr>\n",
              "  </thead>\n",
              "  <tbody>\n",
              "    <tr>\n",
              "      <th>0</th>\n",
              "      <td>101</td>\n",
              "      <td>Vivo</td>\n",
              "      <td>131318             RECARGA VIRTUAL VIVO R$ 1,00</td>\n",
              "      <td>02.01.2020</td>\n",
              "      <td>20.0</td>\n",
              "    </tr>\n",
              "    <tr>\n",
              "      <th>1</th>\n",
              "      <td>101</td>\n",
              "      <td>Vivo</td>\n",
              "      <td>131318             RECARGA VIRTUAL VIVO R$ 1,00</td>\n",
              "      <td>30.12.2019</td>\n",
              "      <td>10.0</td>\n",
              "    </tr>\n",
              "    <tr>\n",
              "      <th>2</th>\n",
              "      <td>101</td>\n",
              "      <td>Vivo</td>\n",
              "      <td>131318             RECARGA VIRTUAL VIVO R$ 1,00</td>\n",
              "      <td>04.01.2020</td>\n",
              "      <td>20.0</td>\n",
              "    </tr>\n",
              "  </tbody>\n",
              "</table>\n",
              "</div>"
            ],
            "text/plain": [
              "   escritorio operadora  ...        data valor_liquido\n",
              "0         101      Vivo  ...  02.01.2020          20.0\n",
              "1         101      Vivo  ...  30.12.2019          10.0\n",
              "2         101      Vivo  ...  04.01.2020          20.0\n",
              "\n",
              "[3 rows x 5 columns]"
            ]
          },
          "metadata": {
            "tags": []
          },
          "execution_count": 550
        }
      ]
    },
    {
      "cell_type": "code",
      "metadata": {
        "id": "71Vav_rn89GO",
        "colab_type": "code",
        "outputId": "fc03a6f9-681d-406e-90ad-8ec0e7f76359",
        "colab": {
          "base_uri": "https://localhost:8080/",
          "height": 142
        }
      },
      "source": [
        "df_detalhamentoAM.columns = ['loja', 'escritorio', 'uf', 'operadora', 'valor_bruto']\n",
        "df_detalhamentoAM.head(3)"
      ],
      "execution_count": 0,
      "outputs": [
        {
          "output_type": "execute_result",
          "data": {
            "text/html": [
              "<div>\n",
              "<style scoped>\n",
              "    .dataframe tbody tr th:only-of-type {\n",
              "        vertical-align: middle;\n",
              "    }\n",
              "\n",
              "    .dataframe tbody tr th {\n",
              "        vertical-align: top;\n",
              "    }\n",
              "\n",
              "    .dataframe thead th {\n",
              "        text-align: right;\n",
              "    }\n",
              "</style>\n",
              "<table border=\"1\" class=\"dataframe\">\n",
              "  <thead>\n",
              "    <tr style=\"text-align: right;\">\n",
              "      <th></th>\n",
              "      <th>loja</th>\n",
              "      <th>escritorio</th>\n",
              "      <th>uf</th>\n",
              "      <th>operadora</th>\n",
              "      <th>valor_bruto</th>\n",
              "    </tr>\n",
              "  </thead>\n",
              "  <tbody>\n",
              "    <tr>\n",
              "      <th>0</th>\n",
              "      <td>BEMOL AVENIDA</td>\n",
              "      <td>103</td>\n",
              "      <td>AM</td>\n",
              "      <td>Claro</td>\n",
              "      <td>2651</td>\n",
              "    </tr>\n",
              "    <tr>\n",
              "      <th>1</th>\n",
              "      <td>BEMOL AVENIDA</td>\n",
              "      <td>103</td>\n",
              "      <td>AM</td>\n",
              "      <td>Oi</td>\n",
              "      <td>3309</td>\n",
              "    </tr>\n",
              "    <tr>\n",
              "      <th>2</th>\n",
              "      <td>BEMOL AVENIDA</td>\n",
              "      <td>103</td>\n",
              "      <td>AM</td>\n",
              "      <td>Tim</td>\n",
              "      <td>1550</td>\n",
              "    </tr>\n",
              "  </tbody>\n",
              "</table>\n",
              "</div>"
            ],
            "text/plain": [
              "            loja  escritorio  uf operadora  valor_bruto\n",
              "0  BEMOL AVENIDA         103  AM     Claro         2651\n",
              "1  BEMOL AVENIDA         103  AM        Oi         3309\n",
              "2  BEMOL AVENIDA         103  AM       Tim         1550"
            ]
          },
          "metadata": {
            "tags": []
          },
          "execution_count": 551
        }
      ]
    },
    {
      "cell_type": "code",
      "metadata": {
        "id": "pLTqJdlm-zmJ",
        "colab_type": "code",
        "outputId": "b4097f47-3aa4-42ea-d3b7-0a6ad7e04f48",
        "colab": {
          "base_uri": "https://localhost:8080/",
          "height": 142
        }
      },
      "source": [
        "df_detalhamentoRR.columns = ['loja', 'escritorio', 'uf', 'operadora', 'valor_bruto']\n",
        "df_detalhamentoRR.head(3)"
      ],
      "execution_count": 0,
      "outputs": [
        {
          "output_type": "execute_result",
          "data": {
            "text/html": [
              "<div>\n",
              "<style scoped>\n",
              "    .dataframe tbody tr th:only-of-type {\n",
              "        vertical-align: middle;\n",
              "    }\n",
              "\n",
              "    .dataframe tbody tr th {\n",
              "        vertical-align: top;\n",
              "    }\n",
              "\n",
              "    .dataframe thead th {\n",
              "        text-align: right;\n",
              "    }\n",
              "</style>\n",
              "<table border=\"1\" class=\"dataframe\">\n",
              "  <thead>\n",
              "    <tr style=\"text-align: right;\">\n",
              "      <th></th>\n",
              "      <th>loja</th>\n",
              "      <th>escritorio</th>\n",
              "      <th>uf</th>\n",
              "      <th>operadora</th>\n",
              "      <th>valor_bruto</th>\n",
              "    </tr>\n",
              "  </thead>\n",
              "  <tbody>\n",
              "    <tr>\n",
              "      <th>0</th>\n",
              "      <td>BEMOL BOA VISTA</td>\n",
              "      <td>701</td>\n",
              "      <td>RR</td>\n",
              "      <td>Claro</td>\n",
              "      <td>140</td>\n",
              "    </tr>\n",
              "    <tr>\n",
              "      <th>1</th>\n",
              "      <td>BEMOL BOA VISTA</td>\n",
              "      <td>701</td>\n",
              "      <td>RR</td>\n",
              "      <td>Oi</td>\n",
              "      <td>20</td>\n",
              "    </tr>\n",
              "    <tr>\n",
              "      <th>2</th>\n",
              "      <td>BEMOL BOA VISTA</td>\n",
              "      <td>701</td>\n",
              "      <td>RR</td>\n",
              "      <td>Tim</td>\n",
              "      <td>135</td>\n",
              "    </tr>\n",
              "  </tbody>\n",
              "</table>\n",
              "</div>"
            ],
            "text/plain": [
              "              loja  escritorio  uf operadora  valor_bruto\n",
              "0  BEMOL BOA VISTA         701  RR     Claro          140\n",
              "1  BEMOL BOA VISTA         701  RR        Oi           20\n",
              "2  BEMOL BOA VISTA         701  RR       Tim          135"
            ]
          },
          "metadata": {
            "tags": []
          },
          "execution_count": 552
        }
      ]
    },
    {
      "cell_type": "code",
      "metadata": {
        "id": "LYYiy5Pa-6zg",
        "colab_type": "code",
        "outputId": "90d7db70-519f-44ef-b464-3f3de401a849",
        "colab": {
          "base_uri": "https://localhost:8080/",
          "height": 142
        }
      },
      "source": [
        "df_detalhamentoRO.columns = ['loja', 'escritorio', 'uf', 'operadora', 'valor_bruto']\n",
        "df_detalhamentoRO.head(3)"
      ],
      "execution_count": 0,
      "outputs": [
        {
          "output_type": "execute_result",
          "data": {
            "text/html": [
              "<div>\n",
              "<style scoped>\n",
              "    .dataframe tbody tr th:only-of-type {\n",
              "        vertical-align: middle;\n",
              "    }\n",
              "\n",
              "    .dataframe tbody tr th {\n",
              "        vertical-align: top;\n",
              "    }\n",
              "\n",
              "    .dataframe thead th {\n",
              "        text-align: right;\n",
              "    }\n",
              "</style>\n",
              "<table border=\"1\" class=\"dataframe\">\n",
              "  <thead>\n",
              "    <tr style=\"text-align: right;\">\n",
              "      <th></th>\n",
              "      <th>loja</th>\n",
              "      <th>escritorio</th>\n",
              "      <th>uf</th>\n",
              "      <th>operadora</th>\n",
              "      <th>valor_bruto</th>\n",
              "    </tr>\n",
              "  </thead>\n",
              "  <tbody>\n",
              "    <tr>\n",
              "      <th>0</th>\n",
              "      <td>BEMOL FARMA PORTO VELHO</td>\n",
              "      <td>609</td>\n",
              "      <td>RO</td>\n",
              "      <td>Claro</td>\n",
              "      <td>486</td>\n",
              "    </tr>\n",
              "    <tr>\n",
              "      <th>1</th>\n",
              "      <td>BEMOL FARMA PORTO VELHO</td>\n",
              "      <td>609</td>\n",
              "      <td>RO</td>\n",
              "      <td>Oi</td>\n",
              "      <td>90</td>\n",
              "    </tr>\n",
              "    <tr>\n",
              "      <th>2</th>\n",
              "      <td>BEMOL FARMA PORTO VELHO</td>\n",
              "      <td>609</td>\n",
              "      <td>RO</td>\n",
              "      <td>Tim</td>\n",
              "      <td>90</td>\n",
              "    </tr>\n",
              "  </tbody>\n",
              "</table>\n",
              "</div>"
            ],
            "text/plain": [
              "                      loja  escritorio  uf operadora  valor_bruto\n",
              "0  BEMOL FARMA PORTO VELHO         609  RO     Claro          486\n",
              "1  BEMOL FARMA PORTO VELHO         609  RO        Oi           90\n",
              "2  BEMOL FARMA PORTO VELHO         609  RO       Tim           90"
            ]
          },
          "metadata": {
            "tags": []
          },
          "execution_count": 553
        }
      ]
    },
    {
      "cell_type": "code",
      "metadata": {
        "id": "xTO0uH3i_IRA",
        "colab_type": "code",
        "outputId": "45a1e869-19c4-487d-9b66-723eea19c591",
        "colab": {
          "base_uri": "https://localhost:8080/",
          "height": 142
        }
      },
      "source": [
        "df_detalhamentoAC.columns = ['loja', 'escritorio', 'uf', 'operadora', 'valor_bruto']\n",
        "df_detalhamentoAC.head(3)"
      ],
      "execution_count": 0,
      "outputs": [
        {
          "output_type": "execute_result",
          "data": {
            "text/html": [
              "<div>\n",
              "<style scoped>\n",
              "    .dataframe tbody tr th:only-of-type {\n",
              "        vertical-align: middle;\n",
              "    }\n",
              "\n",
              "    .dataframe tbody tr th {\n",
              "        vertical-align: top;\n",
              "    }\n",
              "\n",
              "    .dataframe thead th {\n",
              "        text-align: right;\n",
              "    }\n",
              "</style>\n",
              "<table border=\"1\" class=\"dataframe\">\n",
              "  <thead>\n",
              "    <tr style=\"text-align: right;\">\n",
              "      <th></th>\n",
              "      <th>loja</th>\n",
              "      <th>escritorio</th>\n",
              "      <th>uf</th>\n",
              "      <th>operadora</th>\n",
              "      <th>valor_bruto</th>\n",
              "    </tr>\n",
              "  </thead>\n",
              "  <tbody>\n",
              "    <tr>\n",
              "      <th>0</th>\n",
              "      <td>BEMOL RIO BRANCO</td>\n",
              "      <td>401</td>\n",
              "      <td>AC</td>\n",
              "      <td>Claro</td>\n",
              "      <td>500</td>\n",
              "    </tr>\n",
              "    <tr>\n",
              "      <th>1</th>\n",
              "      <td>BEMOL RIO BRANCO</td>\n",
              "      <td>401</td>\n",
              "      <td>AC</td>\n",
              "      <td>Oi</td>\n",
              "      <td>375</td>\n",
              "    </tr>\n",
              "    <tr>\n",
              "      <th>2</th>\n",
              "      <td>BEMOL RIO BRANCO</td>\n",
              "      <td>401</td>\n",
              "      <td>AC</td>\n",
              "      <td>Tim</td>\n",
              "      <td>125</td>\n",
              "    </tr>\n",
              "  </tbody>\n",
              "</table>\n",
              "</div>"
            ],
            "text/plain": [
              "               loja  escritorio  uf operadora  valor_bruto\n",
              "0  BEMOL RIO BRANCO         401  AC     Claro          500\n",
              "1  BEMOL RIO BRANCO         401  AC        Oi          375\n",
              "2  BEMOL RIO BRANCO         401  AC       Tim          125"
            ]
          },
          "metadata": {
            "tags": []
          },
          "execution_count": 554
        }
      ]
    },
    {
      "cell_type": "markdown",
      "metadata": {
        "id": "XBJ7PUeX_ojb",
        "colab_type": "text"
      },
      "source": [
        "## Verificar tipos de dados"
      ]
    },
    {
      "cell_type": "markdown",
      "metadata": {
        "id": "-I8eyVFX_-kF",
        "colab_type": "text"
      },
      "source": [
        "### Verificar tipos"
      ]
    },
    {
      "cell_type": "markdown",
      "metadata": {
        "id": "0C0cv1GzzOoH",
        "colab_type": "text"
      },
      "source": [
        "Para verificar quais são os tipos de dados do nosso conjunto podemos utilizar a função dtype. \n",
        "Se queremos verificar os tipos de todas as colunas do conjunto de dados utiliza-se a função dtype no plural, dtypes. Veja o formato:"
      ]
    },
    {
      "cell_type": "markdown",
      "metadata": {
        "id": "tOd7MnUmz4uT",
        "colab_type": "text"
      },
      "source": [
        "df.dtypes"
      ]
    },
    {
      "cell_type": "markdown",
      "metadata": {
        "id": "ANqtD3eHz_dr",
        "colab_type": "text"
      },
      "source": [
        "Agora se queremos verificar o tipo dos dados de uma coluna específica do conjunto de dados, utiliza-se a função no singular, dtype. Veja o formato:"
      ]
    },
    {
      "cell_type": "markdown",
      "metadata": {
        "id": "LdMmVK4o0PLb",
        "colab_type": "text"
      },
      "source": [
        "df[‘coluna’].dtype"
      ]
    },
    {
      "cell_type": "markdown",
      "metadata": {
        "id": "CH34i62L0Smy",
        "colab_type": "text"
      },
      "source": [
        "Agora vamos verificar os tipos de todas as colunas dos nossos conjuntos de dados vendas e detalhamento."
      ]
    },
    {
      "cell_type": "code",
      "metadata": {
        "id": "9E4V0A1F_3ku",
        "colab_type": "code",
        "outputId": "72764df7-b485-4538-d414-b7515cf3f8fc",
        "colab": {
          "base_uri": "https://localhost:8080/",
          "height": 119
        }
      },
      "source": [
        "df_vendas.dtypes"
      ],
      "execution_count": 0,
      "outputs": [
        {
          "output_type": "execute_result",
          "data": {
            "text/plain": [
              "escritorio         int64\n",
              "operadora         object\n",
              "material          object\n",
              "data              object\n",
              "valor_liquido    float64\n",
              "dtype: object"
            ]
          },
          "metadata": {
            "tags": []
          },
          "execution_count": 555
        }
      ]
    },
    {
      "cell_type": "code",
      "metadata": {
        "id": "dPEgRE5qAEs0",
        "colab_type": "code",
        "outputId": "36bb18ca-0a92-433f-bfe5-28635b12672b",
        "colab": {
          "base_uri": "https://localhost:8080/",
          "height": 119
        }
      },
      "source": [
        "df_detalhamentoAM.dtypes"
      ],
      "execution_count": 0,
      "outputs": [
        {
          "output_type": "execute_result",
          "data": {
            "text/plain": [
              "loja           object\n",
              "escritorio      int64\n",
              "uf             object\n",
              "operadora      object\n",
              "valor_bruto     int64\n",
              "dtype: object"
            ]
          },
          "metadata": {
            "tags": []
          },
          "execution_count": 556
        }
      ]
    },
    {
      "cell_type": "code",
      "metadata": {
        "colab_type": "code",
        "outputId": "dc774eac-4afa-4a06-e651-8b68d91e5318",
        "id": "crpBh_3lAR4q",
        "colab": {
          "base_uri": "https://localhost:8080/",
          "height": 119
        }
      },
      "source": [
        "df_detalhamentoRR.dtypes"
      ],
      "execution_count": 0,
      "outputs": [
        {
          "output_type": "execute_result",
          "data": {
            "text/plain": [
              "loja           object\n",
              "escritorio      int64\n",
              "uf             object\n",
              "operadora      object\n",
              "valor_bruto     int64\n",
              "dtype: object"
            ]
          },
          "metadata": {
            "tags": []
          },
          "execution_count": 557
        }
      ]
    },
    {
      "cell_type": "code",
      "metadata": {
        "colab_type": "code",
        "outputId": "aaa9b412-6553-4a47-d99c-ef332a1f52f9",
        "id": "nx7eR1kPAThv",
        "colab": {
          "base_uri": "https://localhost:8080/",
          "height": 119
        }
      },
      "source": [
        "df_detalhamentoRO.dtypes"
      ],
      "execution_count": 0,
      "outputs": [
        {
          "output_type": "execute_result",
          "data": {
            "text/plain": [
              "loja           object\n",
              "escritorio      int64\n",
              "uf             object\n",
              "operadora      object\n",
              "valor_bruto     int64\n",
              "dtype: object"
            ]
          },
          "metadata": {
            "tags": []
          },
          "execution_count": 558
        }
      ]
    },
    {
      "cell_type": "code",
      "metadata": {
        "colab_type": "code",
        "outputId": "f4e2652b-3a11-463d-a19c-60d8a4fd0067",
        "id": "hoVPgUY0AVRy",
        "colab": {
          "base_uri": "https://localhost:8080/",
          "height": 119
        }
      },
      "source": [
        "df_detalhamentoAC.dtypes"
      ],
      "execution_count": 0,
      "outputs": [
        {
          "output_type": "execute_result",
          "data": {
            "text/plain": [
              "loja           object\n",
              "escritorio      int64\n",
              "uf             object\n",
              "operadora      object\n",
              "valor_bruto     int64\n",
              "dtype: object"
            ]
          },
          "metadata": {
            "tags": []
          },
          "execution_count": 559
        }
      ]
    },
    {
      "cell_type": "markdown",
      "metadata": {
        "id": "XGjBkpAcCvEl",
        "colab_type": "text"
      },
      "source": [
        "### Alterando tipo de uma coluna"
      ]
    },
    {
      "cell_type": "markdown",
      "metadata": {
        "id": "oJSFjF9O04m5",
        "colab_type": "text"
      },
      "source": [
        "Pode acontecer de uma coluna ser lida como um objeto em (string) e precisa estar como int ou float. Para alterar o tipo da coluna utilizamos a função astype. Veja o formato:"
      ]
    },
    {
      "cell_type": "markdown",
      "metadata": {
        "id": "5efvW4J21P_T",
        "colab_type": "text"
      },
      "source": [
        "df[‘coluna’] = df[‘coluna’].astype(float)"
      ]
    },
    {
      "cell_type": "markdown",
      "metadata": {
        "id": "0TQlXTCL1Weu",
        "colab_type": "text"
      },
      "source": [
        "Vamos precisar alterar o tipo da coluna **valor_liquido** do conjunto de dados de **vendas** para Int. "
      ]
    },
    {
      "cell_type": "code",
      "metadata": {
        "id": "sQs2tEPUCy8N",
        "colab_type": "code",
        "colab": {}
      },
      "source": [
        "df_vendas['valor_liquido'] = df_vendas['valor_liquido'].astype(int)"
      ],
      "execution_count": 0,
      "outputs": []
    },
    {
      "cell_type": "markdown",
      "metadata": {
        "id": "A7H5VO4FBz48",
        "colab_type": "text"
      },
      "source": [
        "## Deletar dados"
      ]
    },
    {
      "cell_type": "markdown",
      "metadata": {
        "id": "jyzfKwo21nGE",
        "colab_type": "text"
      },
      "source": [
        "Uma das formas de deletar colunas é utilizando a função drop. Veja:"
      ]
    },
    {
      "cell_type": "markdown",
      "metadata": {
        "id": "zao9vC1l16Cq",
        "colab_type": "text"
      },
      "source": [
        "df = df.drop([‘coluna1’, 'coluna2', 'coluna3'], axis = ‘columns’)"
      ]
    },
    {
      "cell_type": "markdown",
      "metadata": {
        "id": "9OiaSZep2GJ5",
        "colab_type": "text"
      },
      "source": [
        "Porém a melhor forma seria escolher as colunas que queremos utilizar e as outras colunas serão omitidas e não deletadas. Passando os nomes das colunas que desejamos utilizar e na ordem desejada. Veja o formato:"
      ]
    },
    {
      "cell_type": "markdown",
      "metadata": {
        "id": "uL8OVDFK2i22",
        "colab_type": "text"
      },
      "source": [
        "df = df[[‘coluna1’, ‘coluna2’]].copy() "
      ]
    },
    {
      "cell_type": "markdown",
      "metadata": {
        "id": "vuic7Rm_2s90",
        "colab_type": "text"
      },
      "source": [
        "A partir desse formato vamos escolher as colunas dos nossos conjuntos de dados que iremos utilizar. "
      ]
    },
    {
      "cell_type": "code",
      "metadata": {
        "id": "nCJn1Uh_B3k3",
        "colab_type": "code",
        "colab": {}
      },
      "source": [
        "df_vendas = df_vendas[['escritorio', 'operadora', 'valor_liquido']].copy()"
      ],
      "execution_count": 0,
      "outputs": []
    },
    {
      "cell_type": "code",
      "metadata": {
        "id": "sxtAfp0MCNph",
        "colab_type": "code",
        "colab": {}
      },
      "source": [
        "df_detalhamentoAM = df_detalhamentoAM[['loja', 'escritorio', 'operadora', 'valor_bruto']].copy()\n",
        "df_detalhamentoRR = df_detalhamentoRR[['loja', 'escritorio', 'operadora', 'valor_bruto']].copy()\n",
        "df_detalhamentoRO = df_detalhamentoRO[['loja', 'escritorio', 'operadora', 'valor_bruto']].copy()\n",
        "df_detalhamentoAC = df_detalhamentoAC[['loja', 'escritorio', 'operadora', 'valor_bruto']].copy()"
      ],
      "execution_count": 0,
      "outputs": []
    },
    {
      "cell_type": "markdown",
      "metadata": {
        "id": "DQVElJU-29Kx",
        "colab_type": "text"
      },
      "source": [
        "Também poderíamos deletar linhas utilizando a função drop, veja:"
      ]
    },
    {
      "cell_type": "markdown",
      "metadata": {
        "id": "4UwgH7NZ3Q_g",
        "colab_type": "text"
      },
      "source": [
        "df = df.drop([nome_da_linha], axis = ‘index’)"
      ]
    },
    {
      "cell_type": "markdown",
      "metadata": {
        "id": "c-0xnQOREOGl",
        "colab_type": "text"
      },
      "source": [
        "# Concatenar tabelas (Juntar tabelas)"
      ]
    },
    {
      "cell_type": "markdown",
      "metadata": {
        "id": "YGrQeH-G3ng2",
        "colab_type": "text"
      },
      "source": [
        "A concatenação de tabelas é utilizada quando desejamos unir duas ou mais tabelas que possuem os mesmos conjuntos de dados. Como os conjuntos de dados (tabelas) no formato XLSX que estão separados por abas. Veja o formato para concatenar tabelas:"
      ]
    },
    {
      "cell_type": "markdown",
      "metadata": {
        "id": "1e3WgIph4KoS",
        "colab_type": "text"
      },
      "source": [
        "df = pd.concat([df1, df2, df3])"
      ]
    },
    {
      "cell_type": "markdown",
      "metadata": {
        "id": "28YLEN554PoG",
        "colab_type": "text"
      },
      "source": [
        "Como temos quatro tabelas (conjunto de dados) que são iguais porém estão separados por abas, vamos juntar em um único conjunto de dados. Sendo eles:"
      ]
    },
    {
      "cell_type": "code",
      "metadata": {
        "id": "MTjNJyz8ESw4",
        "colab_type": "code",
        "outputId": "c1e8ea9b-23e7-45d6-b021-bc93bee5807a",
        "colab": {
          "base_uri": "https://localhost:8080/",
          "height": 68
        }
      },
      "source": [
        "print('Amazonas(AM): ')\n",
        "print(f'Linhas: {df_detalhamentoAM.shape[0]}')\n",
        "print(f'Colunas {df_detalhamentoAM.shape[1]}')"
      ],
      "execution_count": 0,
      "outputs": [
        {
          "output_type": "stream",
          "text": [
            "Amazonas(AM): \n",
            "Linhas: 126\n",
            "Colunas 4\n"
          ],
          "name": "stdout"
        }
      ]
    },
    {
      "cell_type": "code",
      "metadata": {
        "id": "_PA1z9m8Ezg0",
        "colab_type": "code",
        "outputId": "d39bc9de-082b-4331-d7e3-a35704ab99af",
        "colab": {
          "base_uri": "https://localhost:8080/",
          "height": 68
        }
      },
      "source": [
        "print('Roraima(RR): ')\n",
        "print(f'Linhas: {df_detalhamentoRR.shape[0]}')\n",
        "print(f'Colunas {df_detalhamentoRR.shape[1]}')"
      ],
      "execution_count": 0,
      "outputs": [
        {
          "output_type": "stream",
          "text": [
            "Roraima(RR): \n",
            "Linhas: 8\n",
            "Colunas 4\n"
          ],
          "name": "stdout"
        }
      ]
    },
    {
      "cell_type": "code",
      "metadata": {
        "id": "PisJfK7hFQaH",
        "colab_type": "code",
        "outputId": "19df1fba-e11b-4b02-ebd5-21ef06db4184",
        "colab": {
          "base_uri": "https://localhost:8080/",
          "height": 68
        }
      },
      "source": [
        "print('Rondônia(RO): ')\n",
        "print(f'Linhas: {df_detalhamentoRO.shape[0]}')\n",
        "print(f'Colunas {df_detalhamentoRO.shape[1]}')"
      ],
      "execution_count": 0,
      "outputs": [
        {
          "output_type": "stream",
          "text": [
            "Rondônia(RO): \n",
            "Linhas: 24\n",
            "Colunas 4\n"
          ],
          "name": "stdout"
        }
      ]
    },
    {
      "cell_type": "code",
      "metadata": {
        "id": "OBsTi0YQFmDR",
        "colab_type": "code",
        "outputId": "e6cd4f30-94ad-48f9-effd-946d89e4b32d",
        "colab": {
          "base_uri": "https://localhost:8080/",
          "height": 68
        }
      },
      "source": [
        "print('Acre(AC): ')\n",
        "print(f'Linhas: {df_detalhamentoAC.shape[0]}')\n",
        "print(f'Colunas {df_detalhamentoAC.shape[1]}')"
      ],
      "execution_count": 0,
      "outputs": [
        {
          "output_type": "stream",
          "text": [
            "Acre(AC): \n",
            "Linhas: 4\n",
            "Colunas 4\n"
          ],
          "name": "stdout"
        }
      ]
    },
    {
      "cell_type": "markdown",
      "metadata": {
        "id": "HCALI1SoGTmd",
        "colab_type": "text"
      },
      "source": [
        "Agora vamos unificar, concatenar todos esses conjuntos de dados em uma unica tabela (dataframe). "
      ]
    },
    {
      "cell_type": "code",
      "metadata": {
        "id": "FkpuDsmdFu7u",
        "colab_type": "code",
        "colab": {}
      },
      "source": [
        "df_detalhamento = pd.concat([df_detalhamentoAM,df_detalhamentoRR, df_detalhamentoRO, df_detalhamentoAC])"
      ],
      "execution_count": 0,
      "outputs": []
    },
    {
      "cell_type": "markdown",
      "metadata": {
        "id": "tE4Vt-9Q4-A8",
        "colab_type": "text"
      },
      "source": [
        "Após juntarmos as tabelas o index do pandas ficará fora de ordem, para ordenar o index novamente precisamos resetá-lo. "
      ]
    },
    {
      "cell_type": "code",
      "metadata": {
        "id": "e0I_QywJGwz2",
        "colab_type": "code",
        "outputId": "674ba9e6-f445-42e4-eff8-040cb7757475",
        "colab": {
          "base_uri": "https://localhost:8080/",
          "height": 419
        }
      },
      "source": [
        "df_detalhamento = df_detalhamento.reset_index(drop=True)\n",
        "df_detalhamento"
      ],
      "execution_count": 0,
      "outputs": [
        {
          "output_type": "execute_result",
          "data": {
            "text/html": [
              "<div>\n",
              "<style scoped>\n",
              "    .dataframe tbody tr th:only-of-type {\n",
              "        vertical-align: middle;\n",
              "    }\n",
              "\n",
              "    .dataframe tbody tr th {\n",
              "        vertical-align: top;\n",
              "    }\n",
              "\n",
              "    .dataframe thead th {\n",
              "        text-align: right;\n",
              "    }\n",
              "</style>\n",
              "<table border=\"1\" class=\"dataframe\">\n",
              "  <thead>\n",
              "    <tr style=\"text-align: right;\">\n",
              "      <th></th>\n",
              "      <th>loja</th>\n",
              "      <th>escritorio</th>\n",
              "      <th>operadora</th>\n",
              "      <th>valor_bruto</th>\n",
              "    </tr>\n",
              "  </thead>\n",
              "  <tbody>\n",
              "    <tr>\n",
              "      <th>0</th>\n",
              "      <td>BEMOL AVENIDA</td>\n",
              "      <td>103</td>\n",
              "      <td>Claro</td>\n",
              "      <td>2651</td>\n",
              "    </tr>\n",
              "    <tr>\n",
              "      <th>1</th>\n",
              "      <td>BEMOL AVENIDA</td>\n",
              "      <td>103</td>\n",
              "      <td>Oi</td>\n",
              "      <td>3309</td>\n",
              "    </tr>\n",
              "    <tr>\n",
              "      <th>2</th>\n",
              "      <td>BEMOL AVENIDA</td>\n",
              "      <td>103</td>\n",
              "      <td>Tim</td>\n",
              "      <td>1550</td>\n",
              "    </tr>\n",
              "    <tr>\n",
              "      <th>3</th>\n",
              "      <td>BEMOL AVENIDA</td>\n",
              "      <td>103</td>\n",
              "      <td>Vivo</td>\n",
              "      <td>4739</td>\n",
              "    </tr>\n",
              "    <tr>\n",
              "      <th>4</th>\n",
              "      <td>BEMOL BARROSO</td>\n",
              "      <td>107</td>\n",
              "      <td>Claro</td>\n",
              "      <td>1495</td>\n",
              "    </tr>\n",
              "    <tr>\n",
              "      <th>...</th>\n",
              "      <td>...</td>\n",
              "      <td>...</td>\n",
              "      <td>...</td>\n",
              "      <td>...</td>\n",
              "    </tr>\n",
              "    <tr>\n",
              "      <th>157</th>\n",
              "      <td>LOJA BEMOL JI-PARANA</td>\n",
              "      <td>205</td>\n",
              "      <td>Claro</td>\n",
              "      <td>123</td>\n",
              "    </tr>\n",
              "    <tr>\n",
              "      <th>158</th>\n",
              "      <td>BEMOL RIO BRANCO</td>\n",
              "      <td>401</td>\n",
              "      <td>Claro</td>\n",
              "      <td>500</td>\n",
              "    </tr>\n",
              "    <tr>\n",
              "      <th>159</th>\n",
              "      <td>BEMOL RIO BRANCO</td>\n",
              "      <td>401</td>\n",
              "      <td>Oi</td>\n",
              "      <td>375</td>\n",
              "    </tr>\n",
              "    <tr>\n",
              "      <th>160</th>\n",
              "      <td>BEMOL RIO BRANCO</td>\n",
              "      <td>401</td>\n",
              "      <td>Tim</td>\n",
              "      <td>125</td>\n",
              "    </tr>\n",
              "    <tr>\n",
              "      <th>161</th>\n",
              "      <td>BEMOL RIO BRANCO</td>\n",
              "      <td>401</td>\n",
              "      <td>Vivo</td>\n",
              "      <td>343</td>\n",
              "    </tr>\n",
              "  </tbody>\n",
              "</table>\n",
              "<p>162 rows × 4 columns</p>\n",
              "</div>"
            ],
            "text/plain": [
              "                     loja  escritorio operadora  valor_bruto\n",
              "0           BEMOL AVENIDA         103     Claro         2651\n",
              "1           BEMOL AVENIDA         103        Oi         3309\n",
              "2           BEMOL AVENIDA         103       Tim         1550\n",
              "3           BEMOL AVENIDA         103      Vivo         4739\n",
              "4           BEMOL BARROSO         107     Claro         1495\n",
              "..                    ...         ...       ...          ...\n",
              "157  LOJA BEMOL JI-PARANA         205     Claro          123\n",
              "158      BEMOL RIO BRANCO         401     Claro          500\n",
              "159      BEMOL RIO BRANCO         401        Oi          375\n",
              "160      BEMOL RIO BRANCO         401       Tim          125\n",
              "161      BEMOL RIO BRANCO         401      Vivo          343\n",
              "\n",
              "[162 rows x 4 columns]"
            ]
          },
          "metadata": {
            "tags": []
          },
          "execution_count": 568
        }
      ]
    },
    {
      "cell_type": "markdown",
      "metadata": {
        "id": "V5o4Rov1MnhI",
        "colab_type": "text"
      },
      "source": [
        "## Agrupamento de dados"
      ]
    },
    {
      "cell_type": "markdown",
      "metadata": {
        "id": "hggwPjdq5fTE",
        "colab_type": "text"
      },
      "source": [
        "O agrupamento consiste em juntar itens iguais do conjunto de dados e sempre vem acompanhado de uma função para agrupar uma coluna e outra função aggregate que vai ditar o que acontecerá com as linhas das outras colunas. Veja o formato: "
      ]
    },
    {
      "cell_type": "markdown",
      "metadata": {
        "id": "4kYDDaG16CZS",
        "colab_type": "text"
      },
      "source": [
        "df =df.groupby( [ ‘coluna1’, ’coluna2’ ].agg({‘coluna3’ : ‘metodo’, ‘coluna4’\n",
        ",‘metodo’ } ).reset_index()"
      ]
    },
    {
      "cell_type": "markdown",
      "metadata": {
        "id": "47wBkwck6cc9",
        "colab_type": "text"
      },
      "source": [
        "Existem diversos métodos que podem ser usados para as linhas que estão se repetindo das outras colunas que não forão agrupadas. Os mais utilizados são mean (média), sum (soma), max (maior valor), min (menor valor), first (primeiro valor), last (último valor)"
      ]
    },
    {
      "cell_type": "markdown",
      "metadata": {
        "id": "v8AbC92562zf",
        "colab_type": "text"
      },
      "source": [
        "Vamos agora **agrupar** o nosso conjunto de dados de vendas por as colunas **operadora** e **escritorio**, para as outras colunas, utilizaremos o método **sum** para as linhas que estão se repetindo, assim o método irá somar as linhas que se repetem na coluna e transformar em um único registro (linha).  "
      ]
    },
    {
      "cell_type": "code",
      "metadata": {
        "id": "UgK_bDLSOGU4",
        "colab_type": "code",
        "outputId": "f7f33063-66df-481a-dce7-994813efc28b",
        "colab": {
          "base_uri": "https://localhost:8080/",
          "height": 419
        }
      },
      "source": [
        "df_vendas = df_vendas.groupby(['operadora', 'escritorio']).agg({'valor_liquido':'sum'})\n",
        "df_vendas.sort_values(ascending=False, by='valor_liquido').reset_index()"
      ],
      "execution_count": 0,
      "outputs": [
        {
          "output_type": "execute_result",
          "data": {
            "text/html": [
              "<div>\n",
              "<style scoped>\n",
              "    .dataframe tbody tr th:only-of-type {\n",
              "        vertical-align: middle;\n",
              "    }\n",
              "\n",
              "    .dataframe tbody tr th {\n",
              "        vertical-align: top;\n",
              "    }\n",
              "\n",
              "    .dataframe thead th {\n",
              "        text-align: right;\n",
              "    }\n",
              "</style>\n",
              "<table border=\"1\" class=\"dataframe\">\n",
              "  <thead>\n",
              "    <tr style=\"text-align: right;\">\n",
              "      <th></th>\n",
              "      <th>operadora</th>\n",
              "      <th>escritorio</th>\n",
              "      <th>valor_liquido</th>\n",
              "    </tr>\n",
              "  </thead>\n",
              "  <tbody>\n",
              "    <tr>\n",
              "      <th>0</th>\n",
              "      <td>Vivo</td>\n",
              "      <td>103</td>\n",
              "      <td>4739</td>\n",
              "    </tr>\n",
              "    <tr>\n",
              "      <th>1</th>\n",
              "      <td>Vivo</td>\n",
              "      <td>115</td>\n",
              "      <td>4616</td>\n",
              "    </tr>\n",
              "    <tr>\n",
              "      <th>2</th>\n",
              "      <td>Vivo</td>\n",
              "      <td>604</td>\n",
              "      <td>4474</td>\n",
              "    </tr>\n",
              "    <tr>\n",
              "      <th>3</th>\n",
              "      <td>Vivo</td>\n",
              "      <td>500</td>\n",
              "      <td>3751</td>\n",
              "    </tr>\n",
              "    <tr>\n",
              "      <th>4</th>\n",
              "      <td>Vivo</td>\n",
              "      <td>106</td>\n",
              "      <td>3717</td>\n",
              "    </tr>\n",
              "    <tr>\n",
              "      <th>...</th>\n",
              "      <td>...</td>\n",
              "      <td>...</td>\n",
              "      <td>...</td>\n",
              "    </tr>\n",
              "    <tr>\n",
              "      <th>158</th>\n",
              "      <td>Oi</td>\n",
              "      <td>701</td>\n",
              "      <td>20</td>\n",
              "    </tr>\n",
              "    <tr>\n",
              "      <th>159</th>\n",
              "      <td>Tim</td>\n",
              "      <td>530</td>\n",
              "      <td>20</td>\n",
              "    </tr>\n",
              "    <tr>\n",
              "      <th>160</th>\n",
              "      <td>Vivo</td>\n",
              "      <td>206</td>\n",
              "      <td>15</td>\n",
              "    </tr>\n",
              "    <tr>\n",
              "      <th>161</th>\n",
              "      <td>Tim</td>\n",
              "      <td>614</td>\n",
              "      <td>10</td>\n",
              "    </tr>\n",
              "    <tr>\n",
              "      <th>162</th>\n",
              "      <td>Tim</td>\n",
              "      <td>611</td>\n",
              "      <td>10</td>\n",
              "    </tr>\n",
              "  </tbody>\n",
              "</table>\n",
              "<p>163 rows × 3 columns</p>\n",
              "</div>"
            ],
            "text/plain": [
              "    operadora  escritorio  valor_liquido\n",
              "0        Vivo         103           4739\n",
              "1        Vivo         115           4616\n",
              "2        Vivo         604           4474\n",
              "3        Vivo         500           3751\n",
              "4        Vivo         106           3717\n",
              "..        ...         ...            ...\n",
              "158        Oi         701             20\n",
              "159       Tim         530             20\n",
              "160      Vivo         206             15\n",
              "161       Tim         614             10\n",
              "162       Tim         611             10\n",
              "\n",
              "[163 rows x 3 columns]"
            ]
          },
          "metadata": {
            "tags": []
          },
          "execution_count": 569
        }
      ]
    },
    {
      "cell_type": "markdown",
      "metadata": {
        "id": "UhJ6cEqP7g82",
        "colab_type": "text"
      },
      "source": [
        "Para o nosso conjunto de dados detalhamento, vamos **agrupar** por as colunas **loja**, **operadora** e **escritorio**, repetindo o método usado anteriormente **sum** para as outras colunas."
      ]
    },
    {
      "cell_type": "code",
      "metadata": {
        "id": "RtXcTrj6Q0W8",
        "colab_type": "code",
        "outputId": "06d68b08-97e9-4077-8931-b88383f6f92d",
        "colab": {
          "base_uri": "https://localhost:8080/",
          "height": 419
        }
      },
      "source": [
        "df_detalhamento = df_detalhamento.groupby(['loja', 'operadora', 'escritorio']).agg({'valor_bruto':'sum'}).reset_index()\n",
        "df_detalhamento.sort_values(ascending=False, by='valor_bruto').reset_index()"
      ],
      "execution_count": 0,
      "outputs": [
        {
          "output_type": "execute_result",
          "data": {
            "text/html": [
              "<div>\n",
              "<style scoped>\n",
              "    .dataframe tbody tr th:only-of-type {\n",
              "        vertical-align: middle;\n",
              "    }\n",
              "\n",
              "    .dataframe tbody tr th {\n",
              "        vertical-align: top;\n",
              "    }\n",
              "\n",
              "    .dataframe thead th {\n",
              "        text-align: right;\n",
              "    }\n",
              "</style>\n",
              "<table border=\"1\" class=\"dataframe\">\n",
              "  <thead>\n",
              "    <tr style=\"text-align: right;\">\n",
              "      <th></th>\n",
              "      <th>index</th>\n",
              "      <th>loja</th>\n",
              "      <th>operadora</th>\n",
              "      <th>escritorio</th>\n",
              "      <th>valor_bruto</th>\n",
              "    </tr>\n",
              "  </thead>\n",
              "  <tbody>\n",
              "    <tr>\n",
              "      <th>0</th>\n",
              "      <td>3</td>\n",
              "      <td>BEMOL AVENIDA</td>\n",
              "      <td>Vivo</td>\n",
              "      <td>103</td>\n",
              "      <td>4739</td>\n",
              "    </tr>\n",
              "    <tr>\n",
              "      <th>1</th>\n",
              "      <td>19</td>\n",
              "      <td>BEMOL CIDADE NOVA</td>\n",
              "      <td>Vivo</td>\n",
              "      <td>115</td>\n",
              "      <td>4616</td>\n",
              "    </tr>\n",
              "    <tr>\n",
              "      <th>2</th>\n",
              "      <td>43</td>\n",
              "      <td>BEMOL FARMA GRANDE CIRCULAR</td>\n",
              "      <td>Vivo</td>\n",
              "      <td>604</td>\n",
              "      <td>4474</td>\n",
              "    </tr>\n",
              "    <tr>\n",
              "      <th>3</th>\n",
              "      <td>149</td>\n",
              "      <td>BEMOL TORQUATO</td>\n",
              "      <td>Vivo</td>\n",
              "      <td>500</td>\n",
              "      <td>3751</td>\n",
              "    </tr>\n",
              "    <tr>\n",
              "      <th>4</th>\n",
              "      <td>137</td>\n",
              "      <td>BEMOL SHOPPING</td>\n",
              "      <td>Vivo</td>\n",
              "      <td>106</td>\n",
              "      <td>3704</td>\n",
              "    </tr>\n",
              "    <tr>\n",
              "      <th>...</th>\n",
              "      <td>...</td>\n",
              "      <td>...</td>\n",
              "      <td>...</td>\n",
              "      <td>...</td>\n",
              "      <td>...</td>\n",
              "    </tr>\n",
              "    <tr>\n",
              "      <th>157</th>\n",
              "      <td>156</td>\n",
              "      <td>LOJA BEMOL FARMA ARIQUEMES</td>\n",
              "      <td>Vivo</td>\n",
              "      <td>613</td>\n",
              "      <td>35</td>\n",
              "    </tr>\n",
              "    <tr>\n",
              "      <th>158</th>\n",
              "      <td>128</td>\n",
              "      <td>BEMOL PRESIDENTE FIGUEIREDO</td>\n",
              "      <td>Tim</td>\n",
              "      <td>530</td>\n",
              "      <td>20</td>\n",
              "    </tr>\n",
              "    <tr>\n",
              "      <th>159</th>\n",
              "      <td>9</td>\n",
              "      <td>BEMOL BOA VISTA</td>\n",
              "      <td>Oi</td>\n",
              "      <td>701</td>\n",
              "      <td>20</td>\n",
              "    </tr>\n",
              "    <tr>\n",
              "      <th>160</th>\n",
              "      <td>152</td>\n",
              "      <td>LOJA BEMOL ARIQUEMES</td>\n",
              "      <td>Vivo</td>\n",
              "      <td>206</td>\n",
              "      <td>15</td>\n",
              "    </tr>\n",
              "    <tr>\n",
              "      <th>161</th>\n",
              "      <td>46</td>\n",
              "      <td>BEMOL FARMA ITACOATIARA</td>\n",
              "      <td>Tim</td>\n",
              "      <td>611</td>\n",
              "      <td>10</td>\n",
              "    </tr>\n",
              "  </tbody>\n",
              "</table>\n",
              "<p>162 rows × 5 columns</p>\n",
              "</div>"
            ],
            "text/plain": [
              "     index                         loja operadora  escritorio  valor_bruto\n",
              "0        3                BEMOL AVENIDA      Vivo         103         4739\n",
              "1       19            BEMOL CIDADE NOVA      Vivo         115         4616\n",
              "2       43  BEMOL FARMA GRANDE CIRCULAR      Vivo         604         4474\n",
              "3      149               BEMOL TORQUATO      Vivo         500         3751\n",
              "4      137               BEMOL SHOPPING      Vivo         106         3704\n",
              "..     ...                          ...       ...         ...          ...\n",
              "157    156   LOJA BEMOL FARMA ARIQUEMES      Vivo         613           35\n",
              "158    128  BEMOL PRESIDENTE FIGUEIREDO       Tim         530           20\n",
              "159      9              BEMOL BOA VISTA        Oi         701           20\n",
              "160    152         LOJA BEMOL ARIQUEMES      Vivo         206           15\n",
              "161     46      BEMOL FARMA ITACOATIARA       Tim         611           10\n",
              "\n",
              "[162 rows x 5 columns]"
            ]
          },
          "metadata": {
            "tags": []
          },
          "execution_count": 570
        }
      ]
    },
    {
      "cell_type": "markdown",
      "metadata": {
        "id": "5LhLOHgPLJeE",
        "colab_type": "text"
      },
      "source": [
        "# **Correlação de Tabelas**"
      ]
    },
    {
      "cell_type": "markdown",
      "metadata": {
        "id": "chYLModgVmXg",
        "colab_type": "text"
      },
      "source": [
        "## Merge de tabelas"
      ]
    },
    {
      "cell_type": "markdown",
      "metadata": {
        "id": "mvvcEPqt8EN3",
        "colab_type": "text"
      },
      "source": [
        "O método **merge** é utilizado para unir duas tabelas (conjunto de dados) que possuem uma ou mais colunas em comum. Veja o formato:"
      ]
    },
    {
      "cell_type": "markdown",
      "metadata": {
        "id": "Tp8YYjaY8lI8",
        "colab_type": "text"
      },
      "source": [
        "df = pd.merge( df1, df2, on = [‘colunas em comum’], how = ‘método de priorização’ )"
      ]
    },
    {
      "cell_type": "markdown",
      "metadata": {
        "id": "JJ9DSICO8syE",
        "colab_type": "text"
      },
      "source": [
        "O método de priorização é usado para escolher qual das tabelas passadas será escolhida como preferência. Os método de priorização pode ser left, right, inner ou outer."
      ]
    },
    {
      "cell_type": "markdown",
      "metadata": {
        "id": "e0CF8ptl9mfR",
        "colab_type": "text"
      },
      "source": [
        "Vamos agora juntar os nossos dois conjuntos de dados **df_detalhamento** e **df_vendas** que possuem duas colunas em comum e criar um **novo df**. "
      ]
    },
    {
      "cell_type": "code",
      "metadata": {
        "id": "6hUUq70OVv1f",
        "colab_type": "code",
        "colab": {}
      },
      "source": [
        "df_relatorio = pd.merge(df_detalhamento, df_vendas, on=['operadora', 'escritorio'], how='right')"
      ],
      "execution_count": 0,
      "outputs": []
    },
    {
      "cell_type": "code",
      "metadata": {
        "id": "b_bT-o9JanEz",
        "colab_type": "code",
        "outputId": "35495f72-49fc-4858-e03a-9673c533957c",
        "colab": {
          "base_uri": "https://localhost:8080/",
          "height": 204
        }
      },
      "source": [
        "df_relatorio.head(5)"
      ],
      "execution_count": 0,
      "outputs": [
        {
          "output_type": "execute_result",
          "data": {
            "text/html": [
              "<div>\n",
              "<style scoped>\n",
              "    .dataframe tbody tr th:only-of-type {\n",
              "        vertical-align: middle;\n",
              "    }\n",
              "\n",
              "    .dataframe tbody tr th {\n",
              "        vertical-align: top;\n",
              "    }\n",
              "\n",
              "    .dataframe thead th {\n",
              "        text-align: right;\n",
              "    }\n",
              "</style>\n",
              "<table border=\"1\" class=\"dataframe\">\n",
              "  <thead>\n",
              "    <tr style=\"text-align: right;\">\n",
              "      <th></th>\n",
              "      <th>loja</th>\n",
              "      <th>operadora</th>\n",
              "      <th>escritorio</th>\n",
              "      <th>valor_bruto</th>\n",
              "      <th>valor_liquido</th>\n",
              "    </tr>\n",
              "  </thead>\n",
              "  <tbody>\n",
              "    <tr>\n",
              "      <th>0</th>\n",
              "      <td>BEMOL AVENIDA</td>\n",
              "      <td>Claro</td>\n",
              "      <td>103</td>\n",
              "      <td>2651.0</td>\n",
              "      <td>2652</td>\n",
              "    </tr>\n",
              "    <tr>\n",
              "      <th>1</th>\n",
              "      <td>BEMOL AVENIDA</td>\n",
              "      <td>Oi</td>\n",
              "      <td>103</td>\n",
              "      <td>3309.0</td>\n",
              "      <td>3309</td>\n",
              "    </tr>\n",
              "    <tr>\n",
              "      <th>2</th>\n",
              "      <td>BEMOL AVENIDA</td>\n",
              "      <td>Tim</td>\n",
              "      <td>103</td>\n",
              "      <td>1550.0</td>\n",
              "      <td>1550</td>\n",
              "    </tr>\n",
              "    <tr>\n",
              "      <th>3</th>\n",
              "      <td>BEMOL AVENIDA</td>\n",
              "      <td>Vivo</td>\n",
              "      <td>103</td>\n",
              "      <td>4739.0</td>\n",
              "      <td>4739</td>\n",
              "    </tr>\n",
              "    <tr>\n",
              "      <th>4</th>\n",
              "      <td>BEMOL BARROSO</td>\n",
              "      <td>Claro</td>\n",
              "      <td>107</td>\n",
              "      <td>1495.0</td>\n",
              "      <td>1495</td>\n",
              "    </tr>\n",
              "  </tbody>\n",
              "</table>\n",
              "</div>"
            ],
            "text/plain": [
              "            loja operadora  escritorio  valor_bruto  valor_liquido\n",
              "0  BEMOL AVENIDA     Claro         103       2651.0           2652\n",
              "1  BEMOL AVENIDA        Oi         103       3309.0           3309\n",
              "2  BEMOL AVENIDA       Tim         103       1550.0           1550\n",
              "3  BEMOL AVENIDA      Vivo         103       4739.0           4739\n",
              "4  BEMOL BARROSO     Claro         107       1495.0           1495"
            ]
          },
          "metadata": {
            "tags": []
          },
          "execution_count": 572
        }
      ]
    },
    {
      "cell_type": "markdown",
      "metadata": {
        "id": "l8GKtQwE909W",
        "colab_type": "text"
      },
      "source": [
        "Como vocês podem observar, no método **how** a tabela (conjunto de dados) que foi escolhida como preferência foi o **df_vendas**, utilizando o método de priorização right. \n",
        "Neste caso a tabela **df_vendas** é mantida e então realizada a correlação com os dados da primeira tabela de acordo com as colunas em comum **operadora** e **escritorio**."
      ]
    },
    {
      "cell_type": "markdown",
      "metadata": {
        "id": "ervT41cr_NZL",
        "colab_type": "text"
      },
      "source": [
        "Caso o valor da coluna em comum só exista na tabela (conjunto de dados) **df_vendas**, o valor é preenchido por NaN na coluna da tabela **df_detalhamento**. "
      ]
    },
    {
      "cell_type": "markdown",
      "metadata": {
        "id": "BCO_GKEZYicx",
        "colab_type": "text"
      },
      "source": [
        "### Tratando o pós merge"
      ]
    },
    {
      "cell_type": "markdown",
      "metadata": {
        "id": "WOsGAFHyAE2C",
        "colab_type": "text"
      },
      "source": [
        "Quando surgem valores NaN (nulos ou vazios) nas tabelas, as vezes torna-se necessário substituir por algum outro valor. Uma maneira de realizar essa substituição é utilizando a função **fillna**.  Veja o formato:"
      ]
    },
    {
      "cell_type": "markdown",
      "metadata": {
        "id": "NdXWk4ROAlhT",
        "colab_type": "text"
      },
      "source": [
        "Para subistituir os NaN de uma coluna específica:"
      ]
    },
    {
      "cell_type": "markdown",
      "metadata": {
        "id": "IfmnRWylAwSM",
        "colab_type": "text"
      },
      "source": [
        "df[‘coluna’] = df[‘coluna’].fillna(novo_valor)"
      ]
    },
    {
      "cell_type": "markdown",
      "metadata": {
        "id": "y4d1YbUqA2Y1",
        "colab_type": "text"
      },
      "source": [
        "Para subistituir os NaN da tabela (conjunto de dados) inteira:"
      ]
    },
    {
      "cell_type": "markdown",
      "metadata": {
        "id": "m-eUjNg3A8tX",
        "colab_type": "text"
      },
      "source": [
        "df = df.fillna(novo_valor)"
      ]
    },
    {
      "cell_type": "markdown",
      "metadata": {
        "id": "8QAmzB8cZMBr",
        "colab_type": "text"
      },
      "source": [
        "Na minha análise não encontrei valores faltantes. Mas mesmo assim vou utilizar o fillna para substituir os mesmos por 0 se houver. "
      ]
    },
    {
      "cell_type": "code",
      "metadata": {
        "id": "f73RYBvIY6xG",
        "colab_type": "code",
        "colab": {}
      },
      "source": [
        "df_relatorio = df_relatorio.fillna(0)"
      ],
      "execution_count": 0,
      "outputs": []
    },
    {
      "cell_type": "markdown",
      "metadata": {
        "id": "Jqz2pF2hZjJ9",
        "colab_type": "text"
      },
      "source": [
        "# **Regra de Negócio**"
      ]
    },
    {
      "cell_type": "markdown",
      "metadata": {
        "id": "cL9Y55lNBGrj",
        "colab_type": "text"
      },
      "source": [
        "##Operações entre colunas (com condicional):"
      ]
    },
    {
      "cell_type": "markdown",
      "metadata": {
        "id": "StLYTElsBLfm",
        "colab_type": "text"
      },
      "source": [
        "Caso exista alguma condição para determinado calculo na tabela torna-se necessário criar uma função para poder ser aplicado de forma mais rápida a condição em cada linha da tabela."
      ]
    },
    {
      "cell_type": "code",
      "metadata": {
        "id": "F0a-UYZMZk0h",
        "colab_type": "code",
        "colab": {}
      },
      "source": [
        "def status(valor_liquido, valor_bruto):\n",
        "  if (valor_liquido != valor_bruto):\n",
        "    return 'alerta'\n",
        "  else:\n",
        "    return ''"
      ],
      "execution_count": 0,
      "outputs": []
    },
    {
      "cell_type": "markdown",
      "metadata": {
        "id": "UtBOrNUkBiv2",
        "colab_type": "text"
      },
      "source": [
        "A partir dessa função vamos criar uma nova coluna, a coluna status. \n",
        "Para aplicar a função em todas as linhas da tabela (conjunto de dados) é necessário usar a função applly e a função lambda. Veja o formato:"
      ]
    },
    {
      "cell_type": "markdown",
      "metadata": {
        "id": "ukSlG1TXB-o3",
        "colab_type": "text"
      },
      "source": [
        "df[ ‘nova_coluna’ ] = df.apply( lambda row: funcao( row [‘coluna1’] ), axis = 'columns' )"
      ]
    },
    {
      "cell_type": "markdown",
      "metadata": {
        "id": "-gNS_R3yCTHc",
        "colab_type": "text"
      },
      "source": [
        "Vamos agora aplicar a função em todas as linhas da nossa tabela (conjunto de dados) **df_relatorio** e criar uma nova coluna. "
      ]
    },
    {
      "cell_type": "code",
      "metadata": {
        "id": "ZhGPIR0Ydbfu",
        "colab_type": "code",
        "colab": {}
      },
      "source": [
        "df_relatorio['status'] = df_relatorio.apply(lambda row: status(row['valor_liquido'], row['valor_bruto']), axis='columns')"
      ],
      "execution_count": 0,
      "outputs": []
    },
    {
      "cell_type": "markdown",
      "metadata": {
        "id": "Mga9rIDFCsV4",
        "colab_type": "text"
      },
      "source": [
        "O **row** serve para aplicar a função e as colunas que devem ser passadas como paramêtros para a função. "
      ]
    },
    {
      "cell_type": "code",
      "metadata": {
        "id": "1Z87RyeCdvJE",
        "colab_type": "code",
        "outputId": "40e42c72-cbff-48c2-9e95-62f2836cf642",
        "colab": {
          "base_uri": "https://localhost:8080/",
          "height": 419
        }
      },
      "source": [
        "df_relatorio"
      ],
      "execution_count": 0,
      "outputs": [
        {
          "output_type": "execute_result",
          "data": {
            "text/html": [
              "<div>\n",
              "<style scoped>\n",
              "    .dataframe tbody tr th:only-of-type {\n",
              "        vertical-align: middle;\n",
              "    }\n",
              "\n",
              "    .dataframe tbody tr th {\n",
              "        vertical-align: top;\n",
              "    }\n",
              "\n",
              "    .dataframe thead th {\n",
              "        text-align: right;\n",
              "    }\n",
              "</style>\n",
              "<table border=\"1\" class=\"dataframe\">\n",
              "  <thead>\n",
              "    <tr style=\"text-align: right;\">\n",
              "      <th></th>\n",
              "      <th>loja</th>\n",
              "      <th>operadora</th>\n",
              "      <th>escritorio</th>\n",
              "      <th>valor_bruto</th>\n",
              "      <th>valor_liquido</th>\n",
              "      <th>status</th>\n",
              "    </tr>\n",
              "  </thead>\n",
              "  <tbody>\n",
              "    <tr>\n",
              "      <th>0</th>\n",
              "      <td>BEMOL AVENIDA</td>\n",
              "      <td>Claro</td>\n",
              "      <td>103</td>\n",
              "      <td>2651.0</td>\n",
              "      <td>2652</td>\n",
              "      <td>alerta</td>\n",
              "    </tr>\n",
              "    <tr>\n",
              "      <th>1</th>\n",
              "      <td>BEMOL AVENIDA</td>\n",
              "      <td>Oi</td>\n",
              "      <td>103</td>\n",
              "      <td>3309.0</td>\n",
              "      <td>3309</td>\n",
              "      <td></td>\n",
              "    </tr>\n",
              "    <tr>\n",
              "      <th>2</th>\n",
              "      <td>BEMOL AVENIDA</td>\n",
              "      <td>Tim</td>\n",
              "      <td>103</td>\n",
              "      <td>1550.0</td>\n",
              "      <td>1550</td>\n",
              "      <td></td>\n",
              "    </tr>\n",
              "    <tr>\n",
              "      <th>3</th>\n",
              "      <td>BEMOL AVENIDA</td>\n",
              "      <td>Vivo</td>\n",
              "      <td>103</td>\n",
              "      <td>4739.0</td>\n",
              "      <td>4739</td>\n",
              "      <td></td>\n",
              "    </tr>\n",
              "    <tr>\n",
              "      <th>4</th>\n",
              "      <td>BEMOL BARROSO</td>\n",
              "      <td>Claro</td>\n",
              "      <td>107</td>\n",
              "      <td>1495.0</td>\n",
              "      <td>1495</td>\n",
              "      <td></td>\n",
              "    </tr>\n",
              "    <tr>\n",
              "      <th>...</th>\n",
              "      <td>...</td>\n",
              "      <td>...</td>\n",
              "      <td>...</td>\n",
              "      <td>...</td>\n",
              "      <td>...</td>\n",
              "      <td>...</td>\n",
              "    </tr>\n",
              "    <tr>\n",
              "      <th>158</th>\n",
              "      <td>LOJA BEMOL FARMA JI PARANA</td>\n",
              "      <td>Oi</td>\n",
              "      <td>616</td>\n",
              "      <td>95.0</td>\n",
              "      <td>95</td>\n",
              "      <td></td>\n",
              "    </tr>\n",
              "    <tr>\n",
              "      <th>159</th>\n",
              "      <td>LOJA BEMOL FARMA JI PARANA</td>\n",
              "      <td>Tim</td>\n",
              "      <td>616</td>\n",
              "      <td>50.0</td>\n",
              "      <td>50</td>\n",
              "      <td></td>\n",
              "    </tr>\n",
              "    <tr>\n",
              "      <th>160</th>\n",
              "      <td>LOJA BEMOL FARMA JI PARANA</td>\n",
              "      <td>Vivo</td>\n",
              "      <td>616</td>\n",
              "      <td>70.0</td>\n",
              "      <td>70</td>\n",
              "      <td></td>\n",
              "    </tr>\n",
              "    <tr>\n",
              "      <th>161</th>\n",
              "      <td>LOJA BEMOL JI-PARANA</td>\n",
              "      <td>Claro</td>\n",
              "      <td>205</td>\n",
              "      <td>123.0</td>\n",
              "      <td>123</td>\n",
              "      <td></td>\n",
              "    </tr>\n",
              "    <tr>\n",
              "      <th>162</th>\n",
              "      <td>0</td>\n",
              "      <td>Tim</td>\n",
              "      <td>614</td>\n",
              "      <td>0.0</td>\n",
              "      <td>10</td>\n",
              "      <td>alerta</td>\n",
              "    </tr>\n",
              "  </tbody>\n",
              "</table>\n",
              "<p>163 rows × 6 columns</p>\n",
              "</div>"
            ],
            "text/plain": [
              "                           loja operadora  ...  valor_liquido  status\n",
              "0                 BEMOL AVENIDA     Claro  ...           2652  alerta\n",
              "1                 BEMOL AVENIDA        Oi  ...           3309        \n",
              "2                 BEMOL AVENIDA       Tim  ...           1550        \n",
              "3                 BEMOL AVENIDA      Vivo  ...           4739        \n",
              "4                 BEMOL BARROSO     Claro  ...           1495        \n",
              "..                          ...       ...  ...            ...     ...\n",
              "158  LOJA BEMOL FARMA JI PARANA        Oi  ...             95        \n",
              "159  LOJA BEMOL FARMA JI PARANA       Tim  ...             50        \n",
              "160  LOJA BEMOL FARMA JI PARANA      Vivo  ...             70        \n",
              "161        LOJA BEMOL JI-PARANA     Claro  ...            123        \n",
              "162                           0       Tim  ...             10  alerta\n",
              "\n",
              "[163 rows x 6 columns]"
            ]
          },
          "metadata": {
            "tags": []
          },
          "execution_count": 576
        }
      ]
    },
    {
      "cell_type": "markdown",
      "metadata": {
        "id": "qb16VJO1knHE",
        "colab_type": "text"
      },
      "source": [
        "# **Exportanto Dados**"
      ]
    },
    {
      "cell_type": "markdown",
      "metadata": {
        "id": "oYw5spf3DCVU",
        "colab_type": "text"
      },
      "source": [
        "##Exportando para o excel (XLSX)"
      ]
    },
    {
      "cell_type": "markdown",
      "metadata": {
        "id": "Z9EhdGFDDKRF",
        "colab_type": "text"
      },
      "source": [
        "Primeiro deve-se criar um arquivo em excel em branco, veja o formato:"
      ]
    },
    {
      "cell_type": "markdown",
      "metadata": {
        "id": "zMKdyhUwDWPD",
        "colab_type": "text"
      },
      "source": [
        "arquivo = pd.ExcelWriter('nome_do_arquivo.xlsx', engine='xlsxwriter')"
      ]
    },
    {
      "cell_type": "markdown",
      "metadata": {
        "id": "iABrZYNADXRT",
        "colab_type": "text"
      },
      "source": [
        "Após o arquivo ser criado podemos preencher com a tabela (conjunto de dados) que criamos."
      ]
    },
    {
      "cell_type": "markdown",
      "metadata": {
        "id": "mHJz9EEgDnkT",
        "colab_type": "text"
      },
      "source": [
        "df.to_excel( arquivo, sheet_name = ‘nome da aba onde o arquivo será inserido’, index = False )"
      ]
    },
    {
      "cell_type": "markdown",
      "metadata": {
        "id": "Te_Z3bDpDqW0",
        "colab_type": "text"
      },
      "source": [
        "O index = False é utilizado para quando o arquivo for salvo não ficar com o index do pandas. Agora é preciso gerar o arquivo."
      ]
    },
    {
      "cell_type": "markdown",
      "metadata": {
        "id": "OgU89Ko-D7NK",
        "colab_type": "text"
      },
      "source": [
        "arquivo.save()"
      ]
    },
    {
      "cell_type": "markdown",
      "metadata": {
        "id": "I1G7GnidD83h",
        "colab_type": "text"
      },
      "source": [
        "Vamos agora salvar a nossa tabela (conjunto de dados) que criamos no formato xlsx(excel)"
      ]
    },
    {
      "cell_type": "code",
      "metadata": {
        "id": "0RZW8ifxk59U",
        "colab_type": "code",
        "colab": {}
      },
      "source": [
        "writer = pd.ExcelWriter('Relatório final.xlsx')\n",
        "\n",
        "df_relatorio.to_excel(writer, sheet_name='relatorio', index=False)\n",
        "\n",
        "writer.save()"
      ],
      "execution_count": 0,
      "outputs": []
    },
    {
      "cell_type": "markdown",
      "metadata": {
        "id": "8yh20ehmEWGb",
        "colab_type": "text"
      },
      "source": [
        "##Exportando para CSV"
      ]
    },
    {
      "cell_type": "markdown",
      "metadata": {
        "id": "7vuEgHVIEaGz",
        "colab_type": "text"
      },
      "source": [
        "Também poderíamos exportar para um arquivo com extensão .csv apenas seguindo o formato:"
      ]
    },
    {
      "cell_type": "code",
      "metadata": {
        "id": "K3LcvHTXEtnf",
        "colab_type": "code",
        "colab": {}
      },
      "source": [
        "df_relatorio.to_csv(‘relatorio_final.csv’, sep = ‘;’, index=False)"
      ],
      "execution_count": 0,
      "outputs": []
    },
    {
      "cell_type": "markdown",
      "metadata": {
        "id": "g7I9y8_3E5CE",
        "colab_type": "text"
      },
      "source": [
        "Normalmente para separar os dados se utiliza o ponto e vírgula."
      ]
    },
    {
      "cell_type": "markdown",
      "metadata": {
        "id": "B0wQkk2NFCui",
        "colab_type": "text"
      },
      "source": [
        "#**Conclusão**"
      ]
    },
    {
      "cell_type": "markdown",
      "metadata": {
        "id": "j4XObjuNFI06",
        "colab_type": "text"
      },
      "source": [
        "Podemos baixar um executavel do python a partir desse notebook e colocar em uma mesma pasta com os arquivos que foram utilizados para criar nossa tabela (conjunto de dados) final. Assim, poderiamos alterar os arquivos e ao dar dois cliques no executavel ele já atualiza e gera uma nova tabela (conjunto de dados) que irá servir como relatório á empresa."
      ]
    }
  ]
}