{
  "nbformat": 4,
  "nbformat_minor": 0,
  "metadata": {
    "colab": {
      "name": "Welcome To Colaboratory",
      "provenance": [],
      "collapsed_sections": [],
      "include_colab_link": true
    },
    "kernelspec": {
      "display_name": "Python 3",
      "name": "python3"
    }
  },
  "cells": [
    {
      "cell_type": "markdown",
      "metadata": {
        "id": "view-in-github",
        "colab_type": "text"
      },
      "source": [
        "<a href=\"https://colab.research.google.com/github/luislauriano/Data_Science/blob/master/Projeto_construcao.ipynb\" target=\"_parent\"><img src=\"https://colab.research.google.com/assets/colab-badge.svg\" alt=\"Open In Colab\"/></a>"
      ]
    },
    {
      "cell_type": "markdown",
      "metadata": {
        "id": "JqnET0Yl6Jjo",
        "colab_type": "text"
      },
      "source": [
        "# **Dicas do Meigarom (YTB)** "
      ]
    },
    {
      "cell_type": "markdown",
      "metadata": {
        "id": "4wbes_4d6Qak",
        "colab_type": "text"
      },
      "source": [
        "Luis, vamos lá então.\n",
        "\n",
        "* O projeto que eu mais gostei foi o de Detecção de Cancer de Mama.\n",
        "* Para resolve qualquer projeto de ML você precisa de 10 passos e você fez 5 deles. Conferir os passos de um projeto de ML novamente\n",
        "* Gostei das suas explicações depois de cada código.\n",
        "* Você poderia ter feito uma análise estatística descritiva dos dados, para dar um visão geral dos dados, em termos de métricas estatísticas ( média, mediana, std, moda, … )\n",
        "* Você poderia ter feito mais análise exploratória de dados. Quais as features mais importantes para o modelo? Qual o impacto de cada feature na variável resposta?\n",
        "* Você poderia explicar porque usou StandardScaler nas Features. Porque padronizar os dados? O que isso ajuda no modelo?\n",
        "* Porque você usou LabelEncoder na variável resposta? O que isso traz de benefício?\n",
        "* Poderia explicar, porque voce usou Random Forest. Qual o motivo da sua escolha?\n",
        "* Explicar mais sobre as métricas, o que significa cada métrica? Qual das métricas eu deveria olhar? Todas? Apenas Uma?\n",
        "13h52\n",
        "* Vai se aprofundando nos projetos e procurando responder porque você está colocando cada coisa. Porque Random forest? Porque Analise Exploratoria? Porque StandarScaler? Para que serve a matrix de correlação?\n",
        "* Vai fazendo testes e tentando entender o real motivo de cada linha código que você coloca, e porque essa linha é importante e no que ela ajuda?"
      ]
    },
    {
      "cell_type": "markdown",
      "metadata": {
        "id": "wnW2Zisr6d56",
        "colab_type": "text"
      },
      "source": [
        "# **Projetos como base:**\n",
        "\n",
        "### Projeto do Rafael\n",
        "https://github.com/barbosarafael/Projetos/blob/master/iNeuron_Back_order_prediction_Notebook/hackaton_ineuron_back_order_prediction.ipynb\n",
        "\n",
        "### Projeto do Carlos Melo\n",
        "https://github.com/carlosfab/data_science/blob/master/Setembro_Amarelo.ipynb\n",
        "\n",
        "### Projeto do Cancer de Mama \n",
        "https://github.com/luislauriano/Data_Science/blob/master/Machine_Learning_para_Detec%C3%A7%C3%A3o_do_C%C3%A2ncer_de_Mama.ipynb"
      ]
    },
    {
      "cell_type": "markdown",
      "metadata": {
        "id": "HygEQiju6iwe",
        "colab_type": "text"
      },
      "source": [
        "#**Referencias:**\n",
        "\n",
        "Limpeza e preparação dos dados: https://medium.com/@lucasoliveiras/limpeza-e-prepara%C3%A7%C3%A3o-dos-dados-com-pandas-856e844abfbb\n",
        "\n",
        "Tutorial API do Spotify: https://dandaramcsousa.github.io/2020/05/20/tutorial-api-spotify.html"
      ]
    },
    {
      "cell_type": "markdown",
      "metadata": {
        "id": "ncS2KlhF6k3Y",
        "colab_type": "text"
      },
      "source": [
        "Escrever e detalhar o maximo e tudo possivel com calma. (Isso também vai ser importante para aprender)   \n",
        "\n",
        "Explicar cada coisa usada como quando eu for usar o sklearn (para isso vou precisar pesquisar sobre metric score, acuracia e etc para falar sobre)"
      ]
    },
    {
      "cell_type": "markdown",
      "metadata": {
        "id": "uh6qE9H260te",
        "colab_type": "text"
      },
      "source": [
        "___________________________________________________________________________________________________\n"
      ]
    },
    {
      "cell_type": "markdown",
      "metadata": {
        "id": "9X9knpxb626V",
        "colab_type": "text"
      },
      "source": [
        "# **Coletando e visualizando dados do Spotify de NexoAnexo**"
      ]
    },
    {
      "cell_type": "markdown",
      "metadata": {
        "id": "puLfSxcC2Ph4",
        "colab_type": "text"
      },
      "source": [
        "## **Objetivo do projeto (Solução para o problema)**"
      ]
    },
    {
      "cell_type": "markdown",
      "metadata": {
        "id": "5sNePf9A2Xw5",
        "colab_type": "text"
      },
      "source": [
        "contexto"
      ]
    },
    {
      "cell_type": "markdown",
      "metadata": {
        "id": "tYrmm_k1c6Qn",
        "colab_type": "text"
      },
      "source": [
        "## **Etapas do projeto**"
      ]
    },
    {
      "cell_type": "markdown",
      "metadata": {
        "id": "PgMwFTF8c9Xz",
        "colab_type": "text"
      },
      "source": [
        "* Coleta do dados \n",
        "   1. Api do spotify\n",
        "   2. Dicionario dos dados\n",
        "   3. Importar os pacotes e dataset necessários\n",
        "   4. Leitura do arquivo\n",
        "\n",
        "* Limpeza e preparação dos dados\n",
        "    1. Deletar colunas\n",
        "    2. Renomear colunas \n",
        "    3. Verificar os tipos das colunas\n",
        "    4. Alterar os tipos de colunas \n",
        "    5. Verificar dados ausentes\n",
        "    6. Preencher dados ausentes\n",
        "    7. Corrigindo dados divergentes\n",
        "    6. Verificando valores duplicados\n",
        "  \n",
        "* Exploração e visualização dos dados \n",
        "* Etapas do Machine Learning workflow"
      ]
    },
    {
      "cell_type": "markdown",
      "metadata": {
        "id": "9LFe4_zLc6Ow",
        "colab_type": "text"
      },
      "source": [
        "## **Coleta dos dados**\n",
        "\n"
      ]
    },
    {
      "cell_type": "markdown",
      "metadata": {
        "id": "GxWUAPc1erDS",
        "colab_type": "text"
      },
      "source": [
        "contexto"
      ]
    },
    {
      "cell_type": "markdown",
      "metadata": {
        "id": "VZXPZ7YvYYjw",
        "colab_type": "text"
      },
      "source": [
        "### **Explicar toda etapa da coleta dos dados na API do Spotify**"
      ]
    },
    {
      "cell_type": "markdown",
      "metadata": {
        "id": "Fw0bfe1G752-",
        "colab_type": "text"
      },
      "source": [
        "1. Coletar as informações de um artista, dado um nome;\n",
        "2. Coletar os ids e nomes de todos os álbuns de um artista;\n",
        "3. Coletar informações de todas as músicas de um álbum;\n",
        "4. Coletar informações de todas as músicas de todos os álbuns de um artista;\n",
        "5. Converter tudo para um csv.\n"
      ]
    },
    {
      "cell_type": "code",
      "metadata": {
        "id": "56XPPzuXM_pk",
        "colab_type": "code",
        "colab": {
          "base_uri": "https://localhost:8080/",
          "height": 136
        },
        "outputId": "782afefa-4b2d-4535-8dff-5c5463cbf1f9"
      },
      "source": [
        "!pip install spotipy\n",
        "from spotipy.oauth2 import SpotifyClientCredentials\n",
        "import spotipy\n",
        "import sys\n",
        "import csv\n",
        " \n",
        "sp = spotipy.Spotify(client_credentials_manager = SpotifyClientCredentials(client_id=\"dcffc14978ed497aa58834a7864a99b7\", client_secret=\"e8c5cc78c8e74ccd92323d146c635b47\"))"
      ],
      "execution_count": 55,
      "outputs": [
        {
          "output_type": "stream",
          "text": [
            "Requirement already satisfied: spotipy in /usr/local/lib/python3.6/dist-packages (2.12.0)\n",
            "Requirement already satisfied: six>=1.10.0 in /usr/local/lib/python3.6/dist-packages (from spotipy) (1.12.0)\n",
            "Requirement already satisfied: requests>=2.20.0 in /usr/local/lib/python3.6/dist-packages (from spotipy) (2.23.0)\n",
            "Requirement already satisfied: urllib3!=1.25.0,!=1.25.1,<1.26,>=1.21.1 in /usr/local/lib/python3.6/dist-packages (from requests>=2.20.0->spotipy) (1.24.3)\n",
            "Requirement already satisfied: chardet<4,>=3.0.2 in /usr/local/lib/python3.6/dist-packages (from requests>=2.20.0->spotipy) (3.0.4)\n",
            "Requirement already satisfied: certifi>=2017.4.17 in /usr/local/lib/python3.6/dist-packages (from requests>=2.20.0->spotipy) (2020.4.5.2)\n",
            "Requirement already satisfied: idna<3,>=2.5 in /usr/local/lib/python3.6/dist-packages (from requests>=2.20.0->spotipy) (2.9)\n"
          ],
          "name": "stdout"
        }
      ]
    },
    {
      "cell_type": "code",
      "metadata": {
        "id": "KtKv24PfNgzu",
        "colab_type": "code",
        "colab": {}
      },
      "source": [
        "def get_artist(name):\n",
        "    results = sp.search(name)\n",
        "    items = results['tracks']['items']\n",
        "    if len(items) > 0:\n",
        "        return items[0]['artists'][0]\n",
        "    else:\n",
        "        return None"
      ],
      "execution_count": 56,
      "outputs": []
    },
    {
      "cell_type": "code",
      "metadata": {
        "id": "UmYSgdflNjLm",
        "colab_type": "code",
        "colab": {}
      },
      "source": [
        "def get_artist_id(artist):\n",
        "    return artist['id']"
      ],
      "execution_count": 57,
      "outputs": []
    },
    {
      "cell_type": "code",
      "metadata": {
        "id": "SXSToCCLN9MD",
        "colab_type": "code",
        "colab": {}
      },
      "source": [
        "def get_artist_albums_id_names(id):\n",
        "  albums = sp.artist_albums(id, country = 'BR', limit=3)\n",
        "  albums_id_name = {}\n",
        "  for i in range(len(albums['items'])):\n",
        "    id = albums['items'][i]['id']\n",
        "    name = albums['items'][i]['name']\n",
        "    albums_id_name[id] = name\n",
        " \n",
        "  return albums_id_name"
      ],
      "execution_count": 58,
      "outputs": []
    },
    {
      "cell_type": "code",
      "metadata": {
        "id": "2zvAflToOkUh",
        "colab_type": "code",
        "colab": {}
      },
      "source": [
        "def get_album_songs(album_id, album_name):\n",
        "  spotify_album = {}\n",
        " \n",
        "  tracks = sp.album_tracks(album_id)\n",
        "  \n",
        "  for n in range(len(tracks['items'])):\n",
        "    id_track = tracks['items'][n]['id']\n",
        "    track = sp.track(id_track)\n",
        "    spotify_album[id_track] = {}\n",
        "    \n",
        "    spotify_album[id_track]['album'] = album_name\n",
        "    spotify_album[id_track]['album_type'] = track['album']['album_type']\n",
        "    spotify_album[id_track]['track_number'] = track['track_number']\n",
        "    spotify_album[id_track]['id_track'] = track['id']\n",
        "    spotify_album[id_track]['name'] = track['name']\n",
        "    spotify_album[id_track]['popularity'] = track['popularity']\n",
        "    spotify_album[id_track]['explicit'] = track['explicit']\n",
        "    spotify_album[id_track]['duration_ms'] = track['duration_ms']\n",
        "    spotify_album[id_track]['release_date'] = track['album']['release_date']\n",
        " \n",
        "    artists_track = track['artists']\n",
        "    spotify_album[id_track]['artists'] = []\n",
        "    for artist in artists_track:\n",
        "      spotify_album[id_track]['artists'].append(artist['name'])\n",
        "  return spotify_album\n"
      ],
      "execution_count": 59,
      "outputs": []
    },
    {
      "cell_type": "code",
      "metadata": {
        "id": "IZYiHJ19O7Kv",
        "colab_type": "code",
        "colab": {}
      },
      "source": [
        "def get_all_albums_songs(albums_ids_names):\n",
        "  spotify_albums = []\n",
        "  albums_names = []\n",
        "  for id, name in albums_ids_names.items():\n",
        "    if name not in albums_names:\n",
        "      albums_names.append(name)\n",
        "      album_songs = get_album_songs(id,name) \n",
        "    for item in album_songs.items():\n",
        "      spotify_albums.append(item[1]) \n",
        "  return spotify_albums"
      ],
      "execution_count": 60,
      "outputs": []
    },
    {
      "cell_type": "code",
      "metadata": {
        "id": "c0eud_atAcC6",
        "colab_type": "code",
        "colab": {}
      },
      "source": [
        "def convert_to_csv(filepath, name):\n",
        "  keys = filepath[0].keys()\n",
        "  print(keys)\n",
        "  csv_name = ''+ name + '.csv'\n",
        "  with open(csv_name, 'w') as output_file:\n",
        "    dict_writer = csv.DictWriter(output_file, keys)\n",
        "    dict_writer.writeheader()\n",
        "    dict_writer.writerows(filepath)\n",
        "  return"
      ],
      "execution_count": 61,
      "outputs": []
    },
    {
      "cell_type": "code",
      "metadata": {
        "id": "Y6u6VYNNO__U",
        "colab_type": "code",
        "colab": {
          "base_uri": "https://localhost:8080/",
          "height": 34
        },
        "outputId": "86b22cd7-e01d-4c3c-e4b7-1877727b6dd7"
      },
      "source": [
        "name = \"NexoAnexo\"\n",
        "artist = get_artist(name)    \n",
        "if artist:\n",
        "  artist_id = get_artist_id(artist)\n",
        "  albums_id_names = get_artist_albums_id_names(artist_id)\n",
        "  all_albums = get_all_albums_songs(albums_id_names)\n",
        "  convert_to_csv(all_albums, 'NexoAnexo')   \n",
        "else:\n",
        "  logger.error(\"Can't find artist: %s\", artist)"
      ],
      "execution_count": 62,
      "outputs": [
        {
          "output_type": "stream",
          "text": [
            "dict_keys(['album', 'album_type', 'track_number', 'id_track', 'name', 'popularity', 'explicit', 'duration_ms', 'release_date', 'artists'])\n"
          ],
          "name": "stdout"
        }
      ]
    },
    {
      "cell_type": "markdown",
      "metadata": {
        "colab_type": "text",
        "id": "kLsdV6uQQ0uz"
      },
      "source": [
        "### **Dicionario dos dados**"
      ]
    },
    {
      "cell_type": "markdown",
      "metadata": {
        "id": "tP4V7h-eZADl",
        "colab_type": "text"
      },
      "source": [
        "Lembrem da definição de popularidade que foi dada lá no volume 01. Uma música nova tem muito mais chance de ser mais popular. "
      ]
    },
    {
      "cell_type": "markdown",
      "metadata": {
        "id": "gPmir6JPOBUF",
        "colab_type": "text"
      },
      "source": [
        "contexto"
      ]
    },
    {
      "cell_type": "markdown",
      "metadata": {
        "colab_type": "text",
        "id": "lbhCoC9tQ2hc"
      },
      "source": [
        "\n",
        "\n",
        "**Informações sobre os atributos**\n"
      ]
    },
    {
      "cell_type": "markdown",
      "metadata": {
        "id": "zVYytj0yWVZf",
        "colab_type": "text"
      },
      "source": [
        "contexto"
      ]
    },
    {
      "cell_type": "markdown",
      "metadata": {
        "id": "MPiYzdcTe76V",
        "colab_type": "text"
      },
      "source": [
        "### **Importar os pacotes e datasets necessário**\n",
        "\n"
      ]
    },
    {
      "cell_type": "markdown",
      "metadata": {
        "id": "EkIuPsuTe6cQ",
        "colab_type": "text"
      },
      "source": [
        "contexto"
      ]
    },
    {
      "cell_type": "code",
      "metadata": {
        "id": "wWAnGIM2fLh7",
        "colab_type": "code",
        "colab": {}
      },
      "source": [
        "#importar os pacotes necessarios\n",
        "import pandas as pd \n",
        "import matplotlib.pyplot as plt \n",
        "import seaborn as sns \n",
        "from xgboost import XGBClassifier\n",
        "from sklearn.model_selection import train_test_split\n",
        "from sklearn.metrics import accuracy_score\n",
        "from sklearn.metrics import mean_squared_error\n",
        "from sklearn.impute import SimpleImputer\n",
        "\n",
        "# configurar o notebook\n",
        "sns.set_style()"
      ],
      "execution_count": 63,
      "outputs": []
    },
    {
      "cell_type": "markdown",
      "metadata": {
        "colab_type": "text",
        "id": "n0wGbE_8Qeqj"
      },
      "source": [
        "### **Leitura do arquivo**"
      ]
    },
    {
      "cell_type": "markdown",
      "metadata": {
        "colab_type": "text",
        "id": "xvYxtUo6Qip4"
      },
      "source": [
        "Primeiro vamos ler nosso arquivo fora do notebook e tirar algumas informações, de como os dados estão separados e etc.."
      ]
    },
    {
      "cell_type": "markdown",
      "metadata": {
        "id": "9jDRntFFlJR9",
        "colab_type": "text"
      },
      "source": [
        "Abrindo nosso arquivo foi possivel identificar que está separado...Se trata de um arquivo csv"
      ]
    },
    {
      "cell_type": "markdown",
      "metadata": {
        "id": "47JXslAYOP5I",
        "colab_type": "text"
      },
      "source": [
        "Em alguns projetos reais essa etapa de importar os dados pode ser mais trabalhosa exigindo outros parametros, como header, skiprows e etc.."
      ]
    },
    {
      "cell_type": "code",
      "metadata": {
        "colab_type": "code",
        "id": "0JCvsNNRQgyB",
        "colab": {}
      },
      "source": [
        "dados = 'NexoAnexo.csv'\n",
        "\n",
        "df = pd.read_csv(dados, sep = ',')"
      ],
      "execution_count": 64,
      "outputs": []
    },
    {
      "cell_type": "markdown",
      "metadata": {
        "id": "hP26RkCiGMJS",
        "colab_type": "text"
      },
      "source": [
        "contexto"
      ]
    },
    {
      "cell_type": "code",
      "metadata": {
        "id": "reZ7UBugg9PW",
        "colab_type": "code",
        "colab": {
          "base_uri": "https://localhost:8080/",
          "height": 51
        },
        "outputId": "f4431f1f-5dbd-4303-e026-563d61eafaeb"
      },
      "source": [
        "print(f'Número de linhas ou variaveis {df.shape[0]}')\n",
        "print(f'Número de entradas ou colunas {df.shape[1]}')"
      ],
      "execution_count": 65,
      "outputs": [
        {
          "output_type": "stream",
          "text": [
            "Número de linhas ou variaveis 33\n",
            "Número de entradas ou colunas 10\n"
          ],
          "name": "stdout"
        }
      ]
    },
    {
      "cell_type": "markdown",
      "metadata": {
        "id": "eBrGm408haVg",
        "colab_type": "text"
      },
      "source": [
        "contexto"
      ]
    },
    {
      "cell_type": "markdown",
      "metadata": {
        "id": "ydNaZxF9gU57",
        "colab_type": "text"
      },
      "source": [
        "## **Limpeza e preparação dos dados**"
      ]
    },
    {
      "cell_type": "markdown",
      "metadata": {
        "id": "n2maxVPOmDkd",
        "colab_type": "text"
      },
      "source": [
        "contexto"
      ]
    },
    {
      "cell_type": "markdown",
      "metadata": {
        "id": "7MMfY8HQmGA_",
        "colab_type": "text"
      },
      "source": [
        "### **Deletando colunas**"
      ]
    },
    {
      "cell_type": "markdown",
      "metadata": {
        "id": "zqH6vhn7md6l",
        "colab_type": "text"
      },
      "source": [
        "Como o nosso conjunto de dados contém colunas que não serão uteis para o que desejamos fazer, vamos deletar..."
      ]
    },
    {
      "cell_type": "code",
      "metadata": {
        "id": "IODXmrT6lkw4",
        "colab_type": "code",
        "colab": {
          "base_uri": "https://localhost:8080/",
          "height": 204
        },
        "outputId": "9d1dc9ca-6935-4ade-fb1b-6b75de15ed3a"
      },
      "source": [
        "df.head()   "
      ],
      "execution_count": 66,
      "outputs": [
        {
          "output_type": "execute_result",
          "data": {
            "text/html": [
              "<div>\n",
              "<style scoped>\n",
              "    .dataframe tbody tr th:only-of-type {\n",
              "        vertical-align: middle;\n",
              "    }\n",
              "\n",
              "    .dataframe tbody tr th {\n",
              "        vertical-align: top;\n",
              "    }\n",
              "\n",
              "    .dataframe thead th {\n",
              "        text-align: right;\n",
              "    }\n",
              "</style>\n",
              "<table border=\"1\" class=\"dataframe\">\n",
              "  <thead>\n",
              "    <tr style=\"text-align: right;\">\n",
              "      <th></th>\n",
              "      <th>album</th>\n",
              "      <th>album_type</th>\n",
              "      <th>track_number</th>\n",
              "      <th>id_track</th>\n",
              "      <th>name</th>\n",
              "      <th>popularity</th>\n",
              "      <th>explicit</th>\n",
              "      <th>duration_ms</th>\n",
              "      <th>release_date</th>\n",
              "      <th>artists</th>\n",
              "    </tr>\n",
              "  </thead>\n",
              "  <tbody>\n",
              "    <tr>\n",
              "      <th>0</th>\n",
              "      <td>Trap from Future</td>\n",
              "      <td>album</td>\n",
              "      <td>1</td>\n",
              "      <td>6Mx214YlNnbj7un9PrvmGi</td>\n",
              "      <td>Vem No Tum Tum</td>\n",
              "      <td>18</td>\n",
              "      <td>True</td>\n",
              "      <td>216917</td>\n",
              "      <td>2020-03-13</td>\n",
              "      <td>['NexoAnexo']</td>\n",
              "    </tr>\n",
              "    <tr>\n",
              "      <th>1</th>\n",
              "      <td>Trap from Future</td>\n",
              "      <td>album</td>\n",
              "      <td>2</td>\n",
              "      <td>1xOs8YJkkKm5HhRiP1ha4g</td>\n",
              "      <td>Drip Know Me</td>\n",
              "      <td>2</td>\n",
              "      <td>True</td>\n",
              "      <td>154646</td>\n",
              "      <td>2020-03-13</td>\n",
              "      <td>['NexoAnexo', 'Drippy Kid Jay']</td>\n",
              "    </tr>\n",
              "    <tr>\n",
              "      <th>2</th>\n",
              "      <td>Trap from Future</td>\n",
              "      <td>album</td>\n",
              "      <td>3</td>\n",
              "      <td>4s4G0Z6mSkrauIvBXRlVHk</td>\n",
              "      <td>Match</td>\n",
              "      <td>4</td>\n",
              "      <td>True</td>\n",
              "      <td>180716</td>\n",
              "      <td>2020-03-13</td>\n",
              "      <td>['NexoAnexo']</td>\n",
              "    </tr>\n",
              "    <tr>\n",
              "      <th>3</th>\n",
              "      <td>Trap from Future</td>\n",
              "      <td>album</td>\n",
              "      <td>4</td>\n",
              "      <td>5C1iQCV3xuc0oHQpe7fhhQ</td>\n",
              "      <td>Trap &amp; Brega</td>\n",
              "      <td>6</td>\n",
              "      <td>True</td>\n",
              "      <td>164468</td>\n",
              "      <td>2020-03-13</td>\n",
              "      <td>['NexoAnexo']</td>\n",
              "    </tr>\n",
              "    <tr>\n",
              "      <th>4</th>\n",
              "      <td>Trap from Future</td>\n",
              "      <td>album</td>\n",
              "      <td>5</td>\n",
              "      <td>3H2TfCpxaSfEh5nVbcDzrp</td>\n",
              "      <td>Marca Sem Roupa</td>\n",
              "      <td>6</td>\n",
              "      <td>True</td>\n",
              "      <td>148364</td>\n",
              "      <td>2020-03-13</td>\n",
              "      <td>['NexoAnexo', 'Victor KR']</td>\n",
              "    </tr>\n",
              "  </tbody>\n",
              "</table>\n",
              "</div>"
            ],
            "text/plain": [
              "              album album_type  ...  release_date                          artists\n",
              "0  Trap from Future      album  ...    2020-03-13                    ['NexoAnexo']\n",
              "1  Trap from Future      album  ...    2020-03-13  ['NexoAnexo', 'Drippy Kid Jay']\n",
              "2  Trap from Future      album  ...    2020-03-13                    ['NexoAnexo']\n",
              "3  Trap from Future      album  ...    2020-03-13                    ['NexoAnexo']\n",
              "4  Trap from Future      album  ...    2020-03-13       ['NexoAnexo', 'Victor KR']\n",
              "\n",
              "[5 rows x 10 columns]"
            ]
          },
          "metadata": {
            "tags": []
          },
          "execution_count": 66
        }
      ]
    },
    {
      "cell_type": "markdown",
      "metadata": {
        "id": "1I2y4QQBzoyc",
        "colab_type": "text"
      },
      "source": [
        "Vamos deletar as colunas...Isso é importante porque.."
      ]
    },
    {
      "cell_type": "code",
      "metadata": {
        "id": "2aBCHz3eOvQT",
        "colab_type": "code",
        "colab": {
          "base_uri": "https://localhost:8080/",
          "height": 68
        },
        "outputId": "6c067065-49e9-4a3a-a514-cdbcffb3c98a"
      },
      "source": [
        "df.columns.unique()"
      ],
      "execution_count": 67,
      "outputs": [
        {
          "output_type": "execute_result",
          "data": {
            "text/plain": [
              "Index(['album', 'album_type', 'track_number', 'id_track', 'name', 'popularity',\n",
              "       'explicit', 'duration_ms', 'release_date', 'artists'],\n",
              "      dtype='object')"
            ]
          },
          "metadata": {
            "tags": []
          },
          "execution_count": 67
        }
      ]
    },
    {
      "cell_type": "markdown",
      "metadata": {
        "id": "U1JydCMRPEEA",
        "colab_type": "text"
      },
      "source": [
        "Dessa forma consigo ter uma visão de todas as minhas colunas, então agora é so dar um CTRL + C nas que desejo e inserir no proximo método "
      ]
    },
    {
      "cell_type": "code",
      "metadata": {
        "id": "PMrnYIKdoPiq",
        "colab_type": "code",
        "colab": {}
      },
      "source": [
        "df = df[['album', 'name', 'track_number', 'popularity']].copy()"
      ],
      "execution_count": 68,
      "outputs": []
    },
    {
      "cell_type": "markdown",
      "metadata": {
        "id": "hqG5L9zkw4tJ",
        "colab_type": "text"
      },
      "source": [
        "Costumo deletar as colunas dessa maneira por que me permite escolher uma nova ordem para as colunas, além de não delatarem proprimamente as outras colunas que foram descartadas."
      ]
    },
    {
      "cell_type": "code",
      "metadata": {
        "id": "6aean52MxJ6N",
        "colab_type": "code",
        "colab": {
          "base_uri": "https://localhost:8080/",
          "height": 34
        },
        "outputId": "b6de5aff-671c-4f19-b98c-13b1679cd344"
      },
      "source": [
        "df.columns"
      ],
      "execution_count": 111,
      "outputs": [
        {
          "output_type": "execute_result",
          "data": {
            "text/plain": [
              "Index(['nome_do_album', 'nome_da_faixa', 'posicao_da_faixa', 'popularidade'], dtype='object')"
            ]
          },
          "metadata": {
            "tags": []
          },
          "execution_count": 111
        }
      ]
    },
    {
      "cell_type": "markdown",
      "metadata": {
        "id": "NOxPPZyTGqt2",
        "colab_type": "text"
      },
      "source": [
        "### **Renomeando colunas**"
      ]
    },
    {
      "cell_type": "markdown",
      "metadata": {
        "id": "pSb0SMeNGrJD",
        "colab_type": "text"
      },
      "source": [
        "A renomeação das colunas é importante pq...contexto"
      ]
    },
    {
      "cell_type": "code",
      "metadata": {
        "id": "wzM6bvvTxn_j",
        "colab_type": "code",
        "colab": {
          "base_uri": "https://localhost:8080/",
          "height": 34
        },
        "outputId": "f943222e-d017-4f75-a760-2e92a0f01307"
      },
      "source": [
        "df.columns"
      ],
      "execution_count": 110,
      "outputs": [
        {
          "output_type": "execute_result",
          "data": {
            "text/plain": [
              "Index(['nome_do_album', 'nome_da_faixa', 'posicao_da_faixa', 'popularidade'], dtype='object')"
            ]
          },
          "metadata": {
            "tags": []
          },
          "execution_count": 110
        }
      ]
    },
    {
      "cell_type": "markdown",
      "metadata": {
        "id": "YYBgx6L5yChZ",
        "colab_type": "text"
      },
      "source": [
        "Para renomear todas as colunas vou utilizar o metodo df.columns..."
      ]
    },
    {
      "cell_type": "markdown",
      "metadata": {
        "id": "movItozuyIns",
        "colab_type": "text"
      },
      "source": [
        "Quando o objetivo é renomear uma ou mais colunas, o metodo df.rename seria melhor..."
      ]
    },
    {
      "cell_type": "code",
      "metadata": {
        "id": "mw2hPLQLxQt5",
        "colab_type": "code",
        "colab": {}
      },
      "source": [
        "df.columns = ['nome_do_album', 'nome_da_faixa',  'posicao_da_faixa', 'popularidade']"
      ],
      "execution_count": 71,
      "outputs": []
    },
    {
      "cell_type": "code",
      "metadata": {
        "id": "pVsXRAxmyTvE",
        "colab_type": "code",
        "colab": {
          "base_uri": "https://localhost:8080/",
          "height": 142
        },
        "outputId": "d099cf02-b125-4d90-bc0d-ddf44be60beb"
      },
      "source": [
        "df.head(3)"
      ],
      "execution_count": 72,
      "outputs": [
        {
          "output_type": "execute_result",
          "data": {
            "text/html": [
              "<div>\n",
              "<style scoped>\n",
              "    .dataframe tbody tr th:only-of-type {\n",
              "        vertical-align: middle;\n",
              "    }\n",
              "\n",
              "    .dataframe tbody tr th {\n",
              "        vertical-align: top;\n",
              "    }\n",
              "\n",
              "    .dataframe thead th {\n",
              "        text-align: right;\n",
              "    }\n",
              "</style>\n",
              "<table border=\"1\" class=\"dataframe\">\n",
              "  <thead>\n",
              "    <tr style=\"text-align: right;\">\n",
              "      <th></th>\n",
              "      <th>nome_do_album</th>\n",
              "      <th>nome_da_faixa</th>\n",
              "      <th>posicao_da_faixa</th>\n",
              "      <th>popularidade</th>\n",
              "    </tr>\n",
              "  </thead>\n",
              "  <tbody>\n",
              "    <tr>\n",
              "      <th>0</th>\n",
              "      <td>Trap from Future</td>\n",
              "      <td>Vem No Tum Tum</td>\n",
              "      <td>1</td>\n",
              "      <td>18</td>\n",
              "    </tr>\n",
              "    <tr>\n",
              "      <th>1</th>\n",
              "      <td>Trap from Future</td>\n",
              "      <td>Drip Know Me</td>\n",
              "      <td>2</td>\n",
              "      <td>2</td>\n",
              "    </tr>\n",
              "    <tr>\n",
              "      <th>2</th>\n",
              "      <td>Trap from Future</td>\n",
              "      <td>Match</td>\n",
              "      <td>3</td>\n",
              "      <td>4</td>\n",
              "    </tr>\n",
              "  </tbody>\n",
              "</table>\n",
              "</div>"
            ],
            "text/plain": [
              "      nome_do_album   nome_da_faixa  posicao_da_faixa  popularidade\n",
              "0  Trap from Future  Vem No Tum Tum                 1            18\n",
              "1  Trap from Future    Drip Know Me                 2             2\n",
              "2  Trap from Future           Match                 3             4"
            ]
          },
          "metadata": {
            "tags": []
          },
          "execution_count": 72
        }
      ]
    },
    {
      "cell_type": "markdown",
      "metadata": {
        "id": "Ov6bp8cK0X8W",
        "colab_type": "text"
      },
      "source": [
        "contexto"
      ]
    },
    {
      "cell_type": "markdown",
      "metadata": {
        "id": "tiko78ph0eEl",
        "colab_type": "text"
      },
      "source": [
        "### **Verificar dados ausentes**"
      ]
    },
    {
      "cell_type": "markdown",
      "metadata": {
        "id": "3QIb136y0lrF",
        "colab_type": "text"
      },
      "source": [
        "contexto"
      ]
    },
    {
      "cell_type": "code",
      "metadata": {
        "id": "UzBw8iC50k7Y",
        "colab_type": "code",
        "colab": {
          "base_uri": "https://localhost:8080/",
          "height": 102
        },
        "outputId": "86e99fbd-3e22-476f-b33c-7c573cd509cc"
      },
      "source": [
        "df.isna().sum()"
      ],
      "execution_count": 73,
      "outputs": [
        {
          "output_type": "execute_result",
          "data": {
            "text/plain": [
              "nome_do_album       0\n",
              "nome_da_faixa       0\n",
              "posicao_da_faixa    0\n",
              "popularidade        0\n",
              "dtype: int64"
            ]
          },
          "metadata": {
            "tags": []
          },
          "execution_count": 73
        }
      ]
    },
    {
      "cell_type": "markdown",
      "metadata": {
        "id": "a1PqLMmtQgQ0",
        "colab_type": "text"
      },
      "source": [
        "Deve-se ficar atento pois muita das vezes uma coluna pode ter o registro de dados, ou seja, é informado pelo método que o conjunto de dados não possui valores nulos, entranto, esses dados não passam nenhuma informação util "
      ]
    },
    {
      "cell_type": "markdown",
      "metadata": {
        "id": "fmqmwWGm2aam",
        "colab_type": "text"
      },
      "source": [
        "Também poderia fazer o uso do isnull, porém recomento utilizar o isna, devido que o final  do método \"na\", remete ao dropna, fillna e etc... Que são metodos que também trabalham de alguma forma com dados ausentes. "
      ]
    },
    {
      "cell_type": "markdown",
      "metadata": {
        "id": "Zyk_uhF52w6_",
        "colab_type": "text"
      },
      "source": [
        "Vamos usar um \"df.head(10) e df.tail(10)\", pra analisar com calma os 10 primeiros e ultimos registros, averiguando se os dados realmente passam alguma informação, já que não temos dados ausentes."
      ]
    },
    {
      "cell_type": "code",
      "metadata": {
        "id": "FxLO7mHY2v_U",
        "colab_type": "code",
        "colab": {
          "base_uri": "https://localhost:8080/",
          "height": 359
        },
        "outputId": "394bfa88-4f27-49db-f0e3-70dce45e766f"
      },
      "source": [
        "df.head(10)"
      ],
      "execution_count": 74,
      "outputs": [
        {
          "output_type": "execute_result",
          "data": {
            "text/html": [
              "<div>\n",
              "<style scoped>\n",
              "    .dataframe tbody tr th:only-of-type {\n",
              "        vertical-align: middle;\n",
              "    }\n",
              "\n",
              "    .dataframe tbody tr th {\n",
              "        vertical-align: top;\n",
              "    }\n",
              "\n",
              "    .dataframe thead th {\n",
              "        text-align: right;\n",
              "    }\n",
              "</style>\n",
              "<table border=\"1\" class=\"dataframe\">\n",
              "  <thead>\n",
              "    <tr style=\"text-align: right;\">\n",
              "      <th></th>\n",
              "      <th>nome_do_album</th>\n",
              "      <th>nome_da_faixa</th>\n",
              "      <th>posicao_da_faixa</th>\n",
              "      <th>popularidade</th>\n",
              "    </tr>\n",
              "  </thead>\n",
              "  <tbody>\n",
              "    <tr>\n",
              "      <th>0</th>\n",
              "      <td>Trap from Future</td>\n",
              "      <td>Vem No Tum Tum</td>\n",
              "      <td>1</td>\n",
              "      <td>18</td>\n",
              "    </tr>\n",
              "    <tr>\n",
              "      <th>1</th>\n",
              "      <td>Trap from Future</td>\n",
              "      <td>Drip Know Me</td>\n",
              "      <td>2</td>\n",
              "      <td>2</td>\n",
              "    </tr>\n",
              "    <tr>\n",
              "      <th>2</th>\n",
              "      <td>Trap from Future</td>\n",
              "      <td>Match</td>\n",
              "      <td>3</td>\n",
              "      <td>4</td>\n",
              "    </tr>\n",
              "    <tr>\n",
              "      <th>3</th>\n",
              "      <td>Trap from Future</td>\n",
              "      <td>Trap &amp; Brega</td>\n",
              "      <td>4</td>\n",
              "      <td>6</td>\n",
              "    </tr>\n",
              "    <tr>\n",
              "      <th>4</th>\n",
              "      <td>Trap from Future</td>\n",
              "      <td>Marca Sem Roupa</td>\n",
              "      <td>5</td>\n",
              "      <td>6</td>\n",
              "    </tr>\n",
              "    <tr>\n",
              "      <th>5</th>\n",
              "      <td>Trap from Future</td>\n",
              "      <td>Wow!</td>\n",
              "      <td>6</td>\n",
              "      <td>3</td>\n",
              "    </tr>\n",
              "    <tr>\n",
              "      <th>6</th>\n",
              "      <td>Trap from Future</td>\n",
              "      <td>Não Posso Morrer Novo</td>\n",
              "      <td>7</td>\n",
              "      <td>3</td>\n",
              "    </tr>\n",
              "    <tr>\n",
              "      <th>7</th>\n",
              "      <td>Trap from Future</td>\n",
              "      <td>Fuck Cópias</td>\n",
              "      <td>8</td>\n",
              "      <td>2</td>\n",
              "    </tr>\n",
              "    <tr>\n",
              "      <th>8</th>\n",
              "      <td>Trap from Future</td>\n",
              "      <td>Passa Nada</td>\n",
              "      <td>9</td>\n",
              "      <td>3</td>\n",
              "    </tr>\n",
              "    <tr>\n",
              "      <th>9</th>\n",
              "      <td>Trap from Future</td>\n",
              "      <td>Novo Rock</td>\n",
              "      <td>10</td>\n",
              "      <td>1</td>\n",
              "    </tr>\n",
              "  </tbody>\n",
              "</table>\n",
              "</div>"
            ],
            "text/plain": [
              "      nome_do_album          nome_da_faixa  posicao_da_faixa  popularidade\n",
              "0  Trap from Future         Vem No Tum Tum                 1            18\n",
              "1  Trap from Future           Drip Know Me                 2             2\n",
              "2  Trap from Future                  Match                 3             4\n",
              "3  Trap from Future           Trap & Brega                 4             6\n",
              "4  Trap from Future        Marca Sem Roupa                 5             6\n",
              "5  Trap from Future                   Wow!                 6             3\n",
              "6  Trap from Future  Não Posso Morrer Novo                 7             3\n",
              "7  Trap from Future            Fuck Cópias                 8             2\n",
              "8  Trap from Future             Passa Nada                 9             3\n",
              "9  Trap from Future              Novo Rock                10             1"
            ]
          },
          "metadata": {
            "tags": []
          },
          "execution_count": 74
        }
      ]
    },
    {
      "cell_type": "code",
      "metadata": {
        "id": "iDJkyVnM43rm",
        "colab_type": "code",
        "colab": {
          "base_uri": "https://localhost:8080/",
          "height": 359
        },
        "outputId": "5caca4b3-19ec-4a34-c0b9-eeb320ff0b18"
      },
      "source": [
        "df.tail(10)"
      ],
      "execution_count": 75,
      "outputs": [
        {
          "output_type": "execute_result",
          "data": {
            "text/html": [
              "<div>\n",
              "<style scoped>\n",
              "    .dataframe tbody tr th:only-of-type {\n",
              "        vertical-align: middle;\n",
              "    }\n",
              "\n",
              "    .dataframe tbody tr th {\n",
              "        vertical-align: top;\n",
              "    }\n",
              "\n",
              "    .dataframe thead th {\n",
              "        text-align: right;\n",
              "    }\n",
              "</style>\n",
              "<table border=\"1\" class=\"dataframe\">\n",
              "  <thead>\n",
              "    <tr style=\"text-align: right;\">\n",
              "      <th></th>\n",
              "      <th>nome_do_album</th>\n",
              "      <th>nome_da_faixa</th>\n",
              "      <th>posicao_da_faixa</th>\n",
              "      <th>popularidade</th>\n",
              "    </tr>\n",
              "  </thead>\n",
              "  <tbody>\n",
              "    <tr>\n",
              "      <th>23</th>\n",
              "      <td>Trap de Cria Mixtape</td>\n",
              "      <td>Isso Que É Foda</td>\n",
              "      <td>9</td>\n",
              "      <td>4</td>\n",
              "    </tr>\n",
              "    <tr>\n",
              "      <th>24</th>\n",
              "      <td>Trap de Cria Mixtape</td>\n",
              "      <td>Pjl</td>\n",
              "      <td>10</td>\n",
              "      <td>0</td>\n",
              "    </tr>\n",
              "    <tr>\n",
              "      <th>25</th>\n",
              "      <td>Real Plug Mixtape</td>\n",
              "      <td>The Train</td>\n",
              "      <td>1</td>\n",
              "      <td>0</td>\n",
              "    </tr>\n",
              "    <tr>\n",
              "      <th>26</th>\n",
              "      <td>Real Plug Mixtape</td>\n",
              "      <td>Fica Bem</td>\n",
              "      <td>2</td>\n",
              "      <td>0</td>\n",
              "    </tr>\n",
              "    <tr>\n",
              "      <th>27</th>\n",
              "      <td>Real Plug Mixtape</td>\n",
              "      <td>Gospel</td>\n",
              "      <td>3</td>\n",
              "      <td>0</td>\n",
              "    </tr>\n",
              "    <tr>\n",
              "      <th>28</th>\n",
              "      <td>Real Plug Mixtape</td>\n",
              "      <td>Nxanx</td>\n",
              "      <td>4</td>\n",
              "      <td>0</td>\n",
              "    </tr>\n",
              "    <tr>\n",
              "      <th>29</th>\n",
              "      <td>Real Plug Mixtape</td>\n",
              "      <td>Tudo</td>\n",
              "      <td>5</td>\n",
              "      <td>0</td>\n",
              "    </tr>\n",
              "    <tr>\n",
              "      <th>30</th>\n",
              "      <td>Real Plug Mixtape</td>\n",
              "      <td>A Lei</td>\n",
              "      <td>6</td>\n",
              "      <td>0</td>\n",
              "    </tr>\n",
              "    <tr>\n",
              "      <th>31</th>\n",
              "      <td>Real Plug Mixtape</td>\n",
              "      <td>Dreams Cup</td>\n",
              "      <td>7</td>\n",
              "      <td>0</td>\n",
              "    </tr>\n",
              "    <tr>\n",
              "      <th>32</th>\n",
              "      <td>Real Plug Mixtape</td>\n",
              "      <td>2020</td>\n",
              "      <td>8</td>\n",
              "      <td>4</td>\n",
              "    </tr>\n",
              "  </tbody>\n",
              "</table>\n",
              "</div>"
            ],
            "text/plain": [
              "           nome_do_album    nome_da_faixa  posicao_da_faixa  popularidade\n",
              "23  Trap de Cria Mixtape  Isso Que É Foda                 9             4\n",
              "24  Trap de Cria Mixtape              Pjl                10             0\n",
              "25     Real Plug Mixtape        The Train                 1             0\n",
              "26     Real Plug Mixtape         Fica Bem                 2             0\n",
              "27     Real Plug Mixtape           Gospel                 3             0\n",
              "28     Real Plug Mixtape            Nxanx                 4             0\n",
              "29     Real Plug Mixtape             Tudo                 5             0\n",
              "30     Real Plug Mixtape            A Lei                 6             0\n",
              "31     Real Plug Mixtape       Dreams Cup                 7             0\n",
              "32     Real Plug Mixtape             2020                 8             4"
            ]
          },
          "metadata": {
            "tags": []
          },
          "execution_count": 75
        }
      ]
    },
    {
      "cell_type": "markdown",
      "metadata": {
        "id": "J28eDwuY7gzj",
        "colab_type": "text"
      },
      "source": [
        "Contexto...Todos os registros passam alguma informação...."
      ]
    },
    {
      "cell_type": "markdown",
      "metadata": {
        "id": "p_TuMmkQ6tQV",
        "colab_type": "text"
      },
      "source": [
        "Contexto, Real plug mixtape é o album mais antigo, por isso sua popularidade não tem muitos número, devido que a popularidade está relacionada a musicas ouvidas no momento... Intrigante é a faixa 2020 que ainda se mantém com uma boa popularidade, vamos analisar mais essa faixa na análise exploratoria"
      ]
    },
    {
      "cell_type": "markdown",
      "metadata": {
        "id": "-6AH6Cor69h2",
        "colab_type": "text"
      },
      "source": [
        "De fato 2020 poderia ter sido um ano de sucesso e uma ascensao da faixa 2020, como grande promessa, porem a faixa também fala de anos posteriores, como 2023, quem sabe nesse ano coisas grandes venham a acontecer.."
      ]
    },
    {
      "cell_type": "markdown",
      "metadata": {
        "id": "gB0OLMab7v5T",
        "colab_type": "text"
      },
      "source": [
        "### **Verificar os tipos de colunas** "
      ]
    },
    {
      "cell_type": "markdown",
      "metadata": {
        "id": "8wadGexE8g6R",
        "colab_type": "text"
      },
      "source": [
        "contexto... É importante verificar se nenhuma coluna foi preenchida de forma errada, ou seja, a coluna trata-se de uma coluna inteira, mas está como string"
      ]
    },
    {
      "cell_type": "code",
      "metadata": {
        "id": "5BA_syqA70om",
        "colab_type": "code",
        "colab": {
          "base_uri": "https://localhost:8080/",
          "height": 102
        },
        "outputId": "69ad7a35-8928-4ccb-923c-bba0d6fb61d5"
      },
      "source": [
        "df.dtypes"
      ],
      "execution_count": 76,
      "outputs": [
        {
          "output_type": "execute_result",
          "data": {
            "text/plain": [
              "nome_do_album       object\n",
              "nome_da_faixa       object\n",
              "posicao_da_faixa     int64\n",
              "popularidade         int64\n",
              "dtype: object"
            ]
          },
          "metadata": {
            "tags": []
          },
          "execution_count": 76
        }
      ]
    },
    {
      "cell_type": "code",
      "metadata": {
        "id": "vKtltNmfRaZW",
        "colab_type": "code",
        "colab": {
          "base_uri": "https://localhost:8080/",
          "height": 68
        },
        "outputId": "c51ddae3-fa7c-46d9-8d1d-bb2efaa3ae61"
      },
      "source": [
        "df.dtypes.value_counts()"
      ],
      "execution_count": 118,
      "outputs": [
        {
          "output_type": "execute_result",
          "data": {
            "text/plain": [
              "int64     2\n",
              "object    2\n",
              "dtype: int64"
            ]
          },
          "metadata": {
            "tags": []
          },
          "execution_count": 118
        }
      ]
    },
    {
      "cell_type": "markdown",
      "metadata": {
        "id": "EVn5DLnq8j8F",
        "colab_type": "text"
      },
      "source": [
        "contexto... Temos 2 faixas do tipo objeto e 2 faixas do tipo inteiro"
      ]
    },
    {
      "cell_type": "code",
      "metadata": {
        "id": "1fxGcBj18pud",
        "colab_type": "code",
        "colab": {
          "base_uri": "https://localhost:8080/",
          "height": 204
        },
        "outputId": "dd2ecd19-f349-4f67-98bf-14aeb8912041"
      },
      "source": [
        "df.head()"
      ],
      "execution_count": 77,
      "outputs": [
        {
          "output_type": "execute_result",
          "data": {
            "text/html": [
              "<div>\n",
              "<style scoped>\n",
              "    .dataframe tbody tr th:only-of-type {\n",
              "        vertical-align: middle;\n",
              "    }\n",
              "\n",
              "    .dataframe tbody tr th {\n",
              "        vertical-align: top;\n",
              "    }\n",
              "\n",
              "    .dataframe thead th {\n",
              "        text-align: right;\n",
              "    }\n",
              "</style>\n",
              "<table border=\"1\" class=\"dataframe\">\n",
              "  <thead>\n",
              "    <tr style=\"text-align: right;\">\n",
              "      <th></th>\n",
              "      <th>nome_do_album</th>\n",
              "      <th>nome_da_faixa</th>\n",
              "      <th>posicao_da_faixa</th>\n",
              "      <th>popularidade</th>\n",
              "    </tr>\n",
              "  </thead>\n",
              "  <tbody>\n",
              "    <tr>\n",
              "      <th>0</th>\n",
              "      <td>Trap from Future</td>\n",
              "      <td>Vem No Tum Tum</td>\n",
              "      <td>1</td>\n",
              "      <td>18</td>\n",
              "    </tr>\n",
              "    <tr>\n",
              "      <th>1</th>\n",
              "      <td>Trap from Future</td>\n",
              "      <td>Drip Know Me</td>\n",
              "      <td>2</td>\n",
              "      <td>2</td>\n",
              "    </tr>\n",
              "    <tr>\n",
              "      <th>2</th>\n",
              "      <td>Trap from Future</td>\n",
              "      <td>Match</td>\n",
              "      <td>3</td>\n",
              "      <td>4</td>\n",
              "    </tr>\n",
              "    <tr>\n",
              "      <th>3</th>\n",
              "      <td>Trap from Future</td>\n",
              "      <td>Trap &amp; Brega</td>\n",
              "      <td>4</td>\n",
              "      <td>6</td>\n",
              "    </tr>\n",
              "    <tr>\n",
              "      <th>4</th>\n",
              "      <td>Trap from Future</td>\n",
              "      <td>Marca Sem Roupa</td>\n",
              "      <td>5</td>\n",
              "      <td>6</td>\n",
              "    </tr>\n",
              "  </tbody>\n",
              "</table>\n",
              "</div>"
            ],
            "text/plain": [
              "      nome_do_album    nome_da_faixa  posicao_da_faixa  popularidade\n",
              "0  Trap from Future   Vem No Tum Tum                 1            18\n",
              "1  Trap from Future     Drip Know Me                 2             2\n",
              "2  Trap from Future            Match                 3             4\n",
              "3  Trap from Future     Trap & Brega                 4             6\n",
              "4  Trap from Future  Marca Sem Roupa                 5             6"
            ]
          },
          "metadata": {
            "tags": []
          },
          "execution_count": 77
        }
      ]
    },
    {
      "cell_type": "markdown",
      "metadata": {
        "id": "z_pqpa5u8zOo",
        "colab_type": "text"
      },
      "source": [
        "contexto"
      ]
    },
    {
      "cell_type": "markdown",
      "metadata": {
        "id": "6Z-by3vz953I",
        "colab_type": "text"
      },
      "source": [
        "### **Alterando tipo de colunas**"
      ]
    },
    {
      "cell_type": "markdown",
      "metadata": {
        "id": "vC4umD2--LVU",
        "colab_type": "text"
      },
      "source": [
        "Nesse projeto nao vamos alterar o tipo das colunas...contexto"
      ]
    },
    {
      "cell_type": "markdown",
      "metadata": {
        "id": "GHyD5ioD-ot1",
        "colab_type": "text"
      },
      "source": [
        "Porém se quisessemos alterar, poderiamos fazer da seguinte forma..."
      ]
    },
    {
      "cell_type": "code",
      "metadata": {
        "id": "4jryO7Wz-QEi",
        "colab_type": "code",
        "colab": {}
      },
      "source": [
        "df['popularidade'] = df['popularidade'].astype(float)"
      ],
      "execution_count": 78,
      "outputs": []
    },
    {
      "cell_type": "code",
      "metadata": {
        "id": "q1oBcUQW-fCb",
        "colab_type": "code",
        "colab": {
          "base_uri": "https://localhost:8080/",
          "height": 102
        },
        "outputId": "49bd1541-6533-4339-8020-6e16781f23c0"
      },
      "source": [
        "df.dtypes"
      ],
      "execution_count": 79,
      "outputs": [
        {
          "output_type": "execute_result",
          "data": {
            "text/plain": [
              "nome_do_album        object\n",
              "nome_da_faixa        object\n",
              "posicao_da_faixa      int64\n",
              "popularidade        float64\n",
              "dtype: object"
            ]
          },
          "metadata": {
            "tags": []
          },
          "execution_count": 79
        }
      ]
    },
    {
      "cell_type": "code",
      "metadata": {
        "id": "j6cinTFU-tcl",
        "colab_type": "code",
        "colab": {}
      },
      "source": [
        "df['popularidade'] = df['popularidade'].astype(int)"
      ],
      "execution_count": 80,
      "outputs": []
    },
    {
      "cell_type": "markdown",
      "metadata": {
        "id": "Kb_cUdwq-4QL",
        "colab_type": "text"
      },
      "source": [
        "contexto"
      ]
    },
    {
      "cell_type": "markdown",
      "metadata": {
        "id": "Nepa2iEoI2aq",
        "colab_type": "text"
      },
      "source": [
        "### **Corrigindo dados divergentes**"
      ]
    },
    {
      "cell_type": "markdown",
      "metadata": {
        "id": "pZ8_w_XkR1H3",
        "colab_type": "text"
      },
      "source": [
        "O ponto importante que acho interessante de falar que não aconteceu nesse dataset é sobre dados divergentes, que podem surgir em alguns conjuntos de dados.  Uma forma eficiente de filtrar e remover o que não for necessário é utilizando expressões regulares. Não entraremos em detalhes sobre a utilização dessas funções."
      ]
    },
    {
      "cell_type": "markdown",
      "metadata": {
        "id": "z8BAuTWBI5R9",
        "colab_type": "text"
      },
      "source": [
        "https://medium.com/@lucasoliveiras/limpeza-e-prepara%C3%A7%C3%A3o-dos-dados-com-pandas-856e844abfbb"
      ]
    },
    {
      "cell_type": "markdown",
      "metadata": {
        "id": "EUKrBfxQAXzW",
        "colab_type": "text"
      },
      "source": [
        "### **Verificando valores duplicados**"
      ]
    },
    {
      "cell_type": "markdown",
      "metadata": {
        "id": "N_cTzLAOTjME",
        "colab_type": "text"
      },
      "source": [
        "Contexto...Valores duplicados são encontrados com frequência e dependendo da análise que será feita, esses valores podem alterar o resultado final."
      ]
    },
    {
      "cell_type": "markdown",
      "metadata": {
        "id": "kqnoyzIuIyhR",
        "colab_type": "text"
      },
      "source": [
        "https://medium.com/@lucasoliveiras/limpeza-e-prepara%C3%A7%C3%A3o-dos-dados-com-pandas-856e844abfbb"
      ]
    },
    {
      "cell_type": "markdown",
      "metadata": {
        "id": "u6jP13AqAeCf",
        "colab_type": "text"
      },
      "source": [
        "Por se tratar de um dataset com diversas musicas, e numeros, é importante verificar se não tem dados duplicados"
      ]
    },
    {
      "cell_type": "code",
      "metadata": {
        "id": "spYdCRZdALh6",
        "colab_type": "code",
        "colab": {
          "base_uri": "https://localhost:8080/",
          "height": 51
        },
        "outputId": "cb270879-bb11-4dac-9318-aca8dc050c03"
      },
      "source": [
        "df.duplicated().value_counts()"
      ],
      "execution_count": 122,
      "outputs": [
        {
          "output_type": "execute_result",
          "data": {
            "text/plain": [
              "False    33\n",
              "dtype: int64"
            ]
          },
          "metadata": {
            "tags": []
          },
          "execution_count": 122
        }
      ]
    },
    {
      "cell_type": "markdown",
      "metadata": {
        "id": "gi1AnCn2A5lb",
        "colab_type": "text"
      },
      "source": [
        "contexto"
      ]
    },
    {
      "cell_type": "markdown",
      "metadata": {
        "id": "wYCBfOpbSXPy",
        "colab_type": "text"
      },
      "source": [
        "## **Exploração de Visualização dos dados**"
      ]
    },
    {
      "cell_type": "markdown",
      "metadata": {
        "id": "Fqn9WZ569esa",
        "colab_type": "text"
      },
      "source": [
        "INVESTIR TEMPO NA VISUALIZAÇÃO DE DADOS, TANTO PRA APRENDER COMO PRA DEIXAR BONITO"
      ]
    },
    {
      "cell_type": "markdown",
      "metadata": {
        "id": "IwW7eMjpUpQY",
        "colab_type": "text"
      },
      "source": [
        "### **Analise exploratoria de dados**"
      ]
    },
    {
      "cell_type": "markdown",
      "metadata": {
        "id": "byPK-A7qTwZY",
        "colab_type": "text"
      },
      "source": [
        "contexto... Toda exploração de dados está relacionada a hipoteses,  avaliar pressupostos sobre os quais a inferencia estatistica se baseara...."
      ]
    },
    {
      "cell_type": "markdown",
      "metadata": {
        "id": "FTsPEFYiUHyo",
        "colab_type": "text"
      },
      "source": [
        "Então vamos definir algumas perguntas que queremos responder na analise exploratoria dos dados, para reter informações... A análise exploratoria deve se chegar ao fim, quando for identificado que já se atingiu o objetivo desejado,, na prática isso é definido pela área de negocios."
      ]
    },
    {
      "cell_type": "markdown",
      "metadata": {
        "id": "yWQ61UuNSwxi",
        "colab_type": "text"
      },
      "source": [
        "Ainda não disse quais perguntas vamos responder. Então vamos lá:\n",
        "\n",
        "* Qual é a música mais popular de Nexo?\n",
        "* Qual é o álbum mais popular?\n",
        "* E o single?\n",
        "\n",
        "Apostas: \n",
        "\n",
        "* No album Real Plug, ...\n",
        "* No album Trap de Cria, acredito que seja OI Fake \n",
        "* No album TFF, acredito que seja Match, por mais que a minha preferida seja ...\n",
        "\n",
        "* Musica mais pouplar, Ratatah \n",
        "* Album mais popular, TFF\n",
        "* **O sucesso Trap de cria**\n"
      ]
    },
    {
      "cell_type": "markdown",
      "metadata": {
        "id": "fifzbKOCWKIB",
        "colab_type": "text"
      },
      "source": [
        "contexto"
      ]
    },
    {
      "cell_type": "markdown",
      "metadata": {
        "id": "XWhkOsDfWLkU",
        "colab_type": "text"
      },
      "source": [
        "Vamos começar visualizando novamente nosso dataframe..."
      ]
    },
    {
      "cell_type": "code",
      "metadata": {
        "id": "GsxDgj-fVKxe",
        "colab_type": "code",
        "colab": {
          "base_uri": "https://localhost:8080/",
          "height": 204
        },
        "outputId": "d89565ce-5e51-4ee7-da09-db94a639c8e2"
      },
      "source": [
        "df.head()"
      ],
      "execution_count": 123,
      "outputs": [
        {
          "output_type": "execute_result",
          "data": {
            "text/html": [
              "<div>\n",
              "<style scoped>\n",
              "    .dataframe tbody tr th:only-of-type {\n",
              "        vertical-align: middle;\n",
              "    }\n",
              "\n",
              "    .dataframe tbody tr th {\n",
              "        vertical-align: top;\n",
              "    }\n",
              "\n",
              "    .dataframe thead th {\n",
              "        text-align: right;\n",
              "    }\n",
              "</style>\n",
              "<table border=\"1\" class=\"dataframe\">\n",
              "  <thead>\n",
              "    <tr style=\"text-align: right;\">\n",
              "      <th></th>\n",
              "      <th>nome_do_album</th>\n",
              "      <th>nome_da_faixa</th>\n",
              "      <th>posicao_da_faixa</th>\n",
              "      <th>popularidade</th>\n",
              "    </tr>\n",
              "  </thead>\n",
              "  <tbody>\n",
              "    <tr>\n",
              "      <th>0</th>\n",
              "      <td>Trap from Future</td>\n",
              "      <td>Vem No Tum Tum</td>\n",
              "      <td>1</td>\n",
              "      <td>18</td>\n",
              "    </tr>\n",
              "    <tr>\n",
              "      <th>1</th>\n",
              "      <td>Trap from Future</td>\n",
              "      <td>Drip Know Me</td>\n",
              "      <td>2</td>\n",
              "      <td>2</td>\n",
              "    </tr>\n",
              "    <tr>\n",
              "      <th>2</th>\n",
              "      <td>Trap from Future</td>\n",
              "      <td>Match</td>\n",
              "      <td>3</td>\n",
              "      <td>4</td>\n",
              "    </tr>\n",
              "    <tr>\n",
              "      <th>3</th>\n",
              "      <td>Trap from Future</td>\n",
              "      <td>Trap &amp; Brega</td>\n",
              "      <td>4</td>\n",
              "      <td>6</td>\n",
              "    </tr>\n",
              "    <tr>\n",
              "      <th>4</th>\n",
              "      <td>Trap from Future</td>\n",
              "      <td>Marca Sem Roupa</td>\n",
              "      <td>5</td>\n",
              "      <td>6</td>\n",
              "    </tr>\n",
              "  </tbody>\n",
              "</table>\n",
              "</div>"
            ],
            "text/plain": [
              "      nome_do_album    nome_da_faixa  posicao_da_faixa  popularidade\n",
              "0  Trap from Future   Vem No Tum Tum                 1            18\n",
              "1  Trap from Future     Drip Know Me                 2             2\n",
              "2  Trap from Future            Match                 3             4\n",
              "3  Trap from Future     Trap & Brega                 4             6\n",
              "4  Trap from Future  Marca Sem Roupa                 5             6"
            ]
          },
          "metadata": {
            "tags": []
          },
          "execution_count": 123
        }
      ]
    },
    {
      "cell_type": "markdown",
      "metadata": {
        "id": "2LFe7JMwWREn",
        "colab_type": "text"
      },
      "source": [
        "Qual é a música mais popular de NexoAnexo no momento? Data = "
      ]
    },
    {
      "cell_type": "code",
      "metadata": {
        "id": "j2AN68OGVRL3",
        "colab_type": "code",
        "colab": {
          "base_uri": "https://localhost:8080/",
          "height": 1000
        },
        "outputId": "e5d2a5f2-b17d-4ef8-9486-891b2d709bd1"
      },
      "source": [
        "df[['nome_da_faixa', 'popularidade']].sort_values(ascending=False, by='popularidade').reset_index(drop=True)"
      ],
      "execution_count": 143,
      "outputs": [
        {
          "output_type": "execute_result",
          "data": {
            "text/html": [
              "<div>\n",
              "<style scoped>\n",
              "    .dataframe tbody tr th:only-of-type {\n",
              "        vertical-align: middle;\n",
              "    }\n",
              "\n",
              "    .dataframe tbody tr th {\n",
              "        vertical-align: top;\n",
              "    }\n",
              "\n",
              "    .dataframe thead th {\n",
              "        text-align: right;\n",
              "    }\n",
              "</style>\n",
              "<table border=\"1\" class=\"dataframe\">\n",
              "  <thead>\n",
              "    <tr style=\"text-align: right;\">\n",
              "      <th></th>\n",
              "      <th>nome_da_faixa</th>\n",
              "      <th>popularidade</th>\n",
              "    </tr>\n",
              "  </thead>\n",
              "  <tbody>\n",
              "    <tr>\n",
              "      <th>0</th>\n",
              "      <td>Vem No Tum Tum</td>\n",
              "      <td>18</td>\n",
              "    </tr>\n",
              "    <tr>\n",
              "      <th>1</th>\n",
              "      <td>Trap de Cria</td>\n",
              "      <td>9</td>\n",
              "    </tr>\n",
              "    <tr>\n",
              "      <th>2</th>\n",
              "      <td>Trap &amp; Brega</td>\n",
              "      <td>6</td>\n",
              "    </tr>\n",
              "    <tr>\n",
              "      <th>3</th>\n",
              "      <td>Marca Sem Roupa</td>\n",
              "      <td>6</td>\n",
              "    </tr>\n",
              "    <tr>\n",
              "      <th>4</th>\n",
              "      <td>Fogo No Incenso</td>\n",
              "      <td>4</td>\n",
              "    </tr>\n",
              "    <tr>\n",
              "      <th>5</th>\n",
              "      <td>Isso Que É Foda</td>\n",
              "      <td>4</td>\n",
              "    </tr>\n",
              "    <tr>\n",
              "      <th>6</th>\n",
              "      <td>2020</td>\n",
              "      <td>4</td>\n",
              "    </tr>\n",
              "    <tr>\n",
              "      <th>7</th>\n",
              "      <td>Match</td>\n",
              "      <td>4</td>\n",
              "    </tr>\n",
              "    <tr>\n",
              "      <th>8</th>\n",
              "      <td>Wow!</td>\n",
              "      <td>3</td>\n",
              "    </tr>\n",
              "    <tr>\n",
              "      <th>9</th>\n",
              "      <td>Como Tem Que Ser</td>\n",
              "      <td>3</td>\n",
              "    </tr>\n",
              "    <tr>\n",
              "      <th>10</th>\n",
              "      <td>Grife</td>\n",
              "      <td>3</td>\n",
              "    </tr>\n",
              "    <tr>\n",
              "      <th>11</th>\n",
              "      <td>Não Posso Morrer Novo</td>\n",
              "      <td>3</td>\n",
              "    </tr>\n",
              "    <tr>\n",
              "      <th>12</th>\n",
              "      <td>Passa Nada</td>\n",
              "      <td>3</td>\n",
              "    </tr>\n",
              "    <tr>\n",
              "      <th>13</th>\n",
              "      <td>Fuck Cópias</td>\n",
              "      <td>2</td>\n",
              "    </tr>\n",
              "    <tr>\n",
              "      <th>14</th>\n",
              "      <td>Drip Know Me</td>\n",
              "      <td>2</td>\n",
              "    </tr>\n",
              "    <tr>\n",
              "      <th>15</th>\n",
              "      <td>A Lista das Bandidas</td>\n",
              "      <td>2</td>\n",
              "    </tr>\n",
              "    <tr>\n",
              "      <th>16</th>\n",
              "      <td>Baila Comigo?</td>\n",
              "      <td>2</td>\n",
              "    </tr>\n",
              "    <tr>\n",
              "      <th>17</th>\n",
              "      <td>Hino dos Irmãos</td>\n",
              "      <td>1</td>\n",
              "    </tr>\n",
              "    <tr>\n",
              "      <th>18</th>\n",
              "      <td>A3</td>\n",
              "      <td>1</td>\n",
              "    </tr>\n",
              "    <tr>\n",
              "      <th>19</th>\n",
              "      <td>Novo Rock</td>\n",
              "      <td>1</td>\n",
              "    </tr>\n",
              "    <tr>\n",
              "      <th>20</th>\n",
              "      <td>Bebê da Cara de Mal</td>\n",
              "      <td>1</td>\n",
              "    </tr>\n",
              "    <tr>\n",
              "      <th>21</th>\n",
              "      <td>Aliviando o Stress</td>\n",
              "      <td>1</td>\n",
              "    </tr>\n",
              "    <tr>\n",
              "      <th>22</th>\n",
              "      <td>Zombieland</td>\n",
              "      <td>1</td>\n",
              "    </tr>\n",
              "    <tr>\n",
              "      <th>23</th>\n",
              "      <td>Video Call</td>\n",
              "      <td>1</td>\n",
              "    </tr>\n",
              "    <tr>\n",
              "      <th>24</th>\n",
              "      <td>E Ai Fake</td>\n",
              "      <td>1</td>\n",
              "    </tr>\n",
              "    <tr>\n",
              "      <th>25</th>\n",
              "      <td>The Train</td>\n",
              "      <td>0</td>\n",
              "    </tr>\n",
              "    <tr>\n",
              "      <th>26</th>\n",
              "      <td>Fica Bem</td>\n",
              "      <td>0</td>\n",
              "    </tr>\n",
              "    <tr>\n",
              "      <th>27</th>\n",
              "      <td>Gospel</td>\n",
              "      <td>0</td>\n",
              "    </tr>\n",
              "    <tr>\n",
              "      <th>28</th>\n",
              "      <td>Nxanx</td>\n",
              "      <td>0</td>\n",
              "    </tr>\n",
              "    <tr>\n",
              "      <th>29</th>\n",
              "      <td>Tudo</td>\n",
              "      <td>0</td>\n",
              "    </tr>\n",
              "    <tr>\n",
              "      <th>30</th>\n",
              "      <td>A Lei</td>\n",
              "      <td>0</td>\n",
              "    </tr>\n",
              "    <tr>\n",
              "      <th>31</th>\n",
              "      <td>Dreams Cup</td>\n",
              "      <td>0</td>\n",
              "    </tr>\n",
              "    <tr>\n",
              "      <th>32</th>\n",
              "      <td>Pjl</td>\n",
              "      <td>0</td>\n",
              "    </tr>\n",
              "  </tbody>\n",
              "</table>\n",
              "</div>"
            ],
            "text/plain": [
              "            nome_da_faixa  popularidade\n",
              "0          Vem No Tum Tum            18\n",
              "1            Trap de Cria             9\n",
              "2            Trap & Brega             6\n",
              "3         Marca Sem Roupa             6\n",
              "4         Fogo No Incenso             4\n",
              "5         Isso Que É Foda             4\n",
              "6                    2020             4\n",
              "7                   Match             4\n",
              "8                    Wow!             3\n",
              "9        Como Tem Que Ser             3\n",
              "10                  Grife             3\n",
              "11  Não Posso Morrer Novo             3\n",
              "12             Passa Nada             3\n",
              "13            Fuck Cópias             2\n",
              "14           Drip Know Me             2\n",
              "15   A Lista das Bandidas             2\n",
              "16          Baila Comigo?             2\n",
              "17        Hino dos Irmãos             1\n",
              "18                     A3             1\n",
              "19              Novo Rock             1\n",
              "20    Bebê da Cara de Mal             1\n",
              "21     Aliviando o Stress             1\n",
              "22             Zombieland             1\n",
              "23             Video Call             1\n",
              "24              E Ai Fake             1\n",
              "25              The Train             0\n",
              "26               Fica Bem             0\n",
              "27                 Gospel             0\n",
              "28                  Nxanx             0\n",
              "29                   Tudo             0\n",
              "30                  A Lei             0\n",
              "31             Dreams Cup             0\n",
              "32                    Pjl             0"
            ]
          },
          "metadata": {
            "tags": []
          },
          "execution_count": 143
        }
      ]
    },
    {
      "cell_type": "markdown",
      "metadata": {
        "id": "ETKrI5uEXLNs",
        "colab_type": "text"
      },
      "source": [
        "O que me surpreende nessa primeira visão é a faixa Trap de Cria, que foi um lançamento do album Trap de Cria Mixtape, antes do Trap From Future. Mas não é só isso que dá pra observar, a faixa 2020 está a frente de muitas da musicas do recente album Trap From Future. "
      ]
    },
    {
      "cell_type": "markdown",
      "metadata": {
        "id": "4qzoWwkeXyjv",
        "colab_type": "text"
      },
      "source": [
        "Um questionamento que tenho é se a popularidade dessas faixas que estão em alta tem relação com a posição das faixas. Tendo em vista, que a primeira faixa sempre é a primeira a tocar obviamente, sempre que inicia a playlist. Mas antes disso vamos separar os albuns por variveis para a analise ficar mais clara e facil."
      ]
    },
    {
      "cell_type": "markdown",
      "metadata": {
        "colab_type": "text",
        "id": "F-3Rqc1UzITW"
      },
      "source": [
        "**Definindo por albumns**"
      ]
    },
    {
      "cell_type": "code",
      "metadata": {
        "colab_type": "code",
        "id": "Hq3BGi4bzamu",
        "colab": {}
      },
      "source": [
        "rmx = df.query(\"nome_do_album == 'Real Plug Mixtape' \")"
      ],
      "execution_count": 82,
      "outputs": []
    },
    {
      "cell_type": "code",
      "metadata": {
        "colab_type": "code",
        "id": "5U-ltK3bzanC",
        "colab": {}
      },
      "source": [
        "tcm = df.query(\"nome_do_album == 'Trap de Cria Mixtape' \")"
      ],
      "execution_count": 83,
      "outputs": []
    },
    {
      "cell_type": "code",
      "metadata": {
        "colab_type": "code",
        "id": "nQ1FFWU4zanI",
        "colab": {}
      },
      "source": [
        "tff = df.query(\"nome_do_album == 'Trap from Future' \")"
      ],
      "execution_count": 84,
      "outputs": []
    },
    {
      "cell_type": "markdown",
      "metadata": {
        "id": "n2bI0C6gYbVG",
        "colab_type": "text"
      },
      "source": [
        "contexto"
      ]
    },
    {
      "cell_type": "markdown",
      "metadata": {
        "colab_type": "text",
        "id": "85tzj87kzane"
      },
      "source": [
        "**Total de musicas**"
      ]
    },
    {
      "cell_type": "code",
      "metadata": {
        "colab_type": "code",
        "id": "_VGu6Obmzanf",
        "colab": {
          "base_uri": "https://localhost:8080/",
          "height": 34
        },
        "outputId": "acfe8fea-252b-4587-f9a3-07195713e316"
      },
      "source": [
        "df['nome_da_faixa'].count()"
      ],
      "execution_count": 88,
      "outputs": [
        {
          "output_type": "execute_result",
          "data": {
            "text/plain": [
              "33"
            ]
          },
          "metadata": {
            "tags": []
          },
          "execution_count": 88
        }
      ]
    },
    {
      "cell_type": "markdown",
      "metadata": {
        "colab_type": "text",
        "id": "HewMCWqdzank"
      },
      "source": [
        "**Musicas por album**"
      ]
    },
    {
      "cell_type": "markdown",
      "metadata": {
        "id": "1rOcLE1_YoT7",
        "colab_type": "text"
      },
      "source": [
        "Albúm RealPlug MTP:"
      ]
    },
    {
      "cell_type": "code",
      "metadata": {
        "id": "RMmerNw7YmXc",
        "colab_type": "code",
        "colab": {
          "base_uri": "https://localhost:8080/",
          "height": 297
        },
        "outputId": "0b3b5f03-4332-491c-b9e0-19e3824280a6"
      },
      "source": [
        "rmx[['posicao_da_faixa', 'nome_da_faixa']].reset_index(drop=True)"
      ],
      "execution_count": 162,
      "outputs": [
        {
          "output_type": "execute_result",
          "data": {
            "text/html": [
              "<div>\n",
              "<style scoped>\n",
              "    .dataframe tbody tr th:only-of-type {\n",
              "        vertical-align: middle;\n",
              "    }\n",
              "\n",
              "    .dataframe tbody tr th {\n",
              "        vertical-align: top;\n",
              "    }\n",
              "\n",
              "    .dataframe thead th {\n",
              "        text-align: right;\n",
              "    }\n",
              "</style>\n",
              "<table border=\"1\" class=\"dataframe\">\n",
              "  <thead>\n",
              "    <tr style=\"text-align: right;\">\n",
              "      <th></th>\n",
              "      <th>posicao_da_faixa</th>\n",
              "      <th>nome_da_faixa</th>\n",
              "    </tr>\n",
              "  </thead>\n",
              "  <tbody>\n",
              "    <tr>\n",
              "      <th>0</th>\n",
              "      <td>1</td>\n",
              "      <td>The Train</td>\n",
              "    </tr>\n",
              "    <tr>\n",
              "      <th>1</th>\n",
              "      <td>2</td>\n",
              "      <td>Fica Bem</td>\n",
              "    </tr>\n",
              "    <tr>\n",
              "      <th>2</th>\n",
              "      <td>3</td>\n",
              "      <td>Gospel</td>\n",
              "    </tr>\n",
              "    <tr>\n",
              "      <th>3</th>\n",
              "      <td>4</td>\n",
              "      <td>Nxanx</td>\n",
              "    </tr>\n",
              "    <tr>\n",
              "      <th>4</th>\n",
              "      <td>5</td>\n",
              "      <td>Tudo</td>\n",
              "    </tr>\n",
              "    <tr>\n",
              "      <th>5</th>\n",
              "      <td>6</td>\n",
              "      <td>A Lei</td>\n",
              "    </tr>\n",
              "    <tr>\n",
              "      <th>6</th>\n",
              "      <td>7</td>\n",
              "      <td>Dreams Cup</td>\n",
              "    </tr>\n",
              "    <tr>\n",
              "      <th>7</th>\n",
              "      <td>8</td>\n",
              "      <td>2020</td>\n",
              "    </tr>\n",
              "  </tbody>\n",
              "</table>\n",
              "</div>"
            ],
            "text/plain": [
              "   posicao_da_faixa nome_da_faixa\n",
              "0                 1     The Train\n",
              "1                 2      Fica Bem\n",
              "2                 3        Gospel\n",
              "3                 4         Nxanx\n",
              "4                 5          Tudo\n",
              "5                 6         A Lei\n",
              "6                 7    Dreams Cup\n",
              "7                 8          2020"
            ]
          },
          "metadata": {
            "tags": []
          },
          "execution_count": 162
        }
      ]
    },
    {
      "cell_type": "markdown",
      "metadata": {
        "id": "dwLWmZYeaw0F",
        "colab_type": "text"
      },
      "source": [
        "Já conseguimos observar aqui que de fato a faixa 2020 é um sucesso, tendo em vista que tem uma popularidade alta mesmo estando na ultima posicao do album, por que normalmente as ultimas faixas são as menos ouvidas."
      ]
    },
    {
      "cell_type": "markdown",
      "metadata": {
        "id": "NmYcGJwHYr51",
        "colab_type": "text"
      },
      "source": [
        "Albúm Trap de cria:"
      ]
    },
    {
      "cell_type": "code",
      "metadata": {
        "id": "EBbaP2_BYzPh",
        "colab_type": "code",
        "colab": {
          "base_uri": "https://localhost:8080/",
          "height": 359
        },
        "outputId": "965ed1c5-b6eb-425c-9cb2-3ab6953b77aa"
      },
      "source": [
        "tcm[['posicao_da_faixa', 'nome_da_faixa']].reset_index(drop=True)"
      ],
      "execution_count": 161,
      "outputs": [
        {
          "output_type": "execute_result",
          "data": {
            "text/html": [
              "<div>\n",
              "<style scoped>\n",
              "    .dataframe tbody tr th:only-of-type {\n",
              "        vertical-align: middle;\n",
              "    }\n",
              "\n",
              "    .dataframe tbody tr th {\n",
              "        vertical-align: top;\n",
              "    }\n",
              "\n",
              "    .dataframe thead th {\n",
              "        text-align: right;\n",
              "    }\n",
              "</style>\n",
              "<table border=\"1\" class=\"dataframe\">\n",
              "  <thead>\n",
              "    <tr style=\"text-align: right;\">\n",
              "      <th></th>\n",
              "      <th>posicao_da_faixa</th>\n",
              "      <th>nome_da_faixa</th>\n",
              "    </tr>\n",
              "  </thead>\n",
              "  <tbody>\n",
              "    <tr>\n",
              "      <th>0</th>\n",
              "      <td>1</td>\n",
              "      <td>Trap de Cria</td>\n",
              "    </tr>\n",
              "    <tr>\n",
              "      <th>1</th>\n",
              "      <td>2</td>\n",
              "      <td>A Lista das Bandidas</td>\n",
              "    </tr>\n",
              "    <tr>\n",
              "      <th>2</th>\n",
              "      <td>3</td>\n",
              "      <td>A3</td>\n",
              "    </tr>\n",
              "    <tr>\n",
              "      <th>3</th>\n",
              "      <td>4</td>\n",
              "      <td>E Ai Fake</td>\n",
              "    </tr>\n",
              "    <tr>\n",
              "      <th>4</th>\n",
              "      <td>5</td>\n",
              "      <td>Video Call</td>\n",
              "    </tr>\n",
              "    <tr>\n",
              "      <th>5</th>\n",
              "      <td>6</td>\n",
              "      <td>Aliviando o Stress</td>\n",
              "    </tr>\n",
              "    <tr>\n",
              "      <th>6</th>\n",
              "      <td>7</td>\n",
              "      <td>Hino dos Irmãos</td>\n",
              "    </tr>\n",
              "    <tr>\n",
              "      <th>7</th>\n",
              "      <td>8</td>\n",
              "      <td>Bebê da Cara de Mal</td>\n",
              "    </tr>\n",
              "    <tr>\n",
              "      <th>8</th>\n",
              "      <td>9</td>\n",
              "      <td>Isso Que É Foda</td>\n",
              "    </tr>\n",
              "    <tr>\n",
              "      <th>9</th>\n",
              "      <td>10</td>\n",
              "      <td>Pjl</td>\n",
              "    </tr>\n",
              "  </tbody>\n",
              "</table>\n",
              "</div>"
            ],
            "text/plain": [
              "   posicao_da_faixa         nome_da_faixa\n",
              "0                 1          Trap de Cria\n",
              "1                 2  A Lista das Bandidas\n",
              "2                 3                    A3\n",
              "3                 4             E Ai Fake\n",
              "4                 5            Video Call\n",
              "5                 6    Aliviando o Stress\n",
              "6                 7       Hino dos Irmãos\n",
              "7                 8   Bebê da Cara de Mal\n",
              "8                 9       Isso Que É Foda\n",
              "9                10                   Pjl"
            ]
          },
          "metadata": {
            "tags": []
          },
          "execution_count": 161
        }
      ]
    },
    {
      "cell_type": "markdown",
      "metadata": {
        "id": "GXKrLyhMbFZd",
        "colab_type": "text"
      },
      "source": [
        "contexto"
      ]
    },
    {
      "cell_type": "markdown",
      "metadata": {
        "id": "k8-XFkOmY3MF",
        "colab_type": "text"
      },
      "source": [
        "Trap from future:"
      ]
    },
    {
      "cell_type": "code",
      "metadata": {
        "id": "ekpuLHPJY8gA",
        "colab_type": "code",
        "colab": {
          "base_uri": "https://localhost:8080/",
          "height": 514
        },
        "outputId": "6b0edab9-d956-4ece-ecd6-a0ea2ecb1be9"
      },
      "source": [
        "tff[['posicao_da_faixa', 'nome_da_faixa']]"
      ],
      "execution_count": 159,
      "outputs": [
        {
          "output_type": "execute_result",
          "data": {
            "text/html": [
              "<div>\n",
              "<style scoped>\n",
              "    .dataframe tbody tr th:only-of-type {\n",
              "        vertical-align: middle;\n",
              "    }\n",
              "\n",
              "    .dataframe tbody tr th {\n",
              "        vertical-align: top;\n",
              "    }\n",
              "\n",
              "    .dataframe thead th {\n",
              "        text-align: right;\n",
              "    }\n",
              "</style>\n",
              "<table border=\"1\" class=\"dataframe\">\n",
              "  <thead>\n",
              "    <tr style=\"text-align: right;\">\n",
              "      <th></th>\n",
              "      <th>posicao_da_faixa</th>\n",
              "      <th>nome_da_faixa</th>\n",
              "    </tr>\n",
              "  </thead>\n",
              "  <tbody>\n",
              "    <tr>\n",
              "      <th>0</th>\n",
              "      <td>1</td>\n",
              "      <td>Vem No Tum Tum</td>\n",
              "    </tr>\n",
              "    <tr>\n",
              "      <th>1</th>\n",
              "      <td>2</td>\n",
              "      <td>Drip Know Me</td>\n",
              "    </tr>\n",
              "    <tr>\n",
              "      <th>2</th>\n",
              "      <td>3</td>\n",
              "      <td>Match</td>\n",
              "    </tr>\n",
              "    <tr>\n",
              "      <th>3</th>\n",
              "      <td>4</td>\n",
              "      <td>Trap &amp; Brega</td>\n",
              "    </tr>\n",
              "    <tr>\n",
              "      <th>4</th>\n",
              "      <td>5</td>\n",
              "      <td>Marca Sem Roupa</td>\n",
              "    </tr>\n",
              "    <tr>\n",
              "      <th>5</th>\n",
              "      <td>6</td>\n",
              "      <td>Wow!</td>\n",
              "    </tr>\n",
              "    <tr>\n",
              "      <th>6</th>\n",
              "      <td>7</td>\n",
              "      <td>Não Posso Morrer Novo</td>\n",
              "    </tr>\n",
              "    <tr>\n",
              "      <th>7</th>\n",
              "      <td>8</td>\n",
              "      <td>Fuck Cópias</td>\n",
              "    </tr>\n",
              "    <tr>\n",
              "      <th>8</th>\n",
              "      <td>9</td>\n",
              "      <td>Passa Nada</td>\n",
              "    </tr>\n",
              "    <tr>\n",
              "      <th>9</th>\n",
              "      <td>10</td>\n",
              "      <td>Novo Rock</td>\n",
              "    </tr>\n",
              "    <tr>\n",
              "      <th>10</th>\n",
              "      <td>11</td>\n",
              "      <td>Como Tem Que Ser</td>\n",
              "    </tr>\n",
              "    <tr>\n",
              "      <th>11</th>\n",
              "      <td>12</td>\n",
              "      <td>Grife</td>\n",
              "    </tr>\n",
              "    <tr>\n",
              "      <th>12</th>\n",
              "      <td>13</td>\n",
              "      <td>Fogo No Incenso</td>\n",
              "    </tr>\n",
              "    <tr>\n",
              "      <th>13</th>\n",
              "      <td>14</td>\n",
              "      <td>Zombieland</td>\n",
              "    </tr>\n",
              "    <tr>\n",
              "      <th>14</th>\n",
              "      <td>15</td>\n",
              "      <td>Baila Comigo?</td>\n",
              "    </tr>\n",
              "  </tbody>\n",
              "</table>\n",
              "</div>"
            ],
            "text/plain": [
              "    posicao_da_faixa          nome_da_faixa\n",
              "0                  1         Vem No Tum Tum\n",
              "1                  2           Drip Know Me\n",
              "2                  3                  Match\n",
              "3                  4           Trap & Brega\n",
              "4                  5        Marca Sem Roupa\n",
              "5                  6                   Wow!\n",
              "6                  7  Não Posso Morrer Novo\n",
              "7                  8            Fuck Cópias\n",
              "8                  9             Passa Nada\n",
              "9                 10              Novo Rock\n",
              "10                11       Como Tem Que Ser\n",
              "11                12                  Grife\n",
              "12                13        Fogo No Incenso\n",
              "13                14             Zombieland\n",
              "14                15          Baila Comigo?"
            ]
          },
          "metadata": {
            "tags": []
          },
          "execution_count": 159
        }
      ]
    },
    {
      "cell_type": "markdown",
      "metadata": {
        "id": "XjEAlrKtbCYI",
        "colab_type": "text"
      },
      "source": [
        "contexto"
      ]
    },
    {
      "cell_type": "markdown",
      "metadata": {
        "colab_type": "text",
        "id": "IFTyenRszanp"
      },
      "source": [
        "**Verificando se a popularidade das track tem a relação com sua posição**"
      ]
    },
    {
      "cell_type": "code",
      "metadata": {
        "colab_type": "code",
        "id": "PTLYymbXzanq",
        "colab": {
          "base_uri": "https://localhost:8080/",
          "height": 514
        },
        "outputId": "651db54f-605e-42cc-8951-9b85ca6a1dde"
      },
      "source": [
        "tff[['nome_da_faixa', 'posicao_da_faixa', 'popularidade']]"
      ],
      "execution_count": 163,
      "outputs": [
        {
          "output_type": "execute_result",
          "data": {
            "text/html": [
              "<div>\n",
              "<style scoped>\n",
              "    .dataframe tbody tr th:only-of-type {\n",
              "        vertical-align: middle;\n",
              "    }\n",
              "\n",
              "    .dataframe tbody tr th {\n",
              "        vertical-align: top;\n",
              "    }\n",
              "\n",
              "    .dataframe thead th {\n",
              "        text-align: right;\n",
              "    }\n",
              "</style>\n",
              "<table border=\"1\" class=\"dataframe\">\n",
              "  <thead>\n",
              "    <tr style=\"text-align: right;\">\n",
              "      <th></th>\n",
              "      <th>nome_da_faixa</th>\n",
              "      <th>posicao_da_faixa</th>\n",
              "      <th>popularidade</th>\n",
              "    </tr>\n",
              "  </thead>\n",
              "  <tbody>\n",
              "    <tr>\n",
              "      <th>0</th>\n",
              "      <td>Vem No Tum Tum</td>\n",
              "      <td>1</td>\n",
              "      <td>18</td>\n",
              "    </tr>\n",
              "    <tr>\n",
              "      <th>1</th>\n",
              "      <td>Drip Know Me</td>\n",
              "      <td>2</td>\n",
              "      <td>2</td>\n",
              "    </tr>\n",
              "    <tr>\n",
              "      <th>2</th>\n",
              "      <td>Match</td>\n",
              "      <td>3</td>\n",
              "      <td>4</td>\n",
              "    </tr>\n",
              "    <tr>\n",
              "      <th>3</th>\n",
              "      <td>Trap &amp; Brega</td>\n",
              "      <td>4</td>\n",
              "      <td>6</td>\n",
              "    </tr>\n",
              "    <tr>\n",
              "      <th>4</th>\n",
              "      <td>Marca Sem Roupa</td>\n",
              "      <td>5</td>\n",
              "      <td>6</td>\n",
              "    </tr>\n",
              "    <tr>\n",
              "      <th>5</th>\n",
              "      <td>Wow!</td>\n",
              "      <td>6</td>\n",
              "      <td>3</td>\n",
              "    </tr>\n",
              "    <tr>\n",
              "      <th>6</th>\n",
              "      <td>Não Posso Morrer Novo</td>\n",
              "      <td>7</td>\n",
              "      <td>3</td>\n",
              "    </tr>\n",
              "    <tr>\n",
              "      <th>7</th>\n",
              "      <td>Fuck Cópias</td>\n",
              "      <td>8</td>\n",
              "      <td>2</td>\n",
              "    </tr>\n",
              "    <tr>\n",
              "      <th>8</th>\n",
              "      <td>Passa Nada</td>\n",
              "      <td>9</td>\n",
              "      <td>3</td>\n",
              "    </tr>\n",
              "    <tr>\n",
              "      <th>9</th>\n",
              "      <td>Novo Rock</td>\n",
              "      <td>10</td>\n",
              "      <td>1</td>\n",
              "    </tr>\n",
              "    <tr>\n",
              "      <th>10</th>\n",
              "      <td>Como Tem Que Ser</td>\n",
              "      <td>11</td>\n",
              "      <td>3</td>\n",
              "    </tr>\n",
              "    <tr>\n",
              "      <th>11</th>\n",
              "      <td>Grife</td>\n",
              "      <td>12</td>\n",
              "      <td>3</td>\n",
              "    </tr>\n",
              "    <tr>\n",
              "      <th>12</th>\n",
              "      <td>Fogo No Incenso</td>\n",
              "      <td>13</td>\n",
              "      <td>4</td>\n",
              "    </tr>\n",
              "    <tr>\n",
              "      <th>13</th>\n",
              "      <td>Zombieland</td>\n",
              "      <td>14</td>\n",
              "      <td>1</td>\n",
              "    </tr>\n",
              "    <tr>\n",
              "      <th>14</th>\n",
              "      <td>Baila Comigo?</td>\n",
              "      <td>15</td>\n",
              "      <td>2</td>\n",
              "    </tr>\n",
              "  </tbody>\n",
              "</table>\n",
              "</div>"
            ],
            "text/plain": [
              "            nome_da_faixa  posicao_da_faixa  popularidade\n",
              "0          Vem No Tum Tum                 1            18\n",
              "1            Drip Know Me                 2             2\n",
              "2                   Match                 3             4\n",
              "3            Trap & Brega                 4             6\n",
              "4         Marca Sem Roupa                 5             6\n",
              "5                    Wow!                 6             3\n",
              "6   Não Posso Morrer Novo                 7             3\n",
              "7             Fuck Cópias                 8             2\n",
              "8              Passa Nada                 9             3\n",
              "9               Novo Rock                10             1\n",
              "10       Como Tem Que Ser                11             3\n",
              "11                  Grife                12             3\n",
              "12        Fogo No Incenso                13             4\n",
              "13             Zombieland                14             1\n",
              "14          Baila Comigo?                15             2"
            ]
          },
          "metadata": {
            "tags": []
          },
          "execution_count": 163
        }
      ]
    },
    {
      "cell_type": "markdown",
      "metadata": {
        "id": "gpqwNRtwJIti",
        "colab_type": "text"
      },
      "source": [
        "A primeira faixa é a mais popular, mas sei que a primeira faixa é sempre a primeira a tocar numa playlist do spotify e nem sempre é a que você mais ouve, mas ela torna-se a mais ouvida por sempre que inicia a playlist ela é a primeira a tocar."
      ]
    },
    {
      "cell_type": "markdown",
      "metadata": {
        "id": "MfkShA9_JiYJ",
        "colab_type": "text"
      },
      "source": [
        "Isso também pode ser aplicado aqui, por que se a posição tivesse relação com a popularidade as outras faixas seguintes também deveriam continuar sendo as mais populosas, que não acontece.."
      ]
    },
    {
      "cell_type": "markdown",
      "metadata": {
        "colab_type": "text",
        "id": "WxNHoDNScESv"
      },
      "source": [
        "contexto, particulamente curto muito a musica Novo Rock com uma pegada diferente e faz lembrar o estilo bate cabeça"
      ]
    },
    {
      "cell_type": "code",
      "metadata": {
        "colab_type": "code",
        "id": "fHJWKMl3zanu",
        "colab": {
          "base_uri": "https://localhost:8080/",
          "height": 297
        },
        "outputId": "0211e584-df9c-43b4-ab11-8943050466e5"
      },
      "source": [
        "rmx[['nome_da_faixa','posicao_da_faixa', 'popularidade']].reset_index(drop=True)"
      ],
      "execution_count": 165,
      "outputs": [
        {
          "output_type": "execute_result",
          "data": {
            "text/html": [
              "<div>\n",
              "<style scoped>\n",
              "    .dataframe tbody tr th:only-of-type {\n",
              "        vertical-align: middle;\n",
              "    }\n",
              "\n",
              "    .dataframe tbody tr th {\n",
              "        vertical-align: top;\n",
              "    }\n",
              "\n",
              "    .dataframe thead th {\n",
              "        text-align: right;\n",
              "    }\n",
              "</style>\n",
              "<table border=\"1\" class=\"dataframe\">\n",
              "  <thead>\n",
              "    <tr style=\"text-align: right;\">\n",
              "      <th></th>\n",
              "      <th>nome_da_faixa</th>\n",
              "      <th>posicao_da_faixa</th>\n",
              "      <th>popularidade</th>\n",
              "    </tr>\n",
              "  </thead>\n",
              "  <tbody>\n",
              "    <tr>\n",
              "      <th>0</th>\n",
              "      <td>The Train</td>\n",
              "      <td>1</td>\n",
              "      <td>0</td>\n",
              "    </tr>\n",
              "    <tr>\n",
              "      <th>1</th>\n",
              "      <td>Fica Bem</td>\n",
              "      <td>2</td>\n",
              "      <td>0</td>\n",
              "    </tr>\n",
              "    <tr>\n",
              "      <th>2</th>\n",
              "      <td>Gospel</td>\n",
              "      <td>3</td>\n",
              "      <td>0</td>\n",
              "    </tr>\n",
              "    <tr>\n",
              "      <th>3</th>\n",
              "      <td>Nxanx</td>\n",
              "      <td>4</td>\n",
              "      <td>0</td>\n",
              "    </tr>\n",
              "    <tr>\n",
              "      <th>4</th>\n",
              "      <td>Tudo</td>\n",
              "      <td>5</td>\n",
              "      <td>0</td>\n",
              "    </tr>\n",
              "    <tr>\n",
              "      <th>5</th>\n",
              "      <td>A Lei</td>\n",
              "      <td>6</td>\n",
              "      <td>0</td>\n",
              "    </tr>\n",
              "    <tr>\n",
              "      <th>6</th>\n",
              "      <td>Dreams Cup</td>\n",
              "      <td>7</td>\n",
              "      <td>0</td>\n",
              "    </tr>\n",
              "    <tr>\n",
              "      <th>7</th>\n",
              "      <td>2020</td>\n",
              "      <td>8</td>\n",
              "      <td>4</td>\n",
              "    </tr>\n",
              "  </tbody>\n",
              "</table>\n",
              "</div>"
            ],
            "text/plain": [
              "  nome_da_faixa  posicao_da_faixa  popularidade\n",
              "0     The Train                 1             0\n",
              "1      Fica Bem                 2             0\n",
              "2        Gospel                 3             0\n",
              "3         Nxanx                 4             0\n",
              "4          Tudo                 5             0\n",
              "5         A Lei                 6             0\n",
              "6    Dreams Cup                 7             0\n",
              "7          2020                 8             4"
            ]
          },
          "metadata": {
            "tags": []
          },
          "execution_count": 165
        }
      ]
    },
    {
      "cell_type": "markdown",
      "metadata": {
        "id": "4z4TxyGQbZ2_",
        "colab_type": "text"
      },
      "source": [
        "Como dito anteriormente é possivel observar que a faixa 2020 é de fato um sucesso, por que se analisarmos as musicas que estão na ultima posição de cada album, em sua maioria são as menos ouvidas."
      ]
    },
    {
      "cell_type": "markdown",
      "metadata": {
        "id": "UnI2poN055zE",
        "colab_type": "text"
      },
      "source": [
        "É incrivel como 2020 ainda possui um alcance grande, mesmo que a popularidade esteja pequena, é uma musica que está a frente de grandes faixas do recente album lançado, tff, como a faixa Wow."
      ]
    },
    {
      "cell_type": "code",
      "metadata": {
        "colab_type": "code",
        "id": "s9d19YcCzany",
        "colab": {
          "base_uri": "https://localhost:8080/",
          "height": 359
        },
        "outputId": "f260a66b-319c-4ebd-d6d0-826026229f55"
      },
      "source": [
        "tcm[['nome_da_faixa','posicao_da_faixa', 'popularidade']].reset_index(drop=True)"
      ],
      "execution_count": 167,
      "outputs": [
        {
          "output_type": "execute_result",
          "data": {
            "text/html": [
              "<div>\n",
              "<style scoped>\n",
              "    .dataframe tbody tr th:only-of-type {\n",
              "        vertical-align: middle;\n",
              "    }\n",
              "\n",
              "    .dataframe tbody tr th {\n",
              "        vertical-align: top;\n",
              "    }\n",
              "\n",
              "    .dataframe thead th {\n",
              "        text-align: right;\n",
              "    }\n",
              "</style>\n",
              "<table border=\"1\" class=\"dataframe\">\n",
              "  <thead>\n",
              "    <tr style=\"text-align: right;\">\n",
              "      <th></th>\n",
              "      <th>nome_da_faixa</th>\n",
              "      <th>posicao_da_faixa</th>\n",
              "      <th>popularidade</th>\n",
              "    </tr>\n",
              "  </thead>\n",
              "  <tbody>\n",
              "    <tr>\n",
              "      <th>0</th>\n",
              "      <td>Trap de Cria</td>\n",
              "      <td>1</td>\n",
              "      <td>9</td>\n",
              "    </tr>\n",
              "    <tr>\n",
              "      <th>1</th>\n",
              "      <td>A Lista das Bandidas</td>\n",
              "      <td>2</td>\n",
              "      <td>2</td>\n",
              "    </tr>\n",
              "    <tr>\n",
              "      <th>2</th>\n",
              "      <td>A3</td>\n",
              "      <td>3</td>\n",
              "      <td>1</td>\n",
              "    </tr>\n",
              "    <tr>\n",
              "      <th>3</th>\n",
              "      <td>E Ai Fake</td>\n",
              "      <td>4</td>\n",
              "      <td>1</td>\n",
              "    </tr>\n",
              "    <tr>\n",
              "      <th>4</th>\n",
              "      <td>Video Call</td>\n",
              "      <td>5</td>\n",
              "      <td>1</td>\n",
              "    </tr>\n",
              "    <tr>\n",
              "      <th>5</th>\n",
              "      <td>Aliviando o Stress</td>\n",
              "      <td>6</td>\n",
              "      <td>1</td>\n",
              "    </tr>\n",
              "    <tr>\n",
              "      <th>6</th>\n",
              "      <td>Hino dos Irmãos</td>\n",
              "      <td>7</td>\n",
              "      <td>1</td>\n",
              "    </tr>\n",
              "    <tr>\n",
              "      <th>7</th>\n",
              "      <td>Bebê da Cara de Mal</td>\n",
              "      <td>8</td>\n",
              "      <td>1</td>\n",
              "    </tr>\n",
              "    <tr>\n",
              "      <th>8</th>\n",
              "      <td>Isso Que É Foda</td>\n",
              "      <td>9</td>\n",
              "      <td>4</td>\n",
              "    </tr>\n",
              "    <tr>\n",
              "      <th>9</th>\n",
              "      <td>Pjl</td>\n",
              "      <td>10</td>\n",
              "      <td>0</td>\n",
              "    </tr>\n",
              "  </tbody>\n",
              "</table>\n",
              "</div>"
            ],
            "text/plain": [
              "          nome_da_faixa  posicao_da_faixa  popularidade\n",
              "0          Trap de Cria                 1             9\n",
              "1  A Lista das Bandidas                 2             2\n",
              "2                    A3                 3             1\n",
              "3             E Ai Fake                 4             1\n",
              "4            Video Call                 5             1\n",
              "5    Aliviando o Stress                 6             1\n",
              "6       Hino dos Irmãos                 7             1\n",
              "7   Bebê da Cara de Mal                 8             1\n",
              "8       Isso Que É Foda                 9             4\n",
              "9                   Pjl                10             0"
            ]
          },
          "metadata": {
            "tags": []
          },
          "execution_count": 167
        }
      ]
    },
    {
      "cell_type": "markdown",
      "metadata": {
        "id": "AGiNbIQHbuyl",
        "colab_type": "text"
      },
      "source": [
        "Assim como no album TFF, a musica mais popular deste album é a que está na primeira posição, vale resaltar que a musica Trap de cria é a musica mais popular de todos os albuns, como foi visto anteriormente."
      ]
    },
    {
      "cell_type": "markdown",
      "metadata": {
        "id": "RCCJ9Lbw6kpu",
        "colab_type": "text"
      },
      "source": [
        "contexto"
      ]
    },
    {
      "cell_type": "markdown",
      "metadata": {
        "id": "GbRmLXIdcTUY",
        "colab_type": "text"
      },
      "source": [
        "### **Aplicar metricas estatisticas (mode, median, media)**"
      ]
    },
    {
      "cell_type": "markdown",
      "metadata": {
        "id": "jMd-sXZO4DdM",
        "colab_type": "text"
      },
      "source": [
        "# Classificação da popularidade"
      ]
    },
    {
      "cell_type": "code",
      "metadata": {
        "id": "40DfFBwp36Eq",
        "colab_type": "code",
        "colab": {
          "base_uri": "https://localhost:8080/",
          "height": 595
        },
        "outputId": "c781d70a-1445-4039-be7f-fbe4fe9942cb"
      },
      "source": [
        "df['popularidade'].sort_values(ascending=False)"
      ],
      "execution_count": 96,
      "outputs": [
        {
          "output_type": "execute_result",
          "data": {
            "text/plain": [
              "0     18\n",
              "15     9\n",
              "3      6\n",
              "4      6\n",
              "23     4\n",
              "2      4\n",
              "12     4\n",
              "32     4\n",
              "5      3\n",
              "6      3\n",
              "8      3\n",
              "10     3\n",
              "11     3\n",
              "1      2\n",
              "7      2\n",
              "16     2\n",
              "14     2\n",
              "17     1\n",
              "13     1\n",
              "18     1\n",
              "19     1\n",
              "9      1\n",
              "20     1\n",
              "21     1\n",
              "22     1\n",
              "30     0\n",
              "28     0\n",
              "29     0\n",
              "24     0\n",
              "25     0\n",
              "26     0\n",
              "31     0\n",
              "27     0\n",
              "Name: popularidade, dtype: int64"
            ]
          },
          "metadata": {
            "tags": []
          },
          "execution_count": 96
        }
      ]
    },
    {
      "cell_type": "code",
      "metadata": {
        "id": "uon3eHyZ4We8",
        "colab_type": "code",
        "colab": {
          "base_uri": "https://localhost:8080/",
          "height": 34
        },
        "outputId": "f9a358c5-7b80-4053-8e55-5b1ba2067622"
      },
      "source": [
        "df['popularidade'].max()"
      ],
      "execution_count": 97,
      "outputs": [
        {
          "output_type": "execute_result",
          "data": {
            "text/plain": [
              "18"
            ]
          },
          "metadata": {
            "tags": []
          },
          "execution_count": 97
        }
      ]
    },
    {
      "cell_type": "code",
      "metadata": {
        "id": "KQnxsWS14Kxz",
        "colab_type": "code",
        "colab": {
          "base_uri": "https://localhost:8080/",
          "height": 34
        },
        "outputId": "1c79127c-0ad6-4ae5-c3d4-847ea58134a4"
      },
      "source": [
        "df['popularidade'].min()"
      ],
      "execution_count": 98,
      "outputs": [
        {
          "output_type": "execute_result",
          "data": {
            "text/plain": [
              "0"
            ]
          },
          "metadata": {
            "tags": []
          },
          "execution_count": 98
        }
      ]
    },
    {
      "cell_type": "markdown",
      "metadata": {
        "id": "1YGpZNi7_tf9",
        "colab_type": "text"
      },
      "source": [
        "**Media da popularidade**"
      ]
    },
    {
      "cell_type": "code",
      "metadata": {
        "id": "IHPqkQW44m-n",
        "colab_type": "code",
        "colab": {
          "base_uri": "https://localhost:8080/",
          "height": 34
        },
        "outputId": "5e36ee96-c72e-4b99-db0b-a16fd2b95bae"
      },
      "source": [
        "tff['popularidade'].mean()"
      ],
      "execution_count": 99,
      "outputs": [
        {
          "output_type": "execute_result",
          "data": {
            "text/plain": [
              "4.066666666666666"
            ]
          },
          "metadata": {
            "tags": []
          },
          "execution_count": 99
        }
      ]
    },
    {
      "cell_type": "code",
      "metadata": {
        "id": "8hso7Owk_1Ck",
        "colab_type": "code",
        "colab": {
          "base_uri": "https://localhost:8080/",
          "height": 34
        },
        "outputId": "7440cf52-466c-41ac-dcfc-4416bbcb44e1"
      },
      "source": [
        "rmx['popularidade'].mean()"
      ],
      "execution_count": 100,
      "outputs": [
        {
          "output_type": "execute_result",
          "data": {
            "text/plain": [
              "0.5"
            ]
          },
          "metadata": {
            "tags": []
          },
          "execution_count": 100
        }
      ]
    },
    {
      "cell_type": "code",
      "metadata": {
        "id": "0b2dOCzY_6HA",
        "colab_type": "code",
        "colab": {
          "base_uri": "https://localhost:8080/",
          "height": 34
        },
        "outputId": "d5544278-5044-4a83-f31d-33b66785e6a7"
      },
      "source": [
        "df['popularidade'].mean()"
      ],
      "execution_count": 101,
      "outputs": [
        {
          "output_type": "execute_result",
          "data": {
            "text/plain": [
              "2.606060606060606"
            ]
          },
          "metadata": {
            "tags": []
          },
          "execution_count": 101
        }
      ]
    },
    {
      "cell_type": "code",
      "metadata": {
        "id": "4Yk4Lg9PAG1z",
        "colab_type": "code",
        "colab": {}
      },
      "source": [
        ""
      ],
      "execution_count": 101,
      "outputs": []
    }
  ]
}