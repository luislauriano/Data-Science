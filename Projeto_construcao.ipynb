{
  "nbformat": 4,
  "nbformat_minor": 0,
  "metadata": {
    "colab": {
      "name": "Welcome To Colaboratory",
      "provenance": [],
      "collapsed_sections": [],
      "include_colab_link": true
    },
    "kernelspec": {
      "display_name": "Python 3",
      "name": "python3"
    }
  },
  "cells": [
    {
      "cell_type": "markdown",
      "metadata": {
        "id": "view-in-github",
        "colab_type": "text"
      },
      "source": [
        "<a href=\"https://colab.research.google.com/github/luislauriano/Data_Science/blob/master/Projeto_construcao.ipynb\" target=\"_parent\"><img src=\"https://colab.research.google.com/assets/colab-badge.svg\" alt=\"Open In Colab\"/></a>"
      ]
    },
    {
      "cell_type": "markdown",
      "metadata": {
        "id": "VZXPZ7YvYYjw",
        "colab_type": "text"
      },
      "source": [
        "# **Explicar toda etapa da API do Spotify**"
      ]
    },
    {
      "cell_type": "code",
      "metadata": {
        "id": "56XPPzuXM_pk",
        "colab_type": "code",
        "colab": {
          "base_uri": "https://localhost:8080/",
          "height": 136
        },
        "outputId": "df51a8a5-a65d-43c4-fc5c-fae9306144fb"
      },
      "source": [
        "!pip install spotipy\n",
        "from spotipy.oauth2 import SpotifyClientCredentials\n",
        "import spotipy\n",
        "import sys\n",
        "import csv\n",
        " \n",
        "sp = spotipy.Spotify(client_credentials_manager = SpotifyClientCredentials(client_id=\"dcffc14978ed497aa58834a7864a99b7\", client_secret=\"e8c5cc78c8e74ccd92323d146c635b47\"))"
      ],
      "execution_count": 12,
      "outputs": [
        {
          "output_type": "stream",
          "text": [
            "Requirement already satisfied: spotipy in /usr/local/lib/python3.6/dist-packages (2.12.0)\n",
            "Requirement already satisfied: six>=1.10.0 in /usr/local/lib/python3.6/dist-packages (from spotipy) (1.12.0)\n",
            "Requirement already satisfied: requests>=2.20.0 in /usr/local/lib/python3.6/dist-packages (from spotipy) (2.23.0)\n",
            "Requirement already satisfied: urllib3!=1.25.0,!=1.25.1,<1.26,>=1.21.1 in /usr/local/lib/python3.6/dist-packages (from requests>=2.20.0->spotipy) (1.24.3)\n",
            "Requirement already satisfied: certifi>=2017.4.17 in /usr/local/lib/python3.6/dist-packages (from requests>=2.20.0->spotipy) (2020.4.5.1)\n",
            "Requirement already satisfied: idna<3,>=2.5 in /usr/local/lib/python3.6/dist-packages (from requests>=2.20.0->spotipy) (2.9)\n",
            "Requirement already satisfied: chardet<4,>=3.0.2 in /usr/local/lib/python3.6/dist-packages (from requests>=2.20.0->spotipy) (3.0.4)\n"
          ],
          "name": "stdout"
        }
      ]
    },
    {
      "cell_type": "code",
      "metadata": {
        "id": "KtKv24PfNgzu",
        "colab_type": "code",
        "colab": {}
      },
      "source": [
        "def get_artist(name):\n",
        "    results = sp.search(name)\n",
        "    items = results['tracks']['items']\n",
        "    if len(items) > 0:\n",
        "        return items[0]['artists'][0]\n",
        "    else:\n",
        "        return None"
      ],
      "execution_count": 0,
      "outputs": []
    },
    {
      "cell_type": "code",
      "metadata": {
        "id": "UmYSgdflNjLm",
        "colab_type": "code",
        "colab": {}
      },
      "source": [
        "def get_artist_id(artist):\n",
        "    return artist['id']"
      ],
      "execution_count": 0,
      "outputs": []
    },
    {
      "cell_type": "code",
      "metadata": {
        "id": "SXSToCCLN9MD",
        "colab_type": "code",
        "colab": {}
      },
      "source": [
        "def get_artist_albums_id_names(id):\n",
        "  albums = sp.artist_albums(id, country = 'BR', limit=3)\n",
        "  albums_id_name = {}\n",
        "  for i in range(len(albums['items'])):\n",
        "    id = albums['items'][i]['id']\n",
        "    name = albums['items'][i]['name']\n",
        "    albums_id_name[id] = name\n",
        " \n",
        "  return albums_id_name"
      ],
      "execution_count": 0,
      "outputs": []
    },
    {
      "cell_type": "code",
      "metadata": {
        "id": "2zvAflToOkUh",
        "colab_type": "code",
        "colab": {}
      },
      "source": [
        "def get_album_songs(album_id, album_name):\n",
        "  spotify_album = {}\n",
        " \n",
        "  tracks = sp.album_tracks(album_id)\n",
        "  \n",
        "  for n in range(len(tracks['items'])):\n",
        "    id_track = tracks['items'][n]['id']\n",
        "    track = sp.track(id_track)\n",
        "    spotify_album[id_track] = {}\n",
        "    \n",
        "    spotify_album[id_track]['album'] = album_name\n",
        "    spotify_album[id_track]['album_type'] = track['album']['album_type']\n",
        "    spotify_album[id_track]['track_number'] = track['track_number']\n",
        "    spotify_album[id_track]['id_track'] = track['id']\n",
        "    spotify_album[id_track]['name'] = track['name']\n",
        "    spotify_album[id_track]['popularity'] = track['popularity']\n",
        "    spotify_album[id_track]['explicit'] = track['explicit']\n",
        "    spotify_album[id_track]['duration_ms'] = track['duration_ms']\n",
        "    spotify_album[id_track]['release_date'] = track['album']['release_date']\n",
        " \n",
        "    artists_track = track['artists']\n",
        "    spotify_album[id_track]['artists'] = []\n",
        "    for artist in artists_track:\n",
        "      spotify_album[id_track]['artists'].append(artist['name'])\n",
        "  return spotify_album\n"
      ],
      "execution_count": 0,
      "outputs": []
    },
    {
      "cell_type": "code",
      "metadata": {
        "id": "IZYiHJ19O7Kv",
        "colab_type": "code",
        "colab": {}
      },
      "source": [
        "def get_all_albums_songs(albums_ids_names):\n",
        "  spotify_albums = []\n",
        "  albums_names = []\n",
        "  for id, name in albums_ids_names.items():\n",
        "    if name not in albums_names:\n",
        "      albums_names.append(name)\n",
        "      album_songs = get_album_songs(id,name) \n",
        "    for item in album_songs.items():\n",
        "      spotify_albums.append(item[1]) \n",
        "  return spotify_albums"
      ],
      "execution_count": 0,
      "outputs": []
    },
    {
      "cell_type": "code",
      "metadata": {
        "id": "K7gosWNWO7w1",
        "colab_type": "code",
        "colab": {}
      },
      "source": [
        "def convert_to_csv(filepath, name):\n",
        "  keys = filepath[0].keys()\n",
        "  print(keys)\n",
        "  csv_name = ''+ name + '.csv'\n",
        "  with open(csv_name, 'w') as output_file:\n",
        "    dict_writer = csv.DictWriter(output_file, keys)\n",
        "    dict_writer.writeheader()\n",
        "    dict_writer.writerows(filepath)\n",
        "  return"
      ],
      "execution_count": 0,
      "outputs": []
    },
    {
      "cell_type": "code",
      "metadata": {
        "id": "Y6u6VYNNO__U",
        "colab_type": "code",
        "colab": {
          "base_uri": "https://localhost:8080/",
          "height": 34
        },
        "outputId": "d5920928-31e7-44eb-ff21-62cf28796eae"
      },
      "source": [
        "name = \"NexoAnexo\"\n",
        "artist = get_artist(name)    \n",
        "if artist:\n",
        "  artist_id = get_artist_id(artist)\n",
        "  albums_id_names = get_artist_albums_id_names(artist_id)\n",
        "  all_albums = get_all_albums_songs(albums_id_names)\n",
        "  convert_to_csv(all_albums, 'NexoAnexo')   \n",
        "else:\n",
        "  logger.error(\"Can't find artist: %s\", artist)"
      ],
      "execution_count": 19,
      "outputs": [
        {
          "output_type": "stream",
          "text": [
            "dict_keys(['album', 'album_type', 'track_number', 'id_track', 'name', 'popularity', 'explicit', 'duration_ms', 'release_date', 'artists'])\n"
          ],
          "name": "stdout"
        }
      ]
    },
    {
      "cell_type": "markdown",
      "metadata": {
        "id": "wYCBfOpbSXPy",
        "colab_type": "text"
      },
      "source": [
        "## **Agora vamos visualizar os dados do meu mano NexoAnexo**"
      ]
    },
    {
      "cell_type": "markdown",
      "metadata": {
        "id": "VUq_eUtiYkYb",
        "colab_type": "text"
      },
      "source": [
        "Colocar todas as etapas do projeto de lol "
      ]
    },
    {
      "cell_type": "markdown",
      "metadata": {
        "id": "yWQ61UuNSwxi",
        "colab_type": "text"
      },
      "source": [
        "Depois de organizar o que gostaríamos de fazer e mexer na API do Spotify para ter um .csv bonito, nos falta apenas as visualizações dos dados. Porém, entretanto, todavia, ainda não disse quais perguntas vamos responder. Então vamos lá:\n",
        "\n",
        "Qual é a música mais popular de Nexo?\n",
        "Qual é o álbum mais popular?\n",
        "E o single?\n",
        "\n",
        "Apostas: \n",
        "\n",
        "No album Real Plug, \n",
        "No album Trap de Cria, acredito que seja OI Fake \n",
        "No album TFF, acredito que seja Match, por mais que a minha preferida seja ...\n",
        "\n",
        "Musica mais pouplar, Ratatah \n",
        "Album mais popular, TFF\n"
      ]
    },
    {
      "cell_type": "markdown",
      "metadata": {
        "id": "m-DA1tqaYRN1",
        "colab_type": "text"
      },
      "source": [
        "Ver se a popularidade está funcionando da maneira correta"
      ]
    },
    {
      "cell_type": "code",
      "metadata": {
        "id": "HODcH0wYPmOL",
        "colab_type": "code",
        "colab": {}
      },
      "source": [
        "import altair as alt\n",
        "import pandas as pd\n",
        " \n",
        "df = pd.read_csv('NexoAnexo.csv')"
      ],
      "execution_count": 0,
      "outputs": []
    },
    {
      "cell_type": "code",
      "metadata": {
        "id": "NDbsFktiRfD6",
        "colab_type": "code",
        "colab": {
          "base_uri": "https://localhost:8080/",
          "height": 204
        },
        "outputId": "fa2cdca3-385a-4147-9386-bb696620d1da"
      },
      "source": [
        "df.head()"
      ],
      "execution_count": 30,
      "outputs": [
        {
          "output_type": "execute_result",
          "data": {
            "text/html": [
              "<div>\n",
              "<style scoped>\n",
              "    .dataframe tbody tr th:only-of-type {\n",
              "        vertical-align: middle;\n",
              "    }\n",
              "\n",
              "    .dataframe tbody tr th {\n",
              "        vertical-align: top;\n",
              "    }\n",
              "\n",
              "    .dataframe thead th {\n",
              "        text-align: right;\n",
              "    }\n",
              "</style>\n",
              "<table border=\"1\" class=\"dataframe\">\n",
              "  <thead>\n",
              "    <tr style=\"text-align: right;\">\n",
              "      <th></th>\n",
              "      <th>album</th>\n",
              "      <th>album_type</th>\n",
              "      <th>track_number</th>\n",
              "      <th>id_track</th>\n",
              "      <th>name</th>\n",
              "      <th>popularity</th>\n",
              "      <th>explicit</th>\n",
              "      <th>duration_ms</th>\n",
              "      <th>release_date</th>\n",
              "      <th>artists</th>\n",
              "    </tr>\n",
              "  </thead>\n",
              "  <tbody>\n",
              "    <tr>\n",
              "      <th>0</th>\n",
              "      <td>Trap from Future</td>\n",
              "      <td>album</td>\n",
              "      <td>1</td>\n",
              "      <td>6Mx214YlNnbj7un9PrvmGi</td>\n",
              "      <td>Vem No Tum Tum</td>\n",
              "      <td>18</td>\n",
              "      <td>True</td>\n",
              "      <td>216917</td>\n",
              "      <td>2020-03-13</td>\n",
              "      <td>['NexoAnexo']</td>\n",
              "    </tr>\n",
              "    <tr>\n",
              "      <th>1</th>\n",
              "      <td>Trap from Future</td>\n",
              "      <td>album</td>\n",
              "      <td>2</td>\n",
              "      <td>1xOs8YJkkKm5HhRiP1ha4g</td>\n",
              "      <td>Drip Know Me</td>\n",
              "      <td>3</td>\n",
              "      <td>True</td>\n",
              "      <td>154646</td>\n",
              "      <td>2020-03-13</td>\n",
              "      <td>['NexoAnexo', 'Drippy Kid Jay']</td>\n",
              "    </tr>\n",
              "    <tr>\n",
              "      <th>2</th>\n",
              "      <td>Trap from Future</td>\n",
              "      <td>album</td>\n",
              "      <td>3</td>\n",
              "      <td>4s4G0Z6mSkrauIvBXRlVHk</td>\n",
              "      <td>Match</td>\n",
              "      <td>5</td>\n",
              "      <td>True</td>\n",
              "      <td>180716</td>\n",
              "      <td>2020-03-13</td>\n",
              "      <td>['NexoAnexo']</td>\n",
              "    </tr>\n",
              "    <tr>\n",
              "      <th>3</th>\n",
              "      <td>Trap from Future</td>\n",
              "      <td>album</td>\n",
              "      <td>4</td>\n",
              "      <td>5C1iQCV3xuc0oHQpe7fhhQ</td>\n",
              "      <td>Trap &amp; Brega</td>\n",
              "      <td>7</td>\n",
              "      <td>True</td>\n",
              "      <td>164468</td>\n",
              "      <td>2020-03-13</td>\n",
              "      <td>['NexoAnexo']</td>\n",
              "    </tr>\n",
              "    <tr>\n",
              "      <th>4</th>\n",
              "      <td>Trap from Future</td>\n",
              "      <td>album</td>\n",
              "      <td>5</td>\n",
              "      <td>3H2TfCpxaSfEh5nVbcDzrp</td>\n",
              "      <td>Marca Sem Roupa</td>\n",
              "      <td>6</td>\n",
              "      <td>True</td>\n",
              "      <td>148364</td>\n",
              "      <td>2020-03-13</td>\n",
              "      <td>['NexoAnexo', 'Victor KR']</td>\n",
              "    </tr>\n",
              "  </tbody>\n",
              "</table>\n",
              "</div>"
            ],
            "text/plain": [
              "              album album_type  ...  release_date                          artists\n",
              "0  Trap from Future      album  ...    2020-03-13                    ['NexoAnexo']\n",
              "1  Trap from Future      album  ...    2020-03-13  ['NexoAnexo', 'Drippy Kid Jay']\n",
              "2  Trap from Future      album  ...    2020-03-13                    ['NexoAnexo']\n",
              "3  Trap from Future      album  ...    2020-03-13                    ['NexoAnexo']\n",
              "4  Trap from Future      album  ...    2020-03-13       ['NexoAnexo', 'Victor KR']\n",
              "\n",
              "[5 rows x 10 columns]"
            ]
          },
          "metadata": {
            "tags": []
          },
          "execution_count": 30
        }
      ]
    },
    {
      "cell_type": "code",
      "metadata": {
        "id": "kYKpCg-ORgeH",
        "colab_type": "code",
        "colab": {
          "base_uri": "https://localhost:8080/",
          "height": 1000
        },
        "outputId": "5469943c-33d9-4c92-caa3-4e4ff0404bcc"
      },
      "source": [
        "df[['name', 'popularity']].sort_values(ascending=False, by ='popularity')"
      ],
      "execution_count": 51,
      "outputs": [
        {
          "output_type": "execute_result",
          "data": {
            "text/html": [
              "<div>\n",
              "<style scoped>\n",
              "    .dataframe tbody tr th:only-of-type {\n",
              "        vertical-align: middle;\n",
              "    }\n",
              "\n",
              "    .dataframe tbody tr th {\n",
              "        vertical-align: top;\n",
              "    }\n",
              "\n",
              "    .dataframe thead th {\n",
              "        text-align: right;\n",
              "    }\n",
              "</style>\n",
              "<table border=\"1\" class=\"dataframe\">\n",
              "  <thead>\n",
              "    <tr style=\"text-align: right;\">\n",
              "      <th></th>\n",
              "      <th>name</th>\n",
              "      <th>popularity</th>\n",
              "    </tr>\n",
              "  </thead>\n",
              "  <tbody>\n",
              "    <tr>\n",
              "      <th>0</th>\n",
              "      <td>Vem No Tum Tum</td>\n",
              "      <td>18</td>\n",
              "    </tr>\n",
              "    <tr>\n",
              "      <th>15</th>\n",
              "      <td>Trap de Cria</td>\n",
              "      <td>9</td>\n",
              "    </tr>\n",
              "    <tr>\n",
              "      <th>3</th>\n",
              "      <td>Trap &amp; Brega</td>\n",
              "      <td>7</td>\n",
              "    </tr>\n",
              "    <tr>\n",
              "      <th>4</th>\n",
              "      <td>Marca Sem Roupa</td>\n",
              "      <td>6</td>\n",
              "    </tr>\n",
              "    <tr>\n",
              "      <th>2</th>\n",
              "      <td>Match</td>\n",
              "      <td>5</td>\n",
              "    </tr>\n",
              "    <tr>\n",
              "      <th>12</th>\n",
              "      <td>Fogo No Incenso</td>\n",
              "      <td>5</td>\n",
              "    </tr>\n",
              "    <tr>\n",
              "      <th>10</th>\n",
              "      <td>Como Tem Que Ser</td>\n",
              "      <td>4</td>\n",
              "    </tr>\n",
              "    <tr>\n",
              "      <th>23</th>\n",
              "      <td>Isso Que É Foda</td>\n",
              "      <td>4</td>\n",
              "    </tr>\n",
              "    <tr>\n",
              "      <th>32</th>\n",
              "      <td>2020</td>\n",
              "      <td>4</td>\n",
              "    </tr>\n",
              "    <tr>\n",
              "      <th>6</th>\n",
              "      <td>Não Posso Morrer Novo</td>\n",
              "      <td>4</td>\n",
              "    </tr>\n",
              "    <tr>\n",
              "      <th>5</th>\n",
              "      <td>Wow!</td>\n",
              "      <td>4</td>\n",
              "    </tr>\n",
              "    <tr>\n",
              "      <th>8</th>\n",
              "      <td>Passa Nada</td>\n",
              "      <td>4</td>\n",
              "    </tr>\n",
              "    <tr>\n",
              "      <th>11</th>\n",
              "      <td>Grife</td>\n",
              "      <td>3</td>\n",
              "    </tr>\n",
              "    <tr>\n",
              "      <th>14</th>\n",
              "      <td>Baila Comigo?</td>\n",
              "      <td>3</td>\n",
              "    </tr>\n",
              "    <tr>\n",
              "      <th>1</th>\n",
              "      <td>Drip Know Me</td>\n",
              "      <td>3</td>\n",
              "    </tr>\n",
              "    <tr>\n",
              "      <th>9</th>\n",
              "      <td>Novo Rock</td>\n",
              "      <td>2</td>\n",
              "    </tr>\n",
              "    <tr>\n",
              "      <th>7</th>\n",
              "      <td>Fuck Cópias</td>\n",
              "      <td>2</td>\n",
              "    </tr>\n",
              "    <tr>\n",
              "      <th>13</th>\n",
              "      <td>Zombieland</td>\n",
              "      <td>2</td>\n",
              "    </tr>\n",
              "    <tr>\n",
              "      <th>20</th>\n",
              "      <td>Aliviando o Stress</td>\n",
              "      <td>1</td>\n",
              "    </tr>\n",
              "    <tr>\n",
              "      <th>22</th>\n",
              "      <td>Bebê da Cara de Mal</td>\n",
              "      <td>1</td>\n",
              "    </tr>\n",
              "    <tr>\n",
              "      <th>21</th>\n",
              "      <td>Hino dos Irmãos</td>\n",
              "      <td>1</td>\n",
              "    </tr>\n",
              "    <tr>\n",
              "      <th>19</th>\n",
              "      <td>Video Call</td>\n",
              "      <td>1</td>\n",
              "    </tr>\n",
              "    <tr>\n",
              "      <th>18</th>\n",
              "      <td>E Ai Fake</td>\n",
              "      <td>1</td>\n",
              "    </tr>\n",
              "    <tr>\n",
              "      <th>17</th>\n",
              "      <td>A3</td>\n",
              "      <td>1</td>\n",
              "    </tr>\n",
              "    <tr>\n",
              "      <th>16</th>\n",
              "      <td>A Lista das Bandidas</td>\n",
              "      <td>1</td>\n",
              "    </tr>\n",
              "    <tr>\n",
              "      <th>24</th>\n",
              "      <td>Pjl</td>\n",
              "      <td>0</td>\n",
              "    </tr>\n",
              "    <tr>\n",
              "      <th>25</th>\n",
              "      <td>The Train</td>\n",
              "      <td>0</td>\n",
              "    </tr>\n",
              "    <tr>\n",
              "      <th>26</th>\n",
              "      <td>Fica Bem</td>\n",
              "      <td>0</td>\n",
              "    </tr>\n",
              "    <tr>\n",
              "      <th>27</th>\n",
              "      <td>Gospel</td>\n",
              "      <td>0</td>\n",
              "    </tr>\n",
              "    <tr>\n",
              "      <th>28</th>\n",
              "      <td>Nxanx</td>\n",
              "      <td>0</td>\n",
              "    </tr>\n",
              "    <tr>\n",
              "      <th>29</th>\n",
              "      <td>Tudo</td>\n",
              "      <td>0</td>\n",
              "    </tr>\n",
              "    <tr>\n",
              "      <th>30</th>\n",
              "      <td>A Lei</td>\n",
              "      <td>0</td>\n",
              "    </tr>\n",
              "    <tr>\n",
              "      <th>31</th>\n",
              "      <td>Dreams Cup</td>\n",
              "      <td>0</td>\n",
              "    </tr>\n",
              "  </tbody>\n",
              "</table>\n",
              "</div>"
            ],
            "text/plain": [
              "                     name  popularity\n",
              "0          Vem No Tum Tum          18\n",
              "15           Trap de Cria           9\n",
              "3            Trap & Brega           7\n",
              "4         Marca Sem Roupa           6\n",
              "2                   Match           5\n",
              "12        Fogo No Incenso           5\n",
              "10       Como Tem Que Ser           4\n",
              "23        Isso Que É Foda           4\n",
              "32                   2020           4\n",
              "6   Não Posso Morrer Novo           4\n",
              "5                    Wow!           4\n",
              "8              Passa Nada           4\n",
              "11                  Grife           3\n",
              "14          Baila Comigo?           3\n",
              "1            Drip Know Me           3\n",
              "9               Novo Rock           2\n",
              "7             Fuck Cópias           2\n",
              "13             Zombieland           2\n",
              "20     Aliviando o Stress           1\n",
              "22    Bebê da Cara de Mal           1\n",
              "21        Hino dos Irmãos           1\n",
              "19             Video Call           1\n",
              "18              E Ai Fake           1\n",
              "17                     A3           1\n",
              "16   A Lista das Bandidas           1\n",
              "24                    Pjl           0\n",
              "25              The Train           0\n",
              "26               Fica Bem           0\n",
              "27                 Gospel           0\n",
              "28                  Nxanx           0\n",
              "29                   Tudo           0\n",
              "30                  A Lei           0\n",
              "31             Dreams Cup           0"
            ]
          },
          "metadata": {
            "tags": []
          },
          "execution_count": 51
        }
      ]
    },
    {
      "cell_type": "code",
      "metadata": {
        "id": "KBCgZ35CVe2G",
        "colab_type": "code",
        "colab": {
          "base_uri": "https://localhost:8080/",
          "height": 463
        },
        "outputId": "bb43691c-490c-4d95-9cf5-61a3d3eabbd4"
      },
      "source": [
        "data_top20 = df.sort_values('popularity', ascending = False).head(20)\n",
        "\n",
        "alt.Chart(data_top20).mark_circle(color = '#222437', opacity = 1).encode(\n",
        "    y = alt.Y('name', axis = alt.Axis(title='Nome'), sort = None),\n",
        "    x = alt.X('popularity', axis = alt.Axis(title = \"Popularidade\")),\n",
        "    tooltip = ['name', 'popularity', 'album', 'album_type']\n",
        ")"
      ],
      "execution_count": 50,
      "outputs": [
        {
          "output_type": "execute_result",
          "data": {
            "text/plain": [
              "alt.Chart(...)"
            ],
            "text/html": [
              "\n",
              "<div id=\"altair-viz-3a742f098af2497d95380419702a175b\"></div>\n",
              "<script type=\"text/javascript\">\n",
              "  (function(spec, embedOpt){\n",
              "    let outputDiv = document.currentScript.previousElementSibling;\n",
              "    if (outputDiv.id !== \"altair-viz-3a742f098af2497d95380419702a175b\") {\n",
              "      outputDiv = document.getElementById(\"altair-viz-3a742f098af2497d95380419702a175b\");\n",
              "    }\n",
              "    const paths = {\n",
              "      \"vega\": \"https://cdn.jsdelivr.net/npm//vega@5?noext\",\n",
              "      \"vega-lib\": \"https://cdn.jsdelivr.net/npm//vega-lib?noext\",\n",
              "      \"vega-lite\": \"https://cdn.jsdelivr.net/npm//vega-lite@4.8.1?noext\",\n",
              "      \"vega-embed\": \"https://cdn.jsdelivr.net/npm//vega-embed@6?noext\",\n",
              "    };\n",
              "\n",
              "    function loadScript(lib) {\n",
              "      return new Promise(function(resolve, reject) {\n",
              "        var s = document.createElement('script');\n",
              "        s.src = paths[lib];\n",
              "        s.async = true;\n",
              "        s.onload = () => resolve(paths[lib]);\n",
              "        s.onerror = () => reject(`Error loading script: ${paths[lib]}`);\n",
              "        document.getElementsByTagName(\"head\")[0].appendChild(s);\n",
              "      });\n",
              "    }\n",
              "\n",
              "    function showError(err) {\n",
              "      outputDiv.innerHTML = `<div class=\"error\" style=\"color:red;\">${err}</div>`;\n",
              "      throw err;\n",
              "    }\n",
              "\n",
              "    function displayChart(vegaEmbed) {\n",
              "      vegaEmbed(outputDiv, spec, embedOpt)\n",
              "        .catch(err => showError(`Javascript Error: ${err.message}<br>This usually means there's a typo in your chart specification. See the javascript console for the full traceback.`));\n",
              "    }\n",
              "\n",
              "    if(typeof define === \"function\" && define.amd) {\n",
              "      requirejs.config({paths});\n",
              "      require([\"vega-embed\"], displayChart, err => showError(`Error loading script: ${err.message}`));\n",
              "    } else if (typeof vegaEmbed === \"function\") {\n",
              "      displayChart(vegaEmbed);\n",
              "    } else {\n",
              "      loadScript(\"vega\")\n",
              "        .then(() => loadScript(\"vega-lite\"))\n",
              "        .then(() => loadScript(\"vega-embed\"))\n",
              "        .catch(showError)\n",
              "        .then(() => displayChart(vegaEmbed));\n",
              "    }\n",
              "  })({\"config\": {\"view\": {\"continuousWidth\": 400, \"continuousHeight\": 300}}, \"data\": {\"name\": \"data-7d0da40a5fffa96eacf06c743f81398b\"}, \"mark\": {\"type\": \"circle\", \"color\": \"#222437\", \"opacity\": 1}, \"encoding\": {\"tooltip\": [{\"type\": \"nominal\", \"field\": \"name\"}, {\"type\": \"quantitative\", \"field\": \"popularity\"}, {\"type\": \"nominal\", \"field\": \"album\"}, {\"type\": \"nominal\", \"field\": \"album_type\"}], \"x\": {\"type\": \"quantitative\", \"axis\": {\"title\": \"Popularidade\"}, \"field\": \"popularity\"}, \"y\": {\"type\": \"nominal\", \"axis\": {\"title\": \"Nome\"}, \"field\": \"name\", \"sort\": null}}, \"$schema\": \"https://vega.github.io/schema/vega-lite/v4.8.1.json\", \"datasets\": {\"data-7d0da40a5fffa96eacf06c743f81398b\": [{\"album\": \"Trap from Future\", \"album_type\": \"album\", \"track_number\": 1, \"id_track\": \"6Mx214YlNnbj7un9PrvmGi\", \"name\": \"Vem No Tum Tum\", \"popularity\": 18, \"explicit\": true, \"duration_ms\": 216917, \"release_date\": \"2020-03-13\", \"artists\": \"['NexoAnexo']\"}, {\"album\": \"Trap de Cria Mixtape\", \"album_type\": \"album\", \"track_number\": 1, \"id_track\": \"1T1oT4ia9vgoUIHczIPhsk\", \"name\": \"Trap de Cria\", \"popularity\": 9, \"explicit\": true, \"duration_ms\": 158634, \"release_date\": \"2019-07-29\", \"artists\": \"['NexoAnexo', 'TheKickBoy']\"}, {\"album\": \"Trap from Future\", \"album_type\": \"album\", \"track_number\": 4, \"id_track\": \"5C1iQCV3xuc0oHQpe7fhhQ\", \"name\": \"Trap & Brega\", \"popularity\": 7, \"explicit\": true, \"duration_ms\": 164468, \"release_date\": \"2020-03-13\", \"artists\": \"['NexoAnexo']\"}, {\"album\": \"Trap from Future\", \"album_type\": \"album\", \"track_number\": 5, \"id_track\": \"3H2TfCpxaSfEh5nVbcDzrp\", \"name\": \"Marca Sem Roupa\", \"popularity\": 6, \"explicit\": true, \"duration_ms\": 148364, \"release_date\": \"2020-03-13\", \"artists\": \"['NexoAnexo', 'Victor KR']\"}, {\"album\": \"Trap from Future\", \"album_type\": \"album\", \"track_number\": 3, \"id_track\": \"4s4G0Z6mSkrauIvBXRlVHk\", \"name\": \"Match\", \"popularity\": 5, \"explicit\": true, \"duration_ms\": 180716, \"release_date\": \"2020-03-13\", \"artists\": \"['NexoAnexo']\"}, {\"album\": \"Trap from Future\", \"album_type\": \"album\", \"track_number\": 13, \"id_track\": \"395I6lTZiL99xnHniKZ5PA\", \"name\": \"Fogo No Incenso\", \"popularity\": 5, \"explicit\": true, \"duration_ms\": 260158, \"release_date\": \"2020-03-13\", \"artists\": \"['NexoAnexo', 'L\\u00e9o da Bodega']\"}, {\"album\": \"Trap from Future\", \"album_type\": \"album\", \"track_number\": 11, \"id_track\": \"44Q3DVLkHklbzBSw4lbgyw\", \"name\": \"Como Tem Que Ser\", \"popularity\": 4, \"explicit\": true, \"duration_ms\": 169166, \"release_date\": \"2020-03-13\", \"artists\": \"['NexoAnexo', 'Rudah', 'Wavee']\"}, {\"album\": \"Trap de Cria Mixtape\", \"album_type\": \"album\", \"track_number\": 9, \"id_track\": \"6qUFQJgAhxB5otxDgYUQdH\", \"name\": \"Isso Que \\u00c9 Foda\", \"popularity\": 4, \"explicit\": true, \"duration_ms\": 135086, \"release_date\": \"2019-07-29\", \"artists\": \"['NexoAnexo']\"}, {\"album\": \"Real Plug Mixtape\", \"album_type\": \"album\", \"track_number\": 8, \"id_track\": \"21hFSC02UuBc4NfHv10J8O\", \"name\": \"2020\", \"popularity\": 4, \"explicit\": true, \"duration_ms\": 154298, \"release_date\": \"2018-05-15\", \"artists\": \"['NexoAnexo']\"}, {\"album\": \"Trap from Future\", \"album_type\": \"album\", \"track_number\": 7, \"id_track\": \"1eFva22COwaEByjSnoOSjx\", \"name\": \"N\\u00e3o Posso Morrer Novo\", \"popularity\": 4, \"explicit\": false, \"duration_ms\": 150116, \"release_date\": \"2020-03-13\", \"artists\": \"['NexoAnexo']\"}, {\"album\": \"Trap from Future\", \"album_type\": \"album\", \"track_number\": 6, \"id_track\": \"0obGglfLwWBXRa8chTF2wW\", \"name\": \"Wow!\", \"popularity\": 4, \"explicit\": true, \"duration_ms\": 145675, \"release_date\": \"2020-03-13\", \"artists\": \"['NexoAnexo']\"}, {\"album\": \"Trap from Future\", \"album_type\": \"album\", \"track_number\": 9, \"id_track\": \"5bx1duyHkWh1pT9hfMNz97\", \"name\": \"Passa Nada\", \"popularity\": 4, \"explicit\": true, \"duration_ms\": 135745, \"release_date\": \"2020-03-13\", \"artists\": \"['NexoAnexo']\"}, {\"album\": \"Trap from Future\", \"album_type\": \"album\", \"track_number\": 12, \"id_track\": \"1Azgt4uiFUO8oKAu428DPv\", \"name\": \"Grife\", \"popularity\": 3, \"explicit\": true, \"duration_ms\": 140925, \"release_date\": \"2020-03-13\", \"artists\": \"['NexoAnexo', 'Vhulto']\"}, {\"album\": \"Trap from Future\", \"album_type\": \"album\", \"track_number\": 15, \"id_track\": \"6995EcL1GtkmeDXf69pzdJ\", \"name\": \"Baila Comigo?\", \"popularity\": 3, \"explicit\": true, \"duration_ms\": 192530, \"release_date\": \"2020-03-13\", \"artists\": \"['NexoAnexo', 'Prodbygrillo']\"}, {\"album\": \"Trap from Future\", \"album_type\": \"album\", \"track_number\": 2, \"id_track\": \"1xOs8YJkkKm5HhRiP1ha4g\", \"name\": \"Drip Know Me\", \"popularity\": 3, \"explicit\": true, \"duration_ms\": 154646, \"release_date\": \"2020-03-13\", \"artists\": \"['NexoAnexo', 'Drippy Kid Jay']\"}, {\"album\": \"Trap from Future\", \"album_type\": \"album\", \"track_number\": 10, \"id_track\": \"27wJhLhJ5DitqVNF0aa3Y0\", \"name\": \"Novo Rock\", \"popularity\": 2, \"explicit\": true, \"duration_ms\": 130971, \"release_date\": \"2020-03-13\", \"artists\": \"['NexoAnexo']\"}, {\"album\": \"Trap from Future\", \"album_type\": \"album\", \"track_number\": 8, \"id_track\": \"3yFbmcmxdQ9ZW5KL4BWNTM\", \"name\": \"Fuck C\\u00f3pias\", \"popularity\": 2, \"explicit\": true, \"duration_ms\": 140880, \"release_date\": \"2020-03-13\", \"artists\": \"['NexoAnexo', 'Vitorm']\"}, {\"album\": \"Trap from Future\", \"album_type\": \"album\", \"track_number\": 14, \"id_track\": \"5aTZgS07v6N3ad4kykhDmU\", \"name\": \"Zombieland\", \"popularity\": 2, \"explicit\": true, \"duration_ms\": 190357, \"release_date\": \"2020-03-13\", \"artists\": \"['NexoAnexo']\"}, {\"album\": \"Trap de Cria Mixtape\", \"album_type\": \"album\", \"track_number\": 6, \"id_track\": \"1odUH2Dq97dJiqEqREdcZx\", \"name\": \"Aliviando o Stress\", \"popularity\": 1, \"explicit\": true, \"duration_ms\": 144564, \"release_date\": \"2019-07-29\", \"artists\": \"['NexoAnexo', 'Young Torvi']\"}, {\"album\": \"Trap de Cria Mixtape\", \"album_type\": \"album\", \"track_number\": 8, \"id_track\": \"0RcjaQmdPEkwl2rSCX5saG\", \"name\": \"Beb\\u00ea da Cara de Mal\", \"popularity\": 1, \"explicit\": true, \"duration_ms\": 174180, \"release_date\": \"2019-07-29\", \"artists\": \"['NexoAnexo', 'Jovem Zine']\"}]}}, {\"mode\": \"vega-lite\"});\n",
              "</script>"
            ]
          },
          "metadata": {
            "tags": []
          },
          "execution_count": 50
        }
      ]
    },
    {
      "cell_type": "markdown",
      "metadata": {
        "id": "tP4V7h-eZADl",
        "colab_type": "text"
      },
      "source": [
        "Lembrem da definição de popularidade que foi dada lá no volume 01. Uma música nova tem muito mais chance de ser mais popular. "
      ]
    },
    {
      "cell_type": "markdown",
      "metadata": {
        "id": "o2Ee3GtrZKxT",
        "colab_type": "text"
      },
      "source": [
        "O sucesso Trap de cria"
      ]
    }
  ]
}