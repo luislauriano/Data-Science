{
  "nbformat": 4,
  "nbformat_minor": 0,
  "metadata": {
    "colab": {
      "name": "Welcome To Colaboratory",
      "provenance": [],
      "collapsed_sections": [],
      "include_colab_link": true
    },
    "kernelspec": {
      "display_name": "Python 3",
      "name": "python3"
    }
  },
  "cells": [
    {
      "cell_type": "markdown",
      "metadata": {
        "id": "view-in-github",
        "colab_type": "text"
      },
      "source": [
        "<a href=\"https://colab.research.google.com/github/luislauriano/Data_Science/blob/master/Projeto_construcao.ipynb\" target=\"_parent\"><img src=\"https://colab.research.google.com/assets/colab-badge.svg\" alt=\"Open In Colab\"/></a>"
      ]
    },
    {
      "cell_type": "markdown",
      "metadata": {
        "id": "JqnET0Yl6Jjo",
        "colab_type": "text"
      },
      "source": [
        "# **Dicas do Meigarom (YTB)** "
      ]
    },
    {
      "cell_type": "markdown",
      "metadata": {
        "id": "4wbes_4d6Qak",
        "colab_type": "text"
      },
      "source": [
        "Luis, vamos lá então.\n",
        "\n",
        "* O projeto que eu mais gostei foi o de Detecção de Cancer de Mama.\n",
        "* Para resolve qualquer projeto de ML você precisa de 10 passos e você fez 5 deles. Conferir os passos de um projeto de ML novamente\n",
        "* Gostei das suas explicações depois de cada código.\n",
        "* Você poderia ter feito uma análise estatística descritiva dos dados, para dar um visão geral dos dados, em termos de métricas estatísticas ( média, mediana, std, moda, … )\n",
        "* Você poderia ter feito mais análise exploratória de dados. Quais as features mais importantes para o modelo? Qual o impacto de cada feature na variável resposta?\n",
        "* Você poderia explicar porque usou StandardScaler nas Features. Porque padronizar os dados? O que isso ajuda no modelo?\n",
        "* Porque você usou LabelEncoder na variável resposta? O que isso traz de benefício?\n",
        "* Poderia explicar, porque voce usou Random Forest. Qual o motivo da sua escolha?\n",
        "* Explicar mais sobre as métricas, o que significa cada métrica? Qual das métricas eu deveria olhar? Todas? Apenas Uma?\n",
        "13h52\n",
        "* Vai se aprofundando nos projetos e procurando responder porque você está colocando cada coisa. Porque Random forest? Porque Analise Exploratoria? Porque StandarScaler? Para que serve a matrix de correlação?\n",
        "* Vai fazendo testes e tentando entender o real motivo de cada linha código que você coloca, e porque essa linha é importante e no que ela ajuda?"
      ]
    },
    {
      "cell_type": "markdown",
      "metadata": {
        "id": "wnW2Zisr6d56",
        "colab_type": "text"
      },
      "source": [
        "# **Projetos como base:**\n",
        "\n",
        "### Projeto do Rafael\n",
        "https://github.com/barbosarafael/Projetos/blob/master/iNeuron_Back_order_prediction_Notebook/hackaton_ineuron_back_order_prediction.ipynb\n",
        "\n",
        "### Projeto do Carlos Melo\n",
        "https://github.com/carlosfab/data_science/blob/master/Setembro_Amarelo.ipynb\n",
        "\n",
        "### Projeto do Cancer de Mama \n",
        "https://github.com/luislauriano/Data_Science/blob/master/Machine_Learning_para_Detec%C3%A7%C3%A3o_do_C%C3%A2ncer_de_Mama.ipynb"
      ]
    },
    {
      "cell_type": "markdown",
      "metadata": {
        "id": "HygEQiju6iwe",
        "colab_type": "text"
      },
      "source": [
        "#**Referencias:**\n",
        "\n",
        "Limpeza e preparação dos dados: https://medium.com/@lucasoliveiras/limpeza-e-prepara%C3%A7%C3%A3o-dos-dados-com-pandas-856e844abfbb\n",
        "\n",
        "Tutorial API do Spotify: https://dandaramcsousa.github.io/2020/05/20/tutorial-api-spotify.html"
      ]
    },
    {
      "cell_type": "markdown",
      "metadata": {
        "id": "ncS2KlhF6k3Y",
        "colab_type": "text"
      },
      "source": [
        "Escrever e detalhar o maximo e tudo possivel com calma. (Isso também vai ser importante para aprender)   \n",
        "\n",
        "Explicar cada coisa usada como quando eu for usar o sklearn (para isso vou precisar pesquisar sobre metric score, acuracia e etc para falar sobre)"
      ]
    },
    {
      "cell_type": "markdown",
      "metadata": {
        "id": "uh6qE9H260te",
        "colab_type": "text"
      },
      "source": [
        "___________________________________________________________________________________________________\n"
      ]
    },
    {
      "cell_type": "markdown",
      "metadata": {
        "id": "9X9knpxb626V",
        "colab_type": "text"
      },
      "source": [
        "# **Coletando e analisando os dados dos albumns do Spotify de NexoAnexo** \n",
        "\n",
        "ou \n",
        "\n",
        "# **Spotify & Python & Data Science (Da coleta de dados do Spotify ao Deploy)**"
      ]
    },
    {
      "cell_type": "markdown",
      "metadata": {
        "id": "puLfSxcC2Ph4",
        "colab_type": "text"
      },
      "source": [
        "## **Objetivo do projeto (Solução para o problema)**"
      ]
    },
    {
      "cell_type": "markdown",
      "metadata": {
        "id": "5sNePf9A2Xw5",
        "colab_type": "text"
      },
      "source": [
        "contexto"
      ]
    },
    {
      "cell_type": "markdown",
      "metadata": {
        "id": "DspkT4lVMIPs",
        "colab_type": "text"
      },
      "source": [
        "A ideia do projeto é fazer uma analise de dados dos albumns que estão no spotify do artista NexoAnexo"
      ]
    },
    {
      "cell_type": "markdown",
      "metadata": {
        "id": "tYrmm_k1c6Qn",
        "colab_type": "text"
      },
      "source": [
        "## **Etapas do projeto**"
      ]
    },
    {
      "cell_type": "markdown",
      "metadata": {
        "id": "PgMwFTF8c9Xz",
        "colab_type": "text"
      },
      "source": [
        "* Coleta do dados \n",
        "   1. Api do spotify\n",
        "   2. Dicionario dos dados\n",
        "   3. Importar os pacotes e dataset necessários\n",
        "   4. Leitura do arquivo\n",
        "\n",
        "* Limpeza e preparação dos dados\n",
        "    1. Deletar colunas\n",
        "    2. Renomear colunas \n",
        "    3. Verificar os tipos das colunas\n",
        "    4. Alterar os tipos de colunas \n",
        "    5. Verificar dados ausentes\n",
        "    6. Preencher dados ausentes\n",
        "    7. Corrigindo dados divergentes\n",
        "    8. Verificando valores duplicados\n",
        "    9. Outliers\n",
        "  \n",
        "* Exploração e visualização dos dados \n",
        "* Deploy com python (Streamlit + Heroku)"
      ]
    },
    {
      "cell_type": "markdown",
      "metadata": {
        "id": "9LFe4_zLc6Ow",
        "colab_type": "text"
      },
      "source": [
        "## **Coleta dos dados**\n",
        "\n"
      ]
    },
    {
      "cell_type": "markdown",
      "metadata": {
        "id": "GxWUAPc1erDS",
        "colab_type": "text"
      },
      "source": [
        "contexto"
      ]
    },
    {
      "cell_type": "markdown",
      "metadata": {
        "id": "0WFpfYtV3WwC",
        "colab_type": "text"
      },
      "source": [
        "Falar um pouco sobre web scraping..."
      ]
    },
    {
      "cell_type": "markdown",
      "metadata": {
        "id": "vEOrnBWY1WmV",
        "colab_type": "text"
      },
      "source": [
        "Para coletar os dados vamos utilizar Python e sua biblioteca Spotipy...."
      ]
    },
    {
      "cell_type": "markdown",
      "metadata": {
        "id": "VZXPZ7YvYYjw",
        "colab_type": "text"
      },
      "source": [
        "### **Explicar toda etapa da coleta dos dados da API do Spotify**"
      ]
    },
    {
      "cell_type": "markdown",
      "metadata": {
        "id": "Fw0bfe1G752-",
        "colab_type": "text"
      },
      "source": [
        "1. Coletar as informações de um artista, dado um nome;\n",
        "2. Coletar os ids e nomes de todos os álbuns de um artista;\n",
        "3. Coletar informações de todas as músicas de um álbum;\n",
        "4. Coletar informações de todas as músicas de todos os álbuns de um artista;\n",
        "5. Converter tudo para um csv.\n"
      ]
    },
    {
      "cell_type": "code",
      "metadata": {
        "id": "56XPPzuXM_pk",
        "colab_type": "code",
        "colab": {
          "base_uri": "https://localhost:8080/",
          "height": 136
        },
        "outputId": "b7b62276-1558-4867-ed15-9be9188b9365"
      },
      "source": [
        "!pip install spotipy\n",
        "from spotipy.oauth2 import SpotifyClientCredentials\n",
        "import spotipy\n",
        "import sys\n",
        "import csv\n",
        " \n",
        "sp = spotipy.Spotify(client_credentials_manager = SpotifyClientCredentials(client_id=\"dcffc14978ed497aa58834a7864a99b7\", client_secret=\"e8c5cc78c8e74ccd92323d146c635b47\"))"
      ],
      "execution_count": 197,
      "outputs": [
        {
          "output_type": "stream",
          "text": [
            "Requirement already satisfied: spotipy in /usr/local/lib/python3.6/dist-packages (2.13.0)\n",
            "Requirement already satisfied: requests>=2.20.0 in /usr/local/lib/python3.6/dist-packages (from spotipy) (2.23.0)\n",
            "Requirement already satisfied: six>=1.10.0 in /usr/local/lib/python3.6/dist-packages (from spotipy) (1.12.0)\n",
            "Requirement already satisfied: idna<3,>=2.5 in /usr/local/lib/python3.6/dist-packages (from requests>=2.20.0->spotipy) (2.9)\n",
            "Requirement already satisfied: chardet<4,>=3.0.2 in /usr/local/lib/python3.6/dist-packages (from requests>=2.20.0->spotipy) (3.0.4)\n",
            "Requirement already satisfied: certifi>=2017.4.17 in /usr/local/lib/python3.6/dist-packages (from requests>=2.20.0->spotipy) (2020.6.20)\n",
            "Requirement already satisfied: urllib3!=1.25.0,!=1.25.1,<1.26,>=1.21.1 in /usr/local/lib/python3.6/dist-packages (from requests>=2.20.0->spotipy) (1.24.3)\n"
          ],
          "name": "stdout"
        }
      ]
    },
    {
      "cell_type": "code",
      "metadata": {
        "id": "KtKv24PfNgzu",
        "colab_type": "code",
        "colab": {}
      },
      "source": [
        "def get_artist(name):\n",
        "    results = sp.search(name)\n",
        "    items = results['tracks']['items']\n",
        "    if len(items) > 0:\n",
        "        return items[0]['artists'][0]\n",
        "    else:\n",
        "        return None"
      ],
      "execution_count": 198,
      "outputs": []
    },
    {
      "cell_type": "code",
      "metadata": {
        "id": "UmYSgdflNjLm",
        "colab_type": "code",
        "colab": {}
      },
      "source": [
        "def get_artist_id(artist):\n",
        "    return artist['id']"
      ],
      "execution_count": 199,
      "outputs": []
    },
    {
      "cell_type": "code",
      "metadata": {
        "id": "SXSToCCLN9MD",
        "colab_type": "code",
        "colab": {}
      },
      "source": [
        "def get_artist_albums_id_names(id):\n",
        "  albums = sp.artist_albums(id, country = 'BR', limit=3)\n",
        "  albums_id_name = {}\n",
        "  for i in range(len(albums['items'])):\n",
        "    id = albums['items'][i]['id']\n",
        "    name = albums['items'][i]['name']\n",
        "    albums_id_name[id] = name\n",
        " \n",
        "  return albums_id_name"
      ],
      "execution_count": 200,
      "outputs": []
    },
    {
      "cell_type": "markdown",
      "metadata": {
        "id": "8T15HLq7JbHI",
        "colab_type": "text"
      },
      "source": [
        "Determinei o limit 3, tendo em vista que Nexo tem 3 albumns, se quisessemos visualizar as outras músicas poderiamos aumentar esse limit para 50, total de musicas que ele possui no spotify."
      ]
    },
    {
      "cell_type": "code",
      "metadata": {
        "id": "2zvAflToOkUh",
        "colab_type": "code",
        "colab": {}
      },
      "source": [
        "def get_album_songs(album_id, album_name):\n",
        "  spotify_album = {}\n",
        " \n",
        "  tracks = sp.album_tracks(album_id)\n",
        "  \n",
        "  for n in range(len(tracks['items'])):\n",
        "    id_track = tracks['items'][n]['id']\n",
        "    track = sp.track(id_track)\n",
        "    spotify_album[id_track] = {}\n",
        "    \n",
        "    spotify_album[id_track]['album'] = album_name\n",
        "    spotify_album[id_track]['album_type'] = track['album']['album_type']\n",
        "    spotify_album[id_track]['track_number'] = track['track_number']\n",
        "    spotify_album[id_track]['id_track'] = track['id']\n",
        "    spotify_album[id_track]['name'] = track['name']\n",
        "    spotify_album[id_track]['popularity'] = track['popularity']\n",
        "    spotify_album[id_track]['explicit'] = track['explicit']\n",
        "    spotify_album[id_track]['duration_ms'] = track['duration_ms']\n",
        "    spotify_album[id_track]['release_date'] = track['album']['release_date']\n",
        " \n",
        "    artists_track = track['artists']\n",
        "    spotify_album[id_track]['artists'] = []\n",
        "    for artist in artists_track:\n",
        "      spotify_album[id_track]['artists'].append(artist['name'])\n",
        "  return spotify_album\n"
      ],
      "execution_count": 201,
      "outputs": []
    },
    {
      "cell_type": "code",
      "metadata": {
        "id": "IZYiHJ19O7Kv",
        "colab_type": "code",
        "colab": {}
      },
      "source": [
        "def get_all_albums_songs(albums_ids_names):\n",
        "  spotify_albums = []\n",
        "  albums_names = []\n",
        "  for id, name in albums_ids_names.items():\n",
        "    if name not in albums_names:\n",
        "      albums_names.append(name)\n",
        "      album_songs = get_album_songs(id,name) \n",
        "    for item in album_songs.items():\n",
        "      spotify_albums.append(item[1]) \n",
        "  return spotify_albums"
      ],
      "execution_count": 202,
      "outputs": []
    },
    {
      "cell_type": "code",
      "metadata": {
        "id": "c0eud_atAcC6",
        "colab_type": "code",
        "colab": {}
      },
      "source": [
        "def convert_to_csv(filepath, name):\n",
        "  keys = filepath[0].keys()\n",
        "  print(keys)\n",
        "  csv_name = ''+ name + '.csv'\n",
        "  with open(csv_name, 'w') as output_file:\n",
        "    dict_writer = csv.DictWriter(output_file, keys)\n",
        "    dict_writer.writeheader()\n",
        "    dict_writer.writerows(filepath)\n",
        "  return"
      ],
      "execution_count": 203,
      "outputs": []
    },
    {
      "cell_type": "code",
      "metadata": {
        "id": "Y6u6VYNNO__U",
        "colab_type": "code",
        "colab": {
          "base_uri": "https://localhost:8080/",
          "height": 34
        },
        "outputId": "0917ea5d-2786-4830-8707-672975d2b0cb"
      },
      "source": [
        "name = \"NexoAnexo\"\n",
        "artist = get_artist(name)    \n",
        "if artist:\n",
        "  artist_id = get_artist_id(artist)\n",
        "  albums_id_names = get_artist_albums_id_names(artist_id)\n",
        "  all_albums = get_all_albums_songs(albums_id_names)\n",
        "  convert_to_csv(all_albums, 'NexoAnexo')   \n",
        "else:\n",
        "  logger.error(\"Can't find artist: %s\", artist)"
      ],
      "execution_count": 205,
      "outputs": [
        {
          "output_type": "stream",
          "text": [
            "dict_keys(['album', 'album_type', 'track_number', 'id_track', 'name', 'popularity', 'explicit', 'duration_ms', 'release_date', 'artists'])\n"
          ],
          "name": "stdout"
        }
      ]
    },
    {
      "cell_type": "markdown",
      "metadata": {
        "colab_type": "text",
        "id": "kLsdV6uQQ0uz"
      },
      "source": [
        "### **Dicionario dos dados**"
      ]
    },
    {
      "cell_type": "markdown",
      "metadata": {
        "id": "tP4V7h-eZADl",
        "colab_type": "text"
      },
      "source": [
        "Lembrem da definição de popularidade que foi dada lá no volume 01. Uma música nova tem muito mais chance de ser mais popular. "
      ]
    },
    {
      "cell_type": "markdown",
      "metadata": {
        "id": "gPmir6JPOBUF",
        "colab_type": "text"
      },
      "source": [
        "contexto"
      ]
    },
    {
      "cell_type": "markdown",
      "metadata": {
        "colab_type": "text",
        "id": "lbhCoC9tQ2hc"
      },
      "source": [
        "\n",
        "\n",
        "**Informações sobre os atributos**\n"
      ]
    },
    {
      "cell_type": "markdown",
      "metadata": {
        "id": "zVYytj0yWVZf",
        "colab_type": "text"
      },
      "source": [
        "contexto"
      ]
    },
    {
      "cell_type": "markdown",
      "metadata": {
        "id": "MPiYzdcTe76V",
        "colab_type": "text"
      },
      "source": [
        "### **Importar os pacotes e datasets necessário**\n",
        "\n"
      ]
    },
    {
      "cell_type": "markdown",
      "metadata": {
        "id": "EkIuPsuTe6cQ",
        "colab_type": "text"
      },
      "source": [
        "contexto"
      ]
    },
    {
      "cell_type": "code",
      "metadata": {
        "id": "wWAnGIM2fLh7",
        "colab_type": "code",
        "colab": {}
      },
      "source": [
        "#importar os pacotes necessarios\n",
        "import pandas as pd \n",
        "import matplotlib.pyplot as plt \n",
        "import seaborn as sns \n",
        "from xgboost import XGBClassifier\n",
        "from sklearn.model_selection import train_test_split\n",
        "from sklearn.metrics import accuracy_score\n",
        "from sklearn.metrics import mean_squared_error\n",
        "from sklearn.impute import SimpleImputer\n",
        "\n",
        "# configurar o notebook\n",
        "sns.set_style('whitegrid');"
      ],
      "execution_count": null,
      "outputs": []
    },
    {
      "cell_type": "markdown",
      "metadata": {
        "colab_type": "text",
        "id": "n0wGbE_8Qeqj"
      },
      "source": [
        "### **Leitura do arquivo**"
      ]
    },
    {
      "cell_type": "markdown",
      "metadata": {
        "colab_type": "text",
        "id": "xvYxtUo6Qip4"
      },
      "source": [
        "Primeiro vamos ler nosso arquivo fora do notebook e tirar algumas informações, de como os dados estão separados e etc.."
      ]
    },
    {
      "cell_type": "markdown",
      "metadata": {
        "id": "9jDRntFFlJR9",
        "colab_type": "text"
      },
      "source": [
        "Abrindo nosso arquivo foi possivel identificar que está separado...Se trata de um arquivo csv"
      ]
    },
    {
      "cell_type": "markdown",
      "metadata": {
        "id": "47JXslAYOP5I",
        "colab_type": "text"
      },
      "source": [
        "Em alguns projetos reais essa etapa de importar os dados pode ser mais trabalhosa exigindo outros parametros, como header, skiprows e etc.."
      ]
    },
    {
      "cell_type": "code",
      "metadata": {
        "colab_type": "code",
        "id": "0JCvsNNRQgyB",
        "colab": {}
      },
      "source": [
        "dados = 'NexoAnexo.csv'\n",
        "\n",
        "df = pd.read_csv(dados, sep = ',')"
      ],
      "execution_count": 206,
      "outputs": []
    },
    {
      "cell_type": "markdown",
      "metadata": {
        "id": "hP26RkCiGMJS",
        "colab_type": "text"
      },
      "source": [
        "contexto"
      ]
    },
    {
      "cell_type": "code",
      "metadata": {
        "id": "reZ7UBugg9PW",
        "colab_type": "code",
        "colab": {
          "base_uri": "https://localhost:8080/",
          "height": 51
        },
        "outputId": "0b18e7c2-7f9e-483e-8bd6-44c108c3c947"
      },
      "source": [
        "print(f'Número de linhas ou variaveis {df.shape[0]}')\n",
        "print(f'Número de entradas ou colunas {df.shape[1]}')"
      ],
      "execution_count": 207,
      "outputs": [
        {
          "output_type": "stream",
          "text": [
            "Número de linhas ou variaveis 33\n",
            "Número de entradas ou colunas 10\n"
          ],
          "name": "stdout"
        }
      ]
    },
    {
      "cell_type": "markdown",
      "metadata": {
        "id": "eBrGm408haVg",
        "colab_type": "text"
      },
      "source": [
        "contexto"
      ]
    },
    {
      "cell_type": "markdown",
      "metadata": {
        "id": "ydNaZxF9gU57",
        "colab_type": "text"
      },
      "source": [
        "## **Limpeza e preparação dos dados**"
      ]
    },
    {
      "cell_type": "markdown",
      "metadata": {
        "id": "n2maxVPOmDkd",
        "colab_type": "text"
      },
      "source": [
        "contexto"
      ]
    },
    {
      "cell_type": "markdown",
      "metadata": {
        "id": "7MMfY8HQmGA_",
        "colab_type": "text"
      },
      "source": [
        "### **Deletando colunas**"
      ]
    },
    {
      "cell_type": "markdown",
      "metadata": {
        "id": "zqH6vhn7md6l",
        "colab_type": "text"
      },
      "source": [
        "Como o nosso conjunto de dados contém colunas que não serão uteis para o que desejamos fazer, vamos deletar..."
      ]
    },
    {
      "cell_type": "code",
      "metadata": {
        "id": "IODXmrT6lkw4",
        "colab_type": "code",
        "colab": {
          "base_uri": "https://localhost:8080/",
          "height": 204
        },
        "outputId": "17f90513-0814-447d-91d6-e053e0526b6b"
      },
      "source": [
        "df.head()   "
      ],
      "execution_count": 208,
      "outputs": [
        {
          "output_type": "execute_result",
          "data": {
            "text/html": [
              "<div>\n",
              "<style scoped>\n",
              "    .dataframe tbody tr th:only-of-type {\n",
              "        vertical-align: middle;\n",
              "    }\n",
              "\n",
              "    .dataframe tbody tr th {\n",
              "        vertical-align: top;\n",
              "    }\n",
              "\n",
              "    .dataframe thead th {\n",
              "        text-align: right;\n",
              "    }\n",
              "</style>\n",
              "<table border=\"1\" class=\"dataframe\">\n",
              "  <thead>\n",
              "    <tr style=\"text-align: right;\">\n",
              "      <th></th>\n",
              "      <th>album</th>\n",
              "      <th>album_type</th>\n",
              "      <th>track_number</th>\n",
              "      <th>id_track</th>\n",
              "      <th>name</th>\n",
              "      <th>popularity</th>\n",
              "      <th>explicit</th>\n",
              "      <th>duration_ms</th>\n",
              "      <th>release_date</th>\n",
              "      <th>artists</th>\n",
              "    </tr>\n",
              "  </thead>\n",
              "  <tbody>\n",
              "    <tr>\n",
              "      <th>0</th>\n",
              "      <td>Trap from Future</td>\n",
              "      <td>album</td>\n",
              "      <td>1</td>\n",
              "      <td>6Mx214YlNnbj7un9PrvmGi</td>\n",
              "      <td>Vem No Tum Tum</td>\n",
              "      <td>16</td>\n",
              "      <td>True</td>\n",
              "      <td>216917</td>\n",
              "      <td>2020-03-13</td>\n",
              "      <td>['NexoAnexo']</td>\n",
              "    </tr>\n",
              "    <tr>\n",
              "      <th>1</th>\n",
              "      <td>Trap from Future</td>\n",
              "      <td>album</td>\n",
              "      <td>2</td>\n",
              "      <td>1xOs8YJkkKm5HhRiP1ha4g</td>\n",
              "      <td>Drip Know Me</td>\n",
              "      <td>2</td>\n",
              "      <td>True</td>\n",
              "      <td>154646</td>\n",
              "      <td>2020-03-13</td>\n",
              "      <td>['NexoAnexo', 'Drippy Kid Jay']</td>\n",
              "    </tr>\n",
              "    <tr>\n",
              "      <th>2</th>\n",
              "      <td>Trap from Future</td>\n",
              "      <td>album</td>\n",
              "      <td>3</td>\n",
              "      <td>4s4G0Z6mSkrauIvBXRlVHk</td>\n",
              "      <td>Match</td>\n",
              "      <td>3</td>\n",
              "      <td>True</td>\n",
              "      <td>180716</td>\n",
              "      <td>2020-03-13</td>\n",
              "      <td>['NexoAnexo']</td>\n",
              "    </tr>\n",
              "    <tr>\n",
              "      <th>3</th>\n",
              "      <td>Trap from Future</td>\n",
              "      <td>album</td>\n",
              "      <td>4</td>\n",
              "      <td>5C1iQCV3xuc0oHQpe7fhhQ</td>\n",
              "      <td>Trap &amp; Brega</td>\n",
              "      <td>5</td>\n",
              "      <td>True</td>\n",
              "      <td>164468</td>\n",
              "      <td>2020-03-13</td>\n",
              "      <td>['NexoAnexo']</td>\n",
              "    </tr>\n",
              "    <tr>\n",
              "      <th>4</th>\n",
              "      <td>Trap from Future</td>\n",
              "      <td>album</td>\n",
              "      <td>5</td>\n",
              "      <td>3H2TfCpxaSfEh5nVbcDzrp</td>\n",
              "      <td>Marca Sem Roupa</td>\n",
              "      <td>5</td>\n",
              "      <td>True</td>\n",
              "      <td>148364</td>\n",
              "      <td>2020-03-13</td>\n",
              "      <td>['NexoAnexo', 'Victor KR']</td>\n",
              "    </tr>\n",
              "  </tbody>\n",
              "</table>\n",
              "</div>"
            ],
            "text/plain": [
              "              album album_type  ...  release_date                          artists\n",
              "0  Trap from Future      album  ...    2020-03-13                    ['NexoAnexo']\n",
              "1  Trap from Future      album  ...    2020-03-13  ['NexoAnexo', 'Drippy Kid Jay']\n",
              "2  Trap from Future      album  ...    2020-03-13                    ['NexoAnexo']\n",
              "3  Trap from Future      album  ...    2020-03-13                    ['NexoAnexo']\n",
              "4  Trap from Future      album  ...    2020-03-13       ['NexoAnexo', 'Victor KR']\n",
              "\n",
              "[5 rows x 10 columns]"
            ]
          },
          "metadata": {
            "tags": []
          },
          "execution_count": 208
        }
      ]
    },
    {
      "cell_type": "markdown",
      "metadata": {
        "id": "1I2y4QQBzoyc",
        "colab_type": "text"
      },
      "source": [
        "Vamos deletar as colunas...Isso é importante porque.."
      ]
    },
    {
      "cell_type": "code",
      "metadata": {
        "id": "2aBCHz3eOvQT",
        "colab_type": "code",
        "colab": {
          "base_uri": "https://localhost:8080/",
          "height": 68
        },
        "outputId": "d9ccb21e-9fd2-4f83-bfba-6dc85cff5bde"
      },
      "source": [
        "df.columns.unique()"
      ],
      "execution_count": 209,
      "outputs": [
        {
          "output_type": "execute_result",
          "data": {
            "text/plain": [
              "Index(['album', 'album_type', 'track_number', 'id_track', 'name', 'popularity',\n",
              "       'explicit', 'duration_ms', 'release_date', 'artists'],\n",
              "      dtype='object')"
            ]
          },
          "metadata": {
            "tags": []
          },
          "execution_count": 209
        }
      ]
    },
    {
      "cell_type": "markdown",
      "metadata": {
        "id": "U1JydCMRPEEA",
        "colab_type": "text"
      },
      "source": [
        "Dessa forma consigo ter uma visão de todas as minhas colunas, então agora é so dar um CTRL + C nas que desejo e inserir no proximo método "
      ]
    },
    {
      "cell_type": "code",
      "metadata": {
        "id": "PMrnYIKdoPiq",
        "colab_type": "code",
        "colab": {}
      },
      "source": [
        "df = df[['album', 'name', 'track_number', 'popularity', 'duration_ms']].copy()"
      ],
      "execution_count": 210,
      "outputs": []
    },
    {
      "cell_type": "markdown",
      "metadata": {
        "id": "hqG5L9zkw4tJ",
        "colab_type": "text"
      },
      "source": [
        "Costumo deletar as colunas dessa maneira por que me permite escolher uma nova ordem para as colunas, além de não delatarem proprimamente as outras colunas que foram descartadas."
      ]
    },
    {
      "cell_type": "code",
      "metadata": {
        "id": "6aean52MxJ6N",
        "colab_type": "code",
        "colab": {
          "base_uri": "https://localhost:8080/",
          "height": 34
        },
        "outputId": "bc775405-c531-4cee-f5b5-b92ebcb9aaf8"
      },
      "source": [
        "df.columns"
      ],
      "execution_count": 211,
      "outputs": [
        {
          "output_type": "execute_result",
          "data": {
            "text/plain": [
              "Index(['album', 'name', 'track_number', 'popularity', 'duration_ms'], dtype='object')"
            ]
          },
          "metadata": {
            "tags": []
          },
          "execution_count": 211
        }
      ]
    },
    {
      "cell_type": "markdown",
      "metadata": {
        "id": "NOxPPZyTGqt2",
        "colab_type": "text"
      },
      "source": [
        "### **Renomeando colunas**"
      ]
    },
    {
      "cell_type": "markdown",
      "metadata": {
        "id": "pSb0SMeNGrJD",
        "colab_type": "text"
      },
      "source": [
        "A renomeação das colunas é importante pq...contexto"
      ]
    },
    {
      "cell_type": "code",
      "metadata": {
        "id": "wzM6bvvTxn_j",
        "colab_type": "code",
        "colab": {
          "base_uri": "https://localhost:8080/",
          "height": 34
        },
        "outputId": "e412e3bb-b6e8-4ad2-bfae-32927942f5ed"
      },
      "source": [
        "df.columns"
      ],
      "execution_count": 212,
      "outputs": [
        {
          "output_type": "execute_result",
          "data": {
            "text/plain": [
              "Index(['album', 'name', 'track_number', 'popularity', 'duration_ms'], dtype='object')"
            ]
          },
          "metadata": {
            "tags": []
          },
          "execution_count": 212
        }
      ]
    },
    {
      "cell_type": "markdown",
      "metadata": {
        "id": "YYBgx6L5yChZ",
        "colab_type": "text"
      },
      "source": [
        "Para renomear todas as colunas vou utilizar o metodo df.columns..."
      ]
    },
    {
      "cell_type": "code",
      "metadata": {
        "id": "mw2hPLQLxQt5",
        "colab_type": "code",
        "colab": {}
      },
      "source": [
        "df.columns = ['nome_do_album', 'nome_da_faixa',  'posicao_da_faixa', 'popularidade', 'duraçao_da_musica']"
      ],
      "execution_count": 213,
      "outputs": []
    },
    {
      "cell_type": "markdown",
      "metadata": {
        "id": "movItozuyIns",
        "colab_type": "text"
      },
      "source": [
        "Quando o objetivo é renomear uma ou mais colunas, o metodo df.rename seria melhor..."
      ]
    },
    {
      "cell_type": "code",
      "metadata": {
        "id": "pVsXRAxmyTvE",
        "colab_type": "code",
        "colab": {
          "base_uri": "https://localhost:8080/",
          "height": 142
        },
        "outputId": "03e80b40-e416-452e-a804-c78211c17485"
      },
      "source": [
        "df.head(3)"
      ],
      "execution_count": 214,
      "outputs": [
        {
          "output_type": "execute_result",
          "data": {
            "text/html": [
              "<div>\n",
              "<style scoped>\n",
              "    .dataframe tbody tr th:only-of-type {\n",
              "        vertical-align: middle;\n",
              "    }\n",
              "\n",
              "    .dataframe tbody tr th {\n",
              "        vertical-align: top;\n",
              "    }\n",
              "\n",
              "    .dataframe thead th {\n",
              "        text-align: right;\n",
              "    }\n",
              "</style>\n",
              "<table border=\"1\" class=\"dataframe\">\n",
              "  <thead>\n",
              "    <tr style=\"text-align: right;\">\n",
              "      <th></th>\n",
              "      <th>nome_do_album</th>\n",
              "      <th>nome_da_faixa</th>\n",
              "      <th>posicao_da_faixa</th>\n",
              "      <th>popularidade</th>\n",
              "      <th>duraçao_da_musica</th>\n",
              "    </tr>\n",
              "  </thead>\n",
              "  <tbody>\n",
              "    <tr>\n",
              "      <th>0</th>\n",
              "      <td>Trap from Future</td>\n",
              "      <td>Vem No Tum Tum</td>\n",
              "      <td>1</td>\n",
              "      <td>16</td>\n",
              "      <td>216917</td>\n",
              "    </tr>\n",
              "    <tr>\n",
              "      <th>1</th>\n",
              "      <td>Trap from Future</td>\n",
              "      <td>Drip Know Me</td>\n",
              "      <td>2</td>\n",
              "      <td>2</td>\n",
              "      <td>154646</td>\n",
              "    </tr>\n",
              "    <tr>\n",
              "      <th>2</th>\n",
              "      <td>Trap from Future</td>\n",
              "      <td>Match</td>\n",
              "      <td>3</td>\n",
              "      <td>3</td>\n",
              "      <td>180716</td>\n",
              "    </tr>\n",
              "  </tbody>\n",
              "</table>\n",
              "</div>"
            ],
            "text/plain": [
              "      nome_do_album   nome_da_faixa  ...  popularidade  duraçao_da_musica\n",
              "0  Trap from Future  Vem No Tum Tum  ...            16             216917\n",
              "1  Trap from Future    Drip Know Me  ...             2             154646\n",
              "2  Trap from Future           Match  ...             3             180716\n",
              "\n",
              "[3 rows x 5 columns]"
            ]
          },
          "metadata": {
            "tags": []
          },
          "execution_count": 214
        }
      ]
    },
    {
      "cell_type": "markdown",
      "metadata": {
        "id": "Ov6bp8cK0X8W",
        "colab_type": "text"
      },
      "source": [
        "contexto"
      ]
    },
    {
      "cell_type": "markdown",
      "metadata": {
        "id": "tiko78ph0eEl",
        "colab_type": "text"
      },
      "source": [
        "### **Verificar dados ausentes**"
      ]
    },
    {
      "cell_type": "markdown",
      "metadata": {
        "id": "3QIb136y0lrF",
        "colab_type": "text"
      },
      "source": [
        "contexto"
      ]
    },
    {
      "cell_type": "code",
      "metadata": {
        "id": "UzBw8iC50k7Y",
        "colab_type": "code",
        "colab": {
          "base_uri": "https://localhost:8080/",
          "height": 119
        },
        "outputId": "4e0216eb-4976-4f33-a945-9d44bac87b02"
      },
      "source": [
        "df.isna().sum()"
      ],
      "execution_count": 215,
      "outputs": [
        {
          "output_type": "execute_result",
          "data": {
            "text/plain": [
              "nome_do_album        0\n",
              "nome_da_faixa        0\n",
              "posicao_da_faixa     0\n",
              "popularidade         0\n",
              "duraçao_da_musica    0\n",
              "dtype: int64"
            ]
          },
          "metadata": {
            "tags": []
          },
          "execution_count": 215
        }
      ]
    },
    {
      "cell_type": "markdown",
      "metadata": {
        "id": "a1PqLMmtQgQ0",
        "colab_type": "text"
      },
      "source": [
        "Deve-se ficar atento pois muita das vezes uma coluna pode ter o registro de dados, ou seja, é informado pelo método que o conjunto de dados não possui valores nulos, entranto, esses dados não passam nenhuma informação util "
      ]
    },
    {
      "cell_type": "markdown",
      "metadata": {
        "id": "fmqmwWGm2aam",
        "colab_type": "text"
      },
      "source": [
        "Também poderia fazer o uso do isnull, porém recomento utilizar o isna, devido que o final  do método \"na\", remete ao dropna, fillna e etc... Que são metodos que também trabalham de alguma forma com dados ausentes. "
      ]
    },
    {
      "cell_type": "markdown",
      "metadata": {
        "id": "Zyk_uhF52w6_",
        "colab_type": "text"
      },
      "source": [
        "Vamos usar um \"df.head(10) e df.tail(10)\", pra analisar com calma os 10 primeiros e ultimos registros, averiguando se os dados realmente passam alguma informação, já que não temos dados ausentes."
      ]
    },
    {
      "cell_type": "code",
      "metadata": {
        "id": "FxLO7mHY2v_U",
        "colab_type": "code",
        "colab": {
          "base_uri": "https://localhost:8080/",
          "height": 359
        },
        "outputId": "469483c6-6d99-4621-ff2a-97d03309af65"
      },
      "source": [
        "df.head(10)"
      ],
      "execution_count": 216,
      "outputs": [
        {
          "output_type": "execute_result",
          "data": {
            "text/html": [
              "<div>\n",
              "<style scoped>\n",
              "    .dataframe tbody tr th:only-of-type {\n",
              "        vertical-align: middle;\n",
              "    }\n",
              "\n",
              "    .dataframe tbody tr th {\n",
              "        vertical-align: top;\n",
              "    }\n",
              "\n",
              "    .dataframe thead th {\n",
              "        text-align: right;\n",
              "    }\n",
              "</style>\n",
              "<table border=\"1\" class=\"dataframe\">\n",
              "  <thead>\n",
              "    <tr style=\"text-align: right;\">\n",
              "      <th></th>\n",
              "      <th>nome_do_album</th>\n",
              "      <th>nome_da_faixa</th>\n",
              "      <th>posicao_da_faixa</th>\n",
              "      <th>popularidade</th>\n",
              "      <th>duraçao_da_musica</th>\n",
              "    </tr>\n",
              "  </thead>\n",
              "  <tbody>\n",
              "    <tr>\n",
              "      <th>0</th>\n",
              "      <td>Trap from Future</td>\n",
              "      <td>Vem No Tum Tum</td>\n",
              "      <td>1</td>\n",
              "      <td>16</td>\n",
              "      <td>216917</td>\n",
              "    </tr>\n",
              "    <tr>\n",
              "      <th>1</th>\n",
              "      <td>Trap from Future</td>\n",
              "      <td>Drip Know Me</td>\n",
              "      <td>2</td>\n",
              "      <td>2</td>\n",
              "      <td>154646</td>\n",
              "    </tr>\n",
              "    <tr>\n",
              "      <th>2</th>\n",
              "      <td>Trap from Future</td>\n",
              "      <td>Match</td>\n",
              "      <td>3</td>\n",
              "      <td>3</td>\n",
              "      <td>180716</td>\n",
              "    </tr>\n",
              "    <tr>\n",
              "      <th>3</th>\n",
              "      <td>Trap from Future</td>\n",
              "      <td>Trap &amp; Brega</td>\n",
              "      <td>4</td>\n",
              "      <td>5</td>\n",
              "      <td>164468</td>\n",
              "    </tr>\n",
              "    <tr>\n",
              "      <th>4</th>\n",
              "      <td>Trap from Future</td>\n",
              "      <td>Marca Sem Roupa</td>\n",
              "      <td>5</td>\n",
              "      <td>5</td>\n",
              "      <td>148364</td>\n",
              "    </tr>\n",
              "    <tr>\n",
              "      <th>5</th>\n",
              "      <td>Trap from Future</td>\n",
              "      <td>Wow!</td>\n",
              "      <td>6</td>\n",
              "      <td>3</td>\n",
              "      <td>145675</td>\n",
              "    </tr>\n",
              "    <tr>\n",
              "      <th>6</th>\n",
              "      <td>Trap from Future</td>\n",
              "      <td>Não Posso Morrer Novo</td>\n",
              "      <td>7</td>\n",
              "      <td>2</td>\n",
              "      <td>150116</td>\n",
              "    </tr>\n",
              "    <tr>\n",
              "      <th>7</th>\n",
              "      <td>Trap from Future</td>\n",
              "      <td>Fuck Cópias</td>\n",
              "      <td>8</td>\n",
              "      <td>1</td>\n",
              "      <td>140880</td>\n",
              "    </tr>\n",
              "    <tr>\n",
              "      <th>8</th>\n",
              "      <td>Trap from Future</td>\n",
              "      <td>Passa Nada</td>\n",
              "      <td>9</td>\n",
              "      <td>3</td>\n",
              "      <td>135745</td>\n",
              "    </tr>\n",
              "    <tr>\n",
              "      <th>9</th>\n",
              "      <td>Trap from Future</td>\n",
              "      <td>Novo Rock</td>\n",
              "      <td>10</td>\n",
              "      <td>1</td>\n",
              "      <td>130971</td>\n",
              "    </tr>\n",
              "  </tbody>\n",
              "</table>\n",
              "</div>"
            ],
            "text/plain": [
              "      nome_do_album          nome_da_faixa  ...  popularidade  duraçao_da_musica\n",
              "0  Trap from Future         Vem No Tum Tum  ...            16             216917\n",
              "1  Trap from Future           Drip Know Me  ...             2             154646\n",
              "2  Trap from Future                  Match  ...             3             180716\n",
              "3  Trap from Future           Trap & Brega  ...             5             164468\n",
              "4  Trap from Future        Marca Sem Roupa  ...             5             148364\n",
              "5  Trap from Future                   Wow!  ...             3             145675\n",
              "6  Trap from Future  Não Posso Morrer Novo  ...             2             150116\n",
              "7  Trap from Future            Fuck Cópias  ...             1             140880\n",
              "8  Trap from Future             Passa Nada  ...             3             135745\n",
              "9  Trap from Future              Novo Rock  ...             1             130971\n",
              "\n",
              "[10 rows x 5 columns]"
            ]
          },
          "metadata": {
            "tags": []
          },
          "execution_count": 216
        }
      ]
    },
    {
      "cell_type": "code",
      "metadata": {
        "id": "iDJkyVnM43rm",
        "colab_type": "code",
        "colab": {
          "base_uri": "https://localhost:8080/",
          "height": 359
        },
        "outputId": "6e1aa5e7-ce17-4600-a545-cdc2dfd2be55"
      },
      "source": [
        "df.tail(10)"
      ],
      "execution_count": 217,
      "outputs": [
        {
          "output_type": "execute_result",
          "data": {
            "text/html": [
              "<div>\n",
              "<style scoped>\n",
              "    .dataframe tbody tr th:only-of-type {\n",
              "        vertical-align: middle;\n",
              "    }\n",
              "\n",
              "    .dataframe tbody tr th {\n",
              "        vertical-align: top;\n",
              "    }\n",
              "\n",
              "    .dataframe thead th {\n",
              "        text-align: right;\n",
              "    }\n",
              "</style>\n",
              "<table border=\"1\" class=\"dataframe\">\n",
              "  <thead>\n",
              "    <tr style=\"text-align: right;\">\n",
              "      <th></th>\n",
              "      <th>nome_do_album</th>\n",
              "      <th>nome_da_faixa</th>\n",
              "      <th>posicao_da_faixa</th>\n",
              "      <th>popularidade</th>\n",
              "      <th>duraçao_da_musica</th>\n",
              "    </tr>\n",
              "  </thead>\n",
              "  <tbody>\n",
              "    <tr>\n",
              "      <th>23</th>\n",
              "      <td>Trap de Cria Mixtape</td>\n",
              "      <td>Isso Que É Foda</td>\n",
              "      <td>9</td>\n",
              "      <td>3</td>\n",
              "      <td>135086</td>\n",
              "    </tr>\n",
              "    <tr>\n",
              "      <th>24</th>\n",
              "      <td>Trap de Cria Mixtape</td>\n",
              "      <td>Pjl</td>\n",
              "      <td>10</td>\n",
              "      <td>0</td>\n",
              "      <td>211323</td>\n",
              "    </tr>\n",
              "    <tr>\n",
              "      <th>25</th>\n",
              "      <td>Real Plug Mixtape</td>\n",
              "      <td>The Train</td>\n",
              "      <td>1</td>\n",
              "      <td>0</td>\n",
              "      <td>169865</td>\n",
              "    </tr>\n",
              "    <tr>\n",
              "      <th>26</th>\n",
              "      <td>Real Plug Mixtape</td>\n",
              "      <td>Fica Bem</td>\n",
              "      <td>2</td>\n",
              "      <td>0</td>\n",
              "      <td>130134</td>\n",
              "    </tr>\n",
              "    <tr>\n",
              "      <th>27</th>\n",
              "      <td>Real Plug Mixtape</td>\n",
              "      <td>Gospel</td>\n",
              "      <td>3</td>\n",
              "      <td>0</td>\n",
              "      <td>122278</td>\n",
              "    </tr>\n",
              "    <tr>\n",
              "      <th>28</th>\n",
              "      <td>Real Plug Mixtape</td>\n",
              "      <td>Nxanx</td>\n",
              "      <td>4</td>\n",
              "      <td>0</td>\n",
              "      <td>167355</td>\n",
              "    </tr>\n",
              "    <tr>\n",
              "      <th>29</th>\n",
              "      <td>Real Plug Mixtape</td>\n",
              "      <td>Tudo</td>\n",
              "      <td>5</td>\n",
              "      <td>0</td>\n",
              "      <td>161403</td>\n",
              "    </tr>\n",
              "    <tr>\n",
              "      <th>30</th>\n",
              "      <td>Real Plug Mixtape</td>\n",
              "      <td>A Lei</td>\n",
              "      <td>6</td>\n",
              "      <td>0</td>\n",
              "      <td>134274</td>\n",
              "    </tr>\n",
              "    <tr>\n",
              "      <th>31</th>\n",
              "      <td>Real Plug Mixtape</td>\n",
              "      <td>Dreams Cup</td>\n",
              "      <td>7</td>\n",
              "      <td>0</td>\n",
              "      <td>230822</td>\n",
              "    </tr>\n",
              "    <tr>\n",
              "      <th>32</th>\n",
              "      <td>Real Plug Mixtape</td>\n",
              "      <td>2020</td>\n",
              "      <td>8</td>\n",
              "      <td>4</td>\n",
              "      <td>154298</td>\n",
              "    </tr>\n",
              "  </tbody>\n",
              "</table>\n",
              "</div>"
            ],
            "text/plain": [
              "           nome_do_album    nome_da_faixa  ...  popularidade  duraçao_da_musica\n",
              "23  Trap de Cria Mixtape  Isso Que É Foda  ...             3             135086\n",
              "24  Trap de Cria Mixtape              Pjl  ...             0             211323\n",
              "25     Real Plug Mixtape        The Train  ...             0             169865\n",
              "26     Real Plug Mixtape         Fica Bem  ...             0             130134\n",
              "27     Real Plug Mixtape           Gospel  ...             0             122278\n",
              "28     Real Plug Mixtape            Nxanx  ...             0             167355\n",
              "29     Real Plug Mixtape             Tudo  ...             0             161403\n",
              "30     Real Plug Mixtape            A Lei  ...             0             134274\n",
              "31     Real Plug Mixtape       Dreams Cup  ...             0             230822\n",
              "32     Real Plug Mixtape             2020  ...             4             154298\n",
              "\n",
              "[10 rows x 5 columns]"
            ]
          },
          "metadata": {
            "tags": []
          },
          "execution_count": 217
        }
      ]
    },
    {
      "cell_type": "markdown",
      "metadata": {
        "id": "J28eDwuY7gzj",
        "colab_type": "text"
      },
      "source": [
        "Contexto...Todos os registros passam alguma informação...."
      ]
    },
    {
      "cell_type": "markdown",
      "metadata": {
        "id": "p_TuMmkQ6tQV",
        "colab_type": "text"
      },
      "source": [
        "Contexto, Real plug mixtape é o album mais antigo, por isso sua popularidade não tem muitos número, devido que a popularidade está relacionada a musicas ouvidas no momento... Intrigante é a faixa 2020 que ainda se mantém com uma boa popularidade, vamos analisar mais essa faixa na análise exploratoria"
      ]
    },
    {
      "cell_type": "markdown",
      "metadata": {
        "id": "-6AH6Cor69h2",
        "colab_type": "text"
      },
      "source": [
        "De fato 2020 poderia ter sido um ano de sucesso e uma ascensao da faixa 2020, como grande promessa, porem a faixa também fala de anos posteriores, como 2023, quem sabe nesse ano coisas grandes venham a acontecer.."
      ]
    },
    {
      "cell_type": "markdown",
      "metadata": {
        "id": "gB0OLMab7v5T",
        "colab_type": "text"
      },
      "source": [
        "### **Verificar os tipos de colunas** "
      ]
    },
    {
      "cell_type": "markdown",
      "metadata": {
        "id": "8wadGexE8g6R",
        "colab_type": "text"
      },
      "source": [
        "contexto... É importante verificar se nenhuma coluna foi preenchida de forma errada, ou seja, a coluna trata-se de uma coluna inteira, mas está como string"
      ]
    },
    {
      "cell_type": "code",
      "metadata": {
        "id": "5BA_syqA70om",
        "colab_type": "code",
        "colab": {
          "base_uri": "https://localhost:8080/",
          "height": 119
        },
        "outputId": "7948bc7b-6c04-419c-c022-8f184b084949"
      },
      "source": [
        "df.dtypes"
      ],
      "execution_count": 218,
      "outputs": [
        {
          "output_type": "execute_result",
          "data": {
            "text/plain": [
              "nome_do_album        object\n",
              "nome_da_faixa        object\n",
              "posicao_da_faixa      int64\n",
              "popularidade          int64\n",
              "duraçao_da_musica     int64\n",
              "dtype: object"
            ]
          },
          "metadata": {
            "tags": []
          },
          "execution_count": 218
        }
      ]
    },
    {
      "cell_type": "code",
      "metadata": {
        "id": "vKtltNmfRaZW",
        "colab_type": "code",
        "colab": {
          "base_uri": "https://localhost:8080/",
          "height": 68
        },
        "outputId": "b8bcb0f5-08ab-402a-ad70-5ec35c97c291"
      },
      "source": [
        "df.dtypes.value_counts()"
      ],
      "execution_count": 219,
      "outputs": [
        {
          "output_type": "execute_result",
          "data": {
            "text/plain": [
              "int64     3\n",
              "object    2\n",
              "dtype: int64"
            ]
          },
          "metadata": {
            "tags": []
          },
          "execution_count": 219
        }
      ]
    },
    {
      "cell_type": "markdown",
      "metadata": {
        "id": "EVn5DLnq8j8F",
        "colab_type": "text"
      },
      "source": [
        "contexto... Temos 2 faixas do tipo objeto e 2 faixas do tipo inteiro"
      ]
    },
    {
      "cell_type": "code",
      "metadata": {
        "id": "1fxGcBj18pud",
        "colab_type": "code",
        "colab": {
          "base_uri": "https://localhost:8080/",
          "height": 204
        },
        "outputId": "9f4d1079-49c9-4d45-c581-7a2174f9b923"
      },
      "source": [
        "df.head()"
      ],
      "execution_count": 220,
      "outputs": [
        {
          "output_type": "execute_result",
          "data": {
            "text/html": [
              "<div>\n",
              "<style scoped>\n",
              "    .dataframe tbody tr th:only-of-type {\n",
              "        vertical-align: middle;\n",
              "    }\n",
              "\n",
              "    .dataframe tbody tr th {\n",
              "        vertical-align: top;\n",
              "    }\n",
              "\n",
              "    .dataframe thead th {\n",
              "        text-align: right;\n",
              "    }\n",
              "</style>\n",
              "<table border=\"1\" class=\"dataframe\">\n",
              "  <thead>\n",
              "    <tr style=\"text-align: right;\">\n",
              "      <th></th>\n",
              "      <th>nome_do_album</th>\n",
              "      <th>nome_da_faixa</th>\n",
              "      <th>posicao_da_faixa</th>\n",
              "      <th>popularidade</th>\n",
              "      <th>duraçao_da_musica</th>\n",
              "    </tr>\n",
              "  </thead>\n",
              "  <tbody>\n",
              "    <tr>\n",
              "      <th>0</th>\n",
              "      <td>Trap from Future</td>\n",
              "      <td>Vem No Tum Tum</td>\n",
              "      <td>1</td>\n",
              "      <td>16</td>\n",
              "      <td>216917</td>\n",
              "    </tr>\n",
              "    <tr>\n",
              "      <th>1</th>\n",
              "      <td>Trap from Future</td>\n",
              "      <td>Drip Know Me</td>\n",
              "      <td>2</td>\n",
              "      <td>2</td>\n",
              "      <td>154646</td>\n",
              "    </tr>\n",
              "    <tr>\n",
              "      <th>2</th>\n",
              "      <td>Trap from Future</td>\n",
              "      <td>Match</td>\n",
              "      <td>3</td>\n",
              "      <td>3</td>\n",
              "      <td>180716</td>\n",
              "    </tr>\n",
              "    <tr>\n",
              "      <th>3</th>\n",
              "      <td>Trap from Future</td>\n",
              "      <td>Trap &amp; Brega</td>\n",
              "      <td>4</td>\n",
              "      <td>5</td>\n",
              "      <td>164468</td>\n",
              "    </tr>\n",
              "    <tr>\n",
              "      <th>4</th>\n",
              "      <td>Trap from Future</td>\n",
              "      <td>Marca Sem Roupa</td>\n",
              "      <td>5</td>\n",
              "      <td>5</td>\n",
              "      <td>148364</td>\n",
              "    </tr>\n",
              "  </tbody>\n",
              "</table>\n",
              "</div>"
            ],
            "text/plain": [
              "      nome_do_album    nome_da_faixa  ...  popularidade  duraçao_da_musica\n",
              "0  Trap from Future   Vem No Tum Tum  ...            16             216917\n",
              "1  Trap from Future     Drip Know Me  ...             2             154646\n",
              "2  Trap from Future            Match  ...             3             180716\n",
              "3  Trap from Future     Trap & Brega  ...             5             164468\n",
              "4  Trap from Future  Marca Sem Roupa  ...             5             148364\n",
              "\n",
              "[5 rows x 5 columns]"
            ]
          },
          "metadata": {
            "tags": []
          },
          "execution_count": 220
        }
      ]
    },
    {
      "cell_type": "markdown",
      "metadata": {
        "id": "z_pqpa5u8zOo",
        "colab_type": "text"
      },
      "source": [
        "contexto"
      ]
    },
    {
      "cell_type": "markdown",
      "metadata": {
        "id": "6Z-by3vz953I",
        "colab_type": "text"
      },
      "source": [
        "### **Alterando tipo de colunas**"
      ]
    },
    {
      "cell_type": "markdown",
      "metadata": {
        "id": "vC4umD2--LVU",
        "colab_type": "text"
      },
      "source": [
        "Nesse projeto nao vamos alterar o tipo das colunas...contexto"
      ]
    },
    {
      "cell_type": "markdown",
      "metadata": {
        "id": "GHyD5ioD-ot1",
        "colab_type": "text"
      },
      "source": [
        "Porém se quisessemos alterar, poderiamos fazer da seguinte forma..."
      ]
    },
    {
      "cell_type": "code",
      "metadata": {
        "id": "4jryO7Wz-QEi",
        "colab_type": "code",
        "colab": {}
      },
      "source": [
        "df['popularidade'] = df['popularidade'].astype(float)"
      ],
      "execution_count": 221,
      "outputs": []
    },
    {
      "cell_type": "code",
      "metadata": {
        "id": "q1oBcUQW-fCb",
        "colab_type": "code",
        "colab": {
          "base_uri": "https://localhost:8080/",
          "height": 119
        },
        "outputId": "6305246e-7865-499c-c97b-70afe1578470"
      },
      "source": [
        "df.dtypes"
      ],
      "execution_count": 222,
      "outputs": [
        {
          "output_type": "execute_result",
          "data": {
            "text/plain": [
              "nome_do_album         object\n",
              "nome_da_faixa         object\n",
              "posicao_da_faixa       int64\n",
              "popularidade         float64\n",
              "duraçao_da_musica      int64\n",
              "dtype: object"
            ]
          },
          "metadata": {
            "tags": []
          },
          "execution_count": 222
        }
      ]
    },
    {
      "cell_type": "code",
      "metadata": {
        "id": "j6cinTFU-tcl",
        "colab_type": "code",
        "colab": {}
      },
      "source": [
        "df['popularidade'] = df['popularidade'].astype(int)"
      ],
      "execution_count": 223,
      "outputs": []
    },
    {
      "cell_type": "markdown",
      "metadata": {
        "id": "Kb_cUdwq-4QL",
        "colab_type": "text"
      },
      "source": [
        "contexto"
      ]
    },
    {
      "cell_type": "markdown",
      "metadata": {
        "id": "Nepa2iEoI2aq",
        "colab_type": "text"
      },
      "source": [
        "### **Corrigindo dados divergentes**"
      ]
    },
    {
      "cell_type": "markdown",
      "metadata": {
        "id": "pZ8_w_XkR1H3",
        "colab_type": "text"
      },
      "source": [
        "O ponto importante que acho interessante de falar que não aconteceu nesse dataset é sobre dados divergentes, que podem surgir em alguns conjuntos de dados.  Uma forma eficiente de filtrar e remover o que não for necessário é utilizando expressões regulares. Não entraremos em detalhes sobre a utilização dessas funções."
      ]
    },
    {
      "cell_type": "markdown",
      "metadata": {
        "id": "z8BAuTWBI5R9",
        "colab_type": "text"
      },
      "source": [
        "https://medium.com/@lucasoliveiras/limpeza-e-prepara%C3%A7%C3%A3o-dos-dados-com-pandas-856e844abfbb"
      ]
    },
    {
      "cell_type": "markdown",
      "metadata": {
        "id": "EUKrBfxQAXzW",
        "colab_type": "text"
      },
      "source": [
        "### **Verificando valores duplicados**"
      ]
    },
    {
      "cell_type": "markdown",
      "metadata": {
        "id": "N_cTzLAOTjME",
        "colab_type": "text"
      },
      "source": [
        "Contexto...Valores duplicados são encontrados com frequência e dependendo da análise que será feita, esses valores podem alterar o resultado final."
      ]
    },
    {
      "cell_type": "markdown",
      "metadata": {
        "id": "kqnoyzIuIyhR",
        "colab_type": "text"
      },
      "source": [
        "https://medium.com/@lucasoliveiras/limpeza-e-prepara%C3%A7%C3%A3o-dos-dados-com-pandas-856e844abfbb"
      ]
    },
    {
      "cell_type": "markdown",
      "metadata": {
        "id": "u6jP13AqAeCf",
        "colab_type": "text"
      },
      "source": [
        "Por se tratar de um dataset com diversas musicas, e numeros, é importante verificar se não tem dados duplicados"
      ]
    },
    {
      "cell_type": "code",
      "metadata": {
        "id": "spYdCRZdALh6",
        "colab_type": "code",
        "colab": {
          "base_uri": "https://localhost:8080/",
          "height": 51
        },
        "outputId": "fd6f6b8e-4d41-4386-a2b4-33cf584e81fc"
      },
      "source": [
        "df.duplicated().value_counts()"
      ],
      "execution_count": 224,
      "outputs": [
        {
          "output_type": "execute_result",
          "data": {
            "text/plain": [
              "False    33\n",
              "dtype: int64"
            ]
          },
          "metadata": {
            "tags": []
          },
          "execution_count": 224
        }
      ]
    },
    {
      "cell_type": "markdown",
      "metadata": {
        "id": "gi1AnCn2A5lb",
        "colab_type": "text"
      },
      "source": [
        "contexto"
      ]
    },
    {
      "cell_type": "markdown",
      "metadata": {
        "id": "WiuMU5_PSMYt",
        "colab_type": "text"
      },
      "source": [
        "### **Outliers**"
      ]
    },
    {
      "cell_type": "markdown",
      "metadata": {
        "id": "ov_g9htZSOvE",
        "colab_type": "text"
      },
      "source": [
        "contexto.. Os outliers são os valores que chamamos de discrepantes.... "
      ]
    },
    {
      "cell_type": "markdown",
      "metadata": {
        "id": "S3b2smwaSVYp",
        "colab_type": "text"
      },
      "source": [
        "inserir imagens do artigo: https://towardsdatascience.com/a-gentle-introduction-to-exploratory-data-analysis-f11d843b8184"
      ]
    },
    {
      "cell_type": "markdown",
      "metadata": {
        "id": "z20_-k-eS1OT",
        "colab_type": "text"
      },
      "source": [
        "Para identificar a presença de outliers a melhor soluçã é DISTRIBUIÇÃO, que podem ser feitas tanto com gráficos de hsitograma como o proprio gráfico de distribução."
      ]
    },
    {
      "cell_type": "code",
      "metadata": {
        "id": "fEVwTPeXTBc0",
        "colab_type": "code",
        "colab": {
          "base_uri": "https://localhost:8080/",
          "height": 282
        },
        "outputId": "260a47f4-2a63-4c39-9845-7360d5a59956"
      },
      "source": [
        "df.plot(kind='hist')"
      ],
      "execution_count": 225,
      "outputs": [
        {
          "output_type": "execute_result",
          "data": {
            "text/plain": [
              "<matplotlib.axes._subplots.AxesSubplot at 0x7fd4f91af080>"
            ]
          },
          "metadata": {
            "tags": []
          },
          "execution_count": 225
        },
        {
          "output_type": "display_data",
          "data": {
            "image/png": "[encoded data removed]",
            "text/plain": [
              "<Figure size 432x288 with 1 Axes>"
            ]
          },
          "metadata": {
            "tags": []
          }
        }
      ]
    },
    {
      "cell_type": "markdown",
      "metadata": {
        "id": "Kjyju-V-UAqW",
        "colab_type": "text"
      },
      "source": [
        "Artigo que tbm fala sobre outliers = https://r4ds.had.co.nz/exploratory-data-analysis.html"
      ]
    },
    {
      "cell_type": "markdown",
      "metadata": {
        "id": "wYCBfOpbSXPy",
        "colab_type": "text"
      },
      "source": [
        "## **Exploração e Visualização de dados**"
      ]
    },
    {
      "cell_type": "markdown",
      "metadata": {
        "id": "byPK-A7qTwZY",
        "colab_type": "text"
      },
      "source": [
        "contexto... Toda exploração de dados está relacionada a hipoteses,  avaliar pressupostos sobre os quais a inferencia estatistica se baseara...."
      ]
    },
    {
      "cell_type": "markdown",
      "metadata": {
        "colab_type": "text",
        "id": "5HkE9tPWn54p"
      },
      "source": [
        "A EDA é um ciclo iterativo. Vocês:\n",
        "\n",
        "* Gera perguntas sobre seus dados.\n",
        "\n",
        "* Pesquisa respostas visualizando, transformando e modelando seus dados.\n",
        "\n",
        "* Usa o que aprendeu para refinar suas perguntas e / ou gerar novas perguntas.\n",
        "\n",
        "Artigo: https://r4ds.had.co.nz/exploratory-data-analysis.html"
      ]
    },
    {
      "cell_type": "markdown",
      "metadata": {
        "id": "Fp_V9h9Pc6MI",
        "colab_type": "text"
      },
      "source": [
        "Fazer uma exploração sempre temos que ter como objetivo ir atrás de **Perguntas** e **Hipoteses**"
      ]
    },
    {
      "cell_type": "markdown",
      "metadata": {
        "id": "FTsPEFYiUHyo",
        "colab_type": "text"
      },
      "source": [
        "Então vamos definir algumas perguntas que queremos responder na analise exploratoria dos dados, para reter informações... A análise exploratoria deve se chegar ao fim, quando for identificado que já se atingiu o objetivo desejado,, na prática isso é definido pela área de negocios."
      ]
    },
    {
      "cell_type": "markdown",
      "metadata": {
        "id": "2pJON784dHUp",
        "colab_type": "text"
      },
      "source": [
        "### **Perguntas:**"
      ]
    },
    {
      "cell_type": "markdown",
      "metadata": {
        "id": "HYkFCaOSdHPZ",
        "colab_type": "text"
      },
      "source": [
        "* Qual é a música mais popular de Nexo?\n",
        "* Qual é o álbum mais popular?\n",
        "* E o single?\n",
        "* Quantas musicas todos os albuns tem?\n",
        "* A popularidade das músicas tem relação com a posição?"
      ]
    },
    {
      "cell_type": "markdown",
      "metadata": {
        "id": "yWQ61UuNSwxi",
        "colab_type": "text"
      },
      "source": [
        "### **Hipóteses:**\n",
        "\n",
        "* No album Real Plug, ...\n",
        "* No album Trap de Cria, acredito que seja OI Fake \n",
        "* No album TFF, acredito que seja Match, por mais que a minha preferida seja ...\n",
        "\n",
        "* Musica mais pouplar, Ratatah \n",
        "* Album mais popular, TFF\n",
        "* **O sucesso Trap de cria**\n"
      ]
    },
    {
      "cell_type": "markdown",
      "metadata": {
        "id": "fifzbKOCWKIB",
        "colab_type": "text"
      },
      "source": [
        "contexto... Durante a analise exploratoria podem surgir outras perguntas, então é sempre bom começar com perguntas simple e ir aumentando suas complexidades conforme vai conhecendo os dados, o qual também é um dos objetivos da analise exploratoria, você tomar conhecimento dos seus dados."
      ]
    },
    {
      "cell_type": "markdown",
      "metadata": {
        "id": "XWhkOsDfWLkU",
        "colab_type": "text"
      },
      "source": [
        "Vamos começar visualizando novamente nosso dataframe..."
      ]
    },
    {
      "cell_type": "code",
      "metadata": {
        "id": "GsxDgj-fVKxe",
        "colab_type": "code",
        "colab": {
          "base_uri": "https://localhost:8080/",
          "height": 204
        },
        "outputId": "875fdae8-e58c-4b7c-f8a9-b82c611c6d29"
      },
      "source": [
        "df.head()"
      ],
      "execution_count": 226,
      "outputs": [
        {
          "output_type": "execute_result",
          "data": {
            "text/html": [
              "<div>\n",
              "<style scoped>\n",
              "    .dataframe tbody tr th:only-of-type {\n",
              "        vertical-align: middle;\n",
              "    }\n",
              "\n",
              "    .dataframe tbody tr th {\n",
              "        vertical-align: top;\n",
              "    }\n",
              "\n",
              "    .dataframe thead th {\n",
              "        text-align: right;\n",
              "    }\n",
              "</style>\n",
              "<table border=\"1\" class=\"dataframe\">\n",
              "  <thead>\n",
              "    <tr style=\"text-align: right;\">\n",
              "      <th></th>\n",
              "      <th>nome_do_album</th>\n",
              "      <th>nome_da_faixa</th>\n",
              "      <th>posicao_da_faixa</th>\n",
              "      <th>popularidade</th>\n",
              "      <th>duraçao_da_musica</th>\n",
              "    </tr>\n",
              "  </thead>\n",
              "  <tbody>\n",
              "    <tr>\n",
              "      <th>0</th>\n",
              "      <td>Trap from Future</td>\n",
              "      <td>Vem No Tum Tum</td>\n",
              "      <td>1</td>\n",
              "      <td>16</td>\n",
              "      <td>216917</td>\n",
              "    </tr>\n",
              "    <tr>\n",
              "      <th>1</th>\n",
              "      <td>Trap from Future</td>\n",
              "      <td>Drip Know Me</td>\n",
              "      <td>2</td>\n",
              "      <td>2</td>\n",
              "      <td>154646</td>\n",
              "    </tr>\n",
              "    <tr>\n",
              "      <th>2</th>\n",
              "      <td>Trap from Future</td>\n",
              "      <td>Match</td>\n",
              "      <td>3</td>\n",
              "      <td>3</td>\n",
              "      <td>180716</td>\n",
              "    </tr>\n",
              "    <tr>\n",
              "      <th>3</th>\n",
              "      <td>Trap from Future</td>\n",
              "      <td>Trap &amp; Brega</td>\n",
              "      <td>4</td>\n",
              "      <td>5</td>\n",
              "      <td>164468</td>\n",
              "    </tr>\n",
              "    <tr>\n",
              "      <th>4</th>\n",
              "      <td>Trap from Future</td>\n",
              "      <td>Marca Sem Roupa</td>\n",
              "      <td>5</td>\n",
              "      <td>5</td>\n",
              "      <td>148364</td>\n",
              "    </tr>\n",
              "  </tbody>\n",
              "</table>\n",
              "</div>"
            ],
            "text/plain": [
              "      nome_do_album    nome_da_faixa  ...  popularidade  duraçao_da_musica\n",
              "0  Trap from Future   Vem No Tum Tum  ...            16             216917\n",
              "1  Trap from Future     Drip Know Me  ...             2             154646\n",
              "2  Trap from Future            Match  ...             3             180716\n",
              "3  Trap from Future     Trap & Brega  ...             5             164468\n",
              "4  Trap from Future  Marca Sem Roupa  ...             5             148364\n",
              "\n",
              "[5 rows x 5 columns]"
            ]
          },
          "metadata": {
            "tags": []
          },
          "execution_count": 226
        }
      ]
    },
    {
      "cell_type": "markdown",
      "metadata": {
        "id": "2LFe7JMwWREn",
        "colab_type": "text"
      },
      "source": [
        "### **Q1: Quais músicas dos albumns de NexoAnexo estão popular no momento?** Data = "
      ]
    },
    {
      "cell_type": "markdown",
      "metadata": {
        "id": "Y0h0LybiMMSP",
        "colab_type": "text"
      },
      "source": [
        "Sem contar os singles, aqui estamos levando em consideração as musicas dos albumns..."
      ]
    },
    {
      "cell_type": "markdown",
      "metadata": {
        "id": "gyAlWDqnEEX5",
        "colab_type": "text"
      },
      "source": [
        "A popularidade das musicas podem mudar diariamente de acordo com os lançamentos de novas músicas que surgem, as musicas que estão popular no momento sao:"
      ]
    },
    {
      "cell_type": "code",
      "metadata": {
        "id": "j2AN68OGVRL3",
        "colab_type": "code",
        "colab": {
          "base_uri": "https://localhost:8080/",
          "height": 1000
        },
        "outputId": "d0f2b048-fad7-4cf3-c376-a50d6a476ed0"
      },
      "source": [
        "df[['nome_da_faixa', 'popularidade']].sort_values(ascending=False, by='popularidade').reset_index(drop=True)"
      ],
      "execution_count": 227,
      "outputs": [
        {
          "output_type": "execute_result",
          "data": {
            "text/html": [
              "<div>\n",
              "<style scoped>\n",
              "    .dataframe tbody tr th:only-of-type {\n",
              "        vertical-align: middle;\n",
              "    }\n",
              "\n",
              "    .dataframe tbody tr th {\n",
              "        vertical-align: top;\n",
              "    }\n",
              "\n",
              "    .dataframe thead th {\n",
              "        text-align: right;\n",
              "    }\n",
              "</style>\n",
              "<table border=\"1\" class=\"dataframe\">\n",
              "  <thead>\n",
              "    <tr style=\"text-align: right;\">\n",
              "      <th></th>\n",
              "      <th>nome_da_faixa</th>\n",
              "      <th>popularidade</th>\n",
              "    </tr>\n",
              "  </thead>\n",
              "  <tbody>\n",
              "    <tr>\n",
              "      <th>0</th>\n",
              "      <td>Vem No Tum Tum</td>\n",
              "      <td>16</td>\n",
              "    </tr>\n",
              "    <tr>\n",
              "      <th>1</th>\n",
              "      <td>Trap de Cria</td>\n",
              "      <td>9</td>\n",
              "    </tr>\n",
              "    <tr>\n",
              "      <th>2</th>\n",
              "      <td>Trap &amp; Brega</td>\n",
              "      <td>5</td>\n",
              "    </tr>\n",
              "    <tr>\n",
              "      <th>3</th>\n",
              "      <td>Marca Sem Roupa</td>\n",
              "      <td>5</td>\n",
              "    </tr>\n",
              "    <tr>\n",
              "      <th>4</th>\n",
              "      <td>Fogo No Incenso</td>\n",
              "      <td>4</td>\n",
              "    </tr>\n",
              "    <tr>\n",
              "      <th>5</th>\n",
              "      <td>2020</td>\n",
              "      <td>4</td>\n",
              "    </tr>\n",
              "    <tr>\n",
              "      <th>6</th>\n",
              "      <td>Match</td>\n",
              "      <td>3</td>\n",
              "    </tr>\n",
              "    <tr>\n",
              "      <th>7</th>\n",
              "      <td>Passa Nada</td>\n",
              "      <td>3</td>\n",
              "    </tr>\n",
              "    <tr>\n",
              "      <th>8</th>\n",
              "      <td>Isso Que É Foda</td>\n",
              "      <td>3</td>\n",
              "    </tr>\n",
              "    <tr>\n",
              "      <th>9</th>\n",
              "      <td>Como Tem Que Ser</td>\n",
              "      <td>3</td>\n",
              "    </tr>\n",
              "    <tr>\n",
              "      <th>10</th>\n",
              "      <td>Grife</td>\n",
              "      <td>3</td>\n",
              "    </tr>\n",
              "    <tr>\n",
              "      <th>11</th>\n",
              "      <td>Wow!</td>\n",
              "      <td>3</td>\n",
              "    </tr>\n",
              "    <tr>\n",
              "      <th>12</th>\n",
              "      <td>Não Posso Morrer Novo</td>\n",
              "      <td>2</td>\n",
              "    </tr>\n",
              "    <tr>\n",
              "      <th>13</th>\n",
              "      <td>Drip Know Me</td>\n",
              "      <td>2</td>\n",
              "    </tr>\n",
              "    <tr>\n",
              "      <th>14</th>\n",
              "      <td>A Lista das Bandidas</td>\n",
              "      <td>2</td>\n",
              "    </tr>\n",
              "    <tr>\n",
              "      <th>15</th>\n",
              "      <td>Baila Comigo?</td>\n",
              "      <td>2</td>\n",
              "    </tr>\n",
              "    <tr>\n",
              "      <th>16</th>\n",
              "      <td>Hino dos Irmãos</td>\n",
              "      <td>1</td>\n",
              "    </tr>\n",
              "    <tr>\n",
              "      <th>17</th>\n",
              "      <td>Zombieland</td>\n",
              "      <td>1</td>\n",
              "    </tr>\n",
              "    <tr>\n",
              "      <th>18</th>\n",
              "      <td>Novo Rock</td>\n",
              "      <td>1</td>\n",
              "    </tr>\n",
              "    <tr>\n",
              "      <th>19</th>\n",
              "      <td>Bebê da Cara de Mal</td>\n",
              "      <td>1</td>\n",
              "    </tr>\n",
              "    <tr>\n",
              "      <th>20</th>\n",
              "      <td>Video Call</td>\n",
              "      <td>1</td>\n",
              "    </tr>\n",
              "    <tr>\n",
              "      <th>21</th>\n",
              "      <td>Fuck Cópias</td>\n",
              "      <td>1</td>\n",
              "    </tr>\n",
              "    <tr>\n",
              "      <th>22</th>\n",
              "      <td>E Ai Fake</td>\n",
              "      <td>1</td>\n",
              "    </tr>\n",
              "    <tr>\n",
              "      <th>23</th>\n",
              "      <td>Aliviando o Stress</td>\n",
              "      <td>0</td>\n",
              "    </tr>\n",
              "    <tr>\n",
              "      <th>24</th>\n",
              "      <td>A3</td>\n",
              "      <td>0</td>\n",
              "    </tr>\n",
              "    <tr>\n",
              "      <th>25</th>\n",
              "      <td>The Train</td>\n",
              "      <td>0</td>\n",
              "    </tr>\n",
              "    <tr>\n",
              "      <th>26</th>\n",
              "      <td>Fica Bem</td>\n",
              "      <td>0</td>\n",
              "    </tr>\n",
              "    <tr>\n",
              "      <th>27</th>\n",
              "      <td>Gospel</td>\n",
              "      <td>0</td>\n",
              "    </tr>\n",
              "    <tr>\n",
              "      <th>28</th>\n",
              "      <td>Nxanx</td>\n",
              "      <td>0</td>\n",
              "    </tr>\n",
              "    <tr>\n",
              "      <th>29</th>\n",
              "      <td>Tudo</td>\n",
              "      <td>0</td>\n",
              "    </tr>\n",
              "    <tr>\n",
              "      <th>30</th>\n",
              "      <td>A Lei</td>\n",
              "      <td>0</td>\n",
              "    </tr>\n",
              "    <tr>\n",
              "      <th>31</th>\n",
              "      <td>Dreams Cup</td>\n",
              "      <td>0</td>\n",
              "    </tr>\n",
              "    <tr>\n",
              "      <th>32</th>\n",
              "      <td>Pjl</td>\n",
              "      <td>0</td>\n",
              "    </tr>\n",
              "  </tbody>\n",
              "</table>\n",
              "</div>"
            ],
            "text/plain": [
              "            nome_da_faixa  popularidade\n",
              "0          Vem No Tum Tum            16\n",
              "1            Trap de Cria             9\n",
              "2            Trap & Brega             5\n",
              "3         Marca Sem Roupa             5\n",
              "4         Fogo No Incenso             4\n",
              "5                    2020             4\n",
              "6                   Match             3\n",
              "7              Passa Nada             3\n",
              "8         Isso Que É Foda             3\n",
              "9        Como Tem Que Ser             3\n",
              "10                  Grife             3\n",
              "11                   Wow!             3\n",
              "12  Não Posso Morrer Novo             2\n",
              "13           Drip Know Me             2\n",
              "14   A Lista das Bandidas             2\n",
              "15          Baila Comigo?             2\n",
              "16        Hino dos Irmãos             1\n",
              "17             Zombieland             1\n",
              "18              Novo Rock             1\n",
              "19    Bebê da Cara de Mal             1\n",
              "20             Video Call             1\n",
              "21            Fuck Cópias             1\n",
              "22              E Ai Fake             1\n",
              "23     Aliviando o Stress             0\n",
              "24                     A3             0\n",
              "25              The Train             0\n",
              "26               Fica Bem             0\n",
              "27                 Gospel             0\n",
              "28                  Nxanx             0\n",
              "29                   Tudo             0\n",
              "30                  A Lei             0\n",
              "31             Dreams Cup             0\n",
              "32                    Pjl             0"
            ]
          },
          "metadata": {
            "tags": []
          },
          "execution_count": 227
        }
      ]
    },
    {
      "cell_type": "markdown",
      "metadata": {
        "id": "sLirQ_8-CdvS",
        "colab_type": "text"
      },
      "source": [
        "**Visualização de dados**"
      ]
    },
    {
      "cell_type": "markdown",
      "metadata": {
        "id": "wtQz8Kg-idB4",
        "colab_type": "text"
      },
      "source": [
        "A etapa de visualizacao de dados está dentro da exploração de dados, com o objetivo de transmitir a informação retiradas dos dados... Contexto"
      ]
    },
    {
      "cell_type": "markdown",
      "metadata": {
        "id": "wxOPj3DOEev8",
        "colab_type": "text"
      },
      "source": [
        "contexto sobre visualizacao de dados"
      ]
    },
    {
      "cell_type": "markdown",
      "metadata": {
        "id": "sf75X2LvDWlL",
        "colab_type": "text"
      },
      "source": [
        "Então a primeira coisa que vamos visualizar é a primeira pergunta que foi levantada, quais são as músicas que estão popular no momento?..."
      ]
    },
    {
      "cell_type": "code",
      "metadata": {
        "colab_type": "code",
        "id": "dNhG-iRsE6bU",
        "colab": {}
      },
      "source": [
        "#pegar as 10 músicas que estão popular e transformar em uma variavel para plotar posteriormente\n",
        "musicas_populares = df[['nome_da_faixa', 'popularidade']].sort_values(ascending=False, by='popularidade').reset_index(drop=True)[:20]"
      ],
      "execution_count": 228,
      "outputs": []
    },
    {
      "cell_type": "code",
      "metadata": {
        "colab_type": "code",
        "id": "EdGjw_LIE6ba",
        "colab": {
          "base_uri": "https://localhost:8080/",
          "height": 504
        },
        "outputId": "4cfb0b9b-faeb-47ff-9e03-4264e59898da"
      },
      "source": [
        "#plotar gráfico de barras com seaborn das músicas que estão popular\n",
        "plt.figure(figsize=(16,6))\n",
        "ax = sns.barplot(x= 'nome_da_faixa', \n",
        "                 y = 'popularidade', \n",
        "                 data = musicas_populares, \n",
        "                 palette = sns.color_palette(\"BuGn_r\", n_colors=len(musicas_populares)))\n",
        "ax.set_xticklabels(ax.get_xticklabels(), rotation=65)\n",
        "ax.set_title('As 10 músicas que estão popular no momento');\n"
      ],
      "execution_count": 229,
      "outputs": [
        {
          "output_type": "display_data",
          "data": {
            "image/png": "[encoded data removed]",
            "text/plain": [
              "<Figure size 1152x432 with 1 Axes>"
            ]
          },
          "metadata": {
            "tags": []
          }
        }
      ]
    },
    {
      "cell_type": "markdown",
      "metadata": {
        "id": "ETKrI5uEXLNs",
        "colab_type": "text"
      },
      "source": [
        "O que me surpreende nessa primeira visão é a faixa Trap de Cria, que foi um lançamento do album Trap de Cria Mixtape, antes do Trap From Future. Mas não é só isso que dá pra observar, a faixa 2020 do primeiro albúm Real Plug Mix Tape está a frente de muitas da musicas do recente album Trap From Future. "
      ]
    },
    {
      "cell_type": "markdown",
      "metadata": {
        "id": "4qzoWwkeXyjv",
        "colab_type": "text"
      },
      "source": [
        "Um questionamento que tenho é se a popularidade dessas faixas que estão em alta tem relação com a posição das faixas. Tendo em vista, que a primeira faixa sempre é a primeira a tocar obviamente, sempre que inicia a playlist. Mas antes disso vamos separar os albuns por variveis para a analise ficar mais clara e facil."
      ]
    },
    {
      "cell_type": "markdown",
      "metadata": {
        "colab_type": "text",
        "id": "F-3Rqc1UzITW"
      },
      "source": [
        "**Definindo por albumns**"
      ]
    },
    {
      "cell_type": "code",
      "metadata": {
        "colab_type": "code",
        "id": "Hq3BGi4bzamu",
        "colab": {}
      },
      "source": [
        "rmx = df.query(\"nome_do_album == 'Real Plug Mixtape' \")"
      ],
      "execution_count": 298,
      "outputs": []
    },
    {
      "cell_type": "code",
      "metadata": {
        "colab_type": "code",
        "id": "5U-ltK3bzanC",
        "colab": {}
      },
      "source": [
        "tcm = df.query(\"nome_do_album == 'Trap de Cria Mixtape' \")"
      ],
      "execution_count": 231,
      "outputs": []
    },
    {
      "cell_type": "code",
      "metadata": {
        "colab_type": "code",
        "id": "nQ1FFWU4zanI",
        "colab": {}
      },
      "source": [
        "tff = df.query(\"nome_do_album == 'Trap from Future' \")"
      ],
      "execution_count": 232,
      "outputs": []
    },
    {
      "cell_type": "markdown",
      "metadata": {
        "id": "n2bI0C6gYbVG",
        "colab_type": "text"
      },
      "source": [
        "contexto"
      ]
    },
    {
      "cell_type": "markdown",
      "metadata": {
        "colab_type": "text",
        "id": "85tzj87kzane"
      },
      "source": [
        "### **Q2: Quantidade de musicas que estão sendo analisadas?**"
      ]
    },
    {
      "cell_type": "code",
      "metadata": {
        "colab_type": "code",
        "id": "_VGu6Obmzanf",
        "colab": {
          "base_uri": "https://localhost:8080/",
          "height": 34
        },
        "outputId": "88237da3-f11e-4704-c696-22ad5cb26657"
      },
      "source": [
        "print(f'{df[\"nome_da_faixa\"].count()} músicas') "
      ],
      "execution_count": 233,
      "outputs": [
        {
          "output_type": "stream",
          "text": [
            "33 músicas\n"
          ],
          "name": "stdout"
        }
      ]
    },
    {
      "cell_type": "markdown",
      "metadata": {
        "colab_type": "text",
        "id": "HewMCWqdzank"
      },
      "source": [
        "**Músicas por album**"
      ]
    },
    {
      "cell_type": "markdown",
      "metadata": {
        "id": "1rOcLE1_YoT7",
        "colab_type": "text"
      },
      "source": [
        "Albúm RealPlug MTP:"
      ]
    },
    {
      "cell_type": "code",
      "metadata": {
        "id": "RMmerNw7YmXc",
        "colab_type": "code",
        "colab": {
          "base_uri": "https://localhost:8080/",
          "height": 314
        },
        "outputId": "15c55a55-dec8-4fd4-9ccf-00378e1ca189"
      },
      "source": [
        "print(f'O albúm tem: {rmx[\"nome_da_faixa\"].count()} faixas')\n",
        "\n",
        "rmx[['posicao_da_faixa', 'nome_da_faixa']].reset_index(drop=True)"
      ],
      "execution_count": 296,
      "outputs": [
        {
          "output_type": "stream",
          "text": [
            "O albúm tem: 8 faixas\n"
          ],
          "name": "stdout"
        },
        {
          "output_type": "execute_result",
          "data": {
            "text/html": [
              "<div>\n",
              "<style scoped>\n",
              "    .dataframe tbody tr th:only-of-type {\n",
              "        vertical-align: middle;\n",
              "    }\n",
              "\n",
              "    .dataframe tbody tr th {\n",
              "        vertical-align: top;\n",
              "    }\n",
              "\n",
              "    .dataframe thead th {\n",
              "        text-align: right;\n",
              "    }\n",
              "</style>\n",
              "<table border=\"1\" class=\"dataframe\">\n",
              "  <thead>\n",
              "    <tr style=\"text-align: right;\">\n",
              "      <th></th>\n",
              "      <th>posicao_da_faixa</th>\n",
              "      <th>nome_da_faixa</th>\n",
              "    </tr>\n",
              "  </thead>\n",
              "  <tbody>\n",
              "    <tr>\n",
              "      <th>0</th>\n",
              "      <td>1</td>\n",
              "      <td>The Train</td>\n",
              "    </tr>\n",
              "    <tr>\n",
              "      <th>1</th>\n",
              "      <td>2</td>\n",
              "      <td>Fica Bem</td>\n",
              "    </tr>\n",
              "    <tr>\n",
              "      <th>2</th>\n",
              "      <td>3</td>\n",
              "      <td>Gospel</td>\n",
              "    </tr>\n",
              "    <tr>\n",
              "      <th>3</th>\n",
              "      <td>4</td>\n",
              "      <td>Nxanx</td>\n",
              "    </tr>\n",
              "    <tr>\n",
              "      <th>4</th>\n",
              "      <td>5</td>\n",
              "      <td>Tudo</td>\n",
              "    </tr>\n",
              "    <tr>\n",
              "      <th>5</th>\n",
              "      <td>6</td>\n",
              "      <td>A Lei</td>\n",
              "    </tr>\n",
              "    <tr>\n",
              "      <th>6</th>\n",
              "      <td>7</td>\n",
              "      <td>Dreams Cup</td>\n",
              "    </tr>\n",
              "    <tr>\n",
              "      <th>7</th>\n",
              "      <td>8</td>\n",
              "      <td>2020</td>\n",
              "    </tr>\n",
              "  </tbody>\n",
              "</table>\n",
              "</div>"
            ],
            "text/plain": [
              "   posicao_da_faixa nome_da_faixa\n",
              "0                 1     The Train\n",
              "1                 2      Fica Bem\n",
              "2                 3        Gospel\n",
              "3                 4         Nxanx\n",
              "4                 5          Tudo\n",
              "5                 6         A Lei\n",
              "6                 7    Dreams Cup\n",
              "7                 8          2020"
            ]
          },
          "metadata": {
            "tags": []
          },
          "execution_count": 296
        }
      ]
    },
    {
      "cell_type": "markdown",
      "metadata": {
        "id": "p-4mdlaEmTrV",
        "colab_type": "text"
      },
      "source": [
        "contexto"
      ]
    },
    {
      "cell_type": "code",
      "metadata": {
        "id": "_C5GvdxI4QPE",
        "colab_type": "code",
        "colab": {
          "base_uri": "https://localhost:8080/",
          "height": 407
        },
        "outputId": "5197e8ee-7072-4d3f-87f2-569a16e56cb5"
      },
      "source": [
        "plt.figure(figsize=(15,6))\n",
        "ax = sns.lineplot(x='nome_da_faixa', y='popularidade', data=rmx);\n",
        "ax.set_title('Popularidade das faixas', size=13);\n",
        "ax.set_xlabel('Nome da faixa', size=13);\n",
        "ax.set_ylabel('Popularidade', size=13);"
      ],
      "execution_count": 297,
      "outputs": [
        {
          "output_type": "display_data",
          "data": {
            "image/png": "[encoded data removed]",
            "text/plain": [
              "<Figure size 1080x432 with 1 Axes>"
            ]
          },
          "metadata": {
            "tags": []
          }
        }
      ]
    },
    {
      "cell_type": "markdown",
      "metadata": {
        "id": "dwLWmZYeaw0F",
        "colab_type": "text"
      },
      "source": [
        "\n",
        "Já conseguimos observar aqui que de fato a faixa 2020 é um sucesso, tendo em vista que tem uma popularidade alta mesmo estando na ultima posicao do album. "
      ]
    },
    {
      "cell_type": "markdown",
      "metadata": {
        "id": "o34rgTMzsvn8",
        "colab_type": "text"
      },
      "source": [
        "O fato de a popularidade das outras faixas estarem baixas são devido que esse album é o mais antigo e o calculo da popularidade é feito a partir...."
      ]
    },
    {
      "cell_type": "markdown",
      "metadata": {
        "id": "NmYcGJwHYr51",
        "colab_type": "text"
      },
      "source": [
        "Albúm Trap de cria:"
      ]
    },
    {
      "cell_type": "code",
      "metadata": {
        "id": "EBbaP2_BYzPh",
        "colab_type": "code",
        "colab": {
          "base_uri": "https://localhost:8080/",
          "height": 359
        },
        "outputId": "c4400ae9-a2d5-4931-ea4a-508b489f8251"
      },
      "source": [
        "tcm[['posicao_da_faixa', 'nome_da_faixa']].reset_index(drop=True)"
      ],
      "execution_count": 259,
      "outputs": [
        {
          "output_type": "execute_result",
          "data": {
            "text/html": [
              "<div>\n",
              "<style scoped>\n",
              "    .dataframe tbody tr th:only-of-type {\n",
              "        vertical-align: middle;\n",
              "    }\n",
              "\n",
              "    .dataframe tbody tr th {\n",
              "        vertical-align: top;\n",
              "    }\n",
              "\n",
              "    .dataframe thead th {\n",
              "        text-align: right;\n",
              "    }\n",
              "</style>\n",
              "<table border=\"1\" class=\"dataframe\">\n",
              "  <thead>\n",
              "    <tr style=\"text-align: right;\">\n",
              "      <th></th>\n",
              "      <th>posicao_da_faixa</th>\n",
              "      <th>nome_da_faixa</th>\n",
              "    </tr>\n",
              "  </thead>\n",
              "  <tbody>\n",
              "    <tr>\n",
              "      <th>0</th>\n",
              "      <td>1</td>\n",
              "      <td>Trap de Cria</td>\n",
              "    </tr>\n",
              "    <tr>\n",
              "      <th>1</th>\n",
              "      <td>2</td>\n",
              "      <td>A Lista das Bandidas</td>\n",
              "    </tr>\n",
              "    <tr>\n",
              "      <th>2</th>\n",
              "      <td>3</td>\n",
              "      <td>A3</td>\n",
              "    </tr>\n",
              "    <tr>\n",
              "      <th>3</th>\n",
              "      <td>4</td>\n",
              "      <td>E Ai Fake</td>\n",
              "    </tr>\n",
              "    <tr>\n",
              "      <th>4</th>\n",
              "      <td>5</td>\n",
              "      <td>Video Call</td>\n",
              "    </tr>\n",
              "    <tr>\n",
              "      <th>5</th>\n",
              "      <td>6</td>\n",
              "      <td>Aliviando o Stress</td>\n",
              "    </tr>\n",
              "    <tr>\n",
              "      <th>6</th>\n",
              "      <td>7</td>\n",
              "      <td>Hino dos Irmãos</td>\n",
              "    </tr>\n",
              "    <tr>\n",
              "      <th>7</th>\n",
              "      <td>8</td>\n",
              "      <td>Bebê da Cara de Mal</td>\n",
              "    </tr>\n",
              "    <tr>\n",
              "      <th>8</th>\n",
              "      <td>9</td>\n",
              "      <td>Isso Que É Foda</td>\n",
              "    </tr>\n",
              "    <tr>\n",
              "      <th>9</th>\n",
              "      <td>10</td>\n",
              "      <td>Pjl</td>\n",
              "    </tr>\n",
              "  </tbody>\n",
              "</table>\n",
              "</div>"
            ],
            "text/plain": [
              "   posicao_da_faixa         nome_da_faixa\n",
              "0                 1          Trap de Cria\n",
              "1                 2  A Lista das Bandidas\n",
              "2                 3                    A3\n",
              "3                 4             E Ai Fake\n",
              "4                 5            Video Call\n",
              "5                 6    Aliviando o Stress\n",
              "6                 7       Hino dos Irmãos\n",
              "7                 8   Bebê da Cara de Mal\n",
              "8                 9       Isso Que É Foda\n",
              "9                10                   Pjl"
            ]
          },
          "metadata": {
            "tags": []
          },
          "execution_count": 259
        }
      ]
    },
    {
      "cell_type": "markdown",
      "metadata": {
        "id": "GXKrLyhMbFZd",
        "colab_type": "text"
      },
      "source": [
        "contexto"
      ]
    },
    {
      "cell_type": "code",
      "metadata": {
        "colab_type": "code",
        "id": "ZmS33hkZ43PN",
        "colab": {
          "base_uri": "https://localhost:8080/",
          "height": 408
        },
        "outputId": "8d39432a-aa3e-4408-9de0-dcdd00faba42"
      },
      "source": [
        "plt.figure(figsize=(18,6))\n",
        "ax = sns.lineplot(x='nome_da_faixa', y='popularidade', data=tcm);\n",
        "ax.set_title('Popularidade das faixas', size=13);\n",
        "ax.set_xlabel('Nome da faixa', size=13);\n",
        "ax.set_ylabel('Popularidade', size=13);\n"
      ],
      "execution_count": 331,
      "outputs": [
        {
          "output_type": "display_data",
          "data": {
            "image/png": "[encoded data removed]",
            "text/plain": [
              "<Figure size 1296x432 with 1 Axes>"
            ]
          },
          "metadata": {
            "tags": []
          }
        }
      ]
    },
    {
      "cell_type": "markdown",
      "metadata": {
        "id": "zSj_1-1D3d_U",
        "colab_type": "text"
      },
      "source": [
        "contexto"
      ]
    },
    {
      "cell_type": "markdown",
      "metadata": {
        "id": "k8-XFkOmY3MF",
        "colab_type": "text"
      },
      "source": [
        "Trap from future:"
      ]
    },
    {
      "cell_type": "code",
      "metadata": {
        "id": "ekpuLHPJY8gA",
        "colab_type": "code",
        "colab": {
          "base_uri": "https://localhost:8080/",
          "height": 514
        },
        "outputId": "e06b1146-51e3-4d72-fab4-f53a347892c2"
      },
      "source": [
        "tff[['posicao_da_faixa', 'nome_da_faixa']]"
      ],
      "execution_count": 275,
      "outputs": [
        {
          "output_type": "execute_result",
          "data": {
            "text/html": [
              "<div>\n",
              "<style scoped>\n",
              "    .dataframe tbody tr th:only-of-type {\n",
              "        vertical-align: middle;\n",
              "    }\n",
              "\n",
              "    .dataframe tbody tr th {\n",
              "        vertical-align: top;\n",
              "    }\n",
              "\n",
              "    .dataframe thead th {\n",
              "        text-align: right;\n",
              "    }\n",
              "</style>\n",
              "<table border=\"1\" class=\"dataframe\">\n",
              "  <thead>\n",
              "    <tr style=\"text-align: right;\">\n",
              "      <th></th>\n",
              "      <th>posicao_da_faixa</th>\n",
              "      <th>nome_da_faixa</th>\n",
              "    </tr>\n",
              "  </thead>\n",
              "  <tbody>\n",
              "    <tr>\n",
              "      <th>0</th>\n",
              "      <td>1</td>\n",
              "      <td>Vem No Tum Tum</td>\n",
              "    </tr>\n",
              "    <tr>\n",
              "      <th>1</th>\n",
              "      <td>2</td>\n",
              "      <td>Drip Know Me</td>\n",
              "    </tr>\n",
              "    <tr>\n",
              "      <th>2</th>\n",
              "      <td>3</td>\n",
              "      <td>Match</td>\n",
              "    </tr>\n",
              "    <tr>\n",
              "      <th>3</th>\n",
              "      <td>4</td>\n",
              "      <td>Trap &amp; Brega</td>\n",
              "    </tr>\n",
              "    <tr>\n",
              "      <th>4</th>\n",
              "      <td>5</td>\n",
              "      <td>Marca Sem Roupa</td>\n",
              "    </tr>\n",
              "    <tr>\n",
              "      <th>5</th>\n",
              "      <td>6</td>\n",
              "      <td>Wow!</td>\n",
              "    </tr>\n",
              "    <tr>\n",
              "      <th>6</th>\n",
              "      <td>7</td>\n",
              "      <td>Não Posso Morrer Novo</td>\n",
              "    </tr>\n",
              "    <tr>\n",
              "      <th>7</th>\n",
              "      <td>8</td>\n",
              "      <td>Fuck Cópias</td>\n",
              "    </tr>\n",
              "    <tr>\n",
              "      <th>8</th>\n",
              "      <td>9</td>\n",
              "      <td>Passa Nada</td>\n",
              "    </tr>\n",
              "    <tr>\n",
              "      <th>9</th>\n",
              "      <td>10</td>\n",
              "      <td>Novo Rock</td>\n",
              "    </tr>\n",
              "    <tr>\n",
              "      <th>10</th>\n",
              "      <td>11</td>\n",
              "      <td>Como Tem Que Ser</td>\n",
              "    </tr>\n",
              "    <tr>\n",
              "      <th>11</th>\n",
              "      <td>12</td>\n",
              "      <td>Grife</td>\n",
              "    </tr>\n",
              "    <tr>\n",
              "      <th>12</th>\n",
              "      <td>13</td>\n",
              "      <td>Fogo No Incenso</td>\n",
              "    </tr>\n",
              "    <tr>\n",
              "      <th>13</th>\n",
              "      <td>14</td>\n",
              "      <td>Zombieland</td>\n",
              "    </tr>\n",
              "    <tr>\n",
              "      <th>14</th>\n",
              "      <td>15</td>\n",
              "      <td>Baila Comigo?</td>\n",
              "    </tr>\n",
              "  </tbody>\n",
              "</table>\n",
              "</div>"
            ],
            "text/plain": [
              "    posicao_da_faixa          nome_da_faixa\n",
              "0                  1         Vem No Tum Tum\n",
              "1                  2           Drip Know Me\n",
              "2                  3                  Match\n",
              "3                  4           Trap & Brega\n",
              "4                  5        Marca Sem Roupa\n",
              "5                  6                   Wow!\n",
              "6                  7  Não Posso Morrer Novo\n",
              "7                  8            Fuck Cópias\n",
              "8                  9             Passa Nada\n",
              "9                 10              Novo Rock\n",
              "10                11       Como Tem Que Ser\n",
              "11                12                  Grife\n",
              "12                13        Fogo No Incenso\n",
              "13                14             Zombieland\n",
              "14                15          Baila Comigo?"
            ]
          },
          "metadata": {
            "tags": []
          },
          "execution_count": 275
        }
      ]
    },
    {
      "cell_type": "markdown",
      "metadata": {
        "id": "FqRym2Oz3i12",
        "colab_type": "text"
      },
      "source": [
        "contexto... Trap from future é o album mais recente, coseguentemente ira apresentar uma popularidade maior em outras faixas."
      ]
    },
    {
      "cell_type": "code",
      "metadata": {
        "id": "Bgj7-hgd3gHX",
        "colab_type": "code",
        "colab": {
          "base_uri": "https://localhost:8080/",
          "height": 353
        },
        "outputId": "370172c7-5eb7-4e86-b1d5-345229cbf386"
      },
      "source": [
        "plt.figure(figsize=(25,6))\n",
        "ax = sns.lineplot(x='nome_da_faixa', y='popularidade', data=tff);\n",
        "ax.set_title('Popularidade das faixas', size=13);\n",
        "ax.set_xlabel('Nome da faixa', size=13);\n",
        "ax.set_ylabel('Popularidade', size=13);"
      ],
      "execution_count": 329,
      "outputs": [
        {
          "output_type": "display_data",
          "data": {
            "image/png": "[encoded data removed]",
            "text/plain": [
              "<Figure size 1800x432 with 1 Axes>"
            ]
          },
          "metadata": {
            "tags": []
          }
        }
      ]
    },
    {
      "cell_type": "markdown",
      "metadata": {
        "id": "XjEAlrKtbCYI",
        "colab_type": "text"
      },
      "source": [
        "contexto"
      ]
    },
    {
      "cell_type": "markdown",
      "metadata": {
        "colab_type": "text",
        "id": "IFTyenRszanp"
      },
      "source": [
        "### **Q3: Verificando se a popularidade das faixas tem relação com sua posição**"
      ]
    },
    {
      "cell_type": "markdown",
      "metadata": {
        "id": "7ORcuaKIeWBz",
        "colab_type": "text"
      },
      "source": [
        "contexto"
      ]
    },
    {
      "cell_type": "markdown",
      "metadata": {
        "id": "-VEGms1xeXW3",
        "colab_type": "text"
      },
      "source": [
        "**Album: Trap From Future**"
      ]
    },
    {
      "cell_type": "code",
      "metadata": {
        "colab_type": "code",
        "id": "PTLYymbXzanq",
        "colab": {
          "base_uri": "https://localhost:8080/",
          "height": 514
        },
        "outputId": "9dd73920-c4c2-4b28-d1b4-f08f5d33cd94"
      },
      "source": [
        "tff[['nome_da_faixa', 'posicao_da_faixa', 'popularidade']].sort_values(ascending=False, by='popularidade').reset_index()"
      ],
      "execution_count": 341,
      "outputs": [
        {
          "output_type": "execute_result",
          "data": {
            "text/html": [
              "<div>\n",
              "<style scoped>\n",
              "    .dataframe tbody tr th:only-of-type {\n",
              "        vertical-align: middle;\n",
              "    }\n",
              "\n",
              "    .dataframe tbody tr th {\n",
              "        vertical-align: top;\n",
              "    }\n",
              "\n",
              "    .dataframe thead th {\n",
              "        text-align: right;\n",
              "    }\n",
              "</style>\n",
              "<table border=\"1\" class=\"dataframe\">\n",
              "  <thead>\n",
              "    <tr style=\"text-align: right;\">\n",
              "      <th></th>\n",
              "      <th>index</th>\n",
              "      <th>nome_da_faixa</th>\n",
              "      <th>posicao_da_faixa</th>\n",
              "      <th>popularidade</th>\n",
              "    </tr>\n",
              "  </thead>\n",
              "  <tbody>\n",
              "    <tr>\n",
              "      <th>0</th>\n",
              "      <td>0</td>\n",
              "      <td>Vem No Tum Tum</td>\n",
              "      <td>1</td>\n",
              "      <td>16</td>\n",
              "    </tr>\n",
              "    <tr>\n",
              "      <th>1</th>\n",
              "      <td>3</td>\n",
              "      <td>Trap &amp; Brega</td>\n",
              "      <td>4</td>\n",
              "      <td>5</td>\n",
              "    </tr>\n",
              "    <tr>\n",
              "      <th>2</th>\n",
              "      <td>4</td>\n",
              "      <td>Marca Sem Roupa</td>\n",
              "      <td>5</td>\n",
              "      <td>5</td>\n",
              "    </tr>\n",
              "    <tr>\n",
              "      <th>3</th>\n",
              "      <td>12</td>\n",
              "      <td>Fogo No Incenso</td>\n",
              "      <td>13</td>\n",
              "      <td>4</td>\n",
              "    </tr>\n",
              "    <tr>\n",
              "      <th>4</th>\n",
              "      <td>2</td>\n",
              "      <td>Match</td>\n",
              "      <td>3</td>\n",
              "      <td>3</td>\n",
              "    </tr>\n",
              "    <tr>\n",
              "      <th>5</th>\n",
              "      <td>5</td>\n",
              "      <td>Wow!</td>\n",
              "      <td>6</td>\n",
              "      <td>3</td>\n",
              "    </tr>\n",
              "    <tr>\n",
              "      <th>6</th>\n",
              "      <td>8</td>\n",
              "      <td>Passa Nada</td>\n",
              "      <td>9</td>\n",
              "      <td>3</td>\n",
              "    </tr>\n",
              "    <tr>\n",
              "      <th>7</th>\n",
              "      <td>10</td>\n",
              "      <td>Como Tem Que Ser</td>\n",
              "      <td>11</td>\n",
              "      <td>3</td>\n",
              "    </tr>\n",
              "    <tr>\n",
              "      <th>8</th>\n",
              "      <td>11</td>\n",
              "      <td>Grife</td>\n",
              "      <td>12</td>\n",
              "      <td>3</td>\n",
              "    </tr>\n",
              "    <tr>\n",
              "      <th>9</th>\n",
              "      <td>1</td>\n",
              "      <td>Drip Know Me</td>\n",
              "      <td>2</td>\n",
              "      <td>2</td>\n",
              "    </tr>\n",
              "    <tr>\n",
              "      <th>10</th>\n",
              "      <td>6</td>\n",
              "      <td>Não Posso Morrer Novo</td>\n",
              "      <td>7</td>\n",
              "      <td>2</td>\n",
              "    </tr>\n",
              "    <tr>\n",
              "      <th>11</th>\n",
              "      <td>14</td>\n",
              "      <td>Baila Comigo?</td>\n",
              "      <td>15</td>\n",
              "      <td>2</td>\n",
              "    </tr>\n",
              "    <tr>\n",
              "      <th>12</th>\n",
              "      <td>7</td>\n",
              "      <td>Fuck Cópias</td>\n",
              "      <td>8</td>\n",
              "      <td>1</td>\n",
              "    </tr>\n",
              "    <tr>\n",
              "      <th>13</th>\n",
              "      <td>9</td>\n",
              "      <td>Novo Rock</td>\n",
              "      <td>10</td>\n",
              "      <td>1</td>\n",
              "    </tr>\n",
              "    <tr>\n",
              "      <th>14</th>\n",
              "      <td>13</td>\n",
              "      <td>Zombieland</td>\n",
              "      <td>14</td>\n",
              "      <td>1</td>\n",
              "    </tr>\n",
              "  </tbody>\n",
              "</table>\n",
              "</div>"
            ],
            "text/plain": [
              "    index          nome_da_faixa  posicao_da_faixa  popularidade\n",
              "0       0         Vem No Tum Tum                 1            16\n",
              "1       3           Trap & Brega                 4             5\n",
              "2       4        Marca Sem Roupa                 5             5\n",
              "3      12        Fogo No Incenso                13             4\n",
              "4       2                  Match                 3             3\n",
              "5       5                   Wow!                 6             3\n",
              "6       8             Passa Nada                 9             3\n",
              "7      10       Como Tem Que Ser                11             3\n",
              "8      11                  Grife                12             3\n",
              "9       1           Drip Know Me                 2             2\n",
              "10      6  Não Posso Morrer Novo                 7             2\n",
              "11     14          Baila Comigo?                15             2\n",
              "12      7            Fuck Cópias                 8             1\n",
              "13      9              Novo Rock                10             1\n",
              "14     13             Zombieland                14             1"
            ]
          },
          "metadata": {
            "tags": []
          },
          "execution_count": 341
        }
      ]
    },
    {
      "cell_type": "markdown",
      "metadata": {
        "id": "gpqwNRtwJIti",
        "colab_type": "text"
      },
      "source": [
        "A primeira faixa é a mais popular, mas sei que a primeira faixa é sempre a primeira a tocar numa playlist do spotify e nem sempre é a que você mais ouve, mas ela torna-se a mais ouvida por sempre que inicia a playlist ela é a primeira a tocar."
      ]
    },
    {
      "cell_type": "markdown",
      "metadata": {
        "id": "MfkShA9_JiYJ",
        "colab_type": "text"
      },
      "source": [
        "Isso também pode ser aplicado aqui, por que se a posição tivesse relação com a popularidade as outras faixas seguintes também deveriam continuar sendo as mais populosas, que não acontece.."
      ]
    },
    {
      "cell_type": "markdown",
      "metadata": {
        "colab_type": "text",
        "id": "WxNHoDNScESv"
      },
      "source": [
        "contexto, particulamente curto muito a musica Novo Rock com uma pegada diferente e faz lembrar o estilo bate cabeça"
      ]
    },
    {
      "cell_type": "code",
      "metadata": {
        "id": "3z00LFK59rlr",
        "colab_type": "code",
        "colab": {
          "base_uri": "https://localhost:8080/",
          "height": 320
        },
        "outputId": "c87840c6-e4f8-4e01-ba5c-6244ecd07d5c"
      },
      "source": [
        "dados = tff[['posicao_da_faixa','popularidade']]\n",
        "\n",
        "fig, ax = plt.subplots(figsize = (15,5))\n",
        "\n",
        "dados.plot(kind='line', marker='o', ax=ax)\n",
        "plt.show()\n",
        "\n",
        "tentar fazer um distplot"
      ],
      "execution_count": 343,
      "outputs": [
        {
          "output_type": "display_data",
          "data": {
            "image/png": "[encoded data removed]",
            "text/plain": [
              "<Figure size 1080x360 with 1 Axes>"
            ]
          },
          "metadata": {
            "tags": []
          }
        }
      ]
    },
    {
      "cell_type": "markdown",
      "metadata": {
        "id": "kca8fobKAZg7",
        "colab_type": "text"
      },
      "source": [
        "Com esse gráfico é possivel observar que a popularidade das faixas tem uma crescente da posição 1 a 4, mas depois começa a decair..."
      ]
    },
    {
      "cell_type": "markdown",
      "metadata": {
        "id": "jt8LqVxfCkYX",
        "colab_type": "text"
      },
      "source": [
        "contexto"
      ]
    },
    {
      "cell_type": "markdown",
      "metadata": {
        "id": "fnfhrZ-6-w3M",
        "colab_type": "text"
      },
      "source": [
        "**Albúm real plug mix tape**"
      ]
    },
    {
      "cell_type": "code",
      "metadata": {
        "colab_type": "code",
        "id": "fHJWKMl3zanu",
        "colab": {
          "base_uri": "https://localhost:8080/",
          "height": 297
        },
        "outputId": "ed399ae6-5ce7-4163-c051-332f8926b032"
      },
      "source": [
        "rmx[['nome_da_faixa','posicao_da_faixa', 'popularidade']].reset_index(drop=True)"
      ],
      "execution_count": 333,
      "outputs": [
        {
          "output_type": "execute_result",
          "data": {
            "text/html": [
              "<div>\n",
              "<style scoped>\n",
              "    .dataframe tbody tr th:only-of-type {\n",
              "        vertical-align: middle;\n",
              "    }\n",
              "\n",
              "    .dataframe tbody tr th {\n",
              "        vertical-align: top;\n",
              "    }\n",
              "\n",
              "    .dataframe thead th {\n",
              "        text-align: right;\n",
              "    }\n",
              "</style>\n",
              "<table border=\"1\" class=\"dataframe\">\n",
              "  <thead>\n",
              "    <tr style=\"text-align: right;\">\n",
              "      <th></th>\n",
              "      <th>nome_da_faixa</th>\n",
              "      <th>posicao_da_faixa</th>\n",
              "      <th>popularidade</th>\n",
              "    </tr>\n",
              "  </thead>\n",
              "  <tbody>\n",
              "    <tr>\n",
              "      <th>0</th>\n",
              "      <td>The Train</td>\n",
              "      <td>1</td>\n",
              "      <td>0</td>\n",
              "    </tr>\n",
              "    <tr>\n",
              "      <th>1</th>\n",
              "      <td>Fica Bem</td>\n",
              "      <td>2</td>\n",
              "      <td>0</td>\n",
              "    </tr>\n",
              "    <tr>\n",
              "      <th>2</th>\n",
              "      <td>Gospel</td>\n",
              "      <td>3</td>\n",
              "      <td>0</td>\n",
              "    </tr>\n",
              "    <tr>\n",
              "      <th>3</th>\n",
              "      <td>Nxanx</td>\n",
              "      <td>4</td>\n",
              "      <td>0</td>\n",
              "    </tr>\n",
              "    <tr>\n",
              "      <th>4</th>\n",
              "      <td>Tudo</td>\n",
              "      <td>5</td>\n",
              "      <td>0</td>\n",
              "    </tr>\n",
              "    <tr>\n",
              "      <th>5</th>\n",
              "      <td>A Lei</td>\n",
              "      <td>6</td>\n",
              "      <td>0</td>\n",
              "    </tr>\n",
              "    <tr>\n",
              "      <th>6</th>\n",
              "      <td>Dreams Cup</td>\n",
              "      <td>7</td>\n",
              "      <td>0</td>\n",
              "    </tr>\n",
              "    <tr>\n",
              "      <th>7</th>\n",
              "      <td>2020</td>\n",
              "      <td>8</td>\n",
              "      <td>4</td>\n",
              "    </tr>\n",
              "  </tbody>\n",
              "</table>\n",
              "</div>"
            ],
            "text/plain": [
              "  nome_da_faixa  posicao_da_faixa  popularidade\n",
              "0     The Train                 1             0\n",
              "1      Fica Bem                 2             0\n",
              "2        Gospel                 3             0\n",
              "3         Nxanx                 4             0\n",
              "4          Tudo                 5             0\n",
              "5         A Lei                 6             0\n",
              "6    Dreams Cup                 7             0\n",
              "7          2020                 8             4"
            ]
          },
          "metadata": {
            "tags": []
          },
          "execution_count": 333
        }
      ]
    },
    {
      "cell_type": "markdown",
      "metadata": {
        "id": "4z4TxyGQbZ2_",
        "colab_type": "text"
      },
      "source": [
        "Como dito anteriormente é possivel observar que a faixa 2020 é de fato um sucesso, por que se analisarmos as musicas que estão na ultima posição de cada album, em sua maioria são as menos ouvidas."
      ]
    },
    {
      "cell_type": "markdown",
      "metadata": {
        "id": "UnI2poN055zE",
        "colab_type": "text"
      },
      "source": [
        "É incrivel como 2020 ainda possui um alcance grande, mesmo que a popularidade esteja pequena, é uma musica que está a frente de grandes faixas do recente album lançado, tff, como a faixa Wow."
      ]
    },
    {
      "cell_type": "markdown",
      "metadata": {
        "id": "SqxqMFVZ-3mB",
        "colab_type": "text"
      },
      "source": [
        "**Albúm trap de cria**"
      ]
    },
    {
      "cell_type": "code",
      "metadata": {
        "colab_type": "code",
        "id": "s9d19YcCzany",
        "colab": {
          "base_uri": "https://localhost:8080/",
          "height": 359
        },
        "outputId": "d632868a-cf22-4afe-c481-0632ef2bcaca"
      },
      "source": [
        "tcm[['nome_da_faixa','posicao_da_faixa', 'popularidade']].reset_index(drop=True)"
      ],
      "execution_count": 334,
      "outputs": [
        {
          "output_type": "execute_result",
          "data": {
            "text/html": [
              "<div>\n",
              "<style scoped>\n",
              "    .dataframe tbody tr th:only-of-type {\n",
              "        vertical-align: middle;\n",
              "    }\n",
              "\n",
              "    .dataframe tbody tr th {\n",
              "        vertical-align: top;\n",
              "    }\n",
              "\n",
              "    .dataframe thead th {\n",
              "        text-align: right;\n",
              "    }\n",
              "</style>\n",
              "<table border=\"1\" class=\"dataframe\">\n",
              "  <thead>\n",
              "    <tr style=\"text-align: right;\">\n",
              "      <th></th>\n",
              "      <th>nome_da_faixa</th>\n",
              "      <th>posicao_da_faixa</th>\n",
              "      <th>popularidade</th>\n",
              "    </tr>\n",
              "  </thead>\n",
              "  <tbody>\n",
              "    <tr>\n",
              "      <th>0</th>\n",
              "      <td>Trap de Cria</td>\n",
              "      <td>1</td>\n",
              "      <td>9</td>\n",
              "    </tr>\n",
              "    <tr>\n",
              "      <th>1</th>\n",
              "      <td>A Lista das Bandidas</td>\n",
              "      <td>2</td>\n",
              "      <td>2</td>\n",
              "    </tr>\n",
              "    <tr>\n",
              "      <th>2</th>\n",
              "      <td>A3</td>\n",
              "      <td>3</td>\n",
              "      <td>0</td>\n",
              "    </tr>\n",
              "    <tr>\n",
              "      <th>3</th>\n",
              "      <td>E Ai Fake</td>\n",
              "      <td>4</td>\n",
              "      <td>1</td>\n",
              "    </tr>\n",
              "    <tr>\n",
              "      <th>4</th>\n",
              "      <td>Video Call</td>\n",
              "      <td>5</td>\n",
              "      <td>1</td>\n",
              "    </tr>\n",
              "    <tr>\n",
              "      <th>5</th>\n",
              "      <td>Aliviando o Stress</td>\n",
              "      <td>6</td>\n",
              "      <td>0</td>\n",
              "    </tr>\n",
              "    <tr>\n",
              "      <th>6</th>\n",
              "      <td>Hino dos Irmãos</td>\n",
              "      <td>7</td>\n",
              "      <td>1</td>\n",
              "    </tr>\n",
              "    <tr>\n",
              "      <th>7</th>\n",
              "      <td>Bebê da Cara de Mal</td>\n",
              "      <td>8</td>\n",
              "      <td>1</td>\n",
              "    </tr>\n",
              "    <tr>\n",
              "      <th>8</th>\n",
              "      <td>Isso Que É Foda</td>\n",
              "      <td>9</td>\n",
              "      <td>3</td>\n",
              "    </tr>\n",
              "    <tr>\n",
              "      <th>9</th>\n",
              "      <td>Pjl</td>\n",
              "      <td>10</td>\n",
              "      <td>0</td>\n",
              "    </tr>\n",
              "  </tbody>\n",
              "</table>\n",
              "</div>"
            ],
            "text/plain": [
              "          nome_da_faixa  posicao_da_faixa  popularidade\n",
              "0          Trap de Cria                 1             9\n",
              "1  A Lista das Bandidas                 2             2\n",
              "2                    A3                 3             0\n",
              "3             E Ai Fake                 4             1\n",
              "4            Video Call                 5             1\n",
              "5    Aliviando o Stress                 6             0\n",
              "6       Hino dos Irmãos                 7             1\n",
              "7   Bebê da Cara de Mal                 8             1\n",
              "8       Isso Que É Foda                 9             3\n",
              "9                   Pjl                10             0"
            ]
          },
          "metadata": {
            "tags": []
          },
          "execution_count": 334
        }
      ]
    },
    {
      "cell_type": "markdown",
      "metadata": {
        "id": "AGiNbIQHbuyl",
        "colab_type": "text"
      },
      "source": [
        "Assim como no album TFF, a musica mais popular deste album é a que está na primeira posição, vale resaltar que a musica Trap de cria é a musica mais popular de todos os albuns, como foi visto anteriormente."
      ]
    },
    {
      "cell_type": "markdown",
      "metadata": {
        "id": "RCCJ9Lbw6kpu",
        "colab_type": "text"
      },
      "source": [
        "contexto... O que fica claro é que a popularidade das faixas só tem relação com a posição para a primeira música de cada albúm, devido ao que foi explicado..."
      ]
    },
    {
      "cell_type": "markdown",
      "metadata": {
        "id": "vLnoTPlPszpz",
        "colab_type": "text"
      },
      "source": [
        "Ainda podemos fazer uma correlção da popularidade com a posição das faixas para comprovar se realmente a posição da faixa não tem relação com a popularidade. Aplicando o metodo de correlação de estatistica multivariada."
      ]
    },
    {
      "cell_type": "code",
      "metadata": {
        "colab_type": "code",
        "id": "DgUnLdcCs-qx",
        "colab": {
          "base_uri": "https://localhost:8080/",
          "height": 111
        },
        "outputId": "a28165e5-9983-4782-9ee1-fa4bd41797d9"
      },
      "source": [
        "df[['posicao_da_faixa', 'popularidade']].corr(method='spearman')"
      ],
      "execution_count": 313,
      "outputs": [
        {
          "output_type": "execute_result",
          "data": {
            "text/html": [
              "<div>\n",
              "<style scoped>\n",
              "    .dataframe tbody tr th:only-of-type {\n",
              "        vertical-align: middle;\n",
              "    }\n",
              "\n",
              "    .dataframe tbody tr th {\n",
              "        vertical-align: top;\n",
              "    }\n",
              "\n",
              "    .dataframe thead th {\n",
              "        text-align: right;\n",
              "    }\n",
              "</style>\n",
              "<table border=\"1\" class=\"dataframe\">\n",
              "  <thead>\n",
              "    <tr style=\"text-align: right;\">\n",
              "      <th></th>\n",
              "      <th>posicao_da_faixa</th>\n",
              "      <th>popularidade</th>\n",
              "    </tr>\n",
              "  </thead>\n",
              "  <tbody>\n",
              "    <tr>\n",
              "      <th>posicao_da_faixa</th>\n",
              "      <td>1.000000</td>\n",
              "      <td>0.085651</td>\n",
              "    </tr>\n",
              "    <tr>\n",
              "      <th>popularidade</th>\n",
              "      <td>0.085651</td>\n",
              "      <td>1.000000</td>\n",
              "    </tr>\n",
              "  </tbody>\n",
              "</table>\n",
              "</div>"
            ],
            "text/plain": [
              "                  posicao_da_faixa  popularidade\n",
              "posicao_da_faixa          1.000000      0.085651\n",
              "popularidade              0.085651      1.000000"
            ]
          },
          "metadata": {
            "tags": []
          },
          "execution_count": 313
        }
      ]
    },
    {
      "cell_type": "markdown",
      "metadata": {
        "id": "kHyAJGqVij9U",
        "colab_type": "text"
      },
      "source": [
        "Contexto sobre os metodos de correlação/correlação e estatistica multivariada.."
      ]
    },
    {
      "cell_type": "markdown",
      "metadata": {
        "id": "8acUvbu9NgJ6",
        "colab_type": "text"
      },
      "source": [
        "Usamos o metodo spearman de correlação, um dos mais  famosos.... "
      ]
    },
    {
      "cell_type": "markdown",
      "metadata": {
        "id": "vJ-ki96stAFs",
        "colab_type": "text"
      },
      "source": [
        "Nota-se que existe uma correlação muito fraca da posição da faixa com a popularidade"
      ]
    },
    {
      "cell_type": "markdown",
      "metadata": {
        "id": "br3tkVgo7BbY",
        "colab_type": "text"
      },
      "source": [
        "**Será que a duração da musica tem relação com a popularidade?**"
      ]
    },
    {
      "cell_type": "code",
      "metadata": {
        "id": "WtGa317b7IKz",
        "colab_type": "code",
        "colab": {
          "base_uri": "https://localhost:8080/",
          "height": 111
        },
        "outputId": "c06b979e-44cc-47d5-df6c-88c1472a6859"
      },
      "source": [
        "df[['duraçao_da_musica', 'popularidade']].corr(method='spearman')"
      ],
      "execution_count": 314,
      "outputs": [
        {
          "output_type": "execute_result",
          "data": {
            "text/html": [
              "<div>\n",
              "<style scoped>\n",
              "    .dataframe tbody tr th:only-of-type {\n",
              "        vertical-align: middle;\n",
              "    }\n",
              "\n",
              "    .dataframe tbody tr th {\n",
              "        vertical-align: top;\n",
              "    }\n",
              "\n",
              "    .dataframe thead th {\n",
              "        text-align: right;\n",
              "    }\n",
              "</style>\n",
              "<table border=\"1\" class=\"dataframe\">\n",
              "  <thead>\n",
              "    <tr style=\"text-align: right;\">\n",
              "      <th></th>\n",
              "      <th>duraçao_da_musica</th>\n",
              "      <th>popularidade</th>\n",
              "    </tr>\n",
              "  </thead>\n",
              "  <tbody>\n",
              "    <tr>\n",
              "      <th>duraçao_da_musica</th>\n",
              "      <td>1.000000</td>\n",
              "      <td>0.168249</td>\n",
              "    </tr>\n",
              "    <tr>\n",
              "      <th>popularidade</th>\n",
              "      <td>0.168249</td>\n",
              "      <td>1.000000</td>\n",
              "    </tr>\n",
              "  </tbody>\n",
              "</table>\n",
              "</div>"
            ],
            "text/plain": [
              "                   duraçao_da_musica  popularidade\n",
              "duraçao_da_musica           1.000000      0.168249\n",
              "popularidade                0.168249      1.000000"
            ]
          },
          "metadata": {
            "tags": []
          },
          "execution_count": 314
        }
      ]
    },
    {
      "cell_type": "markdown",
      "metadata": {
        "id": "W4b3EH0c7d73",
        "colab_type": "text"
      },
      "source": [
        "Vamos testar com outro metodo de correlação...."
      ]
    },
    {
      "cell_type": "code",
      "metadata": {
        "id": "LNnX1n1i7h4k",
        "colab_type": "code",
        "colab": {
          "base_uri": "https://localhost:8080/",
          "height": 111
        },
        "outputId": "82a7d8ea-7be9-4dd2-ba79-0a45a635bb02"
      },
      "source": [
        "df[['duraçao_da_musica', 'popularidade']].corr()"
      ],
      "execution_count": 315,
      "outputs": [
        {
          "output_type": "execute_result",
          "data": {
            "text/html": [
              "<div>\n",
              "<style scoped>\n",
              "    .dataframe tbody tr th:only-of-type {\n",
              "        vertical-align: middle;\n",
              "    }\n",
              "\n",
              "    .dataframe tbody tr th {\n",
              "        vertical-align: top;\n",
              "    }\n",
              "\n",
              "    .dataframe thead th {\n",
              "        text-align: right;\n",
              "    }\n",
              "</style>\n",
              "<table border=\"1\" class=\"dataframe\">\n",
              "  <thead>\n",
              "    <tr style=\"text-align: right;\">\n",
              "      <th></th>\n",
              "      <th>duraçao_da_musica</th>\n",
              "      <th>popularidade</th>\n",
              "    </tr>\n",
              "  </thead>\n",
              "  <tbody>\n",
              "    <tr>\n",
              "      <th>duraçao_da_musica</th>\n",
              "      <td>1.000000</td>\n",
              "      <td>0.252967</td>\n",
              "    </tr>\n",
              "    <tr>\n",
              "      <th>popularidade</th>\n",
              "      <td>0.252967</td>\n",
              "      <td>1.000000</td>\n",
              "    </tr>\n",
              "  </tbody>\n",
              "</table>\n",
              "</div>"
            ],
            "text/plain": [
              "                   duraçao_da_musica  popularidade\n",
              "duraçao_da_musica           1.000000      0.252967\n",
              "popularidade                0.252967      1.000000"
            ]
          },
          "metadata": {
            "tags": []
          },
          "execution_count": 315
        }
      ]
    },
    {
      "cell_type": "markdown",
      "metadata": {
        "id": "fukFfRJB7S_R",
        "colab_type": "text"
      },
      "source": [
        "contexto"
      ]
    },
    {
      "cell_type": "code",
      "metadata": {
        "id": "uT911REo7my0",
        "colab_type": "code",
        "colab": {
          "base_uri": "https://localhost:8080/",
          "height": 165
        },
        "outputId": "dcfa5505-6d16-476c-8e4e-9c742192f2c2"
      },
      "source": [
        "sns.distplot(x='duraçao_da_musica', y='popularidade', data=df)"
      ],
      "execution_count": 319,
      "outputs": [
        {
          "output_type": "error",
          "ename": "TypeError",
          "evalue": "ignored",
          "traceback": [
            "\u001b[0;31m---------------------------------------------------------------------------\u001b[0m",
            "\u001b[0;31mTypeError\u001b[0m                                 Traceback (most recent call last)",
            "\u001b[0;32m<ipython-input-319-f69283a60c3f>\u001b[0m in \u001b[0;36m<module>\u001b[0;34m()\u001b[0m\n\u001b[0;32m----> 1\u001b[0;31m \u001b[0msns\u001b[0m\u001b[0;34m.\u001b[0m\u001b[0mdistplot\u001b[0m\u001b[0;34m(\u001b[0m\u001b[0mx\u001b[0m\u001b[0;34m=\u001b[0m\u001b[0;34m'duraçao_da_musica'\u001b[0m\u001b[0;34m,\u001b[0m \u001b[0my\u001b[0m\u001b[0;34m=\u001b[0m\u001b[0;34m'popularidade'\u001b[0m\u001b[0;34m,\u001b[0m \u001b[0mdata\u001b[0m\u001b[0;34m=\u001b[0m\u001b[0mdf\u001b[0m\u001b[0;34m)\u001b[0m\u001b[0;34m\u001b[0m\u001b[0;34m\u001b[0m\u001b[0m\n\u001b[0m",
            "\u001b[0;31mTypeError\u001b[0m: distplot() got an unexpected keyword argument 'x'"
          ]
        }
      ]
    },
    {
      "cell_type": "markdown",
      "metadata": {
        "id": "jMd-sXZO4DdM",
        "colab_type": "text"
      },
      "source": [
        "### **Q5: Qual a classificação da popularidade?**"
      ]
    },
    {
      "cell_type": "markdown",
      "metadata": {
        "id": "EDmpCSGVNuiS",
        "colab_type": "text"
      },
      "source": [
        "Agora vou investigar mais essa coluna da popularidade para buscar algumas informações aplicando metodos estatisticos."
      ]
    },
    {
      "cell_type": "markdown",
      "metadata": {
        "id": "ttJNmsidN7rf",
        "colab_type": "text"
      },
      "source": [
        "Primeiro vamos observar um resumo estatistico dos dados..."
      ]
    },
    {
      "cell_type": "code",
      "metadata": {
        "id": "snKFJ6zSfA9f",
        "colab_type": "code",
        "colab": {}
      },
      "source": [
        "df['popularidade'].describe()"
      ],
      "execution_count": null,
      "outputs": []
    },
    {
      "cell_type": "markdown",
      "metadata": {
        "id": "xHevi9HAi4Te",
        "colab_type": "text"
      },
      "source": [
        "contexto... A popularidade mais alta é 17 e a menor é 0 ...."
      ]
    },
    {
      "cell_type": "markdown",
      "metadata": {
        "id": "V9kN7wBlONc8",
        "colab_type": "text"
      },
      "source": [
        "Agora irei aplicar estatistica descritiva univariada para explorar mais a coluna popularidade..."
      ]
    },
    {
      "cell_type": "markdown",
      "metadata": {
        "id": "ZCU8FSrjOFNk",
        "colab_type": "text"
      },
      "source": [
        "### **Aplicando estatistica descritiva univariada**"
      ]
    },
    {
      "cell_type": "markdown",
      "metadata": {
        "id": "cJPGRw9MbTbf",
        "colab_type": "text"
      },
      "source": [
        "contexto... Sobre estatistica descritiva univariada"
      ]
    },
    {
      "cell_type": "markdown",
      "metadata": {
        "id": "T_5itYEqgW-D",
        "colab_type": "text"
      },
      "source": [
        "### **Q6: Qual a media de popularidade?**"
      ]
    },
    {
      "cell_type": "markdown",
      "metadata": {
        "id": "KO6yH_BKjQ1o",
        "colab_type": "text"
      },
      "source": [
        "contexto.. Media de todos os albuns"
      ]
    },
    {
      "cell_type": "markdown",
      "metadata": {
        "id": "OtEzk1hGOZ53",
        "colab_type": "text"
      },
      "source": [
        "Contexto falar um pouco sobre a media...O calculo da média é feito de forma que... FOTO DA FUNÇÃO"
      ]
    },
    {
      "cell_type": "code",
      "metadata": {
        "id": "4Yk4Lg9PAG1z",
        "colab_type": "code",
        "colab": {}
      },
      "source": [
        "df['popularidade'].mean()"
      ],
      "execution_count": null,
      "outputs": []
    },
    {
      "cell_type": "markdown",
      "metadata": {
        "id": "6QTQggHgjUKu",
        "colab_type": "text"
      },
      "source": [
        "contexto"
      ]
    },
    {
      "cell_type": "markdown",
      "metadata": {
        "id": "wmved-zVOxYo",
        "colab_type": "text"
      },
      "source": [
        "### **Q7: Qual a média da popularidade por albúm?**"
      ]
    },
    {
      "cell_type": "code",
      "metadata": {
        "id": "BVSHf8Ayge-c",
        "colab_type": "code",
        "colab": {}
      },
      "source": [
        "media_popularidade = df.groupby('nome_do_album')['popularidade'].mean().reset_index().sort_values(ascending=False, by='popularidade')\n",
        "media_popularidade "
      ],
      "execution_count": null,
      "outputs": []
    },
    {
      "cell_type": "markdown",
      "metadata": {
        "id": "VFgZRTZQk14N",
        "colab_type": "text"
      },
      "source": [
        "contexto... Album TFF com popularidade acima da media, isso se da devido que é o album mais recente..."
      ]
    },
    {
      "cell_type": "markdown",
      "metadata": {
        "id": "mPf1-O1BPB6l",
        "colab_type": "text"
      },
      "source": [
        "Agora irei aplicar um pouco de engenharia de recursos e criar uma nova coluna de acordo com a popularidade..."
      ]
    },
    {
      "cell_type": "markdown",
      "metadata": {
        "id": "AC37_D0Aklku",
        "colab_type": "text"
      },
      "source": [
        "### **Construindo uma nova coluna de acordo com a media da popularidade**"
      ]
    },
    {
      "cell_type": "markdown",
      "metadata": {
        "id": "Nr_mKXIYUJYw",
        "colab_type": "text"
      },
      "source": [
        "É importante construir novas colunas ou novos recursos, por criar outras maneiras de utilizar os dados.... Contexto (Engenharia de Recursos)"
      ]
    },
    {
      "cell_type": "code",
      "metadata": {
        "id": "QvZWMGY5jb7B",
        "colab_type": "code",
        "colab": {}
      },
      "source": [
        "df['popularidade_por_faixa'] = ['Alta' if x > 2.60 else 'Baixo' for x in df['popularidade']]"
      ],
      "execution_count": null,
      "outputs": []
    },
    {
      "cell_type": "markdown",
      "metadata": {
        "id": "wEsVF002MrEH",
        "colab_type": "text"
      },
      "source": [
        "Se a faixa estiver com uma popularidade acima de 2.60, está com a popularidade alta, tendo em vista que a media da popularidade é 2.60."
      ]
    },
    {
      "cell_type": "markdown",
      "metadata": {
        "id": "CHq1twc2cMUX",
        "colab_type": "text"
      },
      "source": [
        "Lembrar de alterar isso de acordo com a media atual...."
      ]
    },
    {
      "cell_type": "code",
      "metadata": {
        "id": "RenmRqPLkL0z",
        "colab_type": "code",
        "colab": {}
      },
      "source": [
        "df.head()"
      ],
      "execution_count": null,
      "outputs": []
    },
    {
      "cell_type": "markdown",
      "metadata": {
        "id": "y-8O_kNgPqAw",
        "colab_type": "text"
      },
      "source": [
        "A partir da construção dessa nova coluna podemos trabalhar e usar mais os nossos dados, que é o objetivo da engenharia de recursos, de forma que a partir dessa nova coluna surgem mais perguntas."
      ]
    },
    {
      "cell_type": "markdown",
      "metadata": {
        "id": "WK2_Lxl5QPAD",
        "colab_type": "text"
      },
      "source": [
        "Por isso é sempre bom começar com perguntas simples e ir aumentando suas complexidades conforme vai conhecendo e explorandos os dados..."
      ]
    },
    {
      "cell_type": "markdown",
      "metadata": {
        "id": "EfpaMQwDlRE1",
        "colab_type": "text"
      },
      "source": [
        "### **Q8: Quantas faixas estão em alta?**"
      ]
    },
    {
      "cell_type": "code",
      "metadata": {
        "id": "Ym-5PVfckNF8",
        "colab_type": "code",
        "colab": {}
      },
      "source": [
        "df['popularidade_por_faixa'].value_counts()"
      ],
      "execution_count": null,
      "outputs": []
    },
    {
      "cell_type": "markdown",
      "metadata": {
        "id": "C5aS9GthcXaj",
        "colab_type": "text"
      },
      "source": [
        "contexto"
      ]
    },
    {
      "cell_type": "markdown",
      "metadata": {
        "id": "urm17_2xlYlx",
        "colab_type": "text"
      },
      "source": [
        "### **Q9: Quais são as faixas que estão popular no momento?**"
      ]
    },
    {
      "cell_type": "code",
      "metadata": {
        "id": "mGI6J9PBlM_K",
        "colab_type": "code",
        "colab": {}
      },
      "source": [
        "df.query(\"popularidade_por_faixa == 'Alta'\").sort_values(ascending=False, by='popularidade').reset_index()[['nome_do_album', 'nome_da_faixa', 'popularidade', 'popularidade_por_faixa']]"
      ],
      "execution_count": null,
      "outputs": []
    },
    {
      "cell_type": "markdown",
      "metadata": {
        "id": "U_sac3MDo2tH",
        "colab_type": "text"
      },
      "source": [
        "contexto"
      ]
    },
    {
      "cell_type": "markdown",
      "metadata": {
        "id": "D0Lb0UONQuAM",
        "colab_type": "text"
      },
      "source": [
        "### **Q10: Quantas faixas que estão em alta não estão na primeira posição do albúm?**"
      ]
    },
    {
      "cell_type": "markdown",
      "metadata": {
        "id": "tJR9Wgn7RDx6",
        "colab_type": "text"
      },
      "source": [
        "contexto"
      ]
    },
    {
      "cell_type": "code",
      "metadata": {
        "id": "R0qp39KDRFK-",
        "colab_type": "code",
        "colab": {}
      },
      "source": [
        "df.query(\"popularidade_por_faixa == 'Alta' & posicao_da_faixa != '1' \").sort_values(ascending=False, by='popularidade').reset_index()[['nome_do_album', 'nome_da_faixa', 'posicao_da_faixa', 'popularidade', 'popularidade_por_faixa']]"
      ],
      "execution_count": null,
      "outputs": []
    },
    {
      "cell_type": "markdown",
      "metadata": {
        "id": "oqL9X8vwRfBF",
        "colab_type": "text"
      },
      "source": [
        "Ou seja mais da metade das faixas que estão em alta não estão na primeira posição do albúm... Comprovando o que observamos que a posicao da faixa não tem relação com a popularidade..."
      ]
    },
    {
      "cell_type": "markdown",
      "metadata": {
        "id": "RLwOu9nAos6-",
        "colab_type": "text"
      },
      "source": [
        "### **Aplicando um pouco mais de estatistica descritiva univariada**"
      ]
    },
    {
      "cell_type": "markdown",
      "metadata": {
        "id": "s9jDRnA6oz1l",
        "colab_type": "text"
      },
      "source": [
        "contexto... Já aplicamos um pouco de estatistica descritiva univariada quando visualizamos a média da popularidade das faixas, agora vamos aplicar outros metodos estatisticos..."
      ]
    },
    {
      "cell_type": "markdown",
      "metadata": {
        "id": "hlGc_VpuqeZt",
        "colab_type": "text"
      },
      "source": [
        "**contruir um grafico para cada metodo estatistico de acordo com os estudos**"
      ]
    },
    {
      "cell_type": "markdown",
      "metadata": {
        "id": "wrNRnLhzqlH3",
        "colab_type": "text"
      },
      "source": [
        "contexto"
      ]
    },
    {
      "cell_type": "markdown",
      "metadata": {
        "id": "29UmX_TYqmZa",
        "colab_type": "text"
      },
      "source": [
        "**Mediana**"
      ]
    },
    {
      "cell_type": "markdown",
      "metadata": {
        "id": "tc-91h4Sqqfs",
        "colab_type": "text"
      },
      "source": [
        "contexto sobre mediana"
      ]
    },
    {
      "cell_type": "code",
      "metadata": {
        "id": "5ejSwV9eqpMj",
        "colab_type": "code",
        "colab": {}
      },
      "source": [
        "df.median()"
      ],
      "execution_count": null,
      "outputs": []
    },
    {
      "cell_type": "markdown",
      "metadata": {
        "id": "rn2tDmOVqsL3",
        "colab_type": "text"
      },
      "source": [
        "**Moda**"
      ]
    },
    {
      "cell_type": "markdown",
      "metadata": {
        "id": "kDD4OGiwquFe",
        "colab_type": "text"
      },
      "source": [
        "contexto sobre mode"
      ]
    },
    {
      "cell_type": "code",
      "metadata": {
        "id": "oaHkmzLiqv7A",
        "colab_type": "code",
        "colab": {}
      },
      "source": [
        "df.mode()"
      ],
      "execution_count": null,
      "outputs": []
    },
    {
      "cell_type": "markdown",
      "metadata": {
        "id": "j4UtIUbgpBPQ",
        "colab_type": "text"
      },
      "source": [
        "**Desvio padrão**"
      ]
    },
    {
      "cell_type": "markdown",
      "metadata": {
        "id": "yMOiRxVapOia",
        "colab_type": "text"
      },
      "source": [
        "contexto sobre desvio padrao"
      ]
    },
    {
      "cell_type": "code",
      "metadata": {
        "id": "_w0PxUYJpCjO",
        "colab_type": "code",
        "colab": {}
      },
      "source": [
        "#desvio padrao\n",
        "df.std()"
      ],
      "execution_count": null,
      "outputs": []
    },
    {
      "cell_type": "markdown",
      "metadata": {
        "id": "rkCJeszCqXJW",
        "colab_type": "text"
      },
      "source": [
        "**Box plot**"
      ]
    },
    {
      "cell_type": "markdown",
      "metadata": {
        "id": "kspDbcqzpikl",
        "colab_type": "text"
      },
      "source": [
        "contexto sobre box plot...."
      ]
    },
    {
      "cell_type": "code",
      "metadata": {
        "id": "H15XiSULpP5J",
        "colab_type": "code",
        "colab": {}
      },
      "source": [
        "#box plot\n",
        "\n",
        "sns.boxplot(y='nome_da_faixa', x='popularidade', data=tff)"
      ],
      "execution_count": null,
      "outputs": []
    },
    {
      "cell_type": "markdown",
      "metadata": {
        "id": "JhOr48Z8qHoX",
        "colab_type": "text"
      },
      "source": [
        "**Assimetria**"
      ]
    },
    {
      "cell_type": "markdown",
      "metadata": {
        "id": "xKF7bgCcpzie",
        "colab_type": "text"
      },
      "source": [
        "contexto sobre assimetria..."
      ]
    },
    {
      "cell_type": "code",
      "metadata": {
        "id": "2OEq9fndpmzE",
        "colab_type": "code",
        "colab": {}
      },
      "source": [
        "#Assimetria\n",
        "\n",
        "df.skew()"
      ],
      "execution_count": null,
      "outputs": []
    },
    {
      "cell_type": "markdown",
      "metadata": {
        "id": "XEg8veUGqKrV",
        "colab_type": "text"
      },
      "source": [
        "**Kurtossis**"
      ]
    },
    {
      "cell_type": "markdown",
      "metadata": {
        "id": "X6YVOMpyp40k",
        "colab_type": "text"
      },
      "source": [
        "contexto sobre kurtose..."
      ]
    },
    {
      "cell_type": "code",
      "metadata": {
        "id": "7Axxk-Qrp1h0",
        "colab_type": "code",
        "colab": {}
      },
      "source": [
        "#Kurtose\n",
        "df.kurt()"
      ],
      "execution_count": null,
      "outputs": []
    },
    {
      "cell_type": "markdown",
      "metadata": {
        "id": "4Jv-JVLynVXG",
        "colab_type": "text"
      },
      "source": [
        "A exploração dos dados deve chegar ao fim quando o pessoal da área de negocios se sentirem satisfeitos ou quando os objetivos das informações retiradas dos dados forem alcançados....."
      ]
    },
    {
      "cell_type": "markdown",
      "metadata": {
        "id": "YfSoyJj2Shx1",
        "colab_type": "text"
      },
      "source": [
        "### **Perguntas e hipoteses respondidas na analise exploratoria de dados:**"
      ]
    },
    {
      "cell_type": "markdown",
      "metadata": {
        "id": "fI6PSveOSrvx",
        "colab_type": "text"
      },
      "source": [
        "* Q1 = \n",
        "* Q2 = \n",
        "* Q3 = "
      ]
    },
    {
      "cell_type": "markdown",
      "metadata": {
        "id": "6p9ZwX1JL8Mp",
        "colab_type": "text"
      },
      "source": [
        "## **Visualizando os dados**"
      ]
    },
    {
      "cell_type": "markdown",
      "metadata": {
        "id": "H3SN9FtQT3BS",
        "colab_type": "text"
      },
      "source": [
        "# Ver se coloco a visualizacao de dados dentro da exploracao ; ver como é encaixada em outros projetos do carlos melo"
      ]
    },
    {
      "cell_type": "markdown",
      "metadata": {
        "id": "Fqn9WZ569esa",
        "colab_type": "text"
      },
      "source": [
        "INVESTIR TEMPO NA VISUALIZAÇÃO DE DADOS, TANTO PRA APRENDER COMO PRA DEIXAR BONITO"
      ]
    },
    {
      "cell_type": "markdown",
      "metadata": {
        "id": "QjSJbgVbTsFA",
        "colab_type": "text"
      },
      "source": [
        "contexto"
      ]
    },
    {
      "cell_type": "code",
      "metadata": {
        "id": "24jSQubHL_Ou",
        "colab_type": "code",
        "colab": {}
      },
      "source": [
        "import seaborn as sns"
      ],
      "execution_count": null,
      "outputs": []
    },
    {
      "cell_type": "code",
      "metadata": {
        "id": "0f33gkqRP5zL",
        "colab_type": "code",
        "colab": {}
      },
      "source": [
        "sns.set_style('whitegrid')"
      ],
      "execution_count": null,
      "outputs": []
    },
    {
      "cell_type": "markdown",
      "metadata": {
        "id": "hu78pvX2RVaW",
        "colab_type": "text"
      },
      "source": [
        "### **Grafico musica mais popular**"
      ]
    },
    {
      "cell_type": "code",
      "metadata": {
        "colab_type": "code",
        "id": "tbDiKaSZQJD8",
        "colab": {}
      },
      "source": [
        "musica_mais_popular = df[['nome_da_faixa', 'popularidade']].sort_values(ascending=False, by='popularidade').reset_index(drop=True)[:10]"
      ],
      "execution_count": null,
      "outputs": []
    },
    {
      "cell_type": "code",
      "metadata": {
        "id": "Bxt4bSLFQNye",
        "colab_type": "code",
        "colab": {}
      },
      "source": [
        "plt.figure(figsize=(15,6))\n",
        "ax = sns.barplot(x='nome_da_faixa', y ='popularidade', data=musica_mais_popular)\n",
        "ax.set_xticklabels(ax.get_xticklabels(), rotation=45)\n",
        "ax.set_title('10 musicas mais populares dos albumns')"
      ],
      "execution_count": null,
      "outputs": []
    },
    {
      "cell_type": "markdown",
      "metadata": {
        "id": "-pghwtTeVHeh",
        "colab_type": "text"
      },
      "source": [
        "### **Distribuição da popularidade das musicas de acordo com suas posições**"
      ]
    },
    {
      "cell_type": "code",
      "metadata": {
        "colab_type": "code",
        "id": "FUViPA9aUUVM",
        "colab": {}
      },
      "source": [
        "dados = df.query('popularidade >= 2').sort_values(ascending=False, by='popularidade').reset_index()[['nome_do_album','posicao_da_faixa', 'nome_da_faixa', 'popularidade', 'popularidade_por_faixa']]"
      ],
      "execution_count": null,
      "outputs": []
    },
    {
      "cell_type": "markdown",
      "metadata": {
        "id": "xSnsxcjZXFES",
        "colab_type": "text"
      },
      "source": [
        "Musicas com popularidade acima de 2, tendo em vista que a media da popularidade é 2"
      ]
    },
    {
      "cell_type": "code",
      "metadata": {
        "id": "e5qArgpjUXtX",
        "colab_type": "code",
        "colab": {}
      },
      "source": [
        "plt.figure(figsize=(10,6))\n",
        "sns.scatterplot(x='posicao_da_faixa', y = 'popularidade', hue= 'nome_da_faixa', data=dados)"
      ],
      "execution_count": null,
      "outputs": []
    },
    {
      "cell_type": "markdown",
      "metadata": {
        "id": "uFAeUPK1z32m",
        "colab_type": "text"
      },
      "source": [
        "## **Deploy com Python, streamlit +heroku**"
      ]
    },
    {
      "cell_type": "markdown",
      "metadata": {
        "id": "Q8fpHASd1AyJ",
        "colab_type": "text"
      },
      "source": [
        "### **Aplicação com streamlit**"
      ]
    },
    {
      "cell_type": "markdown",
      "metadata": {
        "id": "5H06Jd4K2xog",
        "colab_type": "text"
      },
      "source": [
        "Explicar streamlit, framework do python excelente para construir dashboard de visualização de dados...."
      ]
    },
    {
      "cell_type": "markdown",
      "metadata": {
        "id": "x4_fMnwy1ER_",
        "colab_type": "text"
      },
      "source": [
        "### **Colocar disponivel com Heroku**"
      ]
    },
    {
      "cell_type": "markdown",
      "metadata": {
        "id": "vVPUOTI4z8Mv",
        "colab_type": "text"
      },
      "source": [
        "Ensinar os passos a passos para colocar a aplicação no ar com heroku: \n",
        "\n",
        "https://medium.com/@gustavo_domingues/como-fazer-deploy-de-sua-aplica%C3%A7%C3%A3o-streamlit-no-heroku-5fc1d2609df7#:~:text=email%40dominio.com-,Deploy,site%2C%20ent%C3%A3o%20escolha%20algo%20legal.&text=Sempre%20que%20quiser%20atualizar%20ou,basta%20seguir%20os%20passos%20abaixo.\n",
        "\n",
        "https://www.youtube.com/watch?v=mQ7rGcE766k&list=WL&index=2&t=0s\n",
        "\n",
        "\n"
      ]
    },
    {
      "cell_type": "markdown",
      "metadata": {
        "id": "GzBUCnWA26pN",
        "colab_type": "text"
      },
      "source": [
        "contexto"
      ]
    },
    {
      "cell_type": "markdown",
      "metadata": {
        "id": "5nCz30FdoToT",
        "colab_type": "text"
      },
      "source": [
        "## **Como ajuda o negócio?**"
      ]
    }
  ]
}