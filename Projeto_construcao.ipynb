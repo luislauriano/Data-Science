{
  "nbformat": 4,
  "nbformat_minor": 0,
  "metadata": {
    "colab": {
      "name": "Welcome To Colaboratory",
      "provenance": [],
      "collapsed_sections": [],
      "include_colab_link": true
    },
    "kernelspec": {
      "display_name": "Python 3",
      "name": "python3"
    }
  },
  "cells": [
    {
      "cell_type": "markdown",
      "metadata": {
        "id": "view-in-github",
        "colab_type": "text"
      },
      "source": [
        "<a href=\"https://colab.research.google.com/github/luislauriano/Data_Science/blob/master/Projeto_construcao.ipynb\" target=\"_parent\"><img src=\"https://colab.research.google.com/assets/colab-badge.svg\" alt=\"Open In Colab\"/></a>"
      ]
    },
    {
      "cell_type": "markdown",
      "metadata": {
        "id": "JqnET0Yl6Jjo",
        "colab_type": "text"
      },
      "source": [
        "# **Dicas do Meigarom (YTB)** "
      ]
    },
    {
      "cell_type": "markdown",
      "metadata": {
        "id": "4wbes_4d6Qak",
        "colab_type": "text"
      },
      "source": [
        "Luis, vamos lá então.\n",
        "\n",
        "* O projeto que eu mais gostei foi o de Detecção de Cancer de Mama.\n",
        "* Para resolve qualquer projeto de ML você precisa de 10 passos e você fez 5 deles. Conferir os passos de um projeto de ML novamente\n",
        "* Gostei das suas explicações depois de cada código.\n",
        "* Você poderia ter feito uma análise estatística descritiva dos dados, para dar um visão geral dos dados, em termos de métricas estatísticas ( média, mediana, std, moda, … )\n",
        "* Você poderia ter feito mais análise exploratória de dados. Quais as features mais importantes para o modelo? Qual o impacto de cada feature na variável resposta?\n",
        "* Você poderia explicar porque usou StandardScaler nas Features. Porque padronizar os dados? O que isso ajuda no modelo?\n",
        "* Porque você usou LabelEncoder na variável resposta? O que isso traz de benefício?\n",
        "* Poderia explicar, porque voce usou Random Forest. Qual o motivo da sua escolha?\n",
        "* Explicar mais sobre as métricas, o que significa cada métrica? Qual das métricas eu deveria olhar? Todas? Apenas Uma?\n",
        "13h52\n",
        "* Vai se aprofundando nos projetos e procurando responder porque você está colocando cada coisa. Porque Random forest? Porque Analise Exploratoria? Porque StandarScaler? Para que serve a matrix de correlação?\n",
        "* Vai fazendo testes e tentando entender o real motivo de cada linha código que você coloca, e porque essa linha é importante e no que ela ajuda?"
      ]
    },
    {
      "cell_type": "markdown",
      "metadata": {
        "id": "wnW2Zisr6d56",
        "colab_type": "text"
      },
      "source": [
        "# **Projetos como base:**\n",
        "\n",
        "### Projeto do Rafael\n",
        "https://github.com/barbosarafael/Projetos/blob/master/iNeuron_Back_order_prediction_Notebook/hackaton_ineuron_back_order_prediction.ipynb\n",
        "\n",
        "### Projeto do Carlos Melo\n",
        "https://github.com/carlosfab/data_science/blob/master/Setembro_Amarelo.ipynb\n",
        "\n",
        "### Projeto do Cancer de Mama \n",
        "https://github.com/luislauriano/Data_Science/blob/master/Machine_Learning_para_Detec%C3%A7%C3%A3o_do_C%C3%A2ncer_de_Mama.ipynb"
      ]
    },
    {
      "cell_type": "markdown",
      "metadata": {
        "id": "HygEQiju6iwe",
        "colab_type": "text"
      },
      "source": [
        "#**Referencias:**\n",
        "\n",
        "Limpeza e preparação dos dados: https://medium.com/@lucasoliveiras/limpeza-e-prepara%C3%A7%C3%A3o-dos-dados-com-pandas-856e844abfbb\n",
        "\n",
        "Tutorial API do Spotify: https://dandaramcsousa.github.io/2020/05/20/tutorial-api-spotify.html"
      ]
    },
    {
      "cell_type": "markdown",
      "metadata": {
        "id": "ncS2KlhF6k3Y",
        "colab_type": "text"
      },
      "source": [
        "Escrever e detalhar o maximo e tudo possivel com calma. (Isso também vai ser importante para aprender)   \n",
        "\n",
        "Explicar cada coisa usada como quando eu for usar o sklearn (para isso vou precisar pesquisar sobre metric score, acuracia e etc para falar sobre)"
      ]
    },
    {
      "cell_type": "markdown",
      "metadata": {
        "id": "uh6qE9H260te",
        "colab_type": "text"
      },
      "source": [
        "___________________________________________________________________________________________________\n"
      ]
    },
    {
      "cell_type": "markdown",
      "metadata": {
        "id": "9X9knpxb626V",
        "colab_type": "text"
      },
      "source": [
        "# **Coletando e visualizando dados do Spotify de NexoAnexo**"
      ]
    },
    {
      "cell_type": "markdown",
      "metadata": {
        "id": "puLfSxcC2Ph4",
        "colab_type": "text"
      },
      "source": [
        "## **Objetivo do projeto (Solução para o problema)**"
      ]
    },
    {
      "cell_type": "markdown",
      "metadata": {
        "id": "5sNePf9A2Xw5",
        "colab_type": "text"
      },
      "source": [
        "contexto"
      ]
    },
    {
      "cell_type": "markdown",
      "metadata": {
        "id": "tYrmm_k1c6Qn",
        "colab_type": "text"
      },
      "source": [
        "## **Etapas do projeto**"
      ]
    },
    {
      "cell_type": "markdown",
      "metadata": {
        "id": "PgMwFTF8c9Xz",
        "colab_type": "text"
      },
      "source": [
        "* Coleta do dados \n",
        "   1. Api do spotify\n",
        "   1. Leitura do Arquivo\n",
        "   2. Importar os pacotes e dataset necessários\n",
        "   3. Dicionario dos dados\n",
        "* Limpeza e preparação dos dados\n",
        "    1. Deletar colunas\n",
        "    2. Renomear colunas \n",
        "    3. Verificar dados ausentes\n",
        "    4. Verificar os tipos das colunas\n",
        "    5. Alterar os tipos de colunas \n",
        "    6. Outliers\n",
        "* Exploração e visualização dos dados \n",
        "* Etapas do Machine Learning workflow"
      ]
    },
    {
      "cell_type": "markdown",
      "metadata": {
        "id": "9LFe4_zLc6Ow",
        "colab_type": "text"
      },
      "source": [
        "## **Coleta dos dados**\n",
        "\n"
      ]
    },
    {
      "cell_type": "markdown",
      "metadata": {
        "id": "GxWUAPc1erDS",
        "colab_type": "text"
      },
      "source": [
        "contexto"
      ]
    },
    {
      "cell_type": "markdown",
      "metadata": {
        "id": "VZXPZ7YvYYjw",
        "colab_type": "text"
      },
      "source": [
        "### **Explicar toda etapa da coleta dos dados na API do Spotify**"
      ]
    },
    {
      "cell_type": "markdown",
      "metadata": {
        "id": "Fw0bfe1G752-",
        "colab_type": "text"
      },
      "source": [
        "1. Coletar as informações de um artista, dado um nome;\n",
        "2. Coletar os ids e nomes de todos os álbuns de um artista;\n",
        "3. Coletar informações de todas as músicas de um álbum;\n",
        "4. Coletar informações de todas as músicas de todos os álbuns de um artista;\n",
        "5. Converter tudo para um csv.\n"
      ]
    },
    {
      "cell_type": "code",
      "metadata": {
        "id": "56XPPzuXM_pk",
        "colab_type": "code",
        "outputId": "297ce286-82a0-4845-81c9-0bc9bb7ec3c8",
        "colab": {
          "base_uri": "https://localhost:8080/",
          "height": 136
        }
      },
      "source": [
        "!pip install spotipy\n",
        "from spotipy.oauth2 import SpotifyClientCredentials\n",
        "import spotipy\n",
        "import sys\n",
        "import csv\n",
        " \n",
        "sp = spotipy.Spotify(client_credentials_manager = SpotifyClientCredentials(client_id=\"dcffc14978ed497aa58834a7864a99b7\", client_secret=\"e8c5cc78c8e74ccd92323d146c635b47\"))"
      ],
      "execution_count": 21,
      "outputs": [
        {
          "output_type": "stream",
          "text": [
            "Requirement already satisfied: spotipy in /usr/local/lib/python3.6/dist-packages (2.12.0)\n",
            "Requirement already satisfied: requests>=2.20.0 in /usr/local/lib/python3.6/dist-packages (from spotipy) (2.23.0)\n",
            "Requirement already satisfied: six>=1.10.0 in /usr/local/lib/python3.6/dist-packages (from spotipy) (1.12.0)\n",
            "Requirement already satisfied: urllib3!=1.25.0,!=1.25.1,<1.26,>=1.21.1 in /usr/local/lib/python3.6/dist-packages (from requests>=2.20.0->spotipy) (1.24.3)\n",
            "Requirement already satisfied: certifi>=2017.4.17 in /usr/local/lib/python3.6/dist-packages (from requests>=2.20.0->spotipy) (2020.4.5.1)\n",
            "Requirement already satisfied: chardet<4,>=3.0.2 in /usr/local/lib/python3.6/dist-packages (from requests>=2.20.0->spotipy) (3.0.4)\n",
            "Requirement already satisfied: idna<3,>=2.5 in /usr/local/lib/python3.6/dist-packages (from requests>=2.20.0->spotipy) (2.9)\n"
          ],
          "name": "stdout"
        }
      ]
    },
    {
      "cell_type": "code",
      "metadata": {
        "id": "KtKv24PfNgzu",
        "colab_type": "code",
        "colab": {}
      },
      "source": [
        "def get_artist(name):\n",
        "    results = sp.search(name)\n",
        "    items = results['tracks']['items']\n",
        "    if len(items) > 0:\n",
        "        return items[0]['artists'][0]\n",
        "    else:\n",
        "        return None"
      ],
      "execution_count": 0,
      "outputs": []
    },
    {
      "cell_type": "code",
      "metadata": {
        "id": "UmYSgdflNjLm",
        "colab_type": "code",
        "colab": {}
      },
      "source": [
        "def get_artist_id(artist):\n",
        "    return artist['id']"
      ],
      "execution_count": 0,
      "outputs": []
    },
    {
      "cell_type": "code",
      "metadata": {
        "id": "SXSToCCLN9MD",
        "colab_type": "code",
        "colab": {}
      },
      "source": [
        "def get_artist_albums_id_names(id):\n",
        "  albums = sp.artist_albums(id, country = 'BR', limit=3)\n",
        "  albums_id_name = {}\n",
        "  for i in range(len(albums['items'])):\n",
        "    id = albums['items'][i]['id']\n",
        "    name = albums['items'][i]['name']\n",
        "    albums_id_name[id] = name\n",
        " \n",
        "  return albums_id_name"
      ],
      "execution_count": 0,
      "outputs": []
    },
    {
      "cell_type": "code",
      "metadata": {
        "id": "2zvAflToOkUh",
        "colab_type": "code",
        "colab": {}
      },
      "source": [
        "def get_album_songs(album_id, album_name):\n",
        "  spotify_album = {}\n",
        " \n",
        "  tracks = sp.album_tracks(album_id)\n",
        "  \n",
        "  for n in range(len(tracks['items'])):\n",
        "    id_track = tracks['items'][n]['id']\n",
        "    track = sp.track(id_track)\n",
        "    spotify_album[id_track] = {}\n",
        "    \n",
        "    spotify_album[id_track]['album'] = album_name\n",
        "    spotify_album[id_track]['album_type'] = track['album']['album_type']\n",
        "    spotify_album[id_track]['track_number'] = track['track_number']\n",
        "    spotify_album[id_track]['id_track'] = track['id']\n",
        "    spotify_album[id_track]['name'] = track['name']\n",
        "    spotify_album[id_track]['popularity'] = track['popularity']\n",
        "    spotify_album[id_track]['explicit'] = track['explicit']\n",
        "    spotify_album[id_track]['duration_ms'] = track['duration_ms']\n",
        "    spotify_album[id_track]['release_date'] = track['album']['release_date']\n",
        " \n",
        "    artists_track = track['artists']\n",
        "    spotify_album[id_track]['artists'] = []\n",
        "    for artist in artists_track:\n",
        "      spotify_album[id_track]['artists'].append(artist['name'])\n",
        "  return spotify_album\n"
      ],
      "execution_count": 0,
      "outputs": []
    },
    {
      "cell_type": "code",
      "metadata": {
        "id": "IZYiHJ19O7Kv",
        "colab_type": "code",
        "colab": {}
      },
      "source": [
        "def get_all_albums_songs(albums_ids_names):\n",
        "  spotify_albums = []\n",
        "  albums_names = []\n",
        "  for id, name in albums_ids_names.items():\n",
        "    if name not in albums_names:\n",
        "      albums_names.append(name)\n",
        "      album_songs = get_album_songs(id,name) \n",
        "    for item in album_songs.items():\n",
        "      spotify_albums.append(item[1]) \n",
        "  return spotify_albums"
      ],
      "execution_count": 0,
      "outputs": []
    },
    {
      "cell_type": "code",
      "metadata": {
        "id": "c0eud_atAcC6",
        "colab_type": "code",
        "colab": {}
      },
      "source": [
        "def convert_to_csv(filepath, name):\n",
        "  keys = filepath[0].keys()\n",
        "  print(keys)\n",
        "  csv_name = ''+ name + '.csv'\n",
        "  with open(csv_name, 'w') as output_file:\n",
        "    dict_writer = csv.DictWriter(output_file, keys)\n",
        "    dict_writer.writeheader()\n",
        "    dict_writer.writerows(filepath)\n",
        "  return"
      ],
      "execution_count": 0,
      "outputs": []
    },
    {
      "cell_type": "code",
      "metadata": {
        "id": "Y6u6VYNNO__U",
        "colab_type": "code",
        "outputId": "6f52c5ad-3017-4e8a-9401-c4a681d3cae7",
        "colab": {
          "base_uri": "https://localhost:8080/",
          "height": 34
        }
      },
      "source": [
        "name = \"NexoAnexo\"\n",
        "artist = get_artist(name)    \n",
        "if artist:\n",
        "  artist_id = get_artist_id(artist)\n",
        "  albums_id_names = get_artist_albums_id_names(artist_id)\n",
        "  all_albums = get_all_albums_songs(albums_id_names)\n",
        "  convert_to_csv(all_albums, 'NexoAnexo')   \n",
        "else:\n",
        "  logger.error(\"Can't find artist: %s\", artist)"
      ],
      "execution_count": 29,
      "outputs": [
        {
          "output_type": "stream",
          "text": [
            "dict_keys(['album', 'album_type', 'track_number', 'id_track', 'name', 'popularity', 'explicit', 'duration_ms', 'release_date', 'artists'])\n"
          ],
          "name": "stdout"
        }
      ]
    },
    {
      "cell_type": "markdown",
      "metadata": {
        "colab_type": "text",
        "id": "kLsdV6uQQ0uz"
      },
      "source": [
        "### **Dicionario dos dados**"
      ]
    },
    {
      "cell_type": "markdown",
      "metadata": {
        "colab_type": "text",
        "id": "lbhCoC9tQ2hc"
      },
      "source": [
        "contexto \n",
        "\n",
        "**Informações sobre os atributos**\n"
      ]
    },
    {
      "cell_type": "markdown",
      "metadata": {
        "id": "MPiYzdcTe76V",
        "colab_type": "text"
      },
      "source": [
        "### **Importar os pacotes e datasets necessário**\n",
        "\n"
      ]
    },
    {
      "cell_type": "markdown",
      "metadata": {
        "id": "EkIuPsuTe6cQ",
        "colab_type": "text"
      },
      "source": [
        "contexto"
      ]
    },
    {
      "cell_type": "code",
      "metadata": {
        "id": "wWAnGIM2fLh7",
        "colab_type": "code",
        "colab": {
          "base_uri": "https://localhost:8080/",
          "height": 71
        },
        "outputId": "02578603-d835-45b6-9f0e-292e3bb8936d"
      },
      "source": [
        "#importar os pacotes necessarios\n",
        "import pandas as pd \n",
        "import matplotlib.pyplot as plt \n",
        "import seaborn as sns \n",
        "from xgboost import XGBClassifier\n",
        "from sklearn.model_selection import train_test_split\n",
        "from sklearn.metrics import accuracy_score\n",
        "from sklearn.metrics import mean_squared_error\n",
        "from sklearn.impute import SimpleImputer\n",
        "\n",
        "# configurar o notebook\n",
        "sns.set_style()"
      ],
      "execution_count": 32,
      "outputs": [
        {
          "output_type": "stream",
          "text": [
            "/usr/local/lib/python3.6/dist-packages/statsmodels/tools/_testing.py:19: FutureWarning: pandas.util.testing is deprecated. Use the functions in the public API at pandas.testing instead.\n",
            "  import pandas.util.testing as tm\n"
          ],
          "name": "stderr"
        }
      ]
    },
    {
      "cell_type": "markdown",
      "metadata": {
        "colab_type": "text",
        "id": "n0wGbE_8Qeqj"
      },
      "source": [
        "### **Leitura do arquivo**"
      ]
    },
    {
      "cell_type": "markdown",
      "metadata": {
        "colab_type": "text",
        "id": "xvYxtUo6Qip4"
      },
      "source": [
        "Primeiro vamos ler nosso arquivo fora do notebook e tirar algumas informações, de como os dados estão separados e etc.."
      ]
    },
    {
      "cell_type": "code",
      "metadata": {
        "colab_type": "code",
        "id": "0JCvsNNRQgyB",
        "colab": {}
      },
      "source": [
        "dados = 'NexoAnexo.csv'\n",
        "\n",
        "df = pd.read_csv(dados, sep = ',')"
      ],
      "execution_count": 0,
      "outputs": []
    },
    {
      "cell_type": "markdown",
      "metadata": {
        "id": "hP26RkCiGMJS",
        "colab_type": "text"
      },
      "source": [
        "contexto"
      ]
    },
    {
      "cell_type": "code",
      "metadata": {
        "id": "reZ7UBugg9PW",
        "colab_type": "code",
        "outputId": "2764469c-ff4d-41ee-9229-8b038ea8c0fb",
        "colab": {
          "base_uri": "https://localhost:8080/",
          "height": 51
        }
      },
      "source": [
        "print(f'Número de linhas ou variaveis {df.shape[0]}')\n",
        "print(f'Número de entradas ou colunas {df.shape[1]}')"
      ],
      "execution_count": 0,
      "outputs": [
        {
          "output_type": "stream",
          "text": [
            "Número de linhas ou variaveis 9879\n",
            "Número de entradas ou colunas 40\n"
          ],
          "name": "stdout"
        }
      ]
    },
    {
      "cell_type": "markdown",
      "metadata": {
        "id": "eBrGm408haVg",
        "colab_type": "text"
      },
      "source": [
        "contexto"
      ]
    },
    {
      "cell_type": "markdown",
      "metadata": {
        "id": "ydNaZxF9gU57",
        "colab_type": "text"
      },
      "source": [
        "## **Limpeza e preparação dos dados**"
      ]
    },
    {
      "cell_type": "markdown",
      "metadata": {
        "id": "n2maxVPOmDkd",
        "colab_type": "text"
      },
      "source": [
        "contexto"
      ]
    },
    {
      "cell_type": "markdown",
      "metadata": {
        "id": "7MMfY8HQmGA_",
        "colab_type": "text"
      },
      "source": [
        "### **Deletando colunas**"
      ]
    },
    {
      "cell_type": "markdown",
      "metadata": {
        "id": "zqH6vhn7md6l",
        "colab_type": "text"
      },
      "source": [
        "Como o nosso conjunto de dados contém colunas que não serão uteis"
      ]
    },
    {
      "cell_type": "code",
      "metadata": {
        "id": "KLvTyZ4umEb7",
        "colab_type": "code",
        "outputId": "51cf4fff-ef14-4fd7-fd8e-e0cacea8c52d",
        "colab": {
          "base_uri": "https://localhost:8080/",
          "height": 224
        }
      },
      "source": [
        "df.head()"
      ],
      "execution_count": 0,
      "outputs": [
        {
          "output_type": "execute_result",
          "data": {
            "text/html": [
              "<div>\n",
              "<style scoped>\n",
              "    .dataframe tbody tr th:only-of-type {\n",
              "        vertical-align: middle;\n",
              "    }\n",
              "\n",
              "    .dataframe tbody tr th {\n",
              "        vertical-align: top;\n",
              "    }\n",
              "\n",
              "    .dataframe thead th {\n",
              "        text-align: right;\n",
              "    }\n",
              "</style>\n",
              "<table border=\"1\" class=\"dataframe\">\n",
              "  <thead>\n",
              "    <tr style=\"text-align: right;\">\n",
              "      <th></th>\n",
              "      <th>gameId</th>\n",
              "      <th>blueWins</th>\n",
              "      <th>blueWardsPlaced</th>\n",
              "      <th>blueWardsDestroyed</th>\n",
              "      <th>blueFirstBlood</th>\n",
              "      <th>blueKills</th>\n",
              "      <th>blueDeaths</th>\n",
              "      <th>blueAssists</th>\n",
              "      <th>blueEliteMonsters</th>\n",
              "      <th>blueDragons</th>\n",
              "      <th>blueHeralds</th>\n",
              "      <th>blueTowersDestroyed</th>\n",
              "      <th>blueTotalGold</th>\n",
              "      <th>blueAvgLevel</th>\n",
              "      <th>blueTotalExperience</th>\n",
              "      <th>blueTotalMinionsKilled</th>\n",
              "      <th>blueTotalJungleMinionsKilled</th>\n",
              "      <th>blueGoldDiff</th>\n",
              "      <th>blueExperienceDiff</th>\n",
              "      <th>blueCSPerMin</th>\n",
              "      <th>blueGoldPerMin</th>\n",
              "      <th>redWardsPlaced</th>\n",
              "      <th>redWardsDestroyed</th>\n",
              "      <th>redFirstBlood</th>\n",
              "      <th>redKills</th>\n",
              "      <th>redDeaths</th>\n",
              "      <th>redAssists</th>\n",
              "      <th>redEliteMonsters</th>\n",
              "      <th>redDragons</th>\n",
              "      <th>redHeralds</th>\n",
              "      <th>redTowersDestroyed</th>\n",
              "      <th>redTotalGold</th>\n",
              "      <th>redAvgLevel</th>\n",
              "      <th>redTotalExperience</th>\n",
              "      <th>redTotalMinionsKilled</th>\n",
              "      <th>redTotalJungleMinionsKilled</th>\n",
              "      <th>redGoldDiff</th>\n",
              "      <th>redExperienceDiff</th>\n",
              "      <th>redCSPerMin</th>\n",
              "      <th>redGoldPerMin</th>\n",
              "    </tr>\n",
              "  </thead>\n",
              "  <tbody>\n",
              "    <tr>\n",
              "      <th>0</th>\n",
              "      <td>4519157822</td>\n",
              "      <td>0</td>\n",
              "      <td>28</td>\n",
              "      <td>2</td>\n",
              "      <td>1</td>\n",
              "      <td>9</td>\n",
              "      <td>6</td>\n",
              "      <td>11</td>\n",
              "      <td>0</td>\n",
              "      <td>0</td>\n",
              "      <td>0</td>\n",
              "      <td>0</td>\n",
              "      <td>17210</td>\n",
              "      <td>6.6</td>\n",
              "      <td>17039</td>\n",
              "      <td>195</td>\n",
              "      <td>36</td>\n",
              "      <td>643</td>\n",
              "      <td>-8</td>\n",
              "      <td>19.5</td>\n",
              "      <td>1721.0</td>\n",
              "      <td>15</td>\n",
              "      <td>6</td>\n",
              "      <td>0</td>\n",
              "      <td>6</td>\n",
              "      <td>9</td>\n",
              "      <td>8</td>\n",
              "      <td>0</td>\n",
              "      <td>0</td>\n",
              "      <td>0</td>\n",
              "      <td>0</td>\n",
              "      <td>16567</td>\n",
              "      <td>6.8</td>\n",
              "      <td>17047</td>\n",
              "      <td>197</td>\n",
              "      <td>55</td>\n",
              "      <td>-643</td>\n",
              "      <td>8</td>\n",
              "      <td>19.7</td>\n",
              "      <td>1656.7</td>\n",
              "    </tr>\n",
              "    <tr>\n",
              "      <th>1</th>\n",
              "      <td>4523371949</td>\n",
              "      <td>0</td>\n",
              "      <td>12</td>\n",
              "      <td>1</td>\n",
              "      <td>0</td>\n",
              "      <td>5</td>\n",
              "      <td>5</td>\n",
              "      <td>5</td>\n",
              "      <td>0</td>\n",
              "      <td>0</td>\n",
              "      <td>0</td>\n",
              "      <td>0</td>\n",
              "      <td>14712</td>\n",
              "      <td>6.6</td>\n",
              "      <td>16265</td>\n",
              "      <td>174</td>\n",
              "      <td>43</td>\n",
              "      <td>-2908</td>\n",
              "      <td>-1173</td>\n",
              "      <td>17.4</td>\n",
              "      <td>1471.2</td>\n",
              "      <td>12</td>\n",
              "      <td>1</td>\n",
              "      <td>1</td>\n",
              "      <td>5</td>\n",
              "      <td>5</td>\n",
              "      <td>2</td>\n",
              "      <td>2</td>\n",
              "      <td>1</td>\n",
              "      <td>1</td>\n",
              "      <td>1</td>\n",
              "      <td>17620</td>\n",
              "      <td>6.8</td>\n",
              "      <td>17438</td>\n",
              "      <td>240</td>\n",
              "      <td>52</td>\n",
              "      <td>2908</td>\n",
              "      <td>1173</td>\n",
              "      <td>24.0</td>\n",
              "      <td>1762.0</td>\n",
              "    </tr>\n",
              "    <tr>\n",
              "      <th>2</th>\n",
              "      <td>4521474530</td>\n",
              "      <td>0</td>\n",
              "      <td>15</td>\n",
              "      <td>0</td>\n",
              "      <td>0</td>\n",
              "      <td>7</td>\n",
              "      <td>11</td>\n",
              "      <td>4</td>\n",
              "      <td>1</td>\n",
              "      <td>1</td>\n",
              "      <td>0</td>\n",
              "      <td>0</td>\n",
              "      <td>16113</td>\n",
              "      <td>6.4</td>\n",
              "      <td>16221</td>\n",
              "      <td>186</td>\n",
              "      <td>46</td>\n",
              "      <td>-1172</td>\n",
              "      <td>-1033</td>\n",
              "      <td>18.6</td>\n",
              "      <td>1611.3</td>\n",
              "      <td>15</td>\n",
              "      <td>3</td>\n",
              "      <td>1</td>\n",
              "      <td>11</td>\n",
              "      <td>7</td>\n",
              "      <td>14</td>\n",
              "      <td>0</td>\n",
              "      <td>0</td>\n",
              "      <td>0</td>\n",
              "      <td>0</td>\n",
              "      <td>17285</td>\n",
              "      <td>6.8</td>\n",
              "      <td>17254</td>\n",
              "      <td>203</td>\n",
              "      <td>28</td>\n",
              "      <td>1172</td>\n",
              "      <td>1033</td>\n",
              "      <td>20.3</td>\n",
              "      <td>1728.5</td>\n",
              "    </tr>\n",
              "    <tr>\n",
              "      <th>3</th>\n",
              "      <td>4524384067</td>\n",
              "      <td>0</td>\n",
              "      <td>43</td>\n",
              "      <td>1</td>\n",
              "      <td>0</td>\n",
              "      <td>4</td>\n",
              "      <td>5</td>\n",
              "      <td>5</td>\n",
              "      <td>1</td>\n",
              "      <td>0</td>\n",
              "      <td>1</td>\n",
              "      <td>0</td>\n",
              "      <td>15157</td>\n",
              "      <td>7.0</td>\n",
              "      <td>17954</td>\n",
              "      <td>201</td>\n",
              "      <td>55</td>\n",
              "      <td>-1321</td>\n",
              "      <td>-7</td>\n",
              "      <td>20.1</td>\n",
              "      <td>1515.7</td>\n",
              "      <td>15</td>\n",
              "      <td>2</td>\n",
              "      <td>1</td>\n",
              "      <td>5</td>\n",
              "      <td>4</td>\n",
              "      <td>10</td>\n",
              "      <td>0</td>\n",
              "      <td>0</td>\n",
              "      <td>0</td>\n",
              "      <td>0</td>\n",
              "      <td>16478</td>\n",
              "      <td>7.0</td>\n",
              "      <td>17961</td>\n",
              "      <td>235</td>\n",
              "      <td>47</td>\n",
              "      <td>1321</td>\n",
              "      <td>7</td>\n",
              "      <td>23.5</td>\n",
              "      <td>1647.8</td>\n",
              "    </tr>\n",
              "    <tr>\n",
              "      <th>4</th>\n",
              "      <td>4436033771</td>\n",
              "      <td>0</td>\n",
              "      <td>75</td>\n",
              "      <td>4</td>\n",
              "      <td>0</td>\n",
              "      <td>6</td>\n",
              "      <td>6</td>\n",
              "      <td>6</td>\n",
              "      <td>0</td>\n",
              "      <td>0</td>\n",
              "      <td>0</td>\n",
              "      <td>0</td>\n",
              "      <td>16400</td>\n",
              "      <td>7.0</td>\n",
              "      <td>18543</td>\n",
              "      <td>210</td>\n",
              "      <td>57</td>\n",
              "      <td>-1004</td>\n",
              "      <td>230</td>\n",
              "      <td>21.0</td>\n",
              "      <td>1640.0</td>\n",
              "      <td>17</td>\n",
              "      <td>2</td>\n",
              "      <td>1</td>\n",
              "      <td>6</td>\n",
              "      <td>6</td>\n",
              "      <td>7</td>\n",
              "      <td>1</td>\n",
              "      <td>1</td>\n",
              "      <td>0</td>\n",
              "      <td>0</td>\n",
              "      <td>17404</td>\n",
              "      <td>7.0</td>\n",
              "      <td>18313</td>\n",
              "      <td>225</td>\n",
              "      <td>67</td>\n",
              "      <td>1004</td>\n",
              "      <td>-230</td>\n",
              "      <td>22.5</td>\n",
              "      <td>1740.4</td>\n",
              "    </tr>\n",
              "  </tbody>\n",
              "</table>\n",
              "</div>"
            ],
            "text/plain": [
              "       gameId  blueWins  ...  redCSPerMin  redGoldPerMin\n",
              "0  4519157822         0  ...         19.7         1656.7\n",
              "1  4523371949         0  ...         24.0         1762.0\n",
              "2  4521474530         0  ...         20.3         1728.5\n",
              "3  4524384067         0  ...         23.5         1647.8\n",
              "4  4436033771         0  ...         22.5         1740.4\n",
              "\n",
              "[5 rows x 40 columns]"
            ]
          },
          "metadata": {
            "tags": []
          },
          "execution_count": 121
        }
      ]
    },
    {
      "cell_type": "markdown",
      "metadata": {
        "id": "NOxPPZyTGqt2",
        "colab_type": "text"
      },
      "source": [
        ""
      ]
    },
    {
      "cell_type": "markdown",
      "metadata": {
        "id": "pSb0SMeNGrJD",
        "colab_type": "text"
      },
      "source": [
        ""
      ]
    },
    {
      "cell_type": "markdown",
      "metadata": {
        "id": "wYCBfOpbSXPy",
        "colab_type": "text"
      },
      "source": [
        "## **Exploração de Visualização dos dados**"
      ]
    },
    {
      "cell_type": "markdown",
      "metadata": {
        "id": "VUq_eUtiYkYb",
        "colab_type": "text"
      },
      "source": [
        "Colocar todas as etapas do projeto de lol "
      ]
    },
    {
      "cell_type": "markdown",
      "metadata": {
        "id": "yWQ61UuNSwxi",
        "colab_type": "text"
      },
      "source": [
        "Depois de organizar o que gostaríamos de fazer e mexer na API do Spotify para ter um .csv bonito, nos falta apenas as visualizações dos dados. Porém, entretanto, todavia, ainda não disse quais perguntas vamos responder. Então vamos lá:\n",
        "\n",
        "Qual é a música mais popular de Nexo?\n",
        "Qual é o álbum mais popular?\n",
        "E o single?\n",
        "\n",
        "Apostas: \n",
        "\n",
        "No album Real Plug, \n",
        "No album Trap de Cria, acredito que seja OI Fake \n",
        "No album TFF, acredito que seja Match, por mais que a minha preferida seja ...\n",
        "\n",
        "Musica mais pouplar, Ratatah \n",
        "Album mais popular, TFF\n"
      ]
    },
    {
      "cell_type": "markdown",
      "metadata": {
        "id": "m-DA1tqaYRN1",
        "colab_type": "text"
      },
      "source": [
        "Ver se a popularidade está funcionando da maneira correta"
      ]
    },
    {
      "cell_type": "markdown",
      "metadata": {
        "id": "tP4V7h-eZADl",
        "colab_type": "text"
      },
      "source": [
        "Lembrem da definição de popularidade que foi dada lá no volume 01. Uma música nova tem muito mais chance de ser mais popular. "
      ]
    },
    {
      "cell_type": "markdown",
      "metadata": {
        "id": "o2Ee3GtrZKxT",
        "colab_type": "text"
      },
      "source": [
        "O sucesso Trap de cria"
      ]
    },
    {
      "cell_type": "code",
      "metadata": {
        "colab_type": "code",
        "id": "Rnnrm5IVAqqf",
        "colab": {}
      },
      "source": [
        "import spotipy\n",
        "import sys\n",
        "from spotipy.oauth2 import SpotifyClientCredentials\n",
        "\n",
        "sp = spotipy.Spotify(client_credentials_manager = SpotifyClientCredentials(client_id=\"dcffc14978ed497aa58834a7864a99b7\", client_secret=\"e8c5cc78c8e74ccd92323d146c635b47\"))\n",
        "\n",
        "if len(sys.argv) > 1:\n",
        "    name = ' '.join(sys.argv[1:])\n",
        "else:\n",
        "    name = 'NexoAnexo'\n",
        "\n",
        "results = sp.search(q='artist:' + name, type='artist')\n",
        "items = results['artists']['items']\n",
        "if len(items) > 0:\n",
        "    artist = items[0]\n",
        "    print(artist['name'], artist['images'][0]['data:image/jpeg;base64,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'])"
      ],
      "execution_count": 0,
      "outputs": []
    }
  ]
}