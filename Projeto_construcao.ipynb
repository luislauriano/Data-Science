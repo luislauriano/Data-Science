{
  "nbformat": 4,
  "nbformat_minor": 0,
  "metadata": {
    "colab": {
      "name": "Welcome To Colaboratory",
      "provenance": [],
      "collapsed_sections": [],
      "include_colab_link": true
    },
    "kernelspec": {
      "display_name": "Python 3",
      "name": "python3"
    }
  },
  "cells": [
    {
      "cell_type": "markdown",
      "metadata": {
        "id": "view-in-github",
        "colab_type": "text"
      },
      "source": [
        "<a href=\"https://colab.research.google.com/github/luislauriano/Data_Science/blob/master/Projeto_construcao.ipynb\" target=\"_parent\"><img src=\"https://colab.research.google.com/assets/colab-badge.svg\" alt=\"Open In Colab\"/></a>"
      ]
    },
    {
      "cell_type": "markdown",
      "metadata": {
        "id": "CzMgrgOVQM0A",
        "colab_type": "text"
      },
      "source": [
        "#Esse projeto ainda está sendo construido, esse notebook é um rascunho do projeto. Abraço!"
      ]
    },
    {
      "cell_type": "markdown",
      "metadata": {
        "id": "JqnET0Yl6Jjo",
        "colab_type": "text"
      },
      "source": [
        "# **Dicas do Meigarom (YTB)** "
      ]
    },
    {
      "cell_type": "markdown",
      "metadata": {
        "id": "4wbes_4d6Qak",
        "colab_type": "text"
      },
      "source": [
        "Luis, vamos lá então.\n",
        "\n",
        "* O projeto que eu mais gostei foi o de Detecção de Cancer de Mama.\n",
        "* Para resolve qualquer projeto de ML você precisa de 10 passos e você fez 5 deles. Conferir os passos de um projeto de ML novamente\n",
        "* Gostei das suas explicações depois de cada código.\n",
        "* Você poderia ter feito uma análise estatística descritiva dos dados, para dar um visão geral dos dados, em termos de métricas estatísticas ( média, mediana, std, moda, … )\n",
        "* Você poderia ter feito mais análise exploratória de dados. Quais as features mais importantes para o modelo? Qual o impacto de cada feature na variável resposta?\n",
        "* Você poderia explicar porque usou StandardScaler nas Features. Porque padronizar os dados? O que isso ajuda no modelo?\n",
        "* Porque você usou LabelEncoder na variável resposta? O que isso traz de benefício?\n",
        "* Poderia explicar, porque voce usou Random Forest. Qual o motivo da sua escolha?\n",
        "* Explicar mais sobre as métricas, o que significa cada métrica? Qual das métricas eu deveria olhar? Todas? Apenas Uma?\n",
        "13h52\n",
        "* Vai se aprofundando nos projetos e procurando responder porque você está colocando cada coisa. Porque Random forest? Porque Analise Exploratoria? Porque StandarScaler? Para que serve a matrix de correlação?\n",
        "* Vai fazendo testes e tentando entender o real motivo de cada linha código que você coloca, e porque essa linha é importante e no que ela ajuda?"
      ]
    },
    {
      "cell_type": "markdown",
      "metadata": {
        "id": "wnW2Zisr6d56",
        "colab_type": "text"
      },
      "source": [
        "# **Projetos como base:**\n",
        "\n",
        "### Projeto do Rafael\n",
        "https://github.com/barbosarafael/Projetos/blob/master/iNeuron_Back_order_prediction_Notebook/hackaton_ineuron_back_order_prediction.ipynb\n",
        "\n",
        "### Projeto do Carlos Melo\n",
        "https://github.com/carlosfab/data_science/blob/master/Setembro_Amarelo.ipynb\n",
        "\n",
        "### Projeto do Cancer de Mama \n",
        "https://github.com/luislauriano/Data_Science/blob/master/Machine_Learning_para_Detec%C3%A7%C3%A3o_do_C%C3%A2ncer_de_Mama.ipynb"
      ]
    },
    {
      "cell_type": "markdown",
      "metadata": {
        "id": "HygEQiju6iwe",
        "colab_type": "text"
      },
      "source": [
        "#**Referencias:**\n",
        "\n",
        "Limpeza e preparação dos dados: https://medium.com/@lucasoliveiras/limpeza-e-prepara%C3%A7%C3%A3o-dos-dados-com-pandas-856e844abfbb\n",
        "\n",
        "Tutorial API do Spotify: https://dandaramcsousa.github.io/2020/05/20/tutorial-api-spotify.html"
      ]
    },
    {
      "cell_type": "markdown",
      "metadata": {
        "id": "ncS2KlhF6k3Y",
        "colab_type": "text"
      },
      "source": [
        "Escrever e detalhar o maximo e tudo possivel com calma. (Isso também vai ser importante para aprender)   \n",
        "\n",
        "Explicar cada coisa usada como quando eu for usar o sklearn (para isso vou precisar pesquisar sobre metric score, acuracia e etc para falar sobre)"
      ]
    },
    {
      "cell_type": "markdown",
      "metadata": {
        "id": "uh6qE9H260te",
        "colab_type": "text"
      },
      "source": [
        "___________________________________________________________________________________________________\n"
      ]
    },
    {
      "cell_type": "markdown",
      "metadata": {
        "id": "9X9knpxb626V",
        "colab_type": "text"
      },
      "source": [
        "# **Spotify & Python & Data Science (Da coleta de dados do Spotify ao Deploy)**"
      ]
    },
    {
      "cell_type": "markdown",
      "metadata": {
        "id": "puLfSxcC2Ph4",
        "colab_type": "text"
      },
      "source": [
        "## **Objetivo do projeto:**"
      ]
    },
    {
      "cell_type": "markdown",
      "metadata": {
        "id": "5sNePf9A2Xw5",
        "colab_type": "text"
      },
      "source": [
        "O objetivo desse projeto é que seja feita uma análise de dados dos albúmns do spotify do artista NexoAnexo, passando pelas principais etapas de uma análise de dados. Coleta dos dados, pre-processamento, exploração e visualização dos dados. Por fim, construindo uma aplicação/dashboard com Python, após isso a aplicação será colocada em produção com o heroku. "
      ]
    },
    {
      "cell_type": "markdown",
      "metadata": {
        "id": "cglPkECqlpkK",
        "colab_type": "text"
      },
      "source": [
        "Um outro objetivo é que a partir das conclusões feitas da análise dos dados das músicas dos albúmns, seja identificado fatores que ajudam um albúm,música a ter sucesso e como isso pode ser usado para futuros lançamentos."
      ]
    },
    {
      "cell_type": "markdown",
      "metadata": {
        "id": "tYrmm_k1c6Qn",
        "colab_type": "text"
      },
      "source": [
        "## **Etapas do projeto**"
      ]
    },
    {
      "cell_type": "markdown",
      "metadata": {
        "id": "PgMwFTF8c9Xz",
        "colab_type": "text"
      },
      "source": [
        "* Coleta do dados \n",
        "   1. Api do spotify\n",
        "   2. Dicionario dos dados\n",
        "   3. Importar os pacotes e dataset necessários\n",
        "   4. Leitura do arquivo\n",
        "\n",
        "* Limpeza e preparação dos dados\n",
        "    1. Deletar colunas\n",
        "    2. Renomear colunas \n",
        "    3. Verificar os tipos das colunas\n",
        "    4. Alterar os tipos de colunas \n",
        "    5. Verificar dados ausentes\n",
        "    6. Preencher dados ausentes\n",
        "    7. Corrigindo dados duplicados\n",
        "    8. Outliers\n",
        "  \n",
        "* Exploração e visualização dos dados \n",
        "* Aplicação/Dashboard com python + Deploy com Heroku"
      ]
    },
    {
      "cell_type": "markdown",
      "metadata": {
        "id": "9LFe4_zLc6Ow",
        "colab_type": "text"
      },
      "source": [
        "## **Coleta dos dados**\n",
        "\n"
      ]
    },
    {
      "cell_type": "markdown",
      "metadata": {
        "id": "9yODKiJhZKgG",
        "colab_type": "text"
      },
      "source": [
        "A coleta de dados é a primeira etapa de todo projeto de Data Science, caso seja optado por não coletar um conjunto de dados já pronto, devemos procurar fontes de dados que possam ser uteis para construir nossa base de dados e das fontes extrair os dados."
      ]
    },
    {
      "cell_type": "markdown",
      "metadata": {
        "id": "GxWUAPc1erDS",
        "colab_type": "text"
      },
      "source": [
        "Uma das formas mais famosas de coletar dados já prontos para realizar projetos é buscando em fontes confiaveis como kaggle ou portais governamentais, entretanto, o que queremos são dados que dificilmente encontrariamos na internet, além de se tratar de dados de um artista especifico, ainda assim é um artista que não possui grande popularidade."
      ]
    },
    {
      "cell_type": "markdown",
      "metadata": {
        "id": "0WFpfYtV3WwC",
        "colab_type": "text"
      },
      "source": [
        "A primeira alternativa de coletarmos os dados seria fazendo o uso de web scraping, web scraping como o proprio nome já diz, é a coleta de dados web, ou raspagem web, sendo uma forma de mineração que permite a extração de dados de sites da web, convertendo-os em informação estruturada para posterior análise. Porém, com meu pouco conhecimento em web scraping, não sei se seria possivel coletar os dados do site do spotify.  \n",
        "Por outro lado, temos uma seguda e mais viavel alternativa, apesar de não ser tão conhecida, o spotify possui uma API onde podemos encontrar e usar os dados de todos os artistas cadastrados no spotify, até mesmo dentro da API é possivel criar dashboards e fazer análises. Mas não é isso que queremos, o que de fato queremos é trabalhar e manipular os dados externamente, para podermos fazer nossas análises com as bibliotecas do python. Como queremos analisar os dados com python, nada melhor que coletar os dados da API do spotify com o próprio python, através da biblioteca spotipy. "
      ]
    },
    {
      "cell_type": "markdown",
      "metadata": {
        "id": "vEOrnBWY1WmV",
        "colab_type": "text"
      },
      "source": [
        "A biblioteca Spotipy tem o objetivo de .... Com a biblioteca spotipy é possivel... isso e outras formas de utilizar a bilioteca você pode encontrar na documentação da biblioteca."
      ]
    },
    {
      "cell_type": "markdown",
      "metadata": {
        "id": "VZXPZ7YvYYjw",
        "colab_type": "text"
      },
      "source": [
        "### **Coletar os dados da API do Spotify com a biblioteca Spotipy**"
      ]
    },
    {
      "cell_type": "markdown",
      "metadata": {
        "id": "Fw0bfe1G752-",
        "colab_type": "text"
      },
      "source": [
        "1. Coletar as informações de um artista, dado um nome;\n",
        "2. Coletar os ids e nomes de todos os álbuns de um artista;\n",
        "3. Coletar informações de todas as músicas de um álbum;\n",
        "4. Coletar informações de todas as músicas de todos os álbuns de um artista;\n",
        "5. Converter tudo para um csv.\n"
      ]
    },
    {
      "cell_type": "code",
      "metadata": {
        "id": "56XPPzuXM_pk",
        "colab_type": "code",
        "colab": {
          "base_uri": "https://localhost:8080/",
          "height": 136
        },
        "outputId": "05a27554-4105-4393-b193-25d7a8b875d9"
      },
      "source": [
        "!pip install spotipy\n",
        "from spotipy.oauth2 import SpotifyClientCredentials\n",
        "import spotipy\n",
        "import sys\n",
        "import csv\n",
        " \n",
        "sp = spotipy.Spotify(client_credentials_manager = SpotifyClientCredentials(client_id=\"dcffc14978ed497aa58834a7864a99b7\", client_secret=\"e8c5cc78c8e74ccd92323d146c635b47\"))"
      ],
      "execution_count": 115,
      "outputs": [
        {
          "output_type": "stream",
          "text": [
            "Requirement already satisfied: spotipy in /usr/local/lib/python3.6/dist-packages (2.14.0)\n",
            "Requirement already satisfied: requests>=2.20.0 in /usr/local/lib/python3.6/dist-packages (from spotipy) (2.23.0)\n",
            "Requirement already satisfied: six>=1.10.0 in /usr/local/lib/python3.6/dist-packages (from spotipy) (1.15.0)\n",
            "Requirement already satisfied: idna<3,>=2.5 in /usr/local/lib/python3.6/dist-packages (from requests>=2.20.0->spotipy) (2.10)\n",
            "Requirement already satisfied: chardet<4,>=3.0.2 in /usr/local/lib/python3.6/dist-packages (from requests>=2.20.0->spotipy) (3.0.4)\n",
            "Requirement already satisfied: urllib3!=1.25.0,!=1.25.1,<1.26,>=1.21.1 in /usr/local/lib/python3.6/dist-packages (from requests>=2.20.0->spotipy) (1.24.3)\n",
            "Requirement already satisfied: certifi>=2017.4.17 in /usr/local/lib/python3.6/dist-packages (from requests>=2.20.0->spotipy) (2020.6.20)\n"
          ],
          "name": "stdout"
        }
      ]
    },
    {
      "cell_type": "code",
      "metadata": {
        "id": "KtKv24PfNgzu",
        "colab_type": "code",
        "colab": {}
      },
      "source": [
        "def get_artist(name):\n",
        "    results = sp.search(name)\n",
        "    items = results['tracks']['items']\n",
        "    if len(items) > 0:\n",
        "        return items[0]['artists'][0]\n",
        "    else:\n",
        "        return None"
      ],
      "execution_count": 116,
      "outputs": []
    },
    {
      "cell_type": "code",
      "metadata": {
        "id": "UmYSgdflNjLm",
        "colab_type": "code",
        "colab": {}
      },
      "source": [
        "def get_artist_id(artist):\n",
        "    return artist['id']"
      ],
      "execution_count": 117,
      "outputs": []
    },
    {
      "cell_type": "code",
      "metadata": {
        "id": "SXSToCCLN9MD",
        "colab_type": "code",
        "colab": {}
      },
      "source": [
        "def get_artist_albums_id_names(id):\n",
        "  albums = sp.artist_albums(id, country = 'BR', limit=3)\n",
        "  albums_id_name = {}\n",
        "  for i in range(len(albums['items'])):\n",
        "    id = albums['items'][i]['id']\n",
        "    name = albums['items'][i]['name']\n",
        "    albums_id_name[id] = name\n",
        " \n",
        "  return albums_id_name"
      ],
      "execution_count": 118,
      "outputs": []
    },
    {
      "cell_type": "markdown",
      "metadata": {
        "id": "8T15HLq7JbHI",
        "colab_type": "text"
      },
      "source": [
        "Determinei o limit 3, tendo em vista que Nexo tem 3 albumns, se quisessemos visualizar as outras músicas poderiamos aumentar esse limit para 50, total de musicas que ele possui no spotify."
      ]
    },
    {
      "cell_type": "code",
      "metadata": {
        "id": "2zvAflToOkUh",
        "colab_type": "code",
        "colab": {}
      },
      "source": [
        "def get_album_songs(album_id, album_name):\n",
        "  spotify_album = {}\n",
        " \n",
        "  tracks = sp.album_tracks(album_id)\n",
        "  \n",
        "  for n in range(len(tracks['items'])):\n",
        "    id_track = tracks['items'][n]['id']\n",
        "    track = sp.track(id_track)\n",
        "    spotify_album[id_track] = {}\n",
        "    \n",
        "    spotify_album[id_track]['album'] = album_name\n",
        "    spotify_album[id_track]['album_type'] = track['album']['album_type']\n",
        "    spotify_album[id_track]['track_number'] = track['track_number']\n",
        "    spotify_album[id_track]['id_track'] = track['id']\n",
        "    spotify_album[id_track]['name'] = track['name']\n",
        "    spotify_album[id_track]['popularity'] = track['popularity']\n",
        "    spotify_album[id_track]['explicit'] = track['explicit']\n",
        "    spotify_album[id_track]['duration_ms'] = track['duration_ms']\n",
        "    spotify_album[id_track]['release_date'] = track['album']['release_date']\n",
        " \n",
        "    artists_track = track['artists']\n",
        "    spotify_album[id_track]['artists'] = []\n",
        "    for artist in artists_track:\n",
        "      spotify_album[id_track]['artists'].append(artist['name'])\n",
        "  return spotify_album\n"
      ],
      "execution_count": 119,
      "outputs": []
    },
    {
      "cell_type": "code",
      "metadata": {
        "id": "IZYiHJ19O7Kv",
        "colab_type": "code",
        "colab": {}
      },
      "source": [
        "def get_all_albums_songs(albums_ids_names):\n",
        "  spotify_albums = []\n",
        "  albums_names = []\n",
        "  for id, name in albums_ids_names.items():\n",
        "    if name not in albums_names:\n",
        "      albums_names.append(name)\n",
        "      album_songs = get_album_songs(id,name) \n",
        "    for item in album_songs.items():\n",
        "      spotify_albums.append(item[1]) \n",
        "  return spotify_albums"
      ],
      "execution_count": 120,
      "outputs": []
    },
    {
      "cell_type": "code",
      "metadata": {
        "id": "c0eud_atAcC6",
        "colab_type": "code",
        "colab": {}
      },
      "source": [
        "def convert_to_csv(filepath, name):\n",
        "  keys = filepath[0].keys()\n",
        "  print(keys)\n",
        "  csv_name = ''+ name + '.csv'\n",
        "  with open(csv_name, 'w') as output_file:\n",
        "    dict_writer = csv.DictWriter(output_file, keys)\n",
        "    dict_writer.writeheader()\n",
        "    dict_writer.writerows(filepath)\n",
        "  return"
      ],
      "execution_count": 121,
      "outputs": []
    },
    {
      "cell_type": "code",
      "metadata": {
        "id": "Y6u6VYNNO__U",
        "colab_type": "code",
        "colab": {
          "base_uri": "https://localhost:8080/",
          "height": 34
        },
        "outputId": "0dc3f150-880f-4e9d-a023-b353855532b4"
      },
      "source": [
        "name = \"NexoAnexo\"\n",
        "artist = get_artist(name)    \n",
        "if artist:\n",
        "  artist_id = get_artist_id(artist)\n",
        "  albums_id_names = get_artist_albums_id_names(artist_id)\n",
        "  all_albums = get_all_albums_songs(albums_id_names)\n",
        "  convert_to_csv(all_albums, 'NexoAnexo')   \n",
        "else:\n",
        "  logger.error(\"Can't find artist: %s\", artist)"
      ],
      "execution_count": 122,
      "outputs": [
        {
          "output_type": "stream",
          "text": [
            "dict_keys(['album', 'album_type', 'track_number', 'id_track', 'name', 'popularity', 'explicit', 'duration_ms', 'release_date', 'artists'])\n"
          ],
          "name": "stdout"
        }
      ]
    },
    {
      "cell_type": "markdown",
      "metadata": {
        "id": "9KiuEKvzU_ZI",
        "colab_type": "text"
      },
      "source": [
        "Como a popularidade das músicas podem alterar diariamente, para não interferir na análise, era preciso utilizar um conjunto de dados de um dia especifico, por isso motivo foi utilizado o conjunto de dados do dia X/X/X."
      ]
    },
    {
      "cell_type": "markdown",
      "metadata": {
        "colab_type": "text",
        "id": "kLsdV6uQQ0uz"
      },
      "source": [
        "### **Dicionario dos dados**"
      ]
    },
    {
      "cell_type": "markdown",
      "metadata": {
        "id": "tP4V7h-eZADl",
        "colab_type": "text"
      },
      "source": [
        "Algumas coisas precisam ser definidas para que a análise fique clara e todos possam entender, então:"
      ]
    },
    {
      "cell_type": "markdown",
      "metadata": {
        "id": "gPmir6JPOBUF",
        "colab_type": "text"
      },
      "source": [
        "O Spotify disponibiliza a popularidade de uma faixa, então obviamente usaremos a popularidade da faixa como uma de nossas variaveis para análise, mas como é feito o cálculo da populariade?. O cálculo da popularidade é feito pelo número de ouvintes daquela música e que na API é definida assim:\n",
        "\n",
        "*Popularidade da faixa: O valor estará entre 0 e 100, sendo 100 o mais popular. A popularidade é calculada e baseia-se na maior parte no número total de reproduções que a faixa teve e quão recentes foram estas reproduções. Logo, as músicas que estão sendo tocadas com uma maior frequência atualmente terão uma popularidade maior do que as músicas que foram muito tocadas no passado.*\n",
        "\n",
        "Lembre-se disso, vai ser muito importante pra nossa análise."
      ]
    },
    {
      "cell_type": "markdown",
      "metadata": {
        "id": "ephkEsEwJD97",
        "colab_type": "text"
      },
      "source": [
        "O albúm Trap From Future é o único que de fato se trata de um albúm do artista NexoAnexo, sendo o seu primeiro e que foi lançado nesse ano de 2020. Real Plug Mixtape e Trap de Cria Mixtape são como o próprio nome diz \"mixtapes\", porém, no spotify as duas mixtapes são consideras como albúm, logo, iremos levar suas músicas como consideração para a análise."
      ]
    },
    {
      "cell_type": "markdown",
      "metadata": {
        "colab_type": "text",
        "id": "lbhCoC9tQ2hc"
      },
      "source": [
        "\n",
        "\n",
        "**Informações sobre as variáveis**\n"
      ]
    },
    {
      "cell_type": "markdown",
      "metadata": {
        "id": "zVYytj0yWVZf",
        "colab_type": "text"
      },
      "source": [
        "É importante saber o que cada variável (coluna) significa e a importância delas para o conjunto de dados, para ter um entendimento inicial dos dados. Se o conjunto de dados for da web, normalmente deve ter allguma descrição no site, caso seja um conjunto de dados da empresa, é importante conversar com o pessoal da área de negocios, que normalmente são os que tem um maior entendimento do conjunto de dados. Também não pode ficar de fora uma conversa com alguém especialista no assunto que envolve o conjunto de dados, tendo em vista que é preciso além de entender os dados, entender o meio em que os dados estão envolvidos, para se construir hipoteses e tirar conclusões. \n",
        "\n",
        "Como eu mesmo fui o responsável por coletar esse conjunto de dados, não encontrei nenhuma informação disponivel sobre as variaveis, porém, o meu entendimento como usuario do spotify foi util o bastante para entender e criar hipoteses sobre o conjunto de dados, além de conhecer, entender e acompanhar as músicas do artista NexoAnexo.\n",
        "\n",
        "* album = Nome do albúm\n",
        "* album_type = Música ou Albúm (Como os dados coletados foram apenas dos álbuns, o tipo sempre será albúm)\n",
        "* track_number = Posição da música no albúm\n",
        "* id_track = ID da música no Spotify\n",
        "* name = Nome da música\n",
        "* popularity = Popularidade da música\n",
        "* explicit = A música é explicita ou não\n",
        "* duration_ms  = Duração da música\n",
        "* release_date = Data de Lançamento da música\n",
        "* artists = Nome do artista responsavel pela música\n"
      ]
    },
    {
      "cell_type": "markdown",
      "metadata": {
        "id": "MPiYzdcTe76V",
        "colab_type": "text"
      },
      "source": [
        "### **Importar os pacotes e datasets necessário**\n",
        "\n"
      ]
    },
    {
      "cell_type": "markdown",
      "metadata": {
        "id": "EkIuPsuTe6cQ",
        "colab_type": "text"
      },
      "source": [
        "As bibliotecas que foram utilizadas são as bibliotecas consideradas essenciais para uma análise de dados, sendo Pandas a principal delas, tendo em vista a necessidade de manipular e analisar os dados."
      ]
    },
    {
      "cell_type": "code",
      "metadata": {
        "id": "wWAnGIM2fLh7",
        "colab_type": "code",
        "colab": {}
      },
      "source": [
        "#importar os pacotes necessarios\n",
        "import pandas as pd \n",
        "import matplotlib.pyplot as plt \n",
        "import seaborn as sns \n",
        "from xgboost import XGBClassifier\n",
        "from sklearn.model_selection import train_test_split\n",
        "from sklearn.metrics import accuracy_score\n",
        "from sklearn.metrics import mean_squared_error\n",
        "from sklearn.impute import SimpleImputer\n",
        "\n",
        "#Configurar o notebook\n",
        "sns.set_style('whitegrid');\n",
        "\n",
        "#Alterando estilo do matplolib\n",
        "plt.style.use('ggplot')"
      ],
      "execution_count": 123,
      "outputs": []
    },
    {
      "cell_type": "markdown",
      "metadata": {
        "colab_type": "text",
        "id": "n0wGbE_8Qeqj"
      },
      "source": [
        "### **Leitura do arquivo**"
      ]
    },
    {
      "cell_type": "markdown",
      "metadata": {
        "colab_type": "text",
        "id": "xvYxtUo6Qip4"
      },
      "source": [
        "Antes de tudo, deve ser feita uma leitura do arquivo que será utilizado, retirando algumas informações básicas, como: \"Como os dados estão separados?\", \"Qual o tamanho do arquivo\", \"Quantos registros possuem?\", \"Vai demorar para o Google colab ler o arquivo?\". Essas perguntas são importantes para quando necessario importar o conjunto de dados com o Pandas."
      ]
    },
    {
      "cell_type": "markdown",
      "metadata": {
        "id": "9jDRntFFlJR9",
        "colab_type": "text"
      },
      "source": [
        "Abrindo o arquivo NexoAnexo.csv, obviamente, foi possivel identificar que se trata de um arquivo no formato CSV, os dados estão separados por \",\" e o conjunto possue 34 linhas, ou seja, se trata de um conjunto de dados pequeno e o Google colab não terá muitos problemas para ler o arquivo."
      ]
    },
    {
      "cell_type": "code",
      "metadata": {
        "colab_type": "code",
        "id": "0JCvsNNRQgyB",
        "colab": {}
      },
      "source": [
        "#Importando o conjunto de dados NexoAnexo\n",
        "df = pd.read_csv('https://raw.githubusercontent.com/luislauriano/Data_Science/master/Datasets/NexoAnexo%20(1).csv', sep=',')"
      ],
      "execution_count": 124,
      "outputs": []
    },
    {
      "cell_type": "markdown",
      "metadata": {
        "id": "47JXslAYOP5I",
        "colab_type": "text"
      },
      "source": [
        "Em alguns casos reais, onde é trabalhado com conjuntos de dados maiores e conseguentemente mais pesados, essa etapa de importar os dados pode ser mais trabalhosa, por exigir outros parametros, como header, skiprows, skipfooter, delimiter e entre outros, para que a importação do conjunto de dados ocorra."
      ]
    },
    {
      "cell_type": "markdown",
      "metadata": {
        "id": "hP26RkCiGMJS",
        "colab_type": "text"
      },
      "source": [
        "Como antes mesmo de importar o conjunto de dados, foi feita uma leitura, eu sei que o conjunto de dados possue 33 linhas, porém, será que a leitura dos dados foi corretamente? Então o primeiro entendimento dos dados será quantas linhas e colunas o conjunto de dados possue."
      ]
    },
    {
      "cell_type": "code",
      "metadata": {
        "id": "reZ7UBugg9PW",
        "colab_type": "code",
        "colab": {
          "base_uri": "https://localhost:8080/",
          "height": 51
        },
        "outputId": "97922495-8773-4718-8ea6-67fb7d5dfff7"
      },
      "source": [
        "#Numero de linhas e colunas\n",
        "print(f'Número de linhas ou variaveis {df.shape[0]}')\n",
        "print(f'Número de entradas ou colunas {df.shape[1]}')"
      ],
      "execution_count": 125,
      "outputs": [
        {
          "output_type": "stream",
          "text": [
            "Número de linhas ou variaveis 33\n",
            "Número de entradas ou colunas 10\n"
          ],
          "name": "stdout"
        }
      ]
    },
    {
      "cell_type": "markdown",
      "metadata": {
        "id": "eBrGm408haVg",
        "colab_type": "text"
      },
      "source": [
        "Se observado, a leitura dos dados foi feita de maneira correta e agora sabemos que o conjunto de dados possue 33 linhas ou variaveis e 10 entradas ou colunas. Por mais que pareça algo simples e insignificante, essas informações dão uma noção e entendimento importante para as proximas etapas, como a etapa de deletar colunas ou dados que não serão usados na análise."
      ]
    },
    {
      "cell_type": "markdown",
      "metadata": {
        "id": "ydNaZxF9gU57",
        "colab_type": "text"
      },
      "source": [
        "## **Limpeza e preparação dos dados**"
      ]
    },
    {
      "cell_type": "markdown",
      "metadata": {
        "id": "n2maxVPOmDkd",
        "colab_type": "text"
      },
      "source": [
        "A etapa de pre-processamento dos dados ou limpeza e preparação dos dados é uma das mais importantes de todo projeto de Data Science ou Machine Learning. Nessa etapa, os dados precisam ser manipulados e tratados, sendo a biblioteca Pandas a principal por desempenhar esse papel. A etapa se dá de forma continua, podendo acontecer durante todo o projeto e não apenas em sua fase especifica, também é a etapa que mais demanda tempo do cientista ou analista de dados, \"será que a demanda maior de tempo seja por se tratar da mais importante?\". O pre-processamento de dados envolve muito tratamento dos dados e nem tudo será visto nesse projeto. \n"
      ]
    },
    {
      "cell_type": "markdown",
      "metadata": {
        "id": "QJEKaoLlC5zd",
        "colab_type": "text"
      },
      "source": [
        "A limpeza e manipulação dos dados nesse projeto pode parecer algo muito simples e que inicialmente não tem significado, porém, nos casos reais os dados dificilmente virão tratados, limpos e organizados. Por isso, tanto se fala que essa etapa é a etapa que mais se demanda tempo. Sendo a responsável por fazer uma amostra limpa dos dados, para que assim os dados possam ser utilizados em etapas futuras, como na analise exploratoria dos dados, onde os dados precisam estar limpos e organizados para ganharem significados."
      ]
    },
    {
      "cell_type": "markdown",
      "metadata": {
        "id": "aYOTeGNqkBK9",
        "colab_type": "text"
      },
      "source": [
        "A biblioteca Pandas além de ser a principal biblioteca do Python para se manipular e tratar os dados, como será visto na etapa de pré-processamento dos dados. Também é a melhor biblioteca do Python para analisar os dados e por isso grande parte do projeto foi realizado com o uso do Pandas, tendo em vista que o objetivo do projeto é justamente analisar os dados do spotify do artista NexoAnexo. Algumas das atividades que fazem da biblioteca Pandas tão util para manipulação e analise de dados, são: \n",
        "\n",
        "* Objeto DataFrame para manipulação de dados com indexação integrada.\n",
        "* Ferramentas para ler e gravar dados entre estruturas de dados na memória e diferentes formatos de arquivo.\n",
        "* Alinhamento de dados e tratamento integrado de dados ausentes.\n",
        "* Remodelagem e dinamização de conjuntos de dados.\n",
        "* Inserção e exclusão de colunas de estrutura de dados.\n",
        "* Grupo por mecanismo, permitindo operações dividir-aplicar-combinar em conjuntos de dados.\n",
        "* Combinação e junção de conjuntos de dados.\n"
      ]
    },
    {
      "cell_type": "markdown",
      "metadata": {
        "id": "7MMfY8HQmGA_",
        "colab_type": "text"
      },
      "source": [
        "### **Deletando colunas**"
      ]
    },
    {
      "cell_type": "markdown",
      "metadata": {
        "id": "q1wqNFGDEhVA",
        "colab_type": "text"
      },
      "source": [
        "A primeira etapa que sempre costumo realizar no pré-processamento de dados é a de deletar os dados, ou melhor, deletar as colunas. Dependendo do seu tamanho, um conjunto de dados em muito dos casos possuem colunas que não são uteis para o objetivo do projeto, até mesmo mais de dez colunas que estão ali apenas ocupando um espaço. Consequentemente, os dados dessas colunas só estão ocupando espaço de memoria e dificultando a análise dos dados."
      ]
    },
    {
      "cell_type": "code",
      "metadata": {
        "id": "E-5i2AIKRsMc",
        "colab_type": "code",
        "colab": {
          "base_uri": "https://localhost:8080/",
          "height": 68
        },
        "outputId": "982fab41-2da7-4543-cc28-94d417a853e1"
      },
      "source": [
        "#As colunas que pertencem ao conjunto de dados\n",
        "df.columns"
      ],
      "execution_count": 126,
      "outputs": [
        {
          "output_type": "execute_result",
          "data": {
            "text/plain": [
              "Index(['album', 'album_type', 'track_number', 'id_track', 'name', 'popularity',\n",
              "       'explicit', 'duration_ms', 'release_date', 'artists'],\n",
              "      dtype='object')"
            ]
          },
          "metadata": {
            "tags": []
          },
          "execution_count": 126
        }
      ]
    },
    {
      "cell_type": "markdown",
      "metadata": {
        "id": "zqH6vhn7md6l",
        "colab_type": "text"
      },
      "source": [
        "O conjunto de dados dos albums retirado do spotify do artista contém colunas que não são uteis para o objetivo do projeto. Colunas como duração da música e se a música é explicita ou não, que não são uteis o projeto, porém seriam interessantes se o objetivo do projeto fosse criar um modelo de Machine Learning. Outras colunas como id da música, data de lançamento e artistas que comporão, também serão deletadas."
      ]
    },
    {
      "cell_type": "markdown",
      "metadata": {
        "id": "k9X--LqvJnEw",
        "colab_type": "text"
      },
      "source": [
        "Antes de deletar as colunas, mesmo que tenha sido feita uma leitura do arquivo antes do mesmo ser importado para a análise, é importante que novamente se avalie como os dados estão se comportando, quais são as primeiras e ultimas linhas do conjunto de dados e como cada coluna está representada. Perguntas como essas são importante por começarem a dar um entendimento e informação sobre o conjunto de dados e se chegar na análise exploratoria já com boas ideias de hipoteses.  "
      ]
    },
    {
      "cell_type": "code",
      "metadata": {
        "id": "IODXmrT6lkw4",
        "colab_type": "code",
        "colab": {
          "base_uri": "https://localhost:8080/",
          "height": 204
        },
        "outputId": "1893c6d0-53f8-41f9-f319-5f3d4aecf76b"
      },
      "source": [
        "#As 5 primeiras linhas do conjunto de dados\n",
        "df.head()"
      ],
      "execution_count": 127,
      "outputs": [
        {
          "output_type": "execute_result",
          "data": {
            "text/html": [
              "<div>\n",
              "<style scoped>\n",
              "    .dataframe tbody tr th:only-of-type {\n",
              "        vertical-align: middle;\n",
              "    }\n",
              "\n",
              "    .dataframe tbody tr th {\n",
              "        vertical-align: top;\n",
              "    }\n",
              "\n",
              "    .dataframe thead th {\n",
              "        text-align: right;\n",
              "    }\n",
              "</style>\n",
              "<table border=\"1\" class=\"dataframe\">\n",
              "  <thead>\n",
              "    <tr style=\"text-align: right;\">\n",
              "      <th></th>\n",
              "      <th>album</th>\n",
              "      <th>album_type</th>\n",
              "      <th>track_number</th>\n",
              "      <th>id_track</th>\n",
              "      <th>name</th>\n",
              "      <th>popularity</th>\n",
              "      <th>explicit</th>\n",
              "      <th>duration_ms</th>\n",
              "      <th>release_date</th>\n",
              "      <th>artists</th>\n",
              "    </tr>\n",
              "  </thead>\n",
              "  <tbody>\n",
              "    <tr>\n",
              "      <th>0</th>\n",
              "      <td>Trap from Future</td>\n",
              "      <td>album</td>\n",
              "      <td>1</td>\n",
              "      <td>6Mx214YlNnbj7un9PrvmGi</td>\n",
              "      <td>Vem No Tum Tum</td>\n",
              "      <td>17</td>\n",
              "      <td>True</td>\n",
              "      <td>216917</td>\n",
              "      <td>2020-03-13</td>\n",
              "      <td>['NexoAnexo']</td>\n",
              "    </tr>\n",
              "    <tr>\n",
              "      <th>1</th>\n",
              "      <td>Trap from Future</td>\n",
              "      <td>album</td>\n",
              "      <td>2</td>\n",
              "      <td>1xOs8YJkkKm5HhRiP1ha4g</td>\n",
              "      <td>Drip Know Me</td>\n",
              "      <td>3</td>\n",
              "      <td>True</td>\n",
              "      <td>154646</td>\n",
              "      <td>2020-03-13</td>\n",
              "      <td>['NexoAnexo', 'Drippy Kid Jay']</td>\n",
              "    </tr>\n",
              "    <tr>\n",
              "      <th>2</th>\n",
              "      <td>Trap from Future</td>\n",
              "      <td>album</td>\n",
              "      <td>3</td>\n",
              "      <td>4s4G0Z6mSkrauIvBXRlVHk</td>\n",
              "      <td>Match</td>\n",
              "      <td>4</td>\n",
              "      <td>True</td>\n",
              "      <td>180716</td>\n",
              "      <td>2020-03-13</td>\n",
              "      <td>['NexoAnexo']</td>\n",
              "    </tr>\n",
              "    <tr>\n",
              "      <th>3</th>\n",
              "      <td>Trap from Future</td>\n",
              "      <td>album</td>\n",
              "      <td>4</td>\n",
              "      <td>5C1iQCV3xuc0oHQpe7fhhQ</td>\n",
              "      <td>Trap &amp; Brega</td>\n",
              "      <td>6</td>\n",
              "      <td>True</td>\n",
              "      <td>164468</td>\n",
              "      <td>2020-03-13</td>\n",
              "      <td>['NexoAnexo']</td>\n",
              "    </tr>\n",
              "    <tr>\n",
              "      <th>4</th>\n",
              "      <td>Trap from Future</td>\n",
              "      <td>album</td>\n",
              "      <td>5</td>\n",
              "      <td>3H2TfCpxaSfEh5nVbcDzrp</td>\n",
              "      <td>Marca Sem Roupa</td>\n",
              "      <td>6</td>\n",
              "      <td>True</td>\n",
              "      <td>148364</td>\n",
              "      <td>2020-03-13</td>\n",
              "      <td>['NexoAnexo', 'Victor KR']</td>\n",
              "    </tr>\n",
              "  </tbody>\n",
              "</table>\n",
              "</div>"
            ],
            "text/plain": [
              "              album album_type  ...  release_date                          artists\n",
              "0  Trap from Future      album  ...    2020-03-13                    ['NexoAnexo']\n",
              "1  Trap from Future      album  ...    2020-03-13  ['NexoAnexo', 'Drippy Kid Jay']\n",
              "2  Trap from Future      album  ...    2020-03-13                    ['NexoAnexo']\n",
              "3  Trap from Future      album  ...    2020-03-13                    ['NexoAnexo']\n",
              "4  Trap from Future      album  ...    2020-03-13       ['NexoAnexo', 'Victor KR']\n",
              "\n",
              "[5 rows x 10 columns]"
            ]
          },
          "metadata": {
            "tags": []
          },
          "execution_count": 127
        }
      ]
    },
    {
      "cell_type": "code",
      "metadata": {
        "id": "roPaNbkqL3Fx",
        "colab_type": "code",
        "colab": {
          "base_uri": "https://localhost:8080/",
          "height": 204
        },
        "outputId": "15bdf0df-f169-4581-a0ea-05136a1b2463"
      },
      "source": [
        "#As 5 últimas linhas\n",
        "df.tail()"
      ],
      "execution_count": 128,
      "outputs": [
        {
          "output_type": "execute_result",
          "data": {
            "text/html": [
              "<div>\n",
              "<style scoped>\n",
              "    .dataframe tbody tr th:only-of-type {\n",
              "        vertical-align: middle;\n",
              "    }\n",
              "\n",
              "    .dataframe tbody tr th {\n",
              "        vertical-align: top;\n",
              "    }\n",
              "\n",
              "    .dataframe thead th {\n",
              "        text-align: right;\n",
              "    }\n",
              "</style>\n",
              "<table border=\"1\" class=\"dataframe\">\n",
              "  <thead>\n",
              "    <tr style=\"text-align: right;\">\n",
              "      <th></th>\n",
              "      <th>album</th>\n",
              "      <th>album_type</th>\n",
              "      <th>track_number</th>\n",
              "      <th>id_track</th>\n",
              "      <th>name</th>\n",
              "      <th>popularity</th>\n",
              "      <th>explicit</th>\n",
              "      <th>duration_ms</th>\n",
              "      <th>release_date</th>\n",
              "      <th>artists</th>\n",
              "    </tr>\n",
              "  </thead>\n",
              "  <tbody>\n",
              "    <tr>\n",
              "      <th>28</th>\n",
              "      <td>Real Plug Mixtape</td>\n",
              "      <td>album</td>\n",
              "      <td>4</td>\n",
              "      <td>6JM9oQxdsP9ZBr7MD0bjzf</td>\n",
              "      <td>Nxanx</td>\n",
              "      <td>0</td>\n",
              "      <td>True</td>\n",
              "      <td>167355</td>\n",
              "      <td>2018-05-15</td>\n",
              "      <td>['NexoAnexo', 'Guimael']</td>\n",
              "    </tr>\n",
              "    <tr>\n",
              "      <th>29</th>\n",
              "      <td>Real Plug Mixtape</td>\n",
              "      <td>album</td>\n",
              "      <td>5</td>\n",
              "      <td>2JlPpGTj9MuKjLRD27DXwH</td>\n",
              "      <td>Tudo</td>\n",
              "      <td>0</td>\n",
              "      <td>True</td>\n",
              "      <td>161403</td>\n",
              "      <td>2018-05-15</td>\n",
              "      <td>['NexoAnexo', 'TheKickBoy']</td>\n",
              "    </tr>\n",
              "    <tr>\n",
              "      <th>30</th>\n",
              "      <td>Real Plug Mixtape</td>\n",
              "      <td>album</td>\n",
              "      <td>6</td>\n",
              "      <td>1dHrNfJgczkxDCOBtiGJkv</td>\n",
              "      <td>A Lei</td>\n",
              "      <td>0</td>\n",
              "      <td>True</td>\n",
              "      <td>134274</td>\n",
              "      <td>2018-05-15</td>\n",
              "      <td>['NexoAnexo', 'LC']</td>\n",
              "    </tr>\n",
              "    <tr>\n",
              "      <th>31</th>\n",
              "      <td>Real Plug Mixtape</td>\n",
              "      <td>album</td>\n",
              "      <td>7</td>\n",
              "      <td>4rDhvolZebPhxzs8wPq802</td>\n",
              "      <td>Dreams Cup</td>\n",
              "      <td>0</td>\n",
              "      <td>True</td>\n",
              "      <td>230822</td>\n",
              "      <td>2018-05-15</td>\n",
              "      <td>['NexoAnexo', '$ketchBoyBeat$']</td>\n",
              "    </tr>\n",
              "    <tr>\n",
              "      <th>32</th>\n",
              "      <td>Real Plug Mixtape</td>\n",
              "      <td>album</td>\n",
              "      <td>8</td>\n",
              "      <td>21hFSC02UuBc4NfHv10J8O</td>\n",
              "      <td>2020</td>\n",
              "      <td>4</td>\n",
              "      <td>True</td>\n",
              "      <td>154298</td>\n",
              "      <td>2018-05-15</td>\n",
              "      <td>['NexoAnexo']</td>\n",
              "    </tr>\n",
              "  </tbody>\n",
              "</table>\n",
              "</div>"
            ],
            "text/plain": [
              "                album album_type  ...  release_date                          artists\n",
              "28  Real Plug Mixtape      album  ...    2018-05-15         ['NexoAnexo', 'Guimael']\n",
              "29  Real Plug Mixtape      album  ...    2018-05-15      ['NexoAnexo', 'TheKickBoy']\n",
              "30  Real Plug Mixtape      album  ...    2018-05-15              ['NexoAnexo', 'LC']\n",
              "31  Real Plug Mixtape      album  ...    2018-05-15  ['NexoAnexo', '$ketchBoyBeat$']\n",
              "32  Real Plug Mixtape      album  ...    2018-05-15                    ['NexoAnexo']\n",
              "\n",
              "[5 rows x 10 columns]"
            ]
          },
          "metadata": {
            "tags": []
          },
          "execution_count": 128
        }
      ]
    },
    {
      "cell_type": "code",
      "metadata": {
        "id": "o_eD2QpUL8Gb",
        "colab_type": "code",
        "colab": {
          "base_uri": "https://localhost:8080/",
          "height": 204
        },
        "outputId": "c75a2b15-6dbe-42da-9d70-8bc24ab3019b"
      },
      "source": [
        "#Uma amostra de 5 registros (linhas) dos dados\n",
        "df.sample(5)"
      ],
      "execution_count": 129,
      "outputs": [
        {
          "output_type": "execute_result",
          "data": {
            "text/html": [
              "<div>\n",
              "<style scoped>\n",
              "    .dataframe tbody tr th:only-of-type {\n",
              "        vertical-align: middle;\n",
              "    }\n",
              "\n",
              "    .dataframe tbody tr th {\n",
              "        vertical-align: top;\n",
              "    }\n",
              "\n",
              "    .dataframe thead th {\n",
              "        text-align: right;\n",
              "    }\n",
              "</style>\n",
              "<table border=\"1\" class=\"dataframe\">\n",
              "  <thead>\n",
              "    <tr style=\"text-align: right;\">\n",
              "      <th></th>\n",
              "      <th>album</th>\n",
              "      <th>album_type</th>\n",
              "      <th>track_number</th>\n",
              "      <th>id_track</th>\n",
              "      <th>name</th>\n",
              "      <th>popularity</th>\n",
              "      <th>explicit</th>\n",
              "      <th>duration_ms</th>\n",
              "      <th>release_date</th>\n",
              "      <th>artists</th>\n",
              "    </tr>\n",
              "  </thead>\n",
              "  <tbody>\n",
              "    <tr>\n",
              "      <th>5</th>\n",
              "      <td>Trap from Future</td>\n",
              "      <td>album</td>\n",
              "      <td>6</td>\n",
              "      <td>0obGglfLwWBXRa8chTF2wW</td>\n",
              "      <td>Wow!</td>\n",
              "      <td>3</td>\n",
              "      <td>True</td>\n",
              "      <td>145675</td>\n",
              "      <td>2020-03-13</td>\n",
              "      <td>['NexoAnexo']</td>\n",
              "    </tr>\n",
              "    <tr>\n",
              "      <th>1</th>\n",
              "      <td>Trap from Future</td>\n",
              "      <td>album</td>\n",
              "      <td>2</td>\n",
              "      <td>1xOs8YJkkKm5HhRiP1ha4g</td>\n",
              "      <td>Drip Know Me</td>\n",
              "      <td>3</td>\n",
              "      <td>True</td>\n",
              "      <td>154646</td>\n",
              "      <td>2020-03-13</td>\n",
              "      <td>['NexoAnexo', 'Drippy Kid Jay']</td>\n",
              "    </tr>\n",
              "    <tr>\n",
              "      <th>13</th>\n",
              "      <td>Trap from Future</td>\n",
              "      <td>album</td>\n",
              "      <td>14</td>\n",
              "      <td>5aTZgS07v6N3ad4kykhDmU</td>\n",
              "      <td>Zombieland</td>\n",
              "      <td>1</td>\n",
              "      <td>True</td>\n",
              "      <td>190357</td>\n",
              "      <td>2020-03-13</td>\n",
              "      <td>['NexoAnexo']</td>\n",
              "    </tr>\n",
              "    <tr>\n",
              "      <th>26</th>\n",
              "      <td>Real Plug Mixtape</td>\n",
              "      <td>album</td>\n",
              "      <td>2</td>\n",
              "      <td>1rJOxl2UFAVnbhCWfKZT2b</td>\n",
              "      <td>Fica Bem</td>\n",
              "      <td>0</td>\n",
              "      <td>True</td>\n",
              "      <td>130134</td>\n",
              "      <td>2018-05-15</td>\n",
              "      <td>['NexoAnexo', 'Guimael']</td>\n",
              "    </tr>\n",
              "    <tr>\n",
              "      <th>14</th>\n",
              "      <td>Trap from Future</td>\n",
              "      <td>album</td>\n",
              "      <td>15</td>\n",
              "      <td>6995EcL1GtkmeDXf69pzdJ</td>\n",
              "      <td>Baila Comigo?</td>\n",
              "      <td>2</td>\n",
              "      <td>True</td>\n",
              "      <td>192530</td>\n",
              "      <td>2020-03-13</td>\n",
              "      <td>['NexoAnexo', 'Prodbygrillo']</td>\n",
              "    </tr>\n",
              "  </tbody>\n",
              "</table>\n",
              "</div>"
            ],
            "text/plain": [
              "                album album_type  ...  release_date                          artists\n",
              "5    Trap from Future      album  ...    2020-03-13                    ['NexoAnexo']\n",
              "1    Trap from Future      album  ...    2020-03-13  ['NexoAnexo', 'Drippy Kid Jay']\n",
              "13   Trap from Future      album  ...    2020-03-13                    ['NexoAnexo']\n",
              "26  Real Plug Mixtape      album  ...    2018-05-15         ['NexoAnexo', 'Guimael']\n",
              "14   Trap from Future      album  ...    2020-03-13    ['NexoAnexo', 'Prodbygrillo']\n",
              "\n",
              "[5 rows x 10 columns]"
            ]
          },
          "metadata": {
            "tags": []
          },
          "execution_count": 129
        }
      ]
    },
    {
      "cell_type": "markdown",
      "metadata": {
        "id": "1I2y4QQBzoyc",
        "colab_type": "text"
      },
      "source": [
        "O Pandas é uma biblioteca que suas ações em sua maioria podem ser realizadas de diversas formas, ou seja, pode ser utilizado mais de um método ou atributo para realizar algo. Logo, é importante que sejam mantidas boas práticas ao usar a biblioteca. Um exemplo é que para deletar as colunas, poderia ser utilizado o método drop() ou o método copy(). Veja:\n",
        "\n",
        "* df = df.drop([‘coluna1’, 'coluna2', 'coluna3'], axis = ‘columns’)\n",
        "\n",
        "Dessa forma, as colunas são deletadas permanentemente do conjunto de dados e posteriormente, se necessario, eu não consegueria trabalhar com as colunas."
      ]
    },
    {
      "cell_type": "markdown",
      "metadata": {
        "id": "g4wtDZMUOsBY",
        "colab_type": "text"
      },
      "source": [
        "Por isso, a forma que considero melhor de se deletar as colunas é após ter sido feita uma análise de quais colunas são importantes para o objetivo do projeto. Selecionar as colunas que se deseja utilizar com CTRL + C através do atributo **df.columns** e posteriormente passar um array com os nomes das colunas que desejamos e na ordem desejada, através do método **.copy()**. Assim, as outras colunas serão omitidas e não deletadas. "
      ]
    },
    {
      "cell_type": "code",
      "metadata": {
        "id": "SE6MXvnMQyFH",
        "colab_type": "code",
        "colab": {
          "base_uri": "https://localhost:8080/",
          "height": 68
        },
        "outputId": "3b63923a-82d8-48fc-8f0b-0b244cbb0815"
      },
      "source": [
        "#Selecionando as colunas com CTRL + C\n",
        "df.columns"
      ],
      "execution_count": 130,
      "outputs": [
        {
          "output_type": "execute_result",
          "data": {
            "text/plain": [
              "Index(['album', 'album_type', 'track_number', 'id_track', 'name', 'popularity',\n",
              "       'explicit', 'duration_ms', 'release_date', 'artists'],\n",
              "      dtype='object')"
            ]
          },
          "metadata": {
            "tags": []
          },
          "execution_count": 130
        }
      ]
    },
    {
      "cell_type": "markdown",
      "metadata": {
        "id": "U1JydCMRPEEA",
        "colab_type": "text"
      },
      "source": [
        "Dessa forma, consigo ter uma visão de todas as minhas colunas e selecionar as que desejo, para passar seus nomes no array e criar um novo dataframe, com novas colunas."
      ]
    },
    {
      "cell_type": "code",
      "metadata": {
        "id": "PMrnYIKdoPiq",
        "colab_type": "code",
        "colab": {}
      },
      "source": [
        "#Novo dataframe \n",
        "df = df[['album', 'name', 'track_number', 'popularity', 'duration_ms']].copy()"
      ],
      "execution_count": 131,
      "outputs": []
    },
    {
      "cell_type": "markdown",
      "metadata": {
        "id": "hqG5L9zkw4tJ",
        "colab_type": "text"
      },
      "source": [
        "Deletando as colunas dessa maneira eu consigo escolher uma nova ordem para as colunas, além de não delatar proprimamente as outras colunas que foram descartadas, por não ser útil para o projeto."
      ]
    },
    {
      "cell_type": "code",
      "metadata": {
        "id": "6aean52MxJ6N",
        "colab_type": "code",
        "colab": {
          "base_uri": "https://localhost:8080/",
          "height": 34
        },
        "outputId": "ab3a020d-f984-41c5-cea7-8dfcfbc128ba"
      },
      "source": [
        "#Novas colunas\n",
        "df.columns"
      ],
      "execution_count": 132,
      "outputs": [
        {
          "output_type": "execute_result",
          "data": {
            "text/plain": [
              "Index(['album', 'name', 'track_number', 'popularity', 'duration_ms'], dtype='object')"
            ]
          },
          "metadata": {
            "tags": []
          },
          "execution_count": 132
        }
      ]
    },
    {
      "cell_type": "markdown",
      "metadata": {
        "id": "NOxPPZyTGqt2",
        "colab_type": "text"
      },
      "source": [
        "### **Renomeando colunas**"
      ]
    },
    {
      "cell_type": "markdown",
      "metadata": {
        "id": "ZjXmrXX1GA3S",
        "colab_type": "text"
      },
      "source": [
        "Como já dito anteriormente, um dataset dificilmente irá vim organizado e limpo, sendo um dos principais problemas ao receber um dataset que não seja da internet, onde em sua maioria os dados já vem organizados e sim um dataset de um caso real, é a forma incorreta de como os dados e variaveis estão registrados no dataset. Sendo  necessário fazer toda manipulação dos dados, engenharia de recursos, renomeação de variáveis e etc... Apesar dos dados do dataset que estou utilizando não apresentar muito desses problemas, as colunas além de estarem em inglês, seu nome não deixa claro do que se trata a coluna. Por esses motivos, é interessante sempre manter o nome das colunas de forma que remeta claramente do que se trata a coluna, para que futuramente tenha facilidade quando for necessario usar a coluna para fazer alguma análise."
      ]
    },
    {
      "cell_type": "code",
      "metadata": {
        "id": "mw2hPLQLxQt5",
        "colab_type": "code",
        "colab": {}
      },
      "source": [
        "#Renomeando as colunas\n",
        "df.columns = ['nome_do_album', 'nome_da_faixa',  'posicao_da_faixa', 'popularidade', 'duraçao_da_musica']"
      ],
      "execution_count": 133,
      "outputs": []
    },
    {
      "cell_type": "code",
      "metadata": {
        "id": "pVsXRAxmyTvE",
        "colab_type": "code",
        "colab": {
          "base_uri": "https://localhost:8080/",
          "height": 142
        },
        "outputId": "10c63568-c0d0-46b3-e58b-3820956fdd57"
      },
      "source": [
        "#As três primeiras linhas do dataset\n",
        "df.head(3)"
      ],
      "execution_count": 134,
      "outputs": [
        {
          "output_type": "execute_result",
          "data": {
            "text/html": [
              "<div>\n",
              "<style scoped>\n",
              "    .dataframe tbody tr th:only-of-type {\n",
              "        vertical-align: middle;\n",
              "    }\n",
              "\n",
              "    .dataframe tbody tr th {\n",
              "        vertical-align: top;\n",
              "    }\n",
              "\n",
              "    .dataframe thead th {\n",
              "        text-align: right;\n",
              "    }\n",
              "</style>\n",
              "<table border=\"1\" class=\"dataframe\">\n",
              "  <thead>\n",
              "    <tr style=\"text-align: right;\">\n",
              "      <th></th>\n",
              "      <th>nome_do_album</th>\n",
              "      <th>nome_da_faixa</th>\n",
              "      <th>posicao_da_faixa</th>\n",
              "      <th>popularidade</th>\n",
              "      <th>duraçao_da_musica</th>\n",
              "    </tr>\n",
              "  </thead>\n",
              "  <tbody>\n",
              "    <tr>\n",
              "      <th>0</th>\n",
              "      <td>Trap from Future</td>\n",
              "      <td>Vem No Tum Tum</td>\n",
              "      <td>1</td>\n",
              "      <td>17</td>\n",
              "      <td>216917</td>\n",
              "    </tr>\n",
              "    <tr>\n",
              "      <th>1</th>\n",
              "      <td>Trap from Future</td>\n",
              "      <td>Drip Know Me</td>\n",
              "      <td>2</td>\n",
              "      <td>3</td>\n",
              "      <td>154646</td>\n",
              "    </tr>\n",
              "    <tr>\n",
              "      <th>2</th>\n",
              "      <td>Trap from Future</td>\n",
              "      <td>Match</td>\n",
              "      <td>3</td>\n",
              "      <td>4</td>\n",
              "      <td>180716</td>\n",
              "    </tr>\n",
              "  </tbody>\n",
              "</table>\n",
              "</div>"
            ],
            "text/plain": [
              "      nome_do_album   nome_da_faixa  ...  popularidade  duraçao_da_musica\n",
              "0  Trap from Future  Vem No Tum Tum  ...            17             216917\n",
              "1  Trap from Future    Drip Know Me  ...             3             154646\n",
              "2  Trap from Future           Match  ...             4             180716\n",
              "\n",
              "[3 rows x 5 columns]"
            ]
          },
          "metadata": {
            "tags": []
          },
          "execution_count": 134
        }
      ]
    },
    {
      "cell_type": "markdown",
      "metadata": {
        "id": "Ov6bp8cK0X8W",
        "colab_type": "text"
      },
      "source": [
        "Com as colunas renomeadas, quando for necessario chamar o nome da coluna para realizar uma análise ou outra tarefa, ficará tudo mais fácil. Vale ressaltar que também é importante sempre manter o nome das colunas com letras minúsculas e se necessário separar, que seja com o _, para também facilitar as tarefas que serão realizadas posteriormente com as colunas."
      ]
    },
    {
      "cell_type": "markdown",
      "metadata": {
        "id": "tiko78ph0eEl",
        "colab_type": "text"
      },
      "source": [
        "### **Verificar dados ausentes**"
      ]
    },
    {
      "cell_type": "markdown",
      "metadata": {
        "id": "3QIb136y0lrF",
        "colab_type": "text"
      },
      "source": [
        "Os dados ausentes em sua maioria podem ocorrer devido a não-resposta, ou seja, nenhuma informação foi registrada para uma variável, sendo mais um dos problemas de sujeira que pode aparecer em um dataset, que assim como outros problemas da etapa de limpeza e preparação dos dados que aqui já foi dito, os dados ausentes precisam ser limpados e tratados, de modo que deixem de ser dados ausentes e passem a ganhar significado. Dessa forma, antes de limpar e tratar os dados ausentes, primeiro é preciso identificar se existe a presença de dados ausentes ou faltantes no dataset. "
      ]
    },
    {
      "cell_type": "markdown",
      "metadata": {
        "id": "fmqmwWGm2aam",
        "colab_type": "text"
      },
      "source": [
        "Para identificar a presença de dados ausentes, eu poderia ter usado o método isnull(), porém para sempre manter as boas práticas ao utilizar a biblioteca pandas, é interessante utilizar o método isna(), devido que o final \"na\" do método remete ao dropna e fillna, que são metodos que também trabalham de alguma forma com dados ausentes. "
      ]
    },
    {
      "cell_type": "code",
      "metadata": {
        "id": "UzBw8iC50k7Y",
        "colab_type": "code",
        "colab": {
          "base_uri": "https://localhost:8080/",
          "height": 119
        },
        "outputId": "1768b9f9-aa3f-4a20-d33b-2e815a3a99db"
      },
      "source": [
        "#Identificando a presença de dados ausentes\n",
        "df.isna().sum()"
      ],
      "execution_count": 135,
      "outputs": [
        {
          "output_type": "execute_result",
          "data": {
            "text/plain": [
              "nome_do_album        0\n",
              "nome_da_faixa        0\n",
              "posicao_da_faixa     0\n",
              "popularidade         0\n",
              "duraçao_da_musica    0\n",
              "dtype: int64"
            ]
          },
          "metadata": {
            "tags": []
          },
          "execution_count": 135
        }
      ]
    },
    {
      "cell_type": "markdown",
      "metadata": {
        "id": "a1PqLMmtQgQ0",
        "colab_type": "text"
      },
      "source": [
        "O dataset do artista NexoAnexo que foi retirado do spotify não possui dados ausentes, porém, muita das vezes uma coluna pode ter o registro de dados e os dados ainda assim serem dados ausentes (ocultos), ou seja, é informado pelo método que o conjunto de dados não possui valores ausentes ou nulos, por todos os dados estarem registrados, entranto, esse registro de dados não tem valor significativo e os dados não passam nenhuma informação util. Casos como esse de dados ausentes ocultos, acontece em sua maioria quando quem coleta os dados e constroi o dataset não  tem o valor ou informação exata e faz o registro de dados com um valor qualquer, como 0."
      ]
    },
    {
      "cell_type": "markdown",
      "metadata": {
        "id": "Zyk_uhF52w6_",
        "colab_type": "text"
      },
      "source": [
        "A melhor solução para casos como esse é analisar com calma os primeiros, ultimos e amostras aleatórias dos registros, averiguando se os dados realmente passam alguma informação e significado, já que não temos dados ausentes."
      ]
    },
    {
      "cell_type": "code",
      "metadata": {
        "id": "FxLO7mHY2v_U",
        "colab_type": "code",
        "colab": {
          "base_uri": "https://localhost:8080/",
          "height": 359
        },
        "outputId": "093fbdc4-148e-4aa7-cd13-9f2fa3e33610"
      },
      "source": [
        "#Os 10 primeiros registros\n",
        "df.head(10)"
      ],
      "execution_count": 136,
      "outputs": [
        {
          "output_type": "execute_result",
          "data": {
            "text/html": [
              "<div>\n",
              "<style scoped>\n",
              "    .dataframe tbody tr th:only-of-type {\n",
              "        vertical-align: middle;\n",
              "    }\n",
              "\n",
              "    .dataframe tbody tr th {\n",
              "        vertical-align: top;\n",
              "    }\n",
              "\n",
              "    .dataframe thead th {\n",
              "        text-align: right;\n",
              "    }\n",
              "</style>\n",
              "<table border=\"1\" class=\"dataframe\">\n",
              "  <thead>\n",
              "    <tr style=\"text-align: right;\">\n",
              "      <th></th>\n",
              "      <th>nome_do_album</th>\n",
              "      <th>nome_da_faixa</th>\n",
              "      <th>posicao_da_faixa</th>\n",
              "      <th>popularidade</th>\n",
              "      <th>duraçao_da_musica</th>\n",
              "    </tr>\n",
              "  </thead>\n",
              "  <tbody>\n",
              "    <tr>\n",
              "      <th>0</th>\n",
              "      <td>Trap from Future</td>\n",
              "      <td>Vem No Tum Tum</td>\n",
              "      <td>1</td>\n",
              "      <td>17</td>\n",
              "      <td>216917</td>\n",
              "    </tr>\n",
              "    <tr>\n",
              "      <th>1</th>\n",
              "      <td>Trap from Future</td>\n",
              "      <td>Drip Know Me</td>\n",
              "      <td>2</td>\n",
              "      <td>3</td>\n",
              "      <td>154646</td>\n",
              "    </tr>\n",
              "    <tr>\n",
              "      <th>2</th>\n",
              "      <td>Trap from Future</td>\n",
              "      <td>Match</td>\n",
              "      <td>3</td>\n",
              "      <td>4</td>\n",
              "      <td>180716</td>\n",
              "    </tr>\n",
              "    <tr>\n",
              "      <th>3</th>\n",
              "      <td>Trap from Future</td>\n",
              "      <td>Trap &amp; Brega</td>\n",
              "      <td>4</td>\n",
              "      <td>6</td>\n",
              "      <td>164468</td>\n",
              "    </tr>\n",
              "    <tr>\n",
              "      <th>4</th>\n",
              "      <td>Trap from Future</td>\n",
              "      <td>Marca Sem Roupa</td>\n",
              "      <td>5</td>\n",
              "      <td>6</td>\n",
              "      <td>148364</td>\n",
              "    </tr>\n",
              "    <tr>\n",
              "      <th>5</th>\n",
              "      <td>Trap from Future</td>\n",
              "      <td>Wow!</td>\n",
              "      <td>6</td>\n",
              "      <td>3</td>\n",
              "      <td>145675</td>\n",
              "    </tr>\n",
              "    <tr>\n",
              "      <th>6</th>\n",
              "      <td>Trap from Future</td>\n",
              "      <td>Não Posso Morrer Novo</td>\n",
              "      <td>7</td>\n",
              "      <td>3</td>\n",
              "      <td>150116</td>\n",
              "    </tr>\n",
              "    <tr>\n",
              "      <th>7</th>\n",
              "      <td>Trap from Future</td>\n",
              "      <td>Fuck Cópias</td>\n",
              "      <td>8</td>\n",
              "      <td>2</td>\n",
              "      <td>140880</td>\n",
              "    </tr>\n",
              "    <tr>\n",
              "      <th>8</th>\n",
              "      <td>Trap from Future</td>\n",
              "      <td>Passa Nada</td>\n",
              "      <td>9</td>\n",
              "      <td>3</td>\n",
              "      <td>135745</td>\n",
              "    </tr>\n",
              "    <tr>\n",
              "      <th>9</th>\n",
              "      <td>Trap from Future</td>\n",
              "      <td>Novo Rock</td>\n",
              "      <td>10</td>\n",
              "      <td>1</td>\n",
              "      <td>130971</td>\n",
              "    </tr>\n",
              "  </tbody>\n",
              "</table>\n",
              "</div>"
            ],
            "text/plain": [
              "      nome_do_album          nome_da_faixa  ...  popularidade  duraçao_da_musica\n",
              "0  Trap from Future         Vem No Tum Tum  ...            17             216917\n",
              "1  Trap from Future           Drip Know Me  ...             3             154646\n",
              "2  Trap from Future                  Match  ...             4             180716\n",
              "3  Trap from Future           Trap & Brega  ...             6             164468\n",
              "4  Trap from Future        Marca Sem Roupa  ...             6             148364\n",
              "5  Trap from Future                   Wow!  ...             3             145675\n",
              "6  Trap from Future  Não Posso Morrer Novo  ...             3             150116\n",
              "7  Trap from Future            Fuck Cópias  ...             2             140880\n",
              "8  Trap from Future             Passa Nada  ...             3             135745\n",
              "9  Trap from Future              Novo Rock  ...             1             130971\n",
              "\n",
              "[10 rows x 5 columns]"
            ]
          },
          "metadata": {
            "tags": []
          },
          "execution_count": 136
        }
      ]
    },
    {
      "cell_type": "code",
      "metadata": {
        "id": "iDJkyVnM43rm",
        "colab_type": "code",
        "colab": {
          "base_uri": "https://localhost:8080/",
          "height": 359
        },
        "outputId": "f127cf88-2998-4fc7-918e-53d34340a4a8"
      },
      "source": [
        "#Os 10 últimos registros\n",
        "df.tail(10)"
      ],
      "execution_count": 137,
      "outputs": [
        {
          "output_type": "execute_result",
          "data": {
            "text/html": [
              "<div>\n",
              "<style scoped>\n",
              "    .dataframe tbody tr th:only-of-type {\n",
              "        vertical-align: middle;\n",
              "    }\n",
              "\n",
              "    .dataframe tbody tr th {\n",
              "        vertical-align: top;\n",
              "    }\n",
              "\n",
              "    .dataframe thead th {\n",
              "        text-align: right;\n",
              "    }\n",
              "</style>\n",
              "<table border=\"1\" class=\"dataframe\">\n",
              "  <thead>\n",
              "    <tr style=\"text-align: right;\">\n",
              "      <th></th>\n",
              "      <th>nome_do_album</th>\n",
              "      <th>nome_da_faixa</th>\n",
              "      <th>posicao_da_faixa</th>\n",
              "      <th>popularidade</th>\n",
              "      <th>duraçao_da_musica</th>\n",
              "    </tr>\n",
              "  </thead>\n",
              "  <tbody>\n",
              "    <tr>\n",
              "      <th>23</th>\n",
              "      <td>Trap de Cria Mixtape</td>\n",
              "      <td>Isso Que É Foda</td>\n",
              "      <td>9</td>\n",
              "      <td>4</td>\n",
              "      <td>135086</td>\n",
              "    </tr>\n",
              "    <tr>\n",
              "      <th>24</th>\n",
              "      <td>Trap de Cria Mixtape</td>\n",
              "      <td>Pjl</td>\n",
              "      <td>10</td>\n",
              "      <td>0</td>\n",
              "      <td>211323</td>\n",
              "    </tr>\n",
              "    <tr>\n",
              "      <th>25</th>\n",
              "      <td>Real Plug Mixtape</td>\n",
              "      <td>The Train</td>\n",
              "      <td>1</td>\n",
              "      <td>0</td>\n",
              "      <td>169865</td>\n",
              "    </tr>\n",
              "    <tr>\n",
              "      <th>26</th>\n",
              "      <td>Real Plug Mixtape</td>\n",
              "      <td>Fica Bem</td>\n",
              "      <td>2</td>\n",
              "      <td>0</td>\n",
              "      <td>130134</td>\n",
              "    </tr>\n",
              "    <tr>\n",
              "      <th>27</th>\n",
              "      <td>Real Plug Mixtape</td>\n",
              "      <td>Gospel</td>\n",
              "      <td>3</td>\n",
              "      <td>0</td>\n",
              "      <td>122278</td>\n",
              "    </tr>\n",
              "    <tr>\n",
              "      <th>28</th>\n",
              "      <td>Real Plug Mixtape</td>\n",
              "      <td>Nxanx</td>\n",
              "      <td>4</td>\n",
              "      <td>0</td>\n",
              "      <td>167355</td>\n",
              "    </tr>\n",
              "    <tr>\n",
              "      <th>29</th>\n",
              "      <td>Real Plug Mixtape</td>\n",
              "      <td>Tudo</td>\n",
              "      <td>5</td>\n",
              "      <td>0</td>\n",
              "      <td>161403</td>\n",
              "    </tr>\n",
              "    <tr>\n",
              "      <th>30</th>\n",
              "      <td>Real Plug Mixtape</td>\n",
              "      <td>A Lei</td>\n",
              "      <td>6</td>\n",
              "      <td>0</td>\n",
              "      <td>134274</td>\n",
              "    </tr>\n",
              "    <tr>\n",
              "      <th>31</th>\n",
              "      <td>Real Plug Mixtape</td>\n",
              "      <td>Dreams Cup</td>\n",
              "      <td>7</td>\n",
              "      <td>0</td>\n",
              "      <td>230822</td>\n",
              "    </tr>\n",
              "    <tr>\n",
              "      <th>32</th>\n",
              "      <td>Real Plug Mixtape</td>\n",
              "      <td>2020</td>\n",
              "      <td>8</td>\n",
              "      <td>4</td>\n",
              "      <td>154298</td>\n",
              "    </tr>\n",
              "  </tbody>\n",
              "</table>\n",
              "</div>"
            ],
            "text/plain": [
              "           nome_do_album    nome_da_faixa  ...  popularidade  duraçao_da_musica\n",
              "23  Trap de Cria Mixtape  Isso Que É Foda  ...             4             135086\n",
              "24  Trap de Cria Mixtape              Pjl  ...             0             211323\n",
              "25     Real Plug Mixtape        The Train  ...             0             169865\n",
              "26     Real Plug Mixtape         Fica Bem  ...             0             130134\n",
              "27     Real Plug Mixtape           Gospel  ...             0             122278\n",
              "28     Real Plug Mixtape            Nxanx  ...             0             167355\n",
              "29     Real Plug Mixtape             Tudo  ...             0             161403\n",
              "30     Real Plug Mixtape            A Lei  ...             0             134274\n",
              "31     Real Plug Mixtape       Dreams Cup  ...             0             230822\n",
              "32     Real Plug Mixtape             2020  ...             4             154298\n",
              "\n",
              "[10 rows x 5 columns]"
            ]
          },
          "metadata": {
            "tags": []
          },
          "execution_count": 137
        }
      ]
    },
    {
      "cell_type": "code",
      "metadata": {
        "id": "qDq6HmiEXzun",
        "colab_type": "code",
        "colab": {
          "base_uri": "https://localhost:8080/",
          "height": 359
        },
        "outputId": "26f0608c-0427-4afa-eb9a-24ef8413b370"
      },
      "source": [
        "#Amostra aleatória de 10 registros\n",
        "df.sample(10)"
      ],
      "execution_count": 138,
      "outputs": [
        {
          "output_type": "execute_result",
          "data": {
            "text/html": [
              "<div>\n",
              "<style scoped>\n",
              "    .dataframe tbody tr th:only-of-type {\n",
              "        vertical-align: middle;\n",
              "    }\n",
              "\n",
              "    .dataframe tbody tr th {\n",
              "        vertical-align: top;\n",
              "    }\n",
              "\n",
              "    .dataframe thead th {\n",
              "        text-align: right;\n",
              "    }\n",
              "</style>\n",
              "<table border=\"1\" class=\"dataframe\">\n",
              "  <thead>\n",
              "    <tr style=\"text-align: right;\">\n",
              "      <th></th>\n",
              "      <th>nome_do_album</th>\n",
              "      <th>nome_da_faixa</th>\n",
              "      <th>posicao_da_faixa</th>\n",
              "      <th>popularidade</th>\n",
              "      <th>duraçao_da_musica</th>\n",
              "    </tr>\n",
              "  </thead>\n",
              "  <tbody>\n",
              "    <tr>\n",
              "      <th>31</th>\n",
              "      <td>Real Plug Mixtape</td>\n",
              "      <td>Dreams Cup</td>\n",
              "      <td>7</td>\n",
              "      <td>0</td>\n",
              "      <td>230822</td>\n",
              "    </tr>\n",
              "    <tr>\n",
              "      <th>9</th>\n",
              "      <td>Trap from Future</td>\n",
              "      <td>Novo Rock</td>\n",
              "      <td>10</td>\n",
              "      <td>1</td>\n",
              "      <td>130971</td>\n",
              "    </tr>\n",
              "    <tr>\n",
              "      <th>32</th>\n",
              "      <td>Real Plug Mixtape</td>\n",
              "      <td>2020</td>\n",
              "      <td>8</td>\n",
              "      <td>4</td>\n",
              "      <td>154298</td>\n",
              "    </tr>\n",
              "    <tr>\n",
              "      <th>7</th>\n",
              "      <td>Trap from Future</td>\n",
              "      <td>Fuck Cópias</td>\n",
              "      <td>8</td>\n",
              "      <td>2</td>\n",
              "      <td>140880</td>\n",
              "    </tr>\n",
              "    <tr>\n",
              "      <th>2</th>\n",
              "      <td>Trap from Future</td>\n",
              "      <td>Match</td>\n",
              "      <td>3</td>\n",
              "      <td>4</td>\n",
              "      <td>180716</td>\n",
              "    </tr>\n",
              "    <tr>\n",
              "      <th>4</th>\n",
              "      <td>Trap from Future</td>\n",
              "      <td>Marca Sem Roupa</td>\n",
              "      <td>5</td>\n",
              "      <td>6</td>\n",
              "      <td>148364</td>\n",
              "    </tr>\n",
              "    <tr>\n",
              "      <th>29</th>\n",
              "      <td>Real Plug Mixtape</td>\n",
              "      <td>Tudo</td>\n",
              "      <td>5</td>\n",
              "      <td>0</td>\n",
              "      <td>161403</td>\n",
              "    </tr>\n",
              "    <tr>\n",
              "      <th>25</th>\n",
              "      <td>Real Plug Mixtape</td>\n",
              "      <td>The Train</td>\n",
              "      <td>1</td>\n",
              "      <td>0</td>\n",
              "      <td>169865</td>\n",
              "    </tr>\n",
              "    <tr>\n",
              "      <th>21</th>\n",
              "      <td>Trap de Cria Mixtape</td>\n",
              "      <td>Hino dos Irmãos</td>\n",
              "      <td>7</td>\n",
              "      <td>1</td>\n",
              "      <td>126168</td>\n",
              "    </tr>\n",
              "    <tr>\n",
              "      <th>0</th>\n",
              "      <td>Trap from Future</td>\n",
              "      <td>Vem No Tum Tum</td>\n",
              "      <td>1</td>\n",
              "      <td>17</td>\n",
              "      <td>216917</td>\n",
              "    </tr>\n",
              "  </tbody>\n",
              "</table>\n",
              "</div>"
            ],
            "text/plain": [
              "           nome_do_album    nome_da_faixa  ...  popularidade  duraçao_da_musica\n",
              "31     Real Plug Mixtape       Dreams Cup  ...             0             230822\n",
              "9       Trap from Future        Novo Rock  ...             1             130971\n",
              "32     Real Plug Mixtape             2020  ...             4             154298\n",
              "7       Trap from Future      Fuck Cópias  ...             2             140880\n",
              "2       Trap from Future            Match  ...             4             180716\n",
              "4       Trap from Future  Marca Sem Roupa  ...             6             148364\n",
              "29     Real Plug Mixtape             Tudo  ...             0             161403\n",
              "25     Real Plug Mixtape        The Train  ...             0             169865\n",
              "21  Trap de Cria Mixtape  Hino dos Irmãos  ...             1             126168\n",
              "0       Trap from Future   Vem No Tum Tum  ...            17             216917\n",
              "\n",
              "[10 rows x 5 columns]"
            ]
          },
          "metadata": {
            "tags": []
          },
          "execution_count": 138
        }
      ]
    },
    {
      "cell_type": "markdown",
      "metadata": {
        "id": "p_TuMmkQ6tQV",
        "colab_type": "text"
      },
      "source": [
        "Todos os registros passam alguma informação. Devido ao fato do albúm Real plug Mixtape ser o albúm mais antigo, sua popularidade apresenta muitos valores zero, tendo em vista, que a popularidade está relacionada as músicas que estão sendo ouvidas no momento, porém, diante mão já é possivel observar que a faixa 2020 ainda se mantém com uma boa popularidade se compararmos com faixas mais recentes, apesar de ter sido uma música lançada em 2018. "
      ]
    },
    {
      "cell_type": "markdown",
      "metadata": {
        "id": "-6AH6Cor69h2",
        "colab_type": "text"
      },
      "source": [
        "De fato 2020 poderia ter sido um ano de sucesso para o artista NexoAnexo e uma ascensao da faixa 2020, como uma grande promessa, porém, a música também fala de anos posteriores, como 2022 e 2023, quem sabe nos próximos anos coisas grandes não venham a acontecer."
      ]
    },
    {
      "cell_type": "markdown",
      "metadata": {
        "id": "gB0OLMab7v5T",
        "colab_type": "text"
      },
      "source": [
        "### **Verificar os tipos de colunas** "
      ]
    },
    {
      "cell_type": "markdown",
      "metadata": {
        "id": "8wadGexE8g6R",
        "colab_type": "text"
      },
      "source": [
        "Assim como pode ser feito registro de dados sem nenhum significado, por quem constroi o dataset, as colunas também podem ser preenchidas de forma incorreta, ou seja, uma coluna que trata-se de uma coluna do tipo inteira, pode estar como coluna do tipo float ou até mesmo string."
      ]
    },
    {
      "cell_type": "code",
      "metadata": {
        "id": "5BA_syqA70om",
        "colab_type": "code",
        "colab": {
          "base_uri": "https://localhost:8080/",
          "height": 119
        },
        "outputId": "abc1bf7b-e850-4ae7-d065-288ae270fb79"
      },
      "source": [
        "#Verificando os tipos das colunas\n",
        "df.dtypes"
      ],
      "execution_count": 139,
      "outputs": [
        {
          "output_type": "execute_result",
          "data": {
            "text/plain": [
              "nome_do_album        object\n",
              "nome_da_faixa        object\n",
              "posicao_da_faixa      int64\n",
              "popularidade          int64\n",
              "duraçao_da_musica     int64\n",
              "dtype: object"
            ]
          },
          "metadata": {
            "tags": []
          },
          "execution_count": 139
        }
      ]
    },
    {
      "cell_type": "code",
      "metadata": {
        "id": "vKtltNmfRaZW",
        "colab_type": "code",
        "colab": {
          "base_uri": "https://localhost:8080/",
          "height": 68
        },
        "outputId": "63b7ad6b-fe3f-4a80-e284-955eaca1669c"
      },
      "source": [
        "#Quantidade de tipos das colunas\n",
        "df.dtypes.value_counts()"
      ],
      "execution_count": 140,
      "outputs": [
        {
          "output_type": "execute_result",
          "data": {
            "text/plain": [
              "int64     3\n",
              "object    2\n",
              "dtype: int64"
            ]
          },
          "metadata": {
            "tags": []
          },
          "execution_count": 140
        }
      ]
    },
    {
      "cell_type": "markdown",
      "metadata": {
        "id": "EVn5DLnq8j8F",
        "colab_type": "text"
      },
      "source": [
        "Agora eu sei quais são os tipos das minhas colunas, mas ainda é preciso confirmar se os tipos foram registrados corretamente e para isso é preciso visualizar novamente os registros de dados de cada coluna, com atenção! Saber quais são os tipos das colunas e como manipulá-los é de extrema importância para a etapa futura de exploração dos dados. "
      ]
    },
    {
      "cell_type": "code",
      "metadata": {
        "id": "1fxGcBj18pud",
        "colab_type": "code",
        "colab": {
          "base_uri": "https://localhost:8080/",
          "height": 204
        },
        "outputId": "73956a02-e008-4dfb-bc30-424d787c4d51"
      },
      "source": [
        "#Visualizando novamente os dados\n",
        "df.sample(5)"
      ],
      "execution_count": 141,
      "outputs": [
        {
          "output_type": "execute_result",
          "data": {
            "text/html": [
              "<div>\n",
              "<style scoped>\n",
              "    .dataframe tbody tr th:only-of-type {\n",
              "        vertical-align: middle;\n",
              "    }\n",
              "\n",
              "    .dataframe tbody tr th {\n",
              "        vertical-align: top;\n",
              "    }\n",
              "\n",
              "    .dataframe thead th {\n",
              "        text-align: right;\n",
              "    }\n",
              "</style>\n",
              "<table border=\"1\" class=\"dataframe\">\n",
              "  <thead>\n",
              "    <tr style=\"text-align: right;\">\n",
              "      <th></th>\n",
              "      <th>nome_do_album</th>\n",
              "      <th>nome_da_faixa</th>\n",
              "      <th>posicao_da_faixa</th>\n",
              "      <th>popularidade</th>\n",
              "      <th>duraçao_da_musica</th>\n",
              "    </tr>\n",
              "  </thead>\n",
              "  <tbody>\n",
              "    <tr>\n",
              "      <th>18</th>\n",
              "      <td>Trap de Cria Mixtape</td>\n",
              "      <td>E Ai Fake</td>\n",
              "      <td>4</td>\n",
              "      <td>1</td>\n",
              "      <td>167852</td>\n",
              "    </tr>\n",
              "    <tr>\n",
              "      <th>19</th>\n",
              "      <td>Trap de Cria Mixtape</td>\n",
              "      <td>Video Call</td>\n",
              "      <td>5</td>\n",
              "      <td>1</td>\n",
              "      <td>192468</td>\n",
              "    </tr>\n",
              "    <tr>\n",
              "      <th>5</th>\n",
              "      <td>Trap from Future</td>\n",
              "      <td>Wow!</td>\n",
              "      <td>6</td>\n",
              "      <td>3</td>\n",
              "      <td>145675</td>\n",
              "    </tr>\n",
              "    <tr>\n",
              "      <th>2</th>\n",
              "      <td>Trap from Future</td>\n",
              "      <td>Match</td>\n",
              "      <td>3</td>\n",
              "      <td>4</td>\n",
              "      <td>180716</td>\n",
              "    </tr>\n",
              "    <tr>\n",
              "      <th>30</th>\n",
              "      <td>Real Plug Mixtape</td>\n",
              "      <td>A Lei</td>\n",
              "      <td>6</td>\n",
              "      <td>0</td>\n",
              "      <td>134274</td>\n",
              "    </tr>\n",
              "  </tbody>\n",
              "</table>\n",
              "</div>"
            ],
            "text/plain": [
              "           nome_do_album nome_da_faixa  ...  popularidade  duraçao_da_musica\n",
              "18  Trap de Cria Mixtape     E Ai Fake  ...             1             167852\n",
              "19  Trap de Cria Mixtape    Video Call  ...             1             192468\n",
              "5       Trap from Future          Wow!  ...             3             145675\n",
              "2       Trap from Future         Match  ...             4             180716\n",
              "30     Real Plug Mixtape         A Lei  ...             0             134274\n",
              "\n",
              "[5 rows x 5 columns]"
            ]
          },
          "metadata": {
            "tags": []
          },
          "execution_count": 141
        }
      ]
    },
    {
      "cell_type": "markdown",
      "metadata": {
        "id": "6Z-by3vz953I",
        "colab_type": "text"
      },
      "source": [
        "### **Alterando tipo de colunas**"
      ]
    },
    {
      "cell_type": "markdown",
      "metadata": {
        "id": "vC4umD2--LVU",
        "colab_type": "text"
      },
      "source": [
        "Nesse projeto não irei alterar o tipo das colunas, por já estarem corretos, mas em casos reais atividades como essa são comuns e saber fazer esse tipo de manipulação de dados é de extrema importância, para que os dados de fato cheguem preparados para a análise exploratória. Em alguns casos, um simples caractere diferente que exista nos dados de uma coluna, pode fazer a diferença no seu tipo, sendo necessario manipular os dados da coluna. "
      ]
    },
    {
      "cell_type": "markdown",
      "metadata": {
        "id": "GHyD5ioD-ot1",
        "colab_type": "text"
      },
      "source": [
        "Se por exemplo, fosse necessário alterar o tipo da coluna popularidade, poderia ser utilizado o método astypes(), principal método para realizar essa tarefa, passando o novo tipo de dados da coluna."
      ]
    },
    {
      "cell_type": "code",
      "metadata": {
        "id": "4jryO7Wz-QEi",
        "colab_type": "code",
        "colab": {}
      },
      "source": [
        "#Alterando a coluna popularidade para float\n",
        "df['popularidade'] = df['popularidade'].astype(float)"
      ],
      "execution_count": 142,
      "outputs": []
    },
    {
      "cell_type": "code",
      "metadata": {
        "id": "q1oBcUQW-fCb",
        "colab_type": "code",
        "colab": {
          "base_uri": "https://localhost:8080/",
          "height": 119
        },
        "outputId": "905a1b95-8f54-4a14-db8c-9889149d40af"
      },
      "source": [
        "#Tipos das colunas\n",
        "df.dtypes"
      ],
      "execution_count": 143,
      "outputs": [
        {
          "output_type": "execute_result",
          "data": {
            "text/plain": [
              "nome_do_album         object\n",
              "nome_da_faixa         object\n",
              "posicao_da_faixa       int64\n",
              "popularidade         float64\n",
              "duraçao_da_musica      int64\n",
              "dtype: object"
            ]
          },
          "metadata": {
            "tags": []
          },
          "execution_count": 143
        }
      ]
    },
    {
      "cell_type": "code",
      "metadata": {
        "id": "j6cinTFU-tcl",
        "colab_type": "code",
        "colab": {}
      },
      "source": [
        "#Corrigindo o tipo da coluna popularidade para inteiro\n",
        "df['popularidade'] = df['popularidade'].astype(int)"
      ],
      "execution_count": 144,
      "outputs": []
    },
    {
      "cell_type": "markdown",
      "metadata": {
        "id": "Nepa2iEoI2aq",
        "colab_type": "text"
      },
      "source": [
        "### **Corrigindo dados duplicados**"
      ]
    },
    {
      "cell_type": "markdown",
      "metadata": {
        "id": "pZ8_w_XkR1H3",
        "colab_type": "text"
      },
      "source": [
        "Outra tarefa importante da etapa de limpeza e preparação de dados é a correção de dados duplicados, por mais que esse dataset do spotify do artista NexoAnexo não possua dados duplicados, é comum encontrar em alguns conjuntos de dados. Os valores duplicados na maioria dos conjuntos de dados são encontrados com frequência e dependendo da análise que será feita, esses valores podem alterar o resultado final."
      ]
    },
    {
      "cell_type": "markdown",
      "metadata": {
        "id": "EUKrBfxQAXzW",
        "colab_type": "text"
      },
      "source": [
        "#### **Verificando valores duplicados**"
      ]
    },
    {
      "cell_type": "markdown",
      "metadata": {
        "id": "u6jP13AqAeCf",
        "colab_type": "text"
      },
      "source": [
        "Por se tratar de um dataset com diversas músicas e números, é importante verificar se o dataset possui dados duplicados, para que a análise e os insights não sejam interferidos. Para identificar a presença de outliers, irei utilizar o método duplicated() que devolve uma Series booleana informando True se possui algum valor duplicado e False caso contrário."
      ]
    },
    {
      "cell_type": "code",
      "metadata": {
        "id": "spYdCRZdALh6",
        "colab_type": "code",
        "colab": {
          "base_uri": "https://localhost:8080/",
          "height": 51
        },
        "outputId": "8aba6d34-7085-4ba7-baa5-e74158ce2dfd"
      },
      "source": [
        "#Verificando valores duplicados\n",
        "df.duplicated().value_counts()"
      ],
      "execution_count": 145,
      "outputs": [
        {
          "output_type": "execute_result",
          "data": {
            "text/plain": [
              "False    33\n",
              "dtype: int64"
            ]
          },
          "metadata": {
            "tags": []
          },
          "execution_count": 145
        }
      ]
    },
    {
      "cell_type": "markdown",
      "metadata": {
        "id": "gi1AnCn2A5lb",
        "colab_type": "text"
      },
      "source": [
        "O dataset não possui dados duplicados como mencionado anteriormente, porém, caso fosse identificado a presença de dados duplicados, seria necessário remover todos os valores repetidos, fazendo o uso do método drop_duplicates()."
      ]
    },
    {
      "cell_type": "markdown",
      "metadata": {
        "id": "WiuMU5_PSMYt",
        "colab_type": "text"
      },
      "source": [
        "### **Outliers**"
      ]
    },
    {
      "cell_type": "markdown",
      "metadata": {
        "id": "ov_g9htZSOvE",
        "colab_type": "text"
      },
      "source": [
        "Os outliers, são os famosos \"pontos fora da curva\" ou observações que não parecem seguir o mesmo padrão dos demais dados. Normalmente acarretados de distribuições diferentes, serem erros da coleta de dados, como aqui já foi visto, erros de medição ou outro fator. Identificar e tratar os outliers é de suma importância, devido que os outliers influenciam diretamente nas análises e nos algoritmos, ao apresentar comportamento distoante do resto do data set. Impactando tanto na média, como na variância, funções de perda e custo."
      ]
    },
    {
      "cell_type": "markdown",
      "metadata": {
        "id": "i4y4BM9R_8vg",
        "colab_type": "text"
      },
      "source": [
        "Após os outliers terem sido identificados, sua remoção ou transformação só deve ser feita se realmente fizer sentido, logo, deve ser levado em consideração que alguns outliers são dados autenticos e devem ser estudados com atenção, para saber se de fato deve ser feita sua remoção."
      ]
    },
    {
      "cell_type": "markdown",
      "metadata": {
        "id": "OcmzOKzGA1CW",
        "colab_type": "text"
      },
      "source": [
        "####**Identificando outliers**"
      ]
    },
    {
      "cell_type": "markdown",
      "metadata": {
        "id": "Mbe7FHhsBYI7",
        "colab_type": "text"
      },
      "source": [
        "Dificilmente será econtrado outliers nesse dataset do spotify, por ser um dataset que não tem sujeiras e está bem organizado e limpo, além das variaveis serem muito discrepantes por sua natureza, porém, irei verificar se existe a presença de algum outlier na coluna de duração da música. Para identificar a presença de outliers a melhor solução é verificar a distribuição dos dados, que pode ser feita tanto com gráfico de histograma ou com gráfico de boxplot."
      ]
    },
    {
      "cell_type": "code",
      "metadata": {
        "id": "bjm6ynaWCqno",
        "colab_type": "code",
        "colab": {
          "base_uri": "https://localhost:8080/",
          "height": 248
        },
        "outputId": "8e011ee9-50b2-4fa5-f5dd-b59192bbdfaf"
      },
      "source": [
        "#Plotando gráfico de boxplot\n",
        "sns.boxplot(x=df[\"duraçao_da_musica\"], orient=\"vertical\");"
      ],
      "execution_count": 146,
      "outputs": [
        {
          "output_type": "display_data",
          "data": {
            "image/png": "[encoded data removed]",
            "text/plain": [
              "<Figure size 432x288 with 1 Axes>"
            ]
          },
          "metadata": {
            "tags": []
          }
        }
      ]
    },
    {
      "cell_type": "markdown",
      "metadata": {
        "id": "jYhZA3opEQhn",
        "colab_type": "text"
      },
      "source": [
        "No boxplot, os dados mais extremos, ou seja, os outliers, são mostrados como pontos fora do alcance dos whiskers (as barras do boxplot) e neste caso da coluna duração da música é possivel observar que existe um ponto (outlier) acima do normal. Agora, irei apicar uma abordagem para identificar qual é esse ponto acima."
      ]
    },
    {
      "cell_type": "markdown",
      "metadata": {
        "id": "YBHyUM47HBNB",
        "colab_type": "text"
      },
      "source": [
        "Tudo que estiver acima do intervalo (limite) $[Q3 + 1.5 \\times \\text{IQR}]$ e abaixo do intervalo (limite) $[Q1 - 1.5 \\times \\text{IQR}]$será considerado um outlier. \n",
        "\n",
        "Considere: \n",
        "* Q3 e Q1 = Terceiro quantil e Primeiro quantil. \n",
        "* IQR = Intervalo interquartil (Q3 - Q1)."
      ]
    },
    {
      "cell_type": "code",
      "metadata": {
        "id": "uYEpG6HEJA7S",
        "colab_type": "code",
        "colab": {}
      },
      "source": [
        "#Construindo o intervalo interquartil\n",
        "q1 = df.duraçao_da_musica.quantile(0.25)\n",
        "q3 = df.duraçao_da_musica.quantile(0.75)\n",
        "\n",
        "iqr = q3 - q1"
      ],
      "execution_count": 147,
      "outputs": []
    },
    {
      "cell_type": "code",
      "metadata": {
        "id": "Rf-mfRPfJ3Z7",
        "colab_type": "code",
        "colab": {
          "base_uri": "https://localhost:8080/",
          "height": 51
        },
        "outputId": "a82717d7-ceac-4804-b2dc-8dae5c50ce29"
      },
      "source": [
        "#Limite inferior [Q1−1.5×IQR]\n",
        "out_low = q1 - 1.5 * iqr \n",
        "out_low\n",
        "\n",
        "#Limite superior [Q3+1.5×IQR]\n",
        "out_high = q3 + 1.5 * iqr \n",
        "out_high\n",
        "\n",
        "print(f'''Limite ou intervalo inferior: {out_low} \n",
        "Limite ou intervalo superior: {out_high}''')"
      ],
      "execution_count": 148,
      "outputs": [
        {
          "output_type": "stream",
          "text": [
            "Limite ou intervalo inferior: 81126.0 \n",
            "Limite ou intervalo superior: 240470.0\n"
          ],
          "name": "stdout"
        }
      ]
    },
    {
      "cell_type": "markdown",
      "metadata": {
        "id": "TQid_2VELmUo",
        "colab_type": "text"
      },
      "source": [
        "Agora que defini quais são os limites inferiores e superiores, é possivel identificar quais são os pontos que encontram-se fora desses limites ou intervalos, ou seja, que podem ser considerados outliers."
      ]
    },
    {
      "cell_type": "code",
      "metadata": {
        "id": "bouBQdhxK9Ct",
        "colab_type": "code",
        "colab": {
          "base_uri": "https://localhost:8080/",
          "height": 51
        },
        "outputId": "754d6d0a-9ac5-4925-b16d-7ac074a94a57"
      },
      "source": [
        "#Identificando os outliers presentes\n",
        "outliers = df.duraçao_da_musica[(df.duraçao_da_musica < out_low) | (df.duraçao_da_musica > out_high)]\n",
        "outliers"
      ],
      "execution_count": 149,
      "outputs": [
        {
          "output_type": "execute_result",
          "data": {
            "text/plain": [
              "12    260158\n",
              "Name: duraçao_da_musica, dtype: int64"
            ]
          },
          "metadata": {
            "tags": []
          },
          "execution_count": 149
        }
      ]
    },
    {
      "cell_type": "code",
      "metadata": {
        "id": "Rptvdy8_Pq0u",
        "colab_type": "code",
        "colab": {
          "base_uri": "https://localhost:8080/",
          "height": 80
        },
        "outputId": "abe8234c-4649-4aef-aaf0-c256c6cb7fa9"
      },
      "source": [
        "#Quem é o outlier? \n",
        "df.query(\"index == 12\")"
      ],
      "execution_count": 150,
      "outputs": [
        {
          "output_type": "execute_result",
          "data": {
            "text/html": [
              "<div>\n",
              "<style scoped>\n",
              "    .dataframe tbody tr th:only-of-type {\n",
              "        vertical-align: middle;\n",
              "    }\n",
              "\n",
              "    .dataframe tbody tr th {\n",
              "        vertical-align: top;\n",
              "    }\n",
              "\n",
              "    .dataframe thead th {\n",
              "        text-align: right;\n",
              "    }\n",
              "</style>\n",
              "<table border=\"1\" class=\"dataframe\">\n",
              "  <thead>\n",
              "    <tr style=\"text-align: right;\">\n",
              "      <th></th>\n",
              "      <th>nome_do_album</th>\n",
              "      <th>nome_da_faixa</th>\n",
              "      <th>posicao_da_faixa</th>\n",
              "      <th>popularidade</th>\n",
              "      <th>duraçao_da_musica</th>\n",
              "    </tr>\n",
              "  </thead>\n",
              "  <tbody>\n",
              "    <tr>\n",
              "      <th>12</th>\n",
              "      <td>Trap from Future</td>\n",
              "      <td>Fogo No Incenso</td>\n",
              "      <td>13</td>\n",
              "      <td>5</td>\n",
              "      <td>260158</td>\n",
              "    </tr>\n",
              "  </tbody>\n",
              "</table>\n",
              "</div>"
            ],
            "text/plain": [
              "       nome_do_album    nome_da_faixa  ...  popularidade  duraçao_da_musica\n",
              "12  Trap from Future  Fogo No Incenso  ...             5             260158\n",
              "\n",
              "[1 rows x 5 columns]"
            ]
          },
          "metadata": {
            "tags": []
          },
          "execution_count": 150
        }
      ]
    },
    {
      "cell_type": "markdown",
      "metadata": {
        "id": "1Sl96izyNP-9",
        "colab_type": "text"
      },
      "source": [
        "O código me retornou tudo que foi menor e tudo que foi maior do que o limite normal que foram definidos e assim como foi visto no boxplot, existe apenas um outlier acima do limite superior. Porém, os dados do dataset tratam-se de dados que são discrepantes por sua natureza, especificamente a coluna que está sendo analisada, que é relacionada ao tempo de duração da música, logo, não faz sentido remover esse outlier, o que só acarretaria em prejuízo à análise."
      ]
    },
    {
      "cell_type": "markdown",
      "metadata": {
        "id": "wYCBfOpbSXPy",
        "colab_type": "text"
      },
      "source": [
        "## **Exploração e Visualização de dados**"
      ]
    },
    {
      "cell_type": "markdown",
      "metadata": {
        "id": "dbfbs9uOaOhX",
        "colab_type": "text"
      },
      "source": [
        "Segundo o esatístico John Tukey, a etapa de exploração de dados ou EDA pode ser definida como: \n",
        "\n",
        "*Procedimentos para analisar dados, técnicas para interpretar os resultados de tais procedimentos, formas de planejar a reunião dos dados para tornar sua análise mais fácil, mais precisa ou mais exata e toda a maquinaria e os resultados da estatística (matemática) que se aplicam a análise de dados.*\n",
        "\n",
        "\n",
        "\n",
        "\n"
      ]
    },
    {
      "cell_type": "markdown",
      "metadata": {
        "id": "PYdOTEEXc8Mw",
        "colab_type": "text"
      },
      "source": [
        "A exploração de dados ou EDA pode ser considerada uma das fases mais importantes de todo processo de análise de dados. A partir dela começamos a entender mais sobre os dados que envolve a problematica e conseguentemente construir hipoteses e perguntas. Nessa fase, para ajudar no trabalho de entendimento e exploração dos dados é feito o uso de ferramentas estatísticas e de visualização de dados, para que as informações a respeito dos dados sejam a mais clara possivel. Não deve ser levado em consideração um conjunto de regras e passo a passo na hora de construir a análise exploratoria de dados, pelo contrario, a análise exploratória de dados não se trata de um processo formal e sim um estado de espirito investigativo. Na EDA o mais importante é investigar todas as ideias que ocorrerem, conforme o entendimento e significado dos dados vai aumentando."
      ]
    },
    {
      "cell_type": "markdown",
      "metadata": {
        "colab_type": "text",
        "id": "5HkE9tPWn54p"
      },
      "source": [
        "Pode-se dizer que a EDA é um ciclo iterativo e ciclico, onde:\n",
        "\n",
        "* É preciso gerar questões relevantes para o negócio, logo, é essencial que em casos reais exista uma conversa com o pessoal da aréa de negocio, a respeito dos dados e oque o pessoal da área de negocio está buscando responder através do conjunto de dados.\n",
        "\n",
        "* Para encontrar as respostas dos questionamentos levantados é preciso gerar gráficos, manipulação e estatística sobre os dados.\n",
        "\n",
        "* Refinar os questioanamentos e utiliza-los para gerar novos questionamentos pertinentes. "
      ]
    },
    {
      "cell_type": "markdown",
      "metadata": {
        "id": "Xsw8isqDh09m",
        "colab_type": "text"
      },
      "source": [
        "Um fator essencial que muita das vezes é negligenciado por quem está começando na área dos dados é a estatistica. A estatística tanto univariada como multivariada é de suma importância para os dados ganharem ainda mais significado, durante a exploração de dados."
      ]
    },
    {
      "cell_type": "markdown",
      "metadata": {
        "id": "Fp_V9h9Pc6MI",
        "colab_type": "text"
      },
      "source": [
        "Fazer uma análise exploratória de dados sempre deve ser levado como objetivo gerar **Perguntas** e **Hipoteses**. Logo, irei definir algumas perguntas e hipoteses que tenho inicialmente e responder durante a análise exploratoria de dados, para reter uma informação inicial dos dados. Como já dito anteriormente, durante a análise exploratoria de dados surgem mais perguntas, conforme os dados vão ganhando significado e o entendimento a respeito dos dados vai aumentando. Então, é sempre bom começar com perguntas simples e ir aumentando suas complexidades conforme se vai conhecendo os dados, o que também é um dos objetivos da análise exploratória de dados, você tomar conhecimento dos seus dados. Vale lembrar que quando se lida com um novo conjunto de dados, nem sempre tem informações disponiveis sobre os dados, sendo necessario buscar o conhecimento de uma pessoa especialista no assunto, conversar com estas pessoas influenciará e ajudará em perguntas futuras, tendo em vista que não é possivel gerar perguntas sem entender a problematica que envolve os dados e o meio que os dados estão envolvidos, muito menos sem entender o conjunto de dados em si. Nos casos reais, em sua maioria das vezes o pessoal da área de negocios que tem um maior entendimento da problematica e área que envolve os dados, além do conjunto de dados, por isso são os principais responvaveis por gerarem as perguntas que se deseja responder na análise exploratoria de dados."
      ]
    },
    {
      "cell_type": "markdown",
      "metadata": {
        "id": "FTsPEFYiUHyo",
        "colab_type": "text"
      },
      "source": [
        "A análise exploratoria deve se chegar ao fim quando for identificado que já se atingiu o objetivo desejado e os questionamentos principais já foram respondidos, sendo em casos reais responsabilidade do pessoal da área de negócios, que são os responsáveis por fazerem os questionamentos a respeito dos dados, além de na maioria das vezes terem um entendimento maior sobre os dados e a área que os mesmo estão envolvidos."
      ]
    },
    {
      "cell_type": "markdown",
      "metadata": {
        "id": "2pJON784dHUp",
        "colab_type": "text"
      },
      "source": [
        "### **Perguntas:**"
      ]
    },
    {
      "cell_type": "markdown",
      "metadata": {
        "id": "HYkFCaOSdHPZ",
        "colab_type": "text"
      },
      "source": [
        "* Qual é a música mais popular no momento do artista NexoAnexo?\n",
        "* Qual a música mais popular de cada albúm?\n",
        "* A popularidade das músicas tem relação com a posição?\n",
        "* Qual a média da popularidade dos albúns?\n",
        "* A música que está na posição um dos álbuns, apresenta sempre maior popularidade?\n"
      ]
    },
    {
      "cell_type": "markdown",
      "metadata": {
        "id": "yWQ61UuNSwxi",
        "colab_type": "text"
      },
      "source": [
        "### **Hipóteses:**\n",
        "\n",
        "* Trap&Brega \n",
        "* 2020 (Real plug mixtape), E AI fake (Trap de Cria), Vem no tum tum (Trap From Future)\n",
        "* Sim\n",
        "* 3.0\n",
        "* Sim"
      ]
    },
    {
      "cell_type": "markdown",
      "metadata": {
        "colab_type": "text",
        "id": "F-3Rqc1UzITW"
      },
      "source": [
        "###**Definindo as variáveis dos albúns**"
      ]
    },
    {
      "cell_type": "code",
      "metadata": {
        "colab_type": "code",
        "id": "Hq3BGi4bzamu",
        "colab": {}
      },
      "source": [
        "#Albúm Real Plug Mixtape\n",
        "rmx = df.query(\"nome_do_album == 'Real Plug Mixtape' \")"
      ],
      "execution_count": 151,
      "outputs": []
    },
    {
      "cell_type": "code",
      "metadata": {
        "colab_type": "code",
        "id": "5U-ltK3bzanC",
        "colab": {}
      },
      "source": [
        "#Albúm Trap de Cria Mixtape\n",
        "tcm = df.query(\"nome_do_album == 'Trap de Cria Mixtape' \")"
      ],
      "execution_count": 152,
      "outputs": []
    },
    {
      "cell_type": "code",
      "metadata": {
        "colab_type": "code",
        "id": "nQ1FFWU4zanI",
        "colab": {}
      },
      "source": [
        "#Albúm Trap From Future\n",
        "tff = df.query(\"nome_do_album == 'Trap from Future' \")"
      ],
      "execution_count": 153,
      "outputs": []
    },
    {
      "cell_type": "markdown",
      "metadata": {
        "id": "n2bI0C6gYbVG",
        "colab_type": "text"
      },
      "source": [
        "Foi utilizado o método query() para filtrar os dados de cada albúm e suas respectivas músicas, para que também possa analisar os albúns individualmente. "
      ]
    },
    {
      "cell_type": "markdown",
      "metadata": {
        "colab_type": "text",
        "id": "85tzj87kzane"
      },
      "source": [
        "### **Q1: Quais e a quantidade de musicas que estão sendo analisadas?**"
      ]
    },
    {
      "cell_type": "markdown",
      "metadata": {
        "id": "k6vt7DMJM9g3",
        "colab_type": "text"
      },
      "source": [
        "Para um primeiro entendimento dos dados, considero importante saber quais são as músicas de cada albúm que estão sendo analisadas e a quantidade total de músicas dos três albúns. Dessa forma, tanto irá ajudar á construir perguntas futuras, como também retirar melhores conclusões e informações das análises."
      ]
    },
    {
      "cell_type": "code",
      "metadata": {
        "colab_type": "code",
        "id": "_VGu6Obmzanf",
        "colab": {
          "base_uri": "https://localhost:8080/",
          "height": 34
        },
        "outputId": "47205d7b-56c3-4f7e-c99c-be7d9628d33e"
      },
      "source": [
        "#Total de músicas\n",
        "print(f'Total de músicas: {df[\"nome_da_faixa\"].count()} músicas') "
      ],
      "execution_count": 154,
      "outputs": [
        {
          "output_type": "stream",
          "text": [
            "Total de músicas: 33 músicas\n"
          ],
          "name": "stdout"
        }
      ]
    },
    {
      "cell_type": "markdown",
      "metadata": {
        "colab_type": "text",
        "id": "HewMCWqdzank"
      },
      "source": [
        "**Músicas por albúm**"
      ]
    },
    {
      "cell_type": "markdown",
      "metadata": {
        "id": "1rOcLE1_YoT7",
        "colab_type": "text"
      },
      "source": [
        "**Albúm Real Plug:**"
      ]
    },
    {
      "cell_type": "markdown",
      "metadata": {
        "id": "YkwBZl1E71BI",
        "colab_type": "text"
      },
      "source": [
        "![Real Plug](https://direct.rhapsody.com/imageserver/images/alb.315190279/500x500.jpg)"
      ]
    },
    {
      "cell_type": "markdown",
      "metadata": {
        "id": "U5Bk48uuhxkb",
        "colab_type": "text"
      },
      "source": [
        "O albúm ou mixtape Real Plug é o mais antigo de todos, seu lançamento foi no dia 15 de maio de 2018, então é bem provavel que a popularidade de suas músicas não sejam tão altas, mas o albúm conta com músicas que tiveram bons números e feedback do público. Um exemplo é a música \"2020\", sendo a música que ganhou mais alcance e \"caiu na graça dos fãs\", bem reconhecida e reponsável por atrair público até os dias de atuais. No canal do artista, o clipe da música \"2020\" é o terceiro mais acessado, com 28 mil views.\n"
      ]
    },
    {
      "cell_type": "code",
      "metadata": {
        "id": "RMmerNw7YmXc",
        "colab_type": "code",
        "colab": {
          "base_uri": "https://localhost:8080/",
          "height": 314
        },
        "outputId": "955f8641-6383-4b24-e3a4-bc4c63dca330"
      },
      "source": [
        "#Quantidade de músicas do albúm\n",
        "print(f'O albúm tem: {rmx[\"nome_da_faixa\"].count()} faixas')\n",
        "\n",
        "#Músicas do albúm\n",
        "rmx[['posicao_da_faixa', 'nome_da_faixa']].reset_index(drop=True)"
      ],
      "execution_count": 155,
      "outputs": [
        {
          "output_type": "stream",
          "text": [
            "O albúm tem: 8 faixas\n"
          ],
          "name": "stdout"
        },
        {
          "output_type": "execute_result",
          "data": {
            "text/html": [
              "<div>\n",
              "<style scoped>\n",
              "    .dataframe tbody tr th:only-of-type {\n",
              "        vertical-align: middle;\n",
              "    }\n",
              "\n",
              "    .dataframe tbody tr th {\n",
              "        vertical-align: top;\n",
              "    }\n",
              "\n",
              "    .dataframe thead th {\n",
              "        text-align: right;\n",
              "    }\n",
              "</style>\n",
              "<table border=\"1\" class=\"dataframe\">\n",
              "  <thead>\n",
              "    <tr style=\"text-align: right;\">\n",
              "      <th></th>\n",
              "      <th>posicao_da_faixa</th>\n",
              "      <th>nome_da_faixa</th>\n",
              "    </tr>\n",
              "  </thead>\n",
              "  <tbody>\n",
              "    <tr>\n",
              "      <th>0</th>\n",
              "      <td>1</td>\n",
              "      <td>The Train</td>\n",
              "    </tr>\n",
              "    <tr>\n",
              "      <th>1</th>\n",
              "      <td>2</td>\n",
              "      <td>Fica Bem</td>\n",
              "    </tr>\n",
              "    <tr>\n",
              "      <th>2</th>\n",
              "      <td>3</td>\n",
              "      <td>Gospel</td>\n",
              "    </tr>\n",
              "    <tr>\n",
              "      <th>3</th>\n",
              "      <td>4</td>\n",
              "      <td>Nxanx</td>\n",
              "    </tr>\n",
              "    <tr>\n",
              "      <th>4</th>\n",
              "      <td>5</td>\n",
              "      <td>Tudo</td>\n",
              "    </tr>\n",
              "    <tr>\n",
              "      <th>5</th>\n",
              "      <td>6</td>\n",
              "      <td>A Lei</td>\n",
              "    </tr>\n",
              "    <tr>\n",
              "      <th>6</th>\n",
              "      <td>7</td>\n",
              "      <td>Dreams Cup</td>\n",
              "    </tr>\n",
              "    <tr>\n",
              "      <th>7</th>\n",
              "      <td>8</td>\n",
              "      <td>2020</td>\n",
              "    </tr>\n",
              "  </tbody>\n",
              "</table>\n",
              "</div>"
            ],
            "text/plain": [
              "   posicao_da_faixa nome_da_faixa\n",
              "0                 1     The Train\n",
              "1                 2      Fica Bem\n",
              "2                 3        Gospel\n",
              "3                 4         Nxanx\n",
              "4                 5          Tudo\n",
              "5                 6         A Lei\n",
              "6                 7    Dreams Cup\n",
              "7                 8          2020"
            ]
          },
          "metadata": {
            "tags": []
          },
          "execution_count": 155
        }
      ]
    },
    {
      "cell_type": "markdown",
      "metadata": {
        "id": "p-4mdlaEmTrV",
        "colab_type": "text"
      },
      "source": [
        "No total são oito músicas, com destaque para a música \"2020\", que foi a principal responsável por trazer alcance ao albúm. Na análise a seguir, irei construir um gráfico da popularidade das músicas do albúm, para ter uma primeira noção de como as músicas do albúm estão sendo ouvidas atualmente."
      ]
    },
    {
      "cell_type": "code",
      "metadata": {
        "id": "_C5GvdxI4QPE",
        "colab_type": "code",
        "colab": {
          "base_uri": "https://localhost:8080/",
          "height": 407
        },
        "outputId": "b789072e-cd12-4cf2-f9f9-554889cf0d6a"
      },
      "source": [
        "#Gráfico da popularidade das músicas do albúm Real Plug Mixtape\n",
        "\n",
        "plt.figure(figsize=(15,6))\n",
        "ax = sns.lineplot(x='nome_da_faixa', y='popularidade', data=rmx);\n",
        "ax.set_title('Popularidade das faixas', size=13);\n",
        "ax.set_xlabel('Nome da faixa', size=13);\n",
        "ax.set_ylabel('Popularidade', size=13);"
      ],
      "execution_count": 156,
      "outputs": [
        {
          "output_type": "display_data",
          "data": {
            "image/png": "[encoded data removed]",
            "text/plain": [
              "<Figure size 1080x432 with 1 Axes>"
            ]
          },
          "metadata": {
            "tags": []
          }
        }
      ]
    },
    {
      "cell_type": "markdown",
      "metadata": {
        "id": "dwLWmZYeaw0F",
        "colab_type": "text"
      },
      "source": [
        "A partir do gráfico de linha do seaborn á respeito da popularidade das músicas do albúm, já é possivel observar que de fato a música 2020 é um sucesso, tendo em vista que tem uma popularidade alta, levando em consideração as outras músicas do albúm e o fato da música fazer parte do albúm mais antigo. As outras músicas do albúm possuem igualmente uma popularidade igual a zero, logo, significa que a partir do calcúlo de popularidade do spotify, as músicas não estão sendo muito ouvidas para possuir uma popularidade maior que zero. "
      ]
    },
    {
      "cell_type": "markdown",
      "metadata": {
        "id": "NmYcGJwHYr51",
        "colab_type": "text"
      },
      "source": [
        "**Albúm Trap de cria:**"
      ]
    },
    {
      "cell_type": "markdown",
      "metadata": {
        "id": "yxR-w7i57hAa",
        "colab_type": "text"
      },
      "source": [
        "![Trap de Cria](https://resources.tidal.com/images/379a650e/3071/4aa7/a264/eb2a9f011589/640x640.jpg)"
      ]
    },
    {
      "cell_type": "markdown",
      "metadata": {
        "id": "zywCcIWKhzua",
        "colab_type": "text"
      },
      "source": [
        "O albúm ou mixtape \"Trap de Cria\" foi o segundo albúm do artista e seu lançamento aconteceu no dia 29 de julho de 2019, diferente do primeiro albúm \"Real plug mixtape\", o alcance desse albúm foi maior e era de se esperar até mais alcance e visibilidade.Com uma pegada de músicas no estilo trap explícito, o albúm obtive músicas que receberam um bom alcance, comparado a músicas anteriores, porém sinto que o alcance, especificamente desse albúm ficou no \"gostinho de quero mais\", pela qualidade e empenho que foi colocado pelo artista e todos que de alguma forma contribuíram na construção do albúm. "
      ]
    },
    {
      "cell_type": "code",
      "metadata": {
        "id": "EBbaP2_BYzPh",
        "colab_type": "code",
        "colab": {
          "base_uri": "https://localhost:8080/",
          "height": 359
        },
        "outputId": "8b05b071-cde0-44cc-f955-4d35ef5d23df"
      },
      "source": [
        "#Músicas do albúm\n",
        "tcm[['posicao_da_faixa', 'nome_da_faixa']].reset_index(drop=True)"
      ],
      "execution_count": 157,
      "outputs": [
        {
          "output_type": "execute_result",
          "data": {
            "text/html": [
              "<div>\n",
              "<style scoped>\n",
              "    .dataframe tbody tr th:only-of-type {\n",
              "        vertical-align: middle;\n",
              "    }\n",
              "\n",
              "    .dataframe tbody tr th {\n",
              "        vertical-align: top;\n",
              "    }\n",
              "\n",
              "    .dataframe thead th {\n",
              "        text-align: right;\n",
              "    }\n",
              "</style>\n",
              "<table border=\"1\" class=\"dataframe\">\n",
              "  <thead>\n",
              "    <tr style=\"text-align: right;\">\n",
              "      <th></th>\n",
              "      <th>posicao_da_faixa</th>\n",
              "      <th>nome_da_faixa</th>\n",
              "    </tr>\n",
              "  </thead>\n",
              "  <tbody>\n",
              "    <tr>\n",
              "      <th>0</th>\n",
              "      <td>1</td>\n",
              "      <td>Trap de Cria</td>\n",
              "    </tr>\n",
              "    <tr>\n",
              "      <th>1</th>\n",
              "      <td>2</td>\n",
              "      <td>A Lista das Bandidas</td>\n",
              "    </tr>\n",
              "    <tr>\n",
              "      <th>2</th>\n",
              "      <td>3</td>\n",
              "      <td>A3</td>\n",
              "    </tr>\n",
              "    <tr>\n",
              "      <th>3</th>\n",
              "      <td>4</td>\n",
              "      <td>E Ai Fake</td>\n",
              "    </tr>\n",
              "    <tr>\n",
              "      <th>4</th>\n",
              "      <td>5</td>\n",
              "      <td>Video Call</td>\n",
              "    </tr>\n",
              "    <tr>\n",
              "      <th>5</th>\n",
              "      <td>6</td>\n",
              "      <td>Aliviando o Stress</td>\n",
              "    </tr>\n",
              "    <tr>\n",
              "      <th>6</th>\n",
              "      <td>7</td>\n",
              "      <td>Hino dos Irmãos</td>\n",
              "    </tr>\n",
              "    <tr>\n",
              "      <th>7</th>\n",
              "      <td>8</td>\n",
              "      <td>Bebê da Cara de Mal</td>\n",
              "    </tr>\n",
              "    <tr>\n",
              "      <th>8</th>\n",
              "      <td>9</td>\n",
              "      <td>Isso Que É Foda</td>\n",
              "    </tr>\n",
              "    <tr>\n",
              "      <th>9</th>\n",
              "      <td>10</td>\n",
              "      <td>Pjl</td>\n",
              "    </tr>\n",
              "  </tbody>\n",
              "</table>\n",
              "</div>"
            ],
            "text/plain": [
              "   posicao_da_faixa         nome_da_faixa\n",
              "0                 1          Trap de Cria\n",
              "1                 2  A Lista das Bandidas\n",
              "2                 3                    A3\n",
              "3                 4             E Ai Fake\n",
              "4                 5            Video Call\n",
              "5                 6    Aliviando o Stress\n",
              "6                 7       Hino dos Irmãos\n",
              "7                 8   Bebê da Cara de Mal\n",
              "8                 9       Isso Que É Foda\n",
              "9                10                   Pjl"
            ]
          },
          "metadata": {
            "tags": []
          },
          "execution_count": 157
        }
      ]
    },
    {
      "cell_type": "markdown",
      "metadata": {
        "id": "GXKrLyhMbFZd",
        "colab_type": "text"
      },
      "source": [
        "Ao total foram dez músicas, duas a mais que o primeiro albúm. Os destaques ficam para as músicas: \"E ai Fake\" construída com base na polêmica das conversas íntimas vazadas do jogador Neymar, \"Video Call\" e \"PJL\" que contou com a participação de integrantes da Hoodcave, produtora da qual o artista faz parte."
      ]
    },
    {
      "cell_type": "code",
      "metadata": {
        "colab_type": "code",
        "id": "ZmS33hkZ43PN",
        "colab": {
          "base_uri": "https://localhost:8080/",
          "height": 408
        },
        "outputId": "5f90e773-9efb-4e12-b88b-98df766ba253"
      },
      "source": [
        "plt.figure(figsize=(18,6))\n",
        "ax = sns.lineplot(x='nome_da_faixa', y='popularidade', data=tcm);\n",
        "ax.set_title('Popularidade das faixas', size=13);\n",
        "ax.set_xlabel('Nome da faixa', size=13);\n",
        "ax.set_ylabel('Popularidade', size=13);\n"
      ],
      "execution_count": 158,
      "outputs": [
        {
          "output_type": "display_data",
          "data": {
            "image/png": "[encoded data removed]",
            "text/plain": [
              "<Figure size 1296x432 with 1 Axes>"
            ]
          },
          "metadata": {
            "tags": []
          }
        }
      ]
    },
    {
      "cell_type": "markdown",
      "metadata": {
        "id": "zSj_1-1D3d_U",
        "colab_type": "text"
      },
      "source": [
        "Mesmo após o lançamento do albúm mais recente \"Trap From Future\", nota-se que a quantidade de músicas do albúm acolhida pelo público foi de fato maior do que o primeiro albúm \"Real Plug Mixtape\". Sendo até os dias atuais, ouvida uma parte significativa das músicas que compoem o albúm, com apenas a música \"Pjl\" possuindo uma baixa frequência."
      ]
    },
    {
      "cell_type": "markdown",
      "metadata": {
        "id": "k8-XFkOmY3MF",
        "colab_type": "text"
      },
      "source": [
        "**Trap from future:**"
      ]
    },
    {
      "cell_type": "markdown",
      "metadata": {
        "id": "5FigJ2SD6Oz1",
        "colab_type": "text"
      },
      "source": [
        "![img](https://i.scdn.co/image/ab67616d0000b2731827b32ac6993a14c4f78615)"
      ]
    },
    {
      "cell_type": "markdown",
      "metadata": {
        "id": "kQ2IeZa8hvYW",
        "colab_type": "text"
      },
      "source": [
        "Trap From Future trata-se do albúm mais recente do artista e diferente dos dois albúns anteriores que na realidade eram mixtapes, esse de fato pode ser considerado um albúm e o primeiro do artista. O albúm foi lançado no dia 12 de março de 2020, sendo considerado como o trabalho mais sólido do artista e até mesmo elogiado pelo artista reconhecido, Matuê. Com uma capa de albúm futurista e cheia de referências, as músicas do albúm possuem uma versatilidade de estilo e estética totalmente diferente das músicas anteriores do artista."
      ]
    },
    {
      "cell_type": "code",
      "metadata": {
        "id": "ekpuLHPJY8gA",
        "colab_type": "code",
        "colab": {
          "base_uri": "https://localhost:8080/",
          "height": 514
        },
        "outputId": "d5ac9d42-c9b5-4e24-e3a0-c7238635ad86"
      },
      "source": [
        "tff[['posicao_da_faixa', 'nome_da_faixa']]"
      ],
      "execution_count": 159,
      "outputs": [
        {
          "output_type": "execute_result",
          "data": {
            "text/html": [
              "<div>\n",
              "<style scoped>\n",
              "    .dataframe tbody tr th:only-of-type {\n",
              "        vertical-align: middle;\n",
              "    }\n",
              "\n",
              "    .dataframe tbody tr th {\n",
              "        vertical-align: top;\n",
              "    }\n",
              "\n",
              "    .dataframe thead th {\n",
              "        text-align: right;\n",
              "    }\n",
              "</style>\n",
              "<table border=\"1\" class=\"dataframe\">\n",
              "  <thead>\n",
              "    <tr style=\"text-align: right;\">\n",
              "      <th></th>\n",
              "      <th>posicao_da_faixa</th>\n",
              "      <th>nome_da_faixa</th>\n",
              "    </tr>\n",
              "  </thead>\n",
              "  <tbody>\n",
              "    <tr>\n",
              "      <th>0</th>\n",
              "      <td>1</td>\n",
              "      <td>Vem No Tum Tum</td>\n",
              "    </tr>\n",
              "    <tr>\n",
              "      <th>1</th>\n",
              "      <td>2</td>\n",
              "      <td>Drip Know Me</td>\n",
              "    </tr>\n",
              "    <tr>\n",
              "      <th>2</th>\n",
              "      <td>3</td>\n",
              "      <td>Match</td>\n",
              "    </tr>\n",
              "    <tr>\n",
              "      <th>3</th>\n",
              "      <td>4</td>\n",
              "      <td>Trap &amp; Brega</td>\n",
              "    </tr>\n",
              "    <tr>\n",
              "      <th>4</th>\n",
              "      <td>5</td>\n",
              "      <td>Marca Sem Roupa</td>\n",
              "    </tr>\n",
              "    <tr>\n",
              "      <th>5</th>\n",
              "      <td>6</td>\n",
              "      <td>Wow!</td>\n",
              "    </tr>\n",
              "    <tr>\n",
              "      <th>6</th>\n",
              "      <td>7</td>\n",
              "      <td>Não Posso Morrer Novo</td>\n",
              "    </tr>\n",
              "    <tr>\n",
              "      <th>7</th>\n",
              "      <td>8</td>\n",
              "      <td>Fuck Cópias</td>\n",
              "    </tr>\n",
              "    <tr>\n",
              "      <th>8</th>\n",
              "      <td>9</td>\n",
              "      <td>Passa Nada</td>\n",
              "    </tr>\n",
              "    <tr>\n",
              "      <th>9</th>\n",
              "      <td>10</td>\n",
              "      <td>Novo Rock</td>\n",
              "    </tr>\n",
              "    <tr>\n",
              "      <th>10</th>\n",
              "      <td>11</td>\n",
              "      <td>Como Tem Que Ser</td>\n",
              "    </tr>\n",
              "    <tr>\n",
              "      <th>11</th>\n",
              "      <td>12</td>\n",
              "      <td>Grife</td>\n",
              "    </tr>\n",
              "    <tr>\n",
              "      <th>12</th>\n",
              "      <td>13</td>\n",
              "      <td>Fogo No Incenso</td>\n",
              "    </tr>\n",
              "    <tr>\n",
              "      <th>13</th>\n",
              "      <td>14</td>\n",
              "      <td>Zombieland</td>\n",
              "    </tr>\n",
              "    <tr>\n",
              "      <th>14</th>\n",
              "      <td>15</td>\n",
              "      <td>Baila Comigo?</td>\n",
              "    </tr>\n",
              "  </tbody>\n",
              "</table>\n",
              "</div>"
            ],
            "text/plain": [
              "    posicao_da_faixa          nome_da_faixa\n",
              "0                  1         Vem No Tum Tum\n",
              "1                  2           Drip Know Me\n",
              "2                  3                  Match\n",
              "3                  4           Trap & Brega\n",
              "4                  5        Marca Sem Roupa\n",
              "5                  6                   Wow!\n",
              "6                  7  Não Posso Morrer Novo\n",
              "7                  8            Fuck Cópias\n",
              "8                  9             Passa Nada\n",
              "9                 10              Novo Rock\n",
              "10                11       Como Tem Que Ser\n",
              "11                12                  Grife\n",
              "12                13        Fogo No Incenso\n",
              "13                14             Zombieland\n",
              "14                15          Baila Comigo?"
            ]
          },
          "metadata": {
            "tags": []
          },
          "execution_count": 159
        }
      ]
    },
    {
      "cell_type": "markdown",
      "metadata": {
        "id": "FqRym2Oz3i12",
        "colab_type": "text"
      },
      "source": [
        "Por ser o albúm mais recente, coseguentemente existe a probabilidade de ter mais músicas com uma popularidade maior do que músicas de albúns anteriores. O albúm conta com quinzes músicas, quase o dobro de músicas do primeiro albúm \"Real Plug\", como mencionado anteriormente, o albúm possue uma grande versatilidade em suas músicas indo da mistura brega e trap na música \"Trap&Brega\" á musica com participação internacional. O que também foi possivel notar foi a leveza e a \"visão\" do artista em suas músicas, também sendo muito falado no albúm suas ambições e desejos para uma vida melhor."
      ]
    },
    {
      "cell_type": "code",
      "metadata": {
        "id": "Bgj7-hgd3gHX",
        "colab_type": "code",
        "colab": {
          "base_uri": "https://localhost:8080/",
          "height": 353
        },
        "outputId": "68f49bb7-3149-41b5-cbe4-4708403b7f54"
      },
      "source": [
        "plt.figure(figsize=(25,6))\n",
        "ax = sns.lineplot(x='nome_da_faixa', y='popularidade', data=tff);\n",
        "ax.set_title('Popularidade das faixas', size=13);\n",
        "ax.set_xlabel('Nome da faixa', size=13);\n",
        "ax.set_ylabel('Popularidade', size=13);"
      ],
      "execution_count": 160,
      "outputs": [
        {
          "output_type": "display_data",
          "data": {
            "image/png": "[encoded data removed]",
            "text/plain": [
              "<Figure size 1800x432 with 1 Axes>"
            ]
          },
          "metadata": {
            "tags": []
          }
        }
      ]
    },
    {
      "cell_type": "markdown",
      "metadata": {
        "id": "XjEAlrKtbCYI",
        "colab_type": "text"
      },
      "source": [
        "Nota-se que nenhuma música possui a popularidade igual a zero como nos albúns anteriores, entretanto, o fato de ser o albúm mais recente contribui para isso. Também é posivel notar que a música Trap&Brega cuja possivel uma proposta diferente de músicas anteriores do artista e até mesmo de músicas da cena do rap/trap, possui uma das popularidades mais altas do albúm, no momento em que foi feita a coleta desses dados. Por outro lado, músicas como \"Marca Sem Roupa\" e \"Vem No Tum Tum\" que falam sobre a relação x (uma pessoa com ), foram bem acolhidas possuindo as maiores popularidades do albúm."
      ]
    },
    {
      "cell_type": "markdown",
      "metadata": {
        "colab_type": "text",
        "id": "ggpmBR43Fdhe"
      },
      "source": [
        "### **Q2: Quais músicas de NexoAnexo estão popular no momento?** "
      ]
    },
    {
      "cell_type": "markdown",
      "metadata": {
        "colab_type": "text",
        "id": "dYHZ_tOpFdhp"
      },
      "source": [
        "O meu segundo questionamento é saber quais são as músicas do artista que estão popular no momento, lembrando sempre da regra de popularidade do spotify, onde as músicas mais populares são as que estão sendo mais ouvidas no momento e que as músicas que estão sendo analisadas são só as contidas nos álbuns. "
      ]
    },
    {
      "cell_type": "markdown",
      "metadata": {
        "colab_type": "text",
        "id": "tMRlqRj_Fdhq"
      },
      "source": [
        "A popularidade das musicas podem alterar diariamente de acordo com o lançamento de novas músicas, logo, a popularidade das músicas mais recentes crescem e a popularidade de músicas mais antigas tende a diminuir. "
      ]
    },
    {
      "cell_type": "code",
      "metadata": {
        "colab_type": "code",
        "id": "L1WkSfR3Fdhs",
        "colab": {
          "base_uri": "https://localhost:8080/",
          "height": 1000
        },
        "outputId": "37930e3a-1171-420f-9678-91d5f2f9ca43"
      },
      "source": [
        "#Músicas com maior popularidade no momento (Data: 27/06)\n",
        "df[['nome_da_faixa', 'popularidade']].sort_values(ascending=False, by='popularidade').reset_index(drop=True)"
      ],
      "execution_count": 161,
      "outputs": [
        {
          "output_type": "execute_result",
          "data": {
            "text/html": [
              "<div>\n",
              "<style scoped>\n",
              "    .dataframe tbody tr th:only-of-type {\n",
              "        vertical-align: middle;\n",
              "    }\n",
              "\n",
              "    .dataframe tbody tr th {\n",
              "        vertical-align: top;\n",
              "    }\n",
              "\n",
              "    .dataframe thead th {\n",
              "        text-align: right;\n",
              "    }\n",
              "</style>\n",
              "<table border=\"1\" class=\"dataframe\">\n",
              "  <thead>\n",
              "    <tr style=\"text-align: right;\">\n",
              "      <th></th>\n",
              "      <th>nome_da_faixa</th>\n",
              "      <th>popularidade</th>\n",
              "    </tr>\n",
              "  </thead>\n",
              "  <tbody>\n",
              "    <tr>\n",
              "      <th>0</th>\n",
              "      <td>Vem No Tum Tum</td>\n",
              "      <td>17</td>\n",
              "    </tr>\n",
              "    <tr>\n",
              "      <th>1</th>\n",
              "      <td>Trap de Cria</td>\n",
              "      <td>9</td>\n",
              "    </tr>\n",
              "    <tr>\n",
              "      <th>2</th>\n",
              "      <td>Trap &amp; Brega</td>\n",
              "      <td>6</td>\n",
              "    </tr>\n",
              "    <tr>\n",
              "      <th>3</th>\n",
              "      <td>Marca Sem Roupa</td>\n",
              "      <td>6</td>\n",
              "    </tr>\n",
              "    <tr>\n",
              "      <th>4</th>\n",
              "      <td>Fogo No Incenso</td>\n",
              "      <td>5</td>\n",
              "    </tr>\n",
              "    <tr>\n",
              "      <th>5</th>\n",
              "      <td>Isso Que É Foda</td>\n",
              "      <td>4</td>\n",
              "    </tr>\n",
              "    <tr>\n",
              "      <th>6</th>\n",
              "      <td>2020</td>\n",
              "      <td>4</td>\n",
              "    </tr>\n",
              "    <tr>\n",
              "      <th>7</th>\n",
              "      <td>Match</td>\n",
              "      <td>4</td>\n",
              "    </tr>\n",
              "    <tr>\n",
              "      <th>8</th>\n",
              "      <td>Wow!</td>\n",
              "      <td>3</td>\n",
              "    </tr>\n",
              "    <tr>\n",
              "      <th>9</th>\n",
              "      <td>Como Tem Que Ser</td>\n",
              "      <td>3</td>\n",
              "    </tr>\n",
              "    <tr>\n",
              "      <th>10</th>\n",
              "      <td>Grife</td>\n",
              "      <td>3</td>\n",
              "    </tr>\n",
              "    <tr>\n",
              "      <th>11</th>\n",
              "      <td>Não Posso Morrer Novo</td>\n",
              "      <td>3</td>\n",
              "    </tr>\n",
              "    <tr>\n",
              "      <th>12</th>\n",
              "      <td>Passa Nada</td>\n",
              "      <td>3</td>\n",
              "    </tr>\n",
              "    <tr>\n",
              "      <th>13</th>\n",
              "      <td>Drip Know Me</td>\n",
              "      <td>3</td>\n",
              "    </tr>\n",
              "    <tr>\n",
              "      <th>14</th>\n",
              "      <td>Fuck Cópias</td>\n",
              "      <td>2</td>\n",
              "    </tr>\n",
              "    <tr>\n",
              "      <th>15</th>\n",
              "      <td>A Lista das Bandidas</td>\n",
              "      <td>2</td>\n",
              "    </tr>\n",
              "    <tr>\n",
              "      <th>16</th>\n",
              "      <td>Baila Comigo?</td>\n",
              "      <td>2</td>\n",
              "    </tr>\n",
              "    <tr>\n",
              "      <th>17</th>\n",
              "      <td>Hino dos Irmãos</td>\n",
              "      <td>1</td>\n",
              "    </tr>\n",
              "    <tr>\n",
              "      <th>18</th>\n",
              "      <td>A3</td>\n",
              "      <td>1</td>\n",
              "    </tr>\n",
              "    <tr>\n",
              "      <th>19</th>\n",
              "      <td>Novo Rock</td>\n",
              "      <td>1</td>\n",
              "    </tr>\n",
              "    <tr>\n",
              "      <th>20</th>\n",
              "      <td>Bebê da Cara de Mal</td>\n",
              "      <td>1</td>\n",
              "    </tr>\n",
              "    <tr>\n",
              "      <th>21</th>\n",
              "      <td>Aliviando o Stress</td>\n",
              "      <td>1</td>\n",
              "    </tr>\n",
              "    <tr>\n",
              "      <th>22</th>\n",
              "      <td>Zombieland</td>\n",
              "      <td>1</td>\n",
              "    </tr>\n",
              "    <tr>\n",
              "      <th>23</th>\n",
              "      <td>Video Call</td>\n",
              "      <td>1</td>\n",
              "    </tr>\n",
              "    <tr>\n",
              "      <th>24</th>\n",
              "      <td>E Ai Fake</td>\n",
              "      <td>1</td>\n",
              "    </tr>\n",
              "    <tr>\n",
              "      <th>25</th>\n",
              "      <td>The Train</td>\n",
              "      <td>0</td>\n",
              "    </tr>\n",
              "    <tr>\n",
              "      <th>26</th>\n",
              "      <td>Fica Bem</td>\n",
              "      <td>0</td>\n",
              "    </tr>\n",
              "    <tr>\n",
              "      <th>27</th>\n",
              "      <td>Gospel</td>\n",
              "      <td>0</td>\n",
              "    </tr>\n",
              "    <tr>\n",
              "      <th>28</th>\n",
              "      <td>Nxanx</td>\n",
              "      <td>0</td>\n",
              "    </tr>\n",
              "    <tr>\n",
              "      <th>29</th>\n",
              "      <td>Tudo</td>\n",
              "      <td>0</td>\n",
              "    </tr>\n",
              "    <tr>\n",
              "      <th>30</th>\n",
              "      <td>A Lei</td>\n",
              "      <td>0</td>\n",
              "    </tr>\n",
              "    <tr>\n",
              "      <th>31</th>\n",
              "      <td>Dreams Cup</td>\n",
              "      <td>0</td>\n",
              "    </tr>\n",
              "    <tr>\n",
              "      <th>32</th>\n",
              "      <td>Pjl</td>\n",
              "      <td>0</td>\n",
              "    </tr>\n",
              "  </tbody>\n",
              "</table>\n",
              "</div>"
            ],
            "text/plain": [
              "            nome_da_faixa  popularidade\n",
              "0          Vem No Tum Tum            17\n",
              "1            Trap de Cria             9\n",
              "2            Trap & Brega             6\n",
              "3         Marca Sem Roupa             6\n",
              "4         Fogo No Incenso             5\n",
              "5         Isso Que É Foda             4\n",
              "6                    2020             4\n",
              "7                   Match             4\n",
              "8                    Wow!             3\n",
              "9        Como Tem Que Ser             3\n",
              "10                  Grife             3\n",
              "11  Não Posso Morrer Novo             3\n",
              "12             Passa Nada             3\n",
              "13           Drip Know Me             3\n",
              "14            Fuck Cópias             2\n",
              "15   A Lista das Bandidas             2\n",
              "16          Baila Comigo?             2\n",
              "17        Hino dos Irmãos             1\n",
              "18                     A3             1\n",
              "19              Novo Rock             1\n",
              "20    Bebê da Cara de Mal             1\n",
              "21     Aliviando o Stress             1\n",
              "22             Zombieland             1\n",
              "23             Video Call             1\n",
              "24              E Ai Fake             1\n",
              "25              The Train             0\n",
              "26               Fica Bem             0\n",
              "27                 Gospel             0\n",
              "28                  Nxanx             0\n",
              "29                   Tudo             0\n",
              "30                  A Lei             0\n",
              "31             Dreams Cup             0\n",
              "32                    Pjl             0"
            ]
          },
          "metadata": {
            "tags": []
          },
          "execution_count": 161
        }
      ]
    },
    {
      "cell_type": "markdown",
      "metadata": {
        "colab_type": "text",
        "id": "sKgHGZrbFdh0"
      },
      "source": [
        ""
      ]
    },
    {
      "cell_type": "markdown",
      "metadata": {
        "colab_type": "text",
        "id": "V8Jc-mJKFdh1"
      },
      "source": [
        "**Visualização de dados**"
      ]
    },
    {
      "cell_type": "markdown",
      "metadata": {
        "colab_type": "text",
        "id": "Ss1xvvAoFdh2"
      },
      "source": [
        "A etapa de visualizacao de dados está dentro da exploração de dados, com o objetivo de transmitir a informação retiradas dos dados... Contexto"
      ]
    },
    {
      "cell_type": "markdown",
      "metadata": {
        "colab_type": "text",
        "id": "uUm6sqBnFdh3"
      },
      "source": [
        "contexto sobre visualizacao de dados"
      ]
    },
    {
      "cell_type": "markdown",
      "metadata": {
        "colab_type": "text",
        "id": "XLTDyjQ5Fdh3"
      },
      "source": [
        "Então a primeira coisa que vamos visualizar é a primeira pergunta que foi levantada, quais são as músicas que estão popular no momento?..."
      ]
    },
    {
      "cell_type": "code",
      "metadata": {
        "colab_type": "code",
        "id": "Hmf_ywSxFdh4",
        "colab": {}
      },
      "source": [
        "#pegar as 10 músicas que estão popular e transformar em uma variavel para plotar posteriormente\n",
        "musicas_populares = df[['nome_da_faixa', 'popularidade']].sort_values(ascending=False, by='popularidade').reset_index(drop=True)[:20]"
      ],
      "execution_count": 162,
      "outputs": []
    },
    {
      "cell_type": "code",
      "metadata": {
        "colab_type": "code",
        "id": "o7nv-V7LFdh-",
        "colab": {
          "base_uri": "https://localhost:8080/",
          "height": 507
        },
        "outputId": "5792896c-33cf-41d7-e66e-b40aed6f9280"
      },
      "source": [
        "#plotar gráfico de barras com seaborn das músicas que estão popular\n",
        "plt.figure(figsize=(16,6))\n",
        "ax = sns.barplot(x= 'nome_da_faixa', \n",
        "                 y = 'popularidade', \n",
        "                 data = musicas_populares, \n",
        "                 palette = sns.color_palette(\"BuGn_r\", n_colors=len(musicas_populares)))\n",
        "ax.set_xticklabels(ax.get_xticklabels(), rotation=65)\n",
        "ax.set_title('As 10 músicas que estão popular no momento');\n"
      ],
      "execution_count": 163,
      "outputs": [
        {
          "output_type": "display_data",
          "data": {
            "image/png": "[encoded data removed]",
            "text/plain": [
              "<Figure size 1152x432 with 1 Axes>"
            ]
          },
          "metadata": {
            "tags": []
          }
        }
      ]
    },
    {
      "cell_type": "markdown",
      "metadata": {
        "colab_type": "text",
        "id": "sCcOnHylFdiB"
      },
      "source": [
        "O que me surpreende nessa primeira visão é a faixa Trap de Cria, que foi um lançamento do album Trap de Cria Mixtape, antes do Trap From Future. Mas não é só isso que dá pra observar, a faixa 2020 do primeiro albúm Real Plug Mix Tape está a frente de muitas da musicas do recente album Trap From Future. "
      ]
    },
    {
      "cell_type": "markdown",
      "metadata": {
        "colab_type": "text",
        "id": "9IO9oytKFdiC"
      },
      "source": [
        "Um questionamento que tenho é se a popularidade dessas faixas que estão em alta tem relação com a posição das faixas. Tendo em vista, que a primeira faixa sempre é a primeira a tocar obviamente, sempre que inicia a playlist. Mas antes disso vamos separar os albuns por variveis para a analise ficar mais clara e facil."
      ]
    },
    {
      "cell_type": "markdown",
      "metadata": {
        "colab_type": "text",
        "id": "IFTyenRszanp"
      },
      "source": [
        "### **Q3: Verificando se a popularidade das faixas tem relação com sua posição**"
      ]
    },
    {
      "cell_type": "markdown",
      "metadata": {
        "id": "7ORcuaKIeWBz",
        "colab_type": "text"
      },
      "source": [
        "contexto"
      ]
    },
    {
      "cell_type": "markdown",
      "metadata": {
        "id": "-VEGms1xeXW3",
        "colab_type": "text"
      },
      "source": [
        "**Trap From Future**"
      ]
    },
    {
      "cell_type": "code",
      "metadata": {
        "colab_type": "code",
        "id": "PTLYymbXzanq",
        "colab": {
          "base_uri": "https://localhost:8080/",
          "height": 514
        },
        "outputId": "2651f3d4-ad02-4cf1-92f7-bb9a70dc7ab8"
      },
      "source": [
        "tff[['nome_da_faixa', 'posicao_da_faixa', 'popularidade']].sort_values(ascending=False, by='popularidade').reset_index(drop=True)"
      ],
      "execution_count": 164,
      "outputs": [
        {
          "output_type": "execute_result",
          "data": {
            "text/html": [
              "<div>\n",
              "<style scoped>\n",
              "    .dataframe tbody tr th:only-of-type {\n",
              "        vertical-align: middle;\n",
              "    }\n",
              "\n",
              "    .dataframe tbody tr th {\n",
              "        vertical-align: top;\n",
              "    }\n",
              "\n",
              "    .dataframe thead th {\n",
              "        text-align: right;\n",
              "    }\n",
              "</style>\n",
              "<table border=\"1\" class=\"dataframe\">\n",
              "  <thead>\n",
              "    <tr style=\"text-align: right;\">\n",
              "      <th></th>\n",
              "      <th>nome_da_faixa</th>\n",
              "      <th>posicao_da_faixa</th>\n",
              "      <th>popularidade</th>\n",
              "    </tr>\n",
              "  </thead>\n",
              "  <tbody>\n",
              "    <tr>\n",
              "      <th>0</th>\n",
              "      <td>Vem No Tum Tum</td>\n",
              "      <td>1</td>\n",
              "      <td>17</td>\n",
              "    </tr>\n",
              "    <tr>\n",
              "      <th>1</th>\n",
              "      <td>Trap &amp; Brega</td>\n",
              "      <td>4</td>\n",
              "      <td>6</td>\n",
              "    </tr>\n",
              "    <tr>\n",
              "      <th>2</th>\n",
              "      <td>Marca Sem Roupa</td>\n",
              "      <td>5</td>\n",
              "      <td>6</td>\n",
              "    </tr>\n",
              "    <tr>\n",
              "      <th>3</th>\n",
              "      <td>Fogo No Incenso</td>\n",
              "      <td>13</td>\n",
              "      <td>5</td>\n",
              "    </tr>\n",
              "    <tr>\n",
              "      <th>4</th>\n",
              "      <td>Match</td>\n",
              "      <td>3</td>\n",
              "      <td>4</td>\n",
              "    </tr>\n",
              "    <tr>\n",
              "      <th>5</th>\n",
              "      <td>Drip Know Me</td>\n",
              "      <td>2</td>\n",
              "      <td>3</td>\n",
              "    </tr>\n",
              "    <tr>\n",
              "      <th>6</th>\n",
              "      <td>Wow!</td>\n",
              "      <td>6</td>\n",
              "      <td>3</td>\n",
              "    </tr>\n",
              "    <tr>\n",
              "      <th>7</th>\n",
              "      <td>Não Posso Morrer Novo</td>\n",
              "      <td>7</td>\n",
              "      <td>3</td>\n",
              "    </tr>\n",
              "    <tr>\n",
              "      <th>8</th>\n",
              "      <td>Passa Nada</td>\n",
              "      <td>9</td>\n",
              "      <td>3</td>\n",
              "    </tr>\n",
              "    <tr>\n",
              "      <th>9</th>\n",
              "      <td>Como Tem Que Ser</td>\n",
              "      <td>11</td>\n",
              "      <td>3</td>\n",
              "    </tr>\n",
              "    <tr>\n",
              "      <th>10</th>\n",
              "      <td>Grife</td>\n",
              "      <td>12</td>\n",
              "      <td>3</td>\n",
              "    </tr>\n",
              "    <tr>\n",
              "      <th>11</th>\n",
              "      <td>Fuck Cópias</td>\n",
              "      <td>8</td>\n",
              "      <td>2</td>\n",
              "    </tr>\n",
              "    <tr>\n",
              "      <th>12</th>\n",
              "      <td>Baila Comigo?</td>\n",
              "      <td>15</td>\n",
              "      <td>2</td>\n",
              "    </tr>\n",
              "    <tr>\n",
              "      <th>13</th>\n",
              "      <td>Novo Rock</td>\n",
              "      <td>10</td>\n",
              "      <td>1</td>\n",
              "    </tr>\n",
              "    <tr>\n",
              "      <th>14</th>\n",
              "      <td>Zombieland</td>\n",
              "      <td>14</td>\n",
              "      <td>1</td>\n",
              "    </tr>\n",
              "  </tbody>\n",
              "</table>\n",
              "</div>"
            ],
            "text/plain": [
              "            nome_da_faixa  posicao_da_faixa  popularidade\n",
              "0          Vem No Tum Tum                 1            17\n",
              "1            Trap & Brega                 4             6\n",
              "2         Marca Sem Roupa                 5             6\n",
              "3         Fogo No Incenso                13             5\n",
              "4                   Match                 3             4\n",
              "5            Drip Know Me                 2             3\n",
              "6                    Wow!                 6             3\n",
              "7   Não Posso Morrer Novo                 7             3\n",
              "8              Passa Nada                 9             3\n",
              "9        Como Tem Que Ser                11             3\n",
              "10                  Grife                12             3\n",
              "11            Fuck Cópias                 8             2\n",
              "12          Baila Comigo?                15             2\n",
              "13              Novo Rock                10             1\n",
              "14             Zombieland                14             1"
            ]
          },
          "metadata": {
            "tags": []
          },
          "execution_count": 164
        }
      ]
    },
    {
      "cell_type": "markdown",
      "metadata": {
        "id": "gpqwNRtwJIti",
        "colab_type": "text"
      },
      "source": [
        "A primeira faixa é a mais popular, mas sei que a primeira faixa é sempre a primeira a tocar numa playlist do spotify e nem sempre é a que você mais ouve, mas ela torna-se a mais ouvida por sempre que inicia a playlist ela é a primeira a tocar."
      ]
    },
    {
      "cell_type": "markdown",
      "metadata": {
        "id": "MfkShA9_JiYJ",
        "colab_type": "text"
      },
      "source": [
        "Isso também pode ser aplicado aqui, por que se a posição tivesse relação com a popularidade as outras faixas seguintes também deveriam continuar sendo as mais populosas, que não acontece.."
      ]
    },
    {
      "cell_type": "markdown",
      "metadata": {
        "colab_type": "text",
        "id": "WxNHoDNScESv"
      },
      "source": [
        "contexto, particulamente curto muito a musica Novo Rock com uma pegada diferente e faz lembrar o estilo bate cabeça"
      ]
    },
    {
      "cell_type": "markdown",
      "metadata": {
        "id": "vbfwr6AuiZ62",
        "colab_type": "text"
      },
      "source": [
        "contexto"
      ]
    },
    {
      "cell_type": "code",
      "metadata": {
        "id": "3z00LFK59rlr",
        "colab_type": "code",
        "colab": {
          "base_uri": "https://localhost:8080/",
          "height": 320
        },
        "outputId": "2cd125dc-fa65-43d4-fd88-e45558f62a0b"
      },
      "source": [
        "dados = tff[['posicao_da_faixa','popularidade']]\n",
        "\n",
        "fig, ax = plt.subplots(figsize = (15,5))\n",
        "\n",
        "dados.plot(kind='line', marker='o', ax=ax)\n",
        "plt.show()\n"
      ],
      "execution_count": 165,
      "outputs": [
        {
          "output_type": "display_data",
          "data": {
            "image/png": "[encoded data removed]",
            "text/plain": [
              "<Figure size 1080x360 with 1 Axes>"
            ]
          },
          "metadata": {
            "tags": []
          }
        }
      ]
    },
    {
      "cell_type": "markdown",
      "metadata": {
        "id": "kca8fobKAZg7",
        "colab_type": "text"
      },
      "source": [
        "Com esse gráfico é possivel observar que a popularidade das faixas tem uma crescente da posição 1 a 4, lembre-se que o gráfico esta representado pelo index, ou seja, a posição 1 começa a partir do 0, mas depois a popularidade descrece de acordo com a posição da faixa...."
      ]
    },
    {
      "cell_type": "markdown",
      "metadata": {
        "id": "jt8LqVxfCkYX",
        "colab_type": "text"
      },
      "source": [
        "contexto"
      ]
    },
    {
      "cell_type": "markdown",
      "metadata": {
        "id": "fnfhrZ-6-w3M",
        "colab_type": "text"
      },
      "source": [
        "**Albúm real plug mix tape**"
      ]
    },
    {
      "cell_type": "code",
      "metadata": {
        "colab_type": "code",
        "id": "fHJWKMl3zanu",
        "colab": {
          "base_uri": "https://localhost:8080/",
          "height": 297
        },
        "outputId": "a148820c-acc9-4b41-ea72-001ec7e06d63"
      },
      "source": [
        "rmx[['nome_da_faixa','posicao_da_faixa', 'popularidade']].reset_index(drop=True)"
      ],
      "execution_count": 166,
      "outputs": [
        {
          "output_type": "execute_result",
          "data": {
            "text/html": [
              "<div>\n",
              "<style scoped>\n",
              "    .dataframe tbody tr th:only-of-type {\n",
              "        vertical-align: middle;\n",
              "    }\n",
              "\n",
              "    .dataframe tbody tr th {\n",
              "        vertical-align: top;\n",
              "    }\n",
              "\n",
              "    .dataframe thead th {\n",
              "        text-align: right;\n",
              "    }\n",
              "</style>\n",
              "<table border=\"1\" class=\"dataframe\">\n",
              "  <thead>\n",
              "    <tr style=\"text-align: right;\">\n",
              "      <th></th>\n",
              "      <th>nome_da_faixa</th>\n",
              "      <th>posicao_da_faixa</th>\n",
              "      <th>popularidade</th>\n",
              "    </tr>\n",
              "  </thead>\n",
              "  <tbody>\n",
              "    <tr>\n",
              "      <th>0</th>\n",
              "      <td>The Train</td>\n",
              "      <td>1</td>\n",
              "      <td>0</td>\n",
              "    </tr>\n",
              "    <tr>\n",
              "      <th>1</th>\n",
              "      <td>Fica Bem</td>\n",
              "      <td>2</td>\n",
              "      <td>0</td>\n",
              "    </tr>\n",
              "    <tr>\n",
              "      <th>2</th>\n",
              "      <td>Gospel</td>\n",
              "      <td>3</td>\n",
              "      <td>0</td>\n",
              "    </tr>\n",
              "    <tr>\n",
              "      <th>3</th>\n",
              "      <td>Nxanx</td>\n",
              "      <td>4</td>\n",
              "      <td>0</td>\n",
              "    </tr>\n",
              "    <tr>\n",
              "      <th>4</th>\n",
              "      <td>Tudo</td>\n",
              "      <td>5</td>\n",
              "      <td>0</td>\n",
              "    </tr>\n",
              "    <tr>\n",
              "      <th>5</th>\n",
              "      <td>A Lei</td>\n",
              "      <td>6</td>\n",
              "      <td>0</td>\n",
              "    </tr>\n",
              "    <tr>\n",
              "      <th>6</th>\n",
              "      <td>Dreams Cup</td>\n",
              "      <td>7</td>\n",
              "      <td>0</td>\n",
              "    </tr>\n",
              "    <tr>\n",
              "      <th>7</th>\n",
              "      <td>2020</td>\n",
              "      <td>8</td>\n",
              "      <td>4</td>\n",
              "    </tr>\n",
              "  </tbody>\n",
              "</table>\n",
              "</div>"
            ],
            "text/plain": [
              "  nome_da_faixa  posicao_da_faixa  popularidade\n",
              "0     The Train                 1             0\n",
              "1      Fica Bem                 2             0\n",
              "2        Gospel                 3             0\n",
              "3         Nxanx                 4             0\n",
              "4          Tudo                 5             0\n",
              "5         A Lei                 6             0\n",
              "6    Dreams Cup                 7             0\n",
              "7          2020                 8             4"
            ]
          },
          "metadata": {
            "tags": []
          },
          "execution_count": 166
        }
      ]
    },
    {
      "cell_type": "markdown",
      "metadata": {
        "id": "4z4TxyGQbZ2_",
        "colab_type": "text"
      },
      "source": [
        "Como dito anteriormente é possivel observar que a faixa 2020 é de fato um sucesso, por que se analisarmos as musicas que estão na ultima posição de cada album, em sua maioria são as menos ouvidas."
      ]
    },
    {
      "cell_type": "markdown",
      "metadata": {
        "id": "UnI2poN055zE",
        "colab_type": "text"
      },
      "source": [
        "É incrivel como 2020 ainda possui um alcance grande, mesmo que a popularidade esteja pequena, é uma musica que está a frente de grandes faixas do recente album lançado, tff, como a faixa Wow."
      ]
    },
    {
      "cell_type": "code",
      "metadata": {
        "id": "yZYRcvzcjo1G",
        "colab_type": "code",
        "colab": {
          "base_uri": "https://localhost:8080/",
          "height": 320
        },
        "outputId": "f810870b-7e4d-40ce-cf40-3d8f12fa8143"
      },
      "source": [
        "dados = rmx[['posicao_da_faixa','popularidade']]\n",
        "\n",
        "fig, ax = plt.subplots(figsize = (15,5))\n",
        "\n",
        "dados.plot(kind='line', marker='o', ax=ax)\n",
        "plt.show()"
      ],
      "execution_count": 167,
      "outputs": [
        {
          "output_type": "display_data",
          "data": {
            "image/png": "[encoded data removed]",
            "text/plain": [
              "<Figure size 1080x360 with 1 Axes>"
            ]
          },
          "metadata": {
            "tags": []
          }
        }
      ]
    },
    {
      "cell_type": "markdown",
      "metadata": {
        "id": "mMtsqeUXj1t3",
        "colab_type": "text"
      },
      "source": [
        "Nesse albúm é possivel observar claramente que quando uma faixa é um sucesso a ordem não importa, e por ser o primeiro albúm do artista, é o menos ouvido atualmente e sua unica musica que esta popular no momento é a faixa 2020 que se encontra na ultima posição."
      ]
    },
    {
      "cell_type": "markdown",
      "metadata": {
        "id": "fbYHeqJokQUw",
        "colab_type": "text"
      },
      "source": [
        "contexto"
      ]
    },
    {
      "cell_type": "markdown",
      "metadata": {
        "id": "SqxqMFVZ-3mB",
        "colab_type": "text"
      },
      "source": [
        "**Albúm trap de cria**"
      ]
    },
    {
      "cell_type": "code",
      "metadata": {
        "colab_type": "code",
        "id": "s9d19YcCzany",
        "colab": {
          "base_uri": "https://localhost:8080/",
          "height": 359
        },
        "outputId": "2da244e9-e421-4643-9b22-8d7368448485"
      },
      "source": [
        "tcm[['nome_da_faixa','posicao_da_faixa', 'popularidade']].reset_index(drop=True)"
      ],
      "execution_count": 168,
      "outputs": [
        {
          "output_type": "execute_result",
          "data": {
            "text/html": [
              "<div>\n",
              "<style scoped>\n",
              "    .dataframe tbody tr th:only-of-type {\n",
              "        vertical-align: middle;\n",
              "    }\n",
              "\n",
              "    .dataframe tbody tr th {\n",
              "        vertical-align: top;\n",
              "    }\n",
              "\n",
              "    .dataframe thead th {\n",
              "        text-align: right;\n",
              "    }\n",
              "</style>\n",
              "<table border=\"1\" class=\"dataframe\">\n",
              "  <thead>\n",
              "    <tr style=\"text-align: right;\">\n",
              "      <th></th>\n",
              "      <th>nome_da_faixa</th>\n",
              "      <th>posicao_da_faixa</th>\n",
              "      <th>popularidade</th>\n",
              "    </tr>\n",
              "  </thead>\n",
              "  <tbody>\n",
              "    <tr>\n",
              "      <th>0</th>\n",
              "      <td>Trap de Cria</td>\n",
              "      <td>1</td>\n",
              "      <td>9</td>\n",
              "    </tr>\n",
              "    <tr>\n",
              "      <th>1</th>\n",
              "      <td>A Lista das Bandidas</td>\n",
              "      <td>2</td>\n",
              "      <td>2</td>\n",
              "    </tr>\n",
              "    <tr>\n",
              "      <th>2</th>\n",
              "      <td>A3</td>\n",
              "      <td>3</td>\n",
              "      <td>1</td>\n",
              "    </tr>\n",
              "    <tr>\n",
              "      <th>3</th>\n",
              "      <td>E Ai Fake</td>\n",
              "      <td>4</td>\n",
              "      <td>1</td>\n",
              "    </tr>\n",
              "    <tr>\n",
              "      <th>4</th>\n",
              "      <td>Video Call</td>\n",
              "      <td>5</td>\n",
              "      <td>1</td>\n",
              "    </tr>\n",
              "    <tr>\n",
              "      <th>5</th>\n",
              "      <td>Aliviando o Stress</td>\n",
              "      <td>6</td>\n",
              "      <td>1</td>\n",
              "    </tr>\n",
              "    <tr>\n",
              "      <th>6</th>\n",
              "      <td>Hino dos Irmãos</td>\n",
              "      <td>7</td>\n",
              "      <td>1</td>\n",
              "    </tr>\n",
              "    <tr>\n",
              "      <th>7</th>\n",
              "      <td>Bebê da Cara de Mal</td>\n",
              "      <td>8</td>\n",
              "      <td>1</td>\n",
              "    </tr>\n",
              "    <tr>\n",
              "      <th>8</th>\n",
              "      <td>Isso Que É Foda</td>\n",
              "      <td>9</td>\n",
              "      <td>4</td>\n",
              "    </tr>\n",
              "    <tr>\n",
              "      <th>9</th>\n",
              "      <td>Pjl</td>\n",
              "      <td>10</td>\n",
              "      <td>0</td>\n",
              "    </tr>\n",
              "  </tbody>\n",
              "</table>\n",
              "</div>"
            ],
            "text/plain": [
              "          nome_da_faixa  posicao_da_faixa  popularidade\n",
              "0          Trap de Cria                 1             9\n",
              "1  A Lista das Bandidas                 2             2\n",
              "2                    A3                 3             1\n",
              "3             E Ai Fake                 4             1\n",
              "4            Video Call                 5             1\n",
              "5    Aliviando o Stress                 6             1\n",
              "6       Hino dos Irmãos                 7             1\n",
              "7   Bebê da Cara de Mal                 8             1\n",
              "8       Isso Que É Foda                 9             4\n",
              "9                   Pjl                10             0"
            ]
          },
          "metadata": {
            "tags": []
          },
          "execution_count": 168
        }
      ]
    },
    {
      "cell_type": "markdown",
      "metadata": {
        "id": "AGiNbIQHbuyl",
        "colab_type": "text"
      },
      "source": [
        "Assim como no album TFF, a musica mais popular deste album é a que está na primeira posição, vale resaltar que a musica Trap de cria é a musica mais popular de todos os albuns, como foi visto anteriormente."
      ]
    },
    {
      "cell_type": "code",
      "metadata": {
        "id": "Vev8EO2mk1qv",
        "colab_type": "code",
        "colab": {
          "base_uri": "https://localhost:8080/",
          "height": 320
        },
        "outputId": "52b02bd4-6d1b-4677-8b7c-356906a177f7"
      },
      "source": [
        "dados = tcm[['posicao_da_faixa','popularidade']]\n",
        "\n",
        "fig, ax = plt.subplots(figsize = (15,5))\n",
        "\n",
        "dados.plot(kind='line', marker='o', ax=ax)\n",
        "plt.show()"
      ],
      "execution_count": 169,
      "outputs": [
        {
          "output_type": "display_data",
          "data": {
            "image/png": "[encoded data removed]",
            "text/plain": [
              "<Figure size 1080x360 with 1 Axes>"
            ]
          },
          "metadata": {
            "tags": []
          }
        }
      ]
    },
    {
      "cell_type": "markdown",
      "metadata": {
        "id": "QbhGuMA0lTFk",
        "colab_type": "text"
      },
      "source": [
        "contexto"
      ]
    },
    {
      "cell_type": "markdown",
      "metadata": {
        "id": "RCCJ9Lbw6kpu",
        "colab_type": "text"
      },
      "source": [
        "contexto... O que fica claro é que a popularidade das faixas só tem relação com a posição para a primeira música de cada albúm, devido ao que foi explicado..."
      ]
    },
    {
      "cell_type": "markdown",
      "metadata": {
        "id": "vLnoTPlPszpz",
        "colab_type": "text"
      },
      "source": [
        "Ainda podemos fazer uma correlção da popularidade com a posição das faixas para comprovar se realmente a posição da faixa não tem relação com a popularidade. Aplicando o metodo de correlação de estatistica multivariada."
      ]
    },
    {
      "cell_type": "markdown",
      "metadata": {
        "id": "F8NVd0VMlYXD",
        "colab_type": "text"
      },
      "source": [
        "**Correlação (Estatística Multivariada)**"
      ]
    },
    {
      "cell_type": "markdown",
      "metadata": {
        "id": "6OkS3dqgloMD",
        "colab_type": "text"
      },
      "source": [
        "contexto"
      ]
    },
    {
      "cell_type": "code",
      "metadata": {
        "colab_type": "code",
        "id": "DgUnLdcCs-qx",
        "colab": {
          "base_uri": "https://localhost:8080/",
          "height": 111
        },
        "outputId": "699c35ef-d6dc-4c26-db83-2aa19a008af5"
      },
      "source": [
        "df[['posicao_da_faixa', 'popularidade']].corr(method='spearman')"
      ],
      "execution_count": 170,
      "outputs": [
        {
          "output_type": "execute_result",
          "data": {
            "text/html": [
              "<div>\n",
              "<style scoped>\n",
              "    .dataframe tbody tr th:only-of-type {\n",
              "        vertical-align: middle;\n",
              "    }\n",
              "\n",
              "    .dataframe tbody tr th {\n",
              "        vertical-align: top;\n",
              "    }\n",
              "\n",
              "    .dataframe thead th {\n",
              "        text-align: right;\n",
              "    }\n",
              "</style>\n",
              "<table border=\"1\" class=\"dataframe\">\n",
              "  <thead>\n",
              "    <tr style=\"text-align: right;\">\n",
              "      <th></th>\n",
              "      <th>posicao_da_faixa</th>\n",
              "      <th>popularidade</th>\n",
              "    </tr>\n",
              "  </thead>\n",
              "  <tbody>\n",
              "    <tr>\n",
              "      <th>posicao_da_faixa</th>\n",
              "      <td>1.000000</td>\n",
              "      <td>0.034384</td>\n",
              "    </tr>\n",
              "    <tr>\n",
              "      <th>popularidade</th>\n",
              "      <td>0.034384</td>\n",
              "      <td>1.000000</td>\n",
              "    </tr>\n",
              "  </tbody>\n",
              "</table>\n",
              "</div>"
            ],
            "text/plain": [
              "                  posicao_da_faixa  popularidade\n",
              "posicao_da_faixa          1.000000      0.034384\n",
              "popularidade              0.034384      1.000000"
            ]
          },
          "metadata": {
            "tags": []
          },
          "execution_count": 170
        }
      ]
    },
    {
      "cell_type": "markdown",
      "metadata": {
        "id": "kHyAJGqVij9U",
        "colab_type": "text"
      },
      "source": [
        "Contexto sobre os metodos de correlação/correlação e estatistica multivariada.."
      ]
    },
    {
      "cell_type": "markdown",
      "metadata": {
        "id": "8acUvbu9NgJ6",
        "colab_type": "text"
      },
      "source": [
        "Usamos o metodo spearman de correlação, um dos mais  famosos.... "
      ]
    },
    {
      "cell_type": "markdown",
      "metadata": {
        "id": "vJ-ki96stAFs",
        "colab_type": "text"
      },
      "source": [
        "Nota-se que existe uma correlação muito fraca da posição da faixa com a popularidade"
      ]
    },
    {
      "cell_type": "markdown",
      "metadata": {
        "id": "uUBQP629luER",
        "colab_type": "text"
      },
      "source": [
        "E se usarmos o outro metodo.. também um dos mais famosos, o metodo...."
      ]
    },
    {
      "cell_type": "code",
      "metadata": {
        "id": "Bzcl0InFpoVb",
        "colab_type": "code",
        "colab": {
          "base_uri": "https://localhost:8080/",
          "height": 284
        },
        "outputId": "0df79da1-c7ef-4049-b5fc-30b7e8f41ba5"
      },
      "source": [
        "df[['posicao_da_faixa', 'popularidade']].corr(method='')"
      ],
      "execution_count": 171,
      "outputs": [
        {
          "output_type": "error",
          "ename": "ValueError",
          "evalue": "ignored",
          "traceback": [
            "\u001b[0;31m---------------------------------------------------------------------------\u001b[0m",
            "\u001b[0;31mValueError\u001b[0m                                Traceback (most recent call last)",
            "\u001b[0;32m<ipython-input-171-1cab02357acb>\u001b[0m in \u001b[0;36m<module>\u001b[0;34m()\u001b[0m\n\u001b[0;32m----> 1\u001b[0;31m \u001b[0mdf\u001b[0m\u001b[0;34m[\u001b[0m\u001b[0;34m[\u001b[0m\u001b[0;34m'posicao_da_faixa'\u001b[0m\u001b[0;34m,\u001b[0m \u001b[0;34m'popularidade'\u001b[0m\u001b[0;34m]\u001b[0m\u001b[0;34m]\u001b[0m\u001b[0;34m.\u001b[0m\u001b[0mcorr\u001b[0m\u001b[0;34m(\u001b[0m\u001b[0mmethod\u001b[0m\u001b[0;34m=\u001b[0m\u001b[0;34m''\u001b[0m\u001b[0;34m)\u001b[0m\u001b[0;34m\u001b[0m\u001b[0;34m\u001b[0m\u001b[0m\n\u001b[0m",
            "\u001b[0;32m/usr/local/lib/python3.6/dist-packages/pandas/core/frame.py\u001b[0m in \u001b[0;36mcorr\u001b[0;34m(self, method, min_periods)\u001b[0m\n\u001b[1;32m   7493\u001b[0m         \u001b[0;32melse\u001b[0m\u001b[0;34m:\u001b[0m\u001b[0;34m\u001b[0m\u001b[0;34m\u001b[0m\u001b[0m\n\u001b[1;32m   7494\u001b[0m             raise ValueError(\n\u001b[0;32m-> 7495\u001b[0;31m                 \u001b[0;34m\"method must be either 'pearson', \"\u001b[0m\u001b[0;34m\u001b[0m\u001b[0;34m\u001b[0m\u001b[0m\n\u001b[0m\u001b[1;32m   7496\u001b[0m                 \u001b[0;34m\"'spearman', 'kendall', or a callable, \"\u001b[0m\u001b[0;34m\u001b[0m\u001b[0;34m\u001b[0m\u001b[0m\n\u001b[1;32m   7497\u001b[0m                 \u001b[0;34mf\"'{method}' was supplied\"\u001b[0m\u001b[0;34m\u001b[0m\u001b[0;34m\u001b[0m\u001b[0m\n",
            "\u001b[0;31mValueError\u001b[0m: method must be either 'pearson', 'spearman', 'kendall', or a callable, '' was supplied"
          ]
        }
      ]
    },
    {
      "cell_type": "markdown",
      "metadata": {
        "id": "VPmj1RAIppAP",
        "colab_type": "text"
      },
      "source": [
        "contexto"
      ]
    },
    {
      "cell_type": "markdown",
      "metadata": {
        "id": "jMd-sXZO4DdM",
        "colab_type": "text"
      },
      "source": [
        "### **Q5: Qual a classificação da popularidade?**"
      ]
    },
    {
      "cell_type": "markdown",
      "metadata": {
        "id": "EDmpCSGVNuiS",
        "colab_type": "text"
      },
      "source": [
        "Agora vou investigar mais essa coluna da popularidade para buscar algumas informações aplicando metodos estatisticos."
      ]
    },
    {
      "cell_type": "markdown",
      "metadata": {
        "id": "ttJNmsidN7rf",
        "colab_type": "text"
      },
      "source": [
        "Primeiro vamos observar um resumo estatistico dos dados..."
      ]
    },
    {
      "cell_type": "code",
      "metadata": {
        "id": "snKFJ6zSfA9f",
        "colab_type": "code",
        "colab": {}
      },
      "source": [
        "df['popularidade'].describe()"
      ],
      "execution_count": null,
      "outputs": []
    },
    {
      "cell_type": "markdown",
      "metadata": {
        "id": "xHevi9HAi4Te",
        "colab_type": "text"
      },
      "source": [
        "contexto... A popularidade mais alta é 17 e a menor é 0 ...."
      ]
    },
    {
      "cell_type": "markdown",
      "metadata": {
        "id": "V9kN7wBlONc8",
        "colab_type": "text"
      },
      "source": [
        "Agora irei aplicar estatistica descritiva univariada para explorar mais a coluna popularidade..."
      ]
    },
    {
      "cell_type": "markdown",
      "metadata": {
        "id": "ZCU8FSrjOFNk",
        "colab_type": "text"
      },
      "source": [
        "### **Aplicando estatistica descritiva univariada**"
      ]
    },
    {
      "cell_type": "markdown",
      "metadata": {
        "id": "cJPGRw9MbTbf",
        "colab_type": "text"
      },
      "source": [
        "contexto... Sobre estatistica descritiva univariada"
      ]
    },
    {
      "cell_type": "markdown",
      "metadata": {
        "id": "T_5itYEqgW-D",
        "colab_type": "text"
      },
      "source": [
        "### **Q6: Qual a media de popularidade?**"
      ]
    },
    {
      "cell_type": "markdown",
      "metadata": {
        "id": "KO6yH_BKjQ1o",
        "colab_type": "text"
      },
      "source": [
        "contexto.. Media de todos os albuns"
      ]
    },
    {
      "cell_type": "markdown",
      "metadata": {
        "id": "OtEzk1hGOZ53",
        "colab_type": "text"
      },
      "source": [
        "Contexto falar um pouco sobre a media...O calculo da média é feito de forma que... FOTO DA FUNÇÃO"
      ]
    },
    {
      "cell_type": "code",
      "metadata": {
        "id": "4Yk4Lg9PAG1z",
        "colab_type": "code",
        "colab": {}
      },
      "source": [
        "df['popularidade'].mean()"
      ],
      "execution_count": null,
      "outputs": []
    },
    {
      "cell_type": "markdown",
      "metadata": {
        "id": "6QTQggHgjUKu",
        "colab_type": "text"
      },
      "source": [
        "contexto"
      ]
    },
    {
      "cell_type": "markdown",
      "metadata": {
        "id": "wmved-zVOxYo",
        "colab_type": "text"
      },
      "source": [
        "### **Q7: Qual a média da popularidade por albúm?**"
      ]
    },
    {
      "cell_type": "code",
      "metadata": {
        "id": "BVSHf8Ayge-c",
        "colab_type": "code",
        "colab": {}
      },
      "source": [
        "media_popularidade = df.groupby('nome_do_album')['popularidade'].mean().reset_index().sort_values(ascending=False, by='popularidade')\n",
        "media_popularidade "
      ],
      "execution_count": null,
      "outputs": []
    },
    {
      "cell_type": "markdown",
      "metadata": {
        "id": "VFgZRTZQk14N",
        "colab_type": "text"
      },
      "source": [
        "contexto... Album TFF com popularidade acima da media, isso se da devido que é o album mais recente..."
      ]
    },
    {
      "cell_type": "markdown",
      "metadata": {
        "id": "mPf1-O1BPB6l",
        "colab_type": "text"
      },
      "source": [
        "Agora irei aplicar um pouco de engenharia de recursos e criar uma nova coluna de acordo com a popularidade..."
      ]
    },
    {
      "cell_type": "markdown",
      "metadata": {
        "id": "AC37_D0Aklku",
        "colab_type": "text"
      },
      "source": [
        "### **Construindo uma nova coluna de acordo com a media da popularidade**"
      ]
    },
    {
      "cell_type": "markdown",
      "metadata": {
        "id": "Nr_mKXIYUJYw",
        "colab_type": "text"
      },
      "source": [
        "É importante construir novas colunas ou novos recursos, por criar outras maneiras de utilizar os dados.... Contexto (Engenharia de Recursos)"
      ]
    },
    {
      "cell_type": "code",
      "metadata": {
        "id": "QvZWMGY5jb7B",
        "colab_type": "code",
        "colab": {}
      },
      "source": [
        "df['popularidade_por_faixa'] = ['Alta' if x > 2.60 else 'Baixo' for x in df['popularidade']]"
      ],
      "execution_count": null,
      "outputs": []
    },
    {
      "cell_type": "markdown",
      "metadata": {
        "id": "wEsVF002MrEH",
        "colab_type": "text"
      },
      "source": [
        "Se a faixa estiver com uma popularidade acima de 2.60, está com a popularidade alta, tendo em vista que a media da popularidade é 2.60."
      ]
    },
    {
      "cell_type": "markdown",
      "metadata": {
        "id": "CHq1twc2cMUX",
        "colab_type": "text"
      },
      "source": [
        "Lembrar de alterar isso de acordo com a media atual...."
      ]
    },
    {
      "cell_type": "code",
      "metadata": {
        "id": "RenmRqPLkL0z",
        "colab_type": "code",
        "colab": {}
      },
      "source": [
        "df.head()"
      ],
      "execution_count": null,
      "outputs": []
    },
    {
      "cell_type": "markdown",
      "metadata": {
        "id": "y-8O_kNgPqAw",
        "colab_type": "text"
      },
      "source": [
        "A partir da construção dessa nova coluna podemos trabalhar e usar mais os nossos dados, que é o objetivo da engenharia de recursos, de forma que a partir dessa nova coluna surgem mais perguntas."
      ]
    },
    {
      "cell_type": "markdown",
      "metadata": {
        "id": "WK2_Lxl5QPAD",
        "colab_type": "text"
      },
      "source": [
        "Por isso é sempre bom começar com perguntas simples e ir aumentando suas complexidades conforme vai conhecendo e explorandos os dados..."
      ]
    },
    {
      "cell_type": "markdown",
      "metadata": {
        "id": "EfpaMQwDlRE1",
        "colab_type": "text"
      },
      "source": [
        "### **Q8: Quantas faixas estão em alta?**"
      ]
    },
    {
      "cell_type": "code",
      "metadata": {
        "id": "Ym-5PVfckNF8",
        "colab_type": "code",
        "colab": {}
      },
      "source": [
        "df['popularidade_por_faixa'].value_counts()"
      ],
      "execution_count": null,
      "outputs": []
    },
    {
      "cell_type": "markdown",
      "metadata": {
        "id": "C5aS9GthcXaj",
        "colab_type": "text"
      },
      "source": [
        "contexto"
      ]
    },
    {
      "cell_type": "markdown",
      "metadata": {
        "id": "urm17_2xlYlx",
        "colab_type": "text"
      },
      "source": [
        "### **Q9: Quais são as faixas que estão popular no momento?**"
      ]
    },
    {
      "cell_type": "code",
      "metadata": {
        "id": "mGI6J9PBlM_K",
        "colab_type": "code",
        "colab": {}
      },
      "source": [
        "df.query(\"popularidade_por_faixa == 'Alta'\").sort_values(ascending=False, by='popularidade').reset_index()[['nome_do_album', 'nome_da_faixa', 'popularidade', 'popularidade_por_faixa']]"
      ],
      "execution_count": null,
      "outputs": []
    },
    {
      "cell_type": "markdown",
      "metadata": {
        "id": "U_sac3MDo2tH",
        "colab_type": "text"
      },
      "source": [
        "contexto"
      ]
    },
    {
      "cell_type": "markdown",
      "metadata": {
        "id": "D0Lb0UONQuAM",
        "colab_type": "text"
      },
      "source": [
        "### **Q10: Quantas faixas que estão em alta não estão na primeira posição do albúm?**"
      ]
    },
    {
      "cell_type": "markdown",
      "metadata": {
        "id": "tJR9Wgn7RDx6",
        "colab_type": "text"
      },
      "source": [
        "contexto"
      ]
    },
    {
      "cell_type": "code",
      "metadata": {
        "id": "R0qp39KDRFK-",
        "colab_type": "code",
        "colab": {}
      },
      "source": [
        "df.query(\"popularidade_por_faixa == 'Alta' & posicao_da_faixa != '1' \").sort_values(ascending=False, by='popularidade').reset_index()[['nome_do_album', 'nome_da_faixa', 'posicao_da_faixa', 'popularidade', 'popularidade_por_faixa']]"
      ],
      "execution_count": null,
      "outputs": []
    },
    {
      "cell_type": "markdown",
      "metadata": {
        "id": "oqL9X8vwRfBF",
        "colab_type": "text"
      },
      "source": [
        "Ou seja mais da metade das faixas que estão em alta não estão na primeira posição do albúm... Comprovando o que observamos que a posicao da faixa não tem relação com a popularidade..."
      ]
    },
    {
      "cell_type": "markdown",
      "metadata": {
        "id": "RLwOu9nAos6-",
        "colab_type": "text"
      },
      "source": [
        "### **Aplicando um pouco mais de estatistica descritiva univariada**"
      ]
    },
    {
      "cell_type": "markdown",
      "metadata": {
        "id": "s9jDRnA6oz1l",
        "colab_type": "text"
      },
      "source": [
        "contexto... Já aplicamos um pouco de estatistica descritiva univariada quando visualizamos a média da popularidade das faixas, agora vamos aplicar outros metodos estatisticos..."
      ]
    },
    {
      "cell_type": "markdown",
      "metadata": {
        "id": "hlGc_VpuqeZt",
        "colab_type": "text"
      },
      "source": [
        "**contruir BONS GRAFICOS para cada metodo estatistico de acordo com os estudos E FALAR MAIS SOBRE ESTATISTICA, ESPECIFICAMENTE TESTE DE HIPOTESE**"
      ]
    },
    {
      "cell_type": "markdown",
      "metadata": {
        "id": "wrNRnLhzqlH3",
        "colab_type": "text"
      },
      "source": [
        "contexto"
      ]
    },
    {
      "cell_type": "markdown",
      "metadata": {
        "id": "29UmX_TYqmZa",
        "colab_type": "text"
      },
      "source": [
        "**Mediana**"
      ]
    },
    {
      "cell_type": "markdown",
      "metadata": {
        "id": "tc-91h4Sqqfs",
        "colab_type": "text"
      },
      "source": [
        "contexto sobre mediana"
      ]
    },
    {
      "cell_type": "code",
      "metadata": {
        "id": "5ejSwV9eqpMj",
        "colab_type": "code",
        "colab": {}
      },
      "source": [
        "df.median()"
      ],
      "execution_count": null,
      "outputs": []
    },
    {
      "cell_type": "markdown",
      "metadata": {
        "id": "rn2tDmOVqsL3",
        "colab_type": "text"
      },
      "source": [
        "**Moda**"
      ]
    },
    {
      "cell_type": "markdown",
      "metadata": {
        "id": "kDD4OGiwquFe",
        "colab_type": "text"
      },
      "source": [
        "contexto sobre mode"
      ]
    },
    {
      "cell_type": "code",
      "metadata": {
        "id": "oaHkmzLiqv7A",
        "colab_type": "code",
        "colab": {}
      },
      "source": [
        "df.mode()"
      ],
      "execution_count": null,
      "outputs": []
    },
    {
      "cell_type": "markdown",
      "metadata": {
        "id": "j4UtIUbgpBPQ",
        "colab_type": "text"
      },
      "source": [
        "**Desvio padrão**"
      ]
    },
    {
      "cell_type": "markdown",
      "metadata": {
        "id": "yMOiRxVapOia",
        "colab_type": "text"
      },
      "source": [
        "contexto sobre desvio padrao"
      ]
    },
    {
      "cell_type": "code",
      "metadata": {
        "id": "_w0PxUYJpCjO",
        "colab_type": "code",
        "colab": {}
      },
      "source": [
        "#desvio padrao\n",
        "df.std()"
      ],
      "execution_count": null,
      "outputs": []
    },
    {
      "cell_type": "markdown",
      "metadata": {
        "id": "rkCJeszCqXJW",
        "colab_type": "text"
      },
      "source": [
        "**Box plot**"
      ]
    },
    {
      "cell_type": "markdown",
      "metadata": {
        "id": "kspDbcqzpikl",
        "colab_type": "text"
      },
      "source": [
        "contexto sobre box plot...."
      ]
    },
    {
      "cell_type": "code",
      "metadata": {
        "id": "H15XiSULpP5J",
        "colab_type": "code",
        "colab": {}
      },
      "source": [
        "#box plot\n",
        "\n",
        "sns.boxplot(y='nome_da_faixa', x='popularidade', data=tff)"
      ],
      "execution_count": null,
      "outputs": []
    },
    {
      "cell_type": "markdown",
      "metadata": {
        "id": "JhOr48Z8qHoX",
        "colab_type": "text"
      },
      "source": [
        "**Assimetria**"
      ]
    },
    {
      "cell_type": "markdown",
      "metadata": {
        "id": "xKF7bgCcpzie",
        "colab_type": "text"
      },
      "source": [
        "contexto sobre assimetria..."
      ]
    },
    {
      "cell_type": "code",
      "metadata": {
        "id": "2OEq9fndpmzE",
        "colab_type": "code",
        "colab": {}
      },
      "source": [
        "#Assimetria\n",
        "\n",
        "df.skew()"
      ],
      "execution_count": null,
      "outputs": []
    },
    {
      "cell_type": "markdown",
      "metadata": {
        "id": "XEg8veUGqKrV",
        "colab_type": "text"
      },
      "source": [
        "**Kurtossis**"
      ]
    },
    {
      "cell_type": "markdown",
      "metadata": {
        "id": "X6YVOMpyp40k",
        "colab_type": "text"
      },
      "source": [
        "contexto sobre kurtose..."
      ]
    },
    {
      "cell_type": "code",
      "metadata": {
        "id": "7Axxk-Qrp1h0",
        "colab_type": "code",
        "colab": {}
      },
      "source": [
        "#Kurtose\n",
        "df.kurt()"
      ],
      "execution_count": null,
      "outputs": []
    },
    {
      "cell_type": "markdown",
      "metadata": {
        "id": "4Jv-JVLynVXG",
        "colab_type": "text"
      },
      "source": [
        "A exploração dos dados deve chegar ao fim quando o pessoal da área de negocios se sentirem satisfeitos ou quando os objetivos das informações retiradas dos dados forem alcançados....."
      ]
    },
    {
      "cell_type": "markdown",
      "metadata": {
        "id": "YfSoyJj2Shx1",
        "colab_type": "text"
      },
      "source": [
        "### **Perguntas e hipoteses respondidas na analise exploratoria de dados:**"
      ]
    },
    {
      "cell_type": "markdown",
      "metadata": {
        "id": "fI6PSveOSrvx",
        "colab_type": "text"
      },
      "source": [
        "* Q1 = \n",
        "* Q2 = \n",
        "* Q3 = "
      ]
    },
    {
      "cell_type": "markdown",
      "metadata": {
        "id": "wYvTnDrzMP5O",
        "colab_type": "text"
      },
      "source": [
        "##**Gravar arquivo XLSX para criar dashboard**"
      ]
    },
    {
      "cell_type": "markdown",
      "metadata": {
        "id": "S9OQOGItTss8",
        "colab_type": "text"
      },
      "source": [
        "Vamos agora gravar o nosso arquivo no formato CSV para criar a nossa aplicação/dashboard com Python."
      ]
    },
    {
      "cell_type": "code",
      "metadata": {
        "id": "c7KaO6dyT4ji",
        "colab_type": "code",
        "colab": {}
      },
      "source": [
        "dataset.to_csv('NexoAnexo')"
      ],
      "execution_count": null,
      "outputs": []
    },
    {
      "cell_type": "markdown",
      "metadata": {
        "id": "uFAeUPK1z32m",
        "colab_type": "text"
      },
      "source": [
        "## **Construindo Aplicação/Dashboard com Python + Deploy com Heroku**"
      ]
    },
    {
      "cell_type": "markdown",
      "metadata": {
        "id": "Q8fpHASd1AyJ",
        "colab_type": "text"
      },
      "source": [
        "### **Aplicação com streamlit**"
      ]
    },
    {
      "cell_type": "markdown",
      "metadata": {
        "id": "5H06Jd4K2xog",
        "colab_type": "text"
      },
      "source": [
        "Explicar streamlit, framework do python excelente para construir dashboard de visualização de dados...."
      ]
    },
    {
      "cell_type": "markdown",
      "metadata": {
        "id": "x4_fMnwy1ER_",
        "colab_type": "text"
      },
      "source": [
        "### **Colocar disponivel com Heroku**"
      ]
    },
    {
      "cell_type": "markdown",
      "metadata": {
        "id": "vVPUOTI4z8Mv",
        "colab_type": "text"
      },
      "source": [
        "Ensinar os passos a passos para colocar a aplicação no ar com heroku: \n",
        "\n",
        "https://medium.com/@gustavo_domingues/como-fazer-deploy-de-sua-aplica%C3%A7%C3%A3o-streamlit-no-heroku-5fc1d2609df7#:~:text=email%40dominio.com-,Deploy,site%2C%20ent%C3%A3o%20escolha%20algo%20legal.&text=Sempre%20que%20quiser%20atualizar%20ou,basta%20seguir%20os%20passos%20abaixo.\n",
        "\n",
        "https://www.youtube.com/watch?v=mQ7rGcE766k&list=WL&index=2&t=0s\n",
        "\n",
        "\n"
      ]
    },
    {
      "cell_type": "markdown",
      "metadata": {
        "id": "GzBUCnWA26pN",
        "colab_type": "text"
      },
      "source": [
        "contexto"
      ]
    },
    {
      "cell_type": "markdown",
      "metadata": {
        "id": "5nCz30FdoToT",
        "colab_type": "text"
      },
      "source": [
        "## **Como ajuda o negócio?**"
      ]
    },
    {
      "cell_type": "markdown",
      "metadata": {
        "id": "H6kUDADcCjKa",
        "colab_type": "text"
      },
      "source": [
        "##**Referencias**\n",
        "\n",
        "https://towardsdatascience.com/getting-started-to-data-analysis-with-python-pandas-with-titanic-dataset-a195ab043c77\n",
        "\n",
        "https://pt.qwe.wiki/wiki/Missing_data\n",
        "\n",
        "https://medium.com/@lucasoliveiras/limpeza-e-prepara%C3%A7%C3%A3o-dos-dados-com-pandas-856e844abfbb\n",
        "\n",
        "https://colab.research.google.com/drive/1Sn8uueWB9PpF8bg62Ef_qseKChnp8biq\n",
        "\n",
        "colocar artigos dos fav de analise exploratoria "
      ]
    },
    {
      "cell_type": "code",
      "metadata": {
        "id": "4HWJBB2hpwqi",
        "colab_type": "code",
        "colab": {}
      },
      "source": [
        ""
      ],
      "execution_count": null,
      "outputs": []
    }
  ]
}